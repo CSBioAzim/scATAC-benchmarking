{
 "cells": [
  {
   "cell_type": "markdown",
   "metadata": {},
   "source": [
    "### Installation"
   ]
  },
  {
   "cell_type": "markdown",
   "metadata": {},
   "source": [
    "`conda install bioconductor-genomicranges bioconductor-summarizedexperiment -y`  \n",
    "\n",
    "`R`  \n",
    "`devtools::install_github(\"caleblareau/BuenColors\")`"
   ]
  },
  {
   "cell_type": "code",
   "execution_count": null,
   "metadata": {},
   "outputs": [],
   "source": []
  },
  {
   "cell_type": "markdown",
   "metadata": {},
   "source": [
    "### Import packages"
   ]
  },
  {
   "cell_type": "code",
   "execution_count": 1,
   "metadata": {
    "scrolled": true
   },
   "outputs": [
    {
     "name": "stderr",
     "output_type": "stream",
     "text": [
      "Loading required package: stats4\n",
      "Loading required package: BiocGenerics\n",
      "Loading required package: parallel\n",
      "\n",
      "Attaching package: ‘BiocGenerics’\n",
      "\n",
      "The following objects are masked from ‘package:parallel’:\n",
      "\n",
      "    clusterApply, clusterApplyLB, clusterCall, clusterEvalQ,\n",
      "    clusterExport, clusterMap, parApply, parCapply, parLapply,\n",
      "    parLapplyLB, parRapply, parSapply, parSapplyLB\n",
      "\n",
      "The following objects are masked from ‘package:stats’:\n",
      "\n",
      "    IQR, mad, sd, var, xtabs\n",
      "\n",
      "The following objects are masked from ‘package:base’:\n",
      "\n",
      "    anyDuplicated, append, as.data.frame, basename, cbind, colMeans,\n",
      "    colnames, colSums, dirname, do.call, duplicated, eval, evalq,\n",
      "    Filter, Find, get, grep, grepl, intersect, is.unsorted, lapply,\n",
      "    lengths, Map, mapply, match, mget, order, paste, pmax, pmax.int,\n",
      "    pmin, pmin.int, Position, rank, rbind, Reduce, rowMeans, rownames,\n",
      "    rowSums, sapply, setdiff, sort, table, tapply, union, unique,\n",
      "    unsplit, which, which.max, which.min\n",
      "\n",
      "Loading required package: S4Vectors\n",
      "\n",
      "Attaching package: ‘S4Vectors’\n",
      "\n",
      "The following object is masked from ‘package:base’:\n",
      "\n",
      "    expand.grid\n",
      "\n",
      "Loading required package: IRanges\n",
      "Loading required package: GenomeInfoDb\n",
      "Loading required package: Biobase\n",
      "Welcome to Bioconductor\n",
      "\n",
      "    Vignettes contain introductory material; view with\n",
      "    'browseVignettes()'. To cite Bioconductor, see\n",
      "    'citation(\"Biobase\")', and for packages 'citation(\"pkgname\")'.\n",
      "\n",
      "Loading required package: DelayedArray\n",
      "Loading required package: matrixStats\n",
      "\n",
      "Attaching package: ‘matrixStats’\n",
      "\n",
      "The following objects are masked from ‘package:Biobase’:\n",
      "\n",
      "    anyMissing, rowMedians\n",
      "\n",
      "Loading required package: BiocParallel\n",
      "\n",
      "Attaching package: ‘DelayedArray’\n",
      "\n",
      "The following objects are masked from ‘package:matrixStats’:\n",
      "\n",
      "    colMaxs, colMins, colRanges, rowMaxs, rowMins, rowRanges\n",
      "\n",
      "The following objects are masked from ‘package:base’:\n",
      "\n",
      "    aperm, apply\n",
      "\n",
      "\n",
      "Attaching package: ‘data.table’\n",
      "\n",
      "The following object is masked from ‘package:SummarizedExperiment’:\n",
      "\n",
      "    shift\n",
      "\n",
      "The following object is masked from ‘package:GenomicRanges’:\n",
      "\n",
      "    shift\n",
      "\n",
      "The following object is masked from ‘package:IRanges’:\n",
      "\n",
      "    shift\n",
      "\n",
      "The following objects are masked from ‘package:S4Vectors’:\n",
      "\n",
      "    first, second\n",
      "\n",
      "\n",
      "Attaching package: ‘dplyr’\n",
      "\n",
      "The following objects are masked from ‘package:data.table’:\n",
      "\n",
      "    between, first, last\n",
      "\n",
      "The following object is masked from ‘package:matrixStats’:\n",
      "\n",
      "    count\n",
      "\n",
      "The following object is masked from ‘package:Biobase’:\n",
      "\n",
      "    combine\n",
      "\n",
      "The following objects are masked from ‘package:GenomicRanges’:\n",
      "\n",
      "    intersect, setdiff, union\n",
      "\n",
      "The following object is masked from ‘package:GenomeInfoDb’:\n",
      "\n",
      "    intersect\n",
      "\n",
      "The following objects are masked from ‘package:IRanges’:\n",
      "\n",
      "    collapse, desc, intersect, setdiff, slice, union\n",
      "\n",
      "The following objects are masked from ‘package:S4Vectors’:\n",
      "\n",
      "    first, intersect, rename, setdiff, setequal, union\n",
      "\n",
      "The following objects are masked from ‘package:BiocGenerics’:\n",
      "\n",
      "    combine, intersect, setdiff, union\n",
      "\n",
      "The following objects are masked from ‘package:stats’:\n",
      "\n",
      "    filter, lag\n",
      "\n",
      "The following objects are masked from ‘package:base’:\n",
      "\n",
      "    intersect, setdiff, setequal, union\n",
      "\n",
      "Loading required package: MASS\n",
      "\n",
      "Attaching package: ‘MASS’\n",
      "\n",
      "The following object is masked from ‘package:dplyr’:\n",
      "\n",
      "    select\n",
      "\n",
      "Loading required package: ggplot2\n",
      "\n",
      "Attaching package: ‘Matrix’\n",
      "\n",
      "The following object is masked from ‘package:S4Vectors’:\n",
      "\n",
      "    expand\n",
      "\n"
     ]
    }
   ],
   "source": [
    "library(GenomicRanges)\n",
    "library(SummarizedExperiment)\n",
    "library(data.table)\n",
    "library(dplyr)\n",
    "library(BuenColors)\n",
    "library(Matrix)"
   ]
  },
  {
   "cell_type": "code",
   "execution_count": null,
   "metadata": {},
   "outputs": [],
   "source": []
  },
  {
   "cell_type": "markdown",
   "metadata": {},
   "source": [
    "### Preprocess"
   ]
  },
  {
   "cell_type": "markdown",
   "metadata": {},
   "source": [
    "`bsub < count_reads_peaks_erisone.sh`"
   ]
  },
  {
   "cell_type": "code",
   "execution_count": 2,
   "metadata": {},
   "outputs": [
    {
     "data": {
      "text/html": [
       "12178"
      ],
      "text/latex": [
       "12178"
      ],
      "text/markdown": [
       "12178"
      ],
      "text/plain": [
       "[1] 12178"
      ]
     },
     "metadata": {},
     "output_type": "display_data"
    }
   ],
   "source": [
    "path = './count_reads_peaks_output/'\n",
    "files <- list.files(path,pattern = \"\\\\.txt$\")\n",
    "length(files)"
   ]
  },
  {
   "cell_type": "code",
   "execution_count": null,
   "metadata": {},
   "outputs": [],
   "source": [
    "#assuming tab separated values with a header    \n",
    "datalist = lapply(files, function(x)fread(paste0(path,x))$V4) \n",
    "#assuming the same header/columns for all files\n",
    "datafr = do.call(\"cbind\", datalist) "
   ]
  },
  {
   "cell_type": "code",
   "execution_count": 4,
   "metadata": {
    "scrolled": true
   },
   "outputs": [
    {
     "data": {
      "text/html": [
       "<ol class=list-inline>\n",
       "\t<li>385237</li>\n",
       "\t<li>12178</li>\n",
       "</ol>\n"
      ],
      "text/latex": [
       "\\begin{enumerate*}\n",
       "\\item 385237\n",
       "\\item 12178\n",
       "\\end{enumerate*}\n"
      ],
      "text/markdown": [
       "1. 385237\n",
       "2. 12178\n",
       "\n",
       "\n"
      ],
      "text/plain": [
       "[1] 385237  12178"
      ]
     },
     "metadata": {},
     "output_type": "display_data"
    }
   ],
   "source": [
    "dim(datafr)"
   ]
  },
  {
   "cell_type": "code",
   "execution_count": 5,
   "metadata": {},
   "outputs": [],
   "source": [
    "df_regions = read.csv(\"../../input/combined.sorted.merged.bed\",\n",
    "                      sep = '\\t',header=FALSE,stringsAsFactors=FALSE)"
   ]
  },
  {
   "cell_type": "code",
   "execution_count": 6,
   "metadata": {},
   "outputs": [
    {
     "data": {
      "text/html": [
       "<ol class=list-inline>\n",
       "\t<li>385237</li>\n",
       "\t<li>3</li>\n",
       "</ol>\n"
      ],
      "text/latex": [
       "\\begin{enumerate*}\n",
       "\\item 385237\n",
       "\\item 3\n",
       "\\end{enumerate*}\n"
      ],
      "text/markdown": [
       "1. 385237\n",
       "2. 3\n",
       "\n",
       "\n"
      ],
      "text/plain": [
       "[1] 385237      3"
      ]
     },
     "metadata": {},
     "output_type": "display_data"
    }
   ],
   "source": [
    "dim(df_regions)"
   ]
  },
  {
   "cell_type": "code",
   "execution_count": 7,
   "metadata": {},
   "outputs": [],
   "source": [
    "peaknames = paste(df_regions$V1,df_regions$V2,df_regions$V3,sep = \"_\")"
   ]
  },
  {
   "cell_type": "code",
   "execution_count": 8,
   "metadata": {},
   "outputs": [
    {
     "data": {
      "text/html": [
       "<ol class=list-inline>\n",
       "\t<li>'chr1_3002715_3002962'</li>\n",
       "\t<li>'chr1_3037090_3037634'</li>\n",
       "\t<li>'chr1_3084622_3085850'</li>\n",
       "\t<li>'chr1_3103610_3104006'</li>\n",
       "\t<li>'chr1_3106869_3107182'</li>\n",
       "\t<li>'chr1_3109389_3111052'</li>\n",
       "</ol>\n"
      ],
      "text/latex": [
       "\\begin{enumerate*}\n",
       "\\item 'chr1\\_3002715\\_3002962'\n",
       "\\item 'chr1\\_3037090\\_3037634'\n",
       "\\item 'chr1\\_3084622\\_3085850'\n",
       "\\item 'chr1\\_3103610\\_3104006'\n",
       "\\item 'chr1\\_3106869\\_3107182'\n",
       "\\item 'chr1\\_3109389\\_3111052'\n",
       "\\end{enumerate*}\n"
      ],
      "text/markdown": [
       "1. 'chr1_3002715_3002962'\n",
       "2. 'chr1_3037090_3037634'\n",
       "3. 'chr1_3084622_3085850'\n",
       "4. 'chr1_3103610_3104006'\n",
       "5. 'chr1_3106869_3107182'\n",
       "6. 'chr1_3109389_3111052'\n",
       "\n",
       "\n"
      ],
      "text/plain": [
       "[1] \"chr1_3002715_3002962\" \"chr1_3037090_3037634\" \"chr1_3084622_3085850\"\n",
       "[4] \"chr1_3103610_3104006\" \"chr1_3106869_3107182\" \"chr1_3109389_3111052\""
      ]
     },
     "metadata": {},
     "output_type": "display_data"
    }
   ],
   "source": [
    "head(peaknames)"
   ]
  },
  {
   "cell_type": "code",
   "execution_count": 9,
   "metadata": {},
   "outputs": [
    {
     "data": {
      "text/html": [
       "<ol class=list-inline>\n",
       "\t<li>'AGCGATAGAATACGATAATGGCAGCTCGCAGGACGT'</li>\n",
       "\t<li>'AGCGATAGAATATTACTTTCCGCGGACTGTACTGAC'</li>\n",
       "\t<li>'AGCGATAGACCAGGCGCATGGCAGCTCGATAGAGGC'</li>\n",
       "\t<li>'AGCGATAGAGATTACGTTGCGCAATGACGTACTGAC'</li>\n",
       "\t<li>'AGCGATAGAGGTCAGCTTGGAGTTGCGTGTACTGAC'</li>\n",
       "\t<li>'AGCGATAGAGTTGAATCAAAGCTAGGTTCCTATCCT'</li>\n",
       "</ol>\n"
      ],
      "text/latex": [
       "\\begin{enumerate*}\n",
       "\\item 'AGCGATAGAATACGATAATGGCAGCTCGCAGGACGT'\n",
       "\\item 'AGCGATAGAATATTACTTTCCGCGGACTGTACTGAC'\n",
       "\\item 'AGCGATAGACCAGGCGCATGGCAGCTCGATAGAGGC'\n",
       "\\item 'AGCGATAGAGATTACGTTGCGCAATGACGTACTGAC'\n",
       "\\item 'AGCGATAGAGGTCAGCTTGGAGTTGCGTGTACTGAC'\n",
       "\\item 'AGCGATAGAGTTGAATCAAAGCTAGGTTCCTATCCT'\n",
       "\\end{enumerate*}\n"
      ],
      "text/markdown": [
       "1. 'AGCGATAGAATACGATAATGGCAGCTCGCAGGACGT'\n",
       "2. 'AGCGATAGAATATTACTTTCCGCGGACTGTACTGAC'\n",
       "3. 'AGCGATAGACCAGGCGCATGGCAGCTCGATAGAGGC'\n",
       "4. 'AGCGATAGAGATTACGTTGCGCAATGACGTACTGAC'\n",
       "5. 'AGCGATAGAGGTCAGCTTGGAGTTGCGTGTACTGAC'\n",
       "6. 'AGCGATAGAGTTGAATCAAAGCTAGGTTCCTATCCT'\n",
       "\n",
       "\n"
      ],
      "text/plain": [
       "[1] \"AGCGATAGAATACGATAATGGCAGCTCGCAGGACGT\"\n",
       "[2] \"AGCGATAGAATATTACTTTCCGCGGACTGTACTGAC\"\n",
       "[3] \"AGCGATAGACCAGGCGCATGGCAGCTCGATAGAGGC\"\n",
       "[4] \"AGCGATAGAGATTACGTTGCGCAATGACGTACTGAC\"\n",
       "[5] \"AGCGATAGAGGTCAGCTTGGAGTTGCGTGTACTGAC\"\n",
       "[6] \"AGCGATAGAGTTGAATCAAAGCTAGGTTCCTATCCT\""
      ]
     },
     "metadata": {},
     "output_type": "display_data"
    }
   ],
   "source": [
    "head(sapply(strsplit(files,'\\\\.'),'[', 2))"
   ]
  },
  {
   "cell_type": "code",
   "execution_count": 10,
   "metadata": {},
   "outputs": [],
   "source": [
    "colnames(datafr) = sapply(strsplit(files,'\\\\.'),'[', 2)\n",
    "rownames(datafr) = peaknames"
   ]
  },
  {
   "cell_type": "code",
   "execution_count": 11,
   "metadata": {
    "scrolled": true
   },
   "outputs": [
    {
     "data": {
      "text/html": [
       "<table>\n",
       "<caption>A matrix: 3 × 3 of type int</caption>\n",
       "<thead>\n",
       "\t<tr><th></th><th scope=col>AGCGATAGAATACGATAATGGCAGCTCGCAGGACGT</th><th scope=col>AGCGATAGAATATTACTTTCCGCGGACTGTACTGAC</th><th scope=col>AGCGATAGACCAGGCGCATGGCAGCTCGATAGAGGC</th></tr>\n",
       "</thead>\n",
       "<tbody>\n",
       "\t<tr><th scope=row>chr1_3002715_3002962</th><td>0</td><td>0</td><td>0</td></tr>\n",
       "\t<tr><th scope=row>chr1_3037090_3037634</th><td>0</td><td>0</td><td>0</td></tr>\n",
       "\t<tr><th scope=row>chr1_3084622_3085850</th><td>0</td><td>0</td><td>0</td></tr>\n",
       "</tbody>\n",
       "</table>\n"
      ],
      "text/latex": [
       "A matrix: 3 × 3 of type int\n",
       "\\begin{tabular}{r|lll}\n",
       "  & AGCGATAGAATACGATAATGGCAGCTCGCAGGACGT & AGCGATAGAATATTACTTTCCGCGGACTGTACTGAC & AGCGATAGACCAGGCGCATGGCAGCTCGATAGAGGC\\\\\n",
       "\\hline\n",
       "\tchr1\\_3002715\\_3002962 & 0 & 0 & 0\\\\\n",
       "\tchr1\\_3037090\\_3037634 & 0 & 0 & 0\\\\\n",
       "\tchr1\\_3084622\\_3085850 & 0 & 0 & 0\\\\\n",
       "\\end{tabular}\n"
      ],
      "text/markdown": [
       "\n",
       "A matrix: 3 × 3 of type int\n",
       "\n",
       "| <!--/--> | AGCGATAGAATACGATAATGGCAGCTCGCAGGACGT | AGCGATAGAATATTACTTTCCGCGGACTGTACTGAC | AGCGATAGACCAGGCGCATGGCAGCTCGATAGAGGC |\n",
       "|---|---|---|---|\n",
       "| chr1_3002715_3002962 | 0 | 0 | 0 |\n",
       "| chr1_3037090_3037634 | 0 | 0 | 0 |\n",
       "| chr1_3084622_3085850 | 0 | 0 | 0 |\n",
       "\n"
      ],
      "text/plain": [
       "                     AGCGATAGAATACGATAATGGCAGCTCGCAGGACGT\n",
       "chr1_3002715_3002962 0                                   \n",
       "chr1_3037090_3037634 0                                   \n",
       "chr1_3084622_3085850 0                                   \n",
       "                     AGCGATAGAATATTACTTTCCGCGGACTGTACTGAC\n",
       "chr1_3002715_3002962 0                                   \n",
       "chr1_3037090_3037634 0                                   \n",
       "chr1_3084622_3085850 0                                   \n",
       "                     AGCGATAGACCAGGCGCATGGCAGCTCGATAGAGGC\n",
       "chr1_3002715_3002962 0                                   \n",
       "chr1_3037090_3037634 0                                   \n",
       "chr1_3084622_3085850 0                                   "
      ]
     },
     "metadata": {},
     "output_type": "display_data"
    }
   ],
   "source": [
    "datafr[1:3,1:3]"
   ]
  },
  {
   "cell_type": "code",
   "execution_count": 12,
   "metadata": {},
   "outputs": [
    {
     "data": {
      "text/html": [
       "<ol class=list-inline>\n",
       "\t<li>385237</li>\n",
       "\t<li>12178</li>\n",
       "</ol>\n"
      ],
      "text/latex": [
       "\\begin{enumerate*}\n",
       "\\item 385237\n",
       "\\item 12178\n",
       "\\end{enumerate*}\n"
      ],
      "text/markdown": [
       "1. 385237\n",
       "2. 12178\n",
       "\n",
       "\n"
      ],
      "text/plain": [
       "[1] 385237  12178"
      ]
     },
     "metadata": {},
     "output_type": "display_data"
    }
   ],
   "source": [
    "dim(datafr)"
   ]
  },
  {
   "cell_type": "code",
   "execution_count": 13,
   "metadata": {},
   "outputs": [],
   "source": [
    "# saveRDS(datafr, file = './datafr.rds')\n",
    "# datafr = readRDS('./datafr.rds')"
   ]
  },
  {
   "cell_type": "code",
   "execution_count": null,
   "metadata": {},
   "outputs": [],
   "source": []
  },
  {
   "cell_type": "markdown",
   "metadata": {},
   "source": [
    "### Obtain Feature Matrix"
   ]
  },
  {
   "cell_type": "code",
   "execution_count": 14,
   "metadata": {},
   "outputs": [],
   "source": [
    "start_time <- Sys.time()"
   ]
  },
  {
   "cell_type": "code",
   "execution_count": 15,
   "metadata": {},
   "outputs": [],
   "source": [
    "set.seed(2019)"
   ]
  },
  {
   "cell_type": "code",
   "execution_count": 16,
   "metadata": {},
   "outputs": [],
   "source": [
    "metadata <- read.table('../../input/metadata.tsv',\n",
    "                         header = TRUE,\n",
    "                         stringsAsFactors=FALSE,quote=\"\",row.names=1)"
   ]
  },
  {
   "cell_type": "code",
   "execution_count": 17,
   "metadata": {},
   "outputs": [],
   "source": [
    "# import counts\n",
    "counts <- data.matrix(datafr)"
   ]
  },
  {
   "cell_type": "code",
   "execution_count": 18,
   "metadata": {},
   "outputs": [
    {
     "data": {
      "text/html": [
       "<ol class=list-inline>\n",
       "\t<li>385237</li>\n",
       "\t<li>12178</li>\n",
       "</ol>\n"
      ],
      "text/latex": [
       "\\begin{enumerate*}\n",
       "\\item 385237\n",
       "\\item 12178\n",
       "\\end{enumerate*}\n"
      ],
      "text/markdown": [
       "1. 385237\n",
       "2. 12178\n",
       "\n",
       "\n"
      ],
      "text/plain": [
       "[1] 385237  12178"
      ]
     },
     "metadata": {},
     "output_type": "display_data"
    },
    {
     "data": {
      "text/html": [
       "<table>\n",
       "<caption>A matrix: 3 × 3 of type int</caption>\n",
       "<thead>\n",
       "\t<tr><th></th><th scope=col>AGCGATAGAATACGATAATGGCAGCTCGCAGGACGT</th><th scope=col>AGCGATAGAATATTACTTTCCGCGGACTGTACTGAC</th><th scope=col>AGCGATAGACCAGGCGCATGGCAGCTCGATAGAGGC</th></tr>\n",
       "</thead>\n",
       "<tbody>\n",
       "\t<tr><th scope=row>chr1_3002715_3002962</th><td>0</td><td>0</td><td>0</td></tr>\n",
       "\t<tr><th scope=row>chr1_3037090_3037634</th><td>0</td><td>0</td><td>0</td></tr>\n",
       "\t<tr><th scope=row>chr1_3084622_3085850</th><td>0</td><td>0</td><td>0</td></tr>\n",
       "</tbody>\n",
       "</table>\n"
      ],
      "text/latex": [
       "A matrix: 3 × 3 of type int\n",
       "\\begin{tabular}{r|lll}\n",
       "  & AGCGATAGAATACGATAATGGCAGCTCGCAGGACGT & AGCGATAGAATATTACTTTCCGCGGACTGTACTGAC & AGCGATAGACCAGGCGCATGGCAGCTCGATAGAGGC\\\\\n",
       "\\hline\n",
       "\tchr1\\_3002715\\_3002962 & 0 & 0 & 0\\\\\n",
       "\tchr1\\_3037090\\_3037634 & 0 & 0 & 0\\\\\n",
       "\tchr1\\_3084622\\_3085850 & 0 & 0 & 0\\\\\n",
       "\\end{tabular}\n"
      ],
      "text/markdown": [
       "\n",
       "A matrix: 3 × 3 of type int\n",
       "\n",
       "| <!--/--> | AGCGATAGAATACGATAATGGCAGCTCGCAGGACGT | AGCGATAGAATATTACTTTCCGCGGACTGTACTGAC | AGCGATAGACCAGGCGCATGGCAGCTCGATAGAGGC |\n",
       "|---|---|---|---|\n",
       "| chr1_3002715_3002962 | 0 | 0 | 0 |\n",
       "| chr1_3037090_3037634 | 0 | 0 | 0 |\n",
       "| chr1_3084622_3085850 | 0 | 0 | 0 |\n",
       "\n"
      ],
      "text/plain": [
       "                     AGCGATAGAATACGATAATGGCAGCTCGCAGGACGT\n",
       "chr1_3002715_3002962 0                                   \n",
       "chr1_3037090_3037634 0                                   \n",
       "chr1_3084622_3085850 0                                   \n",
       "                     AGCGATAGAATATTACTTTCCGCGGACTGTACTGAC\n",
       "chr1_3002715_3002962 0                                   \n",
       "chr1_3037090_3037634 0                                   \n",
       "chr1_3084622_3085850 0                                   \n",
       "                     AGCGATAGACCAGGCGCATGGCAGCTCGATAGAGGC\n",
       "chr1_3002715_3002962 0                                   \n",
       "chr1_3037090_3037634 0                                   \n",
       "chr1_3084622_3085850 0                                   "
      ]
     },
     "metadata": {},
     "output_type": "display_data"
    }
   ],
   "source": [
    "dim(counts)\n",
    "counts[1:3,1:3]"
   ]
  },
  {
   "cell_type": "code",
   "execution_count": null,
   "metadata": {},
   "outputs": [],
   "source": []
  },
  {
   "cell_type": "code",
   "execution_count": 19,
   "metadata": {},
   "outputs": [
    {
     "data": {
      "text/html": [
       "<ol class=list-inline>\n",
       "\t<li>37614</li>\n",
       "\t<li>5</li>\n",
       "</ol>\n"
      ],
      "text/latex": [
       "\\begin{enumerate*}\n",
       "\\item 37614\n",
       "\\item 5\n",
       "\\end{enumerate*}\n"
      ],
      "text/markdown": [
       "1. 37614\n",
       "2. 5\n",
       "\n",
       "\n"
      ],
      "text/plain": [
       "[1] 37614     5"
      ]
     },
     "metadata": {},
     "output_type": "display_data"
    },
    {
     "data": {
      "text/html": [
       "<table>\n",
       "<caption>A data.frame: 3 × 3</caption>\n",
       "<thead>\n",
       "\t<tr><th scope=col>V1</th><th scope=col>V2</th><th scope=col>V3</th></tr>\n",
       "\t<tr><th scope=col>&lt;chr&gt;</th><th scope=col>&lt;int&gt;</th><th scope=col>&lt;int&gt;</th></tr>\n",
       "</thead>\n",
       "<tbody>\n",
       "\t<tr><td>chr17</td><td>71223692</td><td>71274336</td></tr>\n",
       "\t<tr><td>chr17</td><td>18186448</td><td>18211184</td></tr>\n",
       "\t<tr><td>chr11</td><td>84645863</td><td>84684319</td></tr>\n",
       "</tbody>\n",
       "</table>\n"
      ],
      "text/latex": [
       "A data.frame: 3 × 3\n",
       "\\begin{tabular}{r|lll}\n",
       " V1 & V2 & V3\\\\\n",
       " <chr> & <int> & <int>\\\\\n",
       "\\hline\n",
       "\t chr17 & 71223692 & 71274336\\\\\n",
       "\t chr17 & 18186448 & 18211184\\\\\n",
       "\t chr11 & 84645863 & 84684319\\\\\n",
       "\\end{tabular}\n"
      ],
      "text/markdown": [
       "\n",
       "A data.frame: 3 × 3\n",
       "\n",
       "| V1 &lt;chr&gt; | V2 &lt;int&gt; | V3 &lt;int&gt; |\n",
       "|---|---|---|\n",
       "| chr17 | 71223692 | 71274336 |\n",
       "| chr17 | 18186448 | 18211184 |\n",
       "| chr11 | 84645863 | 84684319 |\n",
       "\n"
      ],
      "text/plain": [
       "  V1    V2       V3      \n",
       "1 chr17 71223692 71274336\n",
       "2 chr17 18186448 18211184\n",
       "3 chr11 84645863 84684319"
      ]
     },
     "metadata": {},
     "output_type": "display_data"
    }
   ],
   "source": [
    "# import gene bodies; restrict to TSS\n",
    "gdf <- read.table(\"../../input/mm9/mm9-tss.bed\", stringsAsFactors = FALSE)\n",
    "dim(gdf)\n",
    "gdf[1:3,1:3]"
   ]
  },
  {
   "cell_type": "code",
   "execution_count": 20,
   "metadata": {},
   "outputs": [],
   "source": [
    "tss <- data.frame(chr = gdf$V1, gene = gdf$V4, stringsAsFactors = FALSE)\n",
    "tss$tss <-  ifelse(gdf$V5 == \"+\", gdf$V3, gdf$V2)\n",
    "tss$start <- ifelse(tss$tss - 50000 > 0, tss$tss - 50000, 0)\n",
    "tss$stop <- tss$tss + 50000\n",
    "tss_idx <- makeGRangesFromDataFrame(tss, keep.extra.columns = TRUE)"
   ]
  },
  {
   "cell_type": "code",
   "execution_count": 21,
   "metadata": {},
   "outputs": [],
   "source": [
    "# import ATAC peaks\n",
    "\n",
    "adf <- data.frame(fread('../../input/combined.sorted.merged.bed'))\n",
    "colnames(adf) <- c(\"chr\", \"start\", \"end\")\n",
    "adf$mp <- (adf$start + adf$end)/2\n",
    "atacgranges <- makeGRangesFromDataFrame(adf, start.field = \"mp\", end.field = \"mp\")"
   ]
  },
  {
   "cell_type": "code",
   "execution_count": 22,
   "metadata": {},
   "outputs": [],
   "source": [
    "# find overlap between ATAC peaks and Ranges linker\n",
    "ov <- findOverlaps(atacgranges, tss_idx) #(query, subject)"
   ]
  },
  {
   "cell_type": "code",
   "execution_count": 23,
   "metadata": {},
   "outputs": [
    {
     "name": "stderr",
     "output_type": "stream",
     "text": [
      "Don't know how to automatically pick scale for object of type table. Defaulting to continuous.\n"
     ]
    },
    {
     "data": {
      "image/png": "[encoded data removed]",
      "text/plain": [
       "plot without title"
      ]
     },
     "metadata": {},
     "output_type": "display_data"
    }
   ],
   "source": [
    "options(repr.plot.width=3, repr.plot.height=3)\n",
    "# plot a histogram showing peaks per gene\n",
    "p1 <- qplot(table(subjectHits(ov)), binwidth = 1) + theme(plot.subtitle = element_text(vjust = 1), \n",
    "                                                          plot.caption = element_text(vjust = 1)) +\n",
    "  labs(title = \"Histogram of peaks per gene\",  x = \"Peaks / gene\", y=\"Frequency\") + pretty_plot()\n",
    "p1"
   ]
  },
  {
   "cell_type": "code",
   "execution_count": 24,
   "metadata": {},
   "outputs": [],
   "source": [
    "# calculate distance decay for the weights\n",
    "dist <- abs(mcols(tss_idx)$tss[subjectHits(ov)] - start(atacgranges)[queryHits(ov)])\n",
    "exp_dist_model <- exp(-1*dist/5000)"
   ]
  },
  {
   "cell_type": "code",
   "execution_count": 25,
   "metadata": {},
   "outputs": [],
   "source": [
    "# prepare an outcome matrix\n",
    "m <- Matrix::sparseMatrix(i = c(queryHits(ov), length(atacgranges)),\n",
    "                          j = c(subjectHits(ov), length(tss_idx)),\n",
    "                          x = c(exp_dist_model,0))\n",
    "colnames(m) <- gdf$V4 # gene name\n",
    "m <- m[,which(Matrix::colSums(m) != 0)]"
   ]
  },
  {
   "cell_type": "code",
   "execution_count": 26,
   "metadata": {},
   "outputs": [],
   "source": [
    "fm_genescoring <- data.matrix(t(m) %*% counts)"
   ]
  },
  {
   "cell_type": "code",
   "execution_count": 27,
   "metadata": {},
   "outputs": [
    {
     "data": {
      "text/html": [
       "<ol class=list-inline>\n",
       "\t<li>35499</li>\n",
       "\t<li>12178</li>\n",
       "</ol>\n"
      ],
      "text/latex": [
       "\\begin{enumerate*}\n",
       "\\item 35499\n",
       "\\item 12178\n",
       "\\end{enumerate*}\n"
      ],
      "text/markdown": [
       "1. 35499\n",
       "2. 12178\n",
       "\n",
       "\n"
      ],
      "text/plain": [
       "[1] 35499 12178"
      ]
     },
     "metadata": {},
     "output_type": "display_data"
    },
    {
     "data": {
      "text/html": [
       "<table>\n",
       "<caption>A matrix: 3 × 3 of type dbl</caption>\n",
       "<thead>\n",
       "\t<tr><th></th><th scope=col>AGCGATAGAATACGATAATGGCAGCTCGCAGGACGT</th><th scope=col>AGCGATAGAATATTACTTTCCGCGGACTGTACTGAC</th><th scope=col>AGCGATAGACCAGGCGCATGGCAGCTCGATAGAGGC</th></tr>\n",
       "</thead>\n",
       "<tbody>\n",
       "\t<tr><th scope=row>Gm16627</th><td>0</td><td>0</td><td>0</td></tr>\n",
       "\t<tr><th scope=row>Vmn2r-ps113</th><td>0</td><td>0</td><td>0</td></tr>\n",
       "\t<tr><th scope=row>Ggnbp2</th><td>0</td><td>0</td><td>0</td></tr>\n",
       "</tbody>\n",
       "</table>\n"
      ],
      "text/latex": [
       "A matrix: 3 × 3 of type dbl\n",
       "\\begin{tabular}{r|lll}\n",
       "  & AGCGATAGAATACGATAATGGCAGCTCGCAGGACGT & AGCGATAGAATATTACTTTCCGCGGACTGTACTGAC & AGCGATAGACCAGGCGCATGGCAGCTCGATAGAGGC\\\\\n",
       "\\hline\n",
       "\tGm16627 & 0 & 0 & 0\\\\\n",
       "\tVmn2r-ps113 & 0 & 0 & 0\\\\\n",
       "\tGgnbp2 & 0 & 0 & 0\\\\\n",
       "\\end{tabular}\n"
      ],
      "text/markdown": [
       "\n",
       "A matrix: 3 × 3 of type dbl\n",
       "\n",
       "| <!--/--> | AGCGATAGAATACGATAATGGCAGCTCGCAGGACGT | AGCGATAGAATATTACTTTCCGCGGACTGTACTGAC | AGCGATAGACCAGGCGCATGGCAGCTCGATAGAGGC |\n",
       "|---|---|---|---|\n",
       "| Gm16627 | 0 | 0 | 0 |\n",
       "| Vmn2r-ps113 | 0 | 0 | 0 |\n",
       "| Ggnbp2 | 0 | 0 | 0 |\n",
       "\n"
      ],
      "text/plain": [
       "            AGCGATAGAATACGATAATGGCAGCTCGCAGGACGT\n",
       "Gm16627     0                                   \n",
       "Vmn2r-ps113 0                                   \n",
       "Ggnbp2      0                                   \n",
       "            AGCGATAGAATATTACTTTCCGCGGACTGTACTGAC\n",
       "Gm16627     0                                   \n",
       "Vmn2r-ps113 0                                   \n",
       "Ggnbp2      0                                   \n",
       "            AGCGATAGACCAGGCGCATGGCAGCTCGATAGAGGC\n",
       "Gm16627     0                                   \n",
       "Vmn2r-ps113 0                                   \n",
       "Ggnbp2      0                                   "
      ]
     },
     "metadata": {},
     "output_type": "display_data"
    }
   ],
   "source": [
    "dim(fm_genescoring)\n",
    "fm_genescoring[1:3,1:3]"
   ]
  },
  {
   "cell_type": "code",
   "execution_count": 28,
   "metadata": {},
   "outputs": [],
   "source": [
    "end_time <- Sys.time()"
   ]
  },
  {
   "cell_type": "code",
   "execution_count": 29,
   "metadata": {},
   "outputs": [
    {
     "data": {
      "text/plain": [
       "Time difference of 1.353187 mins"
      ]
     },
     "metadata": {},
     "output_type": "display_data"
    }
   ],
   "source": [
    "end_time - start_time"
   ]
  },
  {
   "cell_type": "code",
   "execution_count": null,
   "metadata": {},
   "outputs": [],
   "source": []
  },
  {
   "cell_type": "code",
   "execution_count": 36,
   "metadata": {
    "scrolled": true
   },
   "outputs": [
    {
     "data": {
      "text/html": [
       "FALSE"
      ],
      "text/latex": [
       "FALSE"
      ],
      "text/markdown": [
       "FALSE"
      ],
      "text/plain": [
       "[1] FALSE"
      ]
     },
     "metadata": {},
     "output_type": "display_data"
    }
   ],
   "source": [
    "all(colnames(fm_genescoring) == rownames(metadata))"
   ]
  },
  {
   "cell_type": "code",
   "execution_count": 37,
   "metadata": {},
   "outputs": [],
   "source": [
    "fm_genescoring = fm_genescoring[,rownames(metadata)]"
   ]
  },
  {
   "cell_type": "code",
   "execution_count": 38,
   "metadata": {},
   "outputs": [
    {
     "data": {
      "text/html": [
       "TRUE"
      ],
      "text/latex": [
       "TRUE"
      ],
      "text/markdown": [
       "TRUE"
      ],
      "text/plain": [
       "[1] TRUE"
      ]
     },
     "metadata": {},
     "output_type": "display_data"
    }
   ],
   "source": [
    "all(colnames(fm_genescoring) == rownames(metadata))"
   ]
  },
  {
   "cell_type": "code",
   "execution_count": 39,
   "metadata": {},
   "outputs": [],
   "source": [
    "saveRDS(fm_genescoring, file = '../../output/feature_matrices/FM_GeneScoring_cusanovich2018subset.rds')"
   ]
  },
  {
   "cell_type": "code",
   "execution_count": null,
   "metadata": {},
   "outputs": [],
   "source": []
  },
  {
   "cell_type": "code",
   "execution_count": 40,
   "metadata": {},
   "outputs": [
    {
     "data": {
      "text/plain": [
       "R version 3.5.1 (2018-07-02)\n",
       "Platform: x86_64-conda_cos6-linux-gnu (64-bit)\n",
       "Running under: CentOS Linux 7 (Core)\n",
       "\n",
       "Matrix products: default\n",
       "BLAS/LAPACK: /data/pinello/SHARED_SOFTWARE/anaconda3/envs/ATACseq_GeneScoring/lib/R/lib/libRblas.so\n",
       "\n",
       "locale:\n",
       " [1] LC_CTYPE=en_US.UTF-8       LC_NUMERIC=C              \n",
       " [3] LC_TIME=en_US.UTF-8        LC_COLLATE=en_US.UTF-8    \n",
       " [5] LC_MONETARY=en_US.UTF-8    LC_MESSAGES=en_US.UTF-8   \n",
       " [7] LC_PAPER=en_US.UTF-8       LC_NAME=C                 \n",
       " [9] LC_ADDRESS=C               LC_TELEPHONE=C            \n",
       "[11] LC_MEASUREMENT=en_US.UTF-8 LC_IDENTIFICATION=C       \n",
       "\n",
       "attached base packages:\n",
       "[1] parallel  stats4    stats     graphics  grDevices utils     datasets \n",
       "[8] methods   base     \n",
       "\n",
       "other attached packages:\n",
       " [1] Matrix_1.2-17               BuenColors_0.5.5           \n",
       " [3] ggplot2_3.2.0               MASS_7.3-51.4              \n",
       " [5] dplyr_0.8.3                 data.table_1.12.2          \n",
       " [7] SummarizedExperiment_1.12.0 DelayedArray_0.8.0         \n",
       " [9] BiocParallel_1.16.6         matrixStats_0.54.0         \n",
       "[11] Biobase_2.42.0              GenomicRanges_1.34.0       \n",
       "[13] GenomeInfoDb_1.18.1         IRanges_2.16.0             \n",
       "[15] S4Vectors_0.20.1            BiocGenerics_0.28.0        \n",
       "\n",
       "loaded via a namespace (and not attached):\n",
       " [1] Rcpp_1.0.1             pillar_1.4.2           compiler_3.5.1        \n",
       " [4] XVector_0.22.0         bitops_1.0-6           base64enc_0.1-3       \n",
       " [7] tools_3.5.1            zlibbioc_1.28.0        zeallot_0.1.0         \n",
       "[10] digest_0.6.20          uuid_0.1-2             gtable_0.3.0          \n",
       "[13] tibble_2.1.3           jsonlite_1.6           evaluate_0.14         \n",
       "[16] lattice_0.20-38        pkgconfig_2.0.2        rlang_0.4.0           \n",
       "[19] IRdisplay_0.7.0        IRkernel_1.0.1         GenomeInfoDbData_1.2.1\n",
       "[22] withr_2.1.2            repr_1.0.1             vctrs_0.2.0           \n",
       "[25] tidyselect_0.2.5       grid_3.5.1             glue_1.3.1            \n",
       "[28] R6_2.4.0               pbdZMQ_0.3-3           purrr_0.3.2           \n",
       "[31] magrittr_1.5           backports_1.1.4        scales_1.0.0          \n",
       "[34] htmltools_0.3.6        assertthat_0.2.1       colorspace_1.4-1      \n",
       "[37] labeling_0.3           lazyeval_0.2.2         munsell_0.5.0         \n",
       "[40] RCurl_1.95-4.12        crayon_1.3.4          "
      ]
     },
     "metadata": {},
     "output_type": "display_data"
    }
   ],
   "source": [
    "sessionInfo()"
   ]
  },
  {
   "cell_type": "code",
   "execution_count": 41,
   "metadata": {},
   "outputs": [],
   "source": [
    "save.image(file = 'GeneScoring_cusanovich2018subset.RData')"
   ]
  },
  {
   "cell_type": "code",
   "execution_count": null,
   "metadata": {},
   "outputs": [],
   "source": []
  }
 ],
 "metadata": {
  "kernelspec": {
   "display_name": "R [conda env:ATACseq_GeneScoring]",
   "language": "R",
   "name": "conda-env-ATACseq_GeneScoring-r"
  },
  "language_info": {
   "codemirror_mode": "r",
   "file_extension": ".r",
   "mimetype": "text/x-r-source",
   "name": "R",
   "pygments_lexer": "r",
   "version": "3.5.1"
  }
 },
 "nbformat": 4,
 "nbformat_minor": 2
}
