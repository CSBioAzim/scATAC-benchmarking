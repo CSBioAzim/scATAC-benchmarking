{
 "cells": [
  {
   "cell_type": "markdown",
   "metadata": {},
   "source": [
    "### Import packages"
   ]
  },
  {
   "cell_type": "code",
   "execution_count": 1,
   "metadata": {},
   "outputs": [],
   "source": [
    "library(cisTopic)"
   ]
  },
  {
   "cell_type": "code",
   "execution_count": 2,
   "metadata": {},
   "outputs": [
    {
     "data": {
      "text/plain": [
       "[1] ‘0.2.1’"
      ]
     },
     "metadata": {},
     "output_type": "display_data"
    }
   ],
   "source": [
    "packageVersion(\"cisTopic\")"
   ]
  },
  {
   "cell_type": "code",
   "execution_count": null,
   "metadata": {},
   "outputs": [],
   "source": []
  },
  {
   "cell_type": "markdown",
   "metadata": {},
   "source": [
    "### Obtain Feature Matrix"
   ]
  },
  {
   "cell_type": "code",
   "execution_count": 3,
   "metadata": {},
   "outputs": [],
   "source": [
    "start_time = Sys.time()"
   ]
  },
  {
   "cell_type": "code",
   "execution_count": 4,
   "metadata": {},
   "outputs": [],
   "source": [
    "set.seed(2019)"
   ]
  },
  {
   "cell_type": "code",
   "execution_count": 5,
   "metadata": {},
   "outputs": [],
   "source": [
    "metadata <- read.table('../../input/metadata.tsv',\n",
    "                         header = TRUE,\n",
    "                         stringsAsFactors=FALSE,quote=\"\",row.names=1)"
   ]
  },
  {
   "cell_type": "code",
   "execution_count": 6,
   "metadata": {},
   "outputs": [
    {
     "data": {
      "text/html": [
       "<table>\n",
       "<thead><tr><th></th><th scope=col>label</th></tr></thead>\n",
       "<tbody>\n",
       "\t<tr><th scope=row>TCCGCGAACTAACTAGGTTGCTACGGTCATAGAGGC</th><td>BoneMarrow</td></tr>\n",
       "\t<tr><th scope=row>TCCGCGAAAGGTCAGCTTTGCGGATAGTGTACTGAC</th><td>BoneMarrow</td></tr>\n",
       "\t<tr><th scope=row>ATTACTCGTTGCCGTAGGCTTAATCTTGTATAGCCT</th><td>BoneMarrow</td></tr>\n",
       "\t<tr><th scope=row>TCCGCGAAACCAGGCGCAAAGCTAGGTTGTACTGAC</th><td>BoneMarrow</td></tr>\n",
       "\t<tr><th scope=row>ATTCAGAATCGTAGCATCGCGCAATGACCCTATCCT</th><td>BoneMarrow</td></tr>\n",
       "\t<tr><th scope=row>ATTCAGAAATGGCGCCTGTGCGGATAGTAGGCGAAG</th><td>BoneMarrow</td></tr>\n",
       "</tbody>\n",
       "</table>\n"
      ],
      "text/latex": [
       "\\begin{tabular}{r|l}\n",
       "  & label\\\\\n",
       "\\hline\n",
       "\tTCCGCGAACTAACTAGGTTGCTACGGTCATAGAGGC & BoneMarrow\\\\\n",
       "\tTCCGCGAAAGGTCAGCTTTGCGGATAGTGTACTGAC & BoneMarrow\\\\\n",
       "\tATTACTCGTTGCCGTAGGCTTAATCTTGTATAGCCT & BoneMarrow\\\\\n",
       "\tTCCGCGAAACCAGGCGCAAAGCTAGGTTGTACTGAC & BoneMarrow\\\\\n",
       "\tATTCAGAATCGTAGCATCGCGCAATGACCCTATCCT & BoneMarrow\\\\\n",
       "\tATTCAGAAATGGCGCCTGTGCGGATAGTAGGCGAAG & BoneMarrow\\\\\n",
       "\\end{tabular}\n"
      ],
      "text/markdown": [
       "\n",
       "| <!--/--> | label |\n",
       "|---|---|\n",
       "| TCCGCGAACTAACTAGGTTGCTACGGTCATAGAGGC | BoneMarrow |\n",
       "| TCCGCGAAAGGTCAGCTTTGCGGATAGTGTACTGAC | BoneMarrow |\n",
       "| ATTACTCGTTGCCGTAGGCTTAATCTTGTATAGCCT | BoneMarrow |\n",
       "| TCCGCGAAACCAGGCGCAAAGCTAGGTTGTACTGAC | BoneMarrow |\n",
       "| ATTCAGAATCGTAGCATCGCGCAATGACCCTATCCT | BoneMarrow |\n",
       "| ATTCAGAAATGGCGCCTGTGCGGATAGTAGGCGAAG | BoneMarrow |\n",
       "\n"
      ],
      "text/plain": [
       "                                     label     \n",
       "TCCGCGAACTAACTAGGTTGCTACGGTCATAGAGGC BoneMarrow\n",
       "TCCGCGAAAGGTCAGCTTTGCGGATAGTGTACTGAC BoneMarrow\n",
       "ATTACTCGTTGCCGTAGGCTTAATCTTGTATAGCCT BoneMarrow\n",
       "TCCGCGAAACCAGGCGCAAAGCTAGGTTGTACTGAC BoneMarrow\n",
       "ATTCAGAATCGTAGCATCGCGCAATGACCCTATCCT BoneMarrow\n",
       "ATTCAGAAATGGCGCCTGTGCGGATAGTAGGCGAAG BoneMarrow"
      ]
     },
     "metadata": {},
     "output_type": "display_data"
    }
   ],
   "source": [
    "head(metadata)"
   ]
  },
  {
   "cell_type": "code",
   "execution_count": 7,
   "metadata": {},
   "outputs": [],
   "source": [
    "pathToBams <- '../../input/sc-bams_nodup/'"
   ]
  },
  {
   "cell_type": "code",
   "execution_count": 8,
   "metadata": {},
   "outputs": [
    {
     "data": {
      "text/html": [
       "<ol class=list-inline>\n",
       "\t<li>'../../input/sc-bams_nodup/BoneMarrow_62016.AGCGATAGAATACGATAATGGCAGCTCGCAGGACGT.header.bam'</li>\n",
       "\t<li>'../../input/sc-bams_nodup/BoneMarrow_62016.AGCGATAGAATATTACTTTCCGCGGACTGTACTGAC.header.bam'</li>\n",
       "\t<li>'../../input/sc-bams_nodup/BoneMarrow_62016.AGCGATAGACCAGGCGCATGGCAGCTCGATAGAGGC.header.bam'</li>\n",
       "\t<li>'../../input/sc-bams_nodup/BoneMarrow_62016.AGCGATAGAGATTACGTTGCGCAATGACGTACTGAC.header.bam'</li>\n",
       "\t<li>'../../input/sc-bams_nodup/BoneMarrow_62016.AGCGATAGAGGTCAGCTTGGAGTTGCGTGTACTGAC.header.bam'</li>\n",
       "\t<li>'../../input/sc-bams_nodup/BoneMarrow_62016.AGCGATAGAGTTGAATCAAAGCTAGGTTCCTATCCT.header.bam'</li>\n",
       "</ol>\n"
      ],
      "text/latex": [
       "\\begin{enumerate*}\n",
       "\\item '../../input/sc-bams\\_nodup/BoneMarrow\\_62016.AGCGATAGAATACGATAATGGCAGCTCGCAGGACGT.header.bam'\n",
       "\\item '../../input/sc-bams\\_nodup/BoneMarrow\\_62016.AGCGATAGAATATTACTTTCCGCGGACTGTACTGAC.header.bam'\n",
       "\\item '../../input/sc-bams\\_nodup/BoneMarrow\\_62016.AGCGATAGACCAGGCGCATGGCAGCTCGATAGAGGC.header.bam'\n",
       "\\item '../../input/sc-bams\\_nodup/BoneMarrow\\_62016.AGCGATAGAGATTACGTTGCGCAATGACGTACTGAC.header.bam'\n",
       "\\item '../../input/sc-bams\\_nodup/BoneMarrow\\_62016.AGCGATAGAGGTCAGCTTGGAGTTGCGTGTACTGAC.header.bam'\n",
       "\\item '../../input/sc-bams\\_nodup/BoneMarrow\\_62016.AGCGATAGAGTTGAATCAAAGCTAGGTTCCTATCCT.header.bam'\n",
       "\\end{enumerate*}\n"
      ],
      "text/markdown": [
       "1. '../../input/sc-bams_nodup/BoneMarrow_62016.AGCGATAGAATACGATAATGGCAGCTCGCAGGACGT.header.bam'\n",
       "2. '../../input/sc-bams_nodup/BoneMarrow_62016.AGCGATAGAATATTACTTTCCGCGGACTGTACTGAC.header.bam'\n",
       "3. '../../input/sc-bams_nodup/BoneMarrow_62016.AGCGATAGACCAGGCGCATGGCAGCTCGATAGAGGC.header.bam'\n",
       "4. '../../input/sc-bams_nodup/BoneMarrow_62016.AGCGATAGAGATTACGTTGCGCAATGACGTACTGAC.header.bam'\n",
       "5. '../../input/sc-bams_nodup/BoneMarrow_62016.AGCGATAGAGGTCAGCTTGGAGTTGCGTGTACTGAC.header.bam'\n",
       "6. '../../input/sc-bams_nodup/BoneMarrow_62016.AGCGATAGAGTTGAATCAAAGCTAGGTTCCTATCCT.header.bam'\n",
       "\n",
       "\n"
      ],
      "text/plain": [
       "[1] \"../../input/sc-bams_nodup/BoneMarrow_62016.AGCGATAGAATACGATAATGGCAGCTCGCAGGACGT.header.bam\"\n",
       "[2] \"../../input/sc-bams_nodup/BoneMarrow_62016.AGCGATAGAATATTACTTTCCGCGGACTGTACTGAC.header.bam\"\n",
       "[3] \"../../input/sc-bams_nodup/BoneMarrow_62016.AGCGATAGACCAGGCGCATGGCAGCTCGATAGAGGC.header.bam\"\n",
       "[4] \"../../input/sc-bams_nodup/BoneMarrow_62016.AGCGATAGAGATTACGTTGCGCAATGACGTACTGAC.header.bam\"\n",
       "[5] \"../../input/sc-bams_nodup/BoneMarrow_62016.AGCGATAGAGGTCAGCTTGGAGTTGCGTGTACTGAC.header.bam\"\n",
       "[6] \"../../input/sc-bams_nodup/BoneMarrow_62016.AGCGATAGAGTTGAATCAAAGCTAGGTTCCTATCCT.header.bam\""
      ]
     },
     "metadata": {},
     "output_type": "display_data"
    }
   ],
   "source": [
    "bamFiles <- paste(pathToBams, list.files(pathToBams), sep='')\n",
    "head(bamFiles)"
   ]
  },
  {
   "cell_type": "code",
   "execution_count": 9,
   "metadata": {},
   "outputs": [
    {
     "data": {
      "text/html": [
       "<ol class=list-inline>\n",
       "\t<li>'AGCGATAGAATACGATAATGGCAGCTCGCAGGACGT'</li>\n",
       "\t<li>'AGCGATAGAATATTACTTTCCGCGGACTGTACTGAC'</li>\n",
       "\t<li>'AGCGATAGACCAGGCGCATGGCAGCTCGATAGAGGC'</li>\n",
       "\t<li>'AGCGATAGAGATTACGTTGCGCAATGACGTACTGAC'</li>\n",
       "\t<li>'AGCGATAGAGGTCAGCTTGGAGTTGCGTGTACTGAC'</li>\n",
       "\t<li>'AGCGATAGAGTTGAATCAAAGCTAGGTTCCTATCCT'</li>\n",
       "</ol>\n"
      ],
      "text/latex": [
       "\\begin{enumerate*}\n",
       "\\item 'AGCGATAGAATACGATAATGGCAGCTCGCAGGACGT'\n",
       "\\item 'AGCGATAGAATATTACTTTCCGCGGACTGTACTGAC'\n",
       "\\item 'AGCGATAGACCAGGCGCATGGCAGCTCGATAGAGGC'\n",
       "\\item 'AGCGATAGAGATTACGTTGCGCAATGACGTACTGAC'\n",
       "\\item 'AGCGATAGAGGTCAGCTTGGAGTTGCGTGTACTGAC'\n",
       "\\item 'AGCGATAGAGTTGAATCAAAGCTAGGTTCCTATCCT'\n",
       "\\end{enumerate*}\n"
      ],
      "text/markdown": [
       "1. 'AGCGATAGAATACGATAATGGCAGCTCGCAGGACGT'\n",
       "2. 'AGCGATAGAATATTACTTTCCGCGGACTGTACTGAC'\n",
       "3. 'AGCGATAGACCAGGCGCATGGCAGCTCGATAGAGGC'\n",
       "4. 'AGCGATAGAGATTACGTTGCGCAATGACGTACTGAC'\n",
       "5. 'AGCGATAGAGGTCAGCTTGGAGTTGCGTGTACTGAC'\n",
       "6. 'AGCGATAGAGTTGAATCAAAGCTAGGTTCCTATCCT'\n",
       "\n",
       "\n"
      ],
      "text/plain": [
       "[1] \"AGCGATAGAATACGATAATGGCAGCTCGCAGGACGT\"\n",
       "[2] \"AGCGATAGAATATTACTTTCCGCGGACTGTACTGAC\"\n",
       "[3] \"AGCGATAGACCAGGCGCATGGCAGCTCGATAGAGGC\"\n",
       "[4] \"AGCGATAGAGATTACGTTGCGCAATGACGTACTGAC\"\n",
       "[5] \"AGCGATAGAGGTCAGCTTGGAGTTGCGTGTACTGAC\"\n",
       "[6] \"AGCGATAGAGTTGAATCAAAGCTAGGTTCCTATCCT\""
      ]
     },
     "metadata": {},
     "output_type": "display_data"
    }
   ],
   "source": [
    "cellnames <- sapply(strsplit(basename(bamFiles),'.',fixed = TRUE), \"[[\", 2)\n",
    "head(cellnames)"
   ]
  },
  {
   "cell_type": "code",
   "execution_count": 10,
   "metadata": {
    "scrolled": true
   },
   "outputs": [
    {
     "data": {
      "text/html": [
       "20"
      ],
      "text/latex": [
       "20"
      ],
      "text/markdown": [
       "20"
      ],
      "text/plain": [
       "[1] 20"
      ]
     },
     "metadata": {},
     "output_type": "display_data"
    }
   ],
   "source": [
    "sum(cellnames == rownames(metadata))"
   ]
  },
  {
   "cell_type": "code",
   "execution_count": 11,
   "metadata": {},
   "outputs": [],
   "source": [
    "ix = match(rownames(metadata),cellnames)\n",
    "bamFiles = bamFiles[ix]\n",
    "cellnames = cellnames[ix]"
   ]
  },
  {
   "cell_type": "code",
   "execution_count": 12,
   "metadata": {},
   "outputs": [
    {
     "data": {
      "text/html": [
       "12178"
      ],
      "text/latex": [
       "12178"
      ],
      "text/markdown": [
       "12178"
      ],
      "text/plain": [
       "[1] 12178"
      ]
     },
     "metadata": {},
     "output_type": "display_data"
    }
   ],
   "source": [
    "sum(cellnames == rownames(metadata))"
   ]
  },
  {
   "cell_type": "code",
   "execution_count": 13,
   "metadata": {},
   "outputs": [],
   "source": [
    "regions <- '../../input/combined.sorted.merged.bed'"
   ]
  },
  {
   "cell_type": "code",
   "execution_count": null,
   "metadata": {},
   "outputs": [],
   "source": [
    "cisTopicObject <- createcisTopicObjectFromBAM(bamFiles, regions, project.name='cusanovich2018subset')\n",
    "cisTopicObject <- renameCells(cisTopicObject, cellnames)"
   ]
  },
  {
   "cell_type": "code",
   "execution_count": null,
   "metadata": {},
   "outputs": [],
   "source": [
    "cisTopicObject <- runModels(cisTopicObject, topic=c(10, 20, 30, 40, 50, 60), seed=987, nCores=10, burnin = 120, iterations = 150, addModels=FALSE)"
   ]
  },
  {
   "cell_type": "code",
   "execution_count": null,
   "metadata": {},
   "outputs": [],
   "source": [
    "cisTopicObject <- selectModel(cisTopicObject)"
   ]
  },
  {
   "cell_type": "code",
   "execution_count": null,
   "metadata": {},
   "outputs": [],
   "source": [
    "logLikelihoodByIter(cisTopicObject, select=c(10, 20, 30, 40, 50, 60))"
   ]
  },
  {
   "cell_type": "code",
   "execution_count": null,
   "metadata": {},
   "outputs": [],
   "source": [
    "end_time <- Sys.time()"
   ]
  },
  {
   "cell_type": "code",
   "execution_count": null,
   "metadata": {
    "scrolled": true
   },
   "outputs": [],
   "source": [
    "end_time - start_time"
   ]
  },
  {
   "cell_type": "code",
   "execution_count": null,
   "metadata": {},
   "outputs": [],
   "source": []
  },
  {
   "cell_type": "code",
   "execution_count": null,
   "metadata": {},
   "outputs": [],
   "source": [
    "cellassign <- modelMatSelection(cisTopicObject, 'cell', 'Probability')\n",
    "dim(cellassign)\n",
    "cellassign[1:5,1:5]"
   ]
  },
  {
   "cell_type": "code",
   "execution_count": null,
   "metadata": {},
   "outputs": [],
   "source": [
    "sum(colnames(cellassign) == rownames(metadata))"
   ]
  },
  {
   "cell_type": "code",
   "execution_count": null,
   "metadata": {},
   "outputs": [],
   "source": [
    "# colnames(cellassign) = rownames(metadata)\n",
    "# cellassign[1:5,1:5]"
   ]
  },
  {
   "cell_type": "code",
   "execution_count": null,
   "metadata": {},
   "outputs": [],
   "source": [
    "saveRDS(cellassign, file = '../../output/feature_matrices/FM_cisTopic_cusanovich2018subset.rds')"
   ]
  },
  {
   "cell_type": "code",
   "execution_count": null,
   "metadata": {},
   "outputs": [],
   "source": []
  },
  {
   "cell_type": "markdown",
   "metadata": {},
   "source": [
    "### Downstream Analysis"
   ]
  },
  {
   "cell_type": "code",
   "execution_count": null,
   "metadata": {},
   "outputs": [],
   "source": [
    "cisTopicObject <- addCellMetadata(cisTopicObject, cell.data = metadata)"
   ]
  },
  {
   "cell_type": "code",
   "execution_count": null,
   "metadata": {},
   "outputs": [],
   "source": [
    "cisTopicObject <- runUmap(cisTopicObject, target='cell')"
   ]
  },
  {
   "cell_type": "code",
   "execution_count": null,
   "metadata": {
    "scrolled": true
   },
   "outputs": [],
   "source": [
    "options(repr.plot.width=10, repr.plot.height=5)\n",
    "par(mfrow=c(1,2))\n",
    "plotFeatures(cisTopicObject, method='Umap', target='cell', topic_contr=NULL, colorBy=c('label','pct_ReadsInPeaks'), cex.legend = 0.8, factor.max=.75, dim=2, legend=TRUE, col.low='darkgreen', col.mid='yellow', col.high='brown1', intervals=20)"
   ]
  },
  {
   "cell_type": "code",
   "execution_count": null,
   "metadata": {},
   "outputs": [],
   "source": [
    "sessionInfo()"
   ]
  },
  {
   "cell_type": "code",
   "execution_count": null,
   "metadata": {},
   "outputs": [],
   "source": [
    "save.image(file = 'cisTopic_cusanovich2018subset.RData')"
   ]
  },
  {
   "cell_type": "code",
   "execution_count": null,
   "metadata": {},
   "outputs": [],
   "source": []
  }
 ],
 "metadata": {
  "kernelspec": {
   "display_name": "R [conda env:ATACseq_cisTopic]",
   "language": "R",
   "name": "conda-env-ATACseq_cisTopic-r"
  },
  "language_info": {
   "codemirror_mode": "r",
   "file_extension": ".r",
   "mimetype": "text/x-r-source",
   "name": "R",
   "pygments_lexer": "r",
   "version": "3.5.1"
  }
 },
 "nbformat": 4,
 "nbformat_minor": 2
}
