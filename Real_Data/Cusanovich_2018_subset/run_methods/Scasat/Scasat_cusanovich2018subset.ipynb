{
 "cells": [
  {
   "cell_type": "markdown",
   "metadata": {},
   "source": [
    "### Import packages"
   ]
  },
  {
   "cell_type": "code",
   "execution_count": 1,
   "metadata": {},
   "outputs": [
    {
     "name": "stderr",
     "output_type": "stream",
     "text": [
      "Loading required package: MASS\n",
      "Loading required package: mclust\n",
      "Package 'mclust' version 5.4.3\n",
      "Type 'citation(\"mclust\")' for citing this R package in publications.\n"
     ]
    }
   ],
   "source": [
    "library(prabclus)\n",
    "library(Matrix)\n",
    "library(Rtsne)\n",
    "library(ggplot2) "
   ]
  },
  {
   "cell_type": "code",
   "execution_count": null,
   "metadata": {},
   "outputs": [],
   "source": []
  },
  {
   "cell_type": "markdown",
   "metadata": {},
   "source": [
    "### Preprocess"
   ]
  },
  {
   "cell_type": "markdown",
   "metadata": {},
   "source": [
    "`bsub < count_reads_peaks.sh`"
   ]
  },
  {
   "cell_type": "code",
   "execution_count": 2,
   "metadata": {},
   "outputs": [
    {
     "data": {
      "text/html": [
       "12178"
      ],
      "text/latex": [
       "12178"
      ],
      "text/markdown": [
       "12178"
      ],
      "text/plain": [
       "[1] 12178"
      ]
     },
     "metadata": {},
     "output_type": "display_data"
    }
   ],
   "source": [
    "path = './count_reads_peaks_output/'\n",
    "files <- list.files(path,pattern = \"\\\\.txt$\")\n",
    "length(files)"
   ]
  },
  {
   "cell_type": "code",
   "execution_count": null,
   "metadata": {},
   "outputs": [],
   "source": [
    "#assuming tab separated values with a header    \n",
    "datalist = lapply(files, function(x)fread(paste0(path,x))$V4) \n",
    "#assuming the same header/columns for all files\n",
    "datafr = do.call(\"cbind\", datalist) "
   ]
  },
  {
   "cell_type": "code",
   "execution_count": 4,
   "metadata": {
    "scrolled": false
   },
   "outputs": [
    {
     "data": {
      "text/html": [
       "<ol class=list-inline>\n",
       "\t<li>385237</li>\n",
       "\t<li>12178</li>\n",
       "</ol>\n"
      ],
      "text/latex": [
       "\\begin{enumerate*}\n",
       "\\item 385237\n",
       "\\item 12178\n",
       "\\end{enumerate*}\n"
      ],
      "text/markdown": [
       "1. 385237\n",
       "2. 12178\n",
       "\n",
       "\n"
      ],
      "text/plain": [
       "[1] 385237  12178"
      ]
     },
     "metadata": {},
     "output_type": "display_data"
    }
   ],
   "source": [
    "dim(datafr)"
   ]
  },
  {
   "cell_type": "code",
   "execution_count": 5,
   "metadata": {},
   "outputs": [],
   "source": [
    "df_regions = read.csv(\"../../input/combined.sorted.merged.bed\",\n",
    "                      sep = '\\t',header=FALSE,stringsAsFactors=FALSE)"
   ]
  },
  {
   "cell_type": "code",
   "execution_count": 6,
   "metadata": {},
   "outputs": [
    {
     "data": {
      "text/html": [
       "<ol class=list-inline>\n",
       "\t<li>385237</li>\n",
       "\t<li>3</li>\n",
       "</ol>\n"
      ],
      "text/latex": [
       "\\begin{enumerate*}\n",
       "\\item 385237\n",
       "\\item 3\n",
       "\\end{enumerate*}\n"
      ],
      "text/markdown": [
       "1. 385237\n",
       "2. 3\n",
       "\n",
       "\n"
      ],
      "text/plain": [
       "[1] 385237      3"
      ]
     },
     "metadata": {},
     "output_type": "display_data"
    }
   ],
   "source": [
    "dim(df_regions)"
   ]
  },
  {
   "cell_type": "code",
   "execution_count": 7,
   "metadata": {},
   "outputs": [],
   "source": [
    "peaknames = paste(df_regions$V1,df_regions$V2,df_regions$V3,sep = \"_\")"
   ]
  },
  {
   "cell_type": "code",
   "execution_count": 8,
   "metadata": {},
   "outputs": [
    {
     "data": {
      "text/html": [
       "<ol class=list-inline>\n",
       "\t<li>'chr1_3002715_3002962'</li>\n",
       "\t<li>'chr1_3037090_3037634'</li>\n",
       "\t<li>'chr1_3084622_3085850'</li>\n",
       "\t<li>'chr1_3103610_3104006'</li>\n",
       "\t<li>'chr1_3106869_3107182'</li>\n",
       "\t<li>'chr1_3109389_3111052'</li>\n",
       "</ol>\n"
      ],
      "text/latex": [
       "\\begin{enumerate*}\n",
       "\\item 'chr1\\_3002715\\_3002962'\n",
       "\\item 'chr1\\_3037090\\_3037634'\n",
       "\\item 'chr1\\_3084622\\_3085850'\n",
       "\\item 'chr1\\_3103610\\_3104006'\n",
       "\\item 'chr1\\_3106869\\_3107182'\n",
       "\\item 'chr1\\_3109389\\_3111052'\n",
       "\\end{enumerate*}\n"
      ],
      "text/markdown": [
       "1. 'chr1_3002715_3002962'\n",
       "2. 'chr1_3037090_3037634'\n",
       "3. 'chr1_3084622_3085850'\n",
       "4. 'chr1_3103610_3104006'\n",
       "5. 'chr1_3106869_3107182'\n",
       "6. 'chr1_3109389_3111052'\n",
       "\n",
       "\n"
      ],
      "text/plain": [
       "[1] \"chr1_3002715_3002962\" \"chr1_3037090_3037634\" \"chr1_3084622_3085850\"\n",
       "[4] \"chr1_3103610_3104006\" \"chr1_3106869_3107182\" \"chr1_3109389_3111052\""
      ]
     },
     "metadata": {},
     "output_type": "display_data"
    }
   ],
   "source": [
    "head(peaknames)"
   ]
  },
  {
   "cell_type": "code",
   "execution_count": 9,
   "metadata": {},
   "outputs": [
    {
     "data": {
      "text/html": [
       "<ol class=list-inline>\n",
       "\t<li>'AGCGATAGAATACGATAATGGCAGCTCGCAGGACGT'</li>\n",
       "\t<li>'AGCGATAGAATATTACTTTCCGCGGACTGTACTGAC'</li>\n",
       "\t<li>'AGCGATAGACCAGGCGCATGGCAGCTCGATAGAGGC'</li>\n",
       "\t<li>'AGCGATAGAGATTACGTTGCGCAATGACGTACTGAC'</li>\n",
       "\t<li>'AGCGATAGAGGTCAGCTTGGAGTTGCGTGTACTGAC'</li>\n",
       "\t<li>'AGCGATAGAGTTGAATCAAAGCTAGGTTCCTATCCT'</li>\n",
       "</ol>\n"
      ],
      "text/latex": [
       "\\begin{enumerate*}\n",
       "\\item 'AGCGATAGAATACGATAATGGCAGCTCGCAGGACGT'\n",
       "\\item 'AGCGATAGAATATTACTTTCCGCGGACTGTACTGAC'\n",
       "\\item 'AGCGATAGACCAGGCGCATGGCAGCTCGATAGAGGC'\n",
       "\\item 'AGCGATAGAGATTACGTTGCGCAATGACGTACTGAC'\n",
       "\\item 'AGCGATAGAGGTCAGCTTGGAGTTGCGTGTACTGAC'\n",
       "\\item 'AGCGATAGAGTTGAATCAAAGCTAGGTTCCTATCCT'\n",
       "\\end{enumerate*}\n"
      ],
      "text/markdown": [
       "1. 'AGCGATAGAATACGATAATGGCAGCTCGCAGGACGT'\n",
       "2. 'AGCGATAGAATATTACTTTCCGCGGACTGTACTGAC'\n",
       "3. 'AGCGATAGACCAGGCGCATGGCAGCTCGATAGAGGC'\n",
       "4. 'AGCGATAGAGATTACGTTGCGCAATGACGTACTGAC'\n",
       "5. 'AGCGATAGAGGTCAGCTTGGAGTTGCGTGTACTGAC'\n",
       "6. 'AGCGATAGAGTTGAATCAAAGCTAGGTTCCTATCCT'\n",
       "\n",
       "\n"
      ],
      "text/plain": [
       "[1] \"AGCGATAGAATACGATAATGGCAGCTCGCAGGACGT\"\n",
       "[2] \"AGCGATAGAATATTACTTTCCGCGGACTGTACTGAC\"\n",
       "[3] \"AGCGATAGACCAGGCGCATGGCAGCTCGATAGAGGC\"\n",
       "[4] \"AGCGATAGAGATTACGTTGCGCAATGACGTACTGAC\"\n",
       "[5] \"AGCGATAGAGGTCAGCTTGGAGTTGCGTGTACTGAC\"\n",
       "[6] \"AGCGATAGAGTTGAATCAAAGCTAGGTTCCTATCCT\""
      ]
     },
     "metadata": {},
     "output_type": "display_data"
    }
   ],
   "source": [
    "head(sapply(strsplit(files,'\\\\.'),'[', 2))"
   ]
  },
  {
   "cell_type": "code",
   "execution_count": 11,
   "metadata": {},
   "outputs": [],
   "source": [
    "colnames(datafr) = sapply(strsplit(files,'\\\\.'),'[', 2)\n",
    "rownames(datafr) = peaknames"
   ]
  },
  {
   "cell_type": "code",
   "execution_count": 13,
   "metadata": {},
   "outputs": [
    {
     "data": {
      "text/html": [
       "<table>\n",
       "<thead><tr><th></th><th scope=col>AGCGATAGAATACGATAATGGCAGCTCGCAGGACGT</th><th scope=col>AGCGATAGAATATTACTTTCCGCGGACTGTACTGAC</th><th scope=col>AGCGATAGACCAGGCGCATGGCAGCTCGATAGAGGC</th><th scope=col>AGCGATAGAGATTACGTTGCGCAATGACGTACTGAC</th><th scope=col>AGCGATAGAGGTCAGCTTGGAGTTGCGTGTACTGAC</th></tr></thead>\n",
       "<tbody>\n",
       "\t<tr><th scope=row>chr1_3002715_3002962</th><td>0</td><td>0</td><td>0</td><td>0</td><td>0</td></tr>\n",
       "\t<tr><th scope=row>chr1_3037090_3037634</th><td>0</td><td>0</td><td>0</td><td>0</td><td>0</td></tr>\n",
       "\t<tr><th scope=row>chr1_3084622_3085850</th><td>0</td><td>0</td><td>0</td><td>0</td><td>0</td></tr>\n",
       "\t<tr><th scope=row>chr1_3103610_3104006</th><td>0</td><td>0</td><td>0</td><td>0</td><td>0</td></tr>\n",
       "\t<tr><th scope=row>chr1_3106869_3107182</th><td>0</td><td>0</td><td>0</td><td>0</td><td>0</td></tr>\n",
       "</tbody>\n",
       "</table>\n"
      ],
      "text/latex": [
       "\\begin{tabular}{r|lllll}\n",
       "  & AGCGATAGAATACGATAATGGCAGCTCGCAGGACGT & AGCGATAGAATATTACTTTCCGCGGACTGTACTGAC & AGCGATAGACCAGGCGCATGGCAGCTCGATAGAGGC & AGCGATAGAGATTACGTTGCGCAATGACGTACTGAC & AGCGATAGAGGTCAGCTTGGAGTTGCGTGTACTGAC\\\\\n",
       "\\hline\n",
       "\tchr1\\_3002715\\_3002962 & 0 & 0 & 0 & 0 & 0\\\\\n",
       "\tchr1\\_3037090\\_3037634 & 0 & 0 & 0 & 0 & 0\\\\\n",
       "\tchr1\\_3084622\\_3085850 & 0 & 0 & 0 & 0 & 0\\\\\n",
       "\tchr1\\_3103610\\_3104006 & 0 & 0 & 0 & 0 & 0\\\\\n",
       "\tchr1\\_3106869\\_3107182 & 0 & 0 & 0 & 0 & 0\\\\\n",
       "\\end{tabular}\n"
      ],
      "text/markdown": [
       "\n",
       "| <!--/--> | AGCGATAGAATACGATAATGGCAGCTCGCAGGACGT | AGCGATAGAATATTACTTTCCGCGGACTGTACTGAC | AGCGATAGACCAGGCGCATGGCAGCTCGATAGAGGC | AGCGATAGAGATTACGTTGCGCAATGACGTACTGAC | AGCGATAGAGGTCAGCTTGGAGTTGCGTGTACTGAC | \n",
       "|---|---|---|---|---|\n",
       "| chr1_3002715_3002962 | 0 | 0 | 0 | 0 | 0 | \n",
       "| chr1_3037090_3037634 | 0 | 0 | 0 | 0 | 0 | \n",
       "| chr1_3084622_3085850 | 0 | 0 | 0 | 0 | 0 | \n",
       "| chr1_3103610_3104006 | 0 | 0 | 0 | 0 | 0 | \n",
       "| chr1_3106869_3107182 | 0 | 0 | 0 | 0 | 0 | \n",
       "\n",
       "\n"
      ],
      "text/plain": [
       "                     AGCGATAGAATACGATAATGGCAGCTCGCAGGACGT\n",
       "chr1_3002715_3002962 0                                   \n",
       "chr1_3037090_3037634 0                                   \n",
       "chr1_3084622_3085850 0                                   \n",
       "chr1_3103610_3104006 0                                   \n",
       "chr1_3106869_3107182 0                                   \n",
       "                     AGCGATAGAATATTACTTTCCGCGGACTGTACTGAC\n",
       "chr1_3002715_3002962 0                                   \n",
       "chr1_3037090_3037634 0                                   \n",
       "chr1_3084622_3085850 0                                   \n",
       "chr1_3103610_3104006 0                                   \n",
       "chr1_3106869_3107182 0                                   \n",
       "                     AGCGATAGACCAGGCGCATGGCAGCTCGATAGAGGC\n",
       "chr1_3002715_3002962 0                                   \n",
       "chr1_3037090_3037634 0                                   \n",
       "chr1_3084622_3085850 0                                   \n",
       "chr1_3103610_3104006 0                                   \n",
       "chr1_3106869_3107182 0                                   \n",
       "                     AGCGATAGAGATTACGTTGCGCAATGACGTACTGAC\n",
       "chr1_3002715_3002962 0                                   \n",
       "chr1_3037090_3037634 0                                   \n",
       "chr1_3084622_3085850 0                                   \n",
       "chr1_3103610_3104006 0                                   \n",
       "chr1_3106869_3107182 0                                   \n",
       "                     AGCGATAGAGGTCAGCTTGGAGTTGCGTGTACTGAC\n",
       "chr1_3002715_3002962 0                                   \n",
       "chr1_3037090_3037634 0                                   \n",
       "chr1_3084622_3085850 0                                   \n",
       "chr1_3103610_3104006 0                                   \n",
       "chr1_3106869_3107182 0                                   "
      ]
     },
     "metadata": {},
     "output_type": "display_data"
    }
   ],
   "source": [
    "datafr[1:5,1:5]"
   ]
  },
  {
   "cell_type": "code",
   "execution_count": 14,
   "metadata": {},
   "outputs": [
    {
     "data": {
      "text/html": [
       "<ol class=list-inline>\n",
       "\t<li>385237</li>\n",
       "\t<li>12178</li>\n",
       "</ol>\n"
      ],
      "text/latex": [
       "\\begin{enumerate*}\n",
       "\\item 385237\n",
       "\\item 12178\n",
       "\\end{enumerate*}\n"
      ],
      "text/markdown": [
       "1. 385237\n",
       "2. 12178\n",
       "\n",
       "\n"
      ],
      "text/plain": [
       "[1] 385237  12178"
      ]
     },
     "metadata": {},
     "output_type": "display_data"
    }
   ],
   "source": [
    "dim(datafr)"
   ]
  },
  {
   "cell_type": "code",
   "execution_count": 15,
   "metadata": {},
   "outputs": [],
   "source": [
    "# saveRDS(datafr, file = './datafr.rds')\n",
    "# datafr = readRDS('./datafr.rds')"
   ]
  },
  {
   "cell_type": "code",
   "execution_count": 16,
   "metadata": {},
   "outputs": [],
   "source": [
    "filter_peaks <- function (datafr,cutoff = 0.01){\n",
    "    binary_mat = as.matrix((datafr > 0) + 0)\n",
    "    binary_mat = Matrix(binary_mat, sparse = TRUE) \n",
    "    num_cells_ncounted = Matrix::rowSums(binary_mat)\n",
    "    ncounts = binary_mat[num_cells_ncounted >= dim(binary_mat)[2]*cutoff,]\n",
    "    ncounts = ncounts[rowSums(ncounts) > 0,]    \n",
    "    \n",
    "    options(repr.plot.width=4, repr.plot.height=4)\n",
    "    hist(log10(num_cells_ncounted),main=\"No. of Cells Each Site is Observed In\",breaks=50)\n",
    "    abline(v=log10(min(num_cells_ncounted[num_cells_ncounted >= dim(binary_mat)[2]*cutoff])),lwd=2,col=\"indianred\")\n",
    "#     hist(log10(new_counts),main=\"Number of Sites Each Cell Uses\",breaks=50)\n",
    "    datafr_filtered = datafr[rownames(ncounts),]\n",
    "    return(datafr_filtered)\n",
    "}\n",
    "\n",
    "\n",
    "getJaccardDist <- function(cdBinary){\n",
    "        \n",
    "    if(colnames(cdBinary[,2:3])[1] == 'start' && colnames(cdBinary[,2:3])[2] == 'end'){\n",
    "        SingleCell.Binary <- cdBinary[,4:(dim(cdBinary)[2])]\n",
    "    }\n",
    "    else\n",
    "        SingleCell.Binary <- cdBinary\n",
    "    \n",
    "    \n",
    "    SingleCell.Binary.Jaccard <- jaccard(as.matrix(SingleCell.Binary))\n",
    "    \n",
    "    return(SingleCell.Binary.Jaccard)\n",
    "}\n",
    "\n",
    "\n",
    "plot_tSNE <- function(cdBinary, nDimToUSE, groups=NULL, cellName, perplexity_division, ret.val=FALSE , text.label=FALSE, title=\"\"){\n",
    "\n",
    "    if(missing(nDimToUSE)){\n",
    "        stop(\"ERROR: Number of PCA's \\\"nDimToUSE\\\" to use is missing\")\n",
    "    }\n",
    "    if(missing(ret.val)){\n",
    "        ret.val = FALSE\n",
    "    }\n",
    "    \n",
    "    if(text.label==TRUE & missing(cellName)){\n",
    "        stop(\"ERROR: Please give cellName\")\n",
    "    }\n",
    "    \n",
    "    if(missing(perplexity_division)){\n",
    "        stop(\"ERROR: Please enter the number with which you want to divide the dimension of your data for perplexity setting\")\n",
    "    }\n",
    "        \n",
    "    \n",
    "    #SingleCell.Binary.Jaccard <- getJaccardDist(cdBinary)\n",
    "    #FinalPCAData <- t(SingleCell.Binary.Jaccard)\n",
    "    \n",
    "    SingleCell.Binary.Jaccard <- getJaccardDist(cdBinary)\n",
    "    fit <- cmdscale(as.dist(SingleCell.Binary.Jaccard),eig=TRUE, k=nDimToUSE)\n",
    "\n",
    "    #pcaPRComp <- prcomp(FinalPCAData)\n",
    "\n",
    "    \n",
    "    #rtsne_pca_out <- Rtsne(as.matrix(pcaPRComp$x[,1:nPCAToUSE]), perplexity = dim(pcaPRComp$x)[1]/perplexity_division, check_duplicates = FALSE)\n",
    "    rtsne_pca_out <- Rtsne(as.matrix(fit$points[,1:nDimToUSE]), perplexity = perplexity_division, \n",
    "                           check_duplicates = FALSE, pca=FALSE, theta=0.01, max_iter=3000)\n",
    "    \n",
    "    if(is.null(groups)){\n",
    "        if(ret.val==TRUE)\n",
    "            df<-data.frame(X=rtsne_pca_out$Y[,1],Y=rtsne_pca_out$Y[,2], cellName=cellName)\n",
    "        else\n",
    "            df<-data.frame(X=rtsne_pca_out$Y[,1],Y=rtsne_pca_out$Y[,2])\n",
    "        p1 <- ggplot(df, aes_string(x=\"X\",y =\"Y\"))\n",
    "    }\n",
    "    else{\n",
    "        if(ret.val==TRUE)\n",
    "            df<-data.frame(X=rtsne_pca_out$Y[,1],Y=rtsne_pca_out$Y[,2], Cell=colnames(SingleCell.Binary.Jaccard), Batch=groups, cellName=cellName)\n",
    "        else\n",
    "            df<-data.frame(X=rtsne_pca_out$Y[,1],Y=rtsne_pca_out$Y[,2], Cell=colnames(SingleCell.Binary.Jaccard), Batch=groups)\n",
    "        p1 <- ggplot(df, aes_string(x=\"X\",y =\"Y\", color=\"Batch\"))\n",
    "    }\n",
    "    \n",
    "\n",
    "    p1<-p1 + ggtitle(\"t-SNE plot\")\n",
    "    p1<-p1 + geom_point(size = 2) \n",
    "    p1<-p1 + xlab(paste(\"Dim-1\"))\n",
    "    p1<-p1 + ylab(\"Dim-2\")+\n",
    "        theme_light(base_size=24) +\n",
    "        theme(strip.background = element_blank(),\n",
    "              panel.border     = element_blank(),\n",
    "              plot.title = element_text(hjust = 0.5))\n",
    "#     if(length(levels(groups)) < 12)\n",
    "#         p1 <- p1 + scale_colour_brewer(palette=\"Set1\")\n",
    "    if(text.label==TRUE)\n",
    "        p1<-p1 + geom_text(data=df,aes(label=cellName),alpha=0.5,size=4, vjust=1,hjust=0.5,angle=45)\n",
    "    print(p1)\n",
    "    return(df)\n",
    "}"
   ]
  },
  {
   "cell_type": "code",
   "execution_count": null,
   "metadata": {},
   "outputs": [],
   "source": []
  },
  {
   "cell_type": "markdown",
   "metadata": {},
   "source": [
    "### Obtain Feature Matrix"
   ]
  },
  {
   "cell_type": "code",
   "execution_count": 17,
   "metadata": {},
   "outputs": [],
   "source": [
    "start_time <- Sys.time()"
   ]
  },
  {
   "cell_type": "code",
   "execution_count": 18,
   "metadata": {},
   "outputs": [],
   "source": [
    "metadata <- read.table('../../input/metadata.tsv',\n",
    "                         header = TRUE,\n",
    "                         stringsAsFactors=FALSE,quote=\"\",row.names=1)"
   ]
  },
  {
   "cell_type": "code",
   "execution_count": 19,
   "metadata": {
    "scrolled": true
   },
   "outputs": [
    {
     "data": {
      "image/png": "[encoded data removed]",
      "text/plain": [
       "Plot with title “No. of Cells Each Site is Observed In”"
      ]
     },
     "metadata": {},
     "output_type": "display_data"
    }
   ],
   "source": [
    "datafr_filtered <- filter_peaks(datafr)"
   ]
  },
  {
   "cell_type": "code",
   "execution_count": 20,
   "metadata": {},
   "outputs": [
    {
     "data": {
      "text/html": [
       "<ol class=list-inline>\n",
       "\t<li>142902</li>\n",
       "\t<li>12178</li>\n",
       "</ol>\n"
      ],
      "text/latex": [
       "\\begin{enumerate*}\n",
       "\\item 142902\n",
       "\\item 12178\n",
       "\\end{enumerate*}\n"
      ],
      "text/markdown": [
       "1. 142902\n",
       "2. 12178\n",
       "\n",
       "\n"
      ],
      "text/plain": [
       "[1] 142902  12178"
      ]
     },
     "metadata": {},
     "output_type": "display_data"
    }
   ],
   "source": [
    "dim(datafr_filtered)"
   ]
  },
  {
   "cell_type": "code",
   "execution_count": 21,
   "metadata": {},
   "outputs": [],
   "source": [
    "cdBinary = as.matrix((datafr_filtered > 0) + 0)\n",
    "cdBinary = Matrix(cdBinary, sparse = TRUE) "
   ]
  },
  {
   "cell_type": "code",
   "execution_count": 22,
   "metadata": {},
   "outputs": [],
   "source": [
    "## use the similar number of dimensions as shown in tutorial https://github.com/ManchesterBioinference/Scasat/blob/master/ScAsAT_functions_Buenrostro_All_Bam_Together.ipynb\n",
    "k = 15\n",
    "SingleCell.Binary.Jaccard <- getJaccardDist(cdBinary)\n",
    "fit <- cmdscale(as.dist(SingleCell.Binary.Jaccard),eig=TRUE, k=k)\n",
    "fm_Scasat = t(fit$points)"
   ]
  },
  {
   "cell_type": "code",
   "execution_count": 23,
   "metadata": {},
   "outputs": [
    {
     "data": {
      "text/html": [
       "<ol class=list-inline>\n",
       "\t<li>15</li>\n",
       "\t<li>12178</li>\n",
       "</ol>\n"
      ],
      "text/latex": [
       "\\begin{enumerate*}\n",
       "\\item 15\n",
       "\\item 12178\n",
       "\\end{enumerate*}\n"
      ],
      "text/markdown": [
       "1. 15\n",
       "2. 12178\n",
       "\n",
       "\n"
      ],
      "text/plain": [
       "[1]    15 12178"
      ]
     },
     "metadata": {},
     "output_type": "display_data"
    },
    {
     "data": {
      "text/html": [
       "<table>\n",
       "<thead><tr><th scope=col>AGCGATAGAATACGATAATGGCAGCTCGCAGGACGT</th><th scope=col>AGCGATAGAATATTACTTTCCGCGGACTGTACTGAC</th><th scope=col>AGCGATAGACCAGGCGCATGGCAGCTCGATAGAGGC</th><th scope=col>AGCGATAGAGATTACGTTGCGCAATGACGTACTGAC</th><th scope=col>AGCGATAGAGGTCAGCTTGGAGTTGCGTGTACTGAC</th></tr></thead>\n",
       "<tbody>\n",
       "\t<tr><td>-0.0693169608</td><td>-0.001079940 </td><td> 0.05696282  </td><td>-0.065644888 </td><td>-0.031449504 </td></tr>\n",
       "\t<tr><td>-0.0443283211</td><td>-0.042154498 </td><td> 0.06296769  </td><td>-0.035717455 </td><td>-0.091638930 </td></tr>\n",
       "\t<tr><td> 0.0100248533</td><td> 0.003686067 </td><td> 0.02084601  </td><td>-0.001086196 </td><td> 0.005620094 </td></tr>\n",
       "\t<tr><td> 0.0211283651</td><td> 0.010922273 </td><td> 0.04571905  </td><td>-0.015908019 </td><td>-0.011147807 </td></tr>\n",
       "\t<tr><td> 0.0004866456</td><td>-0.021881967 </td><td>-0.01661780  </td><td>-0.010943796 </td><td>-0.060683427 </td></tr>\n",
       "</tbody>\n",
       "</table>\n"
      ],
      "text/latex": [
       "\\begin{tabular}{lllll}\n",
       " AGCGATAGAATACGATAATGGCAGCTCGCAGGACGT & AGCGATAGAATATTACTTTCCGCGGACTGTACTGAC & AGCGATAGACCAGGCGCATGGCAGCTCGATAGAGGC & AGCGATAGAGATTACGTTGCGCAATGACGTACTGAC & AGCGATAGAGGTCAGCTTGGAGTTGCGTGTACTGAC\\\\\n",
       "\\hline\n",
       "\t -0.0693169608 & -0.001079940  &  0.05696282   & -0.065644888  & -0.031449504 \\\\\n",
       "\t -0.0443283211 & -0.042154498  &  0.06296769   & -0.035717455  & -0.091638930 \\\\\n",
       "\t  0.0100248533 &  0.003686067  &  0.02084601   & -0.001086196  &  0.005620094 \\\\\n",
       "\t  0.0211283651 &  0.010922273  &  0.04571905   & -0.015908019  & -0.011147807 \\\\\n",
       "\t  0.0004866456 & -0.021881967  & -0.01661780   & -0.010943796  & -0.060683427 \\\\\n",
       "\\end{tabular}\n"
      ],
      "text/markdown": [
       "\n",
       "AGCGATAGAATACGATAATGGCAGCTCGCAGGACGT | AGCGATAGAATATTACTTTCCGCGGACTGTACTGAC | AGCGATAGACCAGGCGCATGGCAGCTCGATAGAGGC | AGCGATAGAGATTACGTTGCGCAATGACGTACTGAC | AGCGATAGAGGTCAGCTTGGAGTTGCGTGTACTGAC | \n",
       "|---|---|---|---|---|\n",
       "| -0.0693169608 | -0.001079940  |  0.05696282   | -0.065644888  | -0.031449504  | \n",
       "| -0.0443283211 | -0.042154498  |  0.06296769   | -0.035717455  | -0.091638930  | \n",
       "|  0.0100248533 |  0.003686067  |  0.02084601   | -0.001086196  |  0.005620094  | \n",
       "|  0.0211283651 |  0.010922273  |  0.04571905   | -0.015908019  | -0.011147807  | \n",
       "|  0.0004866456 | -0.021881967  | -0.01661780   | -0.010943796  | -0.060683427  | \n",
       "\n",
       "\n"
      ],
      "text/plain": [
       "     AGCGATAGAATACGATAATGGCAGCTCGCAGGACGT AGCGATAGAATATTACTTTCCGCGGACTGTACTGAC\n",
       "[1,] -0.0693169608                        -0.001079940                        \n",
       "[2,] -0.0443283211                        -0.042154498                        \n",
       "[3,]  0.0100248533                         0.003686067                        \n",
       "[4,]  0.0211283651                         0.010922273                        \n",
       "[5,]  0.0004866456                        -0.021881967                        \n",
       "     AGCGATAGACCAGGCGCATGGCAGCTCGATAGAGGC AGCGATAGAGATTACGTTGCGCAATGACGTACTGAC\n",
       "[1,]  0.05696282                          -0.065644888                        \n",
       "[2,]  0.06296769                          -0.035717455                        \n",
       "[3,]  0.02084601                          -0.001086196                        \n",
       "[4,]  0.04571905                          -0.015908019                        \n",
       "[5,] -0.01661780                          -0.010943796                        \n",
       "     AGCGATAGAGGTCAGCTTGGAGTTGCGTGTACTGAC\n",
       "[1,] -0.031449504                        \n",
       "[2,] -0.091638930                        \n",
       "[3,]  0.005620094                        \n",
       "[4,] -0.011147807                        \n",
       "[5,] -0.060683427                        "
      ]
     },
     "metadata": {},
     "output_type": "display_data"
    }
   ],
   "source": [
    "dim(fm_Scasat)\n",
    "fm_Scasat[1:5,1:5]"
   ]
  },
  {
   "cell_type": "code",
   "execution_count": 24,
   "metadata": {},
   "outputs": [],
   "source": [
    "end_time <- Sys.time()"
   ]
  },
  {
   "cell_type": "code",
   "execution_count": 25,
   "metadata": {},
   "outputs": [
    {
     "data": {
      "text/plain": [
       "Time difference of 10.8073 mins"
      ]
     },
     "metadata": {},
     "output_type": "display_data"
    }
   ],
   "source": [
    "end_time - start_time"
   ]
  },
  {
   "cell_type": "code",
   "execution_count": null,
   "metadata": {},
   "outputs": [],
   "source": []
  },
  {
   "cell_type": "code",
   "execution_count": 26,
   "metadata": {},
   "outputs": [
    {
     "data": {
      "text/html": [
       "<table>\n",
       "<thead><tr><th></th><th scope=col>AGCGATAGAATACGATAATGGCAGCTCGCAGGACGT</th><th scope=col>AGCGATAGAATATTACTTTCCGCGGACTGTACTGAC</th><th scope=col>AGCGATAGACCAGGCGCATGGCAGCTCGATAGAGGC</th><th scope=col>AGCGATAGAGATTACGTTGCGCAATGACGTACTGAC</th><th scope=col>AGCGATAGAGGTCAGCTTGGAGTTGCGTGTACTGAC</th></tr></thead>\n",
       "<tbody>\n",
       "\t<tr><th scope=row>Dim 1</th><td>-0.0693169608</td><td>-0.001079940 </td><td> 0.05696282  </td><td>-0.065644888 </td><td>-0.031449504 </td></tr>\n",
       "\t<tr><th scope=row>Dim 2</th><td>-0.0443283211</td><td>-0.042154498 </td><td> 0.06296769  </td><td>-0.035717455 </td><td>-0.091638930 </td></tr>\n",
       "\t<tr><th scope=row>Dim 3</th><td> 0.0100248533</td><td> 0.003686067 </td><td> 0.02084601  </td><td>-0.001086196 </td><td> 0.005620094 </td></tr>\n",
       "\t<tr><th scope=row>Dim 4</th><td> 0.0211283651</td><td> 0.010922273 </td><td> 0.04571905  </td><td>-0.015908019 </td><td>-0.011147807 </td></tr>\n",
       "\t<tr><th scope=row>Dim 5</th><td> 0.0004866456</td><td>-0.021881967 </td><td>-0.01661780  </td><td>-0.010943796 </td><td>-0.060683427 </td></tr>\n",
       "</tbody>\n",
       "</table>\n"
      ],
      "text/latex": [
       "\\begin{tabular}{r|lllll}\n",
       "  & AGCGATAGAATACGATAATGGCAGCTCGCAGGACGT & AGCGATAGAATATTACTTTCCGCGGACTGTACTGAC & AGCGATAGACCAGGCGCATGGCAGCTCGATAGAGGC & AGCGATAGAGATTACGTTGCGCAATGACGTACTGAC & AGCGATAGAGGTCAGCTTGGAGTTGCGTGTACTGAC\\\\\n",
       "\\hline\n",
       "\tDim 1 & -0.0693169608 & -0.001079940  &  0.05696282   & -0.065644888  & -0.031449504 \\\\\n",
       "\tDim 2 & -0.0443283211 & -0.042154498  &  0.06296769   & -0.035717455  & -0.091638930 \\\\\n",
       "\tDim 3 &  0.0100248533 &  0.003686067  &  0.02084601   & -0.001086196  &  0.005620094 \\\\\n",
       "\tDim 4 &  0.0211283651 &  0.010922273  &  0.04571905   & -0.015908019  & -0.011147807 \\\\\n",
       "\tDim 5 &  0.0004866456 & -0.021881967  & -0.01661780   & -0.010943796  & -0.060683427 \\\\\n",
       "\\end{tabular}\n"
      ],
      "text/markdown": [
       "\n",
       "| <!--/--> | AGCGATAGAATACGATAATGGCAGCTCGCAGGACGT | AGCGATAGAATATTACTTTCCGCGGACTGTACTGAC | AGCGATAGACCAGGCGCATGGCAGCTCGATAGAGGC | AGCGATAGAGATTACGTTGCGCAATGACGTACTGAC | AGCGATAGAGGTCAGCTTGGAGTTGCGTGTACTGAC | \n",
       "|---|---|---|---|---|\n",
       "| Dim 1 | -0.0693169608 | -0.001079940  |  0.05696282   | -0.065644888  | -0.031449504  | \n",
       "| Dim 2 | -0.0443283211 | -0.042154498  |  0.06296769   | -0.035717455  | -0.091638930  | \n",
       "| Dim 3 |  0.0100248533 |  0.003686067  |  0.02084601   | -0.001086196  |  0.005620094  | \n",
       "| Dim 4 |  0.0211283651 |  0.010922273  |  0.04571905   | -0.015908019  | -0.011147807  | \n",
       "| Dim 5 |  0.0004866456 | -0.021881967  | -0.01661780   | -0.010943796  | -0.060683427  | \n",
       "\n",
       "\n"
      ],
      "text/plain": [
       "      AGCGATAGAATACGATAATGGCAGCTCGCAGGACGT AGCGATAGAATATTACTTTCCGCGGACTGTACTGAC\n",
       "Dim 1 -0.0693169608                        -0.001079940                        \n",
       "Dim 2 -0.0443283211                        -0.042154498                        \n",
       "Dim 3  0.0100248533                         0.003686067                        \n",
       "Dim 4  0.0211283651                         0.010922273                        \n",
       "Dim 5  0.0004866456                        -0.021881967                        \n",
       "      AGCGATAGACCAGGCGCATGGCAGCTCGATAGAGGC AGCGATAGAGATTACGTTGCGCAATGACGTACTGAC\n",
       "Dim 1  0.05696282                          -0.065644888                        \n",
       "Dim 2  0.06296769                          -0.035717455                        \n",
       "Dim 3  0.02084601                          -0.001086196                        \n",
       "Dim 4  0.04571905                          -0.015908019                        \n",
       "Dim 5 -0.01661780                          -0.010943796                        \n",
       "      AGCGATAGAGGTCAGCTTGGAGTTGCGTGTACTGAC\n",
       "Dim 1 -0.031449504                        \n",
       "Dim 2 -0.091638930                        \n",
       "Dim 3  0.005620094                        \n",
       "Dim 4 -0.011147807                        \n",
       "Dim 5 -0.060683427                        "
      ]
     },
     "metadata": {},
     "output_type": "display_data"
    }
   ],
   "source": [
    "rownames(fm_Scasat) = paste('Dim',1:dim(fm_Scasat)[1])\n",
    "fm_Scasat[1:5,1:5]"
   ]
  },
  {
   "cell_type": "code",
   "execution_count": 27,
   "metadata": {},
   "outputs": [
    {
     "data": {
      "text/html": [
       "FALSE"
      ],
      "text/latex": [
       "FALSE"
      ],
      "text/markdown": [
       "FALSE"
      ],
      "text/plain": [
       "[1] FALSE"
      ]
     },
     "metadata": {},
     "output_type": "display_data"
    }
   ],
   "source": [
    "all(colnames(fm_Scasat) == rownames(metadata))"
   ]
  },
  {
   "cell_type": "code",
   "execution_count": 28,
   "metadata": {},
   "outputs": [
    {
     "data": {
      "text/html": [
       "<ol class=list-inline>\n",
       "\t<li>15</li>\n",
       "\t<li>12178</li>\n",
       "</ol>\n"
      ],
      "text/latex": [
       "\\begin{enumerate*}\n",
       "\\item 15\n",
       "\\item 12178\n",
       "\\end{enumerate*}\n"
      ],
      "text/markdown": [
       "1. 15\n",
       "2. 12178\n",
       "\n",
       "\n"
      ],
      "text/plain": [
       "[1]    15 12178"
      ]
     },
     "metadata": {},
     "output_type": "display_data"
    }
   ],
   "source": [
    "fm_Scasat = fm_Scasat[,rownames(metadata)]\n",
    "dim(fm_Scasat)"
   ]
  },
  {
   "cell_type": "code",
   "execution_count": 30,
   "metadata": {},
   "outputs": [
    {
     "data": {
      "text/html": [
       "TRUE"
      ],
      "text/latex": [
       "TRUE"
      ],
      "text/markdown": [
       "TRUE"
      ],
      "text/plain": [
       "[1] TRUE"
      ]
     },
     "metadata": {},
     "output_type": "display_data"
    }
   ],
   "source": [
    "all(colnames(fm_Scasat) == rownames(metadata))"
   ]
  },
  {
   "cell_type": "code",
   "execution_count": 31,
   "metadata": {},
   "outputs": [],
   "source": [
    "saveRDS(fm_Scasat, file = '../../output/feature_matrices/FM_Scasat_cusanovich2018subset.rds')"
   ]
  },
  {
   "cell_type": "code",
   "execution_count": null,
   "metadata": {},
   "outputs": [],
   "source": []
  },
  {
   "cell_type": "markdown",
   "metadata": {},
   "source": [
    "### Downstream Analysis"
   ]
  },
  {
   "cell_type": "code",
   "execution_count": null,
   "metadata": {
    "scrolled": true
   },
   "outputs": [],
   "source": [
    "options(repr.plot.width=6, repr.plot.height=4)\n",
    "set.seed(2019)\n",
    "tsNE_out_2PCs <- plot_tSNE(cdBinary, k, groups=metadata$label, perplexity=30, \n",
    "                              cellName=rownames(metadata),ret.val=TRUE, text.label=F)"
   ]
  },
  {
   "cell_type": "code",
   "execution_count": null,
   "metadata": {},
   "outputs": [],
   "source": [
    "sessionInfo()"
   ]
  },
  {
   "cell_type": "code",
   "execution_count": null,
   "metadata": {},
   "outputs": [],
   "source": [
    "save.image(file = 'Scasat_cusanovich2018subset.RData')"
   ]
  },
  {
   "cell_type": "code",
   "execution_count": null,
   "metadata": {},
   "outputs": [],
   "source": []
  }
 ],
 "metadata": {
  "kernelspec": {
   "display_name": "R [conda env:ATACseq_scasat]",
   "language": "R",
   "name": "conda-env-ATACseq_scasat-r"
  },
  "language_info": {
   "codemirror_mode": "r",
   "file_extension": ".r",
   "mimetype": "text/x-r-source",
   "name": "R",
   "pygments_lexer": "r",
   "version": "3.5.1"
  }
 },
 "nbformat": 4,
 "nbformat_minor": 2
}
