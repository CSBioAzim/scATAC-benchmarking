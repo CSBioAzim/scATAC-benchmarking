{
 "cells": [
  {
   "cell_type": "markdown",
   "metadata": {},
   "source": [
    "### Installation"
   ]
  },
  {
   "cell_type": "code",
   "execution_count": 1,
   "metadata": {
    "scrolled": true
   },
   "outputs": [],
   "source": [
    "# if (!requireNamespace(\"BiocManager\", quietly = TRUE))\n",
    "#     install.packages(\"BiocManager\")\n",
    "# BiocManager::install(\"chromVAR\", version = \"3.8\")\n",
    "# BiocManager::install(\"motifmatchr\", version = \"3.8\")\n",
    "# BiocManager::install(\"BSgenome.Hsapiens.UCSC.hg19\", version = \"3.8\")\n",
    "# BiocManager::install(\"JASPAR2016\", version = \"3.8\")"
   ]
  },
  {
   "cell_type": "code",
   "execution_count": null,
   "metadata": {},
   "outputs": [],
   "source": []
  },
  {
   "cell_type": "markdown",
   "metadata": {},
   "source": [
    "###  Import packages"
   ]
  },
  {
   "cell_type": "code",
   "execution_count": 2,
   "metadata": {
    "scrolled": true
   },
   "outputs": [
    {
     "name": "stderr",
     "output_type": "stream",
     "text": [
      "\n",
      "Loading required package: GenomicRanges\n",
      "Loading required package: stats4\n",
      "Loading required package: BiocGenerics\n",
      "Loading required package: parallel\n",
      "\n",
      "Attaching package: ‘BiocGenerics’\n",
      "\n",
      "The following objects are masked from ‘package:parallel’:\n",
      "\n",
      "    clusterApply, clusterApplyLB, clusterCall, clusterEvalQ,\n",
      "    clusterExport, clusterMap, parApply, parCapply, parLapply,\n",
      "    parLapplyLB, parRapply, parSapply, parSapplyLB\n",
      "\n",
      "The following objects are masked from ‘package:Matrix’:\n",
      "\n",
      "    colMeans, colSums, rowMeans, rowSums, which\n",
      "\n",
      "The following objects are masked from ‘package:stats’:\n",
      "\n",
      "    IQR, mad, sd, var, xtabs\n",
      "\n",
      "The following objects are masked from ‘package:base’:\n",
      "\n",
      "    anyDuplicated, append, as.data.frame, basename, cbind, colMeans,\n",
      "    colnames, colSums, dirname, do.call, duplicated, eval, evalq,\n",
      "    Filter, Find, get, grep, grepl, intersect, is.unsorted, lapply,\n",
      "    lengths, Map, mapply, match, mget, order, paste, pmax, pmax.int,\n",
      "    pmin, pmin.int, Position, rank, rbind, Reduce, rowMeans, rownames,\n",
      "    rowSums, sapply, setdiff, sort, table, tapply, union, unique,\n",
      "    unsplit, which, which.max, which.min\n",
      "\n",
      "Loading required package: S4Vectors\n",
      "\n",
      "Attaching package: ‘S4Vectors’\n",
      "\n",
      "The following object is masked from ‘package:Matrix’:\n",
      "\n",
      "    expand\n",
      "\n",
      "The following object is masked from ‘package:base’:\n",
      "\n",
      "    expand.grid\n",
      "\n",
      "Loading required package: IRanges\n",
      "Loading required package: GenomeInfoDb\n",
      "Loading required package: Biobase\n",
      "Welcome to Bioconductor\n",
      "\n",
      "    Vignettes contain introductory material; view with\n",
      "    'browseVignettes()'. To cite Bioconductor, see\n",
      "    'citation(\"Biobase\")', and for packages 'citation(\"pkgname\")'.\n",
      "\n",
      "Loading required package: DelayedArray\n",
      "Loading required package: matrixStats\n",
      "\n",
      "Attaching package: ‘matrixStats’\n",
      "\n",
      "The following objects are masked from ‘package:Biobase’:\n",
      "\n",
      "    anyMissing, rowMedians\n",
      "\n",
      "Loading required package: BiocParallel\n",
      "\n",
      "Attaching package: ‘DelayedArray’\n",
      "\n",
      "The following objects are masked from ‘package:matrixStats’:\n",
      "\n",
      "    colMaxs, colMins, colRanges, rowMaxs, rowMins, rowRanges\n",
      "\n",
      "The following objects are masked from ‘package:base’:\n",
      "\n",
      "    aperm, apply\n",
      "\n",
      "Loading required package: BSgenome\n",
      "Loading required package: Biostrings\n",
      "Loading required package: XVector\n",
      "\n",
      "Attaching package: ‘Biostrings’\n",
      "\n",
      "The following object is masked from ‘package:DelayedArray’:\n",
      "\n",
      "    type\n",
      "\n",
      "The following object is masked from ‘package:base’:\n",
      "\n",
      "    strsplit\n",
      "\n",
      "Loading required package: rtracklayer\n"
     ]
    }
   ],
   "source": [
    "library(chromVAR)\n",
    "library(motifmatchr)\n",
    "library(Matrix)\n",
    "library(SummarizedExperiment)\n",
    "library(BiocParallel)\n",
    "library('JASPAR2016')\n",
    "library(BSgenome.Hsapiens.UCSC.hg19)"
   ]
  },
  {
   "cell_type": "code",
   "execution_count": 3,
   "metadata": {},
   "outputs": [
    {
     "data": {
      "text/plain": [
       "[1] ‘1.4.1’"
      ]
     },
     "metadata": {},
     "output_type": "display_data"
    }
   ],
   "source": [
    "packageVersion(\"chromVAR\")"
   ]
  },
  {
   "cell_type": "code",
   "execution_count": 4,
   "metadata": {},
   "outputs": [],
   "source": [
    "register(MulticoreParam(10))"
   ]
  },
  {
   "cell_type": "code",
   "execution_count": null,
   "metadata": {},
   "outputs": [],
   "source": []
  },
  {
   "cell_type": "markdown",
   "metadata": {},
   "source": [
    "### Obtain Feature Matrix"
   ]
  },
  {
   "cell_type": "code",
   "execution_count": 5,
   "metadata": {},
   "outputs": [],
   "source": [
    "start_time <- Sys.time()"
   ]
  },
  {
   "cell_type": "code",
   "execution_count": 6,
   "metadata": {},
   "outputs": [],
   "source": [
    "set.seed(2019)"
   ]
  },
  {
   "cell_type": "code",
   "execution_count": 7,
   "metadata": {},
   "outputs": [],
   "source": [
    "metadata <- read.table('../../input/metadata.tsv',\n",
    "                         header = TRUE,\n",
    "                         stringsAsFactors=FALSE,quote=\"\",row.names=1)"
   ]
  },
  {
   "cell_type": "code",
   "execution_count": 8,
   "metadata": {
    "scrolled": true
   },
   "outputs": [
    {
     "name": "stderr",
     "output_type": "stream",
     "text": [
      "Peaks sorted\n"
     ]
    }
   ],
   "source": [
    "peakfile <- \"../../input/GSE96769_PeakFile_20160207.bed\"\n",
    "peaks <- getPeaks(peakfile, sort_peaks = TRUE)"
   ]
  },
  {
   "cell_type": "markdown",
   "metadata": {},
   "source": [
    "`width=500` will cause the error: Error in loadFUN(x, seqname, ranges): trying to load regions beyond the boundaries of non-circular sequence \"chr17\""
   ]
  },
  {
   "cell_type": "code",
   "execution_count": 9,
   "metadata": {},
   "outputs": [],
   "source": [
    "peaks <- resize(peaks, width = 450, fix = \"center\")"
   ]
  },
  {
   "cell_type": "code",
   "execution_count": 10,
   "metadata": {},
   "outputs": [],
   "source": [
    "bamfile <- list.files(path = \"../../input/sc-bams_nodup/\", pattern = \"\\\\.bam$\")"
   ]
  },
  {
   "cell_type": "code",
   "execution_count": 11,
   "metadata": {},
   "outputs": [
    {
     "data": {
      "text/html": [
       "2034"
      ],
      "text/latex": [
       "2034"
      ],
      "text/markdown": [
       "2034"
      ],
      "text/plain": [
       "[1] 2034"
      ]
     },
     "metadata": {},
     "output_type": "display_data"
    }
   ],
   "source": [
    "length(bamfile)"
   ]
  },
  {
   "cell_type": "code",
   "execution_count": 12,
   "metadata": {},
   "outputs": [],
   "source": [
    "cellnames <- sapply(strsplit(bamfile,'.',fixed = TRUE), \"[[\", 1)"
   ]
  },
  {
   "cell_type": "code",
   "execution_count": 13,
   "metadata": {},
   "outputs": [
    {
     "data": {
      "text/html": [
       "<ol class=list-inline>\n",
       "\t<li>'BM1077-CLP-Frozen-160106-13'</li>\n",
       "\t<li>'BM1077-CLP-Frozen-160106-14'</li>\n",
       "\t<li>'BM1077-CLP-Frozen-160106-2'</li>\n",
       "\t<li>'BM1077-CLP-Frozen-160106-21'</li>\n",
       "\t<li>'BM1077-CLP-Frozen-160106-27'</li>\n",
       "\t<li>'BM1077-CLP-Frozen-160106-3'</li>\n",
       "</ol>\n"
      ],
      "text/latex": [
       "\\begin{enumerate*}\n",
       "\\item 'BM1077-CLP-Frozen-160106-13'\n",
       "\\item 'BM1077-CLP-Frozen-160106-14'\n",
       "\\item 'BM1077-CLP-Frozen-160106-2'\n",
       "\\item 'BM1077-CLP-Frozen-160106-21'\n",
       "\\item 'BM1077-CLP-Frozen-160106-27'\n",
       "\\item 'BM1077-CLP-Frozen-160106-3'\n",
       "\\end{enumerate*}\n"
      ],
      "text/markdown": [
       "1. 'BM1077-CLP-Frozen-160106-13'\n",
       "2. 'BM1077-CLP-Frozen-160106-14'\n",
       "3. 'BM1077-CLP-Frozen-160106-2'\n",
       "4. 'BM1077-CLP-Frozen-160106-21'\n",
       "5. 'BM1077-CLP-Frozen-160106-27'\n",
       "6. 'BM1077-CLP-Frozen-160106-3'\n",
       "\n",
       "\n"
      ],
      "text/plain": [
       "[1] \"BM1077-CLP-Frozen-160106-13\" \"BM1077-CLP-Frozen-160106-14\"\n",
       "[3] \"BM1077-CLP-Frozen-160106-2\"  \"BM1077-CLP-Frozen-160106-21\"\n",
       "[5] \"BM1077-CLP-Frozen-160106-27\" \"BM1077-CLP-Frozen-160106-3\" "
      ]
     },
     "metadata": {},
     "output_type": "display_data"
    }
   ],
   "source": [
    "head(cellnames)"
   ]
  },
  {
   "cell_type": "code",
   "execution_count": 14,
   "metadata": {},
   "outputs": [
    {
     "data": {
      "text/html": [
       "2034"
      ],
      "text/latex": [
       "2034"
      ],
      "text/markdown": [
       "2034"
      ],
      "text/plain": [
       "[1] 2034"
      ]
     },
     "metadata": {},
     "output_type": "display_data"
    }
   ],
   "source": [
    "sum(cellnames == rownames(metadata))"
   ]
  },
  {
   "cell_type": "code",
   "execution_count": null,
   "metadata": {},
   "outputs": [
    {
     "name": "stderr",
     "output_type": "stream",
     "text": [
      "Reading in file: ../../input/sc-bams_nodup/BM1077-CLP-Frozen-160106-13.dedup.st.bam\n",
      "Reading in file: ../../input/sc-bams_nodup/BM1077-CLP-Frozen-160106-14.dedup.st.bam\n",
      "Reading in file: ../../input/sc-bams_nodup/BM1077-CLP-Frozen-160106-2.dedup.st.bam\n",
      "Reading in file: ../../input/sc-bams_nodup/BM1077-CLP-Frozen-160106-21.dedup.st.bam\n",
      "Reading in file: ../../input/sc-bams_nodup/BM1077-CLP-Frozen-160106-27.dedup.st.bam\n",
      "Reading in file: ../../input/sc-bams_nodup/BM1077-CLP-Frozen-160106-3.dedup.st.bam\n",
      "Reading in file: ../../input/sc-bams_nodup/BM1077-CLP-Frozen-160106-36.dedup.st.bam\n",
      "Reading in file: ../../input/sc-bams_nodup/BM1077-CLP-Frozen-160106-42.dedup.st.bam\n",
      "Reading in file: ../../input/sc-bams_nodup/BM1077-CLP-Frozen-160106-44.dedup.st.bam\n",
      "Reading in file: ../../input/sc-bams_nodup/BM1077-CLP-Frozen-160106-50.dedup.st.bam\n",
      "Reading in file: ../../input/sc-bams_nodup/BM1077-CLP-Frozen-160106-61.dedup.st.bam\n",
      "Reading in file: ../../input/sc-bams_nodup/BM1077-CLP-Frozen-160106-62.dedup.st.bam\n",
      "Reading in file: ../../input/sc-bams_nodup/BM1077-CLP-Frozen-160106-66.dedup.st.bam\n",
      "Reading in file: ../../input/sc-bams_nodup/BM1077-CLP-Frozen-160106-70.dedup.st.bam\n",
      "Reading in file: ../../input/sc-bams_nodup/BM1077-CLP-Frozen-160106-71.dedup.st.bam\n",
      "Reading in file: ../../input/sc-bams_nodup/BM1077-CLP-Frozen-160106-72.dedup.st.bam\n",
      "Reading in file: ../../input/sc-bams_nodup/BM1077-CLP-Frozen-160106-75.dedup.st.bam\n",
      "Reading in file: ../../input/sc-bams_nodup/BM1077-CLP-Frozen-160106-76.dedup.st.bam\n",
      "Reading in file: ../../input/sc-bams_nodup/BM1077-CLP-Frozen-160106-78.dedup.st.bam\n",
      "Reading in file: ../../input/sc-bams_nodup/BM1077-CLP-Frozen-160106-79.dedup.st.bam\n",
      "Reading in file: ../../input/sc-bams_nodup/BM1077-CLP-Frozen-160106-80.dedup.st.bam\n",
      "Reading in file: ../../input/sc-bams_nodup/BM1077-CLP-Frozen-160106-83.dedup.st.bam\n",
      "Reading in file: ../../input/sc-bams_nodup/BM1077-CLP-Frozen-160106-86.dedup.st.bam\n",
      "Reading in file: ../../input/sc-bams_nodup/BM1077-CLP-Frozen-160106-87.dedup.st.bam\n",
      "Reading in file: ../../input/sc-bams_nodup/BM1077-CLP-Frozen-160106-88.dedup.st.bam\n",
      "Reading in file: ../../input/sc-bams_nodup/BM1077-CLP-Frozen-160106-94.dedup.st.bam\n",
      "Reading in file: ../../input/sc-bams_nodup/BM1077-CLP-Frozen-160106-96.dedup.st.bam\n",
      "Reading in file: ../../input/sc-bams_nodup/BM1077-CMP-Frozen-160106-1.dedup.st.bam\n",
      "Reading in file: ../../input/sc-bams_nodup/BM1077-CMP-Frozen-160106-10.dedup.st.bam\n",
      "Reading in file: ../../input/sc-bams_nodup/BM1077-CMP-Frozen-160106-12.dedup.st.bam\n",
      "Reading in file: ../../input/sc-bams_nodup/BM1077-CMP-Frozen-160106-14.dedup.st.bam\n",
      "Reading in file: ../../input/sc-bams_nodup/BM1077-CMP-Frozen-160106-15.dedup.st.bam\n",
      "Reading in file: ../../input/sc-bams_nodup/BM1077-CMP-Frozen-160106-16.dedup.st.bam\n",
      "Reading in file: ../../input/sc-bams_nodup/BM1077-CMP-Frozen-160106-18.dedup.st.bam\n",
      "Reading in file: ../../input/sc-bams_nodup/BM1077-CMP-Frozen-160106-19.dedup.st.bam\n",
      "Reading in file: ../../input/sc-bams_nodup/BM1077-CMP-Frozen-160106-2.dedup.st.bam\n",
      "Reading in file: ../../input/sc-bams_nodup/BM1077-CMP-Frozen-160106-21.dedup.st.bam\n",
      "Reading in file: ../../input/sc-bams_nodup/BM1077-CMP-Frozen-160106-22.dedup.st.bam\n",
      "Reading in file: ../../input/sc-bams_nodup/BM1077-CMP-Frozen-160106-23.dedup.st.bam\n",
      "Reading in file: ../../input/sc-bams_nodup/BM1077-CMP-Frozen-160106-24.dedup.st.bam\n",
      "Reading in file: ../../input/sc-bams_nodup/BM1077-CMP-Frozen-160106-25.dedup.st.bam\n",
      "Reading in file: ../../input/sc-bams_nodup/BM1077-CMP-Frozen-160106-26.dedup.st.bam\n",
      "Reading in file: ../../input/sc-bams_nodup/BM1077-CMP-Frozen-160106-28.dedup.st.bam\n",
      "Reading in file: ../../input/sc-bams_nodup/BM1077-CMP-Frozen-160106-3.dedup.st.bam\n",
      "Reading in file: ../../input/sc-bams_nodup/BM1077-CMP-Frozen-160106-30.dedup.st.bam\n",
      "Reading in file: ../../input/sc-bams_nodup/BM1077-CMP-Frozen-160106-31.dedup.st.bam\n",
      "Reading in file: ../../input/sc-bams_nodup/BM1077-CMP-Frozen-160106-32.dedup.st.bam\n",
      "Reading in file: ../../input/sc-bams_nodup/BM1077-CMP-Frozen-160106-33.dedup.st.bam\n",
      "Reading in file: ../../input/sc-bams_nodup/BM1077-CMP-Frozen-160106-34.dedup.st.bam\n",
      "Reading in file: ../../input/sc-bams_nodup/BM1077-CMP-Frozen-160106-35.dedup.st.bam\n",
      "Reading in file: ../../input/sc-bams_nodup/BM1077-CMP-Frozen-160106-36.dedup.st.bam\n",
      "Reading in file: ../../input/sc-bams_nodup/BM1077-CMP-Frozen-160106-37.dedup.st.bam\n",
      "Reading in file: ../../input/sc-bams_nodup/BM1077-CMP-Frozen-160106-39.dedup.st.bam\n",
      "Reading in file: ../../input/sc-bams_nodup/BM1077-CMP-Frozen-160106-4.dedup.st.bam\n",
      "Reading in file: ../../input/sc-bams_nodup/BM1077-CMP-Frozen-160106-40.dedup.st.bam\n",
      "Reading in file: ../../input/sc-bams_nodup/BM1077-CMP-Frozen-160106-42.dedup.st.bam\n",
      "Reading in file: ../../input/sc-bams_nodup/BM1077-CMP-Frozen-160106-43.dedup.st.bam\n",
      "Reading in file: ../../input/sc-bams_nodup/BM1077-CMP-Frozen-160106-44.dedup.st.bam\n",
      "Reading in file: ../../input/sc-bams_nodup/BM1077-CMP-Frozen-160106-45.dedup.st.bam\n",
      "Reading in file: ../../input/sc-bams_nodup/BM1077-CMP-Frozen-160106-46.dedup.st.bam\n",
      "Reading in file: ../../input/sc-bams_nodup/BM1077-CMP-Frozen-160106-49.dedup.st.bam\n",
      "Reading in file: ../../input/sc-bams_nodup/BM1077-CMP-Frozen-160106-5.dedup.st.bam\n",
      "Reading in file: ../../input/sc-bams_nodup/BM1077-CMP-Frozen-160106-50.dedup.st.bam\n",
      "Reading in file: ../../input/sc-bams_nodup/BM1077-CMP-Frozen-160106-51.dedup.st.bam\n",
      "Reading in file: ../../input/sc-bams_nodup/BM1077-CMP-Frozen-160106-52.dedup.st.bam\n",
      "Reading in file: ../../input/sc-bams_nodup/BM1077-CMP-Frozen-160106-53.dedup.st.bam\n",
      "Reading in file: ../../input/sc-bams_nodup/BM1077-CMP-Frozen-160106-55.dedup.st.bam\n",
      "Reading in file: ../../input/sc-bams_nodup/BM1077-CMP-Frozen-160106-56.dedup.st.bam\n",
      "Reading in file: ../../input/sc-bams_nodup/BM1077-CMP-Frozen-160106-57.dedup.st.bam\n",
      "Reading in file: ../../input/sc-bams_nodup/BM1077-CMP-Frozen-160106-58.dedup.st.bam\n",
      "Reading in file: ../../input/sc-bams_nodup/BM1077-CMP-Frozen-160106-59.dedup.st.bam\n",
      "Reading in file: ../../input/sc-bams_nodup/BM1077-CMP-Frozen-160106-6.dedup.st.bam\n",
      "Reading in file: ../../input/sc-bams_nodup/BM1077-CMP-Frozen-160106-60.dedup.st.bam\n",
      "Reading in file: ../../input/sc-bams_nodup/BM1077-CMP-Frozen-160106-61.dedup.st.bam\n",
      "Reading in file: ../../input/sc-bams_nodup/BM1077-CMP-Frozen-160106-62.dedup.st.bam\n",
      "Reading in file: ../../input/sc-bams_nodup/BM1077-CMP-Frozen-160106-64.dedup.st.bam\n",
      "Reading in file: ../../input/sc-bams_nodup/BM1077-CMP-Frozen-160106-66.dedup.st.bam\n",
      "Reading in file: ../../input/sc-bams_nodup/BM1077-CMP-Frozen-160106-67.dedup.st.bam\n",
      "Reading in file: ../../input/sc-bams_nodup/BM1077-CMP-Frozen-160106-68.dedup.st.bam\n",
      "Reading in file: ../../input/sc-bams_nodup/BM1077-CMP-Frozen-160106-69.dedup.st.bam\n",
      "Reading in file: ../../input/sc-bams_nodup/BM1077-CMP-Frozen-160106-70.dedup.st.bam\n",
      "Reading in file: ../../input/sc-bams_nodup/BM1077-CMP-Frozen-160106-71.dedup.st.bam\n",
      "Reading in file: ../../input/sc-bams_nodup/BM1077-CMP-Frozen-160106-72.dedup.st.bam\n",
      "Reading in file: ../../input/sc-bams_nodup/BM1077-CMP-Frozen-160106-74.dedup.st.bam\n",
      "Reading in file: ../../input/sc-bams_nodup/BM1077-CMP-Frozen-160106-75.dedup.st.bam\n",
      "Reading in file: ../../input/sc-bams_nodup/BM1077-CMP-Frozen-160106-76.dedup.st.bam\n",
      "Reading in file: ../../input/sc-bams_nodup/BM1077-CMP-Frozen-160106-77.dedup.st.bam\n",
      "Reading in file: ../../input/sc-bams_nodup/BM1077-CMP-Frozen-160106-78.dedup.st.bam\n",
      "Reading in file: ../../input/sc-bams_nodup/BM1077-CMP-Frozen-160106-79.dedup.st.bam\n",
      "Reading in file: ../../input/sc-bams_nodup/BM1077-CMP-Frozen-160106-8.dedup.st.bam\n",
      "Reading in file: ../../input/sc-bams_nodup/BM1077-CMP-Frozen-160106-80.dedup.st.bam\n",
      "Reading in file: ../../input/sc-bams_nodup/BM1077-CMP-Frozen-160106-82.dedup.st.bam\n",
      "Reading in file: ../../input/sc-bams_nodup/BM1077-CMP-Frozen-160106-83.dedup.st.bam\n",
      "Reading in file: ../../input/sc-bams_nodup/BM1077-CMP-Frozen-160106-84.dedup.st.bam\n",
      "Reading in file: ../../input/sc-bams_nodup/BM1077-CMP-Frozen-160106-85.dedup.st.bam\n",
      "Reading in file: ../../input/sc-bams_nodup/BM1077-CMP-Frozen-160106-86.dedup.st.bam\n",
      "Reading in file: ../../input/sc-bams_nodup/BM1077-CMP-Frozen-160106-87.dedup.st.bam\n",
      "Reading in file: ../../input/sc-bams_nodup/BM1077-CMP-Frozen-160106-88.dedup.st.bam\n"
     ]
    },
    {
     "name": "stderr",
     "output_type": "stream",
     "text": [
      "Reading in file: ../../input/sc-bams_nodup/BM1077-CMP-Frozen-160106-89.dedup.st.bam\n",
      "Reading in file: ../../input/sc-bams_nodup/BM1077-CMP-Frozen-160106-91.dedup.st.bam\n",
      "Reading in file: ../../input/sc-bams_nodup/BM1077-CMP-Frozen-160106-92.dedup.st.bam\n",
      "Reading in file: ../../input/sc-bams_nodup/BM1077-CMP-Frozen-160106-95.dedup.st.bam\n",
      "Reading in file: ../../input/sc-bams_nodup/BM1077-GMP-Frozen-160107-1.dedup.st.bam\n",
      "Reading in file: ../../input/sc-bams_nodup/BM1077-GMP-Frozen-160107-10.dedup.st.bam\n",
      "Reading in file: ../../input/sc-bams_nodup/BM1077-GMP-Frozen-160107-11.dedup.st.bam\n",
      "Reading in file: ../../input/sc-bams_nodup/BM1077-GMP-Frozen-160107-14.dedup.st.bam\n",
      "Reading in file: ../../input/sc-bams_nodup/BM1077-GMP-Frozen-160107-16.dedup.st.bam\n",
      "Reading in file: ../../input/sc-bams_nodup/BM1077-GMP-Frozen-160107-20.dedup.st.bam\n",
      "Reading in file: ../../input/sc-bams_nodup/BM1077-GMP-Frozen-160107-21.dedup.st.bam\n",
      "Reading in file: ../../input/sc-bams_nodup/BM1077-GMP-Frozen-160107-22.dedup.st.bam\n",
      "Reading in file: ../../input/sc-bams_nodup/BM1077-GMP-Frozen-160107-23.dedup.st.bam\n",
      "Reading in file: ../../input/sc-bams_nodup/BM1077-GMP-Frozen-160107-25.dedup.st.bam\n",
      "Reading in file: ../../input/sc-bams_nodup/BM1077-GMP-Frozen-160107-26.dedup.st.bam\n",
      "Reading in file: ../../input/sc-bams_nodup/BM1077-GMP-Frozen-160107-27.dedup.st.bam\n",
      "Reading in file: ../../input/sc-bams_nodup/BM1077-GMP-Frozen-160107-31.dedup.st.bam\n",
      "Reading in file: ../../input/sc-bams_nodup/BM1077-GMP-Frozen-160107-32.dedup.st.bam\n",
      "Reading in file: ../../input/sc-bams_nodup/BM1077-GMP-Frozen-160107-33.dedup.st.bam\n",
      "Reading in file: ../../input/sc-bams_nodup/BM1077-GMP-Frozen-160107-37.dedup.st.bam\n",
      "Reading in file: ../../input/sc-bams_nodup/BM1077-GMP-Frozen-160107-39.dedup.st.bam\n",
      "Reading in file: ../../input/sc-bams_nodup/BM1077-GMP-Frozen-160107-40.dedup.st.bam\n",
      "Reading in file: ../../input/sc-bams_nodup/BM1077-GMP-Frozen-160107-41.dedup.st.bam\n",
      "Reading in file: ../../input/sc-bams_nodup/BM1077-GMP-Frozen-160107-43.dedup.st.bam\n",
      "Reading in file: ../../input/sc-bams_nodup/BM1077-GMP-Frozen-160107-44.dedup.st.bam\n",
      "Reading in file: ../../input/sc-bams_nodup/BM1077-GMP-Frozen-160107-45.dedup.st.bam\n",
      "Reading in file: ../../input/sc-bams_nodup/BM1077-GMP-Frozen-160107-46.dedup.st.bam\n",
      "Reading in file: ../../input/sc-bams_nodup/BM1077-GMP-Frozen-160107-47.dedup.st.bam\n",
      "Reading in file: ../../input/sc-bams_nodup/BM1077-GMP-Frozen-160107-48.dedup.st.bam\n",
      "Reading in file: ../../input/sc-bams_nodup/BM1077-GMP-Frozen-160107-49.dedup.st.bam\n",
      "Reading in file: ../../input/sc-bams_nodup/BM1077-GMP-Frozen-160107-5.dedup.st.bam\n",
      "Reading in file: ../../input/sc-bams_nodup/BM1077-GMP-Frozen-160107-50.dedup.st.bam\n",
      "Reading in file: ../../input/sc-bams_nodup/BM1077-GMP-Frozen-160107-51.dedup.st.bam\n",
      "Reading in file: ../../input/sc-bams_nodup/BM1077-GMP-Frozen-160107-52.dedup.st.bam\n",
      "Reading in file: ../../input/sc-bams_nodup/BM1077-GMP-Frozen-160107-55.dedup.st.bam\n",
      "Reading in file: ../../input/sc-bams_nodup/BM1077-GMP-Frozen-160107-56.dedup.st.bam\n",
      "Reading in file: ../../input/sc-bams_nodup/BM1077-GMP-Frozen-160107-58.dedup.st.bam\n",
      "Reading in file: ../../input/sc-bams_nodup/BM1077-GMP-Frozen-160107-59.dedup.st.bam\n",
      "Reading in file: ../../input/sc-bams_nodup/BM1077-GMP-Frozen-160107-60.dedup.st.bam\n",
      "Reading in file: ../../input/sc-bams_nodup/BM1077-GMP-Frozen-160107-62.dedup.st.bam\n",
      "Reading in file: ../../input/sc-bams_nodup/BM1077-GMP-Frozen-160107-63.dedup.st.bam\n",
      "Reading in file: ../../input/sc-bams_nodup/BM1077-GMP-Frozen-160107-67.dedup.st.bam\n",
      "Reading in file: ../../input/sc-bams_nodup/BM1077-GMP-Frozen-160107-69.dedup.st.bam\n",
      "Reading in file: ../../input/sc-bams_nodup/BM1077-GMP-Frozen-160107-71.dedup.st.bam\n",
      "Reading in file: ../../input/sc-bams_nodup/BM1077-GMP-Frozen-160107-72.dedup.st.bam\n",
      "Reading in file: ../../input/sc-bams_nodup/BM1077-GMP-Frozen-160107-73.dedup.st.bam\n",
      "Reading in file: ../../input/sc-bams_nodup/BM1077-GMP-Frozen-160107-74.dedup.st.bam\n",
      "Reading in file: ../../input/sc-bams_nodup/BM1077-GMP-Frozen-160107-75.dedup.st.bam\n",
      "Reading in file: ../../input/sc-bams_nodup/BM1077-GMP-Frozen-160107-76.dedup.st.bam\n",
      "Reading in file: ../../input/sc-bams_nodup/BM1077-GMP-Frozen-160107-77.dedup.st.bam\n",
      "Reading in file: ../../input/sc-bams_nodup/BM1077-GMP-Frozen-160107-79.dedup.st.bam\n",
      "Reading in file: ../../input/sc-bams_nodup/BM1077-GMP-Frozen-160107-80.dedup.st.bam\n",
      "Reading in file: ../../input/sc-bams_nodup/BM1077-GMP-Frozen-160107-81.dedup.st.bam\n",
      "Reading in file: ../../input/sc-bams_nodup/BM1077-GMP-Frozen-160107-83.dedup.st.bam\n",
      "Reading in file: ../../input/sc-bams_nodup/BM1077-GMP-Frozen-160107-84.dedup.st.bam\n",
      "Reading in file: ../../input/sc-bams_nodup/BM1077-GMP-Frozen-160107-85.dedup.st.bam\n",
      "Reading in file: ../../input/sc-bams_nodup/BM1077-GMP-Frozen-160107-86.dedup.st.bam\n",
      "Reading in file: ../../input/sc-bams_nodup/BM1077-GMP-Frozen-160107-87.dedup.st.bam\n",
      "Reading in file: ../../input/sc-bams_nodup/BM1077-GMP-Frozen-160107-88.dedup.st.bam\n",
      "Reading in file: ../../input/sc-bams_nodup/BM1077-GMP-Frozen-160107-89.dedup.st.bam\n",
      "Reading in file: ../../input/sc-bams_nodup/BM1077-GMP-Frozen-160107-9.dedup.st.bam\n",
      "Reading in file: ../../input/sc-bams_nodup/BM1077-GMP-Frozen-160107-91.dedup.st.bam\n",
      "Reading in file: ../../input/sc-bams_nodup/BM1077-GMP-Frozen-160107-92.dedup.st.bam\n",
      "Reading in file: ../../input/sc-bams_nodup/BM1077-GMP-Frozen-160107-96.dedup.st.bam\n",
      "Reading in file: ../../input/sc-bams_nodup/BM1077-HSC-Frozen-160105-1.dedup.st.bam\n",
      "Reading in file: ../../input/sc-bams_nodup/BM1077-HSC-Frozen-160105-10.dedup.st.bam\n",
      "Reading in file: ../../input/sc-bams_nodup/BM1077-HSC-Frozen-160105-11.dedup.st.bam\n",
      "Reading in file: ../../input/sc-bams_nodup/BM1077-HSC-Frozen-160105-12.dedup.st.bam\n",
      "Reading in file: ../../input/sc-bams_nodup/BM1077-HSC-Frozen-160105-13.dedup.st.bam\n",
      "Reading in file: ../../input/sc-bams_nodup/BM1077-HSC-Frozen-160105-14.dedup.st.bam\n",
      "Reading in file: ../../input/sc-bams_nodup/BM1077-HSC-Frozen-160105-15.dedup.st.bam\n",
      "Reading in file: ../../input/sc-bams_nodup/BM1077-HSC-Frozen-160105-16.dedup.st.bam\n",
      "Reading in file: ../../input/sc-bams_nodup/BM1077-HSC-Frozen-160105-19.dedup.st.bam\n",
      "Reading in file: ../../input/sc-bams_nodup/BM1077-HSC-Frozen-160105-2.dedup.st.bam\n",
      "Reading in file: ../../input/sc-bams_nodup/BM1077-HSC-Frozen-160105-20.dedup.st.bam\n",
      "Reading in file: ../../input/sc-bams_nodup/BM1077-HSC-Frozen-160105-21.dedup.st.bam\n",
      "Reading in file: ../../input/sc-bams_nodup/BM1077-HSC-Frozen-160105-22.dedup.st.bam\n",
      "Reading in file: ../../input/sc-bams_nodup/BM1077-HSC-Frozen-160105-24.dedup.st.bam\n",
      "Reading in file: ../../input/sc-bams_nodup/BM1077-HSC-Frozen-160105-25.dedup.st.bam\n",
      "Reading in file: ../../input/sc-bams_nodup/BM1077-HSC-Frozen-160105-26.dedup.st.bam\n",
      "Reading in file: ../../input/sc-bams_nodup/BM1077-HSC-Frozen-160105-27.dedup.st.bam\n",
      "Reading in file: ../../input/sc-bams_nodup/BM1077-HSC-Frozen-160105-29.dedup.st.bam\n",
      "Reading in file: ../../input/sc-bams_nodup/BM1077-HSC-Frozen-160105-3.dedup.st.bam\n",
      "Reading in file: ../../input/sc-bams_nodup/BM1077-HSC-Frozen-160105-31.dedup.st.bam\n",
      "Reading in file: ../../input/sc-bams_nodup/BM1077-HSC-Frozen-160105-32.dedup.st.bam\n",
      "Reading in file: ../../input/sc-bams_nodup/BM1077-HSC-Frozen-160105-34.dedup.st.bam\n",
      "Reading in file: ../../input/sc-bams_nodup/BM1077-HSC-Frozen-160105-36.dedup.st.bam\n",
      "Reading in file: ../../input/sc-bams_nodup/BM1077-HSC-Frozen-160105-37.dedup.st.bam\n",
      "Reading in file: ../../input/sc-bams_nodup/BM1077-HSC-Frozen-160105-38.dedup.st.bam\n",
      "Reading in file: ../../input/sc-bams_nodup/BM1077-HSC-Frozen-160105-39.dedup.st.bam\n",
      "Reading in file: ../../input/sc-bams_nodup/BM1077-HSC-Frozen-160105-4.dedup.st.bam\n",
      "Reading in file: ../../input/sc-bams_nodup/BM1077-HSC-Frozen-160105-40.dedup.st.bam\n",
      "Reading in file: ../../input/sc-bams_nodup/BM1077-HSC-Frozen-160105-41.dedup.st.bam\n",
      "Reading in file: ../../input/sc-bams_nodup/BM1077-HSC-Frozen-160105-42.dedup.st.bam\n",
      "Reading in file: ../../input/sc-bams_nodup/BM1077-HSC-Frozen-160105-43.dedup.st.bam\n",
      "Reading in file: ../../input/sc-bams_nodup/BM1077-HSC-Frozen-160105-44.dedup.st.bam\n",
      "Reading in file: ../../input/sc-bams_nodup/BM1077-HSC-Frozen-160105-47.dedup.st.bam\n",
      "Reading in file: ../../input/sc-bams_nodup/BM1077-HSC-Frozen-160105-48.dedup.st.bam\n"
     ]
    },
    {
     "name": "stderr",
     "output_type": "stream",
     "text": [
      "Reading in file: ../../input/sc-bams_nodup/BM1077-HSC-Frozen-160105-49.dedup.st.bam\n",
      "Reading in file: ../../input/sc-bams_nodup/BM1077-HSC-Frozen-160105-5.dedup.st.bam\n",
      "Reading in file: ../../input/sc-bams_nodup/BM1077-HSC-Frozen-160105-50.dedup.st.bam\n",
      "Reading in file: ../../input/sc-bams_nodup/BM1077-HSC-Frozen-160105-51.dedup.st.bam\n",
      "Reading in file: ../../input/sc-bams_nodup/BM1077-HSC-Frozen-160105-53.dedup.st.bam\n",
      "Reading in file: ../../input/sc-bams_nodup/BM1077-HSC-Frozen-160105-54.dedup.st.bam\n",
      "Reading in file: ../../input/sc-bams_nodup/BM1077-HSC-Frozen-160105-55.dedup.st.bam\n",
      "Reading in file: ../../input/sc-bams_nodup/BM1077-HSC-Frozen-160105-56.dedup.st.bam\n",
      "Reading in file: ../../input/sc-bams_nodup/BM1077-HSC-Frozen-160105-57.dedup.st.bam\n",
      "Reading in file: ../../input/sc-bams_nodup/BM1077-HSC-Frozen-160105-58.dedup.st.bam\n",
      "Reading in file: ../../input/sc-bams_nodup/BM1077-HSC-Frozen-160105-59.dedup.st.bam\n",
      "Reading in file: ../../input/sc-bams_nodup/BM1077-HSC-Frozen-160105-6.dedup.st.bam\n",
      "Reading in file: ../../input/sc-bams_nodup/BM1077-HSC-Frozen-160105-60.dedup.st.bam\n",
      "Reading in file: ../../input/sc-bams_nodup/BM1077-HSC-Frozen-160105-61.dedup.st.bam\n",
      "Reading in file: ../../input/sc-bams_nodup/BM1077-HSC-Frozen-160105-62.dedup.st.bam\n",
      "Reading in file: ../../input/sc-bams_nodup/BM1077-HSC-Frozen-160105-63.dedup.st.bam\n",
      "Reading in file: ../../input/sc-bams_nodup/BM1077-HSC-Frozen-160105-64.dedup.st.bam\n",
      "Reading in file: ../../input/sc-bams_nodup/BM1077-HSC-Frozen-160105-66.dedup.st.bam\n",
      "Reading in file: ../../input/sc-bams_nodup/BM1077-HSC-Frozen-160105-68.dedup.st.bam\n",
      "Reading in file: ../../input/sc-bams_nodup/BM1077-HSC-Frozen-160105-69.dedup.st.bam\n",
      "Reading in file: ../../input/sc-bams_nodup/BM1077-HSC-Frozen-160105-7.dedup.st.bam\n",
      "Reading in file: ../../input/sc-bams_nodup/BM1077-HSC-Frozen-160105-71.dedup.st.bam\n",
      "Reading in file: ../../input/sc-bams_nodup/BM1077-HSC-Frozen-160105-72.dedup.st.bam\n",
      "Reading in file: ../../input/sc-bams_nodup/BM1077-HSC-Frozen-160105-73.dedup.st.bam\n",
      "Reading in file: ../../input/sc-bams_nodup/BM1077-HSC-Frozen-160105-74.dedup.st.bam\n",
      "Reading in file: ../../input/sc-bams_nodup/BM1077-HSC-Frozen-160105-75.dedup.st.bam\n",
      "Reading in file: ../../input/sc-bams_nodup/BM1077-HSC-Frozen-160105-76.dedup.st.bam\n",
      "Reading in file: ../../input/sc-bams_nodup/BM1077-HSC-Frozen-160105-77.dedup.st.bam\n",
      "Reading in file: ../../input/sc-bams_nodup/BM1077-HSC-Frozen-160105-78.dedup.st.bam\n",
      "Reading in file: ../../input/sc-bams_nodup/BM1077-HSC-Frozen-160105-79.dedup.st.bam\n",
      "Reading in file: ../../input/sc-bams_nodup/BM1077-HSC-Frozen-160105-80.dedup.st.bam\n",
      "Reading in file: ../../input/sc-bams_nodup/BM1077-HSC-Frozen-160105-81.dedup.st.bam\n",
      "Reading in file: ../../input/sc-bams_nodup/BM1077-HSC-Frozen-160105-82.dedup.st.bam\n",
      "Reading in file: ../../input/sc-bams_nodup/BM1077-HSC-Frozen-160105-83.dedup.st.bam\n",
      "Reading in file: ../../input/sc-bams_nodup/BM1077-HSC-Frozen-160105-85.dedup.st.bam\n",
      "Reading in file: ../../input/sc-bams_nodup/BM1077-HSC-Frozen-160105-87.dedup.st.bam\n",
      "Reading in file: ../../input/sc-bams_nodup/BM1077-HSC-Frozen-160105-88.dedup.st.bam\n",
      "Reading in file: ../../input/sc-bams_nodup/BM1077-HSC-Frozen-160105-89.dedup.st.bam\n",
      "Reading in file: ../../input/sc-bams_nodup/BM1077-HSC-Frozen-160105-90.dedup.st.bam\n",
      "Reading in file: ../../input/sc-bams_nodup/BM1077-HSC-Frozen-160105-91.dedup.st.bam\n",
      "Reading in file: ../../input/sc-bams_nodup/BM1077-HSC-Frozen-160105-92.dedup.st.bam\n",
      "Reading in file: ../../input/sc-bams_nodup/BM1077-HSC-Frozen-160105-95.dedup.st.bam\n",
      "Reading in file: ../../input/sc-bams_nodup/BM1077-LMPP-Frozen-160107-1.dedup.st.bam\n",
      "Reading in file: ../../input/sc-bams_nodup/BM1077-LMPP-Frozen-160107-11.dedup.st.bam\n",
      "Reading in file: ../../input/sc-bams_nodup/BM1077-LMPP-Frozen-160107-12.dedup.st.bam\n",
      "Reading in file: ../../input/sc-bams_nodup/BM1077-LMPP-Frozen-160107-13.dedup.st.bam\n",
      "Reading in file: ../../input/sc-bams_nodup/BM1077-LMPP-Frozen-160107-14.dedup.st.bam\n",
      "Reading in file: ../../input/sc-bams_nodup/BM1077-LMPP-Frozen-160107-15.dedup.st.bam\n",
      "Reading in file: ../../input/sc-bams_nodup/BM1077-LMPP-Frozen-160107-16.dedup.st.bam\n",
      "Reading in file: ../../input/sc-bams_nodup/BM1077-LMPP-Frozen-160107-18.dedup.st.bam\n",
      "Reading in file: ../../input/sc-bams_nodup/BM1077-LMPP-Frozen-160107-19.dedup.st.bam\n",
      "Reading in file: ../../input/sc-bams_nodup/BM1077-LMPP-Frozen-160107-2.dedup.st.bam\n",
      "Reading in file: ../../input/sc-bams_nodup/BM1077-LMPP-Frozen-160107-20.dedup.st.bam\n"
     ]
    }
   ],
   "source": [
    "fragment_counts <- getCounts(paste0(\"../../input/sc-bams_nodup/\",bamfile), \n",
    "                             peaks, \n",
    "                             paired =  TRUE, \n",
    "                             by_rg = TRUE, \n",
    "                             format = \"bam\", \n",
    "                             colData = data.frame(celltype = cellnames))"
   ]
  },
  {
   "cell_type": "code",
   "execution_count": null,
   "metadata": {
    "scrolled": false
   },
   "outputs": [],
   "source": [
    "fragment_counts"
   ]
  },
  {
   "cell_type": "code",
   "execution_count": null,
   "metadata": {
    "scrolled": true
   },
   "outputs": [],
   "source": [
    "fragment_counts <- addGCBias(fragment_counts, genome = BSgenome.Hsapiens.UCSC.hg19)"
   ]
  },
  {
   "cell_type": "code",
   "execution_count": null,
   "metadata": {},
   "outputs": [],
   "source": [
    "head(rowData(fragment_counts))"
   ]
  },
  {
   "cell_type": "code",
   "execution_count": null,
   "metadata": {},
   "outputs": [],
   "source": [
    "counts_filtered <- filterPeaks(fragment_counts, non_overlapping = TRUE)"
   ]
  },
  {
   "cell_type": "code",
   "execution_count": null,
   "metadata": {},
   "outputs": [],
   "source": [
    "bg <- getBackgroundPeaks(counts_filtered)\n",
    "# Potentially save the bg object\n",
    "saveRDS(bg, file = \"background_peaks_kmers.rds\")"
   ]
  },
  {
   "cell_type": "code",
   "execution_count": null,
   "metadata": {
    "scrolled": true
   },
   "outputs": [],
   "source": [
    "kmer_ix <- matchKmers(6, counts_filtered, genome = BSgenome.Hsapiens.UCSC.hg19)"
   ]
  },
  {
   "cell_type": "code",
   "execution_count": null,
   "metadata": {},
   "outputs": [],
   "source": [
    "dev <- computeDeviations(object = counts_filtered, annotations = kmer_ix,\n",
    "                         background_peaks = bg)"
   ]
  },
  {
   "cell_type": "code",
   "execution_count": null,
   "metadata": {},
   "outputs": [],
   "source": [
    "end_time <- Sys.time()"
   ]
  },
  {
   "cell_type": "code",
   "execution_count": null,
   "metadata": {},
   "outputs": [],
   "source": [
    "end_time - start_time"
   ]
  },
  {
   "cell_type": "code",
   "execution_count": null,
   "metadata": {},
   "outputs": [],
   "source": []
  },
  {
   "cell_type": "code",
   "execution_count": null,
   "metadata": {},
   "outputs": [],
   "source": [
    "df_zscores = dev@assays[[1]]"
   ]
  },
  {
   "cell_type": "code",
   "execution_count": null,
   "metadata": {},
   "outputs": [],
   "source": [
    "saveRDS(df_zscores, file = '../../output/feature_matrices/FM_ChromVAR_buenrostro2018bulkpeaks_kmers.rds')"
   ]
  },
  {
   "cell_type": "code",
   "execution_count": null,
   "metadata": {},
   "outputs": [],
   "source": []
  },
  {
   "cell_type": "markdown",
   "metadata": {},
   "source": [
    "### Downstream Analysis"
   ]
  },
  {
   "cell_type": "code",
   "execution_count": null,
   "metadata": {},
   "outputs": [],
   "source": [
    "variability <- computeVariability(dev)\n",
    "plotVariability(variability, use_plotly = FALSE)"
   ]
  },
  {
   "cell_type": "code",
   "execution_count": null,
   "metadata": {},
   "outputs": [],
   "source": [
    "head(variability)\n",
    "dim(variability)"
   ]
  },
  {
   "cell_type": "code",
   "execution_count": null,
   "metadata": {},
   "outputs": [],
   "source": []
  },
  {
   "cell_type": "code",
   "execution_count": null,
   "metadata": {},
   "outputs": [],
   "source": [
    "dev$celltype <- metadata[colnames(dev),]"
   ]
  },
  {
   "cell_type": "code",
   "execution_count": null,
   "metadata": {},
   "outputs": [],
   "source": [
    "tsne_results <- deviationsTsne(dev, threshold = 1.5, perplexity = 10)"
   ]
  },
  {
   "cell_type": "code",
   "execution_count": null,
   "metadata": {},
   "outputs": [],
   "source": [
    "tsne_plots <- plotDeviationsTsne(dev, tsne_results, \n",
    "                                 sample_column = \"celltype\", \n",
    "                                 shiny = FALSE)\n",
    "tsne_plots[[1]]"
   ]
  },
  {
   "cell_type": "code",
   "execution_count": null,
   "metadata": {},
   "outputs": [],
   "source": []
  },
  {
   "cell_type": "code",
   "execution_count": null,
   "metadata": {},
   "outputs": [],
   "source": [
    "sessionInfo()"
   ]
  },
  {
   "cell_type": "code",
   "execution_count": null,
   "metadata": {},
   "outputs": [],
   "source": [
    "save.image(file = 'ChromVAR_buenrostro2018bulkpeaks_kmers.RData')"
   ]
  },
  {
   "cell_type": "code",
   "execution_count": null,
   "metadata": {},
   "outputs": [],
   "source": []
  }
 ],
 "metadata": {
  "kernelspec": {
   "display_name": "R [conda env:ATACseq_chromVAR]",
   "language": "R",
   "name": "conda-env-ATACseq_chromVAR-r"
  },
  "language_info": {
   "codemirror_mode": "r",
   "file_extension": ".r",
   "mimetype": "text/x-r-source",
   "name": "R",
   "pygments_lexer": "r",
   "version": "3.5.1"
  }
 },
 "nbformat": 4,
 "nbformat_minor": 2
}
