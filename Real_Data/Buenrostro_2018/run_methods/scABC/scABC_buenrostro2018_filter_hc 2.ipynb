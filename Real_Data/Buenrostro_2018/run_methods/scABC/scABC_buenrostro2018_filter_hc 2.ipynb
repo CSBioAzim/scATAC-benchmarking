{
 "cells": [
  {
   "cell_type": "markdown",
   "metadata": {},
   "source": [
    "## Analysis"
   ]
  },
  {
   "cell_type": "code",
   "execution_count": 1,
   "metadata": {},
   "outputs": [],
   "source": [
    "projectPath <- c(\"/data/pinello/PROJECTS/2019_03_scATAC/Methods/scABC/\")"
   ]
  },
  {
   "cell_type": "code",
   "execution_count": 2,
   "metadata": {},
   "outputs": [
    {
     "name": "stderr",
     "output_type": "stream",
     "text": [
      "Loading required package: stats4\n",
      "Loading required package: BiocGenerics\n",
      "Loading required package: parallel\n",
      "\n",
      "Attaching package: ‘BiocGenerics’\n",
      "\n",
      "The following objects are masked from ‘package:parallel’:\n",
      "\n",
      "    clusterApply, clusterApplyLB, clusterCall, clusterEvalQ,\n",
      "    clusterExport, clusterMap, parApply, parCapply, parLapply,\n",
      "    parLapplyLB, parRapply, parSapply, parSapplyLB\n",
      "\n",
      "The following objects are masked from ‘package:stats’:\n",
      "\n",
      "    IQR, mad, sd, var, xtabs\n",
      "\n",
      "The following objects are masked from ‘package:base’:\n",
      "\n",
      "    anyDuplicated, append, as.data.frame, basename, cbind, colMeans,\n",
      "    colnames, colSums, dirname, do.call, duplicated, eval, evalq,\n",
      "    Filter, Find, get, grep, grepl, intersect, is.unsorted, lapply,\n",
      "    lengths, Map, mapply, match, mget, order, paste, pmax, pmax.int,\n",
      "    pmin, pmin.int, Position, rank, rbind, Reduce, rowMeans, rownames,\n",
      "    rowSums, sapply, setdiff, sort, table, tapply, union, unique,\n",
      "    unsplit, which, which.max, which.min\n",
      "\n",
      "Loading required package: S4Vectors\n",
      "\n",
      "Attaching package: ‘S4Vectors’\n",
      "\n",
      "The following object is masked from ‘package:base’:\n",
      "\n",
      "    expand.grid\n",
      "\n",
      "Loading required package: IRanges\n",
      "Loading required package: GenomeInfoDb\n",
      "Warning message:\n",
      "“replacing previous import ‘IRanges::which’ by ‘Matrix::which’ when loading ‘scABC’”Loading required package: Biostrings\n",
      "Loading required package: XVector\n",
      "\n",
      "Attaching package: ‘Biostrings’\n",
      "\n",
      "The following object is masked from ‘package:base’:\n",
      "\n",
      "    strsplit\n",
      "\n",
      "\n",
      "Attaching package: ‘data.table’\n",
      "\n",
      "The following object is masked from ‘package:GenomicRanges’:\n",
      "\n",
      "    shift\n",
      "\n",
      "The following object is masked from ‘package:IRanges’:\n",
      "\n",
      "    shift\n",
      "\n",
      "The following objects are masked from ‘package:S4Vectors’:\n",
      "\n",
      "    first, second\n",
      "\n",
      "\n",
      "Attaching package: ‘dplyr’\n",
      "\n",
      "The following objects are masked from ‘package:data.table’:\n",
      "\n",
      "    between, first, last\n",
      "\n",
      "The following objects are masked from ‘package:Biostrings’:\n",
      "\n",
      "    collapse, intersect, setdiff, setequal, union\n",
      "\n",
      "The following object is masked from ‘package:XVector’:\n",
      "\n",
      "    slice\n",
      "\n",
      "The following objects are masked from ‘package:GenomicRanges’:\n",
      "\n",
      "    intersect, setdiff, union\n",
      "\n",
      "The following object is masked from ‘package:GenomeInfoDb’:\n",
      "\n",
      "    intersect\n",
      "\n",
      "The following objects are masked from ‘package:IRanges’:\n",
      "\n",
      "    collapse, desc, intersect, setdiff, slice, union\n",
      "\n",
      "The following objects are masked from ‘package:S4Vectors’:\n",
      "\n",
      "    first, intersect, rename, setdiff, setequal, union\n",
      "\n",
      "The following objects are masked from ‘package:BiocGenerics’:\n",
      "\n",
      "    combine, intersect, setdiff, union\n",
      "\n",
      "The following objects are masked from ‘package:stats’:\n",
      "\n",
      "    filter, lag\n",
      "\n",
      "The following objects are masked from ‘package:base’:\n",
      "\n",
      "    intersect, setdiff, setequal, union\n",
      "\n",
      "── Attaching packages ─────────────────────────────────────── tidyverse 1.2.1 ──\n",
      "✔ ggplot2 3.1.0     ✔ readr   1.3.1\n",
      "✔ tibble  2.1.1     ✔ purrr   0.3.2\n",
      "✔ tidyr   0.8.3     ✔ stringr 1.4.0\n",
      "✔ ggplot2 3.1.0     ✔ forcats 0.4.0\n",
      "── Conflicts ────────────────────────────────────────── tidyverse_conflicts() ──\n",
      "✖ dplyr::between()    masks data.table::between()\n",
      "✖ dplyr::collapse()   masks Biostrings::collapse(), IRanges::collapse()\n",
      "✖ dplyr::combine()    masks BiocGenerics::combine()\n",
      "✖ purrr::compact()    masks XVector::compact()\n",
      "✖ dplyr::desc()       masks IRanges::desc()\n",
      "✖ tidyr::expand()     masks S4Vectors::expand()\n",
      "✖ dplyr::filter()     masks stats::filter()\n",
      "✖ dplyr::first()      masks data.table::first(), S4Vectors::first()\n",
      "✖ dplyr::lag()        masks stats::lag()\n",
      "✖ dplyr::last()       masks data.table::last()\n",
      "✖ ggplot2::Position() masks BiocGenerics::Position(), base::Position()\n",
      "✖ purrr::reduce()     masks GenomicRanges::reduce(), IRanges::reduce()\n",
      "✖ dplyr::rename()     masks S4Vectors::rename()\n",
      "✖ dplyr::slice()      masks XVector::slice(), IRanges::slice()\n",
      "✖ purrr::transpose()  masks data.table::transpose()\n"
     ]
    }
   ],
   "source": [
    "options(stringsAsFactors = FALSE)\n",
    "library(GenomicRanges)\n",
    "library(scABC)\n",
    "library(Rsamtools)\n",
    "library(data.table)\n",
    "library(dplyr)\n",
    "library(tidyverse)"
   ]
  },
  {
   "cell_type": "markdown",
   "metadata": {},
   "source": [
    "Modified functions to ignore unmapped reads [by adding isUnmappedQuery = FALSE to ScanBamParam] instead of having to remove those from the BAM files:"
   ]
  },
  {
   "cell_type": "code",
   "execution_count": 3,
   "metadata": {},
   "outputs": [],
   "source": [
    "bam2gr <- function(bamfile, PAIRED = FALSE) {\n",
    "  if (PAIRED) {\n",
    "    scanned = scanBam(bamfile, param = ScanBamParam(flag =scanBamFlag(isMinusStrand = FALSE,\n",
    "                                                                      isUnmappedQuery = FALSE,\n",
    "                                                                      isProperPair = TRUE),\n",
    "                                                    what = c(\"rname\", \"pos\", \"isize\")))[[1]]\n",
    "    out = GRanges(seqnames = scanned$rname, IRanges(start = scanned$pos, width = scanned$isize))\n",
    "  } else {\n",
    "    scanned = scanBam(bamfile, param = ScanBamParam(flag =scanBamFlag(isUnmappedQuery = FALSE),\n",
    "                                                    what = c(\"rname\", \"pos\", \"strand\", \"qwidth\")))[[1]]\n",
    "    out = GRanges(seqnames = scanned$rname,\n",
    "                  IRanges(start = ifelse(scanned$strand == \"-\", scanned$pos + scanned$qwidth - 1, scanned$pos),\n",
    "                          width = scanned$qwidth))\n",
    "  }\n",
    "  return(out)\n",
    "}"
   ]
  },
  {
   "cell_type": "code",
   "execution_count": 4,
   "metadata": {},
   "outputs": [],
   "source": [
    "getCountsByReadGroup <- function(bamfile, peaks, RGtag, tags = NULL, PAIRED = FALSE, VERBOSE = FALSE){\n",
    "  scanned <- Rsamtools::scanBam(bamfile,\n",
    "                     param = Rsamtools::ScanBamParam(flag =scanBamFlag(isUnmappedQuery = FALSE),\n",
    "                                                     what = c(\"rname\", \"pos\", \"strand\", \"qwidth\"),\n",
    "                                                     tag = RGtag))[[1]]\n",
    "  if(is.null(tags)){\n",
    "    RGtags = unique(unlist(scanned$tag[RGtag]))\n",
    "  }\n",
    "  counts_mat = Matrix::Matrix(0, nrow = length(peaks), ncol = length(tags), sparse = TRUE)\n",
    "  for(i in 1:length(tags)){\n",
    "    tag = tags[i]\n",
    "    if(VERBOSE){\n",
    "      message(\"Processing tag \", tag)\n",
    "    }\n",
    "    match_RG <- which(scanned$tag[[RGtag]] == tag)\n",
    "    # convert bamfiles to Genomic Ranges\n",
    "    bam.gr = GenomicRanges::GRanges(seqnames = scanned$rname[match_RG],\n",
    "                                    IRanges::IRanges(start = sapply(match_RG, function(i) ifelse(scanned$strand[i] == \"-\",\n",
    "                                                                         scanned$pos[i] + scanned$qwidth[i] - 1,\n",
    "                                                                         scanned$pos[i])),\n",
    "                             width = scanned$qwidth[match_RG]))\n",
    "    counts_mat[,i] = GenomicRanges::countOverlaps(peaks, bam.gr, type = \"any\", ignore.strand = TRUE)\n",
    "  }\n",
    " # counts = do.call(cbind, lapply(RGtags, function(x) getTagCounts(x, bamfile, peaks)))\n",
    "  colnames(counts_mat) = tags\n",
    "  return(counts_mat)\n",
    "}"
   ]
  },
  {
   "cell_type": "code",
   "execution_count": 5,
   "metadata": {},
   "outputs": [],
   "source": [
    "peaks2GRanges <- function(peaks, upstream = 0, downstream = 0){\n",
    "  peaks.gr = with(peaks, GenomicRanges::GRanges(chrom, IRanges::IRanges(sapply(start, function(x) max(0, x - upstream)), end + downstream), \n",
    "                                                                               id = name))#, pVal = pValue))\n",
    "}\n",
    "\n",
    "# peaks should be in GenomicRanges\n",
    "get_counts_from_bam <- function(bamfile, peaks){\n",
    "  param = Rsamtools::ScanBamParam(flag =scanBamFlag(isUnmappedQuery = FALSE), \n",
    "                                  which = peaks, \n",
    "                                  what = c(\"rname\", \"pos\", \"strand\", \"qwidth\"))\n",
    "  counts = Rsamtools::countBam(bamfile, param = param,\n",
    "                               flag = Rsamtools::scanBamFlag(isDuplicate = FALSE,\n",
    "                                                             isUnmappedQuery = FALSE))\n",
    "  return(counts[,c(\"space\", \"start\", \"end\", \"file\", \"records\")])\n",
    "}"
   ]
  },
  {
   "cell_type": "code",
   "execution_count": 6,
   "metadata": {},
   "outputs": [],
   "source": [
    "getCountsMatrix <- function(bamfiles, peaks, PAIRED = FALSE,\n",
    "                            byReadGroup = FALSE, \n",
    "                            RGtag = 'RG',\n",
    "                            tags2include = NULL, \n",
    "                            VERBOSE = FALSE){\n",
    "  peaks.gr = peaks2GRanges(peaks)\n",
    "  if(VERBOSE){\n",
    "    message(\"beginning reading in counts\\n\")\n",
    "  }\n",
    "  if(byReadGroup){\n",
    "    if(VERBOSE){\n",
    "      message(\"getting counts by read group\\n\")\n",
    "      message(\"read group tag = \", RGtag, \"\\n\")\n",
    "    }\n",
    "    stopifnot(length(bamfiles) == 1)\n",
    "    counts_mat = getCountsByReadGroup(bamfiles, peaks.gr, RGtag = RGtag, \n",
    "                                      tags = tags2include);\n",
    "    rownames(counts_mat) = peaks$name\n",
    "  }\n",
    "  else{\n",
    "    nCells = length(bamfiles)\n",
    "    counts_mat = matrix(nrow = length(peaks.gr), ncol = nCells)\n",
    "    for(i in 1:nCells){\n",
    "      if(VERBOSE){\n",
    "        message(\"Processing file \", bamfiles[i])\n",
    "      }\n",
    "      # convert bamfiles to Genomic Ranges\n",
    "      bam.gr = bam2gr(bamfiles[i], PAIRED = PAIRED)\n",
    "      counts_mat[,i] = countOverlaps(peaks.gr, bam.gr, type = \"any\", ignore.strand = TRUE)\n",
    "    }\n",
    "    colnames(counts_mat) = bamfiles\n",
    "    rownames(counts_mat) = peaks$name\n",
    "    #counts_info = data.frame(chrom = counts_list[[1]]$space, start = counts_list[[1]]$start, end = counts_list[[1]]$end, name = peaks$id, pValue = peaks$pVal)\n",
    "  }\n",
    "  peaks = peaks[,c(\"chrom\", \"start\", \"end\", \"name\")]#, \"pValue\")]\n",
    "  return(list(peaks = peaks, ForeGroundMatrix = Matrix::Matrix(counts_mat, sparse = TRUE)))\n",
    "}"
   ]
  },
  {
   "cell_type": "code",
   "execution_count": 7,
   "metadata": {},
   "outputs": [],
   "source": [
    "sort_peaks <- function(peaks){\n",
    "  return(peaks[order(peaks$chrom, peaks$start), ])\n",
    "}"
   ]
  },
  {
   "cell_type": "code",
   "execution_count": 8,
   "metadata": {},
   "outputs": [],
   "source": [
    "selectPeaks <- function(filename, thresh = 2){\n",
    "  peaks = read.table(file = filename, header = FALSE, sep = \"\\t\",\n",
    "                     stringsAsFactors = FALSE);\n",
    "  if(dim(peaks)[2] == 15){\n",
    "    # gapped peaks\n",
    "    column_names = c(\"chrom\", \"start\", \"end\", \"name\", \"score\", \"strand\",\n",
    "                     \"thickStart\", \"thickEnd\", \"itemRgb\", \"blockCount\", \"blockSizes\",\n",
    "                     \"blockStarts\", \"signalValue\", \"pValue\", \"qValue\");\n",
    "    colnames(peaks) = column_names\n",
    "    wanted_peaks = which(peaks$pValue > thresh); # pValue is -log10(p), p < 0.1 => pValue > 2\n",
    "    peaks = sort_peaks(peaks[wanted_peaks, ])\n",
    "  }\n",
    "  if(dim(peaks)[2] == 10){\n",
    "    # narrow peaks\n",
    "    column_names = c(\"chrom\", \"start\", \"end\", \"name\", \"score\", \"strand\",\n",
    "                     \"foldChange\", \"pValue\", \"qValue\", \"summit2PeakDist\")\n",
    "    colnames(peaks) = column_names\n",
    "    wanted_peaks = which(peaks$pValue > thresh); # pValue is -log10(p), p < 0.1 => pValue > 2\n",
    "    peaks = sort_peaks(peaks[wanted_peaks, ])\n",
    "  }\n",
    "  \n",
    "  # mine  \n",
    "  if(dim(peaks)[2] == 3){\n",
    "    # gapped peaks\n",
    "    column_names = c(\"chrom\", \"start\", \"end\");\n",
    "    colnames(peaks) = column_names\n",
    "    peaks = sort_peaks(peaks)\n",
    "  }\n",
    "  return(peaks)\n",
    "}"
   ]
  },
  {
   "cell_type": "code",
   "execution_count": 9,
   "metadata": {},
   "outputs": [],
   "source": [
    "getBackground <- function(bamfiles, peaks, upstream = 500000,\n",
    "                          downstream = 500000, byReadGroup = FALSE,\n",
    "                          VERBOSE = FALSE, PAIRED = FALSE){\n",
    "  nCells = length(bamfiles)\n",
    "  background_peaks.gr = peaks2GRanges(peaks, upstream, downstream)\n",
    "  if(byReadGroup){\n",
    "    counts_mat = getCountsByReadGroup2(bamfile, background_peaks.gr);\n",
    "    rownames(counts_mat) = peaks$name\n",
    "  }\n",
    "  else{\n",
    "    counts_mat = matrix(nrow = length(background_peaks.gr), ncol = nCells)\n",
    "    for(i in 1:nCells){\n",
    "      if(VERBOSE){\n",
    "        message(\"Processing file \", bamfiles[i])\n",
    "      }\n",
    "      # convert bamfiles to Genomic Ranges\n",
    "      bam.gr = bam2gr(bamfiles[i], PAIRED = PAIRED)\n",
    "      counts_mat[,i] = countOverlaps(background_peaks.gr, bam.gr, type = \"any\", ignore.strand = TRUE)\n",
    "    }\n",
    "    colnames(counts_mat) = bamfiles\n",
    "    rownames(counts_mat) = peaks$name\n",
    "    #counts_info = data.frame(chrom = counts_list[[1]]$space, start = counts_list[[1]]$start, end = counts_list[[1]]$end, name = peaks$id, pValue = peaks$pVal)\n",
    "  }\n",
    "  peaks = peaks[,c(\"chrom\", \"start\", \"end\", \"name\")]#, \"pValue\")]\n",
    "  return(list(peaks = peaks, BackGroundMatrix = Matrix::Matrix(counts_mat, sparse = TRUE)))\n",
    "}"
   ]
  },
  {
   "cell_type": "code",
   "execution_count": null,
   "metadata": {},
   "outputs": [],
   "source": []
  },
  {
   "cell_type": "code",
   "execution_count": 10,
   "metadata": {},
   "outputs": [
    {
     "name": "stdout",
     "output_type": "stream",
     "text": [
      "Time difference of 0.03687716 secs\n"
     ]
    }
   ],
   "source": [
    "# loading input 1: single-cell BAM files\n",
    "start_time <- Sys.time()\n",
    "bamfiles <- list.files(\"/data/pinello/PROJECTS/2019_03_scATAC/Datasets/Buenrostro_2018/sc-bams/\", \n",
    "                       pattern = \"*.bam\", full.names = TRUE)\n",
    "end_time <- Sys.time()\n",
    "print(end_time - start_time)\n",
    "#Time difference of 0.03876805 secs"
   ]
  },
  {
   "cell_type": "code",
   "execution_count": 11,
   "metadata": {},
   "outputs": [
    {
     "data": {
      "text/html": [
       "2034"
      ],
      "text/latex": [
       "2034"
      ],
      "text/markdown": [
       "2034"
      ],
      "text/plain": [
       "[1] 2034"
      ]
     },
     "metadata": {},
     "output_type": "display_data"
    }
   ],
   "source": [
    "length(bamfiles)"
   ]
  },
  {
   "cell_type": "code",
   "execution_count": 12,
   "metadata": {},
   "outputs": [],
   "source": [
    "# peaks <- read.delim(\"/data/pinello/PROJECTS/2019_03_scATAC/Datasets/Buenrostro_2018/peaks/merged_sc-bams/combined.sorted.merged.bed\",\n",
    "#                  header = F, sep = \"\\t\") "
   ]
  },
  {
   "cell_type": "code",
   "execution_count": 13,
   "metadata": {},
   "outputs": [],
   "source": [
    "# write.table(peaks[,1:3], \"/data/pinello/PROJECTS/2019_03_scATAC/Datasets/Buenrostro_2018/peaks/sara_test.bed\",\n",
    "#           col.names = F, row.names = F, sep = \"\\t\", quote = F)"
   ]
  },
  {
   "cell_type": "code",
   "execution_count": 14,
   "metadata": {},
   "outputs": [
    {
     "name": "stdout",
     "output_type": "stream",
     "text": [
      "Time difference of 0.371927 secs\n"
     ]
    }
   ],
   "source": [
    "# loading input 2: peaks file\n",
    "# peaks are filtered as: pValue is -log10(p), p < 0.1 => pValue > 2\n",
    "start_time <- Sys.time()\n",
    "peakfile <- selectPeaks(\"/data/pinello/PROJECTS/2019_03_scATAC/Datasets/Buenrostro_2018/peaks/merged_sc-bams/combined.sorted.merged.bed\")\n",
    "end_time <- Sys.time()\n",
    "print(end_time - start_time)\n",
    "#Time difference of 1.876538 secs"
   ]
  },
  {
   "cell_type": "code",
   "execution_count": 15,
   "metadata": {},
   "outputs": [],
   "source": [
    "peakfile$name <- paste(\"Peak\", peakfile$chrom, peakfile$start, peakfile$end, sep = \"_\")"
   ]
  },
  {
   "cell_type": "code",
   "execution_count": 16,
   "metadata": {},
   "outputs": [
    {
     "data": {
      "text/html": [
       "<ol class=list-inline>\n",
       "\t<li>237450</li>\n",
       "\t<li>4</li>\n",
       "</ol>\n"
      ],
      "text/latex": [
       "\\begin{enumerate*}\n",
       "\\item 237450\n",
       "\\item 4\n",
       "\\end{enumerate*}\n"
      ],
      "text/markdown": [
       "1. 237450\n",
       "2. 4\n",
       "\n",
       "\n"
      ],
      "text/plain": [
       "[1] 237450      4"
      ]
     },
     "metadata": {},
     "output_type": "display_data"
    }
   ],
   "source": [
    "dim(peakfile)"
   ]
  },
  {
   "cell_type": "code",
   "execution_count": 17,
   "metadata": {},
   "outputs": [
    {
     "name": "stdout",
     "output_type": "stream",
     "text": [
      "Time difference of 15.31861 mins\n"
     ]
    }
   ],
   "source": [
    "# computing the foreground matrix \n",
    "start_time <- Sys.time()\n",
    "ForeGround <- getCountsMatrix(bamfiles, peakfile, PAIRED = FALSE, byReadGroup = FALSE) \n",
    "end_time <- Sys.time()\n",
    "print(end_time - start_time)\n",
    "#Time difference of 22.62651 mins"
   ]
  },
  {
   "cell_type": "code",
   "execution_count": 18,
   "metadata": {},
   "outputs": [
    {
     "data": {
      "text/html": [
       "<ol class=list-inline>\n",
       "\t<li>237450</li>\n",
       "\t<li>4</li>\n",
       "</ol>\n"
      ],
      "text/latex": [
       "\\begin{enumerate*}\n",
       "\\item 237450\n",
       "\\item 4\n",
       "\\end{enumerate*}\n"
      ],
      "text/markdown": [
       "1. 237450\n",
       "2. 4\n",
       "\n",
       "\n"
      ],
      "text/plain": [
       "[1] 237450      4"
      ]
     },
     "metadata": {},
     "output_type": "display_data"
    }
   ],
   "source": [
    "dim(ForeGround$peaks)"
   ]
  },
  {
   "cell_type": "code",
   "execution_count": 19,
   "metadata": {},
   "outputs": [
    {
     "name": "stdout",
     "output_type": "stream",
     "text": [
      "Time difference of 2.611856 secs\n"
     ]
    }
   ],
   "source": [
    "# they advise to filter out low-represented peaks \n",
    "# keep peaks with aminimum of 2 reads in at least 10 cells\n",
    "start_time <- Sys.time()\n",
    "PeaksFiltered <- filterPeaks(ForeGround$ForeGroundMatrix, peakfile, nreads_thresh = 2, ncells_thresh = 10)\n",
    "end_time <- Sys.time()\n",
    "print(end_time - start_time)\n",
    "#Time difference of 3.484232 secs"
   ]
  },
  {
   "cell_type": "code",
   "execution_count": 20,
   "metadata": {},
   "outputs": [
    {
     "data": {
      "text/html": [
       "<ol class=list-inline>\n",
       "\t<li>133210</li>\n",
       "\t<li>4</li>\n",
       "</ol>\n"
      ],
      "text/latex": [
       "\\begin{enumerate*}\n",
       "\\item 133210\n",
       "\\item 4\n",
       "\\end{enumerate*}\n"
      ],
      "text/markdown": [
       "1. 133210\n",
       "2. 4\n",
       "\n",
       "\n"
      ],
      "text/plain": [
       "[1] 133210      4"
      ]
     },
     "metadata": {},
     "output_type": "display_data"
    }
   ],
   "source": [
    "dim(PeaksFiltered$peaks)"
   ]
  },
  {
   "cell_type": "code",
   "execution_count": 21,
   "metadata": {},
   "outputs": [
    {
     "name": "stdout",
     "output_type": "stream",
     "text": [
      "Time difference of 16.02726 mins\n"
     ]
    }
   ],
   "source": [
    "# computing the background matrix\n",
    "start_time <- Sys.time()\n",
    "BackGround <- getBackground(bamfiles, PeaksFiltered$peaks, \n",
    "                           upstream = 5e+05, downstream = 5e+05,\n",
    "                           PAIRED = FALSE, byReadGroup = FALSE)\n",
    "end_time <- Sys.time()\n",
    "print(end_time - start_time)\n",
    "#Time difference of 21.61112 hours"
   ]
  },
  {
   "cell_type": "code",
   "execution_count": 22,
   "metadata": {},
   "outputs": [
    {
     "name": "stderr",
     "output_type": "stream",
     "text": [
      "\n",
      "Attaching package: ‘Matrix’\n",
      "\n",
      "The following object is masked from ‘package:tidyr’:\n",
      "\n",
      "    expand\n",
      "\n",
      "The following object is masked from ‘package:S4Vectors’:\n",
      "\n",
      "    expand\n",
      "\n"
     ]
    }
   ],
   "source": [
    "library(Matrix)"
   ]
  },
  {
   "cell_type": "code",
   "execution_count": 23,
   "metadata": {},
   "outputs": [],
   "source": [
    "thr = 0.01"
   ]
  },
  {
   "cell_type": "code",
   "execution_count": 24,
   "metadata": {},
   "outputs": [],
   "source": [
    "## new: additional peak filtering\n",
    "x = as.matrix(PeaksFiltered$ForeGroundMatrix)\n",
    "binary_mat = as.matrix((x > 0) + 0)\n",
    "binary_mat = Matrix(binary_mat, sparse = TRUE)     \n",
    "num_cells_ncounted = Matrix::rowSums(binary_mat)\n",
    "ncounts = x[num_cells_ncounted >= dim(x)[2]*thr,] \n",
    "# new_counts = colSums(ncounts)\n",
    "# ncounts = ncounts[,new_counts >= quantile(new_counts,probs=0.1)]\n",
    "ncounts = ncounts[rowSums(ncounts) > 0,]"
   ]
  },
  {
   "cell_type": "code",
   "execution_count": 25,
   "metadata": {},
   "outputs": [
    {
     "data": {
      "text/html": [
       "<ol class=list-inline>\n",
       "\t<li>102239</li>\n",
       "\t<li>2034</li>\n",
       "</ol>\n"
      ],
      "text/latex": [
       "\\begin{enumerate*}\n",
       "\\item 102239\n",
       "\\item 2034\n",
       "\\end{enumerate*}\n"
      ],
      "text/markdown": [
       "1. 102239\n",
       "2. 2034\n",
       "\n",
       "\n"
      ],
      "text/plain": [
       "[1] 102239   2034"
      ]
     },
     "metadata": {},
     "output_type": "display_data"
    }
   ],
   "source": [
    "dim(ncounts)"
   ]
  },
  {
   "cell_type": "code",
   "execution_count": 26,
   "metadata": {},
   "outputs": [
    {
     "data": {
      "image/png": "[encoded data removed]",
      "text/plain": [
       "Plot with title “No. of Cells Each Site is Observed In”"
      ]
     },
     "metadata": {},
     "output_type": "display_data"
    }
   ],
   "source": [
    "options(repr.plot.width=4, repr.plot.height=4)\n",
    "hist(log10(num_cells_ncounted),main=\"No. of Cells Each Site is Observed In\",breaks=50)\n",
    "abline(v=log10(min(num_cells_ncounted[num_cells_ncounted >= dim(x)[2]*thr])),lwd=2,col=\"indianred\")\n",
    "# hist(log10(new_counts),main=\"Number of Sites Each Cell Uses\",breaks=50)\n",
    "# abline(v=log10(quantile(new_counts,probs=0.1)),lwd=2,col=\"indianred\")"
   ]
  },
  {
   "cell_type": "code",
   "execution_count": 27,
   "metadata": {},
   "outputs": [
    {
     "name": "stdout",
     "output_type": "stream",
     "text": [
      "Time difference of 27.56604 secs\n"
     ]
    }
   ],
   "source": [
    "# computing weights and transforming the features matrix\n",
    "start_time <- Sys.time()\n",
    "fg.mat <- ncounts #previously: as.matrix(PeaksFiltered$ForeGroundMatrix)\n",
    "bg.mat <- as.matrix(BackGround$BackGroundMatrix)\n",
    "# need to filter the background to the same peaks and cells as the foreground matrix\n",
    "idx.rows <- which(rownames(bg.mat) %in% rownames(fg.mat))\n",
    "idx.cols <- which(colnames(bg.mat) %in% colnames(fg.mat))\n",
    "bg.mat <- as.matrix(BackGround$BackGroundMatrix)[idx.rows,idx.cols]\n",
    "weights <- apply(bg.mat, 2, median)\n",
    "c <- min(8, median(weights))\n",
    "lambda = 0.1\n",
    "z <- 1/(1 + exp(-(weights - c)/(c*lambda)))\n",
    "# this is the features matrix of interest\n",
    "fg.mat.weight <- sapply(1:length(z), function(x) (fg.mat[,x] * z[x]))\n",
    "end_time <- Sys.time()\n",
    "print(end_time - start_time)\n",
    "#Time difference of 46.89922 secs (previous run 37.62924 mins)"
   ]
  },
  {
   "cell_type": "code",
   "execution_count": 28,
   "metadata": {},
   "outputs": [
    {
     "data": {
      "text/html": [
       "<ol class=list-inline>\n",
       "\t<li>102239</li>\n",
       "\t<li>2034</li>\n",
       "</ol>\n"
      ],
      "text/latex": [
       "\\begin{enumerate*}\n",
       "\\item 102239\n",
       "\\item 2034\n",
       "\\end{enumerate*}\n"
      ],
      "text/markdown": [
       "1. 102239\n",
       "2. 2034\n",
       "\n",
       "\n"
      ],
      "text/plain": [
       "[1] 102239   2034"
      ]
     },
     "metadata": {},
     "output_type": "display_data"
    }
   ],
   "source": [
    "dim(fg.mat.weight)\n",
    "# 675274 2034 \n",
    "# new: 139526 2034 "
   ]
  },
  {
   "cell_type": "code",
   "execution_count": 29,
   "metadata": {},
   "outputs": [
    {
     "data": {
      "text/html": [
       "<table>\n",
       "<tbody>\n",
       "\t<tr><th scope=row>Peak_chr1_10413_10625</th><td>0</td><td>0</td><td>0</td><td>0</td><td>0</td><td>0</td><td>0</td><td>0</td><td>0</td><td>0</td><td>⋯</td><td>0</td><td>0</td><td>0</td><td>0</td><td>0</td><td>0</td><td>0</td><td>0</td><td>0</td><td>0</td></tr>\n",
       "\t<tr><th scope=row>Peak_chr1_13380_13624</th><td>0</td><td>0</td><td>0</td><td>0</td><td>0</td><td>0</td><td>0</td><td>0</td><td>0</td><td>0</td><td>⋯</td><td>0</td><td>0</td><td>0</td><td>0</td><td>0</td><td>0</td><td>0</td><td>0</td><td>0</td><td>0</td></tr>\n",
       "\t<tr><th scope=row>Peak_chr1_16145_16354</th><td>0</td><td>0</td><td>0</td><td>0</td><td>0</td><td>0</td><td>0</td><td>0</td><td>0</td><td>0</td><td>⋯</td><td>0</td><td>0</td><td>0</td><td>0</td><td>0</td><td>0</td><td>0</td><td>0</td><td>0</td><td>0</td></tr>\n",
       "\t<tr><th scope=row>Peak_chr1_96388_96812</th><td>0</td><td>0</td><td>0</td><td>0</td><td>0</td><td>0</td><td>0</td><td>0</td><td>0</td><td>0</td><td>⋯</td><td>0</td><td>0</td><td>0</td><td>0</td><td>0</td><td>0</td><td>0</td><td>2</td><td>0</td><td>0</td></tr>\n",
       "\t<tr><th scope=row>Peak_chr1_115650_115812</th><td>0</td><td>0</td><td>0</td><td>0</td><td>0</td><td>0</td><td>0</td><td>0</td><td>0</td><td>0</td><td>⋯</td><td>0</td><td>0</td><td>0</td><td>0</td><td>0</td><td>0</td><td>0</td><td>0</td><td>0</td><td>0</td></tr>\n",
       "\t<tr><th scope=row>Peak_chr1_237625_237888</th><td>0</td><td>0</td><td>0</td><td>0</td><td>0</td><td>0</td><td>0</td><td>0</td><td>0</td><td>0</td><td>⋯</td><td>0</td><td>0</td><td>0</td><td>0</td><td>0</td><td>0</td><td>0</td><td>0</td><td>0</td><td>0</td></tr>\n",
       "</tbody>\n",
       "</table>\n"
      ],
      "text/latex": [
       "\\begin{tabular}{r|llllllllllllllllllllllllllllllllllllllllllllllllllllllllllllllllllllllllllllllllllllllllllllllllllllllllllllllllllllllllllllllllllllllllllllllllllllllllllllllllllllllllllllllllllllllllllllllllllllllllllllllllllllllllllllllllllllllllllllllllllllllllllllllllllllllllllllllllllllllllllllllllllllllllllllllllllllllllllllllllllllllllllllllllllllllllllllllllllllllllllllllllllllllllllllllllllllllllllllllllllllllllllllllllllllllllllllllllllllllllllllllllllllllllllllllllllllllllllllllllllllllllllllllllllllllllllllllllllllllllllllllllllllllllllllllllllllllllllllllllllllllllllllllllllllllllllllllllllllllllllllllllllllllllllllllllllllllllllllllllllllllllllllllllllllllllllllllllllllllllllllllllllllllllllllllllllllllllllllllllllllllllllllllllllllllllllllllllllllllllllllllllllllllllllllllllllllllllllllllllllllllllllllllllllllllllllllllllllllllllllllllllllllllllllllllllllllllllllllllllllllllllllllllllllllllllllllllllllllllllllllllllllllllllllllllllllllllllllllllllllllllllllllllllllllllllllllllllllllllllllllllllllllllllllllllllllllllllllllllllllllllllllllllllllllllllllllllllllllllllllllllllllllllllllllllllllllllllllllllllllllllllllllllllllllllllllllllllllllllllllllllllllllllllllllllllllllllllllllllllllllllllllllllllllllllllllllllllllllllllllllllllllllllllllllllllllllllllllllllllllllllllllllllllllllllllllllllllllllllllllllllllllllllllllllllllllllllllllllllllllllllllllllllllllllllllllllllllllllllllllllllllllllllllllllllllllllllllllllllllllllllllllllllllllllllllllllllllllllllllllllllllllllllllllllllllllllllllllllllllllllllllllllllllllllllllllllllllllllllllllllllllllllllllllllllllllllllllllllllllllllllllllllllllllllllllllllllllllllllllllllllllllllllllllllllllllllllllllllllllllllllllllllllllllllllllllllllllllllllllllllllllllllllllllllllllllllllllllllllllllllllllllllllllllllllllllllllllllllllllllllllllllllllllllllllllllllllllllllllllllllllllllllllllllllllllllllllllllllllllllllllllllllllllllllllllllllllllllllllllllllllllllllllllllllllllllllllllllllllllllllllllllllllllllllllllllllllllllllllllllllllllllllllllllllllllllllllllll}\n",
       "\tPeak\\_chr1\\_10413\\_10625 & 0 & 0 & 0 & 0 & 0 & 0 & 0 & 0 & 0 & 0 & ⋯ & 0 & 0 & 0 & 0 & 0 & 0 & 0 & 0 & 0 & 0\\\\\n",
       "\tPeak\\_chr1\\_13380\\_13624 & 0 & 0 & 0 & 0 & 0 & 0 & 0 & 0 & 0 & 0 & ⋯ & 0 & 0 & 0 & 0 & 0 & 0 & 0 & 0 & 0 & 0\\\\\n",
       "\tPeak\\_chr1\\_16145\\_16354 & 0 & 0 & 0 & 0 & 0 & 0 & 0 & 0 & 0 & 0 & ⋯ & 0 & 0 & 0 & 0 & 0 & 0 & 0 & 0 & 0 & 0\\\\\n",
       "\tPeak\\_chr1\\_96388\\_96812 & 0 & 0 & 0 & 0 & 0 & 0 & 0 & 0 & 0 & 0 & ⋯ & 0 & 0 & 0 & 0 & 0 & 0 & 0 & 2 & 0 & 0\\\\\n",
       "\tPeak\\_chr1\\_115650\\_115812 & 0 & 0 & 0 & 0 & 0 & 0 & 0 & 0 & 0 & 0 & ⋯ & 0 & 0 & 0 & 0 & 0 & 0 & 0 & 0 & 0 & 0\\\\\n",
       "\tPeak\\_chr1\\_237625\\_237888 & 0 & 0 & 0 & 0 & 0 & 0 & 0 & 0 & 0 & 0 & ⋯ & 0 & 0 & 0 & 0 & 0 & 0 & 0 & 0 & 0 & 0\\\\\n",
       "\\end{tabular}\n"
      ],
      "text/markdown": [
       "\n",
       "| Peak_chr1_10413_10625 | 0 | 0 | 0 | 0 | 0 | 0 | 0 | 0 | 0 | 0 | ⋯ | 0 | 0 | 0 | 0 | 0 | 0 | 0 | 0 | 0 | 0 |\n",
       "| Peak_chr1_13380_13624 | 0 | 0 | 0 | 0 | 0 | 0 | 0 | 0 | 0 | 0 | ⋯ | 0 | 0 | 0 | 0 | 0 | 0 | 0 | 0 | 0 | 0 |\n",
       "| Peak_chr1_16145_16354 | 0 | 0 | 0 | 0 | 0 | 0 | 0 | 0 | 0 | 0 | ⋯ | 0 | 0 | 0 | 0 | 0 | 0 | 0 | 0 | 0 | 0 |\n",
       "| Peak_chr1_96388_96812 | 0 | 0 | 0 | 0 | 0 | 0 | 0 | 0 | 0 | 0 | ⋯ | 0 | 0 | 0 | 0 | 0 | 0 | 0 | 2 | 0 | 0 |\n",
       "| Peak_chr1_115650_115812 | 0 | 0 | 0 | 0 | 0 | 0 | 0 | 0 | 0 | 0 | ⋯ | 0 | 0 | 0 | 0 | 0 | 0 | 0 | 0 | 0 | 0 |\n",
       "| Peak_chr1_237625_237888 | 0 | 0 | 0 | 0 | 0 | 0 | 0 | 0 | 0 | 0 | ⋯ | 0 | 0 | 0 | 0 | 0 | 0 | 0 | 0 | 0 | 0 |\n",
       "\n"
      ],
      "text/plain": [
       "                        [,1] [,2] [,3] [,4] [,5] [,6] [,7] [,8] [,9] [,10]\n",
       "Peak_chr1_10413_10625   0    0    0    0    0    0    0    0    0    0    \n",
       "Peak_chr1_13380_13624   0    0    0    0    0    0    0    0    0    0    \n",
       "Peak_chr1_16145_16354   0    0    0    0    0    0    0    0    0    0    \n",
       "Peak_chr1_96388_96812   0    0    0    0    0    0    0    0    0    0    \n",
       "Peak_chr1_115650_115812 0    0    0    0    0    0    0    0    0    0    \n",
       "Peak_chr1_237625_237888 0    0    0    0    0    0    0    0    0    0    \n",
       "                        [,11] [,12] [,13] [,14] [,15] [,16] [,17] [,18] [,19]\n",
       "Peak_chr1_10413_10625   ⋯     0     0     0     0     0     0     0     0    \n",
       "Peak_chr1_13380_13624   ⋯     0     0     0     0     0     0     0     0    \n",
       "Peak_chr1_16145_16354   ⋯     0     0     0     0     0     0     0     0    \n",
       "Peak_chr1_96388_96812   ⋯     0     0     0     0     0     0     0     2    \n",
       "Peak_chr1_115650_115812 ⋯     0     0     0     0     0     0     0     0    \n",
       "Peak_chr1_237625_237888 ⋯     0     0     0     0     0     0     0     0    \n",
       "                        [,20] [,21]\n",
       "Peak_chr1_10413_10625   0     0    \n",
       "Peak_chr1_13380_13624   0     0    \n",
       "Peak_chr1_16145_16354   0     0    \n",
       "Peak_chr1_96388_96812   0     0    \n",
       "Peak_chr1_115650_115812 0     0    \n",
       "Peak_chr1_237625_237888 0     0    "
      ]
     },
     "metadata": {},
     "output_type": "display_data"
    }
   ],
   "source": [
    "head(fg.mat.weight)"
   ]
  },
  {
   "cell_type": "code",
   "execution_count": 31,
   "metadata": {},
   "outputs": [
    {
     "name": "stdout",
     "output_type": "stream",
     "text": [
      "Time difference of 2.392638 mins\n"
     ]
    }
   ],
   "source": [
    "# cell names must match those in \n",
    "# /data/pinello/PROJECTS/2019_03_scATAC/Datasets/Buenrostro_2018/metadata/celltype_FACS_corrected.tsv\n",
    "start_time <- Sys.time()\n",
    "colnames(fg.mat.weight) <- sapply(strsplit(sapply(strsplit(colnames(bg.mat),\"\\\\/\"),'[',i=10),\"\\\\.st\"),'[',i=1)\n",
    "write.table(fg.mat.weight, \n",
    "           \"/data/pinello/PROJECTS/2019_03_scATAC/FeatureMatrix/FM_scABC_buenrostro2018.tsv\", \n",
    "            col.names = T, row.names = T, sep = \"\\t\", quote = F)\n",
    "end_time <- Sys.time()\n",
    "print(end_time - start_time)\n",
    "#Time difference of 3.56756 mins"
   ]
  },
  {
   "cell_type": "code",
   "execution_count": null,
   "metadata": {},
   "outputs": [],
   "source": []
  },
  {
   "cell_type": "code",
   "execution_count": null,
   "metadata": {},
   "outputs": [],
   "source": []
  }
 ],
 "metadata": {
  "kernelspec": {
   "display_name": "R [conda env:ATACseq_scABC]",
   "language": "R",
   "name": "conda-env-ATACseq_scABC-r"
  },
  "language_info": {
   "codemirror_mode": "r",
   "file_extension": ".r",
   "mimetype": "text/x-r-source",
   "name": "R",
   "pygments_lexer": "r",
   "version": "3.5.1"
  }
 },
 "nbformat": 4,
 "nbformat_minor": 2
}
