{
 "cells": [
  {
   "cell_type": "markdown",
   "metadata": {},
   "source": [
    "# makeGeneScores\n",
    "\n",
    "Caleb Lareau has provided this script to make a gene by cell feature matrix where the resulting feature matrix contains peak intensity values weighted by the number of ATAC regions for a given annotated promoter region. **Here we apply it to the 2018 Buenrostro data for 2,034 single cells. This is the first vignette of this method**"
   ]
  },
  {
   "cell_type": "markdown",
   "metadata": {},
   "source": [
    "### Installation and R Library loading"
   ]
  },
  {
   "cell_type": "code",
   "execution_count": 3,
   "metadata": {},
   "outputs": [
    {
     "name": "stderr",
     "output_type": "stream",
     "text": [
      "Skipping install of 'BuenColors' from a github remote, the SHA1 (6f62ace8) has not changed since last install.\n",
      "  Use `force = TRUE` to force installation\n"
     ]
    }
   ],
   "source": [
    "# install dependencies\n",
    "devtools::install_github(\"caleblareau/BuenColors\")"
   ]
  },
  {
   "cell_type": "code",
   "execution_count": 5,
   "metadata": {},
   "outputs": [],
   "source": [
    "# libraries\n",
    "library(GenomicRanges)\n",
    "library(SummarizedExperiment)\n",
    "library(data.table)\n",
    "library(dplyr)\n",
    "library(BuenColors)\n",
    "library(Matrix)"
   ]
  },
  {
   "cell_type": "markdown",
   "metadata": {},
   "source": [
    "### Importing peaks to generate a genes by peaks matrix"
   ]
  },
  {
   "cell_type": "code",
   "execution_count": 6,
   "metadata": {},
   "outputs": [],
   "source": [
    "set.seed(1)"
   ]
  },
  {
   "cell_type": "code",
   "execution_count": 7,
   "metadata": {},
   "outputs": [],
   "source": [
    "# import gene bodies; restrict to TSS\n",
    "gdf <- read.table(\"./data/hg19-tss.bed\", stringsAsFactors = FALSE)\n",
    "tss <- data.frame(chr = gdf$V1, gene = gdf$V4, stringsAsFactors = FALSE)\n",
    "tss$tss <-  ifelse(gdf$V5 == \"+\", gdf$V3, gdf$V2)\n",
    "tss$start <- ifelse(tss$tss - 50000 > 0, tss$tss - 50000, 0)\n",
    "tss$stop <- tss$tss + 50000\n",
    "\n",
    "tss_idx <- makeGRangesFromDataFrame(tss, keep.extra.columns = TRUE)"
   ]
  },
  {
   "cell_type": "code",
   "execution_count": 8,
   "metadata": {},
   "outputs": [],
   "source": [
    "# import ATAC peaks\n",
    "\n",
    "# updating with the new peaks.bed file \n",
    "adf <- data.frame(fread('/data/pinello/PROJECTS/2019_03_scATAC/Datasets/Buenrostro_2018/peaks/merged_sc-bams/combined.sorted.merged.bed')); colnames(adf) <- c(\"chr\", \"start\", \"end\")\n",
    "#adf <- data.frame(fread(\"/data/pinello/PROJECTS/2019_03_scATAC/Datasets/Buenrostro_2018/GSE96769_PeakFile_20160207.bed\")); colnames(adf) <- c(\"chr\", \"start\", \"end\")\n",
    "adf$mp <- (adf$start + adf$end)/2\n",
    "atacgranges <- makeGRangesFromDataFrame(adf, start.field = \"mp\", end.field = \"mp\")"
   ]
  },
  {
   "cell_type": "code",
   "execution_count": 9,
   "metadata": {},
   "outputs": [],
   "source": [
    "# find overlap between ATAC peaks and Ranges linker\n",
    "ov <- findOverlaps(atacgranges, tss_idx) #(query, subject)"
   ]
  },
  {
   "cell_type": "code",
   "execution_count": 10,
   "metadata": {},
   "outputs": [
    {
     "name": "stderr",
     "output_type": "stream",
     "text": [
      "Don't know how to automatically pick scale for object of type table. Defaulting to continuous.\n",
      "Don't know how to automatically pick scale for object of type table. Defaulting to continuous.\n"
     ]
    },
    {
     "data": {
      "image/png": "[encoded data removed]",
      "text/plain": [
       "plot without title"
      ]
     },
     "metadata": {},
     "output_type": "display_data"
    }
   ],
   "source": [
    "# plot a histogram showing peaks per gene\n",
    "p1 <- qplot(table(subjectHits(ov)), binwidth = 1) + theme(plot.subtitle = element_text(vjust = 1), \n",
    "                                                          plot.caption = element_text(vjust = 1)) +\n",
    "  labs(title = \"Histogram of peaks per gene\",  x = \"Peaks / gene\") + pretty_plot()\n",
    "cowplot::ggsave(p1, file = \"./output/histo1.png\", width = 5, height = 4)\n",
    "p1"
   ]
  },
  {
   "cell_type": "code",
   "execution_count": 11,
   "metadata": {},
   "outputs": [],
   "source": [
    "# calculate distance decay for the weights\n",
    "dist <- abs(mcols(tss_idx)$tss[subjectHits(ov)] - start(atacgranges)[queryHits(ov)])\n",
    "exp_dist_model <- exp(-1*dist/5000)"
   ]
  },
  {
   "cell_type": "markdown",
   "metadata": {},
   "source": [
    "### Generating a counts matrix"
   ]
  },
  {
   "cell_type": "code",
   "execution_count": 12,
   "metadata": {},
   "outputs": [
    {
     "name": "stdout",
     "output_type": "stream",
     "text": [
      "The dimensions of the outcome matrix are 237450 23938 before filtering.  \n",
      "The dimensions of the outcome matrix are 237450 23356 after filtering."
     ]
    }
   ],
   "source": [
    "# prepare an outcome matrix\n",
    "m <- Matrix::sparseMatrix(i = c(queryHits(ov), length(atacgranges)),\n",
    "                          j = c(subjectHits(ov), length(tss_idx)),\n",
    "                          x = c(exp_dist_model,0))\n",
    "\n",
    "# check the pre-filtering dimensions\n",
    "bef <- dim(m)\n",
    "cat(\"The dimensions of the outcome matrix are\",bef ,\"before filtering.  \n",
    "\")\n",
    "\n",
    "# filter some genes that have no hits \n",
    "colnames(m) <- gdf$V4 # gene name\n",
    "m <- m[,which(Matrix::colSums(m) != 0)]\n",
    "\n",
    "# check dimensions to see the filtering\n",
    "aft <- dim(m)\n",
    "cat('The dimensions of the outcome matrix are', aft ,\"after filtering.\")"
   ]
  },
  {
   "cell_type": "markdown",
   "metadata": {},
   "source": [
    "#### The following two cells contain the bash code that was used to process the single cell bam files to the counts matrix\n",
    "\n",
    "The user needs to choose the following inputs: \n",
    "- bampath = the folder containing your single-cell bam files\n",
    "- in the `bedtools coverage` function, the user must specify `-a [input]` to be the bed file containing the ATACseq peaks. This bedfile must match the bedfile from which you generated `atacranges` above.\n",
    "\n",
    "```\n",
    "#!/bin/bash\n",
    "\n",
    "source activate ATACseq_preprocess\n",
    "bampath=/data/pinello/PROJECTS/2019_03_scATAC/Datasets/Buenrostro_2018/sc-bams/\n",
    "dirlist=(`ls $bampath*.bam`)\n",
    "mkdir -p count_reads_output\n",
    "for FILE in ${dirlist[*]}\n",
    "do\n",
    "\tCELL=$(echo $(basename $FILE) | awk -F \".\" '{print $1}')\n",
    "\techo $CELL\n",
    "\tbedtools coverage -a /data/pinello/PROJECTS/2019_03_scATAC/Datasets/Buenrostro_2018/GSE96769_PeakFile_20160207.bed -b $FILE > ./count_reads_output2/$CELL.txt\n",
    "done\n",
    "```\n",
    "\n",
    "- `output` = a .txt file for each bam file/cell containing the output of bedtools coverage"
   ]
  },
  {
   "cell_type": "markdown",
   "metadata": {},
   "source": [
    "#### bash code to loop through a folder and for each file, take the 6th column and create a new column\n",
    ">for i in ./count_reads_output/*txt; do cut -f 15 $i > $i.read.counts; done\n",
    ">\n",
    ">`function:` loops through the above created .txt files and creates a new file, extracting the column containing the >read count for each peak.\n",
    ">\n",
    ">`user parameter` for the  `cut` function, change `-f` to the column containing the peaks - this may vary depending on the type of bedfile you are starting with. \n",
    ">\n",
    ">`output` = a `*.read.counts` file for each file originally in your output folder. \n",
    ">\n",
    "#### past each column together, making a peak x cell matrix \n",
    ">paste ./count_reads_output/*counts > >/data/pinello/PROJECTS/2019_03_scATAC/Methods/Scasat/makeGeneScores/counts_matrix.txt\n",
    ">\n",
    ">`function:` takes all of the `.read.counts` files that you just created and pastes them together to create the desired peaks x cell matrix. At this point, it would be good to perform a quality check by eye to ensure the proper formation of your counts matrix.\n"
   ]
  },
  {
   "cell_type": "code",
   "execution_count": 13,
   "metadata": {},
   "outputs": [],
   "source": [
    "# import counts\n",
    "counts <- data.matrix(data.frame(fread(\"./counts_matrix.txt\")))"
   ]
  },
  {
   "cell_type": "code",
   "execution_count": 14,
   "metadata": {},
   "outputs": [
    {
     "data": {
      "text/html": [
       "<ol class=list-inline>\n",
       "\t<li>237450</li>\n",
       "\t<li>2034</li>\n",
       "</ol>\n"
      ],
      "text/latex": [
       "\\begin{enumerate*}\n",
       "\\item 237450\n",
       "\\item 2034\n",
       "\\end{enumerate*}\n"
      ],
      "text/markdown": [
       "1. 237450\n",
       "2. 2034\n",
       "\n",
       "\n"
      ],
      "text/plain": [
       "[1] 237450   2034"
      ]
     },
     "metadata": {},
     "output_type": "display_data"
    },
    {
     "data": {
      "text/html": [
       "<table>\n",
       "<thead><tr><th scope=col>V1</th><th scope=col>V2</th><th scope=col>V3</th><th scope=col>V4</th><th scope=col>V5</th><th scope=col>V6</th><th scope=col>V7</th><th scope=col>V8</th><th scope=col>V9</th><th scope=col>V10</th><th scope=col>⋯</th><th scope=col>V2025</th><th scope=col>V2026</th><th scope=col>V2027</th><th scope=col>V2028</th><th scope=col>V2029</th><th scope=col>V2030</th><th scope=col>V2031</th><th scope=col>V2032</th><th scope=col>V2033</th><th scope=col>V2034</th></tr></thead>\n",
       "<tbody>\n",
       "\t<tr><td>0</td><td>0</td><td>0</td><td>0</td><td>0</td><td>0</td><td>0</td><td>0</td><td>0</td><td>0</td><td>⋯</td><td>0</td><td>0</td><td>0</td><td>0</td><td>0</td><td>0</td><td>1</td><td>0</td><td>0</td><td>0</td></tr>\n",
       "\t<tr><td>0</td><td>0</td><td>0</td><td>0</td><td>0</td><td>0</td><td>0</td><td>0</td><td>0</td><td>0</td><td>⋯</td><td>0</td><td>0</td><td>0</td><td>0</td><td>0</td><td>0</td><td>0</td><td>0</td><td>0</td><td>0</td></tr>\n",
       "\t<tr><td>0</td><td>0</td><td>0</td><td>0</td><td>0</td><td>0</td><td>0</td><td>0</td><td>0</td><td>0</td><td>⋯</td><td>0</td><td>0</td><td>0</td><td>0</td><td>0</td><td>0</td><td>0</td><td>0</td><td>0</td><td>0</td></tr>\n",
       "\t<tr><td>0</td><td>0</td><td>0</td><td>0</td><td>0</td><td>0</td><td>0</td><td>0</td><td>0</td><td>0</td><td>⋯</td><td>0</td><td>0</td><td>0</td><td>0</td><td>0</td><td>0</td><td>8</td><td>2</td><td>0</td><td>0</td></tr>\n",
       "\t<tr><td>0</td><td>0</td><td>0</td><td>0</td><td>0</td><td>0</td><td>0</td><td>0</td><td>0</td><td>0</td><td>⋯</td><td>0</td><td>0</td><td>0</td><td>0</td><td>0</td><td>0</td><td>0</td><td>0</td><td>0</td><td>0</td></tr>\n",
       "\t<tr><td>0</td><td>0</td><td>0</td><td>0</td><td>0</td><td>0</td><td>0</td><td>0</td><td>0</td><td>0</td><td>⋯</td><td>0</td><td>0</td><td>0</td><td>0</td><td>0</td><td>0</td><td>0</td><td>0</td><td>0</td><td>0</td></tr>\n",
       "</tbody>\n",
       "</table>\n"
      ],
      "text/latex": [
       "\\begin{tabular}{llllllllllllllllllllllllllllllllllllllllllllllllllllllllllllllllllllllllllllllllllllllllllllllllllllllllllllllllllllllllllllllllllllllllllllllllllllllllllllllllllllllllllllllllllllllllllllllllllllllllllllllllllllllllllllllllllllllllllllllllllllllllllllllllllllllllllllllllllllllllllllllllllllllllllllllllllllllllllllllllllllllllllllllllllllllllllllllllllllllllllllllllllllllllllllllllllllllllllllllllllllllllllllllllllllllllllllllllllllllllllllllllllllllllllllllllllllllllllllllllllllllllllllllllllllllllllllllllllllllllllllllllllllllllllllllllllllllllllllllllllllllllllllllllllllllllllllllllllllllllllllllllllllllllllllllllllllllllllllllllllllllllllllllllllllllllllllllllllllllllllllllllllllllllllllllllllllllllllllllllllllllllllllllllllllllllllllllllllllllllllllllllllllllllllllllllllllllllllllllllllllllllllllllllllllllllllllllllllllllllllllllllllllllllllllllllllllllllllllllllllllllllllllllllllllllllllllllllllllllllllllllllllllllllllllllllllllllllllllllllllllllllllllllllllllllllllllllllllllllllllllllllllllllllllllllllllllllllllllllllllllllllllllllllllllllllllllllllllllllllllllllllllllllllllllllllllllllllllllllllllllllllllllllllllllllllllllllllllllllllllllllllllllllllllllllllllllllllllllllllllllllllllllllllllllllllllllllllllllllllllllllllllllllllllllllllllllllllllllllllllllllllllllllllllllllllllllllllllllllllllllllllllllllllllllllllllllllllllllllllllllllllllllllllllllllllllllllllllllllllllllllllllllllllllllllllllllllllllllllllllllllllllllllllllllllllllllllllllllllllllllllllllllllllllllllllllllllllllllllllllllllllllllllllllllllllllllllllllllllllllllllllllllllllllllllllllllllllllllllllllllllllllllllllllllllllllllllllllllllllllllllllllllllllllllllllllllllllllllllllllllllllllllllllllllllllllllllllllllllllllllllllllllllllllllllllllllllllllllllllllllllllllllllllllllllllllllllllllllllllllllllllllllllllllllllllllllllllllllllllllllllllllllllllllllllllllllllllllllllllllllllllllllllllllllllllllllllllllllllllllllllllllllllllllllllllllllllllllllllllllllllllllllllllllllllllllllllllllllllllllllllllllllllllllllllllllllllllll}\n",
       " V1 & V2 & V3 & V4 & V5 & V6 & V7 & V8 & V9 & V10 & ⋯ & V2025 & V2026 & V2027 & V2028 & V2029 & V2030 & V2031 & V2032 & V2033 & V2034\\\\\n",
       "\\hline\n",
       "\t 0 & 0 & 0 & 0 & 0 & 0 & 0 & 0 & 0 & 0 & ⋯ & 0 & 0 & 0 & 0 & 0 & 0 & 1 & 0 & 0 & 0\\\\\n",
       "\t 0 & 0 & 0 & 0 & 0 & 0 & 0 & 0 & 0 & 0 & ⋯ & 0 & 0 & 0 & 0 & 0 & 0 & 0 & 0 & 0 & 0\\\\\n",
       "\t 0 & 0 & 0 & 0 & 0 & 0 & 0 & 0 & 0 & 0 & ⋯ & 0 & 0 & 0 & 0 & 0 & 0 & 0 & 0 & 0 & 0\\\\\n",
       "\t 0 & 0 & 0 & 0 & 0 & 0 & 0 & 0 & 0 & 0 & ⋯ & 0 & 0 & 0 & 0 & 0 & 0 & 8 & 2 & 0 & 0\\\\\n",
       "\t 0 & 0 & 0 & 0 & 0 & 0 & 0 & 0 & 0 & 0 & ⋯ & 0 & 0 & 0 & 0 & 0 & 0 & 0 & 0 & 0 & 0\\\\\n",
       "\t 0 & 0 & 0 & 0 & 0 & 0 & 0 & 0 & 0 & 0 & ⋯ & 0 & 0 & 0 & 0 & 0 & 0 & 0 & 0 & 0 & 0\\\\\n",
       "\\end{tabular}\n"
      ],
      "text/markdown": [
       "\n",
       "| V1 | V2 | V3 | V4 | V5 | V6 | V7 | V8 | V9 | V10 | ⋯ | V2025 | V2026 | V2027 | V2028 | V2029 | V2030 | V2031 | V2032 | V2033 | V2034 |\n",
       "|---|---|---|---|---|---|---|---|---|---|---|---|---|---|---|---|---|---|---|---|---|\n",
       "| 0 | 0 | 0 | 0 | 0 | 0 | 0 | 0 | 0 | 0 | ⋯ | 0 | 0 | 0 | 0 | 0 | 0 | 1 | 0 | 0 | 0 |\n",
       "| 0 | 0 | 0 | 0 | 0 | 0 | 0 | 0 | 0 | 0 | ⋯ | 0 | 0 | 0 | 0 | 0 | 0 | 0 | 0 | 0 | 0 |\n",
       "| 0 | 0 | 0 | 0 | 0 | 0 | 0 | 0 | 0 | 0 | ⋯ | 0 | 0 | 0 | 0 | 0 | 0 | 0 | 0 | 0 | 0 |\n",
       "| 0 | 0 | 0 | 0 | 0 | 0 | 0 | 0 | 0 | 0 | ⋯ | 0 | 0 | 0 | 0 | 0 | 0 | 8 | 2 | 0 | 0 |\n",
       "| 0 | 0 | 0 | 0 | 0 | 0 | 0 | 0 | 0 | 0 | ⋯ | 0 | 0 | 0 | 0 | 0 | 0 | 0 | 0 | 0 | 0 |\n",
       "| 0 | 0 | 0 | 0 | 0 | 0 | 0 | 0 | 0 | 0 | ⋯ | 0 | 0 | 0 | 0 | 0 | 0 | 0 | 0 | 0 | 0 |\n",
       "\n"
      ],
      "text/plain": [
       "     V1 V2 V3 V4 V5 V6 V7 V8 V9 V10 ⋯ V2025 V2026 V2027 V2028 V2029 V2030 V2031\n",
       "[1,] 0  0  0  0  0  0  0  0  0  0   ⋯ 0     0     0     0     0     0     1    \n",
       "[2,] 0  0  0  0  0  0  0  0  0  0   ⋯ 0     0     0     0     0     0     0    \n",
       "[3,] 0  0  0  0  0  0  0  0  0  0   ⋯ 0     0     0     0     0     0     0    \n",
       "[4,] 0  0  0  0  0  0  0  0  0  0   ⋯ 0     0     0     0     0     0     8    \n",
       "[5,] 0  0  0  0  0  0  0  0  0  0   ⋯ 0     0     0     0     0     0     0    \n",
       "[6,] 0  0  0  0  0  0  0  0  0  0   ⋯ 0     0     0     0     0     0     0    \n",
       "     V2032 V2033 V2034\n",
       "[1,] 0     0     0    \n",
       "[2,] 0     0     0    \n",
       "[3,] 0     0     0    \n",
       "[4,] 2     0     0    \n",
       "[5,] 0     0     0    \n",
       "[6,] 0     0     0    "
      ]
     },
     "metadata": {},
     "output_type": "display_data"
    }
   ],
   "source": [
    "# inspection of counts matrix\n",
    "dim(counts)\n",
    "head(counts)"
   ]
  },
  {
   "cell_type": "markdown",
   "metadata": {},
   "source": [
    "### Matrix Multiplication to generate Gene Scores Matrix"
   ]
  },
  {
   "cell_type": "code",
   "execution_count": 15,
   "metadata": {},
   "outputs": [],
   "source": [
    "geneScores <- t(m) %*% counts #transpose matrix m and multiply it by counts"
   ]
  },
  {
   "cell_type": "markdown",
   "metadata": {},
   "source": [
    "### Exporting the resulting matrix in two pieces"
   ]
  },
  {
   "cell_type": "code",
   "execution_count": 16,
   "metadata": {},
   "outputs": [],
   "source": [
    "write.table(data.frame(data.matrix(geneScores)), row.names = FALSE, col.names = TRUE, \n",
    "            sep = \"\\t\", quote = FALSE, file = \"./output/bmControl-louvain_rawGeneScores.tsv\")\n",
    "write.table(data.frame(rownames(geneScores)), row.names = FALSE, col.names = FALSE, \n",
    "            sep = \"\\t\", quote = FALSE, file = \"./output/bmControl-louvain_geneAnnotations.tsv\")"
   ]
  },
  {
   "cell_type": "markdown",
   "metadata": {},
   "source": [
    "### Visualization of Output"
   ]
  },
  {
   "cell_type": "code",
   "execution_count": 42,
   "metadata": {},
   "outputs": [],
   "source": [
    "rawGeneScores = fread('./output/bmControl-louvain_rawGeneScores.tsv')\n",
    "geneAnnotations = fread(\"./output/bmControl-louvain_geneAnnotations.tsv\", header = FALSE)"
   ]
  },
  {
   "cell_type": "code",
   "execution_count": 43,
   "metadata": {},
   "outputs": [
    {
     "data": {
      "text/html": [
       "<table>\n",
       "<thead><tr><th scope=col>V1</th><th scope=col>V2</th><th scope=col>V3</th><th scope=col>V4</th><th scope=col>V5</th><th scope=col>V6</th><th scope=col>V7</th><th scope=col>V8</th><th scope=col>V9</th><th scope=col>V10</th><th scope=col>⋯</th><th scope=col>V2025</th><th scope=col>V2026</th><th scope=col>V2027</th><th scope=col>V2028</th><th scope=col>V2029</th><th scope=col>V2030</th><th scope=col>V2031</th><th scope=col>V2032</th><th scope=col>V2033</th><th scope=col>V2034</th></tr></thead>\n",
       "<tbody>\n",
       "\t<tr><td>0           </td><td>0           </td><td>0           </td><td>0           </td><td>3.5173025   </td><td>0.0000000000</td><td>0           </td><td>0           </td><td>0.002119759 </td><td>0.002119759 </td><td>⋯           </td><td>0.12725846  </td><td>0.08449585  </td><td>0.0000000000</td><td>0.7593362   </td><td>0.27851055  </td><td>0.2607732   </td><td>0.1728171   </td><td>0.08564297  </td><td>0.0000000000</td><td>0.261122    </td></tr>\n",
       "\t<tr><td>0           </td><td>0           </td><td>0           </td><td>0           </td><td>0.8515427   </td><td>0.0001922233</td><td>0           </td><td>0           </td><td>0.012477092 </td><td>0.011323752 </td><td>⋯           </td><td>0.05011447  </td><td>0.45137680  </td><td>0.0003844466</td><td>4.0010690   </td><td>1.49145541  </td><td>1.3773481   </td><td>0.9231889   </td><td>0.03847351  </td><td>0.0009611165</td><td>1.395875    </td></tr>\n",
       "\t<tr><td>0           </td><td>0           </td><td>0           </td><td>0           </td><td>0.0000000   </td><td>0.0000000000</td><td>0           </td><td>0           </td><td>0.000000000 </td><td>0.000000000 </td><td>⋯           </td><td>0.00000000  </td><td>0.00000000  </td><td>0.0000000000</td><td>0.0000000   </td><td>0.00000000  </td><td>0.0000000   </td><td>0.0000000   </td><td>0.00000000  </td><td>0.0000000000</td><td>0.000000    </td></tr>\n",
       "\t<tr><td>0           </td><td>0           </td><td>0           </td><td>0           </td><td>0.0000000   </td><td>0.0000000000</td><td>0           </td><td>0           </td><td>0.000000000 </td><td>0.000000000 </td><td>⋯           </td><td>0.00000000  </td><td>0.00000000  </td><td>0.0000000000</td><td>0.0000000   </td><td>0.00000000  </td><td>0.0000000   </td><td>0.0000000   </td><td>0.00000000  </td><td>0.0000000000</td><td>0.000000    </td></tr>\n",
       "\t<tr><td>0           </td><td>0           </td><td>0           </td><td>0           </td><td>0.0000000   </td><td>0.0000000000</td><td>0           </td><td>0           </td><td>1.102242985 </td><td>0.000000000 </td><td>⋯           </td><td>0.00000000  </td><td>0.00000000  </td><td>0.0000000000</td><td>0.0000000   </td><td>0.05668459  </td><td>0.0000000   </td><td>0.0000000   </td><td>0.00000000  </td><td>0.0000000000</td><td>0.000000    </td></tr>\n",
       "\t<tr><td>0           </td><td>0           </td><td>0           </td><td>0           </td><td>0.0000000   </td><td>0.0000000000</td><td>0           </td><td>0           </td><td>1.028135719 </td><td>0.000000000 </td><td>⋯           </td><td>0.00000000  </td><td>0.00000000  </td><td>0.0000000000</td><td>0.0000000   </td><td>0.05287351  </td><td>0.0000000   </td><td>0.0000000   </td><td>0.00000000  </td><td>0.0000000000</td><td>0.000000    </td></tr>\n",
       "</tbody>\n",
       "</table>\n"
      ],
      "text/latex": [
       "\\begin{tabular}{r|llllllllllllllllllllllllllllllllllllllllllllllllllllllllllllllllllllllllllllllllllllllllllllllllllllllllllllllllllllllllllllllllllllllllllllllllllllllllllllllllllllllllllllllllllllllllllllllllllllllllllllllllllllllllllllllllllllllllllllllllllllllllllllllllllllllllllllllllllllllllllllllllllllllllllllllllllllllllllllllllllllllllllllllllllllllllllllllllllllllllllllllllllllllllllllllllllllllllllllllllllllllllllllllllllllllllllllllllllllllllllllllllllllllllllllllllllllllllllllllllllllllllllllllllllllllllllllllllllllllllllllllllllllllllllllllllllllllllllllllllllllllllllllllllllllllllllllllllllllllllllllllllllllllllllllllllllllllllllllllllllllllllllllllllllllllllllllllllllllllllllllllllllllllllllllllllllllllllllllllllllllllllllllllllllllllllllllllllllllllllllllllllllllllllllllllllllllllllllllllllllllllllllllllllllllllllllllllllllllllllllllllllllllllllllllllllllllllllllllllllllllllllllllllllllllllllllllllllllllllllllllllllllllllllllllllllllllllllllllllllllllllllllllllllllllllllllllllllllllllllllllllllllllllllllllllllllllllllllllllllllllllllllllllllllllllllllllllllllllllllllllllllllllllllllllllllllllllllllllllllllllllllllllllllllllllllllllllllllllllllllllllllllllllllllllllllllllllllllllllllllllllllllllllllllllllllllllllllllllllllllllllllllllllllllllllllllllllllllllllllllllllllllllllllllllllllllllllllllllllllllllllllllllllllllllllllllllllllllllllllllllllllllllllllllllllllllllllllllllllllllllllllllllllllllllllllllllllllllllllllllllllllllllllllllllllllllllllllllllllllllllllllllllllllllllllllllllllllllllllllllllllllllllllllllllllllllllllllllllllllllllllllllllllllllllllllllllllllllllllllllllllllllllllllllllllllllllllllllllllllllllllllllllllllllllllllllllllllllllllllllllllllllllllllllllllllllllllllllllllllllllllllllllllllllllllllllllllllllllllllllllllllllllllllllllllllllllllllllllllllllllllllllllllllllllllllllllllllllllllllllllllllllllllllllllllllllllllllllllllllllllllllllllllllllllllllllllllllllllllllllllllllllllllllllllllllllllllllllllllllllllllllllllllllllllllllllllllllllllllllllllllllllllllllllllllllllllllllll}\n",
       " V1 & V2 & V3 & V4 & V5 & V6 & V7 & V8 & V9 & V10 & ⋯ & V2025 & V2026 & V2027 & V2028 & V2029 & V2030 & V2031 & V2032 & V2033 & V2034\\\\\n",
       "\\hline\n",
       "\t 0            & 0            & 0            & 0            & 3.5173025    & 0.0000000000 & 0            & 0            & 0.002119759  & 0.002119759  & ⋯            & 0.12725846   & 0.08449585   & 0.0000000000 & 0.7593362    & 0.27851055   & 0.2607732    & 0.1728171    & 0.08564297   & 0.0000000000 & 0.261122    \\\\\n",
       "\t 0            & 0            & 0            & 0            & 0.8515427    & 0.0001922233 & 0            & 0            & 0.012477092  & 0.011323752  & ⋯            & 0.05011447   & 0.45137680   & 0.0003844466 & 4.0010690    & 1.49145541   & 1.3773481    & 0.9231889    & 0.03847351   & 0.0009611165 & 1.395875    \\\\\n",
       "\t 0            & 0            & 0            & 0            & 0.0000000    & 0.0000000000 & 0            & 0            & 0.000000000  & 0.000000000  & ⋯            & 0.00000000   & 0.00000000   & 0.0000000000 & 0.0000000    & 0.00000000   & 0.0000000    & 0.0000000    & 0.00000000   & 0.0000000000 & 0.000000    \\\\\n",
       "\t 0            & 0            & 0            & 0            & 0.0000000    & 0.0000000000 & 0            & 0            & 0.000000000  & 0.000000000  & ⋯            & 0.00000000   & 0.00000000   & 0.0000000000 & 0.0000000    & 0.00000000   & 0.0000000    & 0.0000000    & 0.00000000   & 0.0000000000 & 0.000000    \\\\\n",
       "\t 0            & 0            & 0            & 0            & 0.0000000    & 0.0000000000 & 0            & 0            & 1.102242985  & 0.000000000  & ⋯            & 0.00000000   & 0.00000000   & 0.0000000000 & 0.0000000    & 0.05668459   & 0.0000000    & 0.0000000    & 0.00000000   & 0.0000000000 & 0.000000    \\\\\n",
       "\t 0            & 0            & 0            & 0            & 0.0000000    & 0.0000000000 & 0            & 0            & 1.028135719  & 0.000000000  & ⋯            & 0.00000000   & 0.00000000   & 0.0000000000 & 0.0000000    & 0.05287351   & 0.0000000    & 0.0000000    & 0.00000000   & 0.0000000000 & 0.000000    \\\\\n",
       "\\end{tabular}\n"
      ],
      "text/markdown": [
       "\n",
       "| V1 | V2 | V3 | V4 | V5 | V6 | V7 | V8 | V9 | V10 | ⋯ | V2025 | V2026 | V2027 | V2028 | V2029 | V2030 | V2031 | V2032 | V2033 | V2034 |\n",
       "|---|---|---|---|---|---|---|---|---|---|---|---|---|---|---|---|---|---|---|---|---|\n",
       "| 0            | 0            | 0            | 0            | 3.5173025    | 0.0000000000 | 0            | 0            | 0.002119759  | 0.002119759  | ⋯            | 0.12725846   | 0.08449585   | 0.0000000000 | 0.7593362    | 0.27851055   | 0.2607732    | 0.1728171    | 0.08564297   | 0.0000000000 | 0.261122     |\n",
       "| 0            | 0            | 0            | 0            | 0.8515427    | 0.0001922233 | 0            | 0            | 0.012477092  | 0.011323752  | ⋯            | 0.05011447   | 0.45137680   | 0.0003844466 | 4.0010690    | 1.49145541   | 1.3773481    | 0.9231889    | 0.03847351   | 0.0009611165 | 1.395875     |\n",
       "| 0            | 0            | 0            | 0            | 0.0000000    | 0.0000000000 | 0            | 0            | 0.000000000  | 0.000000000  | ⋯            | 0.00000000   | 0.00000000   | 0.0000000000 | 0.0000000    | 0.00000000   | 0.0000000    | 0.0000000    | 0.00000000   | 0.0000000000 | 0.000000     |\n",
       "| 0            | 0            | 0            | 0            | 0.0000000    | 0.0000000000 | 0            | 0            | 0.000000000  | 0.000000000  | ⋯            | 0.00000000   | 0.00000000   | 0.0000000000 | 0.0000000    | 0.00000000   | 0.0000000    | 0.0000000    | 0.00000000   | 0.0000000000 | 0.000000     |\n",
       "| 0            | 0            | 0            | 0            | 0.0000000    | 0.0000000000 | 0            | 0            | 1.102242985  | 0.000000000  | ⋯            | 0.00000000   | 0.00000000   | 0.0000000000 | 0.0000000    | 0.05668459   | 0.0000000    | 0.0000000    | 0.00000000   | 0.0000000000 | 0.000000     |\n",
       "| 0            | 0            | 0            | 0            | 0.0000000    | 0.0000000000 | 0            | 0            | 1.028135719  | 0.000000000  | ⋯            | 0.00000000   | 0.00000000   | 0.0000000000 | 0.0000000    | 0.05287351   | 0.0000000    | 0.0000000    | 0.00000000   | 0.0000000000 | 0.000000     |\n",
       "\n"
      ],
      "text/plain": [
       "  V1 V2 V3 V4 V5        V6           V7 V8 V9          V10         ⋯ V2025     \n",
       "1 0  0  0  0  3.5173025 0.0000000000 0  0  0.002119759 0.002119759 ⋯ 0.12725846\n",
       "2 0  0  0  0  0.8515427 0.0001922233 0  0  0.012477092 0.011323752 ⋯ 0.05011447\n",
       "3 0  0  0  0  0.0000000 0.0000000000 0  0  0.000000000 0.000000000 ⋯ 0.00000000\n",
       "4 0  0  0  0  0.0000000 0.0000000000 0  0  0.000000000 0.000000000 ⋯ 0.00000000\n",
       "5 0  0  0  0  0.0000000 0.0000000000 0  0  1.102242985 0.000000000 ⋯ 0.00000000\n",
       "6 0  0  0  0  0.0000000 0.0000000000 0  0  1.028135719 0.000000000 ⋯ 0.00000000\n",
       "  V2026      V2027        V2028     V2029      V2030     V2031     V2032     \n",
       "1 0.08449585 0.0000000000 0.7593362 0.27851055 0.2607732 0.1728171 0.08564297\n",
       "2 0.45137680 0.0003844466 4.0010690 1.49145541 1.3773481 0.9231889 0.03847351\n",
       "3 0.00000000 0.0000000000 0.0000000 0.00000000 0.0000000 0.0000000 0.00000000\n",
       "4 0.00000000 0.0000000000 0.0000000 0.00000000 0.0000000 0.0000000 0.00000000\n",
       "5 0.00000000 0.0000000000 0.0000000 0.05668459 0.0000000 0.0000000 0.00000000\n",
       "6 0.00000000 0.0000000000 0.0000000 0.05287351 0.0000000 0.0000000 0.00000000\n",
       "  V2033        V2034   \n",
       "1 0.0000000000 0.261122\n",
       "2 0.0009611165 1.395875\n",
       "3 0.0000000000 0.000000\n",
       "4 0.0000000000 0.000000\n",
       "5 0.0000000000 0.000000\n",
       "6 0.0000000000 0.000000"
      ]
     },
     "metadata": {},
     "output_type": "display_data"
    }
   ],
   "source": [
    "head(rawGeneScores) # multiplication product of read count x sparse matrix of peaks in a gene = read count/score per gene"
   ]
  },
  {
   "cell_type": "code",
   "execution_count": 44,
   "metadata": {},
   "outputs": [
    {
     "data": {
      "text/html": [
       "<ol class=list-inline>\n",
       "\t<li>'./count_reads_output/BM1077-CLP-Frozen-160106-13.txt'</li>\n",
       "\t<li>'./count_reads_output/BM1077-CLP-Frozen-160106-14.txt'</li>\n",
       "\t<li>'./count_reads_output/BM1077-CLP-Frozen-160106-2.txt'</li>\n",
       "\t<li>'./count_reads_output/BM1077-CLP-Frozen-160106-21.txt'</li>\n",
       "\t<li>'./count_reads_output/BM1077-CLP-Frozen-160106-27.txt'</li>\n",
       "\t<li>'./count_reads_output/BM1077-CLP-Frozen-160106-3.txt'</li>\n",
       "</ol>\n"
      ],
      "text/latex": [
       "\\begin{enumerate*}\n",
       "\\item './count\\_reads\\_output/BM1077-CLP-Frozen-160106-13.txt'\n",
       "\\item './count\\_reads\\_output/BM1077-CLP-Frozen-160106-14.txt'\n",
       "\\item './count\\_reads\\_output/BM1077-CLP-Frozen-160106-2.txt'\n",
       "\\item './count\\_reads\\_output/BM1077-CLP-Frozen-160106-21.txt'\n",
       "\\item './count\\_reads\\_output/BM1077-CLP-Frozen-160106-27.txt'\n",
       "\\item './count\\_reads\\_output/BM1077-CLP-Frozen-160106-3.txt'\n",
       "\\end{enumerate*}\n"
      ],
      "text/markdown": [
       "1. './count_reads_output/BM1077-CLP-Frozen-160106-13.txt'\n",
       "2. './count_reads_output/BM1077-CLP-Frozen-160106-14.txt'\n",
       "3. './count_reads_output/BM1077-CLP-Frozen-160106-2.txt'\n",
       "4. './count_reads_output/BM1077-CLP-Frozen-160106-21.txt'\n",
       "5. './count_reads_output/BM1077-CLP-Frozen-160106-27.txt'\n",
       "6. './count_reads_output/BM1077-CLP-Frozen-160106-3.txt'\n",
       "\n",
       "\n"
      ],
      "text/plain": [
       "[1] \"./count_reads_output/BM1077-CLP-Frozen-160106-13.txt\"\n",
       "[2] \"./count_reads_output/BM1077-CLP-Frozen-160106-14.txt\"\n",
       "[3] \"./count_reads_output/BM1077-CLP-Frozen-160106-2.txt\" \n",
       "[4] \"./count_reads_output/BM1077-CLP-Frozen-160106-21.txt\"\n",
       "[5] \"./count_reads_output/BM1077-CLP-Frozen-160106-27.txt\"\n",
       "[6] \"./count_reads_output/BM1077-CLP-Frozen-160106-3.txt\" "
      ]
     },
     "metadata": {},
     "output_type": "display_data"
    }
   ],
   "source": [
    "countFileFolder = './count_reads_output'\n",
    "cellNamePattern = '.txt$'\n",
    "countFiles = list.files(path=countFileFolder, pattern = cellNamePattern, full.names=TRUE)\n",
    "head(countFiles)"
   ]
  },
  {
   "cell_type": "code",
   "execution_count": 45,
   "metadata": {},
   "outputs": [],
   "source": [
    "CellNames = list.files(path=countFileFolder, pattern = cellNamePattern)"
   ]
  },
  {
   "cell_type": "code",
   "execution_count": 46,
   "metadata": {},
   "outputs": [
    {
     "data": {
      "text/html": [
       "2034"
      ],
      "text/latex": [
       "2034"
      ],
      "text/markdown": [
       "2034"
      ],
      "text/plain": [
       "[1] 2034"
      ]
     },
     "metadata": {},
     "output_type": "display_data"
    },
    {
     "data": {
      "text/html": [
       "<ol class=list-inline>\n",
       "\t<li>'BM1077-CLP-Frozen-160106-13'</li>\n",
       "\t<li>'BM1077-CLP-Frozen-160106-14'</li>\n",
       "\t<li>'BM1077-CLP-Frozen-160106-2'</li>\n",
       "\t<li>'BM1077-CLP-Frozen-160106-21'</li>\n",
       "\t<li>'BM1077-CLP-Frozen-160106-27'</li>\n",
       "\t<li>'BM1077-CLP-Frozen-160106-3'</li>\n",
       "</ol>\n"
      ],
      "text/latex": [
       "\\begin{enumerate*}\n",
       "\\item 'BM1077-CLP-Frozen-160106-13'\n",
       "\\item 'BM1077-CLP-Frozen-160106-14'\n",
       "\\item 'BM1077-CLP-Frozen-160106-2'\n",
       "\\item 'BM1077-CLP-Frozen-160106-21'\n",
       "\\item 'BM1077-CLP-Frozen-160106-27'\n",
       "\\item 'BM1077-CLP-Frozen-160106-3'\n",
       "\\end{enumerate*}\n"
      ],
      "text/markdown": [
       "1. 'BM1077-CLP-Frozen-160106-13'\n",
       "2. 'BM1077-CLP-Frozen-160106-14'\n",
       "3. 'BM1077-CLP-Frozen-160106-2'\n",
       "4. 'BM1077-CLP-Frozen-160106-21'\n",
       "5. 'BM1077-CLP-Frozen-160106-27'\n",
       "6. 'BM1077-CLP-Frozen-160106-3'\n",
       "\n",
       "\n"
      ],
      "text/plain": [
       "[1] \"BM1077-CLP-Frozen-160106-13\" \"BM1077-CLP-Frozen-160106-14\"\n",
       "[3] \"BM1077-CLP-Frozen-160106-2\"  \"BM1077-CLP-Frozen-160106-21\"\n",
       "[5] \"BM1077-CLP-Frozen-160106-27\" \"BM1077-CLP-Frozen-160106-3\" "
      ]
     },
     "metadata": {},
     "output_type": "display_data"
    }
   ],
   "source": [
    "CellNames = gsub(\"*.txt\",\"\",CellNames)\n",
    "length(CellNames)\n",
    "head(CellNames)"
   ]
  },
  {
   "cell_type": "code",
   "execution_count": 47,
   "metadata": {},
   "outputs": [],
   "source": [
    "colnames(geneAnnotations) = 'Gene'\n",
    "colnames(rawGeneScores) = CellNames"
   ]
  },
  {
   "cell_type": "code",
   "execution_count": 48,
   "metadata": {},
   "outputs": [],
   "source": [
    "FeatureMatrix = cbind(geneAnnotations, rawGeneScores)"
   ]
  },
  {
   "cell_type": "code",
   "execution_count": 49,
   "metadata": {},
   "outputs": [
    {
     "data": {
      "text/html": [
       "<table>\n",
       "<thead><tr><th scope=col>Gene</th><th scope=col>BM1077-CLP-Frozen-160106-13</th><th scope=col>BM1077-CLP-Frozen-160106-14</th><th scope=col>BM1077-CLP-Frozen-160106-2</th><th scope=col>BM1077-CLP-Frozen-160106-21</th><th scope=col>BM1077-CLP-Frozen-160106-27</th><th scope=col>BM1077-CLP-Frozen-160106-3</th><th scope=col>BM1077-CLP-Frozen-160106-36</th><th scope=col>BM1077-CLP-Frozen-160106-42</th><th scope=col>BM1077-CLP-Frozen-160106-44</th><th scope=col>⋯</th><th scope=col>singles-PB1022-mono-160128-81</th><th scope=col>singles-PB1022-mono-160128-82</th><th scope=col>singles-PB1022-mono-160128-83</th><th scope=col>singles-PB1022-mono-160128-84</th><th scope=col>singles-PB1022-mono-160128-85</th><th scope=col>singles-PB1022-mono-160128-86</th><th scope=col>singles-PB1022-mono-160128-89</th><th scope=col>singles-PB1022-mono-160128-90</th><th scope=col>singles-PB1022-mono-160128-95</th><th scope=col>singles-PB1022-mono-160128-96</th></tr></thead>\n",
       "<tbody>\n",
       "\t<tr><td>A1BG        </td><td>0           </td><td>0           </td><td>0           </td><td>0           </td><td>3.5173025   </td><td>0.0000000000</td><td>0           </td><td>0           </td><td>0.002119759 </td><td>⋯           </td><td>0.12725846  </td><td>0.08449585  </td><td>0.0000000000</td><td>0.7593362   </td><td>0.27851055  </td><td>0.2607732   </td><td>0.1728171   </td><td>0.08564297  </td><td>0.0000000000</td><td>0.261122    </td></tr>\n",
       "\t<tr><td>A1BG-AS1    </td><td>0           </td><td>0           </td><td>0           </td><td>0           </td><td>0.8515427   </td><td>0.0001922233</td><td>0           </td><td>0           </td><td>0.012477092 </td><td>⋯           </td><td>0.05011447  </td><td>0.45137680  </td><td>0.0003844466</td><td>4.0010690   </td><td>1.49145541  </td><td>1.3773481   </td><td>0.9231889   </td><td>0.03847351  </td><td>0.0009611165</td><td>1.395875    </td></tr>\n",
       "\t<tr><td>A1CF        </td><td>0           </td><td>0           </td><td>0           </td><td>0           </td><td>0.0000000   </td><td>0.0000000000</td><td>0           </td><td>0           </td><td>0.000000000 </td><td>⋯           </td><td>0.00000000  </td><td>0.00000000  </td><td>0.0000000000</td><td>0.0000000   </td><td>0.00000000  </td><td>0.0000000   </td><td>0.0000000   </td><td>0.00000000  </td><td>0.0000000000</td><td>0.000000    </td></tr>\n",
       "\t<tr><td>A2LD1       </td><td>0           </td><td>0           </td><td>0           </td><td>0           </td><td>0.0000000   </td><td>0.0000000000</td><td>0           </td><td>0           </td><td>0.000000000 </td><td>⋯           </td><td>0.00000000  </td><td>0.00000000  </td><td>0.0000000000</td><td>0.0000000   </td><td>0.00000000  </td><td>0.0000000   </td><td>0.0000000   </td><td>0.00000000  </td><td>0.0000000000</td><td>0.000000    </td></tr>\n",
       "\t<tr><td>A2M         </td><td>0           </td><td>0           </td><td>0           </td><td>0           </td><td>0.0000000   </td><td>0.0000000000</td><td>0           </td><td>0           </td><td>1.102242985 </td><td>⋯           </td><td>0.00000000  </td><td>0.00000000  </td><td>0.0000000000</td><td>0.0000000   </td><td>0.05668459  </td><td>0.0000000   </td><td>0.0000000   </td><td>0.00000000  </td><td>0.0000000000</td><td>0.000000    </td></tr>\n",
       "\t<tr><td>A2M-AS1     </td><td>0           </td><td>0           </td><td>0           </td><td>0           </td><td>0.0000000   </td><td>0.0000000000</td><td>0           </td><td>0           </td><td>1.028135719 </td><td>⋯           </td><td>0.00000000  </td><td>0.00000000  </td><td>0.0000000000</td><td>0.0000000   </td><td>0.05287351  </td><td>0.0000000   </td><td>0.0000000   </td><td>0.00000000  </td><td>0.0000000000</td><td>0.000000    </td></tr>\n",
       "</tbody>\n",
       "</table>\n"
      ],
      "text/latex": [
       "\\begin{tabular}{r|lllllllllllllllllllllllllllllllllllllllllllllllllllllllllllllllllllllllllllllllllllllllllllllllllllllllllllllllllllllllllllllllllllllllllllllllllllllllllllllllllllllllllllllllllllllllllllllllllllllllllllllllllllllllllllllllllllllllllllllllllllllllllllllllllllllllllllllllllllllllllllllllllllllllllllllllllllllllllllllllllllllllllllllllllllllllllllllllllllllllllllllllllllllllllllllllllllllllllllllllllllllllllllllllllllllllllllllllllllllllllllllllllllllllllllllllllllllllllllllllllllllllllllllllllllllllllllllllllllllllllllllllllllllllllllllllllllllllllllllllllllllllllllllllllllllllllllllllllllllllllllllllllllllllllllllllllllllllllllllllllllllllllllllllllllllllllllllllllllllllllllllllllllllllllllllllllllllllllllllllllllllllllllllllllllllllllllllllllllllllllllllllllllllllllllllllllllllllllllllllllllllllllllllllllllllllllllllllllllllllllllllllllllllllllllllllllllllllllllllllllllllllllllllllllllllllllllllllllllllllllllllllllllllllllllllllllllllllllllllllllllllllllllllllllllllllllllllllllllllllllllllllllllllllllllllllllllllllllllllllllllllllllllllllllllllllllllllllllllllllllllllllllllllllllllllllllllllllllllllllllllllllllllllllllllllllllllllllllllllllllllllllllllllllllllllllllllllllllllllllllllllllllllllllllllllllllllllllllllllllllllllllllllllllllllllllllllllllllllllllllllllllllllllllllllllllllllllllllllllllllllllllllllllllllllllllllllllllllllllllllllllllllllllllllllllllllllllllllllllllllllllllllllllllllllllllllllllllllllllllllllllllllllllllllllllllllllllllllllllllllllllllllllllllllllllllllllllllllllllllllllllllllllllllllllllllllllllllllllllllllllllllllllllllllllllllllllllllllllllllllllllllllllllllllllllllllllllllllllllllllllllllllllllllllllllllllllllllllllllllllllllllllllllllllllllllllllllllllllllllllllllllllllllllllllllllllllllllllllllllllllllllllllllllllllllllllllllllllllllllllllllllllllllllllllllllllllllllllllllllllllllllllllllllllllllllllllllllllllllllllllllllllllllllllllllllllllllllllllllllllllllllllllllllllllllllllllllllllllllllllllllllllllllllllllllllllllllllllllllllllllllllllllllllllllllllllllllllllll}\n",
       " Gene & BM1077-CLP-Frozen-160106-13 & BM1077-CLP-Frozen-160106-14 & BM1077-CLP-Frozen-160106-2 & BM1077-CLP-Frozen-160106-21 & BM1077-CLP-Frozen-160106-27 & BM1077-CLP-Frozen-160106-3 & BM1077-CLP-Frozen-160106-36 & BM1077-CLP-Frozen-160106-42 & BM1077-CLP-Frozen-160106-44 & ⋯ & singles-PB1022-mono-160128-81 & singles-PB1022-mono-160128-82 & singles-PB1022-mono-160128-83 & singles-PB1022-mono-160128-84 & singles-PB1022-mono-160128-85 & singles-PB1022-mono-160128-86 & singles-PB1022-mono-160128-89 & singles-PB1022-mono-160128-90 & singles-PB1022-mono-160128-95 & singles-PB1022-mono-160128-96\\\\\n",
       "\\hline\n",
       "\t A1BG         & 0            & 0            & 0            & 0            & 3.5173025    & 0.0000000000 & 0            & 0            & 0.002119759  & ⋯            & 0.12725846   & 0.08449585   & 0.0000000000 & 0.7593362    & 0.27851055   & 0.2607732    & 0.1728171    & 0.08564297   & 0.0000000000 & 0.261122    \\\\\n",
       "\t A1BG-AS1     & 0            & 0            & 0            & 0            & 0.8515427    & 0.0001922233 & 0            & 0            & 0.012477092  & ⋯            & 0.05011447   & 0.45137680   & 0.0003844466 & 4.0010690    & 1.49145541   & 1.3773481    & 0.9231889    & 0.03847351   & 0.0009611165 & 1.395875    \\\\\n",
       "\t A1CF         & 0            & 0            & 0            & 0            & 0.0000000    & 0.0000000000 & 0            & 0            & 0.000000000  & ⋯            & 0.00000000   & 0.00000000   & 0.0000000000 & 0.0000000    & 0.00000000   & 0.0000000    & 0.0000000    & 0.00000000   & 0.0000000000 & 0.000000    \\\\\n",
       "\t A2LD1        & 0            & 0            & 0            & 0            & 0.0000000    & 0.0000000000 & 0            & 0            & 0.000000000  & ⋯            & 0.00000000   & 0.00000000   & 0.0000000000 & 0.0000000    & 0.00000000   & 0.0000000    & 0.0000000    & 0.00000000   & 0.0000000000 & 0.000000    \\\\\n",
       "\t A2M          & 0            & 0            & 0            & 0            & 0.0000000    & 0.0000000000 & 0            & 0            & 1.102242985  & ⋯            & 0.00000000   & 0.00000000   & 0.0000000000 & 0.0000000    & 0.05668459   & 0.0000000    & 0.0000000    & 0.00000000   & 0.0000000000 & 0.000000    \\\\\n",
       "\t A2M-AS1      & 0            & 0            & 0            & 0            & 0.0000000    & 0.0000000000 & 0            & 0            & 1.028135719  & ⋯            & 0.00000000   & 0.00000000   & 0.0000000000 & 0.0000000    & 0.05287351   & 0.0000000    & 0.0000000    & 0.00000000   & 0.0000000000 & 0.000000    \\\\\n",
       "\\end{tabular}\n"
      ],
      "text/markdown": [
       "\n",
       "| Gene | BM1077-CLP-Frozen-160106-13 | BM1077-CLP-Frozen-160106-14 | BM1077-CLP-Frozen-160106-2 | BM1077-CLP-Frozen-160106-21 | BM1077-CLP-Frozen-160106-27 | BM1077-CLP-Frozen-160106-3 | BM1077-CLP-Frozen-160106-36 | BM1077-CLP-Frozen-160106-42 | BM1077-CLP-Frozen-160106-44 | ⋯ | singles-PB1022-mono-160128-81 | singles-PB1022-mono-160128-82 | singles-PB1022-mono-160128-83 | singles-PB1022-mono-160128-84 | singles-PB1022-mono-160128-85 | singles-PB1022-mono-160128-86 | singles-PB1022-mono-160128-89 | singles-PB1022-mono-160128-90 | singles-PB1022-mono-160128-95 | singles-PB1022-mono-160128-96 |\n",
       "|---|---|---|---|---|---|---|---|---|---|---|---|---|---|---|---|---|---|---|---|---|\n",
       "| A1BG         | 0            | 0            | 0            | 0            | 3.5173025    | 0.0000000000 | 0            | 0            | 0.002119759  | ⋯            | 0.12725846   | 0.08449585   | 0.0000000000 | 0.7593362    | 0.27851055   | 0.2607732    | 0.1728171    | 0.08564297   | 0.0000000000 | 0.261122     |\n",
       "| A1BG-AS1     | 0            | 0            | 0            | 0            | 0.8515427    | 0.0001922233 | 0            | 0            | 0.012477092  | ⋯            | 0.05011447   | 0.45137680   | 0.0003844466 | 4.0010690    | 1.49145541   | 1.3773481    | 0.9231889    | 0.03847351   | 0.0009611165 | 1.395875     |\n",
       "| A1CF         | 0            | 0            | 0            | 0            | 0.0000000    | 0.0000000000 | 0            | 0            | 0.000000000  | ⋯            | 0.00000000   | 0.00000000   | 0.0000000000 | 0.0000000    | 0.00000000   | 0.0000000    | 0.0000000    | 0.00000000   | 0.0000000000 | 0.000000     |\n",
       "| A2LD1        | 0            | 0            | 0            | 0            | 0.0000000    | 0.0000000000 | 0            | 0            | 0.000000000  | ⋯            | 0.00000000   | 0.00000000   | 0.0000000000 | 0.0000000    | 0.00000000   | 0.0000000    | 0.0000000    | 0.00000000   | 0.0000000000 | 0.000000     |\n",
       "| A2M          | 0            | 0            | 0            | 0            | 0.0000000    | 0.0000000000 | 0            | 0            | 1.102242985  | ⋯            | 0.00000000   | 0.00000000   | 0.0000000000 | 0.0000000    | 0.05668459   | 0.0000000    | 0.0000000    | 0.00000000   | 0.0000000000 | 0.000000     |\n",
       "| A2M-AS1      | 0            | 0            | 0            | 0            | 0.0000000    | 0.0000000000 | 0            | 0            | 1.028135719  | ⋯            | 0.00000000   | 0.00000000   | 0.0000000000 | 0.0000000    | 0.05287351   | 0.0000000    | 0.0000000    | 0.00000000   | 0.0000000000 | 0.000000     |\n",
       "\n"
      ],
      "text/plain": [
       "  Gene     BM1077-CLP-Frozen-160106-13 BM1077-CLP-Frozen-160106-14\n",
       "1 A1BG     0                           0                          \n",
       "2 A1BG-AS1 0                           0                          \n",
       "3 A1CF     0                           0                          \n",
       "4 A2LD1    0                           0                          \n",
       "5 A2M      0                           0                          \n",
       "6 A2M-AS1  0                           0                          \n",
       "  BM1077-CLP-Frozen-160106-2 BM1077-CLP-Frozen-160106-21\n",
       "1 0                          0                          \n",
       "2 0                          0                          \n",
       "3 0                          0                          \n",
       "4 0                          0                          \n",
       "5 0                          0                          \n",
       "6 0                          0                          \n",
       "  BM1077-CLP-Frozen-160106-27 BM1077-CLP-Frozen-160106-3\n",
       "1 3.5173025                   0.0000000000              \n",
       "2 0.8515427                   0.0001922233              \n",
       "3 0.0000000                   0.0000000000              \n",
       "4 0.0000000                   0.0000000000              \n",
       "5 0.0000000                   0.0000000000              \n",
       "6 0.0000000                   0.0000000000              \n",
       "  BM1077-CLP-Frozen-160106-36 BM1077-CLP-Frozen-160106-42\n",
       "1 0                           0                          \n",
       "2 0                           0                          \n",
       "3 0                           0                          \n",
       "4 0                           0                          \n",
       "5 0                           0                          \n",
       "6 0                           0                          \n",
       "  BM1077-CLP-Frozen-160106-44 ⋯ singles-PB1022-mono-160128-81\n",
       "1 0.002119759                 ⋯ 0.12725846                   \n",
       "2 0.012477092                 ⋯ 0.05011447                   \n",
       "3 0.000000000                 ⋯ 0.00000000                   \n",
       "4 0.000000000                 ⋯ 0.00000000                   \n",
       "5 1.102242985                 ⋯ 0.00000000                   \n",
       "6 1.028135719                 ⋯ 0.00000000                   \n",
       "  singles-PB1022-mono-160128-82 singles-PB1022-mono-160128-83\n",
       "1 0.08449585                    0.0000000000                 \n",
       "2 0.45137680                    0.0003844466                 \n",
       "3 0.00000000                    0.0000000000                 \n",
       "4 0.00000000                    0.0000000000                 \n",
       "5 0.00000000                    0.0000000000                 \n",
       "6 0.00000000                    0.0000000000                 \n",
       "  singles-PB1022-mono-160128-84 singles-PB1022-mono-160128-85\n",
       "1 0.7593362                     0.27851055                   \n",
       "2 4.0010690                     1.49145541                   \n",
       "3 0.0000000                     0.00000000                   \n",
       "4 0.0000000                     0.00000000                   \n",
       "5 0.0000000                     0.05668459                   \n",
       "6 0.0000000                     0.05287351                   \n",
       "  singles-PB1022-mono-160128-86 singles-PB1022-mono-160128-89\n",
       "1 0.2607732                     0.1728171                    \n",
       "2 1.3773481                     0.9231889                    \n",
       "3 0.0000000                     0.0000000                    \n",
       "4 0.0000000                     0.0000000                    \n",
       "5 0.0000000                     0.0000000                    \n",
       "6 0.0000000                     0.0000000                    \n",
       "  singles-PB1022-mono-160128-90 singles-PB1022-mono-160128-95\n",
       "1 0.08564297                    0.0000000000                 \n",
       "2 0.03847351                    0.0009611165                 \n",
       "3 0.00000000                    0.0000000000                 \n",
       "4 0.00000000                    0.0000000000                 \n",
       "5 0.00000000                    0.0000000000                 \n",
       "6 0.00000000                    0.0000000000                 \n",
       "  singles-PB1022-mono-160128-96\n",
       "1 0.261122                     \n",
       "2 1.395875                     \n",
       "3 0.000000                     \n",
       "4 0.000000                     \n",
       "5 0.000000                     \n",
       "6 0.000000                     "
      ]
     },
     "metadata": {},
     "output_type": "display_data"
    }
   ],
   "source": [
    "head(FeatureMatrix) # probably need to add cell labels "
   ]
  },
  {
   "cell_type": "code",
   "execution_count": 50,
   "metadata": {},
   "outputs": [],
   "source": [
    "# final export of feature matrix to the FeatureMatrix folder\n",
    "write.table(file = '/data/pinello/PROJECTS/2019_03_scATAC/FeatureMatrix/FM_makeGeneScores_Buenrostro_2018.tsv',FeatureMatrix,col.names = TRUE,row.names = TRUE,quote = FALSE,sep=\"\\t\")"
   ]
  }
 ],
 "metadata": {
  "kernelspec": {
   "display_name": "R [conda env:mevenv]",
   "language": "R",
   "name": "conda-env-mevenv-r"
  },
  "language_info": {
   "codemirror_mode": "r",
   "file_extension": ".r",
   "mimetype": "text/x-r-source",
   "name": "R",
   "pygments_lexer": "r",
   "version": "3.5.1"
  }
 },
 "nbformat": 4,
 "nbformat_minor": 2
}
