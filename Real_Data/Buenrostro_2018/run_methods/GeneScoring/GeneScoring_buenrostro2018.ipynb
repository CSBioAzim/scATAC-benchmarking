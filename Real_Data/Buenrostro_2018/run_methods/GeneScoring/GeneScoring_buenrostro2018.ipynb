{
 "cells": [
  {
   "cell_type": "markdown",
   "metadata": {},
   "source": [
    "### Installation"
   ]
  },
  {
   "cell_type": "markdown",
   "metadata": {},
   "source": [
    "`conda install bioconductor-genomicranges bioconductor-summarizedexperiment -y`  \n",
    "\n",
    "`R`  \n",
    "`devtools::install_github(\"caleblareau/BuenColors\")`"
   ]
  },
  {
   "cell_type": "code",
   "execution_count": null,
   "metadata": {},
   "outputs": [],
   "source": []
  },
  {
   "cell_type": "markdown",
   "metadata": {},
   "source": [
    "### Import packages"
   ]
  },
  {
   "cell_type": "code",
   "execution_count": 1,
   "metadata": {},
   "outputs": [
    {
     "name": "stderr",
     "output_type": "stream",
     "text": [
      "Loading required package: stats4\n",
      "Loading required package: BiocGenerics\n",
      "Loading required package: parallel\n",
      "\n",
      "Attaching package: ‘BiocGenerics’\n",
      "\n",
      "The following objects are masked from ‘package:parallel’:\n",
      "\n",
      "    clusterApply, clusterApplyLB, clusterCall, clusterEvalQ,\n",
      "    clusterExport, clusterMap, parApply, parCapply, parLapply,\n",
      "    parLapplyLB, parRapply, parSapply, parSapplyLB\n",
      "\n",
      "The following objects are masked from ‘package:stats’:\n",
      "\n",
      "    IQR, mad, sd, var, xtabs\n",
      "\n",
      "The following objects are masked from ‘package:base’:\n",
      "\n",
      "    anyDuplicated, append, as.data.frame, basename, cbind, colMeans,\n",
      "    colnames, colSums, dirname, do.call, duplicated, eval, evalq,\n",
      "    Filter, Find, get, grep, grepl, intersect, is.unsorted, lapply,\n",
      "    lengths, Map, mapply, match, mget, order, paste, pmax, pmax.int,\n",
      "    pmin, pmin.int, Position, rank, rbind, Reduce, rowMeans, rownames,\n",
      "    rowSums, sapply, setdiff, sort, table, tapply, union, unique,\n",
      "    unsplit, which, which.max, which.min\n",
      "\n",
      "Loading required package: S4Vectors\n",
      "\n",
      "Attaching package: ‘S4Vectors’\n",
      "\n",
      "The following object is masked from ‘package:base’:\n",
      "\n",
      "    expand.grid\n",
      "\n",
      "Loading required package: IRanges\n",
      "Loading required package: GenomeInfoDb\n",
      "Loading required package: Biobase\n",
      "Welcome to Bioconductor\n",
      "\n",
      "    Vignettes contain introductory material; view with\n",
      "    'browseVignettes()'. To cite Bioconductor, see\n",
      "    'citation(\"Biobase\")', and for packages 'citation(\"pkgname\")'.\n",
      "\n",
      "Loading required package: DelayedArray\n",
      "Loading required package: matrixStats\n",
      "\n",
      "Attaching package: ‘matrixStats’\n",
      "\n",
      "The following objects are masked from ‘package:Biobase’:\n",
      "\n",
      "    anyMissing, rowMedians\n",
      "\n",
      "Loading required package: BiocParallel\n",
      "\n",
      "Attaching package: ‘DelayedArray’\n",
      "\n",
      "The following objects are masked from ‘package:matrixStats’:\n",
      "\n",
      "    colMaxs, colMins, colRanges, rowMaxs, rowMins, rowRanges\n",
      "\n",
      "The following objects are masked from ‘package:base’:\n",
      "\n",
      "    aperm, apply\n",
      "\n",
      "\n",
      "Attaching package: ‘data.table’\n",
      "\n",
      "The following object is masked from ‘package:SummarizedExperiment’:\n",
      "\n",
      "    shift\n",
      "\n",
      "The following object is masked from ‘package:GenomicRanges’:\n",
      "\n",
      "    shift\n",
      "\n",
      "The following object is masked from ‘package:IRanges’:\n",
      "\n",
      "    shift\n",
      "\n",
      "The following objects are masked from ‘package:S4Vectors’:\n",
      "\n",
      "    first, second\n",
      "\n",
      "\n",
      "Attaching package: ‘dplyr’\n",
      "\n",
      "The following objects are masked from ‘package:data.table’:\n",
      "\n",
      "    between, first, last\n",
      "\n",
      "The following object is masked from ‘package:matrixStats’:\n",
      "\n",
      "    count\n",
      "\n",
      "The following object is masked from ‘package:Biobase’:\n",
      "\n",
      "    combine\n",
      "\n",
      "The following objects are masked from ‘package:GenomicRanges’:\n",
      "\n",
      "    intersect, setdiff, union\n",
      "\n",
      "The following object is masked from ‘package:GenomeInfoDb’:\n",
      "\n",
      "    intersect\n",
      "\n",
      "The following objects are masked from ‘package:IRanges’:\n",
      "\n",
      "    collapse, desc, intersect, setdiff, slice, union\n",
      "\n",
      "The following objects are masked from ‘package:S4Vectors’:\n",
      "\n",
      "    first, intersect, rename, setdiff, setequal, union\n",
      "\n",
      "The following objects are masked from ‘package:BiocGenerics’:\n",
      "\n",
      "    combine, intersect, setdiff, union\n",
      "\n",
      "The following objects are masked from ‘package:stats’:\n",
      "\n",
      "    filter, lag\n",
      "\n",
      "The following objects are masked from ‘package:base’:\n",
      "\n",
      "    intersect, setdiff, setequal, union\n",
      "\n",
      "Loading required package: MASS\n",
      "\n",
      "Attaching package: ‘MASS’\n",
      "\n",
      "The following object is masked from ‘package:dplyr’:\n",
      "\n",
      "    select\n",
      "\n",
      "Loading required package: ggplot2\n",
      "\n",
      "Attaching package: ‘Matrix’\n",
      "\n",
      "The following object is masked from ‘package:S4Vectors’:\n",
      "\n",
      "    expand\n",
      "\n"
     ]
    }
   ],
   "source": [
    "library(GenomicRanges)\n",
    "library(SummarizedExperiment)\n",
    "library(data.table)\n",
    "library(dplyr)\n",
    "library(BuenColors)\n",
    "library(Matrix)"
   ]
  },
  {
   "cell_type": "code",
   "execution_count": null,
   "metadata": {},
   "outputs": [],
   "source": []
  },
  {
   "cell_type": "markdown",
   "metadata": {},
   "source": [
    "### Preprocess"
   ]
  },
  {
   "cell_type": "markdown",
   "metadata": {},
   "source": [
    "`bsub < count_reads_peaks_erisone.sh`"
   ]
  },
  {
   "cell_type": "code",
   "execution_count": 2,
   "metadata": {},
   "outputs": [
    {
     "data": {
      "text/html": [
       "2034"
      ],
      "text/latex": [
       "2034"
      ],
      "text/markdown": [
       "2034"
      ],
      "text/plain": [
       "[1] 2034"
      ]
     },
     "metadata": {},
     "output_type": "display_data"
    }
   ],
   "source": [
    "path = './count_reads_peaks_output/'\n",
    "files <- list.files(path,pattern = \"\\\\.txt$\")\n",
    "length(files)"
   ]
  },
  {
   "cell_type": "code",
   "execution_count": null,
   "metadata": {},
   "outputs": [],
   "source": [
    "#assuming tab separated values with a header    \n",
    "datalist = lapply(files, function(x)fread(paste0(path,x))$V4) \n",
    "#assuming the same header/columns for all files\n",
    "datafr = do.call(\"cbind\", datalist) "
   ]
  },
  {
   "cell_type": "code",
   "execution_count": 4,
   "metadata": {},
   "outputs": [
    {
     "data": {
      "text/html": [
       "<ol class=list-inline>\n",
       "\t<li>237450</li>\n",
       "\t<li>2034</li>\n",
       "</ol>\n"
      ],
      "text/latex": [
       "\\begin{enumerate*}\n",
       "\\item 237450\n",
       "\\item 2034\n",
       "\\end{enumerate*}\n"
      ],
      "text/markdown": [
       "1. 237450\n",
       "2. 2034\n",
       "\n",
       "\n"
      ],
      "text/plain": [
       "[1] 237450   2034"
      ]
     },
     "metadata": {},
     "output_type": "display_data"
    }
   ],
   "source": [
    "dim(datafr)"
   ]
  },
  {
   "cell_type": "code",
   "execution_count": 5,
   "metadata": {},
   "outputs": [],
   "source": [
    "df_regions = read.csv(\"../../input/combined.sorted.merged.bed\",\n",
    "                      sep = '\\t',header=FALSE,stringsAsFactors=FALSE)"
   ]
  },
  {
   "cell_type": "code",
   "execution_count": 6,
   "metadata": {},
   "outputs": [
    {
     "data": {
      "text/html": [
       "<ol class=list-inline>\n",
       "\t<li>237450</li>\n",
       "\t<li>3</li>\n",
       "</ol>\n"
      ],
      "text/latex": [
       "\\begin{enumerate*}\n",
       "\\item 237450\n",
       "\\item 3\n",
       "\\end{enumerate*}\n"
      ],
      "text/markdown": [
       "1. 237450\n",
       "2. 3\n",
       "\n",
       "\n"
      ],
      "text/plain": [
       "[1] 237450      3"
      ]
     },
     "metadata": {},
     "output_type": "display_data"
    }
   ],
   "source": [
    "dim(df_regions)"
   ]
  },
  {
   "cell_type": "code",
   "execution_count": 7,
   "metadata": {},
   "outputs": [],
   "source": [
    "peaknames = paste(df_regions$V1,df_regions$V2,df_regions$V3,sep = \"_\")"
   ]
  },
  {
   "cell_type": "code",
   "execution_count": 8,
   "metadata": {},
   "outputs": [
    {
     "data": {
      "text/html": [
       "<ol class=list-inline>\n",
       "\t<li>'chr1_10413_10625'</li>\n",
       "\t<li>'chr1_13380_13624'</li>\n",
       "\t<li>'chr1_16145_16354'</li>\n",
       "\t<li>'chr1_96388_96812'</li>\n",
       "\t<li>'chr1_115650_115812'</li>\n",
       "\t<li>'chr1_237625_237888'</li>\n",
       "</ol>\n"
      ],
      "text/latex": [
       "\\begin{enumerate*}\n",
       "\\item 'chr1\\_10413\\_10625'\n",
       "\\item 'chr1\\_13380\\_13624'\n",
       "\\item 'chr1\\_16145\\_16354'\n",
       "\\item 'chr1\\_96388\\_96812'\n",
       "\\item 'chr1\\_115650\\_115812'\n",
       "\\item 'chr1\\_237625\\_237888'\n",
       "\\end{enumerate*}\n"
      ],
      "text/markdown": [
       "1. 'chr1_10413_10625'\n",
       "2. 'chr1_13380_13624'\n",
       "3. 'chr1_16145_16354'\n",
       "4. 'chr1_96388_96812'\n",
       "5. 'chr1_115650_115812'\n",
       "6. 'chr1_237625_237888'\n",
       "\n",
       "\n"
      ],
      "text/plain": [
       "[1] \"chr1_10413_10625\"   \"chr1_13380_13624\"   \"chr1_16145_16354\"  \n",
       "[4] \"chr1_96388_96812\"   \"chr1_115650_115812\" \"chr1_237625_237888\""
      ]
     },
     "metadata": {},
     "output_type": "display_data"
    }
   ],
   "source": [
    "head(peaknames)"
   ]
  },
  {
   "cell_type": "code",
   "execution_count": 9,
   "metadata": {},
   "outputs": [
    {
     "data": {
      "text/html": [
       "<ol class=list-inline>\n",
       "\t<li>'BM1077-CLP-Frozen-160106-13'</li>\n",
       "\t<li>'BM1077-CLP-Frozen-160106-14'</li>\n",
       "\t<li>'BM1077-CLP-Frozen-160106-2'</li>\n",
       "\t<li>'BM1077-CLP-Frozen-160106-21'</li>\n",
       "\t<li>'BM1077-CLP-Frozen-160106-27'</li>\n",
       "\t<li>'BM1077-CLP-Frozen-160106-3'</li>\n",
       "</ol>\n"
      ],
      "text/latex": [
       "\\begin{enumerate*}\n",
       "\\item 'BM1077-CLP-Frozen-160106-13'\n",
       "\\item 'BM1077-CLP-Frozen-160106-14'\n",
       "\\item 'BM1077-CLP-Frozen-160106-2'\n",
       "\\item 'BM1077-CLP-Frozen-160106-21'\n",
       "\\item 'BM1077-CLP-Frozen-160106-27'\n",
       "\\item 'BM1077-CLP-Frozen-160106-3'\n",
       "\\end{enumerate*}\n"
      ],
      "text/markdown": [
       "1. 'BM1077-CLP-Frozen-160106-13'\n",
       "2. 'BM1077-CLP-Frozen-160106-14'\n",
       "3. 'BM1077-CLP-Frozen-160106-2'\n",
       "4. 'BM1077-CLP-Frozen-160106-21'\n",
       "5. 'BM1077-CLP-Frozen-160106-27'\n",
       "6. 'BM1077-CLP-Frozen-160106-3'\n",
       "\n",
       "\n"
      ],
      "text/plain": [
       "[1] \"BM1077-CLP-Frozen-160106-13\" \"BM1077-CLP-Frozen-160106-14\"\n",
       "[3] \"BM1077-CLP-Frozen-160106-2\"  \"BM1077-CLP-Frozen-160106-21\"\n",
       "[5] \"BM1077-CLP-Frozen-160106-27\" \"BM1077-CLP-Frozen-160106-3\" "
      ]
     },
     "metadata": {},
     "output_type": "display_data"
    }
   ],
   "source": [
    "head(sapply(strsplit(files,'\\\\.'),'[', 1))"
   ]
  },
  {
   "cell_type": "code",
   "execution_count": 10,
   "metadata": {},
   "outputs": [],
   "source": [
    "colnames(datafr) = sapply(strsplit(files,'\\\\.'),'[', 1)\n",
    "rownames(datafr) = peaknames"
   ]
  },
  {
   "cell_type": "code",
   "execution_count": 11,
   "metadata": {},
   "outputs": [
    {
     "data": {
      "text/html": [
       "<table>\n",
       "<caption>A matrix: 6 × 2034 of type int</caption>\n",
       "<thead>\n",
       "\t<tr><th></th><th scope=col>BM1077-CLP-Frozen-160106-13</th><th scope=col>BM1077-CLP-Frozen-160106-14</th><th scope=col>BM1077-CLP-Frozen-160106-2</th><th scope=col>BM1077-CLP-Frozen-160106-21</th><th scope=col>BM1077-CLP-Frozen-160106-27</th><th scope=col>BM1077-CLP-Frozen-160106-3</th><th scope=col>BM1077-CLP-Frozen-160106-36</th><th scope=col>BM1077-CLP-Frozen-160106-42</th><th scope=col>BM1077-CLP-Frozen-160106-44</th><th scope=col>BM1077-CLP-Frozen-160106-50</th><th scope=col>⋯</th><th scope=col>singles-PB1022-mono-160128-81</th><th scope=col>singles-PB1022-mono-160128-82</th><th scope=col>singles-PB1022-mono-160128-83</th><th scope=col>singles-PB1022-mono-160128-84</th><th scope=col>singles-PB1022-mono-160128-85</th><th scope=col>singles-PB1022-mono-160128-86</th><th scope=col>singles-PB1022-mono-160128-89</th><th scope=col>singles-PB1022-mono-160128-90</th><th scope=col>singles-PB1022-mono-160128-95</th><th scope=col>singles-PB1022-mono-160128-96</th></tr>\n",
       "</thead>\n",
       "<tbody>\n",
       "\t<tr><th scope=row>chr1_10413_10625</th><td>0</td><td>0</td><td>0</td><td>0</td><td>0</td><td>0</td><td>0</td><td>0</td><td>0</td><td>0</td><td>⋯</td><td>0</td><td>0</td><td>0</td><td>0</td><td>0</td><td>0</td><td>0</td><td>0</td><td>0</td><td>0</td></tr>\n",
       "\t<tr><th scope=row>chr1_13380_13624</th><td>0</td><td>0</td><td>0</td><td>0</td><td>0</td><td>0</td><td>0</td><td>0</td><td>0</td><td>0</td><td>⋯</td><td>0</td><td>0</td><td>0</td><td>0</td><td>0</td><td>0</td><td>0</td><td>0</td><td>0</td><td>0</td></tr>\n",
       "\t<tr><th scope=row>chr1_16145_16354</th><td>0</td><td>0</td><td>0</td><td>0</td><td>0</td><td>0</td><td>0</td><td>0</td><td>0</td><td>0</td><td>⋯</td><td>0</td><td>0</td><td>0</td><td>0</td><td>0</td><td>0</td><td>0</td><td>0</td><td>0</td><td>0</td></tr>\n",
       "\t<tr><th scope=row>chr1_96388_96812</th><td>0</td><td>0</td><td>0</td><td>0</td><td>0</td><td>0</td><td>0</td><td>0</td><td>0</td><td>0</td><td>⋯</td><td>0</td><td>0</td><td>0</td><td>0</td><td>0</td><td>0</td><td>0</td><td>2</td><td>0</td><td>0</td></tr>\n",
       "\t<tr><th scope=row>chr1_115650_115812</th><td>0</td><td>0</td><td>0</td><td>0</td><td>0</td><td>0</td><td>0</td><td>0</td><td>0</td><td>0</td><td>⋯</td><td>0</td><td>0</td><td>0</td><td>0</td><td>0</td><td>0</td><td>0</td><td>0</td><td>0</td><td>0</td></tr>\n",
       "\t<tr><th scope=row>chr1_237625_237888</th><td>0</td><td>0</td><td>0</td><td>0</td><td>0</td><td>0</td><td>0</td><td>0</td><td>0</td><td>0</td><td>⋯</td><td>0</td><td>0</td><td>0</td><td>0</td><td>0</td><td>0</td><td>0</td><td>0</td><td>0</td><td>0</td></tr>\n",
       "</tbody>\n",
       "</table>\n"
      ],
      "text/latex": [
       "A matrix: 6 × 2034 of type int\n",
       "\\begin{tabular}{r|llllllllllllllllllllllllllllllllllllllllllllllllllllllllllllllllllllllllllllllllllllllllllllllllllllllllllllllllllllllllllllllllllllllllllllllllllllllllllllllllllllllllllllllllllllllllllllllllllllllllllllllllllllllllllllllllllllllllllllllllllllllllllllllllllllllllllllllllllllllllllllllllllllllllllllllllllllllllllllllllllllllllllllllllllllllllllllllllllllllllllllllllllllllllllllllllllllllllllllllllllllllllllllllllllllllllllllllllllllllllllllllllllllllllllllllllllllllllllllllllllllllllllllllllllllllllllllllllllllllllllllllllllllllllllllllllllllllllllllllllllllllllllllllllllllllllllllllllllllllllllllllllllllllllllllllllllllllllllllllllllllllllllllllllllllllllllllllllllllllllllllllllllllllllllllllllllllllllllllllllllllllllllllllllllllllllllllllllllllllllllllllllllllllllllllllllllllllllllllllllllllllllllllllllllllllllllllllllllllllllllllllllllllllllllllllllllllllllllllllllllllllllllllllllllllllllllllllllllllllllllllllllllllllllllllllllllllllllllllllllllllllllllllllllllllllllllllllllllllllllllllllllllllllllllllllllllllllllllllllllllllllllllllllllllllllllllllllllllllllllllllllllllllllllllllllllllllllllllllllllllllllllllllllllllllllllllllllllllllllllllllllllllllllllllllllllllllllllllllllllllllllllllllllllllllllllllllllllllllllllllllllllllllllllllllllllllllllllllllllllllllllllllllllllllllllllllllllllllllllllllllllllllllllllllllllllllllllllllllllllllllllllllllllllllllllllllllllllllllllllllllllllllllllllllllllllllllllllllllllllllllllllllllllllllllllllllllllllllllllllllllllllllllllllllllllllllllllllllllllllllllllllllllllllllllllllllllllllllllllllllllllllllllllllllllllllllllllllllllllllllllllllllllllllllllllllllllllllllllllllllllllllllllllllllllllllllllllllllllllllllllllllllllllllllllllllllllllllllllllllllllllllllllllllllllllllllllllllllllllllllllllllllllllllllllllllllllllllllllllllllllllllllllllllllllllllllllllllllllllllllllllllllllllllllllllllllllllllllllllllllllllllllllllllllllllllllllllllllllllllllllllllllllllllllllllllllllllllllllllllllllllllllllllllllllllllllllllllllllllllllllllllllllllllllllllllllllllllll}\n",
       "  & BM1077-CLP-Frozen-160106-13 & BM1077-CLP-Frozen-160106-14 & BM1077-CLP-Frozen-160106-2 & BM1077-CLP-Frozen-160106-21 & BM1077-CLP-Frozen-160106-27 & BM1077-CLP-Frozen-160106-3 & BM1077-CLP-Frozen-160106-36 & BM1077-CLP-Frozen-160106-42 & BM1077-CLP-Frozen-160106-44 & BM1077-CLP-Frozen-160106-50 & BM1077-CLP-Frozen-160106-61 & BM1077-CLP-Frozen-160106-62 & BM1077-CLP-Frozen-160106-66 & BM1077-CLP-Frozen-160106-70 & BM1077-CLP-Frozen-160106-71 & BM1077-CLP-Frozen-160106-72 & BM1077-CLP-Frozen-160106-75 & BM1077-CLP-Frozen-160106-76 & BM1077-CLP-Frozen-160106-78 & BM1077-CLP-Frozen-160106-79 & BM1077-CLP-Frozen-160106-80 & BM1077-CLP-Frozen-160106-83 & BM1077-CLP-Frozen-160106-86 & BM1077-CLP-Frozen-160106-87 & BM1077-CLP-Frozen-160106-88 & BM1077-CLP-Frozen-160106-94 & BM1077-CLP-Frozen-160106-96 & BM1077-CMP-Frozen-160106-1 & BM1077-CMP-Frozen-160106-10 & BM1077-CMP-Frozen-160106-12 & BM1077-CMP-Frozen-160106-14 & BM1077-CMP-Frozen-160106-15 & BM1077-CMP-Frozen-160106-16 & BM1077-CMP-Frozen-160106-18 & BM1077-CMP-Frozen-160106-19 & BM1077-CMP-Frozen-160106-2 & BM1077-CMP-Frozen-160106-21 & BM1077-CMP-Frozen-160106-22 & BM1077-CMP-Frozen-160106-23 & BM1077-CMP-Frozen-160106-24 & BM1077-CMP-Frozen-160106-25 & BM1077-CMP-Frozen-160106-26 & BM1077-CMP-Frozen-160106-28 & BM1077-CMP-Frozen-160106-3 & BM1077-CMP-Frozen-160106-30 & BM1077-CMP-Frozen-160106-31 & BM1077-CMP-Frozen-160106-32 & BM1077-CMP-Frozen-160106-33 & BM1077-CMP-Frozen-160106-34 & BM1077-CMP-Frozen-160106-35 & BM1077-CMP-Frozen-160106-36 & BM1077-CMP-Frozen-160106-37 & BM1077-CMP-Frozen-160106-39 & BM1077-CMP-Frozen-160106-4 & BM1077-CMP-Frozen-160106-40 & BM1077-CMP-Frozen-160106-42 & BM1077-CMP-Frozen-160106-43 & BM1077-CMP-Frozen-160106-44 & BM1077-CMP-Frozen-160106-45 & BM1077-CMP-Frozen-160106-46 & BM1077-CMP-Frozen-160106-49 & BM1077-CMP-Frozen-160106-5 & BM1077-CMP-Frozen-160106-50 & BM1077-CMP-Frozen-160106-51 & BM1077-CMP-Frozen-160106-52 & BM1077-CMP-Frozen-160106-53 & BM1077-CMP-Frozen-160106-55 & BM1077-CMP-Frozen-160106-56 & BM1077-CMP-Frozen-160106-57 & BM1077-CMP-Frozen-160106-58 & BM1077-CMP-Frozen-160106-59 & BM1077-CMP-Frozen-160106-6 & BM1077-CMP-Frozen-160106-60 & BM1077-CMP-Frozen-160106-61 & BM1077-CMP-Frozen-160106-62 & BM1077-CMP-Frozen-160106-64 & BM1077-CMP-Frozen-160106-66 & BM1077-CMP-Frozen-160106-67 & BM1077-CMP-Frozen-160106-68 & BM1077-CMP-Frozen-160106-69 & BM1077-CMP-Frozen-160106-70 & BM1077-CMP-Frozen-160106-71 & BM1077-CMP-Frozen-160106-72 & BM1077-CMP-Frozen-160106-74 & BM1077-CMP-Frozen-160106-75 & BM1077-CMP-Frozen-160106-76 & BM1077-CMP-Frozen-160106-77 & BM1077-CMP-Frozen-160106-78 & BM1077-CMP-Frozen-160106-79 & BM1077-CMP-Frozen-160106-8 & BM1077-CMP-Frozen-160106-80 & BM1077-CMP-Frozen-160106-82 & BM1077-CMP-Frozen-160106-83 & BM1077-CMP-Frozen-160106-84 & BM1077-CMP-Frozen-160106-85 & BM1077-CMP-Frozen-160106-86 & BM1077-CMP-Frozen-160106-87 & BM1077-CMP-Frozen-160106-88 & BM1077-CMP-Frozen-160106-89 & BM1077-CMP-Frozen-160106-91 & BM1077-CMP-Frozen-160106-92 & BM1077-CMP-Frozen-160106-95 & BM1077-GMP-Frozen-160107-1 & BM1077-GMP-Frozen-160107-10 & BM1077-GMP-Frozen-160107-11 & BM1077-GMP-Frozen-160107-14 & BM1077-GMP-Frozen-160107-16 & BM1077-GMP-Frozen-160107-20 & BM1077-GMP-Frozen-160107-21 & BM1077-GMP-Frozen-160107-22 & BM1077-GMP-Frozen-160107-23 & BM1077-GMP-Frozen-160107-25 & BM1077-GMP-Frozen-160107-26 & BM1077-GMP-Frozen-160107-27 & BM1077-GMP-Frozen-160107-31 & BM1077-GMP-Frozen-160107-32 & BM1077-GMP-Frozen-160107-33 & BM1077-GMP-Frozen-160107-37 & BM1077-GMP-Frozen-160107-39 & BM1077-GMP-Frozen-160107-40 & BM1077-GMP-Frozen-160107-41 & BM1077-GMP-Frozen-160107-43 & BM1077-GMP-Frozen-160107-44 & BM1077-GMP-Frozen-160107-45 & BM1077-GMP-Frozen-160107-46 & BM1077-GMP-Frozen-160107-47 & BM1077-GMP-Frozen-160107-48 & BM1077-GMP-Frozen-160107-49 & BM1077-GMP-Frozen-160107-5 & BM1077-GMP-Frozen-160107-50 & BM1077-GMP-Frozen-160107-51 & BM1077-GMP-Frozen-160107-52 & BM1077-GMP-Frozen-160107-55 & BM1077-GMP-Frozen-160107-56 & BM1077-GMP-Frozen-160107-58 & BM1077-GMP-Frozen-160107-59 & BM1077-GMP-Frozen-160107-60 & BM1077-GMP-Frozen-160107-62 & BM1077-GMP-Frozen-160107-63 & BM1077-GMP-Frozen-160107-67 & BM1077-GMP-Frozen-160107-69 & BM1077-GMP-Frozen-160107-71 & BM1077-GMP-Frozen-160107-72 & BM1077-GMP-Frozen-160107-73 & BM1077-GMP-Frozen-160107-74 & BM1077-GMP-Frozen-160107-75 & BM1077-GMP-Frozen-160107-76 & BM1077-GMP-Frozen-160107-77 & BM1077-GMP-Frozen-160107-79 & BM1077-GMP-Frozen-160107-80 & BM1077-GMP-Frozen-160107-81 & BM1077-GMP-Frozen-160107-83 & BM1077-GMP-Frozen-160107-84 & BM1077-GMP-Frozen-160107-85 & BM1077-GMP-Frozen-160107-86 & BM1077-GMP-Frozen-160107-87 & BM1077-GMP-Frozen-160107-88 & BM1077-GMP-Frozen-160107-89 & BM1077-GMP-Frozen-160107-9 & BM1077-GMP-Frozen-160107-91 & BM1077-GMP-Frozen-160107-92 & BM1077-GMP-Frozen-160107-96 & BM1077-HSC-Frozen-160105-1 & BM1077-HSC-Frozen-160105-10 & BM1077-HSC-Frozen-160105-11 & BM1077-HSC-Frozen-160105-12 & BM1077-HSC-Frozen-160105-13 & BM1077-HSC-Frozen-160105-14 & BM1077-HSC-Frozen-160105-15 & BM1077-HSC-Frozen-160105-16 & BM1077-HSC-Frozen-160105-19 & BM1077-HSC-Frozen-160105-2 & BM1077-HSC-Frozen-160105-20 & BM1077-HSC-Frozen-160105-21 & BM1077-HSC-Frozen-160105-22 & BM1077-HSC-Frozen-160105-24 & BM1077-HSC-Frozen-160105-25 & BM1077-HSC-Frozen-160105-26 & BM1077-HSC-Frozen-160105-27 & BM1077-HSC-Frozen-160105-29 & BM1077-HSC-Frozen-160105-3 & BM1077-HSC-Frozen-160105-31 & BM1077-HSC-Frozen-160105-32 & BM1077-HSC-Frozen-160105-34 & BM1077-HSC-Frozen-160105-36 & BM1077-HSC-Frozen-160105-37 & BM1077-HSC-Frozen-160105-38 & BM1077-HSC-Frozen-160105-39 & BM1077-HSC-Frozen-160105-4 & BM1077-HSC-Frozen-160105-40 & BM1077-HSC-Frozen-160105-41 & BM1077-HSC-Frozen-160105-42 & BM1077-HSC-Frozen-160105-43 & BM1077-HSC-Frozen-160105-44 & BM1077-HSC-Frozen-160105-47 & BM1077-HSC-Frozen-160105-48 & BM1077-HSC-Frozen-160105-49 & BM1077-HSC-Frozen-160105-5 & BM1077-HSC-Frozen-160105-50 & BM1077-HSC-Frozen-160105-51 & BM1077-HSC-Frozen-160105-53 & BM1077-HSC-Frozen-160105-54 & BM1077-HSC-Frozen-160105-55 & BM1077-HSC-Frozen-160105-56 & BM1077-HSC-Frozen-160105-57 & BM1077-HSC-Frozen-160105-58 & BM1077-HSC-Frozen-160105-59 & BM1077-HSC-Frozen-160105-6 & BM1077-HSC-Frozen-160105-60 & BM1077-HSC-Frozen-160105-61 & BM1077-HSC-Frozen-160105-62 & BM1077-HSC-Frozen-160105-63 & BM1077-HSC-Frozen-160105-64 & BM1077-HSC-Frozen-160105-66 & BM1077-HSC-Frozen-160105-68 & BM1077-HSC-Frozen-160105-69 & BM1077-HSC-Frozen-160105-7 & BM1077-HSC-Frozen-160105-71 & BM1077-HSC-Frozen-160105-72 & BM1077-HSC-Frozen-160105-73 & BM1077-HSC-Frozen-160105-74 & BM1077-HSC-Frozen-160105-75 & BM1077-HSC-Frozen-160105-76 & BM1077-HSC-Frozen-160105-77 & BM1077-HSC-Frozen-160105-78 & BM1077-HSC-Frozen-160105-79 & BM1077-HSC-Frozen-160105-80 & BM1077-HSC-Frozen-160105-81 & BM1077-HSC-Frozen-160105-82 & BM1077-HSC-Frozen-160105-83 & BM1077-HSC-Frozen-160105-85 & BM1077-HSC-Frozen-160105-87 & BM1077-HSC-Frozen-160105-88 & BM1077-HSC-Frozen-160105-89 & BM1077-HSC-Frozen-160105-90 & BM1077-HSC-Frozen-160105-91 & BM1077-HSC-Frozen-160105-92 & BM1077-HSC-Frozen-160105-95 & BM1077-LMPP-Frozen-160107-1 & BM1077-LMPP-Frozen-160107-11 & BM1077-LMPP-Frozen-160107-12 & BM1077-LMPP-Frozen-160107-13 & BM1077-LMPP-Frozen-160107-14 & BM1077-LMPP-Frozen-160107-15 & BM1077-LMPP-Frozen-160107-16 & BM1077-LMPP-Frozen-160107-18 & BM1077-LMPP-Frozen-160107-19 & BM1077-LMPP-Frozen-160107-2 & BM1077-LMPP-Frozen-160107-20 & BM1077-LMPP-Frozen-160107-21 & BM1077-LMPP-Frozen-160107-23 & BM1077-LMPP-Frozen-160107-24 & BM1077-LMPP-Frozen-160107-25 & BM1077-LMPP-Frozen-160107-27 & BM1077-LMPP-Frozen-160107-28 & BM1077-LMPP-Frozen-160107-29 & BM1077-LMPP-Frozen-160107-30 & BM1077-LMPP-Frozen-160107-31 & BM1077-LMPP-Frozen-160107-33 & BM1077-LMPP-Frozen-160107-37 & BM1077-LMPP-Frozen-160107-38 & BM1077-LMPP-Frozen-160107-39 & BM1077-LMPP-Frozen-160107-4 & BM1077-LMPP-Frozen-160107-40 & BM1077-LMPP-Frozen-160107-41 & BM1077-LMPP-Frozen-160107-42 & BM1077-LMPP-Frozen-160107-43 & BM1077-LMPP-Frozen-160107-44 & BM1077-LMPP-Frozen-160107-45 & BM1077-LMPP-Frozen-160107-46 & BM1077-LMPP-Frozen-160107-47 & BM1077-LMPP-Frozen-160107-48 & BM1077-LMPP-Frozen-160107-49 & BM1077-LMPP-Frozen-160107-5 & BM1077-LMPP-Frozen-160107-50 & BM1077-LMPP-Frozen-160107-51 & BM1077-LMPP-Frozen-160107-53 & BM1077-LMPP-Frozen-160107-54 & BM1077-LMPP-Frozen-160107-55 & BM1077-LMPP-Frozen-160107-56 & BM1077-LMPP-Frozen-160107-57 & BM1077-LMPP-Frozen-160107-58 & BM1077-LMPP-Frozen-160107-59 & BM1077-LMPP-Frozen-160107-60 & BM1077-LMPP-Frozen-160107-61 & BM1077-LMPP-Frozen-160107-62 & BM1077-LMPP-Frozen-160107-63 & BM1077-LMPP-Frozen-160107-64 & BM1077-LMPP-Frozen-160107-66 & BM1077-LMPP-Frozen-160107-67 & BM1077-LMPP-Frozen-160107-68 & BM1077-LMPP-Frozen-160107-69 & BM1077-LMPP-Frozen-160107-70 & BM1077-LMPP-Frozen-160107-71 & BM1077-LMPP-Frozen-160107-72 & BM1077-LMPP-Frozen-160107-73 & BM1077-LMPP-Frozen-160107-74 & BM1077-LMPP-Frozen-160107-75 & BM1077-LMPP-Frozen-160107-76 & BM1077-LMPP-Frozen-160107-77 & BM1077-LMPP-Frozen-160107-78 & BM1077-LMPP-Frozen-160107-81 & BM1077-LMPP-Frozen-160107-82 & BM1077-LMPP-Frozen-160107-83 & BM1077-LMPP-Frozen-160107-85 & BM1077-LMPP-Frozen-160107-86 & BM1077-LMPP-Frozen-160107-87 & BM1077-LMPP-Frozen-160107-9 & BM1077-LMPP-Frozen-160107-90 & BM1077-LMPP-Frozen-160107-91 & BM1077-LMPP-Frozen-160107-96 & BM1077-MEP-Frozen-160107-1 & BM1077-MEP-Frozen-160107-11 & BM1077-MEP-Frozen-160107-12 & BM1077-MEP-Frozen-160107-13 & BM1077-MEP-Frozen-160107-14 & BM1077-MEP-Frozen-160107-15 & BM1077-MEP-Frozen-160107-16 & BM1077-MEP-Frozen-160107-17 & BM1077-MEP-Frozen-160107-18 & BM1077-MEP-Frozen-160107-19 & BM1077-MEP-Frozen-160107-2 & BM1077-MEP-Frozen-160107-21 & BM1077-MEP-Frozen-160107-22 & BM1077-MEP-Frozen-160107-27 & BM1077-MEP-Frozen-160107-28 & BM1077-MEP-Frozen-160107-3 & BM1077-MEP-Frozen-160107-31 & BM1077-MEP-Frozen-160107-32 & BM1077-MEP-Frozen-160107-33 & BM1077-MEP-Frozen-160107-34 & BM1077-MEP-Frozen-160107-35 & BM1077-MEP-Frozen-160107-36 & BM1077-MEP-Frozen-160107-37 & BM1077-MEP-Frozen-160107-38 & BM1077-MEP-Frozen-160107-4 & BM1077-MEP-Frozen-160107-41 & BM1077-MEP-Frozen-160107-42 & BM1077-MEP-Frozen-160107-43 & BM1077-MEP-Frozen-160107-45 & BM1077-MEP-Frozen-160107-46 & BM1077-MEP-Frozen-160107-49 & BM1077-MEP-Frozen-160107-5 & BM1077-MEP-Frozen-160107-50 & BM1077-MEP-Frozen-160107-51 & BM1077-MEP-Frozen-160107-52 & BM1077-MEP-Frozen-160107-53 & BM1077-MEP-Frozen-160107-54 & BM1077-MEP-Frozen-160107-55 & BM1077-MEP-Frozen-160107-56 & BM1077-MEP-Frozen-160107-57 & BM1077-MEP-Frozen-160107-58 & BM1077-MEP-Frozen-160107-59 & BM1077-MEP-Frozen-160107-6 & BM1077-MEP-Frozen-160107-60 & BM1077-MEP-Frozen-160107-7 & BM1077-MEP-Frozen-160107-86 & BM1077-MEP-Frozen-160107-87 & BM1077-MEP-Frozen-160107-88 & BM1077-MEP-Frozen-160107-89 & BM1077-MEP-Frozen-160107-9 & BM1077-MEP-Frozen-160107-91 & BM1077-MEP-Frozen-160107-92 & BM1077-MEP-Frozen-160107-95 & BM1077-MEP-Frozen-160107-96 & BM1077-MPP-Frozen-160105-1 & BM1077-MPP-Frozen-160105-10 & BM1077-MPP-Frozen-160105-11 & BM1077-MPP-Frozen-160105-13 & BM1077-MPP-Frozen-160105-14 & BM1077-MPP-Frozen-160105-15 & BM1077-MPP-Frozen-160105-16 & BM1077-MPP-Frozen-160105-17 & BM1077-MPP-Frozen-160105-18 & BM1077-MPP-Frozen-160105-19 & BM1077-MPP-Frozen-160105-2 & BM1077-MPP-Frozen-160105-20 & BM1077-MPP-Frozen-160105-22 & BM1077-MPP-Frozen-160105-24 & BM1077-MPP-Frozen-160105-25 & BM1077-MPP-Frozen-160105-26 & BM1077-MPP-Frozen-160105-28 & BM1077-MPP-Frozen-160105-30 & BM1077-MPP-Frozen-160105-31 & BM1077-MPP-Frozen-160105-32 & BM1077-MPP-Frozen-160105-34 & BM1077-MPP-Frozen-160105-35 & BM1077-MPP-Frozen-160105-36 & BM1077-MPP-Frozen-160105-37 & BM1077-MPP-Frozen-160105-38 & BM1077-MPP-Frozen-160105-39 & BM1077-MPP-Frozen-160105-40 & BM1077-MPP-Frozen-160105-41 & BM1077-MPP-Frozen-160105-42 & BM1077-MPP-Frozen-160105-43 & BM1077-MPP-Frozen-160105-45 & BM1077-MPP-Frozen-160105-46 & BM1077-MPP-Frozen-160105-47 & BM1077-MPP-Frozen-160105-48 & BM1077-MPP-Frozen-160105-49 & BM1077-MPP-Frozen-160105-5 & BM1077-MPP-Frozen-160105-50 & BM1077-MPP-Frozen-160105-51 & BM1077-MPP-Frozen-160105-52 & BM1077-MPP-Frozen-160105-54 & BM1077-MPP-Frozen-160105-55 & BM1077-MPP-Frozen-160105-56 & BM1077-MPP-Frozen-160105-57 & BM1077-MPP-Frozen-160105-58 & BM1077-MPP-Frozen-160105-59 & BM1077-MPP-Frozen-160105-6 & BM1077-MPP-Frozen-160105-60 & BM1077-MPP-Frozen-160105-61 & BM1077-MPP-Frozen-160105-62 & BM1077-MPP-Frozen-160105-63 & BM1077-MPP-Frozen-160105-64 & BM1077-MPP-Frozen-160105-65 & BM1077-MPP-Frozen-160105-66 & BM1077-MPP-Frozen-160105-67 & BM1077-MPP-Frozen-160105-68 & BM1077-MPP-Frozen-160105-69 & BM1077-MPP-Frozen-160105-7 & BM1077-MPP-Frozen-160105-70 & BM1077-MPP-Frozen-160105-71 & BM1077-MPP-Frozen-160105-72 & BM1077-MPP-Frozen-160105-73 & BM1077-MPP-Frozen-160105-74 & BM1077-MPP-Frozen-160105-76 & BM1077-MPP-Frozen-160105-78 & BM1077-MPP-Frozen-160105-8 & BM1077-MPP-Frozen-160105-80 & BM1077-MPP-Frozen-160105-81 & BM1077-MPP-Frozen-160105-82 & BM1077-MPP-Frozen-160105-83 & BM1077-MPP-Frozen-160105-84 & BM1077-MPP-Frozen-160105-85 & BM1077-MPP-Frozen-160105-86 & BM1077-MPP-Frozen-160105-87 & BM1077-MPP-Frozen-160105-88 & BM1077-MPP-Frozen-160105-89 & BM1077-MPP-Frozen-160105-9 & BM1077-MPP-Frozen-160105-90 & BM1077-MPP-Frozen-160105-92 & BM1077-MPP-Frozen-160105-95 & BM1077-MPP-Frozen-160105-96 & singles-160808-scATAC-BM1137-GMP2mid-LS-10 & singles-160808-scATAC-BM1137-GMP2mid-LS-11 & singles-160808-scATAC-BM1137-GMP2mid-LS-12 & singles-160808-scATAC-BM1137-GMP2mid-LS-16 & singles-160808-scATAC-BM1137-GMP2mid-LS-18 & singles-160808-scATAC-BM1137-GMP2mid-LS-22 & singles-160808-scATAC-BM1137-GMP2mid-LS-24 & singles-160808-scATAC-BM1137-GMP2mid-LS-29 & singles-160808-scATAC-BM1137-GMP2mid-LS-35 & singles-160808-scATAC-BM1137-GMP2mid-LS-36 & singles-160808-scATAC-BM1137-GMP2mid-LS-40 & singles-160808-scATAC-BM1137-GMP2mid-LS-44 & singles-160808-scATAC-BM1137-GMP2mid-LS-46 & singles-160808-scATAC-BM1137-GMP2mid-LS-47 & singles-160808-scATAC-BM1137-GMP2mid-LS-5 & singles-160808-scATAC-BM1137-GMP2mid-LS-50 & singles-160808-scATAC-BM1137-GMP2mid-LS-52 & singles-160808-scATAC-BM1137-GMP2mid-LS-53 & singles-160808-scATAC-BM1137-GMP2mid-LS-54 & singles-160808-scATAC-BM1137-GMP2mid-LS-55 & singles-160808-scATAC-BM1137-GMP2mid-LS-58 & singles-160808-scATAC-BM1137-GMP2mid-LS-59 & singles-160808-scATAC-BM1137-GMP2mid-LS-60 & singles-160808-scATAC-BM1137-GMP2mid-LS-62 & singles-160808-scATAC-BM1137-GMP2mid-LS-64 & singles-160808-scATAC-BM1137-GMP2mid-LS-65 & singles-160808-scATAC-BM1137-GMP2mid-LS-66 & singles-160808-scATAC-BM1137-GMP2mid-LS-69 & singles-160808-scATAC-BM1137-GMP2mid-LS-70 & singles-160808-scATAC-BM1137-GMP2mid-LS-71 & singles-160808-scATAC-BM1137-GMP2mid-LS-72 & singles-160808-scATAC-BM1137-GMP2mid-LS-74 & singles-160808-scATAC-BM1137-GMP2mid-LS-75 & singles-160808-scATAC-BM1137-GMP2mid-LS-76 & singles-160808-scATAC-BM1137-GMP2mid-LS-77 & singles-160808-scATAC-BM1137-GMP2mid-LS-78 & singles-160808-scATAC-BM1137-GMP2mid-LS-80 & singles-160808-scATAC-BM1137-GMP2mid-LS-81 & singles-160808-scATAC-BM1137-GMP2mid-LS-83 & singles-160808-scATAC-BM1137-GMP2mid-LS-85 & singles-160808-scATAC-BM1137-GMP2mid-LS-89 & singles-160808-scATAC-BM1137-GMP2mid-LS-92 & singles-160808-scATAC-BM1137-GMP2mid-LS-95 & singles-160808-scATAC-BM1137-GMP2mid-LS-96 & singles-160809-scATAC-BM1137-GMP1low-LS-1 & singles-160809-scATAC-BM1137-GMP1low-LS-11 & singles-160809-scATAC-BM1137-GMP1low-LS-13 & singles-160809-scATAC-BM1137-GMP1low-LS-14 & singles-160809-scATAC-BM1137-GMP1low-LS-15 & singles-160809-scATAC-BM1137-GMP1low-LS-16 & singles-160809-scATAC-BM1137-GMP1low-LS-17 & singles-160809-scATAC-BM1137-GMP1low-LS-19 & singles-160809-scATAC-BM1137-GMP1low-LS-2 & singles-160809-scATAC-BM1137-GMP1low-LS-20 & singles-160809-scATAC-BM1137-GMP1low-LS-21 & singles-160809-scATAC-BM1137-GMP1low-LS-22 & singles-160809-scATAC-BM1137-GMP1low-LS-23 & singles-160809-scATAC-BM1137-GMP1low-LS-24 & singles-160809-scATAC-BM1137-GMP1low-LS-25 & singles-160809-scATAC-BM1137-GMP1low-LS-26 & singles-160809-scATAC-BM1137-GMP1low-LS-27 & singles-160809-scATAC-BM1137-GMP1low-LS-28 & singles-160809-scATAC-BM1137-GMP1low-LS-31 & singles-160809-scATAC-BM1137-GMP1low-LS-32 & singles-160809-scATAC-BM1137-GMP1low-LS-33 & singles-160809-scATAC-BM1137-GMP1low-LS-36 & singles-160809-scATAC-BM1137-GMP1low-LS-4 & singles-160809-scATAC-BM1137-GMP1low-LS-42 & singles-160809-scATAC-BM1137-GMP1low-LS-43 & singles-160809-scATAC-BM1137-GMP1low-LS-44 & singles-160809-scATAC-BM1137-GMP1low-LS-45 & singles-160809-scATAC-BM1137-GMP1low-LS-46 & singles-160809-scATAC-BM1137-GMP1low-LS-48 & singles-160809-scATAC-BM1137-GMP1low-LS-5 & singles-160809-scATAC-BM1137-GMP1low-LS-50 & singles-160809-scATAC-BM1137-GMP1low-LS-52 & singles-160809-scATAC-BM1137-GMP1low-LS-53 & singles-160809-scATAC-BM1137-GMP1low-LS-54 & singles-160809-scATAC-BM1137-GMP1low-LS-55 & singles-160809-scATAC-BM1137-GMP1low-LS-56 & singles-160809-scATAC-BM1137-GMP1low-LS-58 & singles-160809-scATAC-BM1137-GMP1low-LS-59 & singles-160809-scATAC-BM1137-GMP1low-LS-6 & singles-160809-scATAC-BM1137-GMP1low-LS-60 & singles-160809-scATAC-BM1137-GMP1low-LS-61 & singles-160809-scATAC-BM1137-GMP1low-LS-62 & singles-160809-scATAC-BM1137-GMP1low-LS-63 & singles-160809-scATAC-BM1137-GMP1low-LS-64 & singles-160809-scATAC-BM1137-GMP1low-LS-66 & singles-160809-scATAC-BM1137-GMP1low-LS-68 & singles-160809-scATAC-BM1137-GMP1low-LS-69 & singles-160809-scATAC-BM1137-GMP1low-LS-7 & singles-160809-scATAC-BM1137-GMP1low-LS-70 & singles-160809-scATAC-BM1137-GMP1low-LS-74 & singles-160809-scATAC-BM1137-GMP1low-LS-75 & singles-160809-scATAC-BM1137-GMP1low-LS-77 & singles-160809-scATAC-BM1137-GMP1low-LS-78 & singles-160809-scATAC-BM1137-GMP1low-LS-79 & singles-160809-scATAC-BM1137-GMP1low-LS-80 & singles-160809-scATAC-BM1137-GMP1low-LS-81 & singles-160809-scATAC-BM1137-GMP1low-LS-82 & singles-160809-scATAC-BM1137-GMP1low-LS-83 & singles-160809-scATAC-BM1137-GMP1low-LS-84 & singles-160809-scATAC-BM1137-GMP1low-LS-86 & singles-160809-scATAC-BM1137-GMP1low-LS-87 & singles-160809-scATAC-BM1137-GMP1low-LS-88 & singles-160809-scATAC-BM1137-GMP1low-LS-89 & singles-160809-scATAC-BM1137-GMP1low-LS-9 & singles-160809-scATAC-BM1137-GMP1low-LS-90 & singles-160809-scATAC-BM1137-GMP1low-LS-91 & singles-160809-scATAC-BM1137-GMP1low-LS-95 & singles-160809-scATAC-BM1137-GMP1low-LS-96 & singles-160818-BM1137-pDC-LS-1 & singles-160818-BM1137-pDC-LS-10 & singles-160818-BM1137-pDC-LS-12 & singles-160818-BM1137-pDC-LS-13 & singles-160818-BM1137-pDC-LS-14 & singles-160818-BM1137-pDC-LS-15 & singles-160818-BM1137-pDC-LS-17 & singles-160818-BM1137-pDC-LS-2 & singles-160818-BM1137-pDC-LS-20 & singles-160818-BM1137-pDC-LS-21 & singles-160818-BM1137-pDC-LS-22 & singles-160818-BM1137-pDC-LS-23 & singles-160818-BM1137-pDC-LS-24 & singles-160818-BM1137-pDC-LS-25 & singles-160818-BM1137-pDC-LS-26 & singles-160818-BM1137-pDC-LS-27 & singles-160818-BM1137-pDC-LS-3 & singles-160818-BM1137-pDC-LS-31 & singles-160818-BM1137-pDC-LS-32 & singles-160818-BM1137-pDC-LS-34 & singles-160818-BM1137-pDC-LS-35 & singles-160818-BM1137-pDC-LS-36 & singles-160818-BM1137-pDC-LS-37 & singles-160818-BM1137-pDC-LS-38 & singles-160818-BM1137-pDC-LS-39 & singles-160818-BM1137-pDC-LS-40 & singles-160818-BM1137-pDC-LS-42 & singles-160818-BM1137-pDC-LS-43 & singles-160818-BM1137-pDC-LS-44 & singles-160818-BM1137-pDC-LS-45 & singles-160818-BM1137-pDC-LS-46 & singles-160818-BM1137-pDC-LS-48 & singles-160818-BM1137-pDC-LS-49 & singles-160818-BM1137-pDC-LS-50 & singles-160818-BM1137-pDC-LS-51 & singles-160818-BM1137-pDC-LS-54 & singles-160818-BM1137-pDC-LS-55 & singles-160818-BM1137-pDC-LS-56 & singles-160818-BM1137-pDC-LS-57 & singles-160818-BM1137-pDC-LS-58 & singles-160818-BM1137-pDC-LS-59 & singles-160818-BM1137-pDC-LS-60 & singles-160818-BM1137-pDC-LS-63 & singles-160818-BM1137-pDC-LS-65 & singles-160818-BM1137-pDC-LS-66 & singles-160818-BM1137-pDC-LS-67 & singles-160818-BM1137-pDC-LS-68 & singles-160818-BM1137-pDC-LS-7 & singles-160818-BM1137-pDC-LS-70 & singles-160818-BM1137-pDC-LS-73 & singles-160818-BM1137-pDC-LS-74 & singles-160818-BM1137-pDC-LS-75 & singles-160818-BM1137-pDC-LS-76 & singles-160818-BM1137-pDC-LS-77 & singles-160818-BM1137-pDC-LS-78 & singles-160818-BM1137-pDC-LS-79 & singles-160818-BM1137-pDC-LS-8 & singles-160818-BM1137-pDC-LS-80 & singles-160818-BM1137-pDC-LS-82 & singles-160818-BM1137-pDC-LS-83 & singles-160818-BM1137-pDC-LS-84 & singles-160818-BM1137-pDC-LS-86 & singles-160818-BM1137-pDC-LS-87 & singles-160818-BM1137-pDC-LS-88 & singles-160818-BM1137-pDC-LS-89 & singles-160818-BM1137-pDC-LS-90 & singles-160818-BM1137-pDC-LS-92 & singles-160818-BM1137-pDC-LS-95 & singles-160819-BM1137-CMP-LS-1 & singles-160819-BM1137-CMP-LS-10 & singles-160819-BM1137-CMP-LS-11 & singles-160819-BM1137-CMP-LS-13 & singles-160819-BM1137-CMP-LS-14 & singles-160819-BM1137-CMP-LS-15 & singles-160819-BM1137-CMP-LS-16 & singles-160819-BM1137-CMP-LS-18 & singles-160819-BM1137-CMP-LS-19 & singles-160819-BM1137-CMP-LS-2 & singles-160819-BM1137-CMP-LS-20 & singles-160819-BM1137-CMP-LS-22 & singles-160819-BM1137-CMP-LS-23 & singles-160819-BM1137-CMP-LS-24 & singles-160819-BM1137-CMP-LS-25 & singles-160819-BM1137-CMP-LS-26 & singles-160819-BM1137-CMP-LS-27 & singles-160819-BM1137-CMP-LS-29 & singles-160819-BM1137-CMP-LS-30 & singles-160819-BM1137-CMP-LS-31 & singles-160819-BM1137-CMP-LS-32 & singles-160819-BM1137-CMP-LS-33 & singles-160819-BM1137-CMP-LS-34 & singles-160819-BM1137-CMP-LS-35 & singles-160819-BM1137-CMP-LS-37 & singles-160819-BM1137-CMP-LS-38 & singles-160819-BM1137-CMP-LS-39 & singles-160819-BM1137-CMP-LS-4 & singles-160819-BM1137-CMP-LS-40 & singles-160819-BM1137-CMP-LS-41 & singles-160819-BM1137-CMP-LS-42 & singles-160819-BM1137-CMP-LS-43 & singles-160819-BM1137-CMP-LS-44 & singles-160819-BM1137-CMP-LS-45 & singles-160819-BM1137-CMP-LS-46 & singles-160819-BM1137-CMP-LS-47 & singles-160819-BM1137-CMP-LS-49 & singles-160819-BM1137-CMP-LS-50 & singles-160819-BM1137-CMP-LS-51 & singles-160819-BM1137-CMP-LS-52 & singles-160819-BM1137-CMP-LS-54 & singles-160819-BM1137-CMP-LS-59 & singles-160819-BM1137-CMP-LS-6 & singles-160819-BM1137-CMP-LS-60 & singles-160819-BM1137-CMP-LS-61 & singles-160819-BM1137-CMP-LS-62 & singles-160819-BM1137-CMP-LS-63 & singles-160819-BM1137-CMP-LS-64 & singles-160819-BM1137-CMP-LS-65 & singles-160819-BM1137-CMP-LS-66 & singles-160819-BM1137-CMP-LS-68 & singles-160819-BM1137-CMP-LS-7 & singles-160819-BM1137-CMP-LS-70 & singles-160819-BM1137-CMP-LS-71 & singles-160819-BM1137-CMP-LS-72 & singles-160819-BM1137-CMP-LS-73 & singles-160819-BM1137-CMP-LS-74 & singles-160819-BM1137-CMP-LS-75 & singles-160819-BM1137-CMP-LS-76 & singles-160819-BM1137-CMP-LS-78 & singles-160819-BM1137-CMP-LS-79 & singles-160819-BM1137-CMP-LS-8 & singles-160819-BM1137-CMP-LS-81 & singles-160819-BM1137-CMP-LS-82 & singles-160819-BM1137-CMP-LS-83 & singles-160819-BM1137-CMP-LS-85 & singles-160819-BM1137-CMP-LS-86 & singles-160819-BM1137-CMP-LS-88 & singles-160819-BM1137-CMP-LS-90 & singles-160819-BM1137-CMP-LS-91 & singles-160819-BM1137-CMP-LS-94 & singles-160819-BM1137-CMP-LS-95 & singles-160822-BM1137-CMP-LS-1 & singles-160822-BM1137-CMP-LS-10 & singles-160822-BM1137-CMP-LS-11 & singles-160822-BM1137-CMP-LS-12 & singles-160822-BM1137-CMP-LS-13 & singles-160822-BM1137-CMP-LS-15 & singles-160822-BM1137-CMP-LS-16 & singles-160822-BM1137-CMP-LS-20 & singles-160822-BM1137-CMP-LS-21 & singles-160822-BM1137-CMP-LS-22 & singles-160822-BM1137-CMP-LS-23 & singles-160822-BM1137-CMP-LS-24 & singles-160822-BM1137-CMP-LS-25 & singles-160822-BM1137-CMP-LS-26 & singles-160822-BM1137-CMP-LS-27 & singles-160822-BM1137-CMP-LS-29 & singles-160822-BM1137-CMP-LS-3 & singles-160822-BM1137-CMP-LS-30 & singles-160822-BM1137-CMP-LS-31 & singles-160822-BM1137-CMP-LS-32 & singles-160822-BM1137-CMP-LS-33 & singles-160822-BM1137-CMP-LS-34 & singles-160822-BM1137-CMP-LS-36 & singles-160822-BM1137-CMP-LS-37 & singles-160822-BM1137-CMP-LS-39 & singles-160822-BM1137-CMP-LS-4 & singles-160822-BM1137-CMP-LS-40 & singles-160822-BM1137-CMP-LS-41 & singles-160822-BM1137-CMP-LS-43 & singles-160822-BM1137-CMP-LS-45 & singles-160822-BM1137-CMP-LS-46 & singles-160822-BM1137-CMP-LS-47 & singles-160822-BM1137-CMP-LS-48 & singles-160822-BM1137-CMP-LS-49 & singles-160822-BM1137-CMP-LS-5 & singles-160822-BM1137-CMP-LS-50 & singles-160822-BM1137-CMP-LS-51 & singles-160822-BM1137-CMP-LS-54 & singles-160822-BM1137-CMP-LS-56 & singles-160822-BM1137-CMP-LS-57 & singles-160822-BM1137-CMP-LS-59 & singles-160822-BM1137-CMP-LS-6 & singles-160822-BM1137-CMP-LS-61 & singles-160822-BM1137-CMP-LS-62 & singles-160822-BM1137-CMP-LS-63 & singles-160822-BM1137-CMP-LS-64 & singles-160822-BM1137-CMP-LS-65 & singles-160822-BM1137-CMP-LS-66 & singles-160822-BM1137-CMP-LS-67 & singles-160822-BM1137-CMP-LS-68 & singles-160822-BM1137-CMP-LS-69 & singles-160822-BM1137-CMP-LS-7 & singles-160822-BM1137-CMP-LS-70 & singles-160822-BM1137-CMP-LS-71 & singles-160822-BM1137-CMP-LS-72 & singles-160822-BM1137-CMP-LS-73 & singles-160822-BM1137-CMP-LS-74 & singles-160822-BM1137-CMP-LS-75 & singles-160822-BM1137-CMP-LS-76 & singles-160822-BM1137-CMP-LS-77 & singles-160822-BM1137-CMP-LS-78 & singles-160822-BM1137-CMP-LS-79 & singles-160822-BM1137-CMP-LS-8 & singles-160822-BM1137-CMP-LS-81 & singles-160822-BM1137-CMP-LS-82 & singles-160822-BM1137-CMP-LS-83 & singles-160822-BM1137-CMP-LS-84 & singles-160822-BM1137-CMP-LS-85 & singles-160822-BM1137-CMP-LS-86 & singles-160822-BM1137-CMP-LS-87 & singles-160822-BM1137-CMP-LS-88 & singles-160822-BM1137-CMP-LS-9 & singles-160822-BM1137-CMP-LS-91 & singles-160822-BM1137-CMP-LS-92 & singles-160822-BM1137-CMP-LS-95 & singles-160822-BM1137-CMP-LS-96 & singles-20160617-scATAC-BM1077-CMP-HYC-1 & singles-20160617-scATAC-BM1077-CMP-HYC-10 & singles-20160617-scATAC-BM1077-CMP-HYC-11 & singles-20160617-scATAC-BM1077-CMP-HYC-12 & singles-20160617-scATAC-BM1077-CMP-HYC-15 & singles-20160617-scATAC-BM1077-CMP-HYC-17 & singles-20160617-scATAC-BM1077-CMP-HYC-19 & singles-20160617-scATAC-BM1077-CMP-HYC-2 & singles-20160617-scATAC-BM1077-CMP-HYC-20 & singles-20160617-scATAC-BM1077-CMP-HYC-21 & singles-20160617-scATAC-BM1077-CMP-HYC-24 & singles-20160617-scATAC-BM1077-CMP-HYC-25 & singles-20160617-scATAC-BM1077-CMP-HYC-26 & singles-20160617-scATAC-BM1077-CMP-HYC-28 & singles-20160617-scATAC-BM1077-CMP-HYC-3 & singles-20160617-scATAC-BM1077-CMP-HYC-30 & singles-20160617-scATAC-BM1077-CMP-HYC-31 & singles-20160617-scATAC-BM1077-CMP-HYC-32 & singles-20160617-scATAC-BM1077-CMP-HYC-33 & singles-20160617-scATAC-BM1077-CMP-HYC-35 & singles-20160617-scATAC-BM1077-CMP-HYC-36 & singles-20160617-scATAC-BM1077-CMP-HYC-37 & singles-20160617-scATAC-BM1077-CMP-HYC-38 & singles-20160617-scATAC-BM1077-CMP-HYC-39 & singles-20160617-scATAC-BM1077-CMP-HYC-40 & singles-20160617-scATAC-BM1077-CMP-HYC-41 & singles-20160617-scATAC-BM1077-CMP-HYC-44 & singles-20160617-scATAC-BM1077-CMP-HYC-45 & singles-20160617-scATAC-BM1077-CMP-HYC-46 & singles-20160617-scATAC-BM1077-CMP-HYC-49 & singles-20160617-scATAC-BM1077-CMP-HYC-5 & singles-20160617-scATAC-BM1077-CMP-HYC-50 & singles-20160617-scATAC-BM1077-CMP-HYC-51 & singles-20160617-scATAC-BM1077-CMP-HYC-53 & singles-20160617-scATAC-BM1077-CMP-HYC-55 & singles-20160617-scATAC-BM1077-CMP-HYC-56 & singles-20160617-scATAC-BM1077-CMP-HYC-59 & singles-20160617-scATAC-BM1077-CMP-HYC-6 & singles-20160617-scATAC-BM1077-CMP-HYC-60 & singles-20160617-scATAC-BM1077-CMP-HYC-61 & singles-20160617-scATAC-BM1077-CMP-HYC-62 & singles-20160617-scATAC-BM1077-CMP-HYC-63 & singles-20160617-scATAC-BM1077-CMP-HYC-64 & singles-20160617-scATAC-BM1077-CMP-HYC-66 & singles-20160617-scATAC-BM1077-CMP-HYC-68 & singles-20160617-scATAC-BM1077-CMP-HYC-69 & singles-20160617-scATAC-BM1077-CMP-HYC-7 & singles-20160617-scATAC-BM1077-CMP-HYC-71 & singles-20160617-scATAC-BM1077-CMP-HYC-73 & singles-20160617-scATAC-BM1077-CMP-HYC-74 & singles-20160617-scATAC-BM1077-CMP-HYC-76 & singles-20160617-scATAC-BM1077-CMP-HYC-77 & singles-20160617-scATAC-BM1077-CMP-HYC-78 & singles-20160617-scATAC-BM1077-CMP-HYC-80 & singles-20160617-scATAC-BM1077-CMP-HYC-84 & singles-20160617-scATAC-BM1077-CMP-HYC-86 & singles-20160617-scATAC-BM1077-CMP-HYC-87 & singles-20160617-scATAC-BM1077-CMP-HYC-88 & singles-20160617-scATAC-BM1077-CMP-HYC-9 & singles-20160617-scATAC-BM1077-CMP-HYC-91 & singles-20160617-scATAC-BM1077-CMP-HYC-94 & singles-20160617-scATAC-BM1077-CMP-HYC-96 & singles-20160617-scATAC-BM1214-CMP-LS-1 & singles-20160617-scATAC-BM1214-CMP-LS-10 & singles-20160617-scATAC-BM1214-CMP-LS-11 & singles-20160617-scATAC-BM1214-CMP-LS-12 & singles-20160617-scATAC-BM1214-CMP-LS-13 & singles-20160617-scATAC-BM1214-CMP-LS-15 & singles-20160617-scATAC-BM1214-CMP-LS-16 & singles-20160617-scATAC-BM1214-CMP-LS-19 & singles-20160617-scATAC-BM1214-CMP-LS-2 & singles-20160617-scATAC-BM1214-CMP-LS-20 & singles-20160617-scATAC-BM1214-CMP-LS-21 & singles-20160617-scATAC-BM1214-CMP-LS-22 & singles-20160617-scATAC-BM1214-CMP-LS-23 & singles-20160617-scATAC-BM1214-CMP-LS-25 & singles-20160617-scATAC-BM1214-CMP-LS-26 & singles-20160617-scATAC-BM1214-CMP-LS-27 & singles-20160617-scATAC-BM1214-CMP-LS-29 & singles-20160617-scATAC-BM1214-CMP-LS-3 & singles-20160617-scATAC-BM1214-CMP-LS-30 & singles-20160617-scATAC-BM1214-CMP-LS-31 & singles-20160617-scATAC-BM1214-CMP-LS-32 & singles-20160617-scATAC-BM1214-CMP-LS-33 & singles-20160617-scATAC-BM1214-CMP-LS-34 & singles-20160617-scATAC-BM1214-CMP-LS-35 & singles-20160617-scATAC-BM1214-CMP-LS-36 & singles-20160617-scATAC-BM1214-CMP-LS-37 & singles-20160617-scATAC-BM1214-CMP-LS-38 & singles-20160617-scATAC-BM1214-CMP-LS-4 & singles-20160617-scATAC-BM1214-CMP-LS-40 & singles-20160617-scATAC-BM1214-CMP-LS-41 & singles-20160617-scATAC-BM1214-CMP-LS-42 & singles-20160617-scATAC-BM1214-CMP-LS-43 & singles-20160617-scATAC-BM1214-CMP-LS-45 & singles-20160617-scATAC-BM1214-CMP-LS-46 & singles-20160617-scATAC-BM1214-CMP-LS-47 & singles-20160617-scATAC-BM1214-CMP-LS-48 & singles-20160617-scATAC-BM1214-CMP-LS-49 & singles-20160617-scATAC-BM1214-CMP-LS-50 & singles-20160617-scATAC-BM1214-CMP-LS-51 & singles-20160617-scATAC-BM1214-CMP-LS-52 & singles-20160617-scATAC-BM1214-CMP-LS-53 & singles-20160617-scATAC-BM1214-CMP-LS-54 & singles-20160617-scATAC-BM1214-CMP-LS-55 & singles-20160617-scATAC-BM1214-CMP-LS-56 & singles-20160617-scATAC-BM1214-CMP-LS-57 & singles-20160617-scATAC-BM1214-CMP-LS-60 & singles-20160617-scATAC-BM1214-CMP-LS-61 & singles-20160617-scATAC-BM1214-CMP-LS-62 & singles-20160617-scATAC-BM1214-CMP-LS-63 & singles-20160617-scATAC-BM1214-CMP-LS-64 & singles-20160617-scATAC-BM1214-CMP-LS-65 & singles-20160617-scATAC-BM1214-CMP-LS-67 & singles-20160617-scATAC-BM1214-CMP-LS-68 & singles-20160617-scATAC-BM1214-CMP-LS-70 & singles-20160617-scATAC-BM1214-CMP-LS-71 & singles-20160617-scATAC-BM1214-CMP-LS-72 & singles-20160617-scATAC-BM1214-CMP-LS-73 & singles-20160617-scATAC-BM1214-CMP-LS-75 & singles-20160617-scATAC-BM1214-CMP-LS-76 & singles-20160617-scATAC-BM1214-CMP-LS-77 & singles-20160617-scATAC-BM1214-CMP-LS-78 & singles-20160617-scATAC-BM1214-CMP-LS-8 & singles-20160617-scATAC-BM1214-CMP-LS-80 & singles-20160617-scATAC-BM1214-CMP-LS-81 & singles-20160617-scATAC-BM1214-CMP-LS-82 & singles-20160617-scATAC-BM1214-CMP-LS-84 & singles-20160617-scATAC-BM1214-CMP-LS-85 & singles-20160617-scATAC-BM1214-CMP-LS-87 & singles-20160617-scATAC-BM1214-CMP-LS-88 & singles-20160617-scATAC-BM1214-CMP-LS-90 & singles-20160617-scATAC-BM1214-CMP-LS-92 & singles-20160617-scATAC-BM1214-CMP-LS-94 & singles-20160617-scATAC-BM1214-CMP-LS-95 & singles-20160617-scATAC-BM1214-CMP-LS-96 & singles-20160726-scATAC-BM1137-GMP3high-HYC-1 & singles-20160726-scATAC-BM1137-GMP3high-HYC-11 & singles-20160726-scATAC-BM1137-GMP3high-HYC-12 & singles-20160726-scATAC-BM1137-GMP3high-HYC-16 & singles-20160726-scATAC-BM1137-GMP3high-HYC-17 & singles-20160726-scATAC-BM1137-GMP3high-HYC-19 & singles-20160726-scATAC-BM1137-GMP3high-HYC-20 & singles-20160726-scATAC-BM1137-GMP3high-HYC-21 & singles-20160726-scATAC-BM1137-GMP3high-HYC-22 & singles-20160726-scATAC-BM1137-GMP3high-HYC-23 & singles-20160726-scATAC-BM1137-GMP3high-HYC-24 & singles-20160726-scATAC-BM1137-GMP3high-HYC-26 & singles-20160726-scATAC-BM1137-GMP3high-HYC-27 & singles-20160726-scATAC-BM1137-GMP3high-HYC-28 & singles-20160726-scATAC-BM1137-GMP3high-HYC-29 & singles-20160726-scATAC-BM1137-GMP3high-HYC-30 & singles-20160726-scATAC-BM1137-GMP3high-HYC-31 & singles-20160726-scATAC-BM1137-GMP3high-HYC-32 & singles-20160726-scATAC-BM1137-GMP3high-HYC-33 & singles-20160726-scATAC-BM1137-GMP3high-HYC-34 & singles-20160726-scATAC-BM1137-GMP3high-HYC-35 & singles-20160726-scATAC-BM1137-GMP3high-HYC-36 & singles-20160726-scATAC-BM1137-GMP3high-HYC-39 & singles-20160726-scATAC-BM1137-GMP3high-HYC-4 & singles-20160726-scATAC-BM1137-GMP3high-HYC-40 & singles-20160726-scATAC-BM1137-GMP3high-HYC-42 & singles-20160726-scATAC-BM1137-GMP3high-HYC-44 & singles-20160726-scATAC-BM1137-GMP3high-HYC-45 & singles-20160726-scATAC-BM1137-GMP3high-HYC-46 & singles-20160726-scATAC-BM1137-GMP3high-HYC-47 & singles-20160726-scATAC-BM1137-GMP3high-HYC-48 & singles-20160726-scATAC-BM1137-GMP3high-HYC-49 & singles-20160726-scATAC-BM1137-GMP3high-HYC-5 & singles-20160726-scATAC-BM1137-GMP3high-HYC-50 & singles-20160726-scATAC-BM1137-GMP3high-HYC-52 & singles-20160726-scATAC-BM1137-GMP3high-HYC-53 & singles-20160726-scATAC-BM1137-GMP3high-HYC-54 & singles-20160726-scATAC-BM1137-GMP3high-HYC-55 & singles-20160726-scATAC-BM1137-GMP3high-HYC-57 & singles-20160726-scATAC-BM1137-GMP3high-HYC-58 & singles-20160726-scATAC-BM1137-GMP3high-HYC-59 & singles-20160726-scATAC-BM1137-GMP3high-HYC-6 & singles-20160726-scATAC-BM1137-GMP3high-HYC-60 & singles-20160726-scATAC-BM1137-GMP3high-HYC-61 & singles-20160726-scATAC-BM1137-GMP3high-HYC-62 & singles-20160726-scATAC-BM1137-GMP3high-HYC-63 & singles-20160726-scATAC-BM1137-GMP3high-HYC-65 & singles-20160726-scATAC-BM1137-GMP3high-HYC-67 & singles-20160726-scATAC-BM1137-GMP3high-HYC-68 & singles-20160726-scATAC-BM1137-GMP3high-HYC-69 & singles-20160726-scATAC-BM1137-GMP3high-HYC-7 & singles-20160726-scATAC-BM1137-GMP3high-HYC-70 & singles-20160726-scATAC-BM1137-GMP3high-HYC-71 & singles-20160726-scATAC-BM1137-GMP3high-HYC-73 & singles-20160726-scATAC-BM1137-GMP3high-HYC-75 & singles-20160726-scATAC-BM1137-GMP3high-HYC-76 & singles-20160726-scATAC-BM1137-GMP3high-HYC-77 & singles-20160726-scATAC-BM1137-GMP3high-HYC-78 & singles-20160726-scATAC-BM1137-GMP3high-HYC-79 & singles-20160726-scATAC-BM1137-GMP3high-HYC-8 & singles-20160726-scATAC-BM1137-GMP3high-HYC-80 & singles-20160726-scATAC-BM1137-GMP3high-HYC-81 & singles-20160726-scATAC-BM1137-GMP3high-HYC-82 & singles-20160726-scATAC-BM1137-GMP3high-HYC-83 & singles-20160726-scATAC-BM1137-GMP3high-HYC-84 & singles-20160726-scATAC-BM1137-GMP3high-HYC-85 & singles-20160726-scATAC-BM1137-GMP3high-HYC-86 & singles-20160726-scATAC-BM1137-GMP3high-HYC-88 & singles-20160726-scATAC-BM1137-GMP3high-HYC-89 & singles-20160726-scATAC-BM1137-GMP3high-HYC-90 & singles-20160726-scATAC-BM1137-GMP3high-HYC-91 & singles-20160726-scATAC-BM1137-GMP3high-HYC-94 & singles-20160726-scATAC-BM1137-GMP3high-HYC-95 & singles-20160726-scATAC-BM1137-GMP3high-HYC-96 & singles-20160726-scATAC-BM1214-CMP-LS-1 & singles-20160726-scATAC-BM1214-CMP-LS-10 & singles-20160726-scATAC-BM1214-CMP-LS-12 & singles-20160726-scATAC-BM1214-CMP-LS-14 & singles-20160726-scATAC-BM1214-CMP-LS-17 & singles-20160726-scATAC-BM1214-CMP-LS-19 & singles-20160726-scATAC-BM1214-CMP-LS-2 & singles-20160726-scATAC-BM1214-CMP-LS-20 & singles-20160726-scATAC-BM1214-CMP-LS-22 & singles-20160726-scATAC-BM1214-CMP-LS-23 & singles-20160726-scATAC-BM1214-CMP-LS-24 & singles-20160726-scATAC-BM1214-CMP-LS-26 & singles-20160726-scATAC-BM1214-CMP-LS-27 & singles-20160726-scATAC-BM1214-CMP-LS-28 & singles-20160726-scATAC-BM1214-CMP-LS-3 & singles-20160726-scATAC-BM1214-CMP-LS-30 & singles-20160726-scATAC-BM1214-CMP-LS-32 & singles-20160726-scATAC-BM1214-CMP-LS-33 & singles-20160726-scATAC-BM1214-CMP-LS-36 & singles-20160726-scATAC-BM1214-CMP-LS-37 & singles-20160726-scATAC-BM1214-CMP-LS-39 & singles-20160726-scATAC-BM1214-CMP-LS-4 & singles-20160726-scATAC-BM1214-CMP-LS-40 & singles-20160726-scATAC-BM1214-CMP-LS-42 & singles-20160726-scATAC-BM1214-CMP-LS-43 & singles-20160726-scATAC-BM1214-CMP-LS-47 & singles-20160726-scATAC-BM1214-CMP-LS-48 & singles-20160726-scATAC-BM1214-CMP-LS-49 & singles-20160726-scATAC-BM1214-CMP-LS-5 & singles-20160726-scATAC-BM1214-CMP-LS-50 & singles-20160726-scATAC-BM1214-CMP-LS-51 & singles-20160726-scATAC-BM1214-CMP-LS-52 & singles-20160726-scATAC-BM1214-CMP-LS-53 & singles-20160726-scATAC-BM1214-CMP-LS-54 & singles-20160726-scATAC-BM1214-CMP-LS-55 & singles-20160726-scATAC-BM1214-CMP-LS-56 & singles-20160726-scATAC-BM1214-CMP-LS-57 & singles-20160726-scATAC-BM1214-CMP-LS-59 & singles-20160726-scATAC-BM1214-CMP-LS-6 & singles-20160726-scATAC-BM1214-CMP-LS-60 & singles-20160726-scATAC-BM1214-CMP-LS-61 & singles-20160726-scATAC-BM1214-CMP-LS-64 & singles-20160726-scATAC-BM1214-CMP-LS-66 & singles-20160726-scATAC-BM1214-CMP-LS-68 & singles-20160726-scATAC-BM1214-CMP-LS-7 & singles-20160726-scATAC-BM1214-CMP-LS-71 & singles-20160726-scATAC-BM1214-CMP-LS-72 & singles-20160726-scATAC-BM1214-CMP-LS-74 & singles-20160726-scATAC-BM1214-CMP-LS-75 & singles-20160726-scATAC-BM1214-CMP-LS-77 & singles-20160726-scATAC-BM1214-CMP-LS-79 & singles-20160726-scATAC-BM1214-CMP-LS-81 & singles-20160726-scATAC-BM1214-CMP-LS-82 & singles-20160726-scATAC-BM1214-CMP-LS-83 & singles-20160726-scATAC-BM1214-CMP-LS-84 & singles-20160726-scATAC-BM1214-CMP-LS-86 & singles-20160726-scATAC-BM1214-CMP-LS-88 & singles-20160726-scATAC-BM1214-CMP-LS-89 & singles-20160726-scATAC-BM1214-CMP-LS-90 & singles-20160726-scATAC-BM1214-CMP-LS-92 & singles-20160726-scATAC-BM1214-CMP-LS-93 & singles-20160726-scATAC-BM1214-CMP-LS-95 & singles-20160726-scATAC-BM1214-CMP-LS-96 & singles-BM0106-HSC-LS-160219-1 & singles-BM0106-HSC-LS-160219-10 & singles-BM0106-HSC-LS-160219-12 & singles-BM0106-HSC-LS-160219-14 & singles-BM0106-HSC-LS-160219-18 & singles-BM0106-HSC-LS-160219-2 & singles-BM0106-HSC-LS-160219-20 & singles-BM0106-HSC-LS-160219-23 & singles-BM0106-HSC-LS-160219-25 & singles-BM0106-HSC-LS-160219-26 & singles-BM0106-HSC-LS-160219-27 & singles-BM0106-HSC-LS-160219-28 & singles-BM0106-HSC-LS-160219-3 & singles-BM0106-HSC-LS-160219-30 & singles-BM0106-HSC-LS-160219-32 & singles-BM0106-HSC-LS-160219-33 & singles-BM0106-HSC-LS-160219-34 & singles-BM0106-HSC-LS-160219-35 & singles-BM0106-HSC-LS-160219-37 & singles-BM0106-HSC-LS-160219-38 & singles-BM0106-HSC-LS-160219-39 & singles-BM0106-HSC-LS-160219-4 & singles-BM0106-HSC-LS-160219-40 & singles-BM0106-HSC-LS-160219-41 & singles-BM0106-HSC-LS-160219-42 & singles-BM0106-HSC-LS-160219-43 & singles-BM0106-HSC-LS-160219-44 & singles-BM0106-HSC-LS-160219-45 & singles-BM0106-HSC-LS-160219-46 & singles-BM0106-HSC-LS-160219-47 & singles-BM0106-HSC-LS-160219-49 & singles-BM0106-HSC-LS-160219-5 & singles-BM0106-HSC-LS-160219-52 & singles-BM0106-HSC-LS-160219-54 & singles-BM0106-HSC-LS-160219-55 & singles-BM0106-HSC-LS-160219-56 & singles-BM0106-HSC-LS-160219-57 & singles-BM0106-HSC-LS-160219-58 & singles-BM0106-HSC-LS-160219-59 & singles-BM0106-HSC-LS-160219-60 & singles-BM0106-HSC-LS-160219-62 & singles-BM0106-HSC-LS-160219-63 & singles-BM0106-HSC-LS-160219-64 & singles-BM0106-HSC-LS-160219-65 & singles-BM0106-HSC-LS-160219-66 & singles-BM0106-HSC-LS-160219-69 & singles-BM0106-HSC-LS-160219-7 & singles-BM0106-HSC-LS-160219-70 & singles-BM0106-HSC-LS-160219-71 & singles-BM0106-HSC-LS-160219-73 & singles-BM0106-HSC-LS-160219-74 & singles-BM0106-HSC-LS-160219-75 & singles-BM0106-HSC-LS-160219-76 & singles-BM0106-HSC-LS-160219-77 & singles-BM0106-HSC-LS-160219-78 & singles-BM0106-HSC-LS-160219-79 & singles-BM0106-HSC-LS-160219-8 & singles-BM0106-HSC-LS-160219-82 & singles-BM0106-HSC-LS-160219-83 & singles-BM0106-HSC-LS-160219-85 & singles-BM0106-HSC-LS-160219-86 & singles-BM0106-HSC-LS-160219-87 & singles-BM0106-HSC-LS-160219-88 & singles-BM0106-HSC-LS-160219-9 & singles-BM0106-HSC-LS-160219-90 & singles-BM0106-HSC-LS-160219-91 & singles-BM0106-HSC-LS-160219-92 & singles-BM0106-HSC-LS-160219-96 & singles-BM0106-HSC-SIM-160219-10 & singles-BM0106-HSC-SIM-160219-11 & singles-BM0106-HSC-SIM-160219-12 & singles-BM0106-HSC-SIM-160219-17 & singles-BM0106-HSC-SIM-160219-18 & singles-BM0106-HSC-SIM-160219-19 & singles-BM0106-HSC-SIM-160219-2 & singles-BM0106-HSC-SIM-160219-23 & singles-BM0106-HSC-SIM-160219-24 & singles-BM0106-HSC-SIM-160219-25 & singles-BM0106-HSC-SIM-160219-26 & singles-BM0106-HSC-SIM-160219-27 & singles-BM0106-HSC-SIM-160219-28 & singles-BM0106-HSC-SIM-160219-29 & singles-BM0106-HSC-SIM-160219-3 & singles-BM0106-HSC-SIM-160219-30 & singles-BM0106-HSC-SIM-160219-31 & singles-BM0106-HSC-SIM-160219-32 & singles-BM0106-HSC-SIM-160219-33 & singles-BM0106-HSC-SIM-160219-34 & singles-BM0106-HSC-SIM-160219-35 & singles-BM0106-HSC-SIM-160219-36 & singles-BM0106-HSC-SIM-160219-37 & singles-BM0106-HSC-SIM-160219-39 & singles-BM0106-HSC-SIM-160219-4 & singles-BM0106-HSC-SIM-160219-40 & singles-BM0106-HSC-SIM-160219-41 & singles-BM0106-HSC-SIM-160219-42 & singles-BM0106-HSC-SIM-160219-43 & singles-BM0106-HSC-SIM-160219-45 & singles-BM0106-HSC-SIM-160219-46 & singles-BM0106-HSC-SIM-160219-48 & singles-BM0106-HSC-SIM-160219-49 & singles-BM0106-HSC-SIM-160219-50 & singles-BM0106-HSC-SIM-160219-51 & singles-BM0106-HSC-SIM-160219-52 & singles-BM0106-HSC-SIM-160219-53 & singles-BM0106-HSC-SIM-160219-54 & singles-BM0106-HSC-SIM-160219-55 & singles-BM0106-HSC-SIM-160219-56 & singles-BM0106-HSC-SIM-160219-57 & singles-BM0106-HSC-SIM-160219-58 & singles-BM0106-HSC-SIM-160219-6 & singles-BM0106-HSC-SIM-160219-60 & singles-BM0106-HSC-SIM-160219-61 & singles-BM0106-HSC-SIM-160219-63 & singles-BM0106-HSC-SIM-160219-64 & singles-BM0106-HSC-SIM-160219-65 & singles-BM0106-HSC-SIM-160219-66 & singles-BM0106-HSC-SIM-160219-67 & singles-BM0106-HSC-SIM-160219-68 & singles-BM0106-HSC-SIM-160219-69 & singles-BM0106-HSC-SIM-160219-70 & singles-BM0106-HSC-SIM-160219-71 & singles-BM0106-HSC-SIM-160219-72 & singles-BM0106-HSC-SIM-160219-73 & singles-BM0106-HSC-SIM-160219-74 & singles-BM0106-HSC-SIM-160219-75 & singles-BM0106-HSC-SIM-160219-76 & singles-BM0106-HSC-SIM-160219-77 & singles-BM0106-HSC-SIM-160219-78 & singles-BM0106-HSC-SIM-160219-79 & singles-BM0106-HSC-SIM-160219-81 & singles-BM0106-HSC-SIM-160219-84 & singles-BM0106-HSC-SIM-160219-85 & singles-BM0106-HSC-SIM-160219-86 & singles-BM0106-HSC-SIM-160219-87 & singles-BM0106-HSC-SIM-160219-88 & singles-BM0106-HSC-SIM-160219-89 & singles-BM0106-HSC-SIM-160219-9 & singles-BM0106-HSC-SIM-160219-90 & singles-BM0106-HSC-SIM-160219-91 & singles-BM0106-HSC-SIM-160219-92 & singles-BM0106-HSC-SIM-160219-94 & singles-BM0106-HSC-SIM-160219-95 & singles-BM0106-UNK-160418-10 & singles-BM0106-UNK-160418-11 & singles-BM0106-UNK-160418-12 & singles-BM0106-UNK-160418-13 & singles-BM0106-UNK-160418-14 & singles-BM0106-UNK-160418-16 & singles-BM0106-UNK-160418-17 & singles-BM0106-UNK-160418-18 & singles-BM0106-UNK-160418-19 & singles-BM0106-UNK-160418-2 & singles-BM0106-UNK-160418-21 & singles-BM0106-UNK-160418-22 & singles-BM0106-UNK-160418-23 & singles-BM0106-UNK-160418-24 & singles-BM0106-UNK-160418-26 & singles-BM0106-UNK-160418-27 & singles-BM0106-UNK-160418-28 & singles-BM0106-UNK-160418-3 & singles-BM0106-UNK-160418-30 & singles-BM0106-UNK-160418-32 & singles-BM0106-UNK-160418-34 & singles-BM0106-UNK-160418-35 & singles-BM0106-UNK-160418-36 & singles-BM0106-UNK-160418-38 & singles-BM0106-UNK-160418-39 & singles-BM0106-UNK-160418-4 & singles-BM0106-UNK-160418-40 & singles-BM0106-UNK-160418-41 & singles-BM0106-UNK-160418-42 & singles-BM0106-UNK-160418-43 & singles-BM0106-UNK-160418-47 & singles-BM0106-UNK-160418-48 & singles-BM0106-UNK-160418-5 & singles-BM0106-UNK-160418-51 & singles-BM0106-UNK-160418-56 & singles-BM0106-UNK-160418-59 & singles-BM0106-UNK-160418-6 & singles-BM0106-UNK-160418-62 & singles-BM0106-UNK-160418-64 & singles-BM0106-UNK-160418-65 & singles-BM0106-UNK-160418-66 & singles-BM0106-UNK-160418-68 & singles-BM0106-UNK-160418-70 & singles-BM0106-UNK-160418-72 & singles-BM0106-UNK-160418-73 & singles-BM0106-UNK-160418-76 & singles-BM0106-UNK-160418-77 & singles-BM0106-UNK-160418-8 & singles-BM0106-UNK-160418-80 & singles-BM0106-UNK-160418-81 & singles-BM0106-UNK-160418-83 & singles-BM0106-UNK-160418-85 & singles-BM0106-UNK-160418-86 & singles-BM0106-UNK-160418-87 & singles-BM0106-UNK-160418-89 & singles-BM0106-UNK-160418-90 & singles-BM0106-UNK-160418-91 & singles-BM0106-UNK-160418-92 & singles-BM0106-UNK-160418-95 & singles-BM0106-UNK-160418-96 & singles-BM0828-CLP-frozen-151103-13 & singles-BM0828-CLP-frozen-151103-15 & singles-BM0828-CLP-frozen-151103-17 & singles-BM0828-CLP-frozen-151103-18 & singles-BM0828-CLP-frozen-151103-2 & singles-BM0828-CLP-frozen-151103-20 & singles-BM0828-CLP-frozen-151103-21 & singles-BM0828-CLP-frozen-151103-24 & singles-BM0828-CLP-frozen-151103-25 & singles-BM0828-CLP-frozen-151103-27 & singles-BM0828-CLP-frozen-151103-28 & singles-BM0828-CLP-frozen-151103-29 & singles-BM0828-CLP-frozen-151103-3 & singles-BM0828-CLP-frozen-151103-30 & singles-BM0828-CLP-frozen-151103-31 & singles-BM0828-CLP-frozen-151103-32 & singles-BM0828-CLP-frozen-151103-33 & singles-BM0828-CLP-frozen-151103-34 & singles-BM0828-CLP-frozen-151103-35 & singles-BM0828-CLP-frozen-151103-39 & singles-BM0828-CLP-frozen-151103-4 & singles-BM0828-CLP-frozen-151103-40 & singles-BM0828-CLP-frozen-151103-45 & singles-BM0828-CLP-frozen-151103-46 & singles-BM0828-CLP-frozen-151103-47 & singles-BM0828-CLP-frozen-151103-48 & singles-BM0828-CLP-frozen-151103-50 & singles-BM0828-CLP-frozen-151103-52 & singles-BM0828-CLP-frozen-151103-54 & singles-BM0828-CLP-frozen-151103-55 & singles-BM0828-CLP-frozen-151103-59 & singles-BM0828-CLP-frozen-151103-6 & singles-BM0828-CLP-frozen-151103-61 & singles-BM0828-CLP-frozen-151103-62 & singles-BM0828-CLP-frozen-151103-64 & singles-BM0828-CLP-frozen-151103-65 & singles-BM0828-CLP-frozen-151103-67 & singles-BM0828-CLP-frozen-151103-68 & singles-BM0828-CLP-frozen-151103-7 & singles-BM0828-CLP-frozen-151103-71 & singles-BM0828-CLP-frozen-151103-73 & singles-BM0828-CLP-frozen-151103-78 & singles-BM0828-CLP-frozen-151103-79 & singles-BM0828-CLP-frozen-151103-8 & singles-BM0828-CLP-frozen-151103-80 & singles-BM0828-CLP-frozen-151103-84 & singles-BM0828-CLP-frozen-151103-85 & singles-BM0828-CLP-frozen-151103-87 & singles-BM0828-CLP-frozen-151103-93 & singles-BM0828-CLP-frozen-151103-95 & singles-BM0828-CLP-frozen-151103-96 & singles-BM0828-CMP-frozen-151118-1 & singles-BM0828-CMP-frozen-151118-10 & singles-BM0828-CMP-frozen-151118-11 & singles-BM0828-CMP-frozen-151118-12 & singles-BM0828-CMP-frozen-151118-13 & singles-BM0828-CMP-frozen-151118-14 & singles-BM0828-CMP-frozen-151118-15 & singles-BM0828-CMP-frozen-151118-18 & singles-BM0828-CMP-frozen-151118-19 & singles-BM0828-CMP-frozen-151118-2 & singles-BM0828-CMP-frozen-151118-21 & singles-BM0828-CMP-frozen-151118-22 & singles-BM0828-CMP-frozen-151118-23 & singles-BM0828-CMP-frozen-151118-24 & singles-BM0828-CMP-frozen-151118-25 & singles-BM0828-CMP-frozen-151118-26 & singles-BM0828-CMP-frozen-151118-28 & singles-BM0828-CMP-frozen-151118-3 & singles-BM0828-CMP-frozen-151118-30 & singles-BM0828-CMP-frozen-151118-31 & singles-BM0828-CMP-frozen-151118-32 & singles-BM0828-CMP-frozen-151118-33 & singles-BM0828-CMP-frozen-151118-35 & singles-BM0828-CMP-frozen-151118-36 & singles-BM0828-CMP-frozen-151118-37 & singles-BM0828-CMP-frozen-151118-38 & singles-BM0828-CMP-frozen-151118-39 & singles-BM0828-CMP-frozen-151118-4 & singles-BM0828-CMP-frozen-151118-40 & singles-BM0828-CMP-frozen-151118-41 & singles-BM0828-CMP-frozen-151118-42 & singles-BM0828-CMP-frozen-151118-43 & singles-BM0828-CMP-frozen-151118-44 & singles-BM0828-CMP-frozen-151118-45 & singles-BM0828-CMP-frozen-151118-46 & singles-BM0828-CMP-frozen-151118-47 & singles-BM0828-CMP-frozen-151118-48 & singles-BM0828-CMP-frozen-151118-49 & singles-BM0828-CMP-frozen-151118-5 & singles-BM0828-CMP-frozen-151118-50 & singles-BM0828-CMP-frozen-151118-51 & singles-BM0828-CMP-frozen-151118-52 & singles-BM0828-CMP-frozen-151118-54 & singles-BM0828-CMP-frozen-151118-55 & singles-BM0828-CMP-frozen-151118-56 & singles-BM0828-CMP-frozen-151118-57 & singles-BM0828-CMP-frozen-151118-58 & singles-BM0828-CMP-frozen-151118-59 & singles-BM0828-CMP-frozen-151118-6 & singles-BM0828-CMP-frozen-151118-60 & singles-BM0828-CMP-frozen-151118-61 & singles-BM0828-CMP-frozen-151118-62 & singles-BM0828-CMP-frozen-151118-63 & singles-BM0828-CMP-frozen-151118-64 & singles-BM0828-CMP-frozen-151118-65 & singles-BM0828-CMP-frozen-151118-67 & singles-BM0828-CMP-frozen-151118-69 & singles-BM0828-CMP-frozen-151118-70 & singles-BM0828-CMP-frozen-151118-71 & singles-BM0828-CMP-frozen-151118-72 & singles-BM0828-CMP-frozen-151118-73 & singles-BM0828-CMP-frozen-151118-74 & singles-BM0828-CMP-frozen-151118-75 & singles-BM0828-CMP-frozen-151118-76 & singles-BM0828-CMP-frozen-151118-77 & singles-BM0828-CMP-frozen-151118-79 & singles-BM0828-CMP-frozen-151118-80 & singles-BM0828-CMP-frozen-151118-81 & singles-BM0828-CMP-frozen-151118-82 & singles-BM0828-CMP-frozen-151118-83 & singles-BM0828-CMP-frozen-151118-84 & singles-BM0828-CMP-frozen-151118-85 & singles-BM0828-CMP-frozen-151118-86 & singles-BM0828-CMP-frozen-151118-87 & singles-BM0828-CMP-frozen-151118-89 & singles-BM0828-CMP-frozen-151118-90 & singles-BM0828-CMP-frozen-151118-91 & singles-BM0828-CMP-frozen-151118-92 & singles-BM0828-CMP-frozen-151118-95 & singles-BM0828-CMP-frozen-151118-96 & singles-BM0828-GMP-151027-11 & singles-BM0828-GMP-151027-12 & singles-BM0828-GMP-151027-13 & singles-BM0828-GMP-151027-14 & singles-BM0828-GMP-151027-15 & singles-BM0828-GMP-151027-16 & singles-BM0828-GMP-151027-17 & singles-BM0828-GMP-151027-18 & singles-BM0828-GMP-151027-2 & singles-BM0828-GMP-151027-20 & singles-BM0828-GMP-151027-21 & singles-BM0828-GMP-151027-22 & singles-BM0828-GMP-151027-23 & singles-BM0828-GMP-151027-24 & singles-BM0828-GMP-151027-25 & singles-BM0828-GMP-151027-26 & singles-BM0828-GMP-151027-27 & singles-BM0828-GMP-151027-28 & singles-BM0828-GMP-151027-3 & singles-BM0828-GMP-151027-30 & singles-BM0828-GMP-151027-31 & singles-BM0828-GMP-151027-32 & singles-BM0828-GMP-151027-33 & singles-BM0828-GMP-151027-35 & singles-BM0828-GMP-151027-36 & singles-BM0828-GMP-151027-39 & singles-BM0828-GMP-151027-4 & singles-BM0828-GMP-151027-40 & singles-BM0828-GMP-151027-42 & singles-BM0828-GMP-151027-43 & singles-BM0828-GMP-151027-44 & singles-BM0828-GMP-151027-45 & singles-BM0828-GMP-151027-46 & singles-BM0828-GMP-151027-47 & singles-BM0828-GMP-151027-48 & singles-BM0828-GMP-151027-49 & singles-BM0828-GMP-151027-5 & singles-BM0828-GMP-151027-50 & singles-BM0828-GMP-151027-51 & singles-BM0828-GMP-151027-52 & singles-BM0828-GMP-151027-54 & singles-BM0828-GMP-151027-56 & singles-BM0828-GMP-151027-58 & singles-BM0828-GMP-151027-59 & singles-BM0828-GMP-151027-60 & singles-BM0828-GMP-151027-61 & singles-BM0828-GMP-151027-62 & singles-BM0828-GMP-151027-63 & singles-BM0828-GMP-151027-64 & singles-BM0828-GMP-151027-66 & singles-BM0828-GMP-151027-67 & singles-BM0828-GMP-151027-68 & singles-BM0828-GMP-151027-70 & singles-BM0828-GMP-151027-71 & singles-BM0828-GMP-151027-72 & singles-BM0828-GMP-151027-73 & singles-BM0828-GMP-151027-74 & singles-BM0828-GMP-151027-76 & singles-BM0828-GMP-151027-77 & singles-BM0828-GMP-151027-78 & singles-BM0828-GMP-151027-8 & singles-BM0828-GMP-151027-83 & singles-BM0828-GMP-151027-85 & singles-BM0828-GMP-151027-86 & singles-BM0828-GMP-151027-88 & singles-BM0828-GMP-151027-92 & singles-BM0828-GMP-151027-93 & singles-BM0828-GMP-151027-95 & singles-BM0828-HSC-fresh-151027-1 & singles-BM0828-HSC-fresh-151027-10 & singles-BM0828-HSC-fresh-151027-11 & singles-BM0828-HSC-fresh-151027-12 & singles-BM0828-HSC-fresh-151027-13 & singles-BM0828-HSC-fresh-151027-14 & singles-BM0828-HSC-fresh-151027-15 & singles-BM0828-HSC-fresh-151027-17 & singles-BM0828-HSC-fresh-151027-18 & singles-BM0828-HSC-fresh-151027-2 & singles-BM0828-HSC-fresh-151027-20 & singles-BM0828-HSC-fresh-151027-21 & singles-BM0828-HSC-fresh-151027-22 & singles-BM0828-HSC-fresh-151027-23 & singles-BM0828-HSC-fresh-151027-24 & singles-BM0828-HSC-fresh-151027-25 & singles-BM0828-HSC-fresh-151027-26 & singles-BM0828-HSC-fresh-151027-28 & singles-BM0828-HSC-fresh-151027-3 & singles-BM0828-HSC-fresh-151027-30 & singles-BM0828-HSC-fresh-151027-31 & singles-BM0828-HSC-fresh-151027-32 & singles-BM0828-HSC-fresh-151027-33 & singles-BM0828-HSC-fresh-151027-34 & singles-BM0828-HSC-fresh-151027-35 & singles-BM0828-HSC-fresh-151027-37 & singles-BM0828-HSC-fresh-151027-38 & singles-BM0828-HSC-fresh-151027-39 & singles-BM0828-HSC-fresh-151027-4 & singles-BM0828-HSC-fresh-151027-40 & singles-BM0828-HSC-fresh-151027-41 & singles-BM0828-HSC-fresh-151027-42 & singles-BM0828-HSC-fresh-151027-43 & singles-BM0828-HSC-fresh-151027-44 & singles-BM0828-HSC-fresh-151027-45 & singles-BM0828-HSC-fresh-151027-46 & singles-BM0828-HSC-fresh-151027-47 & singles-BM0828-HSC-fresh-151027-48 & singles-BM0828-HSC-fresh-151027-49 & singles-BM0828-HSC-fresh-151027-5 & singles-BM0828-HSC-fresh-151027-50 & singles-BM0828-HSC-fresh-151027-51 & singles-BM0828-HSC-fresh-151027-52 & singles-BM0828-HSC-fresh-151027-53 & singles-BM0828-HSC-fresh-151027-55 & singles-BM0828-HSC-fresh-151027-56 & singles-BM0828-HSC-fresh-151027-57 & singles-BM0828-HSC-fresh-151027-58 & singles-BM0828-HSC-fresh-151027-59 & singles-BM0828-HSC-fresh-151027-6 & singles-BM0828-HSC-fresh-151027-60 & singles-BM0828-HSC-fresh-151027-61 & singles-BM0828-HSC-fresh-151027-63 & singles-BM0828-HSC-fresh-151027-64 & singles-BM0828-HSC-fresh-151027-65 & singles-BM0828-HSC-fresh-151027-66 & singles-BM0828-HSC-fresh-151027-67 & singles-BM0828-HSC-fresh-151027-68 & singles-BM0828-HSC-fresh-151027-7 & singles-BM0828-HSC-fresh-151027-70 & singles-BM0828-HSC-fresh-151027-71 & singles-BM0828-HSC-fresh-151027-72 & singles-BM0828-HSC-fresh-151027-73 & singles-BM0828-HSC-fresh-151027-74 & singles-BM0828-HSC-fresh-151027-76 & singles-BM0828-HSC-fresh-151027-79 & singles-BM0828-HSC-fresh-151027-80 & singles-BM0828-HSC-fresh-151027-81 & singles-BM0828-HSC-fresh-151027-82 & singles-BM0828-HSC-fresh-151027-83 & singles-BM0828-HSC-fresh-151027-85 & singles-BM0828-HSC-fresh-151027-86 & singles-BM0828-HSC-fresh-151027-87 & singles-BM0828-HSC-fresh-151027-88 & singles-BM0828-HSC-fresh-151027-89 & singles-BM0828-HSC-fresh-151027-90 & singles-BM0828-HSC-fresh-151027-92 & singles-BM0828-HSC-fresh-151027-95 & singles-BM0828-HSC-fresh-151027-96 & singles-BM0828-HSC-frozen-151027-15 & singles-BM0828-HSC-frozen-151027-2 & singles-BM0828-HSC-frozen-151027-20 & singles-BM0828-HSC-frozen-151027-31 & singles-BM0828-HSC-frozen-151027-36 & singles-BM0828-HSC-frozen-151027-37 & singles-BM0828-HSC-frozen-151027-38 & singles-BM0828-HSC-frozen-151027-39 & singles-BM0828-HSC-frozen-151027-43 & singles-BM0828-HSC-frozen-151027-44 & singles-BM0828-HSC-frozen-151027-45 & singles-BM0828-HSC-frozen-151027-47 & singles-BM0828-HSC-frozen-151027-48 & singles-BM0828-HSC-frozen-151027-49 & singles-BM0828-HSC-frozen-151027-50 & singles-BM0828-HSC-frozen-151027-51 & singles-BM0828-HSC-frozen-151027-52 & singles-BM0828-HSC-frozen-151027-53 & singles-BM0828-HSC-frozen-151027-54 & singles-BM0828-HSC-frozen-151027-56 & singles-BM0828-HSC-frozen-151027-57 & singles-BM0828-HSC-frozen-151027-58 & singles-BM0828-HSC-frozen-151027-59 & singles-BM0828-HSC-frozen-151027-60 & singles-BM0828-HSC-frozen-151027-61 & singles-BM0828-HSC-frozen-151027-62 & singles-BM0828-HSC-frozen-151027-64 & singles-BM0828-HSC-frozen-151027-65 & singles-BM0828-HSC-frozen-151027-66 & singles-BM0828-HSC-frozen-151027-67 & singles-BM0828-HSC-frozen-151027-69 & singles-BM0828-HSC-frozen-151027-70 & singles-BM0828-HSC-frozen-151027-71 & singles-BM0828-HSC-frozen-151027-72 & singles-BM0828-HSC-frozen-151027-74 & singles-BM0828-HSC-frozen-151027-76 & singles-BM0828-HSC-frozen-151027-77 & singles-BM0828-HSC-frozen-151027-81 & singles-BM0828-HSC-frozen-151027-82 & singles-BM0828-HSC-frozen-151027-83 & singles-BM0828-HSC-frozen-151027-84 & singles-BM0828-HSC-frozen-151027-85 & singles-BM0828-HSC-frozen-151027-87 & singles-BM0828-HSC-frozen-151027-89 & singles-BM0828-HSC-frozen-151027-90 & singles-BM0828-HSC-frozen-151027-91 & singles-BM0828-HSC-frozen-151027-92 & singles-BM0828-HSC-frozen-151027-95 & singles-BM0828-HSC-frozen-151027-96 & singles-BM0828-LMPP-frozen-151105-1 & singles-BM0828-LMPP-frozen-151105-10 & singles-BM0828-LMPP-frozen-151105-11 & singles-BM0828-LMPP-frozen-151105-12 & singles-BM0828-LMPP-frozen-151105-13 & singles-BM0828-LMPP-frozen-151105-14 & singles-BM0828-LMPP-frozen-151105-15 & singles-BM0828-LMPP-frozen-151105-16 & singles-BM0828-LMPP-frozen-151105-17 & singles-BM0828-LMPP-frozen-151105-18 & singles-BM0828-LMPP-frozen-151105-19 & singles-BM0828-LMPP-frozen-151105-2 & singles-BM0828-LMPP-frozen-151105-20 & singles-BM0828-LMPP-frozen-151105-21 & singles-BM0828-LMPP-frozen-151105-22 & singles-BM0828-LMPP-frozen-151105-23 & singles-BM0828-LMPP-frozen-151105-24 & singles-BM0828-LMPP-frozen-151105-25 & singles-BM0828-LMPP-frozen-151105-26 & singles-BM0828-LMPP-frozen-151105-27 & singles-BM0828-LMPP-frozen-151105-29 & singles-BM0828-LMPP-frozen-151105-3 & singles-BM0828-LMPP-frozen-151105-30 & singles-BM0828-LMPP-frozen-151105-31 & singles-BM0828-LMPP-frozen-151105-33 & singles-BM0828-LMPP-frozen-151105-34 & singles-BM0828-LMPP-frozen-151105-35 & singles-BM0828-LMPP-frozen-151105-36 & singles-BM0828-LMPP-frozen-151105-37 & singles-BM0828-LMPP-frozen-151105-38 & singles-BM0828-LMPP-frozen-151105-39 & singles-BM0828-LMPP-frozen-151105-4 & singles-BM0828-LMPP-frozen-151105-40 & singles-BM0828-LMPP-frozen-151105-41 & singles-BM0828-LMPP-frozen-151105-42 & singles-BM0828-LMPP-frozen-151105-43 & singles-BM0828-LMPP-frozen-151105-44 & singles-BM0828-LMPP-frozen-151105-45 & singles-BM0828-LMPP-frozen-151105-47 & singles-BM0828-LMPP-frozen-151105-48 & singles-BM0828-LMPP-frozen-151105-49 & singles-BM0828-LMPP-frozen-151105-5 & singles-BM0828-LMPP-frozen-151105-50 & singles-BM0828-LMPP-frozen-151105-52 & singles-BM0828-LMPP-frozen-151105-53 & singles-BM0828-LMPP-frozen-151105-55 & singles-BM0828-LMPP-frozen-151105-56 & singles-BM0828-LMPP-frozen-151105-57 & singles-BM0828-LMPP-frozen-151105-58 & singles-BM0828-LMPP-frozen-151105-59 & singles-BM0828-LMPP-frozen-151105-6 & singles-BM0828-LMPP-frozen-151105-60 & singles-BM0828-LMPP-frozen-151105-61 & singles-BM0828-LMPP-frozen-151105-62 & singles-BM0828-LMPP-frozen-151105-63 & singles-BM0828-LMPP-frozen-151105-64 & singles-BM0828-LMPP-frozen-151105-65 & singles-BM0828-LMPP-frozen-151105-66 & singles-BM0828-LMPP-frozen-151105-67 & singles-BM0828-LMPP-frozen-151105-69 & singles-BM0828-LMPP-frozen-151105-7 & singles-BM0828-LMPP-frozen-151105-70 & singles-BM0828-LMPP-frozen-151105-71 & singles-BM0828-LMPP-frozen-151105-72 & singles-BM0828-LMPP-frozen-151105-73 & singles-BM0828-LMPP-frozen-151105-74 & singles-BM0828-LMPP-frozen-151105-75 & singles-BM0828-LMPP-frozen-151105-76 & singles-BM0828-LMPP-frozen-151105-77 & singles-BM0828-LMPP-frozen-151105-78 & singles-BM0828-LMPP-frozen-151105-79 & singles-BM0828-LMPP-frozen-151105-8 & singles-BM0828-LMPP-frozen-151105-80 & singles-BM0828-LMPP-frozen-151105-81 & singles-BM0828-LMPP-frozen-151105-82 & singles-BM0828-LMPP-frozen-151105-83 & singles-BM0828-LMPP-frozen-151105-84 & singles-BM0828-LMPP-frozen-151105-85 & singles-BM0828-LMPP-frozen-151105-86 & singles-BM0828-LMPP-frozen-151105-87 & singles-BM0828-LMPP-frozen-151105-88 & singles-BM0828-LMPP-frozen-151105-89 & singles-BM0828-LMPP-frozen-151105-90 & singles-BM0828-LMPP-frozen-151105-91 & singles-BM0828-LMPP-frozen-151105-92 & singles-BM0828-LMPP-frozen-151105-95 & singles-BM0828-LMPP-frozen-151105-96 & singles-BM0828-MEP-160420-1 & singles-BM0828-MEP-160420-12 & singles-BM0828-MEP-160420-15 & singles-BM0828-MEP-160420-18 & singles-BM0828-MEP-160420-21 & singles-BM0828-MEP-160420-22 & singles-BM0828-MEP-160420-23 & singles-BM0828-MEP-160420-24 & singles-BM0828-MEP-160420-25 & singles-BM0828-MEP-160420-28 & singles-BM0828-MEP-160420-30 & singles-BM0828-MEP-160420-34 & singles-BM0828-MEP-160420-36 & singles-BM0828-MEP-160420-39 & singles-BM0828-MEP-160420-4 & singles-BM0828-MEP-160420-41 & singles-BM0828-MEP-160420-42 & singles-BM0828-MEP-160420-43 & singles-BM0828-MEP-160420-44 & singles-BM0828-MEP-160420-45 & singles-BM0828-MEP-160420-48 & singles-BM0828-MEP-160420-49 & singles-BM0828-MEP-160420-50 & singles-BM0828-MEP-160420-51 & singles-BM0828-MEP-160420-52 & singles-BM0828-MEP-160420-53 & singles-BM0828-MEP-160420-54 & singles-BM0828-MEP-160420-56 & singles-BM0828-MEP-160420-57 & singles-BM0828-MEP-160420-59 & singles-BM0828-MEP-160420-6 & singles-BM0828-MEP-160420-62 & singles-BM0828-MEP-160420-64 & singles-BM0828-MEP-160420-65 & singles-BM0828-MEP-160420-66 & singles-BM0828-MEP-160420-67 & singles-BM0828-MEP-160420-69 & singles-BM0828-MEP-160420-70 & singles-BM0828-MEP-160420-71 & singles-BM0828-MEP-160420-72 & singles-BM0828-MEP-160420-73 & singles-BM0828-MEP-160420-74 & singles-BM0828-MEP-160420-76 & singles-BM0828-MEP-160420-77 & singles-BM0828-MEP-160420-79 & singles-BM0828-MEP-160420-80 & singles-BM0828-MEP-160420-81 & singles-BM0828-MEP-160420-83 & singles-BM0828-MEP-160420-84 & singles-BM0828-MEP-160420-85 & singles-BM0828-MEP-160420-86 & singles-BM0828-MEP-160420-87 & singles-BM0828-MEP-160420-89 & singles-BM0828-MEP-160420-90 & singles-BM0828-MEP-160420-91 & singles-BM0828-MEP-160420-93 & singles-BM0828-MEP-160420-95 & singles-BM0828-MPP-frozen-151103-10 & singles-BM0828-MPP-frozen-151103-16 & singles-BM0828-MPP-frozen-151103-17 & singles-BM0828-MPP-frozen-151103-18 & singles-BM0828-MPP-frozen-151103-19 & singles-BM0828-MPP-frozen-151103-2 & singles-BM0828-MPP-frozen-151103-23 & singles-BM0828-MPP-frozen-151103-24 & singles-BM0828-MPP-frozen-151103-25 & singles-BM0828-MPP-frozen-151103-26 & singles-BM0828-MPP-frozen-151103-27 & singles-BM0828-MPP-frozen-151103-28 & singles-BM0828-MPP-frozen-151103-3 & singles-BM0828-MPP-frozen-151103-30 & singles-BM0828-MPP-frozen-151103-31 & singles-BM0828-MPP-frozen-151103-32 & singles-BM0828-MPP-frozen-151103-35 & singles-BM0828-MPP-frozen-151103-36 & singles-BM0828-MPP-frozen-151103-37 & singles-BM0828-MPP-frozen-151103-38 & singles-BM0828-MPP-frozen-151103-4 & singles-BM0828-MPP-frozen-151103-40 & singles-BM0828-MPP-frozen-151103-41 & singles-BM0828-MPP-frozen-151103-42 & singles-BM0828-MPP-frozen-151103-43 & singles-BM0828-MPP-frozen-151103-44 & singles-BM0828-MPP-frozen-151103-47 & singles-BM0828-MPP-frozen-151103-48 & singles-BM0828-MPP-frozen-151103-49 & singles-BM0828-MPP-frozen-151103-5 & singles-BM0828-MPP-frozen-151103-50 & singles-BM0828-MPP-frozen-151103-51 & singles-BM0828-MPP-frozen-151103-52 & singles-BM0828-MPP-frozen-151103-53 & singles-BM0828-MPP-frozen-151103-54 & singles-BM0828-MPP-frozen-151103-55 & singles-BM0828-MPP-frozen-151103-56 & singles-BM0828-MPP-frozen-151103-57 & singles-BM0828-MPP-frozen-151103-59 & singles-BM0828-MPP-frozen-151103-6 & singles-BM0828-MPP-frozen-151103-64 & singles-BM0828-MPP-frozen-151103-65 & singles-BM0828-MPP-frozen-151103-66 & singles-BM0828-MPP-frozen-151103-67 & singles-BM0828-MPP-frozen-151103-68 & singles-BM0828-MPP-frozen-151103-69 & singles-BM0828-MPP-frozen-151103-71 & singles-BM0828-MPP-frozen-151103-73 & singles-BM0828-MPP-frozen-151103-75 & singles-BM0828-MPP-frozen-151103-78 & singles-BM0828-MPP-frozen-151103-8 & singles-BM0828-MPP-frozen-151103-80 & singles-BM0828-MPP-frozen-151103-83 & singles-BM0828-MPP-frozen-151103-84 & singles-BM0828-MPP-frozen-151103-85 & singles-BM0828-MPP-frozen-151103-88 & singles-BM0828-MPP-frozen-151103-9 & singles-BM0828-MPP-frozen-151103-90 & singles-BM0828-MPP-frozen-151103-91 & singles-BM0828-MPP-frozen-151103-92 & singles-BM0828-MPP-frozen-151103-93 & singles-BM0828-MPP-frozen-151103-96 & singles-BM1214-GMP-160421-1 & singles-BM1214-GMP-160421-10 & singles-BM1214-GMP-160421-11 & singles-BM1214-GMP-160421-12 & singles-BM1214-GMP-160421-13 & singles-BM1214-GMP-160421-14 & singles-BM1214-GMP-160421-15 & singles-BM1214-GMP-160421-16 & singles-BM1214-GMP-160421-17 & singles-BM1214-GMP-160421-18 & singles-BM1214-GMP-160421-19 & singles-BM1214-GMP-160421-2 & singles-BM1214-GMP-160421-20 & singles-BM1214-GMP-160421-21 & singles-BM1214-GMP-160421-22 & singles-BM1214-GMP-160421-23 & singles-BM1214-GMP-160421-24 & singles-BM1214-GMP-160421-25 & singles-BM1214-GMP-160421-26 & singles-BM1214-GMP-160421-27 & singles-BM1214-GMP-160421-28 & singles-BM1214-GMP-160421-29 & singles-BM1214-GMP-160421-3 & singles-BM1214-GMP-160421-30 & singles-BM1214-GMP-160421-31 & singles-BM1214-GMP-160421-32 & singles-BM1214-GMP-160421-33 & singles-BM1214-GMP-160421-35 & singles-BM1214-GMP-160421-36 & singles-BM1214-GMP-160421-37 & singles-BM1214-GMP-160421-39 & singles-BM1214-GMP-160421-40 & singles-BM1214-GMP-160421-41 & singles-BM1214-GMP-160421-42 & singles-BM1214-GMP-160421-43 & singles-BM1214-GMP-160421-44 & singles-BM1214-GMP-160421-45 & singles-BM1214-GMP-160421-46 & singles-BM1214-GMP-160421-47 & singles-BM1214-GMP-160421-48 & singles-BM1214-GMP-160421-49 & singles-BM1214-GMP-160421-5 & singles-BM1214-GMP-160421-50 & singles-BM1214-GMP-160421-52 & singles-BM1214-GMP-160421-54 & singles-BM1214-GMP-160421-56 & singles-BM1214-GMP-160421-57 & singles-BM1214-GMP-160421-58 & singles-BM1214-GMP-160421-59 & singles-BM1214-GMP-160421-6 & singles-BM1214-GMP-160421-60 & singles-BM1214-GMP-160421-61 & singles-BM1214-GMP-160421-62 & singles-BM1214-GMP-160421-63 & singles-BM1214-GMP-160421-64 & singles-BM1214-GMP-160421-65 & singles-BM1214-GMP-160421-66 & singles-BM1214-GMP-160421-67 & singles-BM1214-GMP-160421-68 & singles-BM1214-GMP-160421-69 & singles-BM1214-GMP-160421-7 & singles-BM1214-GMP-160421-70 & singles-BM1214-GMP-160421-71 & singles-BM1214-GMP-160421-72 & singles-BM1214-GMP-160421-73 & singles-BM1214-GMP-160421-74 & singles-BM1214-GMP-160421-75 & singles-BM1214-GMP-160421-76 & singles-BM1214-GMP-160421-77 & singles-BM1214-GMP-160421-78 & singles-BM1214-GMP-160421-79 & singles-BM1214-GMP-160421-8 & singles-BM1214-GMP-160421-80 & singles-BM1214-GMP-160421-81 & singles-BM1214-GMP-160421-82 & singles-BM1214-GMP-160421-83 & singles-BM1214-GMP-160421-84 & singles-BM1214-GMP-160421-85 & singles-BM1214-GMP-160421-86 & singles-BM1214-GMP-160421-87 & singles-BM1214-GMP-160421-88 & singles-BM1214-GMP-160421-89 & singles-BM1214-GMP-160421-9 & singles-BM1214-GMP-160421-90 & singles-BM1214-GMP-160421-91 & singles-BM1214-GMP-160421-93 & singles-BM1214-GMP-160421-94 & singles-BM1214-GMP-160421-96 & singles-BM1214-MCP-frozen-160128-1 & singles-BM1214-MCP-frozen-160128-10 & singles-BM1214-MCP-frozen-160128-12 & singles-BM1214-MCP-frozen-160128-13 & singles-BM1214-MCP-frozen-160128-14 & singles-BM1214-MCP-frozen-160128-15 & singles-BM1214-MCP-frozen-160128-16 & singles-BM1214-MCP-frozen-160128-17 & singles-BM1214-MCP-frozen-160128-19 & singles-BM1214-MCP-frozen-160128-2 & singles-BM1214-MCP-frozen-160128-20 & singles-BM1214-MCP-frozen-160128-21 & singles-BM1214-MCP-frozen-160128-23 & singles-BM1214-MCP-frozen-160128-24 & singles-BM1214-MCP-frozen-160128-25 & singles-BM1214-MCP-frozen-160128-26 & singles-BM1214-MCP-frozen-160128-27 & singles-BM1214-MCP-frozen-160128-28 & singles-BM1214-MCP-frozen-160128-3 & singles-BM1214-MCP-frozen-160128-30 & singles-BM1214-MCP-frozen-160128-32 & singles-BM1214-MCP-frozen-160128-34 & singles-BM1214-MCP-frozen-160128-35 & singles-BM1214-MCP-frozen-160128-37 & singles-BM1214-MCP-frozen-160128-38 & singles-BM1214-MCP-frozen-160128-39 & singles-BM1214-MCP-frozen-160128-4 & singles-BM1214-MCP-frozen-160128-40 & singles-BM1214-MCP-frozen-160128-41 & singles-BM1214-MCP-frozen-160128-42 & singles-BM1214-MCP-frozen-160128-44 & singles-BM1214-MCP-frozen-160128-45 & singles-BM1214-MCP-frozen-160128-46 & singles-BM1214-MCP-frozen-160128-47 & singles-BM1214-MCP-frozen-160128-48 & singles-BM1214-MCP-frozen-160128-49 & singles-BM1214-MCP-frozen-160128-5 & singles-BM1214-MCP-frozen-160128-50 & singles-BM1214-MCP-frozen-160128-51 & singles-BM1214-MCP-frozen-160128-52 & singles-BM1214-MCP-frozen-160128-55 & singles-BM1214-MCP-frozen-160128-56 & singles-BM1214-MCP-frozen-160128-57 & singles-BM1214-MCP-frozen-160128-58 & singles-BM1214-MCP-frozen-160128-59 & singles-BM1214-MCP-frozen-160128-6 & singles-BM1214-MCP-frozen-160128-61 & singles-BM1214-MCP-frozen-160128-62 & singles-BM1214-MCP-frozen-160128-63 & singles-BM1214-MCP-frozen-160128-65 & singles-BM1214-MCP-frozen-160128-66 & singles-BM1214-MCP-frozen-160128-67 & singles-BM1214-MCP-frozen-160128-7 & singles-BM1214-MCP-frozen-160128-70 & singles-BM1214-MCP-frozen-160128-71 & singles-BM1214-MCP-frozen-160128-73 & singles-BM1214-MCP-frozen-160128-74 & singles-BM1214-MCP-frozen-160128-75 & singles-BM1214-MCP-frozen-160128-76 & singles-BM1214-MCP-frozen-160128-77 & singles-BM1214-MCP-frozen-160128-78 & singles-BM1214-MCP-frozen-160128-8 & singles-BM1214-MCP-frozen-160128-81 & singles-BM1214-MCP-frozen-160128-83 & singles-BM1214-MCP-frozen-160128-86 & singles-BM1214-MCP-frozen-160128-87 & singles-BM1214-MCP-frozen-160128-88 & singles-BM1214-MCP-frozen-160128-89 & singles-BM1214-MCP-frozen-160128-90 & singles-BM1214-MCP-frozen-160128-92 & singles-BM1214-MCP-frozen-160128-93 & singles-BM1214-MCP-frozen-160128-95 & singles-BM1214-MCP-frozen-160128-96 & singles-MEP-141017-12 & singles-MEP-141017-14 & singles-MEP-141017-19 & singles-MEP-141017-21 & singles-MEP-141017-22 & singles-MEP-141017-24 & singles-MEP-141017-30 & singles-MEP-141017-31 & singles-MEP-141017-34 & singles-MEP-141017-36 & singles-MEP-141017-38 & singles-MEP-141017-45 & singles-MEP-141017-5 & singles-MEP-141017-52 & singles-MEP-141017-60 & singles-MEP-141017-67 & singles-MEP-141017-68 & singles-MEP-141017-7 & singles-MEP-141017-70 & singles-MEP-141017-72 & singles-MEP-141017-73 & singles-MEP-141017-75 & singles-MEP-141017-86 & singles-MEP-141017-88 & singles-MEP-141017-9 & singles-MEP-141017-90 & singles-MEP-141017-95 & singles-PB1022-mono-160128-10 & singles-PB1022-mono-160128-11 & singles-PB1022-mono-160128-13 & singles-PB1022-mono-160128-14 & singles-PB1022-mono-160128-15 & singles-PB1022-mono-160128-18 & singles-PB1022-mono-160128-2 & singles-PB1022-mono-160128-20 & singles-PB1022-mono-160128-21 & singles-PB1022-mono-160128-22 & singles-PB1022-mono-160128-23 & singles-PB1022-mono-160128-24 & singles-PB1022-mono-160128-25 & singles-PB1022-mono-160128-28 & singles-PB1022-mono-160128-29 & singles-PB1022-mono-160128-30 & singles-PB1022-mono-160128-31 & singles-PB1022-mono-160128-33 & singles-PB1022-mono-160128-34 & singles-PB1022-mono-160128-35 & singles-PB1022-mono-160128-37 & singles-PB1022-mono-160128-38 & singles-PB1022-mono-160128-39 & singles-PB1022-mono-160128-43 & singles-PB1022-mono-160128-44 & singles-PB1022-mono-160128-46 & singles-PB1022-mono-160128-47 & singles-PB1022-mono-160128-48 & singles-PB1022-mono-160128-5 & singles-PB1022-mono-160128-50 & singles-PB1022-mono-160128-51 & singles-PB1022-mono-160128-52 & singles-PB1022-mono-160128-53 & singles-PB1022-mono-160128-54 & singles-PB1022-mono-160128-55 & singles-PB1022-mono-160128-56 & singles-PB1022-mono-160128-57 & singles-PB1022-mono-160128-58 & singles-PB1022-mono-160128-59 & singles-PB1022-mono-160128-6 & singles-PB1022-mono-160128-61 & singles-PB1022-mono-160128-62 & singles-PB1022-mono-160128-63 & singles-PB1022-mono-160128-64 & singles-PB1022-mono-160128-66 & singles-PB1022-mono-160128-68 & singles-PB1022-mono-160128-70 & singles-PB1022-mono-160128-72 & singles-PB1022-mono-160128-74 & singles-PB1022-mono-160128-75 & singles-PB1022-mono-160128-76 & singles-PB1022-mono-160128-78 & singles-PB1022-mono-160128-79 & singles-PB1022-mono-160128-8 & singles-PB1022-mono-160128-81 & singles-PB1022-mono-160128-82 & singles-PB1022-mono-160128-83 & singles-PB1022-mono-160128-84 & singles-PB1022-mono-160128-85 & singles-PB1022-mono-160128-86 & singles-PB1022-mono-160128-89 & singles-PB1022-mono-160128-90 & singles-PB1022-mono-160128-95 & singles-PB1022-mono-160128-96\\\\\n",
       "\\hline\n",
       "\tchr1\\_10413\\_10625 & 0 & 0 & 0 & 0 & 0 & 0 & 0 & 0 & 0 & 0 & 0 & 1 & 0 & 0 & 0 & 2 & 0 & 0 & 0 & 0 & 0 & 0 & 0 & 0 & 0 & 0 & 0 & 0 & 0 & 0 & 0 & 0 & 0 & 0 & 0 & 0 & 0 & 0 & 0 & 0 & 0 & 0 & 0 & 0 & 1 & 0 & 0 & 0 & 0 & 0 & 0 & 0 & 0 & 0 & 1 & 0 & 0 & 1 & 0 & 0 & 0 & 0 & 0 & 0 & 0 & 0 & 0 & 0 & 0 & 0 & 0 & 0 & 0 & 0 & 0 & 1 & 0 & 0 & 0 & 0 & 0 & 2 & 0 & 0 & 0 & 0 & 0 & 0 & 0 & 0 & 0 & 0 & 0 & 0 & 0 & 0 & 0 & 0 & 0 & 0 & 0 & 0 & 0 & 0 & 0 & 0 & 0 & 0 & 0 & 0 & 0 & 2 & 0 & 0 & 0 & 0 & 0 & 0 & 0 & 0 & 0 & 0 & 0 & 0 & 0 & 0 & 0 & 0 & 0 & 0 & 0 & 0 & 0 & 0 & 0 & 0 & 0 & 0 & 0 & 0 & 0 & 0 & 0 & 0 & 0 & 0 & 0 & 0 & 0 & 0 & 0 & 0 & 0 & 0 & 0 & 0 & 0 & 0 & 0 & 0 & 0 & 0 & 0 & 0 & 0 & 0 & 0 & 0 & 0 & 0 & 0 & 0 & 0 & 0 & 0 & 0 & 0 & 0 & 0 & 0 & 0 & 0 & 0 & 0 & 0 & 0 & 0 & 0 & 0 & 0 & 0 & 0 & 0 & 0 & 0 & 0 & 0 & 0 & 0 & 0 & 0 & 0 & 0 & 0 & 0 & 0 & 0 & 0 & 0 & 0 & 0 & 0 & 0 & 0 & 0 & 0 & 0 & 0 & 0 & 0 & 0 & 0 & 0 & 0 & 0 & 0 & 0 & 1 & 1 & 0 & 0 & 2 & 0 & 0 & 0 & 0 & 0 & 0 & 0 & 0 & 1 & 0 & 0 & 0 & 0 & 0 & 0 & 0 & 0 & 0 & 0 & 0 & 0 & 0 & 0 & 0 & 0 & 0 & 0 & 0 & 0 & 0 & 0 & 0 & 0 & 0 & 0 & 0 & 1 & 0 & 0 & 0 & 0 & 0 & 0 & 0 & 0 & 0 & 0 & 1 & 0 & 0 & 0 & 0 & 0 & 0 & 0 & 0 & 0 & 0 & 0 & 0 & 0 & 0 & 0 & 0 & 0 & 0 & 0 & 0 & 0 & 7 & 0 & 0 & 0 & 0 & 0 & 0 & 0 & 0 & 0 & 0 & 0 & 0 & 0 & 0 & 0 & 0 & 0 & 0 & 0 & 0 & 0 & 0 & 0 & 0 & 0 & 0 & 0 & 0 & 0 & 0 & 0 & 0 & 0 & 0 & 0 & 0 & 0 & 0 & 0 & 0 & 0 & 0 & 0 & 0 & 0 & 0 & 0 & 0 & 0 & 2 & 0 & 0 & 0 & 0 & 0 & 0 & 0 & 0 & 0 & 0 & 0 & 0 & 2 & 0 & 0 & 0 & 0 & 0 & 0 & 0 & 0 & 0 & 0 & 0 & 0 & 0 & 0 & 0 & 0 & 0 & 1 & 0 & 0 & 0 & 0 & 0 & 2 & 0 & 0 & 0 & 0 & 0 & 0 & 0 & 0 & 0 & 0 & 0 & 0 & 0 & 0 & 0 & 0 & 0 & 1 & 0 & 0 & 0 & 0 & 0 & 0 & 0 & 0 & 0 & 0 & 0 & 0 & 0 & 0 & 0 & 0 & 0 & 0 & 0 & 0 & 0 & 0 & 0 & 0 & 0 & 0 & 0 & 0 & 0 & 0 & 0 & 0 & 0 & 0 & 0 & 0 & 0 & 0 & 0 & 0 & 0 & 0 & 0 & 0 & 0 & 0 & 0 & 0 & 0 & 0 & 0 & 0 & 1 & 0 & 1 & 0 & 0 & 0 & 0 & 0 & 0 & 0 & 0 & 1 & 0 & 0 & 0 & 1 & 2 & 2 & 0 & 0 & 0 & 0 & 0 & 0 & 0 & 0 & 0 & 0 & 0 & 0 & 2 & 1 & 0 & 0 & 0 & 0 & 0 & 2 & 0 & 0 & 0 & 0 & 0 & 0 & 0 & 2 & 0 & 0 & 0 & 0 & 0 & 1 & 0 & 0 & 0 & 0 & 0 & 0 & 0 & 0 & 1 & 0 & 0 & 0 & 3 & 1 & 0 & 0 & 0 & 0 & 0 & 0 & 0 & 1 & 0 & 0 & 1 & 0 & 0 & 0 & 0 & 0 & 1 & 0 & 0 & 0 & 0 & 0 & 0 & 0 & 0 & 0 & 0 & 1 & 0 & 0 & 0 & 0 & 1 & 0 & 0 & 0 & 0 & 0 & 0 & 1 & 1 & 0 & 0 & 0 & 0 & 0 & 0 & 1 & 1 & 0 & 0 & 0 & 0 & 0 & 3 & 0 & 0 & 0 & 0 & 0 & 0 & 0 & 0 & 0 & 1 & 0 & 0 & 0 & 0 & 0 & 0 & 2 & 0 & 0 & 0 & 0 & 0 & 1 & 1 & 1 & 1 & 2 & 0 & 0 & 1 & 1 & 1 & 0 & 0 & 0 & 1 & 0 & 0 & 0 & 1 & 0 & 0 & 0 & 0 & 0 & 0 & 0 & 0 & 0 & 0 & 0 & 2 & 0 & 3 & 0 & 0 & 0 & 1 & 0 & 0 & 0 & 0 & 0 & 0 & 1 & 1 & 0 & 0 & 0 & 0 & 0 & 0 & 0 & 0 & 0 & 0 & 0 & 0 & 0 & 0 & 0 & 0 & 0 & 0 & 0 & 0 & 0 & 0 & 0 & 0 & 0 & 0 & 0 & 0 & 0 & 0 & 0 & 0 & 0 & 0 & 0 & 0 & 0 & 0 & 0 & 0 & 0 & 0 & 1 & 0 & 0 & 0 & 0 & 0 & 0 & 0 & 0 & 0 & 1 & 0 & 0 & 0 & 0 & 1 & 0 & 0 & 0 & 0 & 0 & 1 & 0 & 0 & 0 & 0 & 2 & 0 & 4 & 0 & 0 & 0 & 1 & 0 & 0 & 0 & 0 & 0 & 0 & 0 & 0 & 0 & 0 & 0 & 1 & 0 & 0 & 0 & 0 & 0 & 0 & 0 & 0 & 0 & 0 & 1 & 0 & 0 & 0 & 0 & 0 & 0 & 0 & 1 & 0 & 0 & 5 & 0 & 0 & 0 & 0 & 0 & 0 & 0 & 0 & 0 & 0 & 0 & 0 & 0 & 0 & 0 & 1 & 0 & 0 & 0 & 0 & 0 & 0 & 0 & 0 & 0 & 0 & 0 & 0 & 0 & 0 & 0 & 0 & 0 & 0 & 0 & 0 & 0 & 0 & 0 & 0 & 0 & 0 & 0 & 0 & 0 & 0 & 0 & 0 & 0 & 0 & 0 & 0 & 0 & 0 & 0 & 0 & 0 & 0 & 0 & 0 & 0 & 0 & 0 & 0 & 0 & 0 & 0 & 0 & 0 & 0 & 0 & 0 & 0 & 0 & 0 & 0 & 0 & 0 & 0 & 0 & 0 & 0 & 0 & 0 & 0 & 0 & 0 & 0 & 0 & 0 & 0 & 0 & 0 & 0 & 0 & 0 & 0 & 0 & 0 & 0 & 0 & 0 & 0 & 0 & 0 & 0 & 0 & 0 & 0 & 0 & 0 & 0 & 0 & 0 & 0 & 0 & 0 & 0 & 0 & 0 & 0 & 0 & 0 & 0 & 0 & 0 & 0 & 0 & 0 & 0 & 0 & 0 & 0 & 0 & 0 & 0 & 0 & 0 & 0 & 0 & 0 & 0 & 0 & 0 & 0 & 0 & 0 & 0 & 0 & 0 & 0 & 0 & 0 & 0 & 0 & 0 & 0 & 0 & 0 & 0 & 0 & 0 & 0 & 0 & 0 & 0 & 0 & 0 & 0 & 0 & 0 & 1 & 0 & 0 & 0 & 0 & 0 & 0 & 0 & 0 & 1 & 0 & 0 & 0 & 0 & 0 & 0 & 0 & 0 & 1 & 0 & 0 & 0 & 0 & 0 & 0 & 0 & 0 & 0 & 0 & 0 & 0 & 0 & 0 & 0 & 0 & 2 & 0 & 0 & 0 & 0 & 0 & 0 & 0 & 0 & 0 & 0 & 0 & 0 & 0 & 0 & 0 & 0 & 0 & 0 & 2 & 0 & 0 & 0 & 0 & 0 & 0 & 0 & 0 & 0 & 0 & 0 & 0 & 0 & 0 & 0 & 0 & 0 & 0 & 0 & 0 & 0 & 0 & 1 & 1 & 0 & 1 & 1 & 1 & 0 & 1 & 0 & 0 & 0 & 0 & 0 & 0 & 0 & 0 & 0 & 0 & 0 & 0 & 0 & 1 & 0 & 0 & 1 & 2 & 0 & 0 & 0 & 0 & 0 & 0 & 0 & 0 & 0 & 0 & 3 & 1 & 0 & 1 & 0 & 0 & 0 & 0 & 0 & 0 & 0 & 0 & 0 & 0 & 0 & 0 & 2 & 0 & 0 & 0 & 0 & 0 & 0 & 1 & 0 & 0 & 0 & 0 & 0 & 0 & 0 & 0 & 0 & 0 & 0 & 0 & 0 & 0 & 0 & 0 & 0 & 0 & 0 & 0 & 0 & 0 & 0 & 0 & 0 & 0 & 0 & 0 & 0 & 0 & 0 & 0 & 0 & 0 & 0 & 0 & 0 & 0 & 0 & 0 & 0 & 0 & 0 & 0 & 0 & 0 & 0 & 0 & 0 & 0 & 0 & 0 & 0 & 0 & 0 & 0 & 0 & 0 & 0 & 0 & 0 & 0 & 0 & 0 & 0 & 0 & 0 & 0 & 0 & 0 & 0 & 0 & 0 & 0 & 0 & 0 & 0 & 0 & 0 & 0 & 0 & 0 & 0 & 0 & 0 & 0 & 0 & 0 & 0 & 0 & 0 & 0 & 0 & 0 & 0 & 0 & 0 & 0 & 0 & 0 & 0 & 0 & 0 & 1 & 0 & 1 & 0 & 0 & 0 & 0 & 0 & 0 & 0 & 0 & 0 & 0 & 0 & 0 & 0 & 0 & 0 & 2 & 0 & 0 & 0 & 0 & 0 & 0 & 0 & 0 & 0 & 0 & 0 & 0 & 0 & 0 & 0 & 0 & 1 & 1 & 0 & 0 & 0 & 2 & 0 & 0 & 0 & 0 & 2 & 0 & 0 & 0 & 0 & 0 & 0 & 0 & 0 & 0 & 1 & 1 & 0 & 1 & 1 & 0 & 0 & 3 & 0 & 0 & 0 & 0 & 2 & 1 & 0 & 0 & 0 & 0 & 1 & 0 & 0 & 5 & 1 & 1 & 1 & 1 & 2 & 0 & 0 & 0 & 0 & 0 & 0 & 0 & 0 & 0 & 0 & 0 & 1 & 0 & 0 & 0 & 1 & 0 & 0 & 0 & 0 & 0 & 0 & 0 & 0 & 0 & 0 & 0 & 0 & 0 & 0 & 0 & 0 & 0 & 1 & 0 & 0 & 0 & 0 & 0 & 0 & 0 & 0 & 0 & 0 & 0 & 1 & 0 & 0 & 0 & 0 & 0 & 0 & 3 & 1 & 0 & 0 & 0 & 0 & 0 & 0 & 0 & 0 & 0 & 2 & 0 & 0 & 0 & 0 & 0 & 0 & 0 & 0 & 0 & 0 & 0 & 0 & 0 & 0 & 0 & 0 & 0 & 0 & 0 & 0 & 0 & 0 & 0 & 0 & 0 & 0 & 0 & 0 & 3 & 0 & 0 & 0 & 0 & 0 & 0 & 0 & 0 & 0 & 0 & 0 & 2 & 0 & 0 & 0 & 0 & 0 & 0 & 0 & 0 & 0 & 0 & 0 & 0 & 0 & 0 & 0 & 0 & 0 & 0 & 0 & 0 & 0 & 0 & 0 & 0 & 0 & 1 & 0 & 0 & 0 & 0 & 0 & 0 & 0 & 0 & 0 & 1 & 0 & 0 & 0 & 0 & 0 & 0 & 0 & 0 & 0 & 0 & 0 & 0 & 0 & 0 & 0 & 0 & 0 & 0 & 0 & 0 & 0 & 0 & 0 & 0 & 0 & 0 & 0 & 0 & 0 & 0 & 0 & 0 & 0 & 0 & 0 & 0 & 0 & 1 & 0 & 0 & 0 & 0 & 0 & 0 & 0 & 0 & 0 & 0 & 0 & 0 & 0 & 0 & 0 & 0 & 0 & 0 & 0 & 0 & 0 & 0 & 0 & 0 & 0 & 0 & 0 & 0 & 0 & 0 & 0 & 0 & 0 & 0 & 0 & 0 & 0 & 0 & 0 & 0 & 0 & 0 & 0 & 0 & 0 & 0 & 0 & 0 & 0 & 0 & 0 & 0 & 0 & 0 & 1 & 0 & 0 & 0 & 0 & 0 & 0 & 0 & 0 & 1 & 0 & 0 & 0 & 1 & 0 & 0 & 0 & 0 & 0 & 0 & 0 & 0 & 0 & 0 & 0 & 0 & 0 & 0 & 0 & 0 & 0 & 0 & 0 & 0 & 0 & 0 & 0 & 0 & 0 & 0 & 0 & 0 & 0 & 0 & 0 & 0 & 0 & 0 & 0 & 0 & 0 & 0 & 0 & 0 & 0 & 0 & 0 & 0 & 0 & 0 & 0 & 2 & 0 & 0 & 0 & 0 & 0 & 0 & 0 & 0 & 0 & 0 & 0 & 0 & 0 & 0 & 0 & 0 & 0 & 0 & 0 & 0 & 0 & 0 & 0 & 1 & 0 & 0 & 0 & 0 & 0 & 0 & 0 & 0 & 0 & 0 & 0 & 1 & 0 & 0 & 0 & 0 & 0 & 0 & 0 & 0 & 0 & 0 & 0 & 0 & 0 & 0 & 0 & 0 & 0 & 0 & 0 & 0 & 0 & 0 & 0 & 0 & 0 & 0 & 0 & 0 & 0 & 0 & 0 & 0 & 0 & 0 & 0 & 0 & 0 & 0 & 0 & 0 & 0 & 0 & 0 & 0 & 0 & 4 & 2 & 0 & 0 & 0 & 0 & 0 & 1 & 0 & 0 & 0 & 0 & 1 & 0 & 0 & 0 & 0 & 0 & 0 & 0 & 0 & 1 & 0 & 0 & 0 & 0 & 0 & 0 & 0 & 0 & 0 & 0 & 0 & 0 & 0 & 0 & 0 & 0 & 0 & 1 & 0 & 1 & 1 & 0 & 0 & 0 & 0 & 0 & 1 & 0 & 1 & 2 & 0 & 4 & 0 & 0 & 0 & 0 & 0 & 2 & 1 & 2 & 0 & 1 & 0 & 0 & 0 & 0 & 0 & 0 & 2 & 1 & 3 & 0 & 0 & 0 & 0 & 0 & 0 & 0 & 0 & 0 & 0 & 0 & 0 & 0 & 1 & 0 & 2 & 0 & 0 & 0 & 0 & 0 & 0 & 0 & 0 & 0 & 0 & 0 & 0 & 0 & 0 & 0 & 0 & 0 & 0 & 0 & 0 & 0 & 0 & 0 & 0 & 0 & 0 & 0 & 0 & 0 & 0 & 0 & 0 & 0 & 0 & 0 & 0 & 0 & 0 & 0 & 0 & 0 & 0 & 0 & 0 & 0 & 0 & 0 & 0 & 0 & 0 & 0 & 0 & 0 & 0 & 0 & 0 & 0 & 0 & 0 & 0 & 0 & 0 & 0 & 0 & 0 & 0 & 0 & 0 & 0 & 0 & 0 & 0 & 0 & 0 & 0 & 0 & 0 & 0 & 0 & 0 & 0 & 2 & 0 & 2 & 0 & 0 & 2 & 0 & 0 & 0 & 0 & 1 & 0 & 0 & 0 & 0 & 1 & 0 & 0 & 1 & 4 & 0 & 0 & 0 & 0 & 0 & 0 & 0 & 0 & 0 & 0 & 0 & 0 & 0 & 0 & 0 & 0 & 0 & 2 & 0 & 0 & 0 & 0 & 0 & 0 & 0 & 0 & 0 & 0 & 1 & 0 & 0 & 0 & 1 & 0 & 0 & 1 & 0 & 0 & 0 & 0 & 0 & 0 & 0 & 0 & 0 & 0 & 0 & 1 & 0 & 0 & 0 & 0 & 2 & 0 & 2 & 0 & 0 & 0 & 0 & 0 & 0 & 2 & 0 & 0 & 0 & 0 & 0 & 0 & 0 & 0 & 0 & 0 & 0 & 1 & 0 & 0 & 0 & 0 & 0 & 0 & 0 & 0 & 0 & 0 & 0 & 0 & 0 & 0 & 0 & 0 & 0 & 0 & 0 & 0 & 0 & 0 & 0 & 0 & 0 & 0 & 0 & 0 & 0 & 0 & 2 & 0 & 0 & 0 & 0 & 0 & 0 & 0 & 0 & 0 & 0 & 0 & 0 & 0 & 1 & 0 & 0 & 1 & 0 & 0 & 0 & 0 & 1 & 0 & 0 & 0 & 0 & 0 & 0 & 0 & 0 & 0 & 0 & 0 & 0 & 0 & 0 & 2 & 0 & 0 & 0 & 0 & 0 & 0 & 0 & 0 & 0 & 0 & 0 & 0 & 0 & 1 & 0 & 0 & 1 & 0 & 0 & 0 & 0 & 0 & 0 & 0 & 0 & 1 & 0 & 2 & 0 & 0 & 0 & 0 & 0 & 0 & 0 & 0 & 2 & 0 & 0 & 0 & 0 & 0 & 0 & 0 & 1 & 0 & 0 & 1 & 1 & 0 & 0 & 0 & 0 & 0 & 2 & 0 & 0 & 0 & 0 & 0 & 0 & 0 & 0 & 0 & 0 & 1 & 0 & 1 & 0 & 0 & 0 & 0 & 0 & 0 & 0 & 0 & 0 & 0\\\\\n",
       "\tchr1\\_13380\\_13624 & 0 & 0 & 0 & 0 & 0 & 0 & 0 & 0 & 0 & 0 & 0 & 0 & 0 & 0 & 0 & 0 & 0 & 0 & 0 & 0 & 0 & 0 & 0 & 0 & 0 & 0 & 0 & 0 & 0 & 0 & 0 & 0 & 0 & 0 & 0 & 0 & 0 & 0 & 0 & 0 & 0 & 0 & 0 & 0 & 0 & 0 & 0 & 0 & 0 & 0 & 0 & 0 & 0 & 0 & 0 & 0 & 0 & 0 & 0 & 0 & 0 & 0 & 0 & 0 & 0 & 0 & 0 & 0 & 0 & 0 & 0 & 0 & 0 & 0 & 0 & 0 & 0 & 0 & 0 & 0 & 0 & 0 & 0 & 0 & 0 & 0 & 0 & 0 & 0 & 0 & 0 & 0 & 0 & 0 & 0 & 0 & 0 & 0 & 0 & 0 & 0 & 0 & 0 & 0 & 0 & 0 & 0 & 0 & 0 & 0 & 0 & 0 & 0 & 0 & 0 & 0 & 0 & 0 & 0 & 0 & 0 & 0 & 0 & 0 & 0 & 0 & 0 & 0 & 0 & 0 & 0 & 2 & 0 & 0 & 1 & 0 & 0 & 0 & 0 & 0 & 0 & 0 & 0 & 0 & 0 & 0 & 0 & 0 & 0 & 0 & 0 & 0 & 0 & 0 & 0 & 0 & 0 & 0 & 0 & 0 & 0 & 0 & 0 & 0 & 0 & 0 & 0 & 0 & 0 & 0 & 0 & 0 & 0 & 0 & 0 & 0 & 0 & 0 & 0 & 0 & 0 & 0 & 0 & 0 & 0 & 0 & 0 & 0 & 2 & 0 & 0 & 0 & 0 & 0 & 2 & 0 & 0 & 0 & 0 & 0 & 0 & 0 & 2 & 0 & 0 & 0 & 0 & 0 & 0 & 0 & 0 & 0 & 0 & 0 & 0 & 0 & 0 & 0 & 0 & 2 & 0 & 0 & 0 & 0 & 0 & 0 & 0 & 0 & 0 & 0 & 0 & 0 & 0 & 0 & 0 & 0 & 0 & 0 & 0 & 0 & 0 & 0 & 0 & 0 & 0 & 0 & 0 & 0 & 0 & 0 & 0 & 0 & 0 & 0 & 0 & 0 & 0 & 0 & 0 & 0 & 0 & 0 & 0 & 0 & 0 & 0 & 0 & 0 & 0 & 0 & 0 & 0 & 0 & 0 & 0 & 0 & 0 & 0 & 0 & 0 & 0 & 0 & 0 & 0 & 0 & 0 & 0 & 0 & 0 & 0 & 0 & 0 & 0 & 0 & 0 & 0 & 0 & 0 & 0 & 0 & 0 & 0 & 0 & 0 & 0 & 0 & 0 & 0 & 0 & 0 & 0 & 0 & 0 & 0 & 0 & 0 & 0 & 2 & 0 & 0 & 0 & 0 & 0 & 0 & 0 & 0 & 0 & 0 & 0 & 0 & 0 & 0 & 0 & 0 & 0 & 0 & 0 & 0 & 0 & 0 & 0 & 0 & 0 & 0 & 0 & 0 & 0 & 0 & 0 & 0 & 0 & 0 & 0 & 0 & 0 & 0 & 0 & 0 & 0 & 0 & 0 & 0 & 0 & 0 & 0 & 0 & 0 & 0 & 0 & 0 & 0 & 0 & 0 & 0 & 0 & 0 & 0 & 0 & 0 & 0 & 0 & 0 & 0 & 0 & 0 & 0 & 0 & 0 & 0 & 0 & 0 & 0 & 0 & 0 & 0 & 0 & 0 & 0 & 0 & 0 & 0 & 0 & 0 & 0 & 0 & 0 & 0 & 0 & 0 & 0 & 0 & 0 & 0 & 0 & 0 & 0 & 0 & 0 & 0 & 0 & 0 & 0 & 0 & 0 & 0 & 0 & 0 & 0 & 0 & 0 & 0 & 0 & 0 & 0 & 0 & 0 & 0 & 0 & 0 & 0 & 0 & 0 & 0 & 2 & 0 & 0 & 0 & 0 & 0 & 0 & 0 & 0 & 0 & 0 & 0 & 0 & 0 & 0 & 0 & 0 & 0 & 0 & 0 & 0 & 0 & 0 & 0 & 0 & 0 & 0 & 0 & 0 & 0 & 0 & 0 & 0 & 0 & 0 & 0 & 0 & 0 & 0 & 0 & 0 & 0 & 0 & 0 & 0 & 0 & 2 & 0 & 0 & 0 & 0 & 0 & 0 & 0 & 0 & 0 & 0 & 0 & 0 & 0 & 0 & 0 & 0 & 0 & 0 & 0 & 0 & 0 & 0 & 0 & 0 & 0 & 0 & 0 & 0 & 0 & 1 & 0 & 0 & 0 & 0 & 0 & 0 & 0 & 0 & 0 & 0 & 0 & 0 & 0 & 0 & 0 & 0 & 0 & 0 & 0 & 0 & 0 & 0 & 0 & 0 & 0 & 0 & 0 & 0 & 0 & 0 & 0 & 0 & 0 & 0 & 0 & 0 & 0 & 0 & 0 & 0 & 0 & 0 & 0 & 0 & 0 & 0 & 0 & 0 & 0 & 0 & 0 & 0 & 0 & 0 & 0 & 0 & 0 & 0 & 0 & 0 & 0 & 2 & 0 & 0 & 0 & 0 & 0 & 0 & 0 & 0 & 0 & 0 & 0 & 0 & 0 & 0 & 0 & 0 & 0 & 0 & 0 & 0 & 0 & 0 & 0 & 0 & 0 & 0 & 0 & 0 & 0 & 0 & 0 & 0 & 0 & 0 & 0 & 0 & 0 & 0 & 0 & 0 & 0 & 0 & 0 & 0 & 2 & 0 & 2 & 0 & 0 & 0 & 0 & 3 & 0 & 0 & 0 & 0 & 0 & 0 & 0 & 0 & 0 & 0 & 0 & 0 & 0 & 0 & 0 & 0 & 0 & 0 & 0 & 0 & 0 & 0 & 0 & 0 & 0 & 0 & 0 & 0 & 0 & 0 & 0 & 0 & 0 & 0 & 0 & 0 & 0 & 0 & 0 & 0 & 0 & 0 & 0 & 0 & 0 & 0 & 0 & 0 & 0 & 0 & 0 & 0 & 0 & 0 & 0 & 0 & 0 & 0 & 0 & 0 & 0 & 0 & 0 & 0 & 0 & 0 & 0 & 0 & 0 & 0 & 0 & 0 & 0 & 0 & 0 & 0 & 0 & 0 & 0 & 0 & 0 & 0 & 0 & 0 & 0 & 0 & 0 & 0 & 0 & 0 & 0 & 0 & 0 & 0 & 0 & 1 & 0 & 0 & 0 & 0 & 0 & 0 & 0 & 0 & 0 & 0 & 0 & 0 & 0 & 0 & 0 & 0 & 0 & 0 & 0 & 0 & 0 & 0 & 0 & 0 & 0 & 0 & 0 & 0 & 0 & 0 & 0 & 0 & 0 & 0 & 0 & 0 & 0 & 0 & 0 & 0 & 0 & 0 & 0 & 0 & 0 & 0 & 0 & 0 & 0 & 0 & 0 & 0 & 0 & 0 & 0 & 0 & 0 & 0 & 0 & 0 & 0 & 0 & 0 & 0 & 0 & 0 & 0 & 0 & 0 & 0 & 0 & 0 & 0 & 0 & 0 & 0 & 0 & 0 & 0 & 0 & 0 & 0 & 0 & 0 & 0 & 0 & 0 & 0 & 0 & 0 & 0 & 0 & 0 & 0 & 0 & 0 & 0 & 0 & 0 & 0 & 0 & 0 & 0 & 0 & 0 & 0 & 0 & 0 & 0 & 0 & 0 & 0 & 0 & 0 & 0 & 0 & 0 & 0 & 0 & 0 & 0 & 0 & 0 & 0 & 0 & 0 & 0 & 0 & 0 & 0 & 0 & 0 & 0 & 0 & 0 & 0 & 0 & 0 & 0 & 0 & 0 & 2 & 0 & 0 & 0 & 0 & 0 & 0 & 0 & 0 & 0 & 0 & 0 & 0 & 0 & 0 & 0 & 0 & 0 & 0 & 0 & 0 & 0 & 0 & 0 & 0 & 0 & 0 & 0 & 0 & 0 & 0 & 0 & 0 & 0 & 0 & 0 & 0 & 0 & 0 & 0 & 0 & 0 & 0 & 0 & 0 & 0 & 0 & 0 & 0 & 0 & 0 & 0 & 0 & 0 & 0 & 0 & 0 & 0 & 0 & 0 & 0 & 0 & 0 & 0 & 0 & 0 & 0 & 0 & 0 & 0 & 0 & 0 & 0 & 0 & 0 & 0 & 0 & 0 & 0 & 0 & 0 & 0 & 0 & 0 & 0 & 0 & 0 & 0 & 0 & 0 & 0 & 0 & 0 & 0 & 0 & 0 & 1 & 0 & 0 & 0 & 0 & 0 & 0 & 0 & 0 & 0 & 0 & 0 & 0 & 0 & 0 & 0 & 0 & 4 & 0 & 0 & 0 & 0 & 0 & 0 & 0 & 0 & 0 & 0 & 0 & 0 & 0 & 0 & 0 & 0 & 0 & 0 & 1 & 0 & 0 & 0 & 0 & 0 & 0 & 0 & 0 & 0 & 0 & 0 & 0 & 0 & 0 & 0 & 0 & 0 & 0 & 0 & 0 & 0 & 0 & 0 & 0 & 0 & 0 & 0 & 0 & 0 & 0 & 0 & 0 & 0 & 0 & 0 & 0 & 0 & 0 & 0 & 0 & 0 & 0 & 0 & 0 & 0 & 0 & 0 & 0 & 0 & 0 & 0 & 0 & 0 & 0 & 0 & 0 & 0 & 0 & 0 & 0 & 0 & 0 & 2 & 0 & 0 & 0 & 0 & 0 & 0 & 0 & 0 & 0 & 0 & 0 & 0 & 0 & 0 & 0 & 0 & 0 & 0 & 0 & 0 & 0 & 0 & 0 & 2 & 1 & 0 & 0 & 2 & 0 & 0 & 0 & 0 & 0 & 0 & 0 & 0 & 0 & 0 & 0 & 0 & 0 & 0 & 0 & 0 & 2 & 0 & 0 & 0 & 0 & 0 & 0 & 0 & 0 & 0 & 0 & 0 & 0 & 0 & 0 & 0 & 0 & 0 & 0 & 0 & 0 & 0 & 0 & 0 & 0 & 0 & 0 & 0 & 0 & 0 & 0 & 0 & 0 & 0 & 0 & 0 & 0 & 0 & 0 & 0 & 0 & 0 & 2 & 2 & 0 & 0 & 0 & 0 & 0 & 0 & 0 & 0 & 0 & 0 & 0 & 0 & 0 & 0 & 0 & 0 & 0 & 0 & 0 & 0 & 0 & 0 & 0 & 0 & 2 & 0 & 0 & 0 & 0 & 0 & 0 & 0 & 0 & 0 & 0 & 0 & 0 & 0 & 0 & 0 & 0 & 0 & 0 & 0 & 0 & 0 & 0 & 0 & 0 & 0 & 0 & 0 & 0 & 0 & 0 & 0 & 0 & 0 & 0 & 0 & 0 & 0 & 0 & 0 & 0 & 0 & 0 & 0 & 0 & 0 & 0 & 0 & 0 & 0 & 0 & 0 & 0 & 0 & 0 & 0 & 0 & 0 & 0 & 0 & 0 & 0 & 0 & 0 & 0 & 0 & 0 & 0 & 0 & 0 & 0 & 0 & 0 & 0 & 0 & 0 & 0 & 0 & 0 & 0 & 0 & 0 & 0 & 0 & 0 & 0 & 0 & 0 & 0 & 0 & 0 & 0 & 0 & 0 & 0 & 0 & 0 & 0 & 0 & 0 & 0 & 0 & 0 & 0 & 0 & 0 & 0 & 0 & 0 & 0 & 0 & 0 & 0 & 0 & 0 & 0 & 0 & 0 & 0 & 0 & 0 & 0 & 0 & 0 & 0 & 0 & 0 & 0 & 0 & 0 & 0 & 0 & 0 & 0 & 0 & 0 & 4 & 0 & 0 & 0 & 0 & 0 & 0 & 0 & 0 & 0 & 0 & 0 & 0 & 0 & 0 & 0 & 0 & 0 & 0 & 0 & 0 & 0 & 0 & 0 & 0 & 0 & 0 & 0 & 0 & 0 & 0 & 0 & 0 & 0 & 0 & 0 & 0 & 0 & 0 & 0 & 0 & 0 & 0 & 0 & 0 & 0 & 0 & 0 & 0 & 0 & 0 & 1 & 0 & 0 & 0 & 0 & 0 & 0 & 0 & 0 & 0 & 0 & 0 & 0 & 0 & 0 & 1 & 0 & 0 & 0 & 0 & 0 & 0 & 1 & 2 & 0 & 0 & 0 & 0 & 0 & 0 & 0 & 0 & 0 & 0 & 0 & 0 & 0 & 0 & 0 & 0 & 0 & 0 & 0 & 0 & 0 & 0 & 0 & 0 & 0 & 0 & 0 & 0 & 0 & 0 & 0 & 0 & 0 & 0 & 0 & 0 & 0 & 0 & 0 & 0 & 0 & 0 & 0 & 0 & 0 & 0 & 0 & 0 & 0 & 0 & 0 & 0 & 0 & 0 & 0 & 0 & 0 & 0 & 0 & 0 & 0 & 0 & 3 & 0 & 0 & 0 & 0 & 0 & 0 & 0 & 0 & 0 & 0 & 0 & 0 & 0 & 0 & 0 & 0 & 0 & 0 & 0 & 0 & 0 & 0 & 0 & 0 & 0 & 0 & 0 & 0 & 0 & 0 & 0 & 0 & 0 & 0 & 0 & 0 & 0 & 0 & 0 & 0 & 0 & 0 & 0 & 0 & 0 & 0 & 0 & 0 & 0 & 0 & 0 & 0 & 0 & 0 & 0 & 0 & 0 & 0 & 0 & 0 & 0 & 0 & 0 & 0 & 0 & 0 & 0 & 0 & 0 & 0 & 0 & 0 & 0 & 0 & 0 & 0 & 0 & 0 & 0 & 0 & 0 & 0 & 0 & 0 & 0 & 0 & 0 & 0 & 0 & 0 & 0 & 0 & 2 & 0 & 0 & 0 & 0 & 0 & 0 & 0 & 1 & 0 & 0 & 0 & 0 & 0 & 0 & 0 & 0 & 0 & 0 & 0 & 0 & 0 & 0 & 0 & 0 & 0 & 0 & 0 & 0 & 0 & 0 & 0 & 0 & 0 & 0 & 0 & 0 & 0 & 0 & 0 & 0 & 0 & 0 & 0 & 0 & 0 & 0 & 0 & 0 & 0 & 0 & 0 & 0 & 0 & 0 & 0 & 0 & 0 & 0 & 0 & 0 & 0 & 0 & 0 & 0 & 0 & 0 & 0 & 0 & 0 & 0 & 0 & 0 & 0 & 0 & 0 & 0 & 0 & 0 & 0 & 0 & 0 & 0 & 0 & 0 & 0 & 0 & 0 & 0 & 0 & 0 & 0 & 0 & 0 & 0 & 0 & 0 & 0 & 0 & 0 & 0 & 0 & 0 & 0 & 0 & 0 & 0 & 0 & 0 & 0 & 0 & 1 & 0 & 0 & 0 & 1 & 0 & 0 & 0 & 0 & 0 & 0 & 0 & 0 & 0 & 0 & 0 & 0 & 0 & 0 & 0 & 0 & 0 & 0 & 0 & 0 & 0 & 0 & 0 & 0 & 0 & 0 & 0 & 0 & 0 & 0 & 0 & 0 & 0 & 0 & 0 & 0 & 0 & 0 & 0 & 0 & 0 & 0 & 0 & 0 & 0 & 0 & 0 & 0 & 0 & 0 & 0 & 0 & 0 & 0 & 0 & 0 & 0 & 0 & 0 & 0 & 0 & 0 & 0 & 0 & 0 & 0 & 0 & 0 & 0 & 0 & 0 & 0 & 0 & 0 & 0 & 0 & 0 & 0 & 0 & 0 & 0 & 0 & 0 & 0 & 0 & 0 & 0 & 0 & 0 & 0 & 0 & 0 & 0 & 0 & 0 & 0 & 0 & 0 & 0 & 0 & 0 & 0 & 0 & 0 & 0 & 0 & 0 & 0 & 0 & 0 & 0 & 0 & 0 & 0 & 0 & 0 & 0 & 0 & 0 & 0 & 0 & 0 & 0 & 0 & 0 & 0 & 0 & 0 & 0 & 0 & 0 & 0 & 0 & 0 & 0 & 0 & 0 & 0 & 0 & 0 & 0 & 0 & 0 & 0 & 2 & 0 & 0 & 0 & 1 & 0 & 0 & 0 & 0 & 0 & 0 & 0 & 0 & 0 & 0 & 0 & 0 & 0 & 0 & 0 & 0 & 0 & 0 & 0 & 0 & 0 & 0 & 0 & 0 & 0 & 0 & 0 & 0 & 0 & 0 & 0 & 0 & 0 & 0 & 0 & 0 & 0 & 0 & 0 & 0 & 0 & 1 & 0 & 0 & 0 & 0 & 0 & 0 & 0 & 0 & 0 & 2 & 0 & 0 & 0 & 0 & 0 & 0 & 0 & 0 & 0 & 0 & 0 & 0 & 0 & 0 & 0 & 0 & 0 & 0 & 0 & 0 & 0 & 0 & 0 & 0 & 0 & 0 & 1 & 0 & 0 & 0 & 0 & 0 & 0 & 0 & 0 & 0 & 0 & 0 & 0 & 0 & 0 & 0 & 0 & 0 & 0 & 0 & 0 & 0 & 0 & 0 & 0 & 0 & 0 & 0 & 0 & 0 & 0 & 0 & 0 & 0 & 0 & 0 & 0 & 0 & 0 & 0 & 0 & 0 & 0 & 0 & 0 & 0 & 0 & 0 & 0 & 0 & 0 & 0 & 0 & 0 & 0 & 0 & 0 & 0 & 0 & 0 & 0 & 0 & 0 & 0 & 0 & 0 & 0 & 0 & 0 & 0 & 0 & 0 & 0 & 0 & 0 & 0 & 0 & 0 & 0 & 0 & 0 & 0 & 0 & 0 & 0 & 0 & 0 & 0 & 0 & 0 & 0 & 0 & 0 & 0 & 0 & 0 & 0 & 0 & 0 & 0 & 0 & 0 & 0 & 0 & 0 & 0 & 0 & 0 & 0 & 0 & 0 & 0 & 0 & 0 & 0 & 0 & 0 & 0 & 0 & 0 & 0 & 0 & 0 & 0 & 0 & 0 & 0 & 0 & 0 & 0 & 0 & 0 & 0 & 0 & 0 & 0 & 0 & 0 & 0 & 0 & 0 & 0 & 0 & 0 & 0 & 0\\\\\n",
       "\tchr1\\_16145\\_16354 & 0 & 0 & 0 & 0 & 0 & 0 & 0 & 0 & 0 & 0 & 0 & 0 & 0 & 0 & 0 & 0 & 0 & 0 & 0 & 0 & 0 & 0 & 0 & 0 & 0 & 0 & 0 & 0 & 0 & 0 & 0 & 0 & 0 & 0 & 0 & 0 & 0 & 0 & 0 & 0 & 0 & 0 & 0 & 0 & 2 & 0 & 0 & 0 & 0 & 0 & 0 & 0 & 0 & 0 & 0 & 0 & 0 & 0 & 0 & 0 & 0 & 0 & 0 & 0 & 0 & 0 & 0 & 0 & 0 & 0 & 0 & 0 & 0 & 0 & 0 & 0 & 0 & 0 & 0 & 0 & 0 & 0 & 0 & 0 & 0 & 0 & 0 & 0 & 0 & 0 & 0 & 0 & 0 & 0 & 0 & 0 & 0 & 0 & 0 & 0 & 0 & 0 & 0 & 0 & 0 & 0 & 0 & 0 & 0 & 0 & 0 & 0 & 0 & 0 & 0 & 0 & 0 & 0 & 0 & 0 & 0 & 0 & 0 & 0 & 0 & 0 & 0 & 0 & 0 & 0 & 0 & 0 & 0 & 0 & 0 & 0 & 0 & 0 & 0 & 0 & 0 & 0 & 0 & 0 & 0 & 0 & 0 & 0 & 0 & 0 & 0 & 0 & 0 & 0 & 0 & 0 & 0 & 0 & 0 & 0 & 0 & 0 & 0 & 0 & 0 & 0 & 0 & 0 & 0 & 0 & 0 & 0 & 0 & 0 & 0 & 0 & 0 & 0 & 0 & 0 & 0 & 0 & 0 & 0 & 0 & 0 & 0 & 0 & 0 & 0 & 0 & 0 & 0 & 2 & 0 & 0 & 0 & 0 & 0 & 0 & 0 & 0 & 0 & 0 & 0 & 0 & 0 & 0 & 0 & 0 & 0 & 0 & 0 & 0 & 0 & 0 & 0 & 0 & 0 & 0 & 0 & 0 & 0 & 0 & 0 & 0 & 0 & 0 & 0 & 0 & 0 & 0 & 0 & 0 & 0 & 0 & 0 & 0 & 0 & 0 & 0 & 0 & 0 & 0 & 0 & 0 & 0 & 0 & 0 & 0 & 0 & 0 & 0 & 0 & 0 & 0 & 0 & 0 & 0 & 0 & 0 & 0 & 0 & 0 & 0 & 0 & 0 & 0 & 0 & 0 & 0 & 0 & 0 & 0 & 0 & 0 & 0 & 0 & 0 & 0 & 0 & 1 & 0 & 0 & 0 & 0 & 0 & 0 & 0 & 0 & 0 & 0 & 0 & 0 & 0 & 0 & 0 & 0 & 0 & 0 & 0 & 0 & 0 & 0 & 0 & 0 & 0 & 0 & 0 & 0 & 0 & 0 & 0 & 0 & 0 & 0 & 0 & 0 & 0 & 0 & 0 & 0 & 0 & 0 & 0 & 0 & 0 & 0 & 0 & 0 & 0 & 0 & 0 & 0 & 0 & 0 & 0 & 0 & 0 & 0 & 0 & 0 & 0 & 0 & 0 & 0 & 0 & 0 & 0 & 0 & 0 & 0 & 0 & 0 & 0 & 0 & 0 & 0 & 0 & 0 & 0 & 0 & 0 & 1 & 2 & 0 & 0 & 0 & 0 & 0 & 0 & 0 & 0 & 0 & 0 & 0 & 0 & 0 & 0 & 0 & 0 & 0 & 0 & 0 & 0 & 0 & 0 & 0 & 0 & 0 & 0 & 0 & 0 & 0 & 0 & 0 & 0 & 0 & 0 & 0 & 0 & 0 & 0 & 0 & 0 & 0 & 0 & 0 & 0 & 0 & 0 & 0 & 0 & 0 & 0 & 0 & 0 & 0 & 0 & 0 & 0 & 0 & 0 & 0 & 0 & 0 & 0 & 0 & 0 & 0 & 0 & 0 & 0 & 0 & 0 & 0 & 0 & 0 & 0 & 0 & 0 & 0 & 0 & 0 & 0 & 0 & 0 & 0 & 0 & 0 & 0 & 0 & 0 & 0 & 0 & 0 & 0 & 0 & 0 & 0 & 0 & 2 & 0 & 0 & 0 & 0 & 0 & 0 & 0 & 0 & 0 & 0 & 0 & 0 & 0 & 0 & 0 & 0 & 0 & 0 & 0 & 0 & 0 & 0 & 0 & 0 & 2 & 0 & 0 & 0 & 0 & 0 & 0 & 0 & 0 & 0 & 0 & 0 & 0 & 0 & 0 & 0 & 0 & 0 & 0 & 0 & 0 & 0 & 0 & 0 & 0 & 0 & 0 & 0 & 0 & 0 & 0 & 0 & 0 & 0 & 0 & 0 & 2 & 0 & 1 & 0 & 0 & 0 & 0 & 0 & 0 & 0 & 0 & 0 & 0 & 0 & 0 & 0 & 0 & 0 & 0 & 0 & 1 & 0 & 0 & 0 & 0 & 0 & 0 & 0 & 0 & 0 & 0 & 0 & 0 & 0 & 0 & 0 & 0 & 0 & 0 & 0 & 0 & 0 & 0 & 0 & 0 & 0 & 0 & 0 & 0 & 0 & 4 & 0 & 0 & 0 & 0 & 0 & 0 & 0 & 0 & 0 & 0 & 0 & 0 & 0 & 0 & 0 & 0 & 0 & 0 & 0 & 0 & 2 & 0 & 0 & 0 & 0 & 0 & 0 & 0 & 0 & 0 & 0 & 0 & 0 & 0 & 0 & 0 & 1 & 0 & 0 & 0 & 0 & 0 & 0 & 2 & 2 & 0 & 0 & 0 & 0 & 0 & 0 & 0 & 0 & 0 & 0 & 0 & 0 & 0 & 2 & 2 & 0 & 0 & 0 & 0 & 0 & 2 & 2 & 0 & 0 & 0 & 0 & 0 & 0 & 0 & 0 & 0 & 0 & 0 & 0 & 0 & 0 & 0 & 0 & 0 & 0 & 0 & 0 & 0 & 0 & 0 & 0 & 0 & 0 & 0 & 0 & 0 & 0 & 0 & 0 & 0 & 0 & 0 & 0 & 1 & 0 & 0 & 0 & 0 & 0 & 0 & 0 & 0 & 0 & 0 & 0 & 2 & 0 & 0 & 0 & 0 & 0 & 0 & 0 & 0 & 0 & 0 & 0 & 0 & 0 & 0 & 0 & 0 & 0 & 0 & 0 & 0 & 0 & 0 & 0 & 0 & 0 & 2 & 0 & 0 & 0 & 0 & 0 & 0 & 2 & 0 & 0 & 0 & 0 & 0 & 0 & 0 & 0 & 0 & 0 & 0 & 0 & 0 & 0 & 0 & 0 & 0 & 0 & 0 & 0 & 0 & 0 & 0 & 0 & 0 & 0 & 0 & 0 & 0 & 0 & 0 & 0 & 0 & 0 & 0 & 0 & 0 & 0 & 0 & 0 & 0 & 0 & 0 & 0 & 0 & 0 & 0 & 0 & 2 & 0 & 0 & 0 & 0 & 0 & 0 & 0 & 0 & 0 & 0 & 0 & 0 & 0 & 0 & 0 & 0 & 0 & 0 & 0 & 0 & 0 & 0 & 0 & 0 & 0 & 0 & 0 & 0 & 0 & 0 & 0 & 0 & 0 & 0 & 0 & 0 & 0 & 0 & 0 & 0 & 0 & 0 & 0 & 0 & 0 & 0 & 0 & 0 & 0 & 0 & 0 & 0 & 0 & 0 & 0 & 0 & 0 & 0 & 0 & 0 & 0 & 0 & 0 & 0 & 0 & 0 & 0 & 0 & 0 & 0 & 0 & 0 & 0 & 0 & 0 & 0 & 0 & 0 & 0 & 0 & 0 & 0 & 0 & 0 & 0 & 0 & 0 & 0 & 0 & 0 & 0 & 0 & 0 & 0 & 0 & 0 & 0 & 0 & 0 & 0 & 0 & 0 & 0 & 0 & 0 & 0 & 0 & 0 & 0 & 0 & 0 & 0 & 0 & 0 & 0 & 0 & 0 & 0 & 0 & 0 & 0 & 0 & 0 & 0 & 0 & 0 & 0 & 0 & 0 & 0 & 0 & 0 & 0 & 0 & 0 & 0 & 0 & 0 & 0 & 0 & 0 & 0 & 0 & 0 & 0 & 0 & 0 & 0 & 0 & 0 & 0 & 0 & 0 & 0 & 0 & 0 & 0 & 0 & 0 & 0 & 0 & 0 & 0 & 0 & 0 & 0 & 0 & 0 & 0 & 0 & 0 & 0 & 0 & 0 & 0 & 0 & 0 & 0 & 0 & 0 & 0 & 0 & 0 & 0 & 0 & 0 & 0 & 0 & 0 & 0 & 0 & 0 & 0 & 0 & 0 & 0 & 0 & 0 & 0 & 2 & 0 & 0 & 0 & 0 & 0 & 0 & 0 & 0 & 0 & 0 & 0 & 0 & 0 & 0 & 0 & 0 & 0 & 0 & 0 & 0 & 0 & 0 & 0 & 0 & 0 & 0 & 0 & 0 & 0 & 0 & 0 & 0 & 0 & 0 & 0 & 0 & 0 & 0 & 0 & 0 & 0 & 0 & 0 & 0 & 0 & 0 & 0 & 0 & 0 & 0 & 0 & 0 & 0 & 0 & 0 & 0 & 0 & 0 & 0 & 0 & 0 & 0 & 0 & 0 & 0 & 0 & 0 & 0 & 2 & 0 & 0 & 0 & 0 & 0 & 2 & 0 & 0 & 0 & 0 & 0 & 0 & 0 & 0 & 0 & 0 & 0 & 0 & 0 & 0 & 0 & 0 & 0 & 0 & 0 & 0 & 0 & 0 & 0 & 0 & 0 & 0 & 0 & 0 & 0 & 0 & 0 & 0 & 0 & 0 & 0 & 0 & 0 & 0 & 0 & 0 & 0 & 0 & 0 & 0 & 0 & 0 & 0 & 0 & 0 & 0 & 0 & 0 & 0 & 0 & 0 & 0 & 0 & 0 & 0 & 0 & 0 & 0 & 0 & 0 & 0 & 0 & 0 & 0 & 0 & 0 & 0 & 0 & 0 & 0 & 0 & 0 & 0 & 0 & 0 & 0 & 0 & 0 & 0 & 0 & 0 & 0 & 0 & 0 & 0 & 0 & 0 & 0 & 0 & 0 & 0 & 0 & 0 & 0 & 0 & 0 & 0 & 0 & 0 & 0 & 0 & 0 & 0 & 0 & 0 & 0 & 0 & 0 & 0 & 0 & 0 & 0 & 0 & 0 & 0 & 0 & 0 & 0 & 0 & 0 & 0 & 0 & 0 & 0 & 0 & 0 & 0 & 0 & 0 & 0 & 0 & 0 & 0 & 0 & 0 & 0 & 0 & 0 & 0 & 0 & 0 & 0 & 0 & 0 & 0 & 0 & 0 & 0 & 0 & 0 & 0 & 0 & 0 & 0 & 0 & 0 & 0 & 0 & 0 & 0 & 0 & 0 & 0 & 0 & 0 & 0 & 0 & 0 & 0 & 0 & 0 & 0 & 0 & 0 & 3 & 0 & 0 & 0 & 0 & 0 & 0 & 0 & 0 & 0 & 0 & 0 & 0 & 0 & 0 & 0 & 0 & 0 & 0 & 0 & 0 & 0 & 0 & 0 & 0 & 0 & 0 & 0 & 0 & 0 & 0 & 0 & 0 & 0 & 0 & 0 & 0 & 0 & 0 & 0 & 0 & 0 & 0 & 0 & 0 & 0 & 0 & 0 & 0 & 0 & 0 & 0 & 0 & 0 & 0 & 0 & 0 & 0 & 0 & 0 & 0 & 0 & 0 & 0 & 0 & 0 & 0 & 0 & 0 & 0 & 0 & 0 & 0 & 0 & 0 & 0 & 2 & 0 & 0 & 2 & 0 & 0 & 0 & 0 & 0 & 0 & 0 & 0 & 0 & 0 & 0 & 0 & 0 & 0 & 0 & 0 & 0 & 0 & 0 & 0 & 2 & 0 & 0 & 0 & 0 & 0 & 0 & 0 & 0 & 0 & 0 & 0 & 0 & 0 & 0 & 0 & 2 & 0 & 0 & 0 & 0 & 0 & 0 & 0 & 2 & 0 & 0 & 0 & 0 & 0 & 0 & 0 & 0 & 0 & 0 & 0 & 0 & 0 & 2 & 2 & 0 & 0 & 0 & 0 & 0 & 2 & 0 & 0 & 0 & 0 & 0 & 0 & 0 & 0 & 0 & 0 & 0 & 0 & 0 & 0 & 0 & 0 & 0 & 0 & 0 & 0 & 0 & 0 & 0 & 0 & 0 & 0 & 0 & 0 & 0 & 0 & 0 & 0 & 0 & 0 & 0 & 0 & 0 & 0 & 0 & 0 & 0 & 0 & 0 & 0 & 0 & 0 & 0 & 0 & 0 & 0 & 0 & 0 & 0 & 0 & 0 & 0 & 0 & 0 & 0 & 0 & 0 & 0 & 0 & 0 & 0 & 0 & 0 & 0 & 0 & 0 & 0 & 0 & 0 & 0 & 0 & 0 & 0 & 0 & 0 & 0 & 0 & 0 & 0 & 0 & 0 & 1 & 0 & 0 & 0 & 0 & 0 & 0 & 0 & 0 & 0 & 0 & 0 & 0 & 0 & 0 & 0 & 0 & 0 & 0 & 2 & 0 & 0 & 0 & 0 & 0 & 0 & 0 & 0 & 0 & 0 & 0 & 0 & 0 & 0 & 0 & 0 & 0 & 0 & 0 & 0 & 0 & 0 & 0 & 0 & 0 & 0 & 0 & 0 & 1 & 2 & 0 & 0 & 0 & 0 & 0 & 0 & 0 & 0 & 0 & 0 & 0 & 0 & 0 & 0 & 0 & 0 & 0 & 0 & 0 & 0 & 0 & 0 & 0 & 0 & 0 & 0 & 0 & 0 & 0 & 0 & 0 & 0 & 0 & 0 & 0 & 0 & 0 & 0 & 0 & 0 & 0 & 0 & 0 & 0 & 0 & 0 & 0 & 0 & 0 & 0 & 0 & 0 & 0 & 0 & 0 & 0 & 0 & 0 & 0 & 0 & 0 & 0 & 0 & 0 & 0 & 0 & 0 & 0 & 0 & 0 & 0 & 0 & 0 & 0 & 0 & 0 & 0 & 0 & 0 & 0 & 0 & 0 & 0 & 0 & 0 & 0 & 0 & 0 & 0 & 0 & 0 & 0 & 1 & 0 & 0 & 0 & 0 & 0 & 0 & 2 & 0 & 0 & 0 & 0 & 0 & 0 & 0 & 0 & 0 & 0 & 0 & 0 & 0 & 0 & 0 & 0 & 0 & 0 & 0 & 0 & 0 & 0 & 0 & 0 & 0 & 0 & 0 & 0 & 0 & 0 & 0 & 2 & 0 & 0 & 0 & 0 & 0 & 0 & 0 & 0 & 0 & 0 & 0 & 0 & 0 & 0 & 0 & 0 & 0 & 0 & 0 & 0 & 0 & 0 & 0 & 0 & 0 & 0 & 0 & 0 & 0 & 0 & 0 & 1 & 0 & 0 & 0 & 0 & 0 & 0 & 0 & 0 & 0 & 0 & 0 & 0 & 0 & 0 & 0 & 0 & 0 & 0 & 1 & 0 & 0 & 0 & 0 & 0 & 1 & 0 & 0 & 0 & 0 & 0 & 0 & 0 & 0 & 0 & 0 & 0 & 0 & 0 & 0 & 0 & 0 & 0 & 0 & 0 & 0 & 0 & 0 & 0 & 0 & 0 & 0 & 0 & 0 & 0 & 0 & 0 & 0 & 0 & 0 & 0 & 0 & 0 & 0 & 0 & 0 & 0 & 0 & 0 & 0 & 0 & 0 & 0 & 0 & 0 & 0 & 0 & 0 & 0 & 0 & 0 & 0 & 0 & 0 & 0 & 0 & 0 & 0 & 0 & 0 & 0 & 0 & 0 & 0 & 0 & 0 & 0 & 0 & 0 & 0 & 0 & 0 & 0 & 0 & 0 & 0 & 0 & 0 & 0 & 0 & 0 & 0 & 0 & 0 & 0 & 0 & 0 & 0 & 0 & 0 & 0 & 0 & 0 & 0 & 0 & 0 & 2 & 0 & 0 & 0 & 0 & 0 & 0 & 0 & 0 & 0 & 0 & 0 & 0 & 0 & 0 & 0 & 0 & 0 & 0 & 0 & 0 & 0 & 0 & 0 & 0 & 0 & 0 & 0 & 0 & 0 & 0 & 0 & 0 & 0 & 0 & 0 & 0 & 0 & 0 & 0 & 0 & 0 & 0 & 0 & 0 & 0 & 0 & 0 & 0 & 0 & 2 & 0 & 0 & 0 & 0 & 0 & 0 & 0 & 0 & 0 & 0 & 0 & 0 & 0 & 0 & 0 & 0 & 0 & 0 & 0 & 0 & 0 & 0 & 0 & 0 & 0 & 0 & 0 & 0 & 0 & 0 & 0 & 0 & 0 & 0 & 0 & 0 & 0 & 0 & 0 & 0 & 0 & 0 & 0 & 0 & 0 & 0 & 0 & 0 & 0 & 0 & 0 & 0 & 0 & 0 & 0 & 0 & 0 & 0 & 0 & 0 & 0 & 0 & 0 & 0 & 0 & 0 & 0 & 0 & 0 & 0 & 0 & 0 & 0 & 0 & 0 & 0 & 0 & 0 & 0 & 0 & 2 & 0 & 0 & 0 & 0 & 0 & 0 & 0 & 0 & 0 & 0 & 0 & 0 & 0 & 0 & 0 & 0 & 0 & 0 & 0 & 0 & 0 & 0 & 0 & 0 & 0 & 0 & 0 & 0 & 0 & 0 & 2 & 0 & 0 & 0 & 0 & 0 & 0 & 0 & 0 & 0 & 0 & 0 & 0 & 0 & 0 & 0 & 0 & 0 & 0 & 0 & 0 & 0 & 0 & 0 & 0 & 0 & 0 & 0 & 0 & 0 & 2 & 0 & 0 & 0 & 0 & 0 & 0 & 0 & 0 & 0 & 0 & 0 & 0 & 0 & 0 & 0 & 0 & 0 & 0 & 0 & 0 & 0 & 0 & 0 & 0 & 0 & 0 & 0 & 0 & 0 & 0 & 0 & 0 & 0 & 0 & 0 & 0 & 0 & 0 & 0 & 0 & 0 & 0 & 0 & 0 & 0 & 0 & 0\\\\\n",
       "\tchr1\\_96388\\_96812 & 0 & 0 & 0 & 0 & 0 & 0 & 0 & 0 & 0 & 0 & 0 & 0 & 0 & 0 & 0 & 0 & 0 & 0 & 0 & 0 & 0 & 0 & 0 & 0 & 0 & 0 & 0 & 0 & 0 & 0 & 0 & 0 & 0 & 0 & 0 & 0 & 0 & 0 & 0 & 0 & 0 & 0 & 0 & 2 & 0 & 0 & 0 & 0 & 0 & 0 & 0 & 0 & 0 & 0 & 0 & 0 & 0 & 0 & 0 & 0 & 0 & 0 & 0 & 0 & 0 & 0 & 0 & 0 & 0 & 0 & 0 & 0 & 0 & 0 & 0 & 0 & 0 & 0 & 0 & 0 & 0 & 0 & 0 & 0 & 0 & 0 & 0 & 0 & 0 & 0 & 0 & 0 & 0 & 0 & 0 & 0 & 0 & 0 & 0 & 0 & 0 & 0 & 0 & 0 & 0 & 0 & 0 & 0 & 0 & 0 & 0 & 0 & 0 & 0 & 0 & 0 & 0 & 2 & 0 & 0 & 0 & 0 & 0 & 0 & 0 & 0 & 0 & 0 & 0 & 0 & 0 & 0 & 0 & 0 & 0 & 0 & 0 & 0 & 0 & 0 & 0 & 0 & 0 & 2 & 0 & 0 & 0 & 0 & 0 & 0 & 0 & 0 & 0 & 0 & 2 & 0 & 0 & 0 & 0 & 0 & 0 & 0 & 0 & 0 & 0 & 0 & 0 & 0 & 0 & 0 & 0 & 0 & 0 & 0 & 0 & 0 & 0 & 0 & 0 & 0 & 0 & 0 & 0 & 0 & 0 & 0 & 0 & 0 & 0 & 0 & 0 & 0 & 0 & 0 & 0 & 0 & 0 & 0 & 0 & 0 & 0 & 0 & 0 & 0 & 0 & 0 & 0 & 0 & 0 & 0 & 0 & 0 & 0 & 0 & 0 & 0 & 0 & 0 & 0 & 0 & 0 & 0 & 0 & 0 & 0 & 0 & 0 & 0 & 0 & 0 & 0 & 0 & 0 & 0 & 0 & 0 & 0 & 0 & 0 & 0 & 0 & 0 & 0 & 0 & 0 & 0 & 0 & 0 & 0 & 0 & 0 & 0 & 0 & 0 & 0 & 0 & 0 & 0 & 0 & 0 & 0 & 0 & 0 & 0 & 0 & 2 & 0 & 0 & 0 & 0 & 0 & 0 & 0 & 0 & 0 & 0 & 0 & 0 & 0 & 0 & 0 & 0 & 0 & 0 & 0 & 0 & 0 & 0 & 0 & 0 & 0 & 0 & 0 & 0 & 2 & 0 & 0 & 0 & 0 & 0 & 1 & 0 & 0 & 0 & 0 & 0 & 0 & 0 & 0 & 0 & 0 & 0 & 0 & 0 & 0 & 0 & 0 & 0 & 0 & 0 & 0 & 0 & 0 & 0 & 0 & 0 & 0 & 0 & 0 & 0 & 0 & 0 & 0 & 0 & 0 & 0 & 0 & 0 & 0 & 0 & 0 & 0 & 0 & 0 & 0 & 0 & 0 & 0 & 0 & 0 & 0 & 0 & 0 & 0 & 0 & 0 & 0 & 0 & 0 & 0 & 0 & 0 & 0 & 0 & 0 & 0 & 0 & 0 & 0 & 0 & 0 & 0 & 0 & 0 & 0 & 0 & 0 & 0 & 0 & 0 & 0 & 0 & 0 & 0 & 0 & 0 & 0 & 0 & 0 & 0 & 0 & 0 & 0 & 0 & 0 & 0 & 0 & 0 & 0 & 0 & 0 & 0 & 0 & 0 & 0 & 0 & 0 & 0 & 0 & 0 & 0 & 0 & 0 & 0 & 0 & 0 & 0 & 0 & 0 & 0 & 0 & 0 & 0 & 0 & 0 & 0 & 0 & 0 & 0 & 0 & 0 & 0 & 0 & 0 & 0 & 0 & 0 & 0 & 0 & 0 & 0 & 0 & 0 & 0 & 0 & 0 & 0 & 0 & 0 & 2 & 0 & 0 & 4 & 0 & 0 & 0 & 2 & 0 & 2 & 0 & 0 & 4 & 0 & 0 & 0 & 2 & 0 & 0 & 0 & 0 & 7 & 0 & 0 & 0 & 0 & 0 & 2 & 4 & 0 & 4 & 0 & 0 & 0 & 1 & 2 & 0 & 0 & 0 & 0 & 4 & 0 & 0 & 0 & 2 & 2 & 0 & 2 & 0 & 0 & 0 & 0 & 0 & 0 & 1 & 0 & 0 & 0 & 4 & 0 & 0 & 0 & 2 & 0 & 0 & 0 & 0 & 0 & 0 & 0 & 1 & 0 & 0 & 0 & 0 & 0 & 0 & 2 & 2 & 0 & 0 & 0 & 0 & 0 & 4 & 0 & 2 & 0 & 0 & 2 & 0 & 0 & 0 & 1 & 2 & 0 & 0 & 0 & 2 & 0 & 0 & 2 & 0 & 0 & 0 & 1 & 0 & 0 & 0 & 0 & 0 & 0 & 0 & 0 & 0 & 0 & 0 & 0 & 0 & 0 & 0 & 0 & 0 & 0 & 0 & 0 & 0 & 0 & 0 & 0 & 0 & 0 & 0 & 0 & 0 & 0 & 0 & 0 & 0 & 0 & 0 & 0 & 0 & 0 & 0 & 0 & 0 & 0 & 0 & 0 & 0 & 0 & 0 & 0 & 0 & 0 & 0 & 0 & 0 & 0 & 0 & 0 & 0 & 0 & 0 & 0 & 0 & 0 & 0 & 0 & 0 & 0 & 0 & 0 & 0 & 0 & 0 & 0 & 0 & 0 & 0 & 0 & 4 & 2 & 0 & 0 & 0 & 0 & 0 & 0 & 0 & 0 & 0 & 0 & 0 & 0 & 0 & 0 & 0 & 0 & 0 & 0 & 0 & 0 & 0 & 0 & 0 & 0 & 0 & 0 & 2 & 0 & 0 & 0 & 0 & 0 & 0 & 0 & 0 & 0 & 0 & 0 & 0 & 0 & 0 & 0 & 0 & 0 & 0 & 0 & 0 & 0 & 0 & 0 & 0 & 0 & 0 & 0 & 0 & 0 & 0 & 0 & 0 & 0 & 0 & 0 & 0 & 0 & 0 & 0 & 0 & 0 & 0 & 0 & 0 & 0 & 0 & 2 & 0 & 0 & 0 & 0 & 0 & 0 & 0 & 0 & 0 & 0 & 0 & 0 & 2 & 0 & 0 & 0 & 0 & 0 & 0 & 0 & 0 & 0 & 0 & 0 & 0 & 0 & 2 & 0 & 0 & 2 & 0 & 0 & 0 & 0 & 0 & 0 & 0 & 0 & 0 & 0 & 0 & 0 & 0 & 0 & 0 & 0 & 0 & 0 & 0 & 0 & 0 & 0 & 0 & 0 & 0 & 0 & 0 & 0 & 0 & 0 & 0 & 0 & 0 & 2 & 0 & 0 & 0 & 0 & 0 & 0 & 0 & 0 & 0 & 0 & 0 & 0 & 0 & 0 & 0 & 0 & 0 & 0 & 0 & 0 & 0 & 0 & 0 & 0 & 0 & 0 & 0 & 0 & 0 & 0 & 0 & 0 & 0 & 0 & 0 & 0 & 0 & 0 & 0 & 0 & 0 & 0 & 0 & 0 & 0 & 0 & 0 & 0 & 0 & 0 & 0 & 0 & 0 & 0 & 0 & 0 & 0 & 0 & 0 & 0 & 0 & 0 & 0 & 0 & 0 & 0 & 0 & 0 & 0 & 0 & 0 & 0 & 0 & 0 & 0 & 0 & 0 & 0 & 0 & 0 & 0 & 0 & 0 & 0 & 0 & 0 & 0 & 0 & 0 & 0 & 0 & 0 & 0 & 0 & 0 & 0 & 0 & 0 & 0 & 0 & 0 & 0 & 0 & 0 & 0 & 0 & 0 & 0 & 0 & 0 & 0 & 0 & 0 & 0 & 0 & 0 & 0 & 0 & 0 & 0 & 0 & 0 & 0 & 0 & 0 & 0 & 0 & 0 & 0 & 0 & 0 & 0 & 0 & 0 & 0 & 2 & 0 & 0 & 0 & 0 & 0 & 0 & 0 & 0 & 0 & 0 & 0 & 0 & 0 & 0 & 0 & 0 & 0 & 0 & 1 & 0 & 0 & 0 & 0 & 0 & 0 & 0 & 0 & 0 & 0 & 0 & 0 & 0 & 0 & 0 & 0 & 0 & 2 & 0 & 1 & 0 & 0 & 0 & 0 & 0 & 0 & 0 & 0 & 0 & 1 & 0 & 0 & 0 & 0 & 0 & 0 & 0 & 0 & 0 & 0 & 0 & 0 & 0 & 0 & 0 & 0 & 0 & 0 & 0 & 0 & 0 & 0 & 0 & 0 & 0 & 0 & 0 & 0 & 0 & 0 & 0 & 0 & 0 & 0 & 0 & 0 & 0 & 0 & 0 & 0 & 2 & 0 & 0 & 0 & 0 & 0 & 0 & 0 & 0 & 0 & 0 & 0 & 0 & 0 & 0 & 0 & 0 & 0 & 0 & 0 & 0 & 0 & 0 & 0 & 0 & 0 & 0 & 0 & 0 & 0 & 0 & 0 & 0 & 0 & 0 & 0 & 0 & 0 & 0 & 0 & 0 & 0 & 0 & 2 & 0 & 0 & 2 & 0 & 0 & 0 & 0 & 0 & 0 & 0 & 0 & 0 & 0 & 0 & 0 & 0 & 0 & 0 & 0 & 0 & 0 & 0 & 0 & 0 & 0 & 0 & 0 & 0 & 0 & 0 & 0 & 0 & 0 & 0 & 0 & 0 & 0 & 0 & 0 & 0 & 0 & 0 & 0 & 0 & 0 & 0 & 0 & 0 & 0 & 0 & 0 & 0 & 0 & 0 & 0 & 0 & 0 & 0 & 0 & 0 & 0 & 0 & 0 & 0 & 0 & 0 & 0 & 0 & 2 & 0 & 0 & 2 & 0 & 0 & 0 & 0 & 0 & 0 & 0 & 0 & 0 & 0 & 0 & 0 & 0 & 0 & 0 & 0 & 0 & 0 & 0 & 0 & 0 & 0 & 0 & 0 & 0 & 0 & 1 & 0 & 0 & 0 & 0 & 0 & 0 & 0 & 0 & 0 & 0 & 0 & 0 & 0 & 0 & 0 & 0 & 0 & 0 & 0 & 0 & 0 & 0 & 0 & 0 & 0 & 0 & 0 & 0 & 0 & 0 & 0 & 0 & 0 & 0 & 0 & 0 & 0 & 0 & 0 & 0 & 0 & 0 & 0 & 0 & 0 & 0 & 0 & 0 & 0 & 0 & 0 & 0 & 0 & 0 & 0 & 0 & 0 & 3 & 0 & 0 & 0 & 0 & 0 & 0 & 0 & 2 & 0 & 3 & 0 & 0 & 0 & 0 & 0 & 0 & 0 & 4 & 0 & 0 & 0 & 0 & 0 & 0 & 0 & 0 & 0 & 7 & 0 & 0 & 0 & 0 & 0 & 2 & 2 & 0 & 2 & 0 & 0 & 0 & 3 & 0 & 0 & 0 & 2 & 0 & 0 & 0 & 0 & 0 & 2 & 2 & 0 & 0 & 0 & 0 & 0 & 0 & 0 & 0 & 0 & 0 & 0 & 0 & 0 & 0 & 0 & 0 & 0 & 0 & 0 & 0 & 0 & 0 & 0 & 0 & 0 & 0 & 0 & 0 & 0 & 0 & 0 & 0 & 0 & 0 & 0 & 0 & 0 & 0 & 0 & 0 & 0 & 0 & 0 & 0 & 0 & 0 & 0 & 0 & 0 & 0 & 0 & 0 & 0 & 0 & 0 & 0 & 0 & 0 & 0 & 0 & 0 & 0 & 0 & 0 & 0 & 0 & 0 & 0 & 0 & 0 & 0 & 0 & 0 & 0 & 0 & 0 & 0 & 0 & 0 & 0 & 0 & 0 & 0 & 0 & 0 & 0 & 0 & 0 & 0 & 0 & 0 & 0 & 0 & 0 & 0 & 0 & 1 & 0 & 0 & 0 & 0 & 0 & 0 & 0 & 0 & 0 & 0 & 0 & 0 & 0 & 0 & 0 & 0 & 0 & 0 & 0 & 0 & 0 & 0 & 0 & 0 & 0 & 0 & 0 & 0 & 2 & 0 & 0 & 0 & 0 & 0 & 0 & 0 & 0 & 0 & 0 & 0 & 0 & 0 & 0 & 0 & 0 & 0 & 0 & 0 & 3 & 0 & 0 & 0 & 0 & 0 & 0 & 0 & 0 & 0 & 0 & 0 & 0 & 0 & 0 & 0 & 2 & 0 & 0 & 0 & 0 & 0 & 0 & 0 & 0 & 0 & 0 & 0 & 0 & 0 & 0 & 0 & 0 & 0 & 0 & 0 & 0 & 0 & 0 & 0 & 2 & 0 & 0 & 0 & 0 & 0 & 0 & 0 & 0 & 0 & 0 & 0 & 0 & 0 & 0 & 0 & 0 & 0 & 0 & 0 & 0 & 0 & 0 & 0 & 0 & 0 & 0 & 0 & 0 & 0 & 0 & 0 & 0 & 0 & 0 & 0 & 0 & 0 & 0 & 0 & 0 & 0 & 0 & 0 & 0 & 0 & 0 & 0 & 0 & 0 & 0 & 0 & 0 & 0 & 0 & 0 & 0 & 0 & 0 & 0 & 0 & 0 & 0 & 0 & 0 & 0 & 0 & 0 & 0 & 0 & 0 & 0 & 0 & 0 & 0 & 0 & 0 & 0 & 0 & 0 & 0 & 0 & 0 & 0 & 0 & 0 & 0 & 0 & 0 & 0 & 0 & 0 & 0 & 0 & 0 & 0 & 0 & 0 & 0 & 0 & 0 & 0 & 0 & 0 & 0 & 0 & 0 & 0 & 0 & 0 & 0 & 0 & 0 & 0 & 0 & 0 & 0 & 0 & 0 & 0 & 0 & 0 & 0 & 0 & 0 & 0 & 0 & 0 & 0 & 0 & 0 & 0 & 0 & 0 & 0 & 0 & 0 & 0 & 0 & 0 & 0 & 0 & 0 & 0 & 0 & 0 & 0 & 0 & 0 & 0 & 0 & 0 & 0 & 0 & 0 & 0 & 0 & 0 & 0 & 0 & 0 & 0 & 0 & 0 & 0 & 0 & 0 & 0 & 0 & 0 & 0 & 0 & 0 & 0 & 0 & 0 & 0 & 0 & 0 & 0 & 0 & 0 & 0 & 0 & 0 & 0 & 0 & 0 & 0 & 0 & 0 & 0 & 0 & 0 & 0 & 0 & 0 & 0 & 0 & 0 & 0 & 0 & 0 & 0 & 0 & 0 & 0 & 0 & 0 & 0 & 0 & 0 & 0 & 0 & 0 & 0 & 0 & 0 & 0 & 0 & 0 & 0 & 0 & 0 & 0 & 0 & 0 & 0 & 0 & 0 & 0 & 0 & 0 & 0 & 0 & 0 & 0 & 0 & 0 & 0 & 0 & 0 & 0 & 0 & 0 & 0 & 0 & 0 & 0 & 0 & 0 & 0 & 0 & 0 & 0 & 2 & 0 & 0 & 0 & 0 & 0 & 0 & 0 & 0 & 0 & 0 & 0 & 0 & 0 & 0 & 0 & 0 & 0 & 0 & 0 & 0 & 0 & 0 & 0 & 0 & 0 & 0 & 0 & 0 & 0 & 2 & 0 & 0 & 0 & 0 & 0 & 0 & 0 & 0 & 0 & 0 & 0 & 0 & 0 & 0 & 0 & 0 & 0 & 0 & 0 & 0 & 0 & 0 & 0 & 0 & 0 & 0 & 0 & 0 & 0 & 0 & 0 & 0 & 0 & 0 & 0 & 0 & 0 & 0 & 0 & 0 & 0 & 0 & 0 & 0 & 0 & 0 & 0 & 0 & 0 & 0 & 0 & 0 & 0 & 0 & 0 & 0 & 0 & 0 & 0 & 0 & 0 & 0 & 0 & 2 & 0 & 0 & 0 & 0 & 0 & 0 & 0 & 0 & 0 & 4 & 0 & 0 & 0 & 0 & 0 & 0 & 0 & 0 & 0 & 4 & 0 & 0 & 0 & 2 & 0 & 0 & 0 & 0 & 1 & 4 & 0 & 0 & 0 & 0 & 0 & 0 & 2 & 0 & 0 & 0 & 0 & 0 & 0 & 2 & 0 & 0 & 0 & 0 & 0 & 0 & 0 & 0 & 0 & 0 & 0 & 0 & 2 & 0 & 2 & 0 & 0 & 0 & 0 & 0 & 0 & 0 & 0 & 0 & 0 & 0 & 0 & 0 & 0 & 0 & 0 & 0 & 0 & 2 & 2 & 0 & 0 & 2 & 2 & 2 & 2 & 2 & 0 & 0 & 0 & 0 & 0 & 0 & 0 & 0 & 0 & 0 & 0 & 0 & 0 & 0 & 0 & 0 & 0 & 0 & 0 & 0 & 0 & 0 & 0 & 0 & 0 & 0 & 0 & 0 & 0 & 0 & 0 & 0 & 0 & 0 & 0 & 0 & 0 & 0 & 0 & 0 & 0 & 0 & 0 & 0 & 0 & 0 & 0 & 0 & 0 & 0 & 0 & 0 & 0 & 0 & 0 & 0 & 0 & 0 & 0 & 0 & 0 & 0 & 0 & 0 & 0 & 0 & 0 & 0 & 0 & 0 & 0 & 0 & 0 & 0 & 0 & 0 & 0 & 0 & 0 & 0 & 0 & 0 & 0 & 0 & 0 & 0 & 2 & 0 & 0 & 0 & 0 & 0 & 0 & 0 & 0 & 0 & 0 & 0 & 0 & 0 & 0 & 0 & 0 & 0 & 2 & 0 & 0 & 0 & 0 & 0 & 0 & 0 & 2 & 0 & 0 & 0 & 4 & 4 & 0 & 0 & 2 & 0 & 0 & 0 & 0 & 0 & 0 & 0 & 2 & 0 & 2 & 0 & 0 & 0 & 0 & 0 & 0 & 0 & 2 & 0 & 2 & 0 & 1 & 0 & 0 & 0 & 0 & 0 & 2 & 0 & 2 & 0 & 2 & 4 & 0 & 0 & 0 & 0 & 0 & 0 & 0 & 2 & 0 & 0\\\\\n",
       "\tchr1\\_115650\\_115812 & 0 & 0 & 0 & 0 & 0 & 0 & 0 & 0 & 0 & 0 & 0 & 0 & 0 & 0 & 0 & 0 & 0 & 0 & 0 & 0 & 0 & 0 & 0 & 0 & 0 & 0 & 0 & 0 & 0 & 0 & 0 & 0 & 0 & 0 & 0 & 0 & 0 & 0 & 0 & 0 & 0 & 0 & 0 & 0 & 0 & 0 & 0 & 0 & 0 & 0 & 0 & 0 & 0 & 0 & 0 & 0 & 0 & 0 & 0 & 0 & 0 & 0 & 0 & 0 & 0 & 0 & 0 & 0 & 0 & 0 & 0 & 0 & 0 & 0 & 0 & 0 & 0 & 0 & 0 & 0 & 0 & 0 & 0 & 0 & 0 & 0 & 0 & 0 & 0 & 0 & 0 & 0 & 0 & 0 & 0 & 0 & 0 & 0 & 0 & 0 & 0 & 0 & 0 & 0 & 0 & 0 & 0 & 0 & 0 & 0 & 0 & 0 & 0 & 0 & 0 & 0 & 0 & 0 & 0 & 0 & 0 & 0 & 0 & 0 & 0 & 0 & 0 & 0 & 0 & 0 & 0 & 0 & 0 & 0 & 0 & 0 & 0 & 0 & 0 & 0 & 0 & 0 & 0 & 0 & 0 & 0 & 0 & 0 & 0 & 0 & 0 & 0 & 0 & 0 & 0 & 0 & 0 & 0 & 0 & 0 & 0 & 0 & 0 & 0 & 0 & 0 & 0 & 0 & 0 & 0 & 0 & 0 & 0 & 0 & 0 & 0 & 0 & 0 & 0 & 0 & 0 & 0 & 0 & 0 & 0 & 0 & 0 & 0 & 0 & 0 & 0 & 0 & 0 & 0 & 0 & 0 & 0 & 0 & 0 & 0 & 0 & 0 & 0 & 0 & 0 & 0 & 0 & 0 & 0 & 0 & 0 & 0 & 0 & 0 & 0 & 0 & 0 & 0 & 0 & 0 & 0 & 0 & 0 & 0 & 0 & 0 & 0 & 0 & 0 & 0 & 0 & 0 & 0 & 0 & 0 & 0 & 0 & 0 & 0 & 0 & 0 & 0 & 0 & 0 & 0 & 0 & 0 & 0 & 0 & 0 & 0 & 0 & 0 & 0 & 0 & 0 & 0 & 0 & 0 & 0 & 0 & 0 & 0 & 0 & 0 & 0 & 0 & 0 & 0 & 0 & 0 & 0 & 0 & 0 & 0 & 0 & 0 & 0 & 0 & 0 & 0 & 0 & 0 & 0 & 0 & 0 & 0 & 0 & 0 & 0 & 0 & 0 & 0 & 0 & 0 & 0 & 0 & 0 & 0 & 0 & 0 & 0 & 0 & 0 & 0 & 0 & 0 & 0 & 0 & 0 & 0 & 0 & 0 & 0 & 2 & 0 & 0 & 0 & 0 & 0 & 0 & 0 & 0 & 0 & 0 & 0 & 0 & 0 & 0 & 0 & 0 & 0 & 0 & 0 & 0 & 2 & 0 & 0 & 0 & 0 & 0 & 0 & 0 & 0 & 0 & 0 & 0 & 0 & 0 & 0 & 1 & 0 & 0 & 0 & 0 & 0 & 0 & 0 & 0 & 0 & 0 & 0 & 0 & 0 & 0 & 0 & 0 & 0 & 0 & 0 & 0 & 0 & 0 & 0 & 0 & 0 & 0 & 0 & 0 & 0 & 0 & 0 & 0 & 0 & 0 & 0 & 0 & 0 & 0 & 0 & 0 & 0 & 0 & 0 & 0 & 0 & 0 & 0 & 0 & 0 & 0 & 0 & 0 & 0 & 0 & 0 & 0 & 0 & 0 & 0 & 0 & 0 & 0 & 0 & 0 & 0 & 0 & 0 & 0 & 0 & 0 & 0 & 0 & 0 & 0 & 0 & 0 & 0 & 0 & 0 & 0 & 0 & 0 & 0 & 0 & 0 & 0 & 0 & 0 & 0 & 0 & 0 & 0 & 0 & 0 & 0 & 0 & 0 & 0 & 0 & 0 & 0 & 0 & 0 & 0 & 0 & 0 & 0 & 0 & 0 & 0 & 0 & 0 & 0 & 0 & 0 & 0 & 0 & 0 & 0 & 0 & 0 & 0 & 0 & 0 & 0 & 0 & 0 & 0 & 0 & 0 & 0 & 0 & 0 & 0 & 0 & 0 & 0 & 0 & 0 & 0 & 0 & 0 & 0 & 0 & 0 & 0 & 0 & 0 & 0 & 0 & 0 & 0 & 0 & 0 & 0 & 0 & 2 & 0 & 0 & 0 & 0 & 0 & 2 & 0 & 0 & 0 & 0 & 0 & 0 & 0 & 0 & 0 & 0 & 0 & 0 & 0 & 0 & 0 & 0 & 0 & 0 & 0 & 0 & 0 & 0 & 0 & 0 & 0 & 0 & 0 & 0 & 0 & 0 & 0 & 0 & 0 & 0 & 0 & 0 & 0 & 0 & 0 & 0 & 0 & 0 & 0 & 0 & 0 & 0 & 0 & 0 & 0 & 0 & 0 & 0 & 0 & 0 & 0 & 0 & 0 & 0 & 0 & 0 & 0 & 0 & 0 & 0 & 0 & 0 & 0 & 0 & 0 & 0 & 1 & 0 & 0 & 0 & 0 & 0 & 0 & 0 & 0 & 0 & 0 & 0 & 0 & 0 & 0 & 0 & 0 & 0 & 0 & 0 & 0 & 0 & 0 & 0 & 0 & 0 & 0 & 0 & 0 & 0 & 0 & 0 & 0 & 0 & 0 & 0 & 0 & 0 & 0 & 0 & 0 & 0 & 0 & 0 & 0 & 0 & 0 & 0 & 0 & 0 & 0 & 0 & 0 & 0 & 0 & 0 & 0 & 0 & 0 & 0 & 0 & 0 & 0 & 0 & 0 & 0 & 0 & 0 & 0 & 0 & 0 & 0 & 0 & 0 & 0 & 0 & 0 & 0 & 0 & 0 & 0 & 0 & 0 & 0 & 0 & 0 & 0 & 0 & 0 & 0 & 0 & 0 & 0 & 0 & 0 & 0 & 0 & 0 & 0 & 0 & 0 & 0 & 0 & 0 & 2 & 0 & 0 & 0 & 0 & 0 & 0 & 0 & 0 & 0 & 0 & 1 & 0 & 0 & 0 & 0 & 0 & 0 & 0 & 0 & 0 & 0 & 0 & 0 & 0 & 0 & 0 & 0 & 0 & 0 & 0 & 0 & 0 & 0 & 0 & 0 & 0 & 0 & 0 & 0 & 0 & 0 & 0 & 0 & 0 & 0 & 0 & 0 & 0 & 0 & 0 & 0 & 0 & 0 & 0 & 0 & 0 & 0 & 0 & 0 & 0 & 0 & 0 & 0 & 0 & 0 & 0 & 0 & 0 & 0 & 0 & 0 & 0 & 0 & 0 & 0 & 0 & 0 & 0 & 0 & 0 & 0 & 0 & 0 & 0 & 0 & 0 & 0 & 0 & 0 & 0 & 0 & 0 & 0 & 0 & 0 & 0 & 0 & 0 & 0 & 0 & 0 & 0 & 0 & 0 & 0 & 0 & 0 & 0 & 0 & 0 & 0 & 0 & 0 & 0 & 0 & 0 & 0 & 0 & 0 & 0 & 0 & 0 & 0 & 0 & 0 & 0 & 0 & 0 & 0 & 0 & 0 & 0 & 0 & 0 & 0 & 0 & 0 & 0 & 0 & 0 & 0 & 0 & 0 & 0 & 0 & 0 & 0 & 0 & 0 & 0 & 0 & 0 & 0 & 0 & 0 & 0 & 0 & 0 & 0 & 0 & 0 & 0 & 0 & 0 & 0 & 0 & 0 & 0 & 0 & 0 & 0 & 0 & 0 & 0 & 0 & 0 & 0 & 0 & 0 & 0 & 0 & 0 & 0 & 0 & 0 & 0 & 0 & 0 & 0 & 0 & 0 & 0 & 0 & 0 & 0 & 0 & 0 & 0 & 0 & 0 & 0 & 0 & 0 & 0 & 0 & 0 & 0 & 0 & 0 & 0 & 0 & 0 & 0 & 0 & 0 & 0 & 0 & 0 & 0 & 0 & 0 & 0 & 0 & 0 & 0 & 0 & 0 & 0 & 0 & 0 & 0 & 0 & 0 & 0 & 0 & 0 & 0 & 0 & 0 & 0 & 0 & 0 & 0 & 0 & 0 & 0 & 0 & 0 & 0 & 0 & 0 & 0 & 0 & 0 & 0 & 0 & 0 & 0 & 0 & 0 & 0 & 0 & 0 & 0 & 0 & 0 & 0 & 0 & 0 & 0 & 0 & 0 & 0 & 0 & 0 & 0 & 0 & 0 & 0 & 0 & 0 & 0 & 0 & 0 & 0 & 0 & 0 & 0 & 0 & 0 & 0 & 0 & 0 & 0 & 0 & 0 & 0 & 0 & 0 & 0 & 0 & 0 & 0 & 0 & 0 & 0 & 0 & 0 & 0 & 0 & 0 & 0 & 0 & 0 & 0 & 0 & 0 & 0 & 0 & 0 & 0 & 0 & 0 & 0 & 0 & 0 & 0 & 2 & 0 & 0 & 0 & 0 & 0 & 0 & 0 & 0 & 0 & 0 & 0 & 0 & 0 & 0 & 0 & 0 & 0 & 0 & 0 & 0 & 0 & 0 & 0 & 0 & 0 & 0 & 0 & 0 & 0 & 0 & 0 & 0 & 0 & 0 & 0 & 0 & 0 & 0 & 0 & 0 & 0 & 0 & 0 & 0 & 0 & 0 & 0 & 0 & 0 & 0 & 0 & 0 & 0 & 0 & 0 & 0 & 0 & 0 & 0 & 0 & 0 & 0 & 0 & 0 & 0 & 0 & 0 & 0 & 0 & 0 & 0 & 0 & 0 & 0 & 0 & 0 & 0 & 0 & 0 & 0 & 0 & 0 & 0 & 0 & 0 & 0 & 0 & 0 & 0 & 0 & 0 & 0 & 0 & 0 & 0 & 0 & 0 & 0 & 0 & 0 & 0 & 0 & 0 & 0 & 0 & 0 & 0 & 0 & 0 & 0 & 0 & 0 & 0 & 0 & 0 & 0 & 0 & 0 & 0 & 0 & 0 & 0 & 0 & 0 & 0 & 0 & 0 & 0 & 0 & 0 & 0 & 0 & 0 & 0 & 0 & 0 & 0 & 0 & 0 & 0 & 0 & 0 & 0 & 0 & 0 & 0 & 0 & 0 & 0 & 0 & 0 & 0 & 0 & 0 & 0 & 0 & 0 & 0 & 0 & 0 & 0 & 0 & 0 & 0 & 0 & 0 & 0 & 0 & 0 & 0 & 0 & 0 & 0 & 0 & 0 & 0 & 0 & 0 & 0 & 0 & 0 & 0 & 0 & 0 & 0 & 0 & 0 & 0 & 0 & 0 & 0 & 0 & 0 & 0 & 0 & 0 & 0 & 0 & 0 & 0 & 0 & 0 & 0 & 0 & 0 & 0 & 0 & 0 & 0 & 0 & 0 & 0 & 0 & 0 & 0 & 0 & 0 & 0 & 0 & 0 & 0 & 0 & 0 & 0 & 0 & 0 & 0 & 2 & 0 & 0 & 0 & 0 & 0 & 0 & 0 & 0 & 0 & 0 & 0 & 0 & 0 & 0 & 0 & 0 & 0 & 0 & 0 & 0 & 0 & 0 & 0 & 0 & 0 & 0 & 0 & 0 & 0 & 0 & 0 & 0 & 0 & 0 & 0 & 0 & 0 & 0 & 0 & 0 & 0 & 0 & 0 & 0 & 0 & 0 & 0 & 0 & 0 & 0 & 0 & 0 & 0 & 0 & 0 & 0 & 0 & 0 & 0 & 0 & 0 & 0 & 0 & 0 & 0 & 0 & 0 & 0 & 0 & 0 & 0 & 0 & 0 & 2 & 0 & 0 & 0 & 0 & 0 & 0 & 0 & 0 & 0 & 0 & 0 & 0 & 0 & 0 & 0 & 0 & 0 & 0 & 0 & 0 & 0 & 0 & 0 & 0 & 0 & 0 & 0 & 0 & 0 & 0 & 0 & 0 & 0 & 0 & 0 & 0 & 0 & 0 & 0 & 0 & 0 & 0 & 0 & 0 & 0 & 0 & 0 & 0 & 0 & 0 & 0 & 0 & 0 & 0 & 0 & 0 & 1 & 0 & 0 & 0 & 0 & 0 & 0 & 0 & 0 & 0 & 0 & 0 & 0 & 1 & 0 & 0 & 0 & 0 & 0 & 0 & 0 & 0 & 0 & 0 & 0 & 0 & 0 & 0 & 0 & 0 & 0 & 0 & 0 & 0 & 0 & 0 & 0 & 0 & 0 & 0 & 0 & 0 & 0 & 0 & 0 & 0 & 0 & 0 & 0 & 0 & 0 & 0 & 0 & 0 & 0 & 0 & 0 & 0 & 0 & 0 & 0 & 0 & 0 & 0 & 0 & 0 & 0 & 0 & 0 & 0 & 0 & 0 & 0 & 0 & 0 & 0 & 0 & 0 & 0 & 0 & 0 & 0 & 0 & 0 & 0 & 0 & 0 & 0 & 0 & 0 & 0 & 0 & 0 & 0 & 0 & 0 & 0 & 0 & 0 & 0 & 0 & 0 & 0 & 0 & 0 & 0 & 0 & 0 & 0 & 0 & 0 & 0 & 0 & 0 & 0 & 0 & 0 & 0 & 0 & 0 & 0 & 0 & 0 & 0 & 0 & 0 & 0 & 0 & 0 & 0 & 0 & 0 & 0 & 0 & 0 & 0 & 0 & 0 & 0 & 0 & 0 & 0 & 0 & 0 & 0 & 0 & 0 & 0 & 0 & 0 & 0 & 0 & 0 & 0 & 0 & 0 & 0 & 0 & 0 & 0 & 0 & 0 & 0 & 0 & 0 & 0 & 0 & 0 & 0 & 0 & 0 & 0 & 0 & 0 & 0 & 0 & 0 & 0 & 0 & 0 & 0 & 0 & 0 & 0 & 0 & 0 & 0 & 0 & 0 & 0 & 0 & 0 & 0 & 0 & 0 & 0 & 0 & 0 & 0 & 0 & 0 & 0 & 0 & 0 & 0 & 0 & 0 & 0 & 0 & 0 & 0 & 0 & 0 & 0 & 0 & 0 & 0 & 0 & 0 & 0 & 0 & 0 & 0 & 0 & 0 & 0 & 0 & 0 & 0 & 0 & 0 & 0 & 0 & 0 & 0 & 0 & 0 & 0 & 0 & 0 & 0 & 0 & 0 & 0 & 0 & 0 & 0 & 0 & 0 & 0 & 0 & 0 & 0 & 0 & 0 & 0 & 0 & 0 & 0 & 0 & 0 & 0 & 0 & 0 & 0 & 0 & 0 & 0 & 0 & 0 & 0 & 0 & 0 & 0 & 0 & 0 & 0 & 0 & 0 & 0 & 0 & 0 & 0 & 0 & 0 & 0 & 0 & 0 & 2 & 0 & 0 & 0 & 0 & 1 & 0 & 0 & 0 & 0 & 2 & 0 & 0 & 0 & 2 & 0 & 0 & 0 & 0 & 0 & 0 & 0 & 2 & 0 & 1 & 0 & 2 & 0 & 0 & 0 & 0 & 0 & 0 & 0 & 0 & 0 & 0 & 0 & 0 & 0 & 0 & 0 & 2 & 0 & 0 & 0 & 0 & 0 & 0 & 0 & 2 & 0 & 0 & 2 & 0 & 0 & 0 & 0 & 0 & 0 & 0 & 0 & 0 & 0 & 0 & 0 & 0 & 0 & 0 & 0 & 0 & 0 & 0 & 0 & 0 & 0 & 0 & 0 & 0 & 0 & 0 & 0 & 0 & 0 & 0 & 0 & 0 & 0 & 0 & 0 & 0 & 0 & 0 & 0 & 0 & 0 & 0 & 0 & 0 & 0 & 0 & 0 & 0 & 0 & 0 & 0 & 0 & 0 & 0 & 0 & 0 & 0 & 0 & 0 & 0 & 0 & 0 & 0 & 0 & 0 & 0 & 0 & 0 & 0 & 0 & 0 & 0 & 0 & 0 & 0 & 0 & 0 & 0 & 0 & 0 & 0 & 0 & 0 & 0 & 0 & 0 & 0 & 0 & 0 & 0 & 0 & 0 & 0 & 0 & 0 & 0 & 0 & 0 & 0 & 0 & 0 & 0 & 0 & 0 & 0 & 0 & 0 & 0 & 0 & 0 & 0 & 0 & 0 & 0 & 0 & 0 & 0 & 0 & 0 & 0 & 0 & 0 & 0 & 0 & 0 & 0 & 0 & 0 & 0 & 0 & 0 & 0 & 0 & 0 & 0 & 0 & 0 & 0 & 0 & 0 & 0 & 0 & 0 & 0 & 0 & 0 & 0 & 0 & 0 & 0 & 0 & 0 & 0 & 0 & 0 & 0 & 0 & 0 & 0 & 0 & 0 & 0 & 0 & 0 & 0 & 0 & 0 & 0 & 0 & 0 & 0 & 0 & 0 & 0 & 0 & 0 & 0 & 0 & 0 & 0 & 0 & 0 & 0 & 0 & 0 & 0 & 0 & 0 & 0 & 0 & 0 & 0 & 0 & 0 & 0 & 0 & 0 & 0 & 0 & 0 & 0 & 0 & 0 & 0 & 0 & 0 & 0 & 0 & 0 & 0 & 0 & 0 & 0 & 0 & 0 & 0 & 0 & 0 & 0 & 0 & 0 & 0 & 0 & 0 & 0 & 0 & 0 & 0 & 0 & 0 & 2 & 0 & 0 & 0 & 0 & 0 & 0 & 1 & 0 & 0 & 0 & 0 & 0 & 0 & 0 & 0 & 0 & 0 & 0 & 0 & 0 & 0 & 0 & 0 & 0 & 0 & 0 & 0 & 0 & 0 & 0 & 0 & 0 & 0 & 0 & 0 & 1 & 0 & 0 & 0 & 0 & 0 & 0 & 0 & 0 & 0 & 0 & 0 & 0 & 0 & 0 & 0 & 0 & 0 & 0 & 0 & 0 & 0 & 0 & 0 & 0 & 0 & 0 & 0 & 0 & 0 & 0 & 0 & 0 & 0 & 0 & 0 & 0 & 0 & 0 & 0 & 0 & 0 & 0 & 0 & 0 & 0 & 0 & 0 & 0 & 0\\\\\n",
       "\tchr1\\_237625\\_237888 & 0 & 0 & 0 & 0 & 0 & 0 & 0 & 0 & 0 & 0 & 0 & 0 & 0 & 0 & 0 & 0 & 0 & 0 & 0 & 0 & 0 & 0 & 0 & 0 & 0 & 0 & 0 & 0 & 0 & 0 & 0 & 0 & 0 & 0 & 0 & 0 & 0 & 0 & 0 & 0 & 2 & 0 & 1 & 0 & 0 & 2 & 0 & 0 & 0 & 0 & 0 & 2 & 0 & 0 & 0 & 0 & 0 & 0 & 0 & 0 & 0 & 0 & 0 & 0 & 0 & 0 & 0 & 0 & 0 & 2 & 0 & 0 & 0 & 0 & 0 & 0 & 0 & 0 & 0 & 0 & 0 & 0 & 0 & 0 & 2 & 0 & 0 & 0 & 0 & 0 & 0 & 0 & 0 & 0 & 0 & 0 & 0 & 0 & 0 & 0 & 0 & 0 & 0 & 0 & 0 & 0 & 0 & 0 & 0 & 0 & 0 & 0 & 0 & 2 & 0 & 0 & 0 & 0 & 0 & 0 & 0 & 0 & 0 & 0 & 0 & 0 & 0 & 0 & 0 & 0 & 0 & 0 & 0 & 0 & 0 & 0 & 0 & 0 & 0 & 0 & 0 & 0 & 0 & 0 & 0 & 0 & 0 & 2 & 0 & 0 & 0 & 2 & 0 & 0 & 0 & 0 & 3 & 0 & 0 & 0 & 0 & 0 & 0 & 0 & 0 & 2 & 0 & 0 & 0 & 0 & 0 & 0 & 0 & 0 & 0 & 0 & 0 & 0 & 0 & 0 & 0 & 0 & 0 & 0 & 0 & 0 & 0 & 0 & 0 & 0 & 0 & 0 & 0 & 0 & 0 & 0 & 0 & 0 & 0 & 0 & 0 & 0 & 0 & 0 & 0 & 0 & 0 & 0 & 0 & 0 & 0 & 0 & 0 & 0 & 0 & 0 & 0 & 0 & 0 & 0 & 0 & 0 & 0 & 0 & 0 & 0 & 0 & 2 & 0 & 0 & 0 & 0 & 0 & 0 & 2 & 0 & 0 & 0 & 0 & 0 & 0 & 0 & 2 & 0 & 0 & 0 & 0 & 0 & 0 & 0 & 0 & 0 & 0 & 0 & 0 & 0 & 0 & 0 & 0 & 0 & 0 & 0 & 2 & 0 & 0 & 0 & 0 & 0 & 0 & 0 & 2 & 0 & 0 & 0 & 0 & 0 & 0 & 0 & 0 & 0 & 0 & 0 & 0 & 0 & 0 & 0 & 0 & 0 & 0 & 0 & 2 & 0 & 0 & 0 & 0 & 0 & 0 & 0 & 0 & 0 & 0 & 0 & 0 & 0 & 0 & 0 & 0 & 0 & 0 & 0 & 0 & 0 & 0 & 0 & 0 & 0 & 0 & 2 & 0 & 0 & 0 & 0 & 0 & 0 & 0 & 2 & 0 & 0 & 0 & 0 & 4 & 2 & 0 & 0 & 0 & 0 & 0 & 0 & 0 & 0 & 0 & 4 & 0 & 0 & 0 & 0 & 0 & 0 & 0 & 0 & 6 & 0 & 0 & 0 & 0 & 0 & 0 & 0 & 0 & 0 & 0 & 0 & 0 & 0 & 0 & 0 & 0 & 0 & 0 & 0 & 0 & 0 & 0 & 0 & 0 & 0 & 0 & 0 & 0 & 0 & 2 & 0 & 0 & 0 & 0 & 0 & 0 & 0 & 0 & 0 & 0 & 0 & 0 & 0 & 0 & 0 & 0 & 0 & 0 & 0 & 0 & 0 & 0 & 0 & 0 & 0 & 0 & 0 & 0 & 0 & 0 & 0 & 0 & 0 & 0 & 0 & 0 & 0 & 0 & 0 & 0 & 0 & 0 & 0 & 0 & 0 & 0 & 0 & 0 & 0 & 0 & 0 & 0 & 0 & 0 & 0 & 0 & 0 & 0 & 0 & 0 & 0 & 0 & 0 & 0 & 0 & 0 & 0 & 0 & 0 & 0 & 0 & 1 & 0 & 0 & 0 & 0 & 0 & 0 & 0 & 0 & 0 & 0 & 0 & 0 & 0 & 2 & 0 & 0 & 0 & 0 & 0 & 0 & 0 & 0 & 1 & 0 & 2 & 0 & 0 & 0 & 0 & 0 & 2 & 0 & 0 & 0 & 0 & 0 & 2 & 0 & 0 & 0 & 0 & 0 & 0 & 0 & 0 & 0 & 0 & 0 & 0 & 0 & 2 & 0 & 0 & 0 & 0 & 0 & 0 & 0 & 0 & 0 & 0 & 0 & 0 & 0 & 0 & 0 & 2 & 2 & 0 & 0 & 0 & 0 & 0 & 0 & 0 & 0 & 0 & 0 & 0 & 0 & 0 & 0 & 0 & 0 & 0 & 0 & 0 & 0 & 0 & 2 & 0 & 0 & 0 & 0 & 0 & 0 & 0 & 0 & 0 & 0 & 0 & 0 & 0 & 0 & 0 & 0 & 0 & 0 & 0 & 0 & 0 & 0 & 0 & 0 & 3 & 0 & 0 & 0 & 0 & 0 & 0 & 0 & 0 & 0 & 0 & 0 & 0 & 0 & 0 & 0 & 0 & 0 & 0 & 0 & 0 & 0 & 0 & 0 & 0 & 0 & 0 & 0 & 0 & 0 & 0 & 0 & 2 & 0 & 0 & 0 & 0 & 0 & 0 & 0 & 0 & 0 & 0 & 0 & 0 & 0 & 0 & 0 & 0 & 0 & 0 & 0 & 0 & 0 & 0 & 0 & 0 & 0 & 0 & 0 & 0 & 0 & 0 & 0 & 3 & 0 & 0 & 0 & 0 & 0 & 0 & 0 & 0 & 0 & 0 & 0 & 0 & 0 & 0 & 0 & 0 & 0 & 1 & 0 & 0 & 0 & 0 & 0 & 0 & 0 & 0 & 0 & 0 & 0 & 0 & 0 & 2 & 0 & 0 & 0 & 0 & 0 & 0 & 0 & 0 & 0 & 0 & 0 & 0 & 0 & 0 & 0 & 2 & 0 & 0 & 0 & 0 & 0 & 0 & 0 & 0 & 4 & 0 & 0 & 0 & 0 & 0 & 2 & 0 & 0 & 0 & 0 & 0 & 0 & 0 & 0 & 0 & 2 & 0 & 0 & 0 & 0 & 0 & 0 & 2 & 0 & 0 & 0 & 0 & 0 & 0 & 0 & 0 & 0 & 0 & 0 & 0 & 0 & 0 & 0 & 0 & 0 & 0 & 0 & 0 & 0 & 2 & 0 & 0 & 0 & 2 & 0 & 0 & 0 & 0 & 0 & 0 & 0 & 0 & 0 & 0 & 0 & 0 & 0 & 0 & 0 & 0 & 0 & 0 & 0 & 0 & 0 & 0 & 0 & 0 & 0 & 0 & 0 & 0 & 0 & 0 & 0 & 0 & 0 & 0 & 0 & 0 & 0 & 0 & 0 & 0 & 0 & 0 & 0 & 0 & 0 & 0 & 0 & 0 & 0 & 0 & 0 & 0 & 0 & 0 & 0 & 0 & 0 & 0 & 0 & 0 & 0 & 0 & 0 & 0 & 0 & 0 & 0 & 0 & 0 & 0 & 0 & 0 & 0 & 0 & 0 & 0 & 0 & 0 & 0 & 0 & 0 & 0 & 0 & 0 & 0 & 0 & 0 & 0 & 0 & 0 & 0 & 0 & 0 & 0 & 0 & 0 & 0 & 0 & 0 & 0 & 0 & 0 & 0 & 0 & 0 & 0 & 0 & 0 & 0 & 0 & 0 & 0 & 0 & 0 & 0 & 0 & 0 & 0 & 0 & 0 & 0 & 0 & 0 & 0 & 0 & 0 & 0 & 0 & 0 & 0 & 0 & 0 & 0 & 0 & 0 & 0 & 0 & 0 & 0 & 0 & 0 & 0 & 0 & 0 & 0 & 0 & 0 & 0 & 0 & 0 & 0 & 0 & 0 & 0 & 0 & 0 & 0 & 0 & 0 & 0 & 0 & 0 & 0 & 0 & 0 & 0 & 0 & 0 & 0 & 0 & 0 & 0 & 0 & 2 & 0 & 0 & 0 & 0 & 0 & 0 & 0 & 0 & 0 & 0 & 4 & 0 & 0 & 0 & 2 & 0 & 0 & 0 & 0 & 0 & 0 & 0 & 0 & 0 & 0 & 0 & 0 & 0 & 0 & 0 & 0 & 0 & 0 & 0 & 0 & 2 & 0 & 0 & 0 & 0 & 0 & 0 & 0 & 0 & 0 & 0 & 0 & 0 & 0 & 0 & 0 & 0 & 0 & 0 & 0 & 0 & 0 & 0 & 0 & 0 & 0 & 0 & 0 & 0 & 0 & 0 & 0 & 0 & 0 & 0 & 0 & 0 & 0 & 0 & 0 & 0 & 0 & 0 & 0 & 0 & 0 & 0 & 0 & 0 & 0 & 0 & 0 & 0 & 0 & 0 & 0 & 0 & 0 & 0 & 0 & 0 & 0 & 0 & 0 & 0 & 2 & 0 & 0 & 0 & 0 & 0 & 0 & 0 & 0 & 0 & 2 & 0 & 2 & 0 & 0 & 0 & 0 & 0 & 0 & 0 & 0 & 0 & 0 & 0 & 0 & 0 & 0 & 0 & 0 & 0 & 0 & 0 & 0 & 0 & 0 & 0 & 0 & 0 & 0 & 0 & 0 & 0 & 0 & 0 & 0 & 0 & 0 & 0 & 0 & 0 & 0 & 0 & 0 & 0 & 0 & 0 & 0 & 0 & 0 & 0 & 0 & 2 & 0 & 0 & 0 & 0 & 0 & 2 & 0 & 0 & 0 & 0 & 0 & 0 & 0 & 0 & 0 & 0 & 0 & 0 & 0 & 0 & 0 & 0 & 0 & 0 & 0 & 0 & 0 & 0 & 0 & 0 & 0 & 0 & 0 & 0 & 0 & 0 & 0 & 0 & 0 & 0 & 0 & 0 & 0 & 0 & 0 & 0 & 0 & 0 & 0 & 0 & 0 & 0 & 0 & 0 & 0 & 0 & 0 & 0 & 0 & 2 & 0 & 0 & 0 & 0 & 0 & 0 & 0 & 0 & 0 & 0 & 0 & 0 & 0 & 0 & 0 & 0 & 0 & 0 & 0 & 0 & 0 & 0 & 2 & 0 & 0 & 0 & 0 & 0 & 0 & 0 & 0 & 0 & 0 & 0 & 0 & 0 & 2 & 0 & 0 & 0 & 0 & 0 & 0 & 0 & 0 & 0 & 0 & 0 & 0 & 0 & 0 & 0 & 0 & 0 & 0 & 0 & 0 & 0 & 0 & 0 & 0 & 0 & 0 & 0 & 0 & 0 & 0 & 0 & 0 & 1 & 0 & 0 & 0 & 0 & 0 & 0 & 0 & 0 & 0 & 0 & 0 & 0 & 0 & 0 & 0 & 0 & 0 & 0 & 0 & 0 & 0 & 4 & 0 & 0 & 0 & 0 & 0 & 0 & 0 & 0 & 0 & 0 & 0 & 0 & 0 & 0 & 0 & 0 & 0 & 0 & 2 & 2 & 0 & 0 & 0 & 0 & 0 & 0 & 0 & 0 & 0 & 0 & 0 & 0 & 0 & 0 & 0 & 0 & 0 & 0 & 0 & 0 & 0 & 0 & 0 & 0 & 0 & 0 & 0 & 0 & 0 & 0 & 0 & 0 & 0 & 0 & 0 & 0 & 0 & 0 & 0 & 0 & 0 & 0 & 0 & 0 & 0 & 0 & 0 & 3 & 0 & 0 & 0 & 0 & 0 & 0 & 0 & 0 & 0 & 0 & 0 & 0 & 0 & 0 & 0 & 0 & 0 & 0 & 0 & 0 & 0 & 0 & 0 & 2 & 0 & 0 & 0 & 0 & 0 & 0 & 0 & 0 & 0 & 0 & 0 & 0 & 0 & 2 & 0 & 0 & 0 & 0 & 0 & 0 & 0 & 0 & 0 & 0 & 0 & 1 & 0 & 0 & 0 & 0 & 0 & 2 & 0 & 0 & 0 & 0 & 0 & 0 & 0 & 0 & 0 & 0 & 0 & 0 & 2 & 0 & 0 & 0 & 0 & 0 & 0 & 0 & 0 & 0 & 0 & 0 & 2 & 0 & 0 & 0 & 0 & 0 & 0 & 0 & 0 & 0 & 0 & 0 & 0 & 0 & 0 & 0 & 0 & 0 & 0 & 0 & 0 & 4 & 0 & 0 & 0 & 0 & 0 & 0 & 0 & 0 & 0 & 0 & 0 & 2 & 0 & 0 & 0 & 0 & 0 & 0 & 0 & 0 & 0 & 0 & 0 & 0 & 0 & 0 & 0 & 0 & 0 & 0 & 0 & 0 & 0 & 0 & 0 & 0 & 0 & 0 & 0 & 2 & 0 & 0 & 0 & 0 & 0 & 0 & 0 & 0 & 0 & 0 & 0 & 0 & 0 & 0 & 0 & 0 & 0 & 0 & 0 & 0 & 0 & 0 & 0 & 0 & 0 & 0 & 0 & 0 & 0 & 0 & 0 & 0 & 0 & 0 & 0 & 0 & 0 & 0 & 0 & 0 & 0 & 0 & 0 & 0 & 1 & 0 & 0 & 0 & 0 & 0 & 0 & 0 & 0 & 0 & 0 & 0 & 0 & 0 & 0 & 0 & 0 & 0 & 0 & 0 & 0 & 0 & 0 & 0 & 0 & 0 & 0 & 0 & 0 & 0 & 0 & 0 & 2 & 0 & 0 & 0 & 0 & 0 & 0 & 0 & 2 & 0 & 0 & 0 & 0 & 0 & 0 & 0 & 0 & 0 & 0 & 0 & 0 & 0 & 0 & 0 & 0 & 0 & 0 & 0 & 0 & 0 & 2 & 0 & 2 & 0 & 0 & 0 & 0 & 0 & 0 & 0 & 0 & 0 & 0 & 0 & 0 & 0 & 0 & 2 & 0 & 0 & 0 & 0 & 0 & 0 & 0 & 0 & 0 & 0 & 0 & 0 & 0 & 0 & 0 & 0 & 0 & 0 & 0 & 0 & 0 & 0 & 0 & 0 & 0 & 0 & 0 & 0 & 0 & 0 & 0 & 0 & 0 & 0 & 0 & 2 & 0 & 0 & 0 & 0 & 2 & 0 & 0 & 0 & 0 & 0 & 0 & 0 & 0 & 0 & 0 & 0 & 0 & 0 & 0 & 0 & 0 & 0 & 0 & 0 & 0 & 0 & 0 & 0 & 2 & 0 & 0 & 0 & 0 & 0 & 0 & 0 & 0 & 0 & 0 & 0 & 0 & 0 & 0 & 0 & 0 & 0 & 0 & 0 & 0 & 0 & 0 & 0 & 0 & 0 & 0 & 0 & 0 & 2 & 0 & 2 & 0 & 0 & 0 & 0 & 0 & 0 & 0 & 4 & 0 & 0 & 0 & 0 & 0 & 0 & 0 & 0 & 0 & 0 & 0 & 0 & 0 & 2 & 2 & 0 & 0 & 2 & 1 & 0 & 0 & 0 & 0 & 2 & 0 & 2 & 0 & 0 & 0 & 1 & 0 & 0 & 0 & 0 & 0 & 0 & 0 & 0 & 2 & 0 & 0 & 0 & 0 & 0 & 0 & 0 & 0 & 4 & 0 & 0 & 0 & 0 & 0 & 0 & 0 & 0 & 1 & 0 & 0 & 0 & 0 & 0 & 0 & 0 & 0 & 0 & 2 & 0 & 0 & 0 & 0 & 0 & 0 & 0 & 0 & 0 & 0 & 0 & 0 & 0 & 0 & 0 & 0 & 0 & 0 & 0 & 0 & 0 & 0 & 0 & 0 & 0 & 0 & 0 & 0 & 0 & 0 & 0 & 0 & 0 & 0 & 0 & 0 & 0 & 0 & 0 & 0 & 0 & 0 & 0 & 0 & 0 & 1 & 0 & 0 & 0 & 0 & 0 & 0 & 2 & 0 & 0 & 0 & 0 & 0 & 0 & 0 & 0 & 0 & 0 & 0 & 0 & 0 & 0 & 4 & 0 & 0 & 0 & 0 & 0 & 0 & 2 & 0 & 0 & 0 & 0 & 0 & 0 & 2 & 0 & 0 & 0 & 0 & 0 & 0 & 0 & 0 & 0 & 0 & 2 & 0 & 0 & 2 & 0 & 0 & 0 & 0 & 0 & 0 & 0 & 0 & 0 & 0 & 2 & 0 & 0 & 0 & 0 & 0 & 0 & 0 & 0 & 0 & 2 & 0 & 0 & 0 & 0 & 0 & 0 & 0 & 0 & 0 & 0 & 0 & 0 & 0 & 0 & 0 & 0 & 0 & 0 & 0 & 0 & 2 & 0 & 0 & 0 & 0 & 0 & 0 & 0 & 0 & 0 & 0 & 0 & 2 & 0 & 0 & 0 & 0 & 0 & 0 & 0 & 0 & 0 & 0 & 0 & 0 & 0 & 0 & 0 & 0 & 0 & 0 & 0 & 0 & 0 & 0 & 0 & 0 & 0 & 0 & 0 & 0 & 0 & 0 & 0 & 0 & 0 & 0 & 0 & 0 & 0 & 0 & 0 & 0 & 0 & 0 & 0 & 0 & 0 & 0 & 0 & 0 & 0 & 0 & 0 & 0 & 0 & 0 & 0 & 0 & 2 & 0 & 0 & 0 & 0 & 0 & 0 & 0 & 0 & 0 & 0 & 0 & 0 & 0 & 0 & 0 & 0 & 0 & 0 & 0 & 0 & 0 & 0 & 0 & 0 & 0 & 0 & 0 & 0 & 0 & 0 & 1 & 4 & 0 & 0 & 0 & 0 & 0 & 0 & 0 & 0 & 0 & 0 & 0 & 0 & 0 & 0 & 0 & 0 & 2 & 0 & 0 & 0 & 0 & 0 & 0 & 0 & 0 & 0 & 0 & 0 & 0 & 0 & 0 & 0 & 2 & 0 & 2 & 0 & 0 & 0 & 2 & 0 & 0 & 0 & 0 & 0 & 0 & 0 & 0 & 0 & 0 & 0 & 2 & 0 & 0 & 0 & 0 & 0 & 0 & 0 & 0 & 0 & 0 & 0 & 0 & 0\\\\\n",
       "\\end{tabular}\n"
      ],
      "text/markdown": [
       "\n",
       "A matrix: 6 × 2034 of type int\n",
       "\n",
       "| <!--/--> | BM1077-CLP-Frozen-160106-13 | BM1077-CLP-Frozen-160106-14 | BM1077-CLP-Frozen-160106-2 | BM1077-CLP-Frozen-160106-21 | BM1077-CLP-Frozen-160106-27 | BM1077-CLP-Frozen-160106-3 | BM1077-CLP-Frozen-160106-36 | BM1077-CLP-Frozen-160106-42 | BM1077-CLP-Frozen-160106-44 | BM1077-CLP-Frozen-160106-50 | ⋯ | singles-PB1022-mono-160128-81 | singles-PB1022-mono-160128-82 | singles-PB1022-mono-160128-83 | singles-PB1022-mono-160128-84 | singles-PB1022-mono-160128-85 | singles-PB1022-mono-160128-86 | singles-PB1022-mono-160128-89 | singles-PB1022-mono-160128-90 | singles-PB1022-mono-160128-95 | singles-PB1022-mono-160128-96 |\n",
       "|---|---|---|---|---|---|---|---|---|---|---|---|---|---|---|---|---|---|---|---|---|---|\n",
       "| chr1_10413_10625 | 0 | 0 | 0 | 0 | 0 | 0 | 0 | 0 | 0 | 0 | ⋯ | 0 | 0 | 0 | 0 | 0 | 0 | 0 | 0 | 0 | 0 |\n",
       "| chr1_13380_13624 | 0 | 0 | 0 | 0 | 0 | 0 | 0 | 0 | 0 | 0 | ⋯ | 0 | 0 | 0 | 0 | 0 | 0 | 0 | 0 | 0 | 0 |\n",
       "| chr1_16145_16354 | 0 | 0 | 0 | 0 | 0 | 0 | 0 | 0 | 0 | 0 | ⋯ | 0 | 0 | 0 | 0 | 0 | 0 | 0 | 0 | 0 | 0 |\n",
       "| chr1_96388_96812 | 0 | 0 | 0 | 0 | 0 | 0 | 0 | 0 | 0 | 0 | ⋯ | 0 | 0 | 0 | 0 | 0 | 0 | 0 | 2 | 0 | 0 |\n",
       "| chr1_115650_115812 | 0 | 0 | 0 | 0 | 0 | 0 | 0 | 0 | 0 | 0 | ⋯ | 0 | 0 | 0 | 0 | 0 | 0 | 0 | 0 | 0 | 0 |\n",
       "| chr1_237625_237888 | 0 | 0 | 0 | 0 | 0 | 0 | 0 | 0 | 0 | 0 | ⋯ | 0 | 0 | 0 | 0 | 0 | 0 | 0 | 0 | 0 | 0 |\n",
       "\n"
      ],
      "text/plain": [
       "                   BM1077-CLP-Frozen-160106-13 BM1077-CLP-Frozen-160106-14\n",
       "chr1_10413_10625   0                           0                          \n",
       "chr1_13380_13624   0                           0                          \n",
       "chr1_16145_16354   0                           0                          \n",
       "chr1_96388_96812   0                           0                          \n",
       "chr1_115650_115812 0                           0                          \n",
       "chr1_237625_237888 0                           0                          \n",
       "                   BM1077-CLP-Frozen-160106-2 BM1077-CLP-Frozen-160106-21\n",
       "chr1_10413_10625   0                          0                          \n",
       "chr1_13380_13624   0                          0                          \n",
       "chr1_16145_16354   0                          0                          \n",
       "chr1_96388_96812   0                          0                          \n",
       "chr1_115650_115812 0                          0                          \n",
       "chr1_237625_237888 0                          0                          \n",
       "                   BM1077-CLP-Frozen-160106-27 BM1077-CLP-Frozen-160106-3\n",
       "chr1_10413_10625   0                           0                         \n",
       "chr1_13380_13624   0                           0                         \n",
       "chr1_16145_16354   0                           0                         \n",
       "chr1_96388_96812   0                           0                         \n",
       "chr1_115650_115812 0                           0                         \n",
       "chr1_237625_237888 0                           0                         \n",
       "                   BM1077-CLP-Frozen-160106-36 BM1077-CLP-Frozen-160106-42\n",
       "chr1_10413_10625   0                           0                          \n",
       "chr1_13380_13624   0                           0                          \n",
       "chr1_16145_16354   0                           0                          \n",
       "chr1_96388_96812   0                           0                          \n",
       "chr1_115650_115812 0                           0                          \n",
       "chr1_237625_237888 0                           0                          \n",
       "                   BM1077-CLP-Frozen-160106-44 BM1077-CLP-Frozen-160106-50 ⋯\n",
       "chr1_10413_10625   0                           0                           ⋯\n",
       "chr1_13380_13624   0                           0                           ⋯\n",
       "chr1_16145_16354   0                           0                           ⋯\n",
       "chr1_96388_96812   0                           0                           ⋯\n",
       "chr1_115650_115812 0                           0                           ⋯\n",
       "chr1_237625_237888 0                           0                           ⋯\n",
       "                   singles-PB1022-mono-160128-81 singles-PB1022-mono-160128-82\n",
       "chr1_10413_10625   0                             0                            \n",
       "chr1_13380_13624   0                             0                            \n",
       "chr1_16145_16354   0                             0                            \n",
       "chr1_96388_96812   0                             0                            \n",
       "chr1_115650_115812 0                             0                            \n",
       "chr1_237625_237888 0                             0                            \n",
       "                   singles-PB1022-mono-160128-83 singles-PB1022-mono-160128-84\n",
       "chr1_10413_10625   0                             0                            \n",
       "chr1_13380_13624   0                             0                            \n",
       "chr1_16145_16354   0                             0                            \n",
       "chr1_96388_96812   0                             0                            \n",
       "chr1_115650_115812 0                             0                            \n",
       "chr1_237625_237888 0                             0                            \n",
       "                   singles-PB1022-mono-160128-85 singles-PB1022-mono-160128-86\n",
       "chr1_10413_10625   0                             0                            \n",
       "chr1_13380_13624   0                             0                            \n",
       "chr1_16145_16354   0                             0                            \n",
       "chr1_96388_96812   0                             0                            \n",
       "chr1_115650_115812 0                             0                            \n",
       "chr1_237625_237888 0                             0                            \n",
       "                   singles-PB1022-mono-160128-89 singles-PB1022-mono-160128-90\n",
       "chr1_10413_10625   0                             0                            \n",
       "chr1_13380_13624   0                             0                            \n",
       "chr1_16145_16354   0                             0                            \n",
       "chr1_96388_96812   0                             2                            \n",
       "chr1_115650_115812 0                             0                            \n",
       "chr1_237625_237888 0                             0                            \n",
       "                   singles-PB1022-mono-160128-95 singles-PB1022-mono-160128-96\n",
       "chr1_10413_10625   0                             0                            \n",
       "chr1_13380_13624   0                             0                            \n",
       "chr1_16145_16354   0                             0                            \n",
       "chr1_96388_96812   0                             0                            \n",
       "chr1_115650_115812 0                             0                            \n",
       "chr1_237625_237888 0                             0                            "
      ]
     },
     "metadata": {},
     "output_type": "display_data"
    }
   ],
   "source": [
    "head(datafr)"
   ]
  },
  {
   "cell_type": "code",
   "execution_count": 12,
   "metadata": {},
   "outputs": [
    {
     "data": {
      "text/html": [
       "<ol class=list-inline>\n",
       "\t<li>237450</li>\n",
       "\t<li>2034</li>\n",
       "</ol>\n"
      ],
      "text/latex": [
       "\\begin{enumerate*}\n",
       "\\item 237450\n",
       "\\item 2034\n",
       "\\end{enumerate*}\n"
      ],
      "text/markdown": [
       "1. 237450\n",
       "2. 2034\n",
       "\n",
       "\n"
      ],
      "text/plain": [
       "[1] 237450   2034"
      ]
     },
     "metadata": {},
     "output_type": "display_data"
    }
   ],
   "source": [
    "dim(datafr)"
   ]
  },
  {
   "cell_type": "code",
   "execution_count": 13,
   "metadata": {},
   "outputs": [],
   "source": [
    "# saveRDS(datafr, file = './datafr.rds')\n",
    "# datafr = readRDS('./datafr.rds')"
   ]
  },
  {
   "cell_type": "code",
   "execution_count": null,
   "metadata": {},
   "outputs": [],
   "source": []
  },
  {
   "cell_type": "markdown",
   "metadata": {},
   "source": [
    "### Obtain Feature Matrix"
   ]
  },
  {
   "cell_type": "code",
   "execution_count": 14,
   "metadata": {},
   "outputs": [],
   "source": [
    "start_time <- Sys.time()"
   ]
  },
  {
   "cell_type": "code",
   "execution_count": 15,
   "metadata": {},
   "outputs": [],
   "source": [
    "set.seed(2019)"
   ]
  },
  {
   "cell_type": "code",
   "execution_count": 16,
   "metadata": {},
   "outputs": [],
   "source": [
    "metadata <- read.table('../../input/metadata.tsv',\n",
    "                         header = TRUE,\n",
    "                         stringsAsFactors=FALSE,quote=\"\",row.names=1)"
   ]
  },
  {
   "cell_type": "code",
   "execution_count": 17,
   "metadata": {},
   "outputs": [],
   "source": [
    "# import counts\n",
    "counts <- data.matrix(datafr)"
   ]
  },
  {
   "cell_type": "code",
   "execution_count": 18,
   "metadata": {},
   "outputs": [
    {
     "data": {
      "text/html": [
       "<ol class=list-inline>\n",
       "\t<li>237450</li>\n",
       "\t<li>2034</li>\n",
       "</ol>\n"
      ],
      "text/latex": [
       "\\begin{enumerate*}\n",
       "\\item 237450\n",
       "\\item 2034\n",
       "\\end{enumerate*}\n"
      ],
      "text/markdown": [
       "1. 237450\n",
       "2. 2034\n",
       "\n",
       "\n"
      ],
      "text/plain": [
       "[1] 237450   2034"
      ]
     },
     "metadata": {},
     "output_type": "display_data"
    },
    {
     "data": {
      "text/html": [
       "<table>\n",
       "<caption>A matrix: 3 × 3 of type int</caption>\n",
       "<thead>\n",
       "\t<tr><th></th><th scope=col>BM1077-CLP-Frozen-160106-13</th><th scope=col>BM1077-CLP-Frozen-160106-14</th><th scope=col>BM1077-CLP-Frozen-160106-2</th></tr>\n",
       "</thead>\n",
       "<tbody>\n",
       "\t<tr><th scope=row>chr1_10413_10625</th><td>0</td><td>0</td><td>0</td></tr>\n",
       "\t<tr><th scope=row>chr1_13380_13624</th><td>0</td><td>0</td><td>0</td></tr>\n",
       "\t<tr><th scope=row>chr1_16145_16354</th><td>0</td><td>0</td><td>0</td></tr>\n",
       "</tbody>\n",
       "</table>\n"
      ],
      "text/latex": [
       "A matrix: 3 × 3 of type int\n",
       "\\begin{tabular}{r|lll}\n",
       "  & BM1077-CLP-Frozen-160106-13 & BM1077-CLP-Frozen-160106-14 & BM1077-CLP-Frozen-160106-2\\\\\n",
       "\\hline\n",
       "\tchr1\\_10413\\_10625 & 0 & 0 & 0\\\\\n",
       "\tchr1\\_13380\\_13624 & 0 & 0 & 0\\\\\n",
       "\tchr1\\_16145\\_16354 & 0 & 0 & 0\\\\\n",
       "\\end{tabular}\n"
      ],
      "text/markdown": [
       "\n",
       "A matrix: 3 × 3 of type int\n",
       "\n",
       "| <!--/--> | BM1077-CLP-Frozen-160106-13 | BM1077-CLP-Frozen-160106-14 | BM1077-CLP-Frozen-160106-2 |\n",
       "|---|---|---|---|\n",
       "| chr1_10413_10625 | 0 | 0 | 0 |\n",
       "| chr1_13380_13624 | 0 | 0 | 0 |\n",
       "| chr1_16145_16354 | 0 | 0 | 0 |\n",
       "\n"
      ],
      "text/plain": [
       "                 BM1077-CLP-Frozen-160106-13 BM1077-CLP-Frozen-160106-14\n",
       "chr1_10413_10625 0                           0                          \n",
       "chr1_13380_13624 0                           0                          \n",
       "chr1_16145_16354 0                           0                          \n",
       "                 BM1077-CLP-Frozen-160106-2\n",
       "chr1_10413_10625 0                         \n",
       "chr1_13380_13624 0                         \n",
       "chr1_16145_16354 0                         "
      ]
     },
     "metadata": {},
     "output_type": "display_data"
    }
   ],
   "source": [
    "dim(counts)\n",
    "counts[1:3,1:3]"
   ]
  },
  {
   "cell_type": "code",
   "execution_count": null,
   "metadata": {},
   "outputs": [],
   "source": []
  },
  {
   "cell_type": "code",
   "execution_count": 19,
   "metadata": {},
   "outputs": [
    {
     "data": {
      "text/html": [
       "<ol class=list-inline>\n",
       "\t<li>23938</li>\n",
       "\t<li>5</li>\n",
       "</ol>\n"
      ],
      "text/latex": [
       "\\begin{enumerate*}\n",
       "\\item 23938\n",
       "\\item 5\n",
       "\\end{enumerate*}\n"
      ],
      "text/markdown": [
       "1. 23938\n",
       "2. 5\n",
       "\n",
       "\n"
      ],
      "text/plain": [
       "[1] 23938     5"
      ]
     },
     "metadata": {},
     "output_type": "display_data"
    },
    {
     "data": {
      "text/html": [
       "<table>\n",
       "<caption>A data.frame: 3 × 3</caption>\n",
       "<thead>\n",
       "\t<tr><th scope=col>V1</th><th scope=col>V2</th><th scope=col>V3</th></tr>\n",
       "\t<tr><th scope=col>&lt;chr&gt;</th><th scope=col>&lt;int&gt;</th><th scope=col>&lt;int&gt;</th></tr>\n",
       "</thead>\n",
       "<tbody>\n",
       "\t<tr><td>chr19</td><td>58858171</td><td>58864865</td></tr>\n",
       "\t<tr><td>chr19</td><td>58863335</td><td>58866549</td></tr>\n",
       "\t<tr><td>chr10</td><td>52559168</td><td>52645435</td></tr>\n",
       "</tbody>\n",
       "</table>\n"
      ],
      "text/latex": [
       "A data.frame: 3 × 3\n",
       "\\begin{tabular}{r|lll}\n",
       " V1 & V2 & V3\\\\\n",
       " <chr> & <int> & <int>\\\\\n",
       "\\hline\n",
       "\t chr19 & 58858171 & 58864865\\\\\n",
       "\t chr19 & 58863335 & 58866549\\\\\n",
       "\t chr10 & 52559168 & 52645435\\\\\n",
       "\\end{tabular}\n"
      ],
      "text/markdown": [
       "\n",
       "A data.frame: 3 × 3\n",
       "\n",
       "| V1 &lt;chr&gt; | V2 &lt;int&gt; | V3 &lt;int&gt; |\n",
       "|---|---|---|\n",
       "| chr19 | 58858171 | 58864865 |\n",
       "| chr19 | 58863335 | 58866549 |\n",
       "| chr10 | 52559168 | 52645435 |\n",
       "\n"
      ],
      "text/plain": [
       "  V1    V2       V3      \n",
       "1 chr19 58858171 58864865\n",
       "2 chr19 58863335 58866549\n",
       "3 chr10 52559168 52645435"
      ]
     },
     "metadata": {},
     "output_type": "display_data"
    }
   ],
   "source": [
    "# import gene bodies; restrict to TSS\n",
    "gdf <- read.table(\"../../input/hg19/hg19-tss.bed\", stringsAsFactors = FALSE)\n",
    "dim(gdf)\n",
    "gdf[1:3,1:3]"
   ]
  },
  {
   "cell_type": "code",
   "execution_count": 20,
   "metadata": {},
   "outputs": [],
   "source": [
    "tss <- data.frame(chr = gdf$V1, gene = gdf$V4, stringsAsFactors = FALSE)\n",
    "tss$tss <-  ifelse(gdf$V5 == \"+\", gdf$V3, gdf$V2)\n",
    "tss$start <- ifelse(tss$tss - 50000 > 0, tss$tss - 50000, 0)\n",
    "tss$stop <- tss$tss + 50000\n",
    "tss_idx <- makeGRangesFromDataFrame(tss, keep.extra.columns = TRUE)"
   ]
  },
  {
   "cell_type": "code",
   "execution_count": 21,
   "metadata": {},
   "outputs": [],
   "source": [
    "# import ATAC peaks\n",
    "\n",
    "adf <- data.frame(fread('../../input/combined.sorted.merged.bed'))\n",
    "colnames(adf) <- c(\"chr\", \"start\", \"end\")\n",
    "adf$mp <- (adf$start + adf$end)/2\n",
    "atacgranges <- makeGRangesFromDataFrame(adf, start.field = \"mp\", end.field = \"mp\")"
   ]
  },
  {
   "cell_type": "code",
   "execution_count": 22,
   "metadata": {},
   "outputs": [],
   "source": [
    "# find overlap between ATAC peaks and Ranges linker\n",
    "ov <- findOverlaps(atacgranges, tss_idx) #(query, subject)"
   ]
  },
  {
   "cell_type": "code",
   "execution_count": 23,
   "metadata": {},
   "outputs": [
    {
     "name": "stderr",
     "output_type": "stream",
     "text": [
      "Don't know how to automatically pick scale for object of type table. Defaulting to continuous.\n"
     ]
    },
    {
     "data": {
      "image/png": "[encoded data removed]",
      "text/plain": [
       "plot without title"
      ]
     },
     "metadata": {},
     "output_type": "display_data"
    }
   ],
   "source": [
    "options(repr.plot.width=3, repr.plot.height=3)\n",
    "# plot a histogram showing peaks per gene\n",
    "p1 <- qplot(table(subjectHits(ov)), binwidth = 1) + theme(plot.subtitle = element_text(vjust = 1), \n",
    "                                                          plot.caption = element_text(vjust = 1)) +\n",
    "  labs(title = \"Histogram of peaks per gene\",  x = \"Peaks / gene\", y=\"Frequency\") + pretty_plot()\n",
    "p1"
   ]
  },
  {
   "cell_type": "code",
   "execution_count": 24,
   "metadata": {},
   "outputs": [],
   "source": [
    "# calculate distance decay for the weights\n",
    "dist <- abs(mcols(tss_idx)$tss[subjectHits(ov)] - start(atacgranges)[queryHits(ov)])\n",
    "exp_dist_model <- exp(-1*dist/5000)"
   ]
  },
  {
   "cell_type": "code",
   "execution_count": 25,
   "metadata": {},
   "outputs": [],
   "source": [
    "# prepare an outcome matrix\n",
    "m <- Matrix::sparseMatrix(i = c(queryHits(ov), length(atacgranges)),\n",
    "                          j = c(subjectHits(ov), length(tss_idx)),\n",
    "                          x = c(exp_dist_model,0))\n",
    "colnames(m) <- gdf$V4 # gene name\n",
    "m <- m[,which(Matrix::colSums(m) != 0)]"
   ]
  },
  {
   "cell_type": "code",
   "execution_count": 26,
   "metadata": {},
   "outputs": [],
   "source": [
    "fm_genescoring <- data.matrix(t(m) %*% counts)"
   ]
  },
  {
   "cell_type": "code",
   "execution_count": 27,
   "metadata": {},
   "outputs": [
    {
     "data": {
      "text/html": [
       "<ol class=list-inline>\n",
       "\t<li>23356</li>\n",
       "\t<li>2034</li>\n",
       "</ol>\n"
      ],
      "text/latex": [
       "\\begin{enumerate*}\n",
       "\\item 23356\n",
       "\\item 2034\n",
       "\\end{enumerate*}\n"
      ],
      "text/markdown": [
       "1. 23356\n",
       "2. 2034\n",
       "\n",
       "\n"
      ],
      "text/plain": [
       "[1] 23356  2034"
      ]
     },
     "metadata": {},
     "output_type": "display_data"
    },
    {
     "data": {
      "text/html": [
       "<table>\n",
       "<caption>A matrix: 3 × 3 of type dbl</caption>\n",
       "<thead>\n",
       "\t<tr><th></th><th scope=col>BM1077-CLP-Frozen-160106-13</th><th scope=col>BM1077-CLP-Frozen-160106-14</th><th scope=col>BM1077-CLP-Frozen-160106-2</th></tr>\n",
       "</thead>\n",
       "<tbody>\n",
       "\t<tr><th scope=row>A1BG</th><td>0</td><td>0</td><td>1.7586513</td></tr>\n",
       "\t<tr><th scope=row>A1BG-AS1</th><td>0</td><td>0</td><td>0.4257713</td></tr>\n",
       "\t<tr><th scope=row>A1CF</th><td>0</td><td>0</td><td>0.0000000</td></tr>\n",
       "</tbody>\n",
       "</table>\n"
      ],
      "text/latex": [
       "A matrix: 3 × 3 of type dbl\n",
       "\\begin{tabular}{r|lll}\n",
       "  & BM1077-CLP-Frozen-160106-13 & BM1077-CLP-Frozen-160106-14 & BM1077-CLP-Frozen-160106-2\\\\\n",
       "\\hline\n",
       "\tA1BG & 0 & 0 & 1.7586513\\\\\n",
       "\tA1BG-AS1 & 0 & 0 & 0.4257713\\\\\n",
       "\tA1CF & 0 & 0 & 0.0000000\\\\\n",
       "\\end{tabular}\n"
      ],
      "text/markdown": [
       "\n",
       "A matrix: 3 × 3 of type dbl\n",
       "\n",
       "| <!--/--> | BM1077-CLP-Frozen-160106-13 | BM1077-CLP-Frozen-160106-14 | BM1077-CLP-Frozen-160106-2 |\n",
       "|---|---|---|---|\n",
       "| A1BG | 0 | 0 | 1.7586513 |\n",
       "| A1BG-AS1 | 0 | 0 | 0.4257713 |\n",
       "| A1CF | 0 | 0 | 0.0000000 |\n",
       "\n"
      ],
      "text/plain": [
       "         BM1077-CLP-Frozen-160106-13 BM1077-CLP-Frozen-160106-14\n",
       "A1BG     0                           0                          \n",
       "A1BG-AS1 0                           0                          \n",
       "A1CF     0                           0                          \n",
       "         BM1077-CLP-Frozen-160106-2\n",
       "A1BG     1.7586513                 \n",
       "A1BG-AS1 0.4257713                 \n",
       "A1CF     0.0000000                 "
      ]
     },
     "metadata": {},
     "output_type": "display_data"
    }
   ],
   "source": [
    "dim(fm_genescoring)\n",
    "fm_genescoring[1:3,1:3]"
   ]
  },
  {
   "cell_type": "code",
   "execution_count": 28,
   "metadata": {},
   "outputs": [],
   "source": [
    "end_time <- Sys.time()"
   ]
  },
  {
   "cell_type": "code",
   "execution_count": 29,
   "metadata": {},
   "outputs": [
    {
     "data": {
      "text/plain": [
       "Time difference of 11.11454 secs"
      ]
     },
     "metadata": {},
     "output_type": "display_data"
    }
   ],
   "source": [
    "end_time - start_time"
   ]
  },
  {
   "cell_type": "code",
   "execution_count": null,
   "metadata": {},
   "outputs": [],
   "source": []
  },
  {
   "cell_type": "code",
   "execution_count": 30,
   "metadata": {},
   "outputs": [
    {
     "data": {
      "text/html": [
       "TRUE"
      ],
      "text/latex": [
       "TRUE"
      ],
      "text/markdown": [
       "TRUE"
      ],
      "text/plain": [
       "[1] TRUE"
      ]
     },
     "metadata": {},
     "output_type": "display_data"
    }
   ],
   "source": [
    "all(colnames(fm_genescoring) == rownames(metadata))"
   ]
  },
  {
   "cell_type": "code",
   "execution_count": 32,
   "metadata": {},
   "outputs": [],
   "source": [
    "saveRDS(fm_genescoring, file = '../../output/feature_matrices/FM_GeneScoring_buenrostro2018.rds')"
   ]
  },
  {
   "cell_type": "code",
   "execution_count": null,
   "metadata": {},
   "outputs": [],
   "source": []
  },
  {
   "cell_type": "code",
   "execution_count": 33,
   "metadata": {},
   "outputs": [
    {
     "data": {
      "text/plain": [
       "R version 3.5.1 (2018-07-02)\n",
       "Platform: x86_64-conda_cos6-linux-gnu (64-bit)\n",
       "Running under: CentOS Linux 7 (Core)\n",
       "\n",
       "Matrix products: default\n",
       "BLAS/LAPACK: /data/pinello/SHARED_SOFTWARE/anaconda3/envs/ATACseq_GeneScoring/lib/R/lib/libRblas.so\n",
       "\n",
       "locale:\n",
       " [1] LC_CTYPE=en_US.UTF-8       LC_NUMERIC=C              \n",
       " [3] LC_TIME=en_US.UTF-8        LC_COLLATE=en_US.UTF-8    \n",
       " [5] LC_MONETARY=en_US.UTF-8    LC_MESSAGES=en_US.UTF-8   \n",
       " [7] LC_PAPER=en_US.UTF-8       LC_NAME=C                 \n",
       " [9] LC_ADDRESS=C               LC_TELEPHONE=C            \n",
       "[11] LC_MEASUREMENT=en_US.UTF-8 LC_IDENTIFICATION=C       \n",
       "\n",
       "attached base packages:\n",
       "[1] parallel  stats4    stats     graphics  grDevices utils     datasets \n",
       "[8] methods   base     \n",
       "\n",
       "other attached packages:\n",
       " [1] Matrix_1.2-17               BuenColors_0.5.5           \n",
       " [3] ggplot2_3.2.0               MASS_7.3-51.4              \n",
       " [5] dplyr_0.8.3                 data.table_1.12.2          \n",
       " [7] SummarizedExperiment_1.12.0 DelayedArray_0.8.0         \n",
       " [9] BiocParallel_1.16.6         matrixStats_0.54.0         \n",
       "[11] Biobase_2.42.0              GenomicRanges_1.34.0       \n",
       "[13] GenomeInfoDb_1.18.1         IRanges_2.16.0             \n",
       "[15] S4Vectors_0.20.1            BiocGenerics_0.28.0        \n",
       "\n",
       "loaded via a namespace (and not attached):\n",
       " [1] Rcpp_1.0.1             pillar_1.4.2           compiler_3.5.1        \n",
       " [4] XVector_0.22.0         bitops_1.0-6           base64enc_0.1-3       \n",
       " [7] tools_3.5.1            zlibbioc_1.28.0        zeallot_0.1.0         \n",
       "[10] digest_0.6.20          uuid_0.1-2             gtable_0.3.0          \n",
       "[13] tibble_2.1.3           jsonlite_1.6           evaluate_0.14         \n",
       "[16] lattice_0.20-38        pkgconfig_2.0.2        rlang_0.4.0           \n",
       "[19] IRdisplay_0.7.0        IRkernel_1.0.1         GenomeInfoDbData_1.2.1\n",
       "[22] withr_2.1.2            repr_1.0.1             vctrs_0.2.0           \n",
       "[25] tidyselect_0.2.5       grid_3.5.1             glue_1.3.1            \n",
       "[28] R6_2.4.0               pbdZMQ_0.3-3           purrr_0.3.2           \n",
       "[31] magrittr_1.5           backports_1.1.4        scales_1.0.0          \n",
       "[34] htmltools_0.3.6        assertthat_0.2.1       colorspace_1.4-1      \n",
       "[37] labeling_0.3           lazyeval_0.2.2         munsell_0.5.0         \n",
       "[40] RCurl_1.95-4.12        crayon_1.3.4          "
      ]
     },
     "metadata": {},
     "output_type": "display_data"
    }
   ],
   "source": [
    "sessionInfo()"
   ]
  },
  {
   "cell_type": "code",
   "execution_count": 34,
   "metadata": {},
   "outputs": [],
   "source": [
    "save.image(file = 'GeneScoring_buenrostro2018.RData')"
   ]
  },
  {
   "cell_type": "code",
   "execution_count": null,
   "metadata": {},
   "outputs": [],
   "source": []
  }
 ],
 "metadata": {
  "kernelspec": {
   "display_name": "R [conda env:ATACseq_GeneScoring]",
   "language": "R",
   "name": "conda-env-ATACseq_GeneScoring-r"
  },
  "language_info": {
   "codemirror_mode": "r",
   "file_extension": ".r",
   "mimetype": "text/x-r-source",
   "name": "R",
   "pygments_lexer": "r",
   "version": "3.5.1"
  }
 },
 "nbformat": 4,
 "nbformat_minor": 2
}
