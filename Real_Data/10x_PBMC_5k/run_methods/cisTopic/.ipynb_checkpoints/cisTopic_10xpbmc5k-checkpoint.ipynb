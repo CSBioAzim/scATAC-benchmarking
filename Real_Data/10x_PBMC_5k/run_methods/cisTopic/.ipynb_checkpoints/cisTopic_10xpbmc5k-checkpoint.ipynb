{
 "cells": [
  {
   "cell_type": "markdown",
   "metadata": {},
   "source": [
    "### Import packages"
   ]
  },
  {
   "cell_type": "code",
   "execution_count": 1,
   "metadata": {},
   "outputs": [],
   "source": [
    "library(cisTopic)"
   ]
  },
  {
   "cell_type": "code",
   "execution_count": 2,
   "metadata": {},
   "outputs": [
    {
     "data": {
      "text/plain": [
       "[1] ‘0.2.1’"
      ]
     },
     "metadata": {},
     "output_type": "display_data"
    }
   ],
   "source": [
    "packageVersion(\"cisTopic\")"
   ]
  },
  {
   "cell_type": "code",
   "execution_count": null,
   "metadata": {},
   "outputs": [],
   "source": []
  },
  {
   "cell_type": "markdown",
   "metadata": {},
   "source": [
    "### Obtain Feature Matrix"
   ]
  },
  {
   "cell_type": "code",
   "execution_count": 3,
   "metadata": {},
   "outputs": [],
   "source": [
    "start_time = Sys.time()"
   ]
  },
  {
   "cell_type": "code",
   "execution_count": 4,
   "metadata": {},
   "outputs": [],
   "source": [
    "set.seed(2019)"
   ]
  },
  {
   "cell_type": "code",
   "execution_count": 5,
   "metadata": {},
   "outputs": [],
   "source": [
    "metadata <- read.table('../../input/metadata.tsv',\n",
    "                         header = TRUE,\n",
    "                         stringsAsFactors=FALSE,quote=\"\",row.names=1)"
   ]
  },
  {
   "cell_type": "code",
   "execution_count": 6,
   "metadata": {},
   "outputs": [
    {
     "data": {
      "text/html": [
       "<table>\n",
       "<thead><tr><th></th><th scope=col>label</th></tr></thead>\n",
       "<tbody>\n",
       "\t<tr><th scope=row>AAACGAAAGCGCAATG-1</th><td>2</td></tr>\n",
       "\t<tr><th scope=row>AAACGAAAGGGTATCG-1</th><td>6</td></tr>\n",
       "\t<tr><th scope=row>AAACGAAAGTAACATG-1</th><td>1</td></tr>\n",
       "\t<tr><th scope=row>AAACGAAAGTTACACC-1</th><td>4</td></tr>\n",
       "\t<tr><th scope=row>AAACGAACAGAGATGC-1</th><td>5</td></tr>\n",
       "\t<tr><th scope=row>AAACGAACATGCTATG-1</th><td>6</td></tr>\n",
       "</tbody>\n",
       "</table>\n"
      ],
      "text/latex": [
       "\\begin{tabular}{r|l}\n",
       "  & label\\\\\n",
       "\\hline\n",
       "\tAAACGAAAGCGCAATG-1 & 2\\\\\n",
       "\tAAACGAAAGGGTATCG-1 & 6\\\\\n",
       "\tAAACGAAAGTAACATG-1 & 1\\\\\n",
       "\tAAACGAAAGTTACACC-1 & 4\\\\\n",
       "\tAAACGAACAGAGATGC-1 & 5\\\\\n",
       "\tAAACGAACATGCTATG-1 & 6\\\\\n",
       "\\end{tabular}\n"
      ],
      "text/markdown": [
       "\n",
       "| <!--/--> | label |\n",
       "|---|---|\n",
       "| AAACGAAAGCGCAATG-1 | 2 |\n",
       "| AAACGAAAGGGTATCG-1 | 6 |\n",
       "| AAACGAAAGTAACATG-1 | 1 |\n",
       "| AAACGAAAGTTACACC-1 | 4 |\n",
       "| AAACGAACAGAGATGC-1 | 5 |\n",
       "| AAACGAACATGCTATG-1 | 6 |\n",
       "\n"
      ],
      "text/plain": [
       "                   label\n",
       "AAACGAAAGCGCAATG-1 2    \n",
       "AAACGAAAGGGTATCG-1 6    \n",
       "AAACGAAAGTAACATG-1 1    \n",
       "AAACGAAAGTTACACC-1 4    \n",
       "AAACGAACAGAGATGC-1 5    \n",
       "AAACGAACATGCTATG-1 6    "
      ]
     },
     "metadata": {},
     "output_type": "display_data"
    }
   ],
   "source": [
    "head(metadata)"
   ]
  },
  {
   "cell_type": "code",
   "execution_count": 7,
   "metadata": {},
   "outputs": [],
   "source": [
    "pathToBams <- '../../input/sc-bams_nodup/'"
   ]
  },
  {
   "cell_type": "code",
   "execution_count": 8,
   "metadata": {},
   "outputs": [],
   "source": [
    "bamFiles <- paste(pathToBams, list.files(pathToBams), sep='')"
   ]
  },
  {
   "cell_type": "code",
   "execution_count": 9,
   "metadata": {},
   "outputs": [
    {
     "data": {
      "text/html": [
       "<ol class=list-inline>\n",
       "\t<li>'../../input/sc-bams_nodup/atac_v1_pbmc_5k_possorted_bam.AAACGAAAGCGCAATG-1.dedup.st.bam'</li>\n",
       "\t<li>'../../input/sc-bams_nodup/atac_v1_pbmc_5k_possorted_bam.AAACGAAAGGGTATCG-1.dedup.st.bam'</li>\n",
       "\t<li>'../../input/sc-bams_nodup/atac_v1_pbmc_5k_possorted_bam.AAACGAAAGTAACATG-1.dedup.st.bam'</li>\n",
       "\t<li>'../../input/sc-bams_nodup/atac_v1_pbmc_5k_possorted_bam.AAACGAAAGTTACACC-1.dedup.st.bam'</li>\n",
       "\t<li>'../../input/sc-bams_nodup/atac_v1_pbmc_5k_possorted_bam.AAACGAACAGAGATGC-1.dedup.st.bam'</li>\n",
       "\t<li>'../../input/sc-bams_nodup/atac_v1_pbmc_5k_possorted_bam.AAACGAACATGCTATG-1.dedup.st.bam'</li>\n",
       "</ol>\n"
      ],
      "text/latex": [
       "\\begin{enumerate*}\n",
       "\\item '../../input/sc-bams\\_nodup/atac\\_v1\\_pbmc\\_5k\\_possorted\\_bam.AAACGAAAGCGCAATG-1.dedup.st.bam'\n",
       "\\item '../../input/sc-bams\\_nodup/atac\\_v1\\_pbmc\\_5k\\_possorted\\_bam.AAACGAAAGGGTATCG-1.dedup.st.bam'\n",
       "\\item '../../input/sc-bams\\_nodup/atac\\_v1\\_pbmc\\_5k\\_possorted\\_bam.AAACGAAAGTAACATG-1.dedup.st.bam'\n",
       "\\item '../../input/sc-bams\\_nodup/atac\\_v1\\_pbmc\\_5k\\_possorted\\_bam.AAACGAAAGTTACACC-1.dedup.st.bam'\n",
       "\\item '../../input/sc-bams\\_nodup/atac\\_v1\\_pbmc\\_5k\\_possorted\\_bam.AAACGAACAGAGATGC-1.dedup.st.bam'\n",
       "\\item '../../input/sc-bams\\_nodup/atac\\_v1\\_pbmc\\_5k\\_possorted\\_bam.AAACGAACATGCTATG-1.dedup.st.bam'\n",
       "\\end{enumerate*}\n"
      ],
      "text/markdown": [
       "1. '../../input/sc-bams_nodup/atac_v1_pbmc_5k_possorted_bam.AAACGAAAGCGCAATG-1.dedup.st.bam'\n",
       "2. '../../input/sc-bams_nodup/atac_v1_pbmc_5k_possorted_bam.AAACGAAAGGGTATCG-1.dedup.st.bam'\n",
       "3. '../../input/sc-bams_nodup/atac_v1_pbmc_5k_possorted_bam.AAACGAAAGTAACATG-1.dedup.st.bam'\n",
       "4. '../../input/sc-bams_nodup/atac_v1_pbmc_5k_possorted_bam.AAACGAAAGTTACACC-1.dedup.st.bam'\n",
       "5. '../../input/sc-bams_nodup/atac_v1_pbmc_5k_possorted_bam.AAACGAACAGAGATGC-1.dedup.st.bam'\n",
       "6. '../../input/sc-bams_nodup/atac_v1_pbmc_5k_possorted_bam.AAACGAACATGCTATG-1.dedup.st.bam'\n",
       "\n",
       "\n"
      ],
      "text/plain": [
       "[1] \"../../input/sc-bams_nodup/atac_v1_pbmc_5k_possorted_bam.AAACGAAAGCGCAATG-1.dedup.st.bam\"\n",
       "[2] \"../../input/sc-bams_nodup/atac_v1_pbmc_5k_possorted_bam.AAACGAAAGGGTATCG-1.dedup.st.bam\"\n",
       "[3] \"../../input/sc-bams_nodup/atac_v1_pbmc_5k_possorted_bam.AAACGAAAGTAACATG-1.dedup.st.bam\"\n",
       "[4] \"../../input/sc-bams_nodup/atac_v1_pbmc_5k_possorted_bam.AAACGAAAGTTACACC-1.dedup.st.bam\"\n",
       "[5] \"../../input/sc-bams_nodup/atac_v1_pbmc_5k_possorted_bam.AAACGAACAGAGATGC-1.dedup.st.bam\"\n",
       "[6] \"../../input/sc-bams_nodup/atac_v1_pbmc_5k_possorted_bam.AAACGAACATGCTATG-1.dedup.st.bam\""
      ]
     },
     "metadata": {},
     "output_type": "display_data"
    }
   ],
   "source": [
    "head(bamFiles)"
   ]
  },
  {
   "cell_type": "code",
   "execution_count": 10,
   "metadata": {},
   "outputs": [
    {
     "data": {
      "text/html": [
       "<ol class=list-inline>\n",
       "\t<li>'AAACGAAAGCGCAATG-1'</li>\n",
       "\t<li>'AAACGAAAGGGTATCG-1'</li>\n",
       "\t<li>'AAACGAAAGTAACATG-1'</li>\n",
       "\t<li>'AAACGAAAGTTACACC-1'</li>\n",
       "\t<li>'AAACGAACAGAGATGC-1'</li>\n",
       "\t<li>'AAACGAACATGCTATG-1'</li>\n",
       "</ol>\n"
      ],
      "text/latex": [
       "\\begin{enumerate*}\n",
       "\\item 'AAACGAAAGCGCAATG-1'\n",
       "\\item 'AAACGAAAGGGTATCG-1'\n",
       "\\item 'AAACGAAAGTAACATG-1'\n",
       "\\item 'AAACGAAAGTTACACC-1'\n",
       "\\item 'AAACGAACAGAGATGC-1'\n",
       "\\item 'AAACGAACATGCTATG-1'\n",
       "\\end{enumerate*}\n"
      ],
      "text/markdown": [
       "1. 'AAACGAAAGCGCAATG-1'\n",
       "2. 'AAACGAAAGGGTATCG-1'\n",
       "3. 'AAACGAAAGTAACATG-1'\n",
       "4. 'AAACGAAAGTTACACC-1'\n",
       "5. 'AAACGAACAGAGATGC-1'\n",
       "6. 'AAACGAACATGCTATG-1'\n",
       "\n",
       "\n"
      ],
      "text/plain": [
       "[1] \"AAACGAAAGCGCAATG-1\" \"AAACGAAAGGGTATCG-1\" \"AAACGAAAGTAACATG-1\"\n",
       "[4] \"AAACGAAAGTTACACC-1\" \"AAACGAACAGAGATGC-1\" \"AAACGAACATGCTATG-1\""
      ]
     },
     "metadata": {},
     "output_type": "display_data"
    }
   ],
   "source": [
    "cellnames <- sapply(strsplit(basename(bamFiles),'.',fixed = TRUE), \"[[\", 2)\n",
    "head(cellnames)"
   ]
  },
  {
   "cell_type": "code",
   "execution_count": 11,
   "metadata": {},
   "outputs": [
    {
     "data": {
      "text/html": [
       "5335"
      ],
      "text/latex": [
       "5335"
      ],
      "text/markdown": [
       "5335"
      ],
      "text/plain": [
       "[1] 5335"
      ]
     },
     "metadata": {},
     "output_type": "display_data"
    }
   ],
   "source": [
    "sum(cellnames == rownames(metadata))"
   ]
  },
  {
   "cell_type": "code",
   "execution_count": 12,
   "metadata": {},
   "outputs": [],
   "source": [
    "ix = match(rownames(metadata),cellnames)\n",
    "bamFiles = bamFiles[ix]\n",
    "cellnames = cellnames[ix]"
   ]
  },
  {
   "cell_type": "code",
   "execution_count": 13,
   "metadata": {},
   "outputs": [
    {
     "data": {
      "text/html": [
       "5335"
      ],
      "text/latex": [
       "5335"
      ],
      "text/markdown": [
       "5335"
      ],
      "text/plain": [
       "[1] 5335"
      ]
     },
     "metadata": {},
     "output_type": "display_data"
    }
   ],
   "source": [
    "sum(cellnames == rownames(metadata))"
   ]
  },
  {
   "cell_type": "code",
   "execution_count": 14,
   "metadata": {},
   "outputs": [],
   "source": [
    "regions <- '../../input/atac_v1_pbmc_5k_peaks.bed'"
   ]
  },
  {
   "cell_type": "code",
   "execution_count": null,
   "metadata": {},
   "outputs": [],
   "source": [
    "cisTopicObject <- createcisTopicObjectFromBAM(bamFiles, regions, project.name='10xpbmc5k')\n",
    "cisTopicObject <- renameCells(cisTopicObject, cellnames)"
   ]
  },
  {
   "cell_type": "code",
   "execution_count": null,
   "metadata": {},
   "outputs": [],
   "source": [
    "cisTopicObject <- runModels(cisTopicObject, topic=c(10, 20, 30, 40, 45, 50), seed=987, nCores=10, burnin = 120, iterations = 150, addModels=FALSE)"
   ]
  },
  {
   "cell_type": "code",
   "execution_count": null,
   "metadata": {},
   "outputs": [],
   "source": [
    "cisTopicObject <- selectModel(cisTopicObject)"
   ]
  },
  {
   "cell_type": "code",
   "execution_count": null,
   "metadata": {},
   "outputs": [],
   "source": [
    "logLikelihoodByIter(cisTopicObject, select=c(10, 20, 30, 40, 45, 50))"
   ]
  },
  {
   "cell_type": "code",
   "execution_count": null,
   "metadata": {},
   "outputs": [],
   "source": [
    "end_time <- Sys.time()"
   ]
  },
  {
   "cell_type": "code",
   "execution_count": null,
   "metadata": {},
   "outputs": [],
   "source": [
    "end_time - start_time"
   ]
  },
  {
   "cell_type": "code",
   "execution_count": null,
   "metadata": {},
   "outputs": [],
   "source": []
  },
  {
   "cell_type": "code",
   "execution_count": null,
   "metadata": {},
   "outputs": [],
   "source": [
    "cellassign <- modelMatSelection(cisTopicObject, 'cell', 'Probability')\n",
    "dim(cellassign)\n",
    "cellassign[1:5,1:5]"
   ]
  },
  {
   "cell_type": "code",
   "execution_count": null,
   "metadata": {},
   "outputs": [],
   "source": [
    "sum(colnames(cellassign) == rownames(metadata))"
   ]
  },
  {
   "cell_type": "code",
   "execution_count": null,
   "metadata": {},
   "outputs": [],
   "source": [
    "# colnames(cellassign) = rownames(metadata)\n",
    "# cellassign[1:5,1:5]"
   ]
  },
  {
   "cell_type": "code",
   "execution_count": null,
   "metadata": {},
   "outputs": [],
   "source": [
    "saveRDS(cellassign, file = '../../output/feature_matrices/FM_cisTopic_10xpbmc5k.rds')"
   ]
  },
  {
   "cell_type": "code",
   "execution_count": null,
   "metadata": {},
   "outputs": [],
   "source": []
  },
  {
   "cell_type": "markdown",
   "metadata": {},
   "source": [
    "### Downstream Analysis"
   ]
  },
  {
   "cell_type": "code",
   "execution_count": null,
   "metadata": {},
   "outputs": [],
   "source": [
    "cisTopicObject <- addCellMetadata(cisTopicObject, cell.data = metadata)"
   ]
  },
  {
   "cell_type": "code",
   "execution_count": null,
   "metadata": {},
   "outputs": [],
   "source": [
    "cisTopicObject <- runUmap(cisTopicObject, target='cell')"
   ]
  },
  {
   "cell_type": "code",
   "execution_count": null,
   "metadata": {
    "scrolled": true
   },
   "outputs": [],
   "source": [
    "options(repr.plot.width=10, repr.plot.height=5)\n",
    "par(mfrow=c(1,2))\n",
    "plotFeatures(cisTopicObject, method='Umap', target='cell', topic_contr=NULL, colorBy=c('label','pct_ReadsInPeaks'), cex.legend = 0.8, factor.max=.75, dim=2, legend=TRUE, col.low='darkgreen', col.mid='yellow', col.high='brown1', intervals=20)"
   ]
  },
  {
   "cell_type": "code",
   "execution_count": null,
   "metadata": {},
   "outputs": [],
   "source": [
    "sessionInfo()"
   ]
  },
  {
   "cell_type": "code",
   "execution_count": null,
   "metadata": {},
   "outputs": [],
   "source": [
    "save.image(file = 'cisTopic_10xpbmc5k.RData')"
   ]
  }
 ],
 "metadata": {
  "kernelspec": {
   "display_name": "R [conda env:ATACseq_cisTopic]",
   "language": "R",
   "name": "conda-env-ATACseq_cisTopic-r"
  },
  "language_info": {
   "codemirror_mode": "r",
   "file_extension": ".r",
   "mimetype": "text/x-r-source",
   "name": "R",
   "pygments_lexer": "r",
   "version": "3.5.1"
  }
 },
 "nbformat": 4,
 "nbformat_minor": 2
}
