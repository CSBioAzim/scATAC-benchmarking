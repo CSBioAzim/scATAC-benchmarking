{
 "cells": [
  {
   "cell_type": "markdown",
   "metadata": {},
   "source": [
    "### Import packages"
   ]
  },
  {
   "cell_type": "code",
   "execution_count": 1,
   "metadata": {},
   "outputs": [
    {
     "name": "stderr",
     "output_type": "stream",
     "text": [
      "\n",
      "Attaching package: ‘proxy’\n",
      "\n",
      "The following object is masked from ‘package:Matrix’:\n",
      "\n",
      "    as.matrix\n",
      "\n",
      "The following objects are masked from ‘package:stats’:\n",
      "\n",
      "    as.dist, dist\n",
      "\n",
      "The following object is masked from ‘package:base’:\n",
      "\n",
      "    as.matrix\n",
      "\n"
     ]
    }
   ],
   "source": [
    "library(data.table)\n",
    "library(Matrix)\n",
    "library(proxy)\n",
    "library(Rtsne)\n",
    "library(data.table)\n",
    "library(irlba)\n",
    "library(umap)\n",
    "library(ggplot2)"
   ]
  },
  {
   "cell_type": "code",
   "execution_count": null,
   "metadata": {},
   "outputs": [],
   "source": []
  },
  {
   "cell_type": "markdown",
   "metadata": {},
   "source": [
    "### Preprocess"
   ]
  },
  {
   "cell_type": "markdown",
   "metadata": {},
   "source": [
    "`bsub < count_reads_peaks_erisone.sh`"
   ]
  },
  {
   "cell_type": "code",
   "execution_count": 2,
   "metadata": {},
   "outputs": [
    {
     "data": {
      "text/html": [
       "5335"
      ],
      "text/latex": [
       "5335"
      ],
      "text/markdown": [
       "5335"
      ],
      "text/plain": [
       "[1] 5335"
      ]
     },
     "metadata": {},
     "output_type": "display_data"
    }
   ],
   "source": [
    "path = './count_reads_peaks_output/'\n",
    "files <- list.files(path,pattern = \"\\\\.txt$\")\n",
    "length(files)"
   ]
  },
  {
   "cell_type": "code",
   "execution_count": null,
   "metadata": {},
   "outputs": [],
   "source": [
    "#assuming tab separated values with a header    \n",
    "datalist = lapply(files, function(x)fread(paste0(path,x))$V4) \n",
    "#assuming the same header/columns for all files\n",
    "datafr = do.call(\"cbind\", datalist) "
   ]
  },
  {
   "cell_type": "code",
   "execution_count": 4,
   "metadata": {
    "scrolled": true
   },
   "outputs": [
    {
     "data": {
      "text/html": [
       "<ol class=list-inline>\n",
       "\t<li>97998</li>\n",
       "\t<li>5335</li>\n",
       "</ol>\n"
      ],
      "text/latex": [
       "\\begin{enumerate*}\n",
       "\\item 97998\n",
       "\\item 5335\n",
       "\\end{enumerate*}\n"
      ],
      "text/markdown": [
       "1. 97998\n",
       "2. 5335\n",
       "\n",
       "\n"
      ],
      "text/plain": [
       "[1] 97998  5335"
      ]
     },
     "metadata": {},
     "output_type": "display_data"
    }
   ],
   "source": [
    "dim(datafr)"
   ]
  },
  {
   "cell_type": "code",
   "execution_count": 5,
   "metadata": {},
   "outputs": [],
   "source": [
    "df_regions = read.csv(\"../../input/atac_v1_pbmc_5k_peaks.bed\",\n",
    "                      sep = '\\t',header=FALSE,stringsAsFactors=FALSE)"
   ]
  },
  {
   "cell_type": "code",
   "execution_count": 6,
   "metadata": {},
   "outputs": [
    {
     "data": {
      "text/html": [
       "<ol class=list-inline>\n",
       "\t<li>97998</li>\n",
       "\t<li>3</li>\n",
       "</ol>\n"
      ],
      "text/latex": [
       "\\begin{enumerate*}\n",
       "\\item 97998\n",
       "\\item 3\n",
       "\\end{enumerate*}\n"
      ],
      "text/markdown": [
       "1. 97998\n",
       "2. 3\n",
       "\n",
       "\n"
      ],
      "text/plain": [
       "[1] 97998     3"
      ]
     },
     "metadata": {},
     "output_type": "display_data"
    }
   ],
   "source": [
    "dim(df_regions)"
   ]
  },
  {
   "cell_type": "code",
   "execution_count": 7,
   "metadata": {},
   "outputs": [],
   "source": [
    "peaknames = paste(df_regions$V1,df_regions$V2,df_regions$V3,sep = \"_\")"
   ]
  },
  {
   "cell_type": "code",
   "execution_count": 8,
   "metadata": {
    "scrolled": true
   },
   "outputs": [
    {
     "data": {
      "text/html": [
       "<ol class=list-inline>\n",
       "\t<li>'chr1_10244_10510'</li>\n",
       "\t<li>'chr1_237575_237942'</li>\n",
       "\t<li>'chr1_565098_565554'</li>\n",
       "\t<li>'chr1_569172_569645'</li>\n",
       "\t<li>'chr1_713421_715095'</li>\n",
       "\t<li>'chr1_752386_753061'</li>\n",
       "</ol>\n"
      ],
      "text/latex": [
       "\\begin{enumerate*}\n",
       "\\item 'chr1\\_10244\\_10510'\n",
       "\\item 'chr1\\_237575\\_237942'\n",
       "\\item 'chr1\\_565098\\_565554'\n",
       "\\item 'chr1\\_569172\\_569645'\n",
       "\\item 'chr1\\_713421\\_715095'\n",
       "\\item 'chr1\\_752386\\_753061'\n",
       "\\end{enumerate*}\n"
      ],
      "text/markdown": [
       "1. 'chr1_10244_10510'\n",
       "2. 'chr1_237575_237942'\n",
       "3. 'chr1_565098_565554'\n",
       "4. 'chr1_569172_569645'\n",
       "5. 'chr1_713421_715095'\n",
       "6. 'chr1_752386_753061'\n",
       "\n",
       "\n"
      ],
      "text/plain": [
       "[1] \"chr1_10244_10510\"   \"chr1_237575_237942\" \"chr1_565098_565554\"\n",
       "[4] \"chr1_569172_569645\" \"chr1_713421_715095\" \"chr1_752386_753061\""
      ]
     },
     "metadata": {},
     "output_type": "display_data"
    }
   ],
   "source": [
    "head(peaknames)"
   ]
  },
  {
   "cell_type": "code",
   "execution_count": 9,
   "metadata": {},
   "outputs": [
    {
     "data": {
      "text/html": [
       "<ol class=list-inline>\n",
       "\t<li>'AAACGAAAGCGCAATG-1'</li>\n",
       "\t<li>'AAACGAAAGGGTATCG-1'</li>\n",
       "\t<li>'AAACGAAAGTAACATG-1'</li>\n",
       "\t<li>'AAACGAAAGTTACACC-1'</li>\n",
       "\t<li>'AAACGAACAGAGATGC-1'</li>\n",
       "\t<li>'AAACGAACATGCTATG-1'</li>\n",
       "</ol>\n"
      ],
      "text/latex": [
       "\\begin{enumerate*}\n",
       "\\item 'AAACGAAAGCGCAATG-1'\n",
       "\\item 'AAACGAAAGGGTATCG-1'\n",
       "\\item 'AAACGAAAGTAACATG-1'\n",
       "\\item 'AAACGAAAGTTACACC-1'\n",
       "\\item 'AAACGAACAGAGATGC-1'\n",
       "\\item 'AAACGAACATGCTATG-1'\n",
       "\\end{enumerate*}\n"
      ],
      "text/markdown": [
       "1. 'AAACGAAAGCGCAATG-1'\n",
       "2. 'AAACGAAAGGGTATCG-1'\n",
       "3. 'AAACGAAAGTAACATG-1'\n",
       "4. 'AAACGAAAGTTACACC-1'\n",
       "5. 'AAACGAACAGAGATGC-1'\n",
       "6. 'AAACGAACATGCTATG-1'\n",
       "\n",
       "\n"
      ],
      "text/plain": [
       "[1] \"AAACGAAAGCGCAATG-1\" \"AAACGAAAGGGTATCG-1\" \"AAACGAAAGTAACATG-1\"\n",
       "[4] \"AAACGAAAGTTACACC-1\" \"AAACGAACAGAGATGC-1\" \"AAACGAACATGCTATG-1\""
      ]
     },
     "metadata": {},
     "output_type": "display_data"
    }
   ],
   "source": [
    "head(sapply(strsplit(files,'\\\\.'),'[', 2))"
   ]
  },
  {
   "cell_type": "code",
   "execution_count": 10,
   "metadata": {},
   "outputs": [],
   "source": [
    "colnames(datafr) = sapply(strsplit(files,'\\\\.'),'[', 2)\n",
    "rownames(datafr) = peaknames"
   ]
  },
  {
   "cell_type": "code",
   "execution_count": 11,
   "metadata": {},
   "outputs": [
    {
     "data": {
      "text/html": [
       "<table>\n",
       "<thead><tr><th></th><th scope=col>AAACGAAAGCGCAATG-1</th><th scope=col>AAACGAAAGGGTATCG-1</th><th scope=col>AAACGAAAGTAACATG-1</th><th scope=col>AAACGAAAGTTACACC-1</th><th scope=col>AAACGAACAGAGATGC-1</th><th scope=col>AAACGAACATGCTATG-1</th><th scope=col>AAACGAAGTGCATCAT-1</th><th scope=col>AAACGAAGTGGACGAT-1</th><th scope=col>AAACGAAGTGGCCTCA-1</th><th scope=col>AAACGAATCAGTGTAC-1</th><th scope=col>⋯</th><th scope=col>TTTGGTTGTCAGAAAT-1</th><th scope=col>TTTGGTTGTTGTATCG-1</th><th scope=col>TTTGGTTTCAGTGGTT-1</th><th scope=col>TTTGTGTAGGAAACTT-1</th><th scope=col>TTTGTGTCAAGCCTTA-1</th><th scope=col>TTTGTGTCACTCAAGT-1</th><th scope=col>TTTGTGTCACTGGGCT-1</th><th scope=col>TTTGTGTGTACGCAAG-1</th><th scope=col>TTTGTGTGTCTGCGCA-1</th><th scope=col>TTTGTGTTCAACTTGG-1</th></tr></thead>\n",
       "<tbody>\n",
       "\t<tr><th scope=row>chr1_10244_10510</th><td>1 </td><td>0 </td><td> 1</td><td>6 </td><td>0 </td><td>0 </td><td>0 </td><td>0 </td><td>0 </td><td>0 </td><td>⋯ </td><td>0 </td><td>0 </td><td>0 </td><td>0 </td><td>0 </td><td>0 </td><td>1 </td><td> 1</td><td>1 </td><td>0 </td></tr>\n",
       "\t<tr><th scope=row>chr1_237575_237942</th><td>0 </td><td>0 </td><td> 0</td><td>0 </td><td>0 </td><td>0 </td><td>0 </td><td>2 </td><td>0 </td><td>0 </td><td>⋯ </td><td>0 </td><td>0 </td><td>0 </td><td>0 </td><td>0 </td><td>0 </td><td>0 </td><td> 0</td><td>0 </td><td>0 </td></tr>\n",
       "\t<tr><th scope=row>chr1_565098_565554</th><td>0 </td><td>0 </td><td> 6</td><td>0 </td><td>0 </td><td>2 </td><td>0 </td><td>0 </td><td>0 </td><td>0 </td><td>⋯ </td><td>2 </td><td>0 </td><td>0 </td><td>0 </td><td>4 </td><td>0 </td><td>0 </td><td>12</td><td>0 </td><td>0 </td></tr>\n",
       "\t<tr><th scope=row>chr1_569172_569645</th><td>0 </td><td>0 </td><td> 8</td><td>6 </td><td>0 </td><td>4 </td><td>0 </td><td>0 </td><td>0 </td><td>0 </td><td>⋯ </td><td>0 </td><td>0 </td><td>0 </td><td>0 </td><td>2 </td><td>0 </td><td>0 </td><td> 0</td><td>0 </td><td>0 </td></tr>\n",
       "\t<tr><th scope=row>chr1_713421_715095</th><td>4 </td><td>4 </td><td>10</td><td>4 </td><td>0 </td><td>2 </td><td>0 </td><td>6 </td><td>0 </td><td>4 </td><td>⋯ </td><td>2 </td><td>4 </td><td>2 </td><td>2 </td><td>2 </td><td>0 </td><td>8 </td><td> 4</td><td>0 </td><td>0 </td></tr>\n",
       "\t<tr><th scope=row>chr1_752386_753061</th><td>4 </td><td>0 </td><td> 0</td><td>0 </td><td>0 </td><td>0 </td><td>0 </td><td>0 </td><td>0 </td><td>0 </td><td>⋯ </td><td>2 </td><td>2 </td><td>0 </td><td>0 </td><td>0 </td><td>0 </td><td>0 </td><td> 0</td><td>0 </td><td>0 </td></tr>\n",
       "</tbody>\n",
       "</table>\n"
      ],
      "text/latex": [
       "\\begin{tabular}{r|lllllllllllllllllllllllllllllllllllllllllllllllllllllllllllllllllllllllllllllllllllllllllllllllllllllllllllllllllllllllllllllllllllllllllllllllllllllllllllllllllllllllllllllllllllllllllllllllllllllllllllllllllllllllllllllllllllllllllllllllllllllllllllllllllllllllllllllllllllllllllllllllllllllllllllllllllllllllllllllllllllllllllllllllllllllllllllllllllllllllllllllllllllllllllllllllllllllllllllllllllllllllllllllllllllllllllllllllllllllllllllllllllllllllllllllllllllllllllllllllllllllllllllllllllllllllllllllllllllllllllllllllllllllllllllllllllllllllllllllllllllllllllllllllllllllllllllllllllllllllllllllllllllllllllllllllllllllllllllllllllllllllllllllllllllllllllllllllllllllllllllllllllllllllllllllllllllllllllllllllllllllllllllllllllllllllllllllllllllllllllllllllllllllllllllllllllllllllllllllllllllllllllllllllllllllllllllllllllllllllllllllllllllllllllllllllllllllllllllllllllllllllllllllllllllllllllllllllllllllllllllllllllllllllllllllllllllllllllllllllllllllllllllllllllllllllllllllllllllllllllllllllllllllllllllllllllllllllllllllllllllllllllllllllllllllllllllllllllllllllllllllllllllllllllllllllllllllllllllllllllllllllllllllllllllllllllllllllllllllllllllllllllllllllllllllllllllllllllllllllllllllllllllllllllllllllllllllllllllllllllllllllllllllllllllllllllllllllllllllllllllllllllllllllllllllllllllllllllllllllllllllllllllllllllllllllllllllllllllllllllllllllllllllllllllllllllllllllllllllllllllllllllllllllllllllllllllllllllllllllllllllllllllllllllllllllllllllllllllllllllllllllllllllllllllllllllllllllllllllllllllllllllllllllllllllllllllllllllllllllllllllllllllllllllllllllllllllllllllllllllllllllllllllllllllllllllllllllllllllllllllllllllllllllllllllllllllllllllllllllllllllllllllllllllllllllllllllllllllllllllllllllllllllllllllllllllllllllllllllllllllllllllllllllllllllllllllllllllllllllllllllllllllllllllllllllllllllllllllllllllllllllllllllllllllllllllllllllllllllllllllllllllllllllllllllllllllllllllllllllllllllllllllllllllllllllllllllllllllllllllllllllllllllllllllllllllllllllllllllllllllllllllllllllllllllllllllllllllllllllllllllllllllllllllllllllllllllllllllllllllllllllllllllllllllllllllllllllllllllllllllllllllllllllllllllllllllllllllllllllllllllllllllllllllllllllllllllllllllllllllllllllllllllllllllllllllllllllllllllllllllllllllllllllllllllllllllllllllllllllllllllllllllllllllllllllllllllllllllllllllllllllllllllllllllllllllllllllllllllllllllllllllllllllllllllllllllllllllllllllllllllllllllllllllllllllllllllllllllllllllllllllllllllllllllllllllllllllllllllllllllllllllllllllllllllllllllllllllllllllllllllllllllllllllllllllllllllllllllllllllllllllllllllllllllllllllllllllllllllllllllllllllllllllllllllllllllllllllllllllllllllllllllllllllllllllllllllllllllllllllllllllllllllllllllllllllllllllllllllllllllllllllllllllllllllllllllllllllllllllllllllllllllllllllllllllllllllllllllllllllllllllllllllllllllllllllllllllllllllllllllllllllllllllllllllllllllllllllllllllllllllllllllllllllllllllllllllllllllllllllllllllllllllllllllllllllllllllllllllllllllllllllllllllllllllllllllllllllllllllllllllllllllllllllllllllllllllllllllllllllllllllllllllllllllllllllllllllllllllllllllllllllllllllllllllllllllllllllllllllllllllllllllllllllllllllllllllllllllllllllllllllllllllllllllllllllllllllllllllllllllllllllllllllllllllllllllllllllllllllllllllllllllllllllllllllllllllllllllllllllllllllllllllllllllllllllllllllllllllllllllllllllllllllllllllllllllllllllllllllllllllllllllllllllllllllllllllllllllllllllllllllllllllllllllllllllllllllllllllllllllllllllllllllllllllllllllllllllllllllllllllllllllllllllllllllllllllllllllllllllllllllllllllllllllllllllllllllllllllllllllllllllllllllllllllllllllllllllllllllllllllllllllllllllllllllllllllllllllllllllllllllllllllllllllllllllllllllllllllllllllllllllllllllllllllllllllllllllllllllllllllllllllllllllllllllllllllllllllllllllllllllllllllllllllllllllllllllllllllllllllllllllllllllllllllllllllllllllllllllllllllllllllllllllllllllllllllllllllllllllllllllllllllllllllllllllllllllllllllllllllllllllllllllllllllllllllllllllllllllllllllllllllllllllllllllllllllllllllllllllllllllllllllllllllllllllllllllllllllllllllllllllllllllllllllllllllllllllllllllllllllllllllllllllllllllllllllllllllllllllllllllllllllllllllllllllllllllllllllllllllllllllllllllllllllllllllllllllllllllllllllllllllllllllllllllllllllllllllllllllllllllllllllllllllllllllllllllllllllllllllllllllllllllllllllllllllllllllllllllllllllllllllllllllllllllllllllllllllllllllllllllllllllllllllllllllllllllllllllllllllllllllllllllllllllllllllllllllllllllllllllllllllllllllllllllllllllllllllllllllllllllllllllllllllllllllllllllllllllllllllllllllllllllllllllllllllllllllllllllllllllllllllllllllllllllllllllllllllllllllllllllllllllllllllllllllllllllllllllllllllllllllllllllllllllllllllllllllllllllllllllllllllllllllllllllllllllllllllllllllllllllllllllllllllllllllllllllllllllllllllllllllllllllllllllllllllllllllllllllllllllllllllllllllllllllllllllllllllllllllllllllllllllllllllllllllllllllllllllllllllllllllllllllllllllllllllllllllllllllllllllllllllllllllllllllllllllllllllllllllllllllllllllllllllllllllllllllllllllllllllllllllllllllllllllllllllllllllllllllllllllllllllllllllllllllllllllllllllllllllllllllllllllllllllllllllllllllllllllllllllllllllllllllllllllllllllllllllllllllllllllllllllllllllllllllllllllllllllllllllllllllllllllllllllllllllllllllllllllllllllllllllllllllllllllllllllllllllllllllllllllllllllllllllllllllllllllllllllllllllllllllllllllll}\n",
       "  & AAACGAAAGCGCAATG-1 & AAACGAAAGGGTATCG-1 & AAACGAAAGTAACATG-1 & AAACGAAAGTTACACC-1 & AAACGAACAGAGATGC-1 & AAACGAACATGCTATG-1 & AAACGAAGTGCATCAT-1 & AAACGAAGTGGACGAT-1 & AAACGAAGTGGCCTCA-1 & AAACGAATCAGTGTAC-1 & ⋯ & TTTGGTTGTCAGAAAT-1 & TTTGGTTGTTGTATCG-1 & TTTGGTTTCAGTGGTT-1 & TTTGTGTAGGAAACTT-1 & TTTGTGTCAAGCCTTA-1 & TTTGTGTCACTCAAGT-1 & TTTGTGTCACTGGGCT-1 & TTTGTGTGTACGCAAG-1 & TTTGTGTGTCTGCGCA-1 & TTTGTGTTCAACTTGG-1\\\\\n",
       "\\hline\n",
       "\tchr1\\_10244\\_10510 & 1  & 0  &  1 & 6  & 0  & 0  & 0  & 0  & 0  & 0  & ⋯  & 0  & 0  & 0  & 0  & 0  & 0  & 1  &  1 & 1  & 0 \\\\\n",
       "\tchr1\\_237575\\_237942 & 0  & 0  &  0 & 0  & 0  & 0  & 0  & 2  & 0  & 0  & ⋯  & 0  & 0  & 0  & 0  & 0  & 0  & 0  &  0 & 0  & 0 \\\\\n",
       "\tchr1\\_565098\\_565554 & 0  & 0  &  6 & 0  & 0  & 2  & 0  & 0  & 0  & 0  & ⋯  & 2  & 0  & 0  & 0  & 4  & 0  & 0  & 12 & 0  & 0 \\\\\n",
       "\tchr1\\_569172\\_569645 & 0  & 0  &  8 & 6  & 0  & 4  & 0  & 0  & 0  & 0  & ⋯  & 0  & 0  & 0  & 0  & 2  & 0  & 0  &  0 & 0  & 0 \\\\\n",
       "\tchr1\\_713421\\_715095 & 4  & 4  & 10 & 4  & 0  & 2  & 0  & 6  & 0  & 4  & ⋯  & 2  & 4  & 2  & 2  & 2  & 0  & 8  &  4 & 0  & 0 \\\\\n",
       "\tchr1\\_752386\\_753061 & 4  & 0  &  0 & 0  & 0  & 0  & 0  & 0  & 0  & 0  & ⋯  & 2  & 2  & 0  & 0  & 0  & 0  & 0  &  0 & 0  & 0 \\\\\n",
       "\\end{tabular}\n"
      ],
      "text/markdown": [
       "\n",
       "| <!--/--> | AAACGAAAGCGCAATG-1 | AAACGAAAGGGTATCG-1 | AAACGAAAGTAACATG-1 | AAACGAAAGTTACACC-1 | AAACGAACAGAGATGC-1 | AAACGAACATGCTATG-1 | AAACGAAGTGCATCAT-1 | AAACGAAGTGGACGAT-1 | AAACGAAGTGGCCTCA-1 | AAACGAATCAGTGTAC-1 | ⋯ | TTTGGTTGTCAGAAAT-1 | TTTGGTTGTTGTATCG-1 | TTTGGTTTCAGTGGTT-1 | TTTGTGTAGGAAACTT-1 | TTTGTGTCAAGCCTTA-1 | TTTGTGTCACTCAAGT-1 | TTTGTGTCACTGGGCT-1 | TTTGTGTGTACGCAAG-1 | TTTGTGTGTCTGCGCA-1 | TTTGTGTTCAACTTGG-1 |\n",
       "|---|---|---|---|---|---|---|---|---|---|---|---|---|---|---|---|---|---|---|---|---|---|\n",
       "| chr1_10244_10510 | 1  | 0  |  1 | 6  | 0  | 0  | 0  | 0  | 0  | 0  | ⋯  | 0  | 0  | 0  | 0  | 0  | 0  | 1  |  1 | 1  | 0  |\n",
       "| chr1_237575_237942 | 0  | 0  |  0 | 0  | 0  | 0  | 0  | 2  | 0  | 0  | ⋯  | 0  | 0  | 0  | 0  | 0  | 0  | 0  |  0 | 0  | 0  |\n",
       "| chr1_565098_565554 | 0  | 0  |  6 | 0  | 0  | 2  | 0  | 0  | 0  | 0  | ⋯  | 2  | 0  | 0  | 0  | 4  | 0  | 0  | 12 | 0  | 0  |\n",
       "| chr1_569172_569645 | 0  | 0  |  8 | 6  | 0  | 4  | 0  | 0  | 0  | 0  | ⋯  | 0  | 0  | 0  | 0  | 2  | 0  | 0  |  0 | 0  | 0  |\n",
       "| chr1_713421_715095 | 4  | 4  | 10 | 4  | 0  | 2  | 0  | 6  | 0  | 4  | ⋯  | 2  | 4  | 2  | 2  | 2  | 0  | 8  |  4 | 0  | 0  |\n",
       "| chr1_752386_753061 | 4  | 0  |  0 | 0  | 0  | 0  | 0  | 0  | 0  | 0  | ⋯  | 2  | 2  | 0  | 0  | 0  | 0  | 0  |  0 | 0  | 0  |\n",
       "\n"
      ],
      "text/plain": [
       "                   AAACGAAAGCGCAATG-1 AAACGAAAGGGTATCG-1 AAACGAAAGTAACATG-1\n",
       "chr1_10244_10510   1                  0                   1                \n",
       "chr1_237575_237942 0                  0                   0                \n",
       "chr1_565098_565554 0                  0                   6                \n",
       "chr1_569172_569645 0                  0                   8                \n",
       "chr1_713421_715095 4                  4                  10                \n",
       "chr1_752386_753061 4                  0                   0                \n",
       "                   AAACGAAAGTTACACC-1 AAACGAACAGAGATGC-1 AAACGAACATGCTATG-1\n",
       "chr1_10244_10510   6                  0                  0                 \n",
       "chr1_237575_237942 0                  0                  0                 \n",
       "chr1_565098_565554 0                  0                  2                 \n",
       "chr1_569172_569645 6                  0                  4                 \n",
       "chr1_713421_715095 4                  0                  2                 \n",
       "chr1_752386_753061 0                  0                  0                 \n",
       "                   AAACGAAGTGCATCAT-1 AAACGAAGTGGACGAT-1 AAACGAAGTGGCCTCA-1\n",
       "chr1_10244_10510   0                  0                  0                 \n",
       "chr1_237575_237942 0                  2                  0                 \n",
       "chr1_565098_565554 0                  0                  0                 \n",
       "chr1_569172_569645 0                  0                  0                 \n",
       "chr1_713421_715095 0                  6                  0                 \n",
       "chr1_752386_753061 0                  0                  0                 \n",
       "                   AAACGAATCAGTGTAC-1 ⋯ TTTGGTTGTCAGAAAT-1 TTTGGTTGTTGTATCG-1\n",
       "chr1_10244_10510   0                  ⋯ 0                  0                 \n",
       "chr1_237575_237942 0                  ⋯ 0                  0                 \n",
       "chr1_565098_565554 0                  ⋯ 2                  0                 \n",
       "chr1_569172_569645 0                  ⋯ 0                  0                 \n",
       "chr1_713421_715095 4                  ⋯ 2                  4                 \n",
       "chr1_752386_753061 0                  ⋯ 2                  2                 \n",
       "                   TTTGGTTTCAGTGGTT-1 TTTGTGTAGGAAACTT-1 TTTGTGTCAAGCCTTA-1\n",
       "chr1_10244_10510   0                  0                  0                 \n",
       "chr1_237575_237942 0                  0                  0                 \n",
       "chr1_565098_565554 0                  0                  4                 \n",
       "chr1_569172_569645 0                  0                  2                 \n",
       "chr1_713421_715095 2                  2                  2                 \n",
       "chr1_752386_753061 0                  0                  0                 \n",
       "                   TTTGTGTCACTCAAGT-1 TTTGTGTCACTGGGCT-1 TTTGTGTGTACGCAAG-1\n",
       "chr1_10244_10510   0                  1                   1                \n",
       "chr1_237575_237942 0                  0                   0                \n",
       "chr1_565098_565554 0                  0                  12                \n",
       "chr1_569172_569645 0                  0                   0                \n",
       "chr1_713421_715095 0                  8                   4                \n",
       "chr1_752386_753061 0                  0                   0                \n",
       "                   TTTGTGTGTCTGCGCA-1 TTTGTGTTCAACTTGG-1\n",
       "chr1_10244_10510   1                  0                 \n",
       "chr1_237575_237942 0                  0                 \n",
       "chr1_565098_565554 0                  0                 \n",
       "chr1_569172_569645 0                  0                 \n",
       "chr1_713421_715095 0                  0                 \n",
       "chr1_752386_753061 0                  0                 "
      ]
     },
     "metadata": {},
     "output_type": "display_data"
    }
   ],
   "source": [
    "head(datafr)"
   ]
  },
  {
   "cell_type": "code",
   "execution_count": 12,
   "metadata": {},
   "outputs": [
    {
     "data": {
      "text/html": [
       "<ol class=list-inline>\n",
       "\t<li>97998</li>\n",
       "\t<li>5335</li>\n",
       "</ol>\n"
      ],
      "text/latex": [
       "\\begin{enumerate*}\n",
       "\\item 97998\n",
       "\\item 5335\n",
       "\\end{enumerate*}\n"
      ],
      "text/markdown": [
       "1. 97998\n",
       "2. 5335\n",
       "\n",
       "\n"
      ],
      "text/plain": [
       "[1] 97998  5335"
      ]
     },
     "metadata": {},
     "output_type": "display_data"
    }
   ],
   "source": [
    "dim(datafr)"
   ]
  },
  {
   "cell_type": "code",
   "execution_count": 13,
   "metadata": {},
   "outputs": [],
   "source": [
    "# saveRDS(datafr, file = './datafr.rds')\n",
    "# datafr = readRDS('./datafr.rds')"
   ]
  },
  {
   "cell_type": "code",
   "execution_count": 14,
   "metadata": {},
   "outputs": [],
   "source": [
    "run_pca <- function(mat,num_pcs=50,scale=FALSE,center=FALSE){\n",
    "    set.seed(2019) \n",
    "    SVD = irlba(mat, num_pcs, num_pcs,scale=scale,center=center)\n",
    "    sk_diag = matrix(0, nrow=num_pcs, ncol=num_pcs)\n",
    "    diag(sk_diag) = SVD$d\n",
    "    SVD_vd = t(sk_diag %*% t(SVD$v))\n",
    "    return(t(SVD_vd))\n",
    "}\n",
    "\n",
    "\n",
    "elbow_plot <- function(mat,num_pcs=50,scale=FALSE,center=FALSE,title='',width=3,height=3){\n",
    "    set.seed(2019) \n",
    "    mat = data.matrix(mat)\n",
    "    SVD = irlba(mat, num_pcs, num_pcs,scale=scale,center=center)\n",
    "    options(repr.plot.width=width, repr.plot.height=height)\n",
    "    df_plot = data.frame(PC=1:num_pcs, SD=SVD$d);\n",
    "#     print(SVD$d[1:num_pcs])\n",
    "    p <- ggplot(df_plot, aes(x = PC, y = SD)) +\n",
    "      geom_point(col=\"#cd5c5c\",size = 1) + \n",
    "      ggtitle(title)\n",
    "    return(p)\n",
    "}"
   ]
  },
  {
   "cell_type": "code",
   "execution_count": null,
   "metadata": {},
   "outputs": [],
   "source": []
  },
  {
   "cell_type": "markdown",
   "metadata": {},
   "source": [
    "### Obtain Feature Matrix"
   ]
  },
  {
   "cell_type": "code",
   "execution_count": 15,
   "metadata": {},
   "outputs": [],
   "source": [
    "start_time <- Sys.time()"
   ]
  },
  {
   "cell_type": "code",
   "execution_count": 16,
   "metadata": {},
   "outputs": [],
   "source": [
    "metadata <- read.table('../../input/metadata.tsv',\n",
    "                         header = TRUE,\n",
    "                         stringsAsFactors=FALSE,quote=\"\",row.names=1)"
   ]
  },
  {
   "cell_type": "code",
   "execution_count": 17,
   "metadata": {
    "scrolled": true
   },
   "outputs": [],
   "source": [
    "binary_mat = as.matrix((datafr > 0) + 0)\n",
    "binary_mat = Matrix(binary_mat, sparse = TRUE) "
   ]
  },
  {
   "cell_type": "code",
   "execution_count": 18,
   "metadata": {
    "scrolled": false
   },
   "outputs": [
    {
     "data": {
      "text/plain": [
       "3 x 3 sparse Matrix of class \"dgCMatrix\"\n",
       "                   AAACGAAAGCGCAATG-1 AAACGAAAGGGTATCG-1 AAACGAAAGTAACATG-1\n",
       "chr1_10244_10510                    1                  .                  1\n",
       "chr1_237575_237942                  .                  .                  .\n",
       "chr1_565098_565554                  .                  .                  1"
      ]
     },
     "metadata": {},
     "output_type": "display_data"
    }
   ],
   "source": [
    "binary_mat[1:3,1:3]"
   ]
  },
  {
   "cell_type": "code",
   "execution_count": 19,
   "metadata": {},
   "outputs": [
    {
     "data": {
      "image/png": "[encoded data removed]",
      "text/plain": [
       "Plot with title “Number of Sites Each Cell Uses”"
      ]
     },
     "metadata": {},
     "output_type": "display_data"
    }
   ],
   "source": [
    "num_cells_ncounted = rowSums(binary_mat)\n",
    "ncounts = binary_mat[num_cells_ncounted >= dim(binary_mat)[2]*0.01,]\n",
    "new_counts = colSums(ncounts)\n",
    "# ncounts = ncounts[,new_counts >= quantile(new_counts,probs=0.1)]\n",
    "ncounts = ncounts[rowSums(ncounts) > 0,]\n",
    "\n",
    "options(repr.plot.width=8, repr.plot.height=4)\n",
    "par(mfrow=c(1,2))\n",
    "hist(log10(num_cells_ncounted),main=\"No. of Cells Each Site is Observed In\",breaks=50)\n",
    "abline(v=log10(min(num_cells_ncounted[num_cells_ncounted >= dim(binary_mat)[2]*0.01])),lwd=2,col=\"indianred\")\n",
    "hist(log10(new_counts),main=\"Number of Sites Each Cell Uses\",breaks=50)\n",
    "# abline(v=log10(quantile(new_counts,probs=0.1)),lwd=2,col=\"indianred\")"
   ]
  },
  {
   "cell_type": "code",
   "execution_count": 20,
   "metadata": {
    "scrolled": true
   },
   "outputs": [
    {
     "data": {
      "text/html": [
       "<ol class=list-inline>\n",
       "\t<li>69319</li>\n",
       "\t<li>5335</li>\n",
       "</ol>\n"
      ],
      "text/latex": [
       "\\begin{enumerate*}\n",
       "\\item 69319\n",
       "\\item 5335\n",
       "\\end{enumerate*}\n"
      ],
      "text/markdown": [
       "1. 69319\n",
       "2. 5335\n",
       "\n",
       "\n"
      ],
      "text/plain": [
       "[1] 69319  5335"
      ]
     },
     "metadata": {},
     "output_type": "display_data"
    }
   ],
   "source": [
    "dim(ncounts)"
   ]
  },
  {
   "cell_type": "code",
   "execution_count": 21,
   "metadata": {},
   "outputs": [
    {
     "data": {
      "text/plain": [
       "3 x 3 sparse Matrix of class \"dgCMatrix\"\n",
       "                   AAACGAAAGCGCAATG-1 AAACGAAAGGGTATCG-1 AAACGAAAGTAACATG-1\n",
       "chr1_10244_10510                    1                  .                  1\n",
       "chr1_237575_237942                  .                  .                  .\n",
       "chr1_565098_565554                  .                  .                  1"
      ]
     },
     "metadata": {},
     "output_type": "display_data"
    }
   ],
   "source": [
    "ncounts[1:3,1:3]"
   ]
  },
  {
   "cell_type": "code",
   "execution_count": 22,
   "metadata": {
    "scrolled": true
   },
   "outputs": [],
   "source": [
    "sexsites = c(grep(\"chrY\",rownames(ncounts)),grep(\"chrX\",rownames(ncounts)))\n",
    "ncounts.nosex = ncounts[-sexsites,]"
   ]
  },
  {
   "cell_type": "code",
   "execution_count": 23,
   "metadata": {
    "scrolled": false
   },
   "outputs": [
    {
     "data": {
      "text/html": [
       "<ol class=list-inline>\n",
       "\t<li>67427</li>\n",
       "\t<li>5335</li>\n",
       "</ol>\n"
      ],
      "text/latex": [
       "\\begin{enumerate*}\n",
       "\\item 67427\n",
       "\\item 5335\n",
       "\\end{enumerate*}\n"
      ],
      "text/markdown": [
       "1. 67427\n",
       "2. 5335\n",
       "\n",
       "\n"
      ],
      "text/plain": [
       "[1] 67427  5335"
      ]
     },
     "metadata": {},
     "output_type": "display_data"
    }
   ],
   "source": [
    "dim(ncounts.nosex)"
   ]
  },
  {
   "cell_type": "code",
   "execution_count": null,
   "metadata": {},
   "outputs": [],
   "source": []
  },
  {
   "cell_type": "markdown",
   "metadata": {},
   "source": [
    "#### Using the same number of pcs as in Cusanovich2018_buenrostro2018.ipynb"
   ]
  },
  {
   "cell_type": "code",
   "execution_count": 24,
   "metadata": {},
   "outputs": [],
   "source": [
    "fm_control = run_pca(ncounts.nosex,num_pcs = 150)"
   ]
  },
  {
   "cell_type": "code",
   "execution_count": 25,
   "metadata": {},
   "outputs": [
    {
     "data": {
      "text/html": [
       "<ol class=list-inline>\n",
       "\t<li>150</li>\n",
       "\t<li>5335</li>\n",
       "</ol>\n"
      ],
      "text/latex": [
       "\\begin{enumerate*}\n",
       "\\item 150\n",
       "\\item 5335\n",
       "\\end{enumerate*}\n"
      ],
      "text/markdown": [
       "1. 150\n",
       "2. 5335\n",
       "\n",
       "\n"
      ],
      "text/plain": [
       "[1]  150 5335"
      ]
     },
     "metadata": {},
     "output_type": "display_data"
    },
    {
     "data": {
      "text/html": [
       "<table>\n",
       "<tbody>\n",
       "\t<tr><td>-60.2744887</td><td>-61.511790 </td><td>-82.305085 </td></tr>\n",
       "\t<tr><td> 19.0419546</td><td> 22.135760 </td><td>-15.133933 </td></tr>\n",
       "\t<tr><td> -0.4996755</td><td>  3.547588 </td><td>  5.126708 </td></tr>\n",
       "</tbody>\n",
       "</table>\n"
      ],
      "text/latex": [
       "\\begin{tabular}{lll}\n",
       "\t -60.2744887 & -61.511790  & -82.305085 \\\\\n",
       "\t  19.0419546 &  22.135760  & -15.133933 \\\\\n",
       "\t  -0.4996755 &   3.547588  &   5.126708 \\\\\n",
       "\\end{tabular}\n"
      ],
      "text/markdown": [
       "\n",
       "| -60.2744887 | -61.511790  | -82.305085  |\n",
       "|  19.0419546 |  22.135760  | -15.133933  |\n",
       "|  -0.4996755 |   3.547588  |   5.126708  |\n",
       "\n"
      ],
      "text/plain": [
       "     [,1]        [,2]       [,3]      \n",
       "[1,] -60.2744887 -61.511790 -82.305085\n",
       "[2,]  19.0419546  22.135760 -15.133933\n",
       "[3,]  -0.4996755   3.547588   5.126708"
      ]
     },
     "metadata": {},
     "output_type": "display_data"
    }
   ],
   "source": [
    "dim(fm_control)\n",
    "fm_control[1:3,1:3]"
   ]
  },
  {
   "cell_type": "code",
   "execution_count": 26,
   "metadata": {},
   "outputs": [],
   "source": [
    "end_time <- Sys.time()"
   ]
  },
  {
   "cell_type": "code",
   "execution_count": 27,
   "metadata": {
    "scrolled": true
   },
   "outputs": [
    {
     "data": {
      "text/plain": [
       "Time difference of 6.688386 mins"
      ]
     },
     "metadata": {},
     "output_type": "display_data"
    }
   ],
   "source": [
    "end_time - start_time"
   ]
  },
  {
   "cell_type": "code",
   "execution_count": null,
   "metadata": {},
   "outputs": [],
   "source": []
  },
  {
   "cell_type": "code",
   "execution_count": 28,
   "metadata": {
    "scrolled": true
   },
   "outputs": [
    {
     "data": {
      "text/html": [
       "<ol class=list-inline>\n",
       "\t<li>150</li>\n",
       "\t<li>5335</li>\n",
       "</ol>\n"
      ],
      "text/latex": [
       "\\begin{enumerate*}\n",
       "\\item 150\n",
       "\\item 5335\n",
       "\\end{enumerate*}\n"
      ],
      "text/markdown": [
       "1. 150\n",
       "2. 5335\n",
       "\n",
       "\n"
      ],
      "text/plain": [
       "[1]  150 5335"
      ]
     },
     "metadata": {},
     "output_type": "display_data"
    }
   ],
   "source": [
    "colnames(fm_control) = colnames(datafr)\n",
    "rownames(fm_control) = paste('PC',1:dim(fm_control)[1])\n",
    "dim(fm_control)"
   ]
  },
  {
   "cell_type": "code",
   "execution_count": 29,
   "metadata": {},
   "outputs": [
    {
     "data": {
      "text/html": [
       "TRUE"
      ],
      "text/latex": [
       "TRUE"
      ],
      "text/markdown": [
       "TRUE"
      ],
      "text/plain": [
       "[1] TRUE"
      ]
     },
     "metadata": {},
     "output_type": "display_data"
    }
   ],
   "source": [
    "all(colnames(fm_control) == rownames(metadata))"
   ]
  },
  {
   "cell_type": "code",
   "execution_count": 30,
   "metadata": {},
   "outputs": [],
   "source": [
    "saveRDS(fm_control, file = '../../output/feature_matrices/FM_Control_10xpbmc5k.rds')"
   ]
  },
  {
   "cell_type": "code",
   "execution_count": null,
   "metadata": {},
   "outputs": [],
   "source": []
  },
  {
   "cell_type": "markdown",
   "metadata": {},
   "source": [
    "### Downstream Analysis"
   ]
  },
  {
   "cell_type": "code",
   "execution_count": 31,
   "metadata": {},
   "outputs": [],
   "source": [
    "set.seed(0)\n",
    "tsne_control = Rtsne(t(fm_control),pca=F)"
   ]
  },
  {
   "cell_type": "code",
   "execution_count": 32,
   "metadata": {},
   "outputs": [],
   "source": [
    "library(RColorBrewer)"
   ]
  },
  {
   "cell_type": "code",
   "execution_count": 33,
   "metadata": {},
   "outputs": [],
   "source": [
    "plot.tsne <- function(x, labels,\n",
    "         main=\"A tSNE visualization\",n=20,\n",
    "         pad=0.1, cex=0.65, pch=19, add=FALSE, legend.suffix=\"\",\n",
    "         cex.main=1, cex.legend=1) {\n",
    "  qual_col_pals = brewer.pal.info[brewer.pal.info$category == 'qual',]\n",
    "  col_vector = unlist(mapply(brewer.pal, qual_col_pals$maxcolors, rownames(qual_col_pals)))\n",
    "  layout = x\n",
    "  \n",
    "  xylim = range(layout)\n",
    "  xylim = xylim + ((xylim[2]-xylim[1])*pad)*c(-0.5, 0.5)\n",
    "  if (!add) {\n",
    "    par(mar=c(0.2,0.7,1.2,0.7), ps=10)\n",
    "    plot(xylim, xylim, type=\"n\", axes=F, frame=F)\n",
    "    rect(xylim[1], xylim[1], xylim[2], xylim[2], border=\"#aaaaaa\", lwd=0.25)  \n",
    "  }\n",
    "  points(layout[,1], layout[,2], col=col_vector[as.integer(labels)],\n",
    "         cex=cex, pch=pch)\n",
    "  mtext(side=3, main, cex=cex.main)\n",
    "\n",
    "  labels.u = unique(labels)\n",
    "  legend.pos = \"topright\"\n",
    "  legend.text = as.character(labels.u)\n",
    "  if (add) {\n",
    "    legend.pos = \"bottomright\"\n",
    "    legend.text = paste(as.character(labels.u), legend.suffix)\n",
    "  }\n",
    "  legend(legend.pos, legend=legend.text,\n",
    "         col=col_vector[as.integer(labels.u)],\n",
    "         bty=\"n\", pch=pch, cex=cex.legend)\n",
    "}"
   ]
  },
  {
   "cell_type": "code",
   "execution_count": 34,
   "metadata": {
    "scrolled": true
   },
   "outputs": [
    {
     "data": {
      "image/png": "[encoded data removed]",
      "text/plain": [
       "plot without title"
      ]
     },
     "metadata": {},
     "output_type": "display_data"
    }
   ],
   "source": [
    "options(repr.plot.width=5, repr.plot.height=5)\n",
    "plot.tsne(tsne_control$Y,as.factor(metadata[,'label']))"
   ]
  },
  {
   "cell_type": "code",
   "execution_count": null,
   "metadata": {},
   "outputs": [],
   "source": []
  },
  {
   "cell_type": "code",
   "execution_count": 35,
   "metadata": {},
   "outputs": [
    {
     "data": {
      "text/plain": [
       "R version 3.5.1 (2018-07-02)\n",
       "Platform: x86_64-conda_cos6-linux-gnu (64-bit)\n",
       "Running under: CentOS Linux 7 (Core)\n",
       "\n",
       "Matrix products: default\n",
       "BLAS/LAPACK: /data/pinello/SHARED_SOFTWARE/anaconda3/envs/ATACseq_sciATAC/lib/R/lib/libRblas.so\n",
       "\n",
       "locale:\n",
       " [1] LC_CTYPE=en_US.UTF-8       LC_NUMERIC=C              \n",
       " [3] LC_TIME=en_US.UTF-8        LC_COLLATE=en_US.UTF-8    \n",
       " [5] LC_MONETARY=en_US.UTF-8    LC_MESSAGES=en_US.UTF-8   \n",
       " [7] LC_PAPER=en_US.UTF-8       LC_NAME=C                 \n",
       " [9] LC_ADDRESS=C               LC_TELEPHONE=C            \n",
       "[11] LC_MEASUREMENT=en_US.UTF-8 LC_IDENTIFICATION=C       \n",
       "\n",
       "attached base packages:\n",
       "[1] stats     graphics  grDevices utils     datasets  methods   base     \n",
       "\n",
       "other attached packages:\n",
       "[1] RColorBrewer_1.1-2 ggplot2_3.1.1      umap_0.2.0.0       irlba_2.3.2       \n",
       "[5] Rtsne_0.15         proxy_0.4-22       Matrix_1.2-17      data.table_1.12.2 \n",
       "\n",
       "loaded via a namespace (and not attached):\n",
       " [1] Rcpp_1.0.1       compiler_3.5.1   pillar_1.3.1     plyr_1.8.4      \n",
       " [5] base64enc_0.1-3  tools_3.5.1      digest_0.6.18    uuid_0.1-2      \n",
       " [9] jsonlite_1.6     evaluate_0.13    tibble_2.1.1     gtable_0.3.0    \n",
       "[13] lattice_0.20-38  pkgconfig_2.0.2  rlang_0.3.4      IRdisplay_0.7.0 \n",
       "[17] IRkernel_0.8.15  withr_2.1.2      repr_0.19.2      dplyr_0.8.0.1   \n",
       "[21] grid_3.5.1       tidyselect_0.2.5 reticulate_1.12  glue_1.3.1      \n",
       "[25] R6_2.4.0         pbdZMQ_0.3-3     purrr_0.3.2      magrittr_1.5    \n",
       "[29] scales_1.0.0     htmltools_0.3.6  assertthat_0.2.1 colorspace_1.4-1\n",
       "[33] lazyeval_0.2.2   munsell_0.5.0    crayon_1.3.4    "
      ]
     },
     "metadata": {},
     "output_type": "display_data"
    }
   ],
   "source": [
    "sessionInfo()"
   ]
  },
  {
   "cell_type": "code",
   "execution_count": 36,
   "metadata": {},
   "outputs": [],
   "source": [
    "save.image(file = 'Control_10xpbmc5k.RData')"
   ]
  },
  {
   "cell_type": "code",
   "execution_count": null,
   "metadata": {},
   "outputs": [],
   "source": []
  }
 ],
 "metadata": {
  "kernelspec": {
   "display_name": "R [conda env:ATACseq_sciATAC]",
   "language": "R",
   "name": "conda-env-ATACseq_sciATAC-r"
  },
  "language_info": {
   "codemirror_mode": "r",
   "file_extension": ".r",
   "mimetype": "text/x-r-source",
   "name": "R",
   "pygments_lexer": "r",
   "version": "3.5.1"
  }
 },
 "nbformat": 4,
 "nbformat_minor": 2
}
