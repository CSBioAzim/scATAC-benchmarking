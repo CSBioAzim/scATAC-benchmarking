{
 "cells": [
  {
   "cell_type": "markdown",
   "metadata": {},
   "source": [
    "### Import packages"
   ]
  },
  {
   "cell_type": "code",
   "execution_count": 1,
   "metadata": {},
   "outputs": [
    {
     "name": "stderr",
     "output_type": "stream",
     "text": [
      "Loading required package: stats4\n",
      "Loading required package: BiocGenerics\n",
      "Loading required package: parallel\n",
      "\n",
      "Attaching package: ‘BiocGenerics’\n",
      "\n",
      "The following objects are masked from ‘package:parallel’:\n",
      "\n",
      "    clusterApply, clusterApplyLB, clusterCall, clusterEvalQ,\n",
      "    clusterExport, clusterMap, parApply, parCapply, parLapply,\n",
      "    parLapplyLB, parRapply, parSapply, parSapplyLB\n",
      "\n",
      "The following objects are masked from ‘package:stats’:\n",
      "\n",
      "    IQR, mad, sd, var, xtabs\n",
      "\n",
      "The following objects are masked from ‘package:base’:\n",
      "\n",
      "    anyDuplicated, append, as.data.frame, basename, cbind, colMeans,\n",
      "    colnames, colSums, dirname, do.call, duplicated, eval, evalq,\n",
      "    Filter, Find, get, grep, grepl, intersect, is.unsorted, lapply,\n",
      "    lengths, Map, mapply, match, mget, order, paste, pmax, pmax.int,\n",
      "    pmin, pmin.int, Position, rank, rbind, Reduce, rowMeans, rownames,\n",
      "    rowSums, sapply, setdiff, sort, table, tapply, union, unique,\n",
      "    unsplit, which, which.max, which.min\n",
      "\n",
      "Loading required package: S4Vectors\n",
      "\n",
      "Attaching package: ‘S4Vectors’\n",
      "\n",
      "The following object is masked from ‘package:base’:\n",
      "\n",
      "    expand.grid\n",
      "\n",
      "Loading required package: IRanges\n",
      "Loading required package: GenomeInfoDb\n",
      "Warning message:\n",
      "“replacing previous import ‘IRanges::which’ by ‘Matrix::which’ when loading ‘scABC’”Loading required package: Biostrings\n",
      "Loading required package: XVector\n",
      "\n",
      "Attaching package: ‘Biostrings’\n",
      "\n",
      "The following object is masked from ‘package:base’:\n",
      "\n",
      "    strsplit\n",
      "\n",
      "\n",
      "Attaching package: ‘data.table’\n",
      "\n",
      "The following object is masked from ‘package:GenomicRanges’:\n",
      "\n",
      "    shift\n",
      "\n",
      "The following object is masked from ‘package:IRanges’:\n",
      "\n",
      "    shift\n",
      "\n",
      "The following objects are masked from ‘package:S4Vectors’:\n",
      "\n",
      "    first, second\n",
      "\n",
      "\n",
      "Attaching package: ‘dplyr’\n",
      "\n",
      "The following objects are masked from ‘package:data.table’:\n",
      "\n",
      "    between, first, last\n",
      "\n",
      "The following objects are masked from ‘package:Biostrings’:\n",
      "\n",
      "    collapse, intersect, setdiff, setequal, union\n",
      "\n",
      "The following object is masked from ‘package:XVector’:\n",
      "\n",
      "    slice\n",
      "\n",
      "The following objects are masked from ‘package:GenomicRanges’:\n",
      "\n",
      "    intersect, setdiff, union\n",
      "\n",
      "The following object is masked from ‘package:GenomeInfoDb’:\n",
      "\n",
      "    intersect\n",
      "\n",
      "The following objects are masked from ‘package:IRanges’:\n",
      "\n",
      "    collapse, desc, intersect, setdiff, slice, union\n",
      "\n",
      "The following objects are masked from ‘package:S4Vectors’:\n",
      "\n",
      "    first, intersect, rename, setdiff, setequal, union\n",
      "\n",
      "The following objects are masked from ‘package:BiocGenerics’:\n",
      "\n",
      "    combine, intersect, setdiff, union\n",
      "\n",
      "The following objects are masked from ‘package:stats’:\n",
      "\n",
      "    filter, lag\n",
      "\n",
      "The following objects are masked from ‘package:base’:\n",
      "\n",
      "    intersect, setdiff, setequal, union\n",
      "\n",
      "── Attaching packages ─────────────────────────────────────── tidyverse 1.2.1 ──\n",
      "✔ ggplot2 3.1.0     ✔ readr   1.3.1\n",
      "✔ tibble  2.1.1     ✔ purrr   0.3.2\n",
      "✔ tidyr   0.8.3     ✔ stringr 1.4.0\n",
      "✔ ggplot2 3.1.0     ✔ forcats 0.4.0\n",
      "── Conflicts ────────────────────────────────────────── tidyverse_conflicts() ──\n",
      "✖ dplyr::between()    masks data.table::between()\n",
      "✖ dplyr::collapse()   masks Biostrings::collapse(), IRanges::collapse()\n",
      "✖ dplyr::combine()    masks BiocGenerics::combine()\n",
      "✖ purrr::compact()    masks XVector::compact()\n",
      "✖ dplyr::desc()       masks IRanges::desc()\n",
      "✖ tidyr::expand()     masks S4Vectors::expand()\n",
      "✖ dplyr::filter()     masks stats::filter()\n",
      "✖ dplyr::first()      masks data.table::first(), S4Vectors::first()\n",
      "✖ dplyr::lag()        masks stats::lag()\n",
      "✖ dplyr::last()       masks data.table::last()\n",
      "✖ ggplot2::Position() masks BiocGenerics::Position(), base::Position()\n",
      "✖ purrr::reduce()     masks GenomicRanges::reduce(), IRanges::reduce()\n",
      "✖ dplyr::rename()     masks S4Vectors::rename()\n",
      "✖ dplyr::slice()      masks XVector::slice(), IRanges::slice()\n",
      "✖ purrr::transpose()  masks data.table::transpose()\n",
      "\n",
      "Attaching package: ‘Matrix’\n",
      "\n",
      "The following object is masked from ‘package:tidyr’:\n",
      "\n",
      "    expand\n",
      "\n",
      "The following object is masked from ‘package:S4Vectors’:\n",
      "\n",
      "    expand\n",
      "\n",
      "\n",
      "Attaching package: ‘gplots’\n",
      "\n",
      "The following object is masked from ‘package:IRanges’:\n",
      "\n",
      "    space\n",
      "\n",
      "The following object is masked from ‘package:S4Vectors’:\n",
      "\n",
      "    space\n",
      "\n",
      "The following object is masked from ‘package:stats’:\n",
      "\n",
      "    lowess\n",
      "\n",
      "SHA-1 hash of file is 015fc0457e61e3e93a903e69a24d96d2dac7b9fb\n"
     ]
    }
   ],
   "source": [
    "options(stringsAsFactors = FALSE)\n",
    "library(GenomicRanges)\n",
    "library(scABC)\n",
    "library(Rsamtools)\n",
    "library(data.table)\n",
    "library(dplyr)\n",
    "library(tidyverse)\n",
    "library(Matrix)\n",
    "\n",
    "library(gplots) \n",
    "library(RColorBrewer)\n",
    "library(devtools)\n",
    "source_url(\"https://raw.githubusercontent.com/obigriffith/biostar-tutorials/master/Heatmaps/heatmap.3.R\")"
   ]
  },
  {
   "cell_type": "code",
   "execution_count": null,
   "metadata": {},
   "outputs": [],
   "source": []
  },
  {
   "cell_type": "markdown",
   "metadata": {},
   "source": [
    "### Functions"
   ]
  },
  {
   "cell_type": "code",
   "execution_count": 2,
   "metadata": {},
   "outputs": [],
   "source": [
    "bam2gr <- function(bamfile, PAIRED = FALSE) {\n",
    "  if (PAIRED) {\n",
    "    scanned = scanBam(bamfile, param = ScanBamParam(flag =scanBamFlag(isMinusStrand = FALSE,\n",
    "                                                                      isUnmappedQuery = FALSE,\n",
    "                                                                      isProperPair = TRUE),\n",
    "                                                    what = c(\"rname\", \"pos\", \"isize\")))[[1]]\n",
    "    out = GRanges(seqnames = scanned$rname, IRanges(start = scanned$pos, width = scanned$isize))\n",
    "  } else {\n",
    "    scanned = scanBam(bamfile, param = ScanBamParam(flag =scanBamFlag(isUnmappedQuery = FALSE),\n",
    "                                                    what = c(\"rname\", \"pos\", \"strand\", \"qwidth\")))[[1]]\n",
    "    out = GRanges(seqnames = scanned$rname,\n",
    "                  IRanges(start = ifelse(scanned$strand == \"-\", scanned$pos + scanned$qwidth - 1, scanned$pos),\n",
    "                          width = scanned$qwidth))\n",
    "  }\n",
    "  return(out)\n",
    "}\n",
    "\n",
    "getCountsByReadGroup <- function(bamfile, peaks, RGtag, tags = NULL, PAIRED = FALSE, VERBOSE = FALSE){\n",
    "  scanned <- Rsamtools::scanBam(bamfile,\n",
    "                     param = Rsamtools::ScanBamParam(flag =scanBamFlag(isUnmappedQuery = FALSE),\n",
    "                                                     what = c(\"rname\", \"pos\", \"strand\", \"qwidth\"),\n",
    "                                                     tag = RGtag))[[1]]\n",
    "  if(is.null(tags)){\n",
    "    RGtags = unique(unlist(scanned$tag[RGtag]))\n",
    "  }\n",
    "  counts_mat = Matrix::Matrix(0, nrow = length(peaks), ncol = length(tags), sparse = TRUE)\n",
    "  for(i in 1:length(tags)){\n",
    "    tag = tags[i]\n",
    "    if(VERBOSE){\n",
    "      message(\"Processing tag \", tag)\n",
    "    }\n",
    "    match_RG <- which(scanned$tag[[RGtag]] == tag)\n",
    "    # convert bamfiles to Genomic Ranges\n",
    "    bam.gr = GenomicRanges::GRanges(seqnames = scanned$rname[match_RG],\n",
    "                                    IRanges::IRanges(start = sapply(match_RG, function(i) ifelse(scanned$strand[i] == \"-\",\n",
    "                                                                         scanned$pos[i] + scanned$qwidth[i] - 1,\n",
    "                                                                         scanned$pos[i])),\n",
    "                             width = scanned$qwidth[match_RG]))\n",
    "    counts_mat[,i] = GenomicRanges::countOverlaps(peaks, bam.gr, type = \"any\", ignore.strand = TRUE)\n",
    "  }\n",
    " # counts = do.call(cbind, lapply(RGtags, function(x) getTagCounts(x, bamfile, peaks)))\n",
    "  colnames(counts_mat) = tags\n",
    "  return(counts_mat)\n",
    "}\n",
    "                                    \n",
    "peaks2GRanges <- function(peaks, upstream = 0, downstream = 0){\n",
    "  peaks.gr = with(peaks, GenomicRanges::GRanges(chrom, IRanges::IRanges(sapply(start, function(x) max(0, x - upstream)), end + downstream), \n",
    "                                                                               id = name))#, pVal = pValue))\n",
    "}\n",
    "\n",
    "# peaks should be in GenomicRanges\n",
    "get_counts_from_bam <- function(bamfile, peaks){\n",
    "  param = Rsamtools::ScanBamParam(flag =scanBamFlag(isUnmappedQuery = FALSE), \n",
    "                                  which = peaks, \n",
    "                                  what = c(\"rname\", \"pos\", \"strand\", \"qwidth\"))\n",
    "  counts = Rsamtools::countBam(bamfile, param = param,\n",
    "                               flag = Rsamtools::scanBamFlag(isDuplicate = FALSE,\n",
    "                                                             isUnmappedQuery = FALSE))\n",
    "  return(counts[,c(\"space\", \"start\", \"end\", \"file\", \"records\")])\n",
    "}\n",
    "                                                \n",
    "\n",
    "getCountsMatrix <- function(bamfiles, peaks, PAIRED = FALSE,\n",
    "                            byReadGroup = FALSE, \n",
    "                            RGtag = 'RG',\n",
    "                            tags2include = NULL, \n",
    "                            VERBOSE = FALSE){\n",
    "  peaks.gr = peaks2GRanges(peaks)\n",
    "  if(VERBOSE){\n",
    "    message(\"beginning reading in counts\\n\")\n",
    "  }\n",
    "  if(byReadGroup){\n",
    "    if(VERBOSE){\n",
    "      message(\"getting counts by read group\\n\")\n",
    "      message(\"read group tag = \", RGtag, \"\\n\")\n",
    "    }\n",
    "    stopifnot(length(bamfiles) == 1)\n",
    "    counts_mat = getCountsByReadGroup(bamfiles, peaks.gr, RGtag = RGtag, \n",
    "                                      tags = tags2include);\n",
    "    rownames(counts_mat) = peaks$name\n",
    "  }\n",
    "  else{\n",
    "    nCells = length(bamfiles)\n",
    "    counts_mat = matrix(nrow = length(peaks.gr), ncol = nCells)\n",
    "    for(i in 1:nCells){\n",
    "      if(VERBOSE){\n",
    "        message(\"Processing file \", bamfiles[i])\n",
    "      }\n",
    "      # convert bamfiles to Genomic Ranges\n",
    "      bam.gr = bam2gr(bamfiles[i], PAIRED = PAIRED)\n",
    "      counts_mat[,i] = countOverlaps(peaks.gr, bam.gr, type = \"any\", ignore.strand = TRUE)\n",
    "    }\n",
    "    colnames(counts_mat) = bamfiles\n",
    "    rownames(counts_mat) = peaks$name\n",
    "    #counts_info = data.frame(chrom = counts_list[[1]]$space, start = counts_list[[1]]$start, end = counts_list[[1]]$end, name = peaks$id, pValue = peaks$pVal)\n",
    "  }\n",
    "  peaks = peaks[,c(\"chrom\", \"start\", \"end\", \"name\")]#, \"pValue\")]\n",
    "  return(list(peaks = peaks, ForeGroundMatrix = Matrix::Matrix(counts_mat, sparse = TRUE)))\n",
    "}\n",
    "                                                \n",
    "                                                \n",
    "sort_peaks <- function(peaks){\n",
    "  return(peaks[order(peaks$chrom, peaks$start), ])\n",
    "}\n",
    "                                                \n",
    "selectPeaks <- function(filename, thresh = 2){\n",
    "  peaks = read.table(file = filename, header = FALSE, sep = \"\\t\",\n",
    "                     stringsAsFactors = FALSE);\n",
    "  if(dim(peaks)[2] == 15){\n",
    "    # gapped peaks\n",
    "    column_names = c(\"chrom\", \"start\", \"end\", \"name\", \"score\", \"strand\",\n",
    "                     \"thickStart\", \"thickEnd\", \"itemRgb\", \"blockCount\", \"blockSizes\",\n",
    "                     \"blockStarts\", \"signalValue\", \"pValue\", \"qValue\");\n",
    "    colnames(peaks) = column_names\n",
    "    wanted_peaks = which(peaks$pValue > thresh); # pValue is -log10(p), p < 0.1 => pValue > 2\n",
    "    peaks = sort_peaks(peaks[wanted_peaks, ])\n",
    "  }\n",
    "  if(dim(peaks)[2] == 10){\n",
    "    # narrow peaks\n",
    "    column_names = c(\"chrom\", \"start\", \"end\", \"name\", \"score\", \"strand\",\n",
    "                     \"foldChange\", \"pValue\", \"qValue\", \"summit2PeakDist\")\n",
    "    colnames(peaks) = column_names\n",
    "    wanted_peaks = which(peaks$pValue > thresh); # pValue is -log10(p), p < 0.1 => pValue > 2\n",
    "    peaks = sort_peaks(peaks[wanted_peaks, ])\n",
    "  }\n",
    "  \n",
    "  # mine  \n",
    "  if(dim(peaks)[2] == 3){\n",
    "    # gapped peaks\n",
    "    column_names = c(\"chrom\", \"start\", \"end\");\n",
    "    colnames(peaks) = column_names\n",
    "    peaks = sort_peaks(peaks)\n",
    "  }\n",
    "  return(peaks)\n",
    "}\n",
    "                                                \n",
    "                                                \n",
    "getBackground <- function(bamfiles, peaks, upstream = 500000,\n",
    "                          downstream = 500000, byReadGroup = FALSE,\n",
    "                          VERBOSE = FALSE, PAIRED = FALSE){\n",
    "  nCells = length(bamfiles)\n",
    "  background_peaks.gr = peaks2GRanges(peaks, upstream, downstream)\n",
    "  if(byReadGroup){\n",
    "    counts_mat = getCountsByReadGroup2(bamfile, background_peaks.gr);\n",
    "    rownames(counts_mat) = peaks$name\n",
    "  }\n",
    "  else{\n",
    "    counts_mat = matrix(nrow = length(background_peaks.gr), ncol = nCells)\n",
    "    for(i in 1:nCells){\n",
    "      if(VERBOSE){\n",
    "        message(\"Processing file \", bamfiles[i])\n",
    "      }\n",
    "      # convert bamfiles to Genomic Ranges\n",
    "      bam.gr = bam2gr(bamfiles[i], PAIRED = PAIRED)\n",
    "      counts_mat[,i] = countOverlaps(background_peaks.gr, bam.gr, type = \"any\", ignore.strand = TRUE)\n",
    "    }\n",
    "    colnames(counts_mat) = bamfiles\n",
    "    rownames(counts_mat) = peaks$name\n",
    "    #counts_info = data.frame(chrom = counts_list[[1]]$space, start = counts_list[[1]]$start, end = counts_list[[1]]$end, name = peaks$id, pValue = peaks$pVal)\n",
    "  }\n",
    "  peaks = peaks[,c(\"chrom\", \"start\", \"end\", \"name\")]#, \"pValue\")]\n",
    "  return(list(peaks = peaks, BackGroundMatrix = Matrix::Matrix(counts_mat, sparse = TRUE)))\n",
    "}"
   ]
  },
  {
   "cell_type": "code",
   "execution_count": null,
   "metadata": {},
   "outputs": [],
   "source": []
  },
  {
   "cell_type": "markdown",
   "metadata": {},
   "source": [
    "### Obtain Feature Matrix"
   ]
  },
  {
   "cell_type": "code",
   "execution_count": 3,
   "metadata": {},
   "outputs": [],
   "source": [
    "start_time <- Sys.time()"
   ]
  },
  {
   "cell_type": "code",
   "execution_count": 4,
   "metadata": {},
   "outputs": [],
   "source": [
    "metadata <- read.table('../../input/metadata.tsv',\n",
    "                         header = TRUE,\n",
    "                         stringsAsFactors=FALSE,quote=\"\",row.names=1)"
   ]
  },
  {
   "cell_type": "code",
   "execution_count": 5,
   "metadata": {},
   "outputs": [],
   "source": [
    "# loading input 1: single-cell BAM files\n",
    "bamfiles <- list.files(\"../../input/sc-bams_nodup/\", \n",
    "                       pattern = \"*.bam\", full.names = TRUE)"
   ]
  },
  {
   "cell_type": "code",
   "execution_count": 6,
   "metadata": {
    "scrolled": false
   },
   "outputs": [
    {
     "data": {
      "text/html": [
       "5335"
      ],
      "text/latex": [
       "5335"
      ],
      "text/markdown": [
       "5335"
      ],
      "text/plain": [
       "[1] 5335"
      ]
     },
     "metadata": {},
     "output_type": "display_data"
    }
   ],
   "source": [
    "length(bamfiles)"
   ]
  },
  {
   "cell_type": "code",
   "execution_count": 7,
   "metadata": {},
   "outputs": [
    {
     "data": {
      "text/html": [
       "<ol class=list-inline>\n",
       "\t<li>97998</li>\n",
       "\t<li>4</li>\n",
       "</ol>\n"
      ],
      "text/latex": [
       "\\begin{enumerate*}\n",
       "\\item 97998\n",
       "\\item 4\n",
       "\\end{enumerate*}\n"
      ],
      "text/markdown": [
       "1. 97998\n",
       "2. 4\n",
       "\n",
       "\n"
      ],
      "text/plain": [
       "[1] 97998     4"
      ]
     },
     "metadata": {},
     "output_type": "display_data"
    },
    {
     "data": {
      "text/html": [
       "<table>\n",
       "<thead><tr><th scope=col>chrom</th><th scope=col>start</th><th scope=col>end</th><th scope=col>name</th></tr></thead>\n",
       "<tbody>\n",
       "\t<tr><td>chr1                   </td><td> 10244                 </td><td> 10510                 </td><td>Peak_chr1_10244_10510  </td></tr>\n",
       "\t<tr><td>chr1                   </td><td>237575                 </td><td>237942                 </td><td>Peak_chr1_237575_237942</td></tr>\n",
       "\t<tr><td>chr1                   </td><td>565098                 </td><td>565554                 </td><td>Peak_chr1_565098_565554</td></tr>\n",
       "\t<tr><td>chr1                   </td><td>569172                 </td><td>569645                 </td><td>Peak_chr1_569172_569645</td></tr>\n",
       "\t<tr><td>chr1                   </td><td>713421                 </td><td>715095                 </td><td>Peak_chr1_713421_715095</td></tr>\n",
       "\t<tr><td>chr1                   </td><td>752386                 </td><td>753061                 </td><td>Peak_chr1_752386_753061</td></tr>\n",
       "</tbody>\n",
       "</table>\n"
      ],
      "text/latex": [
       "\\begin{tabular}{r|llll}\n",
       " chrom & start & end & name\\\\\n",
       "\\hline\n",
       "\t chr1                          &  10244                        &  10510                        & Peak\\_chr1\\_10244\\_10510  \\\\\n",
       "\t chr1                          & 237575                        & 237942                        & Peak\\_chr1\\_237575\\_237942\\\\\n",
       "\t chr1                          & 565098                        & 565554                        & Peak\\_chr1\\_565098\\_565554\\\\\n",
       "\t chr1                          & 569172                        & 569645                        & Peak\\_chr1\\_569172\\_569645\\\\\n",
       "\t chr1                          & 713421                        & 715095                        & Peak\\_chr1\\_713421\\_715095\\\\\n",
       "\t chr1                          & 752386                        & 753061                        & Peak\\_chr1\\_752386\\_753061\\\\\n",
       "\\end{tabular}\n"
      ],
      "text/markdown": [
       "\n",
       "| chrom | start | end | name |\n",
       "|---|---|---|---|\n",
       "| chr1                    |  10244                  |  10510                  | Peak_chr1_10244_10510   |\n",
       "| chr1                    | 237575                  | 237942                  | Peak_chr1_237575_237942 |\n",
       "| chr1                    | 565098                  | 565554                  | Peak_chr1_565098_565554 |\n",
       "| chr1                    | 569172                  | 569645                  | Peak_chr1_569172_569645 |\n",
       "| chr1                    | 713421                  | 715095                  | Peak_chr1_713421_715095 |\n",
       "| chr1                    | 752386                  | 753061                  | Peak_chr1_752386_753061 |\n",
       "\n"
      ],
      "text/plain": [
       "  chrom start  end    name                   \n",
       "1 chr1   10244  10510 Peak_chr1_10244_10510  \n",
       "2 chr1  237575 237942 Peak_chr1_237575_237942\n",
       "3 chr1  565098 565554 Peak_chr1_565098_565554\n",
       "4 chr1  569172 569645 Peak_chr1_569172_569645\n",
       "5 chr1  713421 715095 Peak_chr1_713421_715095\n",
       "6 chr1  752386 753061 Peak_chr1_752386_753061"
      ]
     },
     "metadata": {},
     "output_type": "display_data"
    }
   ],
   "source": [
    "# loading input 2: peaks file\n",
    "peaks <- selectPeaks(\"../../input/atac_v1_pbmc_5k_peaks.bed\")\n",
    "peaks$name <- paste(\"Peak\", peaks$chrom, peaks$start, peaks$end, sep = \"_\")\n",
    "dim(peaks)\n",
    "head(peaks)"
   ]
  },
  {
   "cell_type": "code",
   "execution_count": null,
   "metadata": {
    "scrolled": true
   },
   "outputs": [],
   "source": [
    "ForeGround <- getCountsMatrix(bamfiles, peaks) "
   ]
  },
  {
   "cell_type": "code",
   "execution_count": null,
   "metadata": {},
   "outputs": [],
   "source": [
    "ForeGroundFiltered <- filterPeaks(ForeGround$ForeGroundMatrix, peaks, \n",
    "                             nreads_thresh = 1, \n",
    "                             ncells_thresh = length(bamfiles)*0.01)"
   ]
  },
  {
   "cell_type": "code",
   "execution_count": null,
   "metadata": {},
   "outputs": [],
   "source": [
    "dim(peaks)\n",
    "dim(ForeGroundFiltered$peaks)"
   ]
  },
  {
   "cell_type": "code",
   "execution_count": null,
   "metadata": {},
   "outputs": [],
   "source": [
    "fm_scABC = as.matrix(ForeGroundFiltered$ForeGroundMatrix)"
   ]
  },
  {
   "cell_type": "code",
   "execution_count": null,
   "metadata": {},
   "outputs": [],
   "source": []
  },
  {
   "cell_type": "code",
   "execution_count": null,
   "metadata": {
    "scrolled": true
   },
   "outputs": [],
   "source": [
    "dim(fm_scABC)\n",
    "fm_scABC[1:5,1:5]"
   ]
  },
  {
   "cell_type": "code",
   "execution_count": null,
   "metadata": {},
   "outputs": [],
   "source": [
    "end_time <- Sys.time()"
   ]
  },
  {
   "cell_type": "code",
   "execution_count": null,
   "metadata": {},
   "outputs": [],
   "source": [
    "end_time - start_time"
   ]
  },
  {
   "cell_type": "code",
   "execution_count": null,
   "metadata": {},
   "outputs": [],
   "source": []
  },
  {
   "cell_type": "code",
   "execution_count": null,
   "metadata": {},
   "outputs": [],
   "source": [
    "all(sapply(strsplit(basename(colnames(fm_scABC)),'\\\\.'),'[', 2) == rownames(metadata))"
   ]
  },
  {
   "cell_type": "code",
   "execution_count": null,
   "metadata": {},
   "outputs": [],
   "source": [
    "colnames(fm_scABC) = rownames(metadata)"
   ]
  },
  {
   "cell_type": "code",
   "execution_count": null,
   "metadata": {},
   "outputs": [],
   "source": [
    "dim(fm_scABC)\n",
    "fm_scABC[1:5,1:5]"
   ]
  },
  {
   "cell_type": "code",
   "execution_count": null,
   "metadata": {},
   "outputs": [],
   "source": []
  },
  {
   "cell_type": "code",
   "execution_count": null,
   "metadata": {},
   "outputs": [],
   "source": [
    "saveRDS(fm_scABC, file = '../../output/feature_matrices/FM_scABC_10xpbmc5k.rds')"
   ]
  },
  {
   "cell_type": "code",
   "execution_count": null,
   "metadata": {},
   "outputs": [],
   "source": []
  },
  {
   "cell_type": "markdown",
   "metadata": {},
   "source": [
    "### Downstream Analysis"
   ]
  },
  {
   "cell_type": "code",
   "execution_count": null,
   "metadata": {},
   "outputs": [],
   "source": [
    "### Instead of normalizing the peaks-by-cells matrix, \n",
    "### weights calculated below will be used in k-medoid clustering step based on cell dissimilarity matrix: WeightedCluster::wcKMedoids(FGdist, k = nCluster, weights = weights);\n",
    "### so it's not considered as part of feature matrix construction\n",
    "\n",
    "\n",
    "# BackGround <- getBackground(bamfiles, ForeGroundFiltered$peaks, \n",
    "#                            upstream = 5e+05, downstream = 5e+05,\n",
    "#                            PAIRED = FALSE, byReadGroup = FALSE)\n",
    "\n",
    "# InSilicoForeGround = ForeGroundFiltered$ForeGroundMatrix\n",
    "# InSilicoBackGround = BackGround$BackGroundMatrix\n",
    "# InSilicoPeaks = ForeGroundFiltered$peaks\n",
    "\n",
    "# fg.mat <- Matrix::Matrix(InSilicoForeGround, sparse = TRUE)\n",
    "# bg.mat <- Matrix::Matrix(InSilicoBackGround, sparse = TRUE);\n",
    "\n",
    "# weights = apply(bg.mat, 2, median);\n",
    "# c = min(8, median(weights))\n",
    "# # compute weighted k-medioids\n",
    "# lambda = 1.0\n",
    "# FGdist = 1 - sparseSpearmanCor(ForeGround);\n",
    "# weights = 1/(1 + exp(-(weights - c)/(c*lambda)));"
   ]
  },
  {
   "cell_type": "code",
   "execution_count": null,
   "metadata": {},
   "outputs": [],
   "source": [
    "BackGround <- getBackground(bamfiles, ForeGroundFiltered$peaks, \n",
    "                           upstream = 5e+05, downstream = 5e+05,\n",
    "                           PAIRED = FALSE, byReadGroup = FALSE)"
   ]
  },
  {
   "cell_type": "code",
   "execution_count": null,
   "metadata": {},
   "outputs": [],
   "source": [
    "InSilicoForeGround = ForeGroundFiltered$ForeGroundMatrix\n",
    "InSilicoBackGround = BackGround$BackGroundMatrix\n",
    "InSilicoPeaks = ForeGroundFiltered$peaks"
   ]
  },
  {
   "cell_type": "code",
   "execution_count": null,
   "metadata": {},
   "outputs": [],
   "source": [
    "#compute the landmarks\n",
    "InSilicoLandMarks = computeLandmarks(ForeGround = InSilicoForeGround, \n",
    "                                      BackGround = InSilicoBackGround, \n",
    "                                      nCluster = length(unique(metadata$label)), lambda = 1, nTop = 2000)"
   ]
  },
  {
   "cell_type": "code",
   "execution_count": null,
   "metadata": {},
   "outputs": [],
   "source": [
    "cor(InSilicoLandMarks, InSilicoLandMarks, method = 'spearman')"
   ]
  },
  {
   "cell_type": "code",
   "execution_count": null,
   "metadata": {},
   "outputs": [],
   "source": [
    "# assign cells to the closest landmark #\n",
    "InSilicoLandMarkAssignments = assign2landmarks(InSilicoForeGround, InSilicoLandMarks)"
   ]
  },
  {
   "cell_type": "code",
   "execution_count": null,
   "metadata": {
    "scrolled": true
   },
   "outputs": [],
   "source": [
    "dim(InSilicoLandMarks)\n",
    "head(InSilicoLandMarks)"
   ]
  },
  {
   "cell_type": "code",
   "execution_count": null,
   "metadata": {},
   "outputs": [],
   "source": [
    "InSilicoCell2LandmarkCorrelation = do.call(cbind, \n",
    "                                           lapply(seq(length(unique(metadata$label))), \n",
    "                                                  function(i) apply(InSilicoForeGround, 2, \n",
    "                                                                    function(x) cor(x, InSilicoLandMarks[,i], method = 'spearman'))))"
   ]
  },
  {
   "cell_type": "code",
   "execution_count": null,
   "metadata": {},
   "outputs": [],
   "source": [
    "dim(InSilicoCell2LandmarkCorrelation)\n",
    "InSilicoCell2LandmarkCorrelation[1:5,1:5]"
   ]
  },
  {
   "cell_type": "code",
   "execution_count": null,
   "metadata": {},
   "outputs": [],
   "source": [
    "InSilicoLandMarkAssignments_sorted <- InSilicoLandMarkAssignments[order(InSilicoLandMarkAssignments)]\n",
    "InSilicoCell2LandmarkCorrelation_sorted <- InSilicoCell2LandmarkCorrelation[names(InSilicoLandMarkAssignments_sorted),]"
   ]
  },
  {
   "cell_type": "code",
   "execution_count": null,
   "metadata": {},
   "outputs": [],
   "source": [
    "head(InSilicoCell2LandmarkCorrelation_sorted)"
   ]
  },
  {
   "cell_type": "code",
   "execution_count": null,
   "metadata": {},
   "outputs": [],
   "source": [
    "cell.ids = sapply(strsplit(basename(names(InSilicoLandMarkAssignments_sorted)),'\\\\.'),'[', 2)\n",
    "head(cell.ids)\n",
    "cell.labels = metadata[cell.ids,'label']\n",
    "cell.info = match(metadata[cell.ids,'label'],unique(metadata[,'label']))\n",
    "head(cell.info)"
   ]
  },
  {
   "cell_type": "code",
   "execution_count": null,
   "metadata": {},
   "outputs": [],
   "source": [
    "scalered <- colorRampPalette(c(\"white\", \"red\"), space = \"rgb\")(256)\n",
    "rcols1 = colorRampPalette(brewer.pal(8, \"Accent\"))(length(unique(metadata$label)))\n",
    "rowcols1 = rcols1[cell.info]\n",
    "rcols2 = colorRampPalette(brewer.pal(8, \"Dark2\"))(length(unique(metadata$label)))\n",
    "rowcols2 = rcols2[InSilicoLandMarkAssignments_sorted]\n",
    "rowcols = rbind(rowcols1, rowcols2)\n",
    "rownames(rowcols) = c(\"cell label\", \"cluster\")"
   ]
  },
  {
   "cell_type": "code",
   "execution_count": null,
   "metadata": {},
   "outputs": [],
   "source": [
    "rowcols[,1:5]"
   ]
  },
  {
   "cell_type": "code",
   "execution_count": null,
   "metadata": {},
   "outputs": [],
   "source": [
    "heatmap.3(InSilicoCell2LandmarkCorrelation_sorted, dendrogram='none', Rowv=FALSE, Colv=FALSE,\n",
    "          trace='none', col = scalered, margin = c(5, 5), density.info = \"none\", \n",
    "          RowSideColors = rowcols, RowSideColorsSize=2, symm=F,symkey=F,\n",
    "          symbreaks=F, scale=\"none\")\n",
    "legend(\"bottomleft\", legend = c(unique(cell.labels), paste0(\"cluster \", 1:length(unique(metadata$label)))), \n",
    "       col = c(rcols1, rcols2), border=FALSE, bty=\"n\", y.intersp = 0.7, cex=0.7, pch = 15)"
   ]
  },
  {
   "cell_type": "code",
   "execution_count": null,
   "metadata": {},
   "outputs": [],
   "source": []
  },
  {
   "cell_type": "code",
   "execution_count": null,
   "metadata": {},
   "outputs": [],
   "source": [
    "sessionInfo()"
   ]
  },
  {
   "cell_type": "code",
   "execution_count": null,
   "metadata": {},
   "outputs": [],
   "source": [
    "save.image(file = 'scABC_10xpbmc5k.RData')"
   ]
  },
  {
   "cell_type": "code",
   "execution_count": null,
   "metadata": {},
   "outputs": [],
   "source": []
  }
 ],
 "metadata": {
  "kernelspec": {
   "display_name": "R [conda env:ATACseq_scABC]",
   "language": "R",
   "name": "conda-env-ATACseq_scABC-r"
  },
  "language_info": {
   "codemirror_mode": "r",
   "file_extension": ".r",
   "mimetype": "text/x-r-source",
   "name": "R",
   "pygments_lexer": "r",
   "version": "3.5.1"
  }
 },
 "nbformat": 4,
 "nbformat_minor": 2
}
