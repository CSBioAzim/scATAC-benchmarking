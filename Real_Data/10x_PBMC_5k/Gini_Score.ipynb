{
 "cells": [
  {
   "cell_type": "code",
   "execution_count": 66,
   "metadata": {},
   "outputs": [
    {
     "name": "stdout",
     "output_type": "stream",
     "text": [
      "Populating the interactive namespace from numpy and matplotlib\n"
     ]
    }
   ],
   "source": [
    "import numpy as np\n",
    "import pandas as pd\n",
    "import seaborn as sns\n",
    "%pylab inline\n",
    "import glob\n",
    "import os\n",
    "import scipy as sp"
   ]
  },
  {
   "cell_type": "markdown",
   "metadata": {},
   "source": [
    "### Activate environment\n",
    "\n",
    "`source activate ATACseq_clustering`"
   ]
  },
  {
   "cell_type": "code",
   "execution_count": 67,
   "metadata": {},
   "outputs": [],
   "source": [
    "#Import Gene Score Matrix\n",
    "df_matrix = pd.read_csv('/PHShome/ta779/2019_03_scATAC/script_to_submit/pbmc/data/FM_GeneScoring_10xpbmc.tsv',sep=\"\\t\")"
   ]
  },
  {
   "cell_type": "code",
   "execution_count": null,
   "metadata": {},
   "outputs": [],
   "source": []
  },
  {
   "cell_type": "code",
   "execution_count": 68,
   "metadata": {},
   "outputs": [],
   "source": [
    "#Define a function to compute the Gini score\n",
    "def gini(list_of_values):\n",
    "    sorted_list = sorted(list_of_values)\n",
    "    height, area = 0, 0\n",
    "    for value in sorted_list:\n",
    "        height += value\n",
    "        area += height - value / 2.\n",
    "    fair_area = height * len(list_of_values) / 2.\n",
    "    return (fair_area - area) / fair_area\n"
   ]
  },
  {
   "cell_type": "code",
   "execution_count": 69,
   "metadata": {},
   "outputs": [
    {
     "data": {
      "text/html": [
       "<div>\n",
       "<style scoped>\n",
       "    .dataframe tbody tr th:only-of-type {\n",
       "        vertical-align: middle;\n",
       "    }\n",
       "\n",
       "    .dataframe tbody tr th {\n",
       "        vertical-align: top;\n",
       "    }\n",
       "\n",
       "    .dataframe thead th {\n",
       "        text-align: right;\n",
       "    }\n",
       "</style>\n",
       "<table border=\"1\" class=\"dataframe\">\n",
       "  <thead>\n",
       "    <tr style=\"text-align: right;\">\n",
       "      <th></th>\n",
       "      <th>Unnamed: 0</th>\n",
       "      <th>AAACGAAAGCGCAATG-1</th>\n",
       "      <th>AAACGAAAGGGTATCG-1</th>\n",
       "      <th>AAACGAAAGTAACATG-1</th>\n",
       "      <th>AAACGAAAGTTACACC-1</th>\n",
       "      <th>AAACGAACAGAGATGC-1</th>\n",
       "      <th>AAACGAACATGCTATG-1</th>\n",
       "      <th>AAACGAAGTGCATCAT-1</th>\n",
       "      <th>AAACGAAGTGGACGAT-1</th>\n",
       "      <th>AAACGAAGTGGCCTCA-1</th>\n",
       "      <th>...</th>\n",
       "      <th>TTTGGTTGTCAGAAAT-1</th>\n",
       "      <th>TTTGGTTGTTGTATCG-1</th>\n",
       "      <th>TTTGGTTTCAGTGGTT-1</th>\n",
       "      <th>TTTGTGTAGGAAACTT-1</th>\n",
       "      <th>TTTGTGTCAAGCCTTA-1</th>\n",
       "      <th>TTTGTGTCACTCAAGT-1</th>\n",
       "      <th>TTTGTGTCACTGGGCT-1</th>\n",
       "      <th>TTTGTGTGTACGCAAG-1</th>\n",
       "      <th>TTTGTGTGTCTGCGCA-1</th>\n",
       "      <th>TTTGTGTTCAACTTGG-1</th>\n",
       "    </tr>\n",
       "  </thead>\n",
       "  <tbody>\n",
       "    <tr>\n",
       "      <th>0</th>\n",
       "      <td>A1BG</td>\n",
       "      <td>0.256244</td>\n",
       "      <td>5.239293</td>\n",
       "      <td>8.794614</td>\n",
       "      <td>0.685562</td>\n",
       "      <td>0.048870</td>\n",
       "      <td>0.012939</td>\n",
       "      <td>0.002157</td>\n",
       "      <td>0.261534</td>\n",
       "      <td>0.001554</td>\n",
       "      <td>...</td>\n",
       "      <td>0.155907</td>\n",
       "      <td>7.394677</td>\n",
       "      <td>1.913891</td>\n",
       "      <td>0.046714</td>\n",
       "      <td>9.268239</td>\n",
       "      <td>0.002675</td>\n",
       "      <td>6.810591</td>\n",
       "      <td>7.418139</td>\n",
       "      <td>3.471564</td>\n",
       "      <td>1.730391</td>\n",
       "    </tr>\n",
       "    <tr>\n",
       "      <th>1</th>\n",
       "      <td>A1BG-AS1</td>\n",
       "      <td>1.366762</td>\n",
       "      <td>1.359241</td>\n",
       "      <td>2.722776</td>\n",
       "      <td>3.228675</td>\n",
       "      <td>0.053614</td>\n",
       "      <td>0.069121</td>\n",
       "      <td>0.011907</td>\n",
       "      <td>1.398078</td>\n",
       "      <td>0.000291</td>\n",
       "      <td>...</td>\n",
       "      <td>0.032595</td>\n",
       "      <td>4.054271</td>\n",
       "      <td>1.412822</td>\n",
       "      <td>0.043060</td>\n",
       "      <td>5.445530</td>\n",
       "      <td>0.012003</td>\n",
       "      <td>9.144693</td>\n",
       "      <td>3.197848</td>\n",
       "      <td>0.923244</td>\n",
       "      <td>0.432918</td>\n",
       "    </tr>\n",
       "    <tr>\n",
       "      <th>2</th>\n",
       "      <td>A2LD1</td>\n",
       "      <td>0.000363</td>\n",
       "      <td>0.000000</td>\n",
       "      <td>0.000000</td>\n",
       "      <td>0.000000</td>\n",
       "      <td>0.000000</td>\n",
       "      <td>0.000000</td>\n",
       "      <td>0.000000</td>\n",
       "      <td>0.000000</td>\n",
       "      <td>0.000000</td>\n",
       "      <td>...</td>\n",
       "      <td>0.000000</td>\n",
       "      <td>0.000000</td>\n",
       "      <td>0.000000</td>\n",
       "      <td>0.000000</td>\n",
       "      <td>0.000000</td>\n",
       "      <td>0.000000</td>\n",
       "      <td>0.000000</td>\n",
       "      <td>0.000000</td>\n",
       "      <td>0.000000</td>\n",
       "      <td>0.000000</td>\n",
       "    </tr>\n",
       "    <tr>\n",
       "      <th>3</th>\n",
       "      <td>A2M</td>\n",
       "      <td>0.000000</td>\n",
       "      <td>0.056803</td>\n",
       "      <td>0.002662</td>\n",
       "      <td>0.000000</td>\n",
       "      <td>5.514523</td>\n",
       "      <td>0.000000</td>\n",
       "      <td>0.000000</td>\n",
       "      <td>0.000000</td>\n",
       "      <td>0.000000</td>\n",
       "      <td>...</td>\n",
       "      <td>0.000000</td>\n",
       "      <td>0.014432</td>\n",
       "      <td>15.971836</td>\n",
       "      <td>0.000000</td>\n",
       "      <td>0.004094</td>\n",
       "      <td>0.000000</td>\n",
       "      <td>0.001638</td>\n",
       "      <td>0.001331</td>\n",
       "      <td>0.000000</td>\n",
       "      <td>0.000000</td>\n",
       "    </tr>\n",
       "    <tr>\n",
       "      <th>4</th>\n",
       "      <td>A2M-AS1</td>\n",
       "      <td>0.000000</td>\n",
       "      <td>0.052984</td>\n",
       "      <td>0.002483</td>\n",
       "      <td>0.000000</td>\n",
       "      <td>5.143764</td>\n",
       "      <td>0.000000</td>\n",
       "      <td>0.000000</td>\n",
       "      <td>0.000000</td>\n",
       "      <td>0.000000</td>\n",
       "      <td>...</td>\n",
       "      <td>0.000000</td>\n",
       "      <td>0.013462</td>\n",
       "      <td>14.897999</td>\n",
       "      <td>0.000000</td>\n",
       "      <td>0.003819</td>\n",
       "      <td>0.000000</td>\n",
       "      <td>0.001527</td>\n",
       "      <td>0.001241</td>\n",
       "      <td>0.000000</td>\n",
       "      <td>0.000000</td>\n",
       "    </tr>\n",
       "  </tbody>\n",
       "</table>\n",
       "<p>5 rows × 5336 columns</p>\n",
       "</div>"
      ],
      "text/plain": [
       "  Unnamed: 0  AAACGAAAGCGCAATG-1  AAACGAAAGGGTATCG-1  AAACGAAAGTAACATG-1  \\\n",
       "0       A1BG            0.256244            5.239293            8.794614   \n",
       "1   A1BG-AS1            1.366762            1.359241            2.722776   \n",
       "2      A2LD1            0.000363            0.000000            0.000000   \n",
       "3        A2M            0.000000            0.056803            0.002662   \n",
       "4    A2M-AS1            0.000000            0.052984            0.002483   \n",
       "\n",
       "   AAACGAAAGTTACACC-1  AAACGAACAGAGATGC-1  AAACGAACATGCTATG-1  \\\n",
       "0            0.685562            0.048870            0.012939   \n",
       "1            3.228675            0.053614            0.069121   \n",
       "2            0.000000            0.000000            0.000000   \n",
       "3            0.000000            5.514523            0.000000   \n",
       "4            0.000000            5.143764            0.000000   \n",
       "\n",
       "   AAACGAAGTGCATCAT-1  AAACGAAGTGGACGAT-1  AAACGAAGTGGCCTCA-1  \\\n",
       "0            0.002157            0.261534            0.001554   \n",
       "1            0.011907            1.398078            0.000291   \n",
       "2            0.000000            0.000000            0.000000   \n",
       "3            0.000000            0.000000            0.000000   \n",
       "4            0.000000            0.000000            0.000000   \n",
       "\n",
       "          ...          TTTGGTTGTCAGAAAT-1  TTTGGTTGTTGTATCG-1  \\\n",
       "0         ...                    0.155907            7.394677   \n",
       "1         ...                    0.032595            4.054271   \n",
       "2         ...                    0.000000            0.000000   \n",
       "3         ...                    0.000000            0.014432   \n",
       "4         ...                    0.000000            0.013462   \n",
       "\n",
       "   TTTGGTTTCAGTGGTT-1  TTTGTGTAGGAAACTT-1  TTTGTGTCAAGCCTTA-1  \\\n",
       "0            1.913891            0.046714            9.268239   \n",
       "1            1.412822            0.043060            5.445530   \n",
       "2            0.000000            0.000000            0.000000   \n",
       "3           15.971836            0.000000            0.004094   \n",
       "4           14.897999            0.000000            0.003819   \n",
       "\n",
       "   TTTGTGTCACTCAAGT-1  TTTGTGTCACTGGGCT-1  TTTGTGTGTACGCAAG-1  \\\n",
       "0            0.002675            6.810591            7.418139   \n",
       "1            0.012003            9.144693            3.197848   \n",
       "2            0.000000            0.000000            0.000000   \n",
       "3            0.000000            0.001638            0.001331   \n",
       "4            0.000000            0.001527            0.001241   \n",
       "\n",
       "   TTTGTGTGTCTGCGCA-1  TTTGTGTTCAACTTGG-1  \n",
       "0            3.471564            1.730391  \n",
       "1            0.923244            0.432918  \n",
       "2            0.000000            0.000000  \n",
       "3            0.000000            0.000000  \n",
       "4            0.000000            0.000000  \n",
       "\n",
       "[5 rows x 5336 columns]"
      ]
     },
     "execution_count": 69,
     "metadata": {},
     "output_type": "execute_result"
    }
   ],
   "source": [
    "df_matrix.head()"
   ]
  },
  {
   "cell_type": "code",
   "execution_count": 70,
   "metadata": {},
   "outputs": [],
   "source": [
    "#Parse the Table renaming the first column\n",
    "df_matrix.columns=['Gene']+list(df_matrix.columns[1:].values)\n",
    "df_matrix.set_index('Gene',inplace=True)\n",
    "df_matrix.head()"
   ]
  },
  {
   "cell_type": "code",
   "execution_count": 76,
   "metadata": {},
   "outputs": [],
   "source": [
    "#https://www.tau.ac.il/~elieis/Housekeeping_genes.html\n",
    "\n",
    "housekeeping_genes=[\n",
    "    'ACTB',\n",
    "    'ALDOA',\n",
    "    'GAPDH','PGK1','LDHA','RPS27A','RPL19','RPL11','NONO','ARHGDIA','RPL32','RPS18','HSPCB',\n",
    "        \n",
    "    'C1orf43',\n",
    "'CHMP2A',\n",
    "'EMC7',\n",
    "'GPI',\n",
    "'PSMB2,'\n",
    "'PSMB4',\n",
    "'RAB7A',\n",
    "'REEP5',\n",
    "'SNRPD3',\n",
    "'VCP',\n",
    "'VPS29']"
   ]
  },
  {
   "cell_type": "code",
   "execution_count": 77,
   "metadata": {},
   "outputs": [],
   "source": [
    "housekeeping_genes=list(map(str.strip,housekeeping_genes))"
   ]
  },
  {
   "cell_type": "code",
   "execution_count": 78,
   "metadata": {},
   "outputs": [],
   "source": [
    "marker_genes=['CD209', 'ENG', 'FOXP3', 'CD34', 'BATF3', 'S100A12', 'THBD',\n",
    "       'CD3D', 'THY1', 'CD8A', 'CD8B', 'CD14', 'PROM1', 'IL2RA', 'FCGR3A',\n",
    "       'IL3RA', 'FCGR1A', 'CD19', 'IL7R', 'CD79A', 'MS4A1', 'NCAM1',\n",
    "       'CD3E', 'CD3G', 'KIT', 'CD1C', 'CD68', 'CD4']"
   ]
  },
  {
   "cell_type": "code",
   "execution_count": 79,
   "metadata": {},
   "outputs": [],
   "source": [
    "#Subset from the main matrix the housekeeping genes and test if successfull\n",
    "df_matrix_housekeeping=df_matrix.loc[df_matrix.index.intersection(housekeeping_genes)]\n",
    "df_matrix_housekeeping"
   ]
  },
  {
   "cell_type": "code",
   "execution_count": 81,
   "metadata": {},
   "outputs": [],
   "source": [
    "#Subset from the main matrix the marker genes and test if successfull\n",
    "df_matrix_marker=df_matrix.loc[df_matrix.index.intersection(marker_genes)]\n",
    "df_matrix_marker"
   ]
  },
  {
   "cell_type": "code",
   "execution_count": 83,
   "metadata": {},
   "outputs": [
    {
     "data": {
      "text/plain": [
       "0.9285714285714286"
      ]
     },
     "execution_count": 83,
     "metadata": {},
     "output_type": "execute_result"
    }
   ],
   "source": [
    "#Test gini function if works\n",
    "gini(np.array([0.0,0,0,0,0,0,0,0,0,0,0,0,0,1])) "
   ]
  },
  {
   "cell_type": "code",
   "execution_count": 85,
   "metadata": {},
   "outputs": [],
   "source": [
    "#Example of one clustering solution from SnapATAC using hierarchical clustering\n",
    "clustering_filename='/PHShome/ta779/2019_03_scATAC/script_to_submit/pbmc/data/clustering_solutions/SnapATAC_clusters_hc.csv'"
   ]
  },
  {
   "cell_type": "code",
   "execution_count": 86,
   "metadata": {},
   "outputs": [],
   "source": [
    "#Import the clustering file\n",
    "clustering_info=pd.read_csv(clustering_filename)\n",
    "\n",
    "clustering_method=set(clustering_info.columns.values)\n",
    "clustering_method.discard('Barcode')\n",
    "clustering_method=clustering_method.pop()\n",
    "\n",
    "clustering_info=clustering_info.set_index(clustering_method)"
   ]
  },
  {
   "cell_type": "code",
   "execution_count": 88,
   "metadata": {},
   "outputs": [
    {
     "name": "stdout",
     "output_type": "stream",
     "text": [
      "0    2218\n",
      "2    1538\n",
      "6     539\n",
      "1     367\n",
      "7     256\n",
      "3     238\n",
      "4     151\n",
      "5      27\n",
      "Name: hc, dtype: int64\n"
     ]
    }
   ],
   "source": [
    "#REMOVE CLUSTERS WITH FEW CELLS\n",
    "min_cells_per_cluster=10\n",
    "\n",
    "cluster_sizes=pd.value_counts(clustering_info.index)\n",
    "print(cluster_sizes)\n",
    "\n",
    "clustering_info=clustering_info.loc[cluster_sizes[cluster_sizes>min_cells_per_cluster].index.values,:]"
   ]
  },
  {
   "cell_type": "code",
   "execution_count": 89,
   "metadata": {},
   "outputs": [
    {
     "data": {
      "text/html": [
       "<div>\n",
       "<style scoped>\n",
       "    .dataframe tbody tr th:only-of-type {\n",
       "        vertical-align: middle;\n",
       "    }\n",
       "\n",
       "    .dataframe tbody tr th {\n",
       "        vertical-align: top;\n",
       "    }\n",
       "\n",
       "    .dataframe thead th {\n",
       "        text-align: right;\n",
       "    }\n",
       "</style>\n",
       "<table border=\"1\" class=\"dataframe\">\n",
       "  <thead>\n",
       "    <tr style=\"text-align: right;\">\n",
       "      <th></th>\n",
       "      <th>Barcode</th>\n",
       "    </tr>\n",
       "    <tr>\n",
       "      <th>hc</th>\n",
       "      <th></th>\n",
       "    </tr>\n",
       "  </thead>\n",
       "  <tbody>\n",
       "    <tr>\n",
       "      <th>0</th>\n",
       "      <td>AAACGAAAGCGCAATG-1</td>\n",
       "    </tr>\n",
       "    <tr>\n",
       "      <th>0</th>\n",
       "      <td>AAACGAAAGGGTATCG-1</td>\n",
       "    </tr>\n",
       "    <tr>\n",
       "      <th>0</th>\n",
       "      <td>AAACGAACAGAGATGC-1</td>\n",
       "    </tr>\n",
       "    <tr>\n",
       "      <th>0</th>\n",
       "      <td>AAACGAACATGCTATG-1</td>\n",
       "    </tr>\n",
       "    <tr>\n",
       "      <th>0</th>\n",
       "      <td>AAACGAAGTGCATCAT-1</td>\n",
       "    </tr>\n",
       "  </tbody>\n",
       "</table>\n",
       "</div>"
      ],
      "text/plain": [
       "               Barcode\n",
       "hc                    \n",
       "0   AAACGAAAGCGCAATG-1\n",
       "0   AAACGAAAGGGTATCG-1\n",
       "0   AAACGAACAGAGATGC-1\n",
       "0   AAACGAACATGCTATG-1\n",
       "0   AAACGAAGTGCATCAT-1"
      ]
     },
     "execution_count": 89,
     "metadata": {},
     "output_type": "execute_result"
    }
   ],
   "source": [
    "clustering_info.head()"
   ]
  },
  {
   "cell_type": "code",
   "execution_count": 90,
   "metadata": {},
   "outputs": [
    {
     "name": "stdout",
     "output_type": "stream",
     "text": [
      "Barcode,hc\r\n",
      "AAACGAAAGCGCAATG-1,0\r\n",
      "AAACGAAAGGGTATCG-1,0\r\n",
      "AAACGAAAGTAACATG-1,6\r\n",
      "AAACGAAAGTTACACC-1,6\r\n",
      "AAACGAACAGAGATGC-1,0\r\n",
      "AAACGAACATGCTATG-1,0\r\n",
      "AAACGAAGTGCATCAT-1,0\r\n",
      "AAACGAAGTGGACGAT-1,0\r\n",
      "AAACGAAGTGGCCTCA-1,0\r\n"
     ]
    }
   ],
   "source": [
    "!head /PHShome/ta779/2019_03_scATAC/script_to_submit/pbmc/data/clustering_solutions/SnapATAC_clusters_hc.csv"
   ]
  },
  {
   "cell_type": "code",
   "execution_count": 121,
   "metadata": {},
   "outputs": [
    {
     "data": {
      "text/html": [
       "<div>\n",
       "<style scoped>\n",
       "    .dataframe tbody tr th:only-of-type {\n",
       "        vertical-align: middle;\n",
       "    }\n",
       "\n",
       "    .dataframe tbody tr th {\n",
       "        vertical-align: top;\n",
       "    }\n",
       "\n",
       "    .dataframe thead th {\n",
       "        text-align: right;\n",
       "    }\n",
       "</style>\n",
       "<table border=\"1\" class=\"dataframe\">\n",
       "  <thead>\n",
       "    <tr style=\"text-align: right;\">\n",
       "      <th></th>\n",
       "      <th>Barcode</th>\n",
       "    </tr>\n",
       "    <tr>\n",
       "      <th>hc</th>\n",
       "      <th></th>\n",
       "    </tr>\n",
       "  </thead>\n",
       "  <tbody>\n",
       "    <tr>\n",
       "      <th>0</th>\n",
       "      <td>AAACGAAAGCGCAATG-1</td>\n",
       "    </tr>\n",
       "    <tr>\n",
       "      <th>0</th>\n",
       "      <td>AAACGAAAGGGTATCG-1</td>\n",
       "    </tr>\n",
       "    <tr>\n",
       "      <th>0</th>\n",
       "      <td>AAACGAACAGAGATGC-1</td>\n",
       "    </tr>\n",
       "    <tr>\n",
       "      <th>0</th>\n",
       "      <td>AAACGAACATGCTATG-1</td>\n",
       "    </tr>\n",
       "    <tr>\n",
       "      <th>0</th>\n",
       "      <td>AAACGAAGTGCATCAT-1</td>\n",
       "    </tr>\n",
       "  </tbody>\n",
       "</table>\n",
       "</div>"
      ],
      "text/plain": [
       "               Barcode\n",
       "hc                    \n",
       "0   AAACGAAAGCGCAATG-1\n",
       "0   AAACGAAAGGGTATCG-1\n",
       "0   AAACGAACAGAGATGC-1\n",
       "0   AAACGAACATGCTATG-1\n",
       "0   AAACGAAGTGCATCAT-1"
      ]
     },
     "execution_count": 121,
     "metadata": {},
     "output_type": "execute_result"
    }
   ],
   "source": [
    "clustering_info_permuted=clustering_info.copy()\n",
    "clustering_info_permuted.head()"
   ]
  },
  {
   "cell_type": "code",
   "execution_count": 92,
   "metadata": {},
   "outputs": [
    {
     "data": {
      "text/html": [
       "<div>\n",
       "<style scoped>\n",
       "    .dataframe tbody tr th:only-of-type {\n",
       "        vertical-align: middle;\n",
       "    }\n",
       "\n",
       "    .dataframe tbody tr th {\n",
       "        vertical-align: top;\n",
       "    }\n",
       "\n",
       "    .dataframe thead th {\n",
       "        text-align: right;\n",
       "    }\n",
       "</style>\n",
       "<table border=\"1\" class=\"dataframe\">\n",
       "  <thead>\n",
       "    <tr style=\"text-align: right;\">\n",
       "      <th></th>\n",
       "      <th>Barcode</th>\n",
       "    </tr>\n",
       "    <tr>\n",
       "      <th>hc</th>\n",
       "      <th></th>\n",
       "    </tr>\n",
       "  </thead>\n",
       "  <tbody>\n",
       "    <tr>\n",
       "      <th>0</th>\n",
       "      <td>AAACGAAAGCGCAATG-1</td>\n",
       "    </tr>\n",
       "    <tr>\n",
       "      <th>0</th>\n",
       "      <td>AAACGAAAGGGTATCG-1</td>\n",
       "    </tr>\n",
       "    <tr>\n",
       "      <th>0</th>\n",
       "      <td>AAACGAACAGAGATGC-1</td>\n",
       "    </tr>\n",
       "    <tr>\n",
       "      <th>0</th>\n",
       "      <td>AAACGAACATGCTATG-1</td>\n",
       "    </tr>\n",
       "    <tr>\n",
       "      <th>0</th>\n",
       "      <td>AAACGAAGTGCATCAT-1</td>\n",
       "    </tr>\n",
       "  </tbody>\n",
       "</table>\n",
       "</div>"
      ],
      "text/plain": [
       "               Barcode\n",
       "hc                    \n",
       "0   AAACGAAAGCGCAATG-1\n",
       "0   AAACGAAAGGGTATCG-1\n",
       "0   AAACGAACAGAGATGC-1\n",
       "0   AAACGAACATGCTATG-1\n",
       "0   AAACGAAGTGCATCAT-1"
      ]
     },
     "execution_count": 92,
     "metadata": {},
     "output_type": "execute_result"
    }
   ],
   "source": []
  },
  {
   "cell_type": "code",
   "execution_count": 93,
   "metadata": {},
   "outputs": [],
   "source": [
    "#Test permutation\n",
    "np.random.shuffle(clustering_info_permuted.values)\n",
    "clustering_info_permuted.head()"
   ]
  },
  {
   "cell_type": "code",
   "execution_count": 96,
   "metadata": {},
   "outputs": [
    {
     "name": "stderr",
     "output_type": "stream",
     "text": [
      "/data/pinello/SHARED_SOFTWARE/anaconda3/envs/lab_ML/lib/python3.6/site-packages/statsmodels/nonparametric/kde.py:488: RuntimeWarning: invalid value encountered in true_divide\n",
      "  binned = fast_linbin(X, a, b, gridsize) / (delta * nobs)\n",
      "/data/pinello/SHARED_SOFTWARE/anaconda3/envs/lab_ML/lib/python3.6/site-packages/statsmodels/nonparametric/kdetools.py:34: RuntimeWarning: invalid value encountered in double_scalars\n",
      "  FAC1 = 2*(np.pi*bw/RANGE)**2\n"
     ]
    },
    {
     "data": {
      "image/png": "[encoded data removed]",
      "text/plain": [
       "<Figure size 432x288 with 1 Axes>"
      ]
     },
     "metadata": {},
     "output_type": "display_data"
    }
   ],
   "source": [
    "#Check for a marker gene the accessibility value distributoin across clusters\n",
    "for idx_cluster in sorted(np.unique(clustering_info.index.values)):\n",
    "    #print(clustering_info.loc[idx_cluster,:].values.flatten())\n",
    "    sns.kdeplot(df_matrix.loc['MS4A1',clustering_info.loc[idx_cluster,:].values.flatten()])"
   ]
  },
  {
   "cell_type": "code",
   "execution_count": 97,
   "metadata": {},
   "outputs": [
    {
     "data": {
      "image/png": "[encoded data removed]",
      "text/plain": [
       "<Figure size 432x288 with 1 Axes>"
      ]
     },
     "metadata": {},
     "output_type": "display_data"
    }
   ],
   "source": [
    "#Check for a marker gene the accessibility value distributoin across clusters using permuted clusters\n",
    "for idx_cluster in sorted(np.unique(clustering_info.index.values)):\n",
    "    sns.kdeplot(df_matrix.loc['MS4A1',clustering_info_permuted.loc[idx_cluster,:].values.flatten()])"
   ]
  },
  {
   "cell_type": "code",
   "execution_count": 98,
   "metadata": {},
   "outputs": [
    {
     "data": {
      "text/plain": [
       "[0, 1, 2, 3, 4, 5, 6, 7]"
      ]
     },
     "execution_count": 98,
     "metadata": {},
     "output_type": "execute_result"
    }
   ],
   "source": [
    "sorted(clustering_info.index.unique())"
   ]
  },
  {
   "cell_type": "code",
   "execution_count": 99,
   "metadata": {},
   "outputs": [],
   "source": [
    "#Function to compute the average accessibility value per cluster\n",
    "def get_avg_per_cluster(df_matrix, gene_name, clustering_info,use_log2=False):\n",
    "    N_clusters=len(clustering_info.index.unique())\n",
    "    avg_per_cluster=np.zeros(N_clusters)\n",
    "    for idx,idx_cluster in enumerate(sorted(np.unique(clustering_info.index.unique()))):\n",
    "        if use_log2:\n",
    "            values_cluster=df_matrix.loc[gene_name,clustering_info.loc[idx_cluster,:].values.flatten()].apply(lambda x:np.log2(x+1))\n",
    "        else:\n",
    "            values_cluster=df_matrix.loc[gene_name,clustering_info.loc[idx_cluster,:].values.flatten()]\n",
    "        \n",
    "        avg_per_cluster[idx]=values_cluster.mean()\n",
    "        if avg_per_cluster[idx]>0:\n",
    "              avg_per_cluster[idx]=avg_per_cluster[idx]#/values_cluster.std()\n",
    "\n",
    "    return avg_per_cluster\n",
    "    "
   ]
  },
  {
   "cell_type": "code",
   "execution_count": 100,
   "metadata": {},
   "outputs": [
    {
     "data": {
      "text/plain": [
       "Text(0.5,1,'MS4A1 gini:0.7732191359130405')"
      ]
     },
     "execution_count": 100,
     "metadata": {},
     "output_type": "execute_result"
    },
    {
     "data": {
      "image/png": "[encoded data removed]",
      "text/plain": [
       "<Figure size 432x288 with 1 Axes>"
      ]
     },
     "metadata": {},
     "output_type": "display_data"
    }
   ],
   "source": [
    "#Plot the average accessibility valye for 1 marker gene across different clusters\n",
    "gene_name='MS4A1'\n",
    "avg_per_cluster=get_avg_per_cluster(df_matrix, gene_name, clustering_info,use_log2=False)\n",
    "plt.stem(avg_per_cluster)\n",
    "plt.title(gene_name+ ' gini:'+str(gini(avg_per_cluster)))"
   ]
  },
  {
   "cell_type": "code",
   "execution_count": 119,
   "metadata": {},
   "outputs": [
    {
     "data": {
      "text/plain": [
       "Text(0.5,1,'GAPDH gini:0.28526832746965186')"
      ]
     },
     "execution_count": 119,
     "metadata": {},
     "output_type": "execute_result"
    },
    {
     "data": {
      "image/png": "[encoded data removed]",
      "text/plain": [
       "<Figure size 432x288 with 1 Axes>"
      ]
     },
     "metadata": {},
     "output_type": "display_data"
    }
   ],
   "source": [
    "#Plot the average accessibility valye for 1 Housekeeping gene across different clusters\n",
    "\n",
    "gene_name='GAPDH'\n",
    "avg_per_cluster=get_avg_per_cluster(df_matrix, gene_name, clustering_info,use_log2=False)\n",
    "plt.stem(avg_per_cluster)\n",
    "plt.title(gene_name+ ' gini:'+str(gini(avg_per_cluster)))"
   ]
  },
  {
   "cell_type": "code",
   "execution_count": 120,
   "metadata": {},
   "outputs": [
    {
     "data": {
      "text/plain": [
       "0.28526832746965186"
      ]
     },
     "execution_count": 120,
     "metadata": {},
     "output_type": "execute_result"
    }
   ],
   "source": [
    "gini(avg_per_cluster)"
   ]
  },
  {
   "cell_type": "code",
   "execution_count": 103,
   "metadata": {},
   "outputs": [],
   "source": [
    "#Test Perform permutation \n",
    "clustering_info_permuted=clustering_info.copy()\n",
    "np.random.shuffle(clustering_info_permuted.values)"
   ]
  },
  {
   "cell_type": "code",
   "execution_count": 104,
   "metadata": {},
   "outputs": [],
   "source": [
    "#Function to calculate Gini value for all the genes\n",
    "def calculate_gini(df_matrix, gene_name,clustering_info):\n",
    "\n",
    "    return gini(get_avg_per_cluster(df_matrix,gene_name,clustering_info,use_log2=False))"
   ]
  },
  {
   "cell_type": "code",
   "execution_count": 105,
   "metadata": {},
   "outputs": [],
   "source": [
    "#Function to calculate Gini value for all the genes\n",
    "\n",
    "def calculate_gini_values(df_matrix,clustering_info):\n",
    "    gini_values=[]\n",
    "    for gene_name in df_matrix.index:\n",
    "        gini_values.append(calculate_gini(df_matrix, gene_name,clustering_info))\n",
    "    \n",
    "    return gini_values\n",
    "        \n",
    "        "
   ]
  },
  {
   "cell_type": "code",
   "execution_count": 106,
   "metadata": {},
   "outputs": [],
   "source": [
    "#Compute Gini for Housekeeping genes\n",
    "gini_values_housekeeping=calculate_gini_values(df_matrix_housekeeping,clustering_info)"
   ]
  },
  {
   "cell_type": "code",
   "execution_count": 107,
   "metadata": {},
   "outputs": [
    {
     "data": {
      "text/plain": [
       "21"
      ]
     },
     "execution_count": 107,
     "metadata": {},
     "output_type": "execute_result"
    }
   ],
   "source": [
    "len(gini_values_housekeeping)"
   ]
  },
  {
   "cell_type": "code",
   "execution_count": 108,
   "metadata": {},
   "outputs": [],
   "source": [
    "#Compute Gini for Marker genes\n",
    "gini_values_marker=calculate_gini_values(df_matrix_marker,clustering_info)"
   ]
  },
  {
   "cell_type": "code",
   "execution_count": 109,
   "metadata": {},
   "outputs": [
    {
     "data": {
      "text/plain": [
       "<matplotlib.axes._subplots.AxesSubplot at 0x7f83c8c54a90>"
      ]
     },
     "execution_count": 109,
     "metadata": {},
     "output_type": "execute_result"
    },
    {
     "data": {
      "image/png": "[encoded data removed]",
      "text/plain": [
       "<Figure size 432x288 with 1 Axes>"
      ]
     },
     "metadata": {},
     "output_type": "display_data"
    }
   ],
   "source": [
    "#Check whether average Gini of all the Marker Genes shif compared the average of the Housekeeping genes\n",
    "sns.kdeplot(gini_values_housekeeping,bw=0.15)\n",
    "sns.kdeplot(gini_values_marker,bw=0.15)"
   ]
  },
  {
   "cell_type": "code",
   "execution_count": 110,
   "metadata": {},
   "outputs": [],
   "source": [
    "#Permute husekeeping genes\n",
    "gini_values_housekeeping_shuffle=calculate_gini_values(df_matrix_housekeeping,clustering_info_permuted)"
   ]
  },
  {
   "cell_type": "code",
   "execution_count": 111,
   "metadata": {},
   "outputs": [],
   "source": [
    "#Permute marker genes\n",
    "gini_values_marker_shuffle=calculate_gini_values(df_matrix_marker,clustering_info_permuted)"
   ]
  },
  {
   "cell_type": "code",
   "execution_count": 112,
   "metadata": {},
   "outputs": [
    {
     "data": {
      "text/plain": [
       "<matplotlib.axes._subplots.AxesSubplot at 0x7f83c36f8860>"
      ]
     },
     "execution_count": 112,
     "metadata": {},
     "output_type": "execute_result"
    },
    {
     "data": {
      "image/png": "[encoded data removed]",
      "text/plain": [
       "<Figure size 432x288 with 1 Axes>"
      ]
     },
     "metadata": {},
     "output_type": "display_data"
    }
   ],
   "source": [
    "#Check if the simulated distributions overlap (if not we cannot conclude that the previous plot is conclusive)\n",
    "sns.kdeplot(gini_values_housekeeping_shuffle,bw=0.15)\n",
    "sns.kdeplot(gini_values_marker_shuffle,bw=0.15)"
   ]
  },
  {
   "cell_type": "code",
   "execution_count": 113,
   "metadata": {},
   "outputs": [
    {
     "data": {
      "text/plain": [
       "Ks_2sampResult(statistic=0.5714285714285714, pvalue=0.0003916094683673321)"
      ]
     },
     "execution_count": 113,
     "metadata": {},
     "output_type": "execute_result"
    }
   ],
   "source": [
    "#Perform  Kolmogorov Smirnov statistic real\n",
    "sp.stats.ks_2samp(gini_values_marker,gini_values_housekeeping)"
   ]
  },
  {
   "cell_type": "code",
   "execution_count": 114,
   "metadata": {},
   "outputs": [
    {
     "data": {
      "text/plain": [
       "Ks_2sampResult(statistic=0.39285714285714285, pvalue=0.0353455425287002)"
      ]
     },
     "execution_count": 114,
     "metadata": {},
     "output_type": "execute_result"
    }
   ],
   "source": [
    "#Perform  Kolmogorov Smirnov statistic shuffled\n",
    "sp.stats.ks_2samp(gini_values_marker_shuffle,gini_values_housekeeping_shuffle)"
   ]
  },
  {
   "cell_type": "code",
   "execution_count": 115,
   "metadata": {},
   "outputs": [],
   "source": [
    "#Write a function to compute delta difference of the average accessibility in Marker vs Housekeeping and Kolmogorov Smirnov test\n",
    "def score_clustering_solution(df_matrix_marker,df_matrix_housekeeping,clustering_info):\n",
    "    gini_values_housekeeping=calculate_gini_values(df_matrix_housekeeping,clustering_info)\n",
    "    gini_values_marker=calculate_gini_values(df_matrix_marker,clustering_info)\n",
    "    statistic,p_value=sp.stats.ks_2samp(gini_values_marker,gini_values_housekeeping)\n",
    "    \n",
    "    return  np.mean(gini_values_marker), np.mean(gini_values_housekeeping),np.mean(gini_values_marker)-np.mean(gini_values_housekeeping), statistic,p_value\n",
    "    "
   ]
  },
  {
   "cell_type": "code",
   "execution_count": 116,
   "metadata": {},
   "outputs": [
    {
     "data": {
      "text/plain": [
       "(0.41963106376965925,\n",
       " 0.2650594261243363,\n",
       " 0.15457163764532295,\n",
       " 0.5714285714285714,\n",
       " 0.0003916094683673321)"
      ]
     },
     "execution_count": 116,
     "metadata": {},
     "output_type": "execute_result"
    }
   ],
   "source": [
    "#Show result for one solution\n",
    "score_clustering_solution(df_matrix_marker,df_matrix_housekeeping,clustering_info)"
   ]
  },
  {
   "cell_type": "code",
   "execution_count": 118,
   "metadata": {},
   "outputs": [
    {
     "name": "stdout",
     "output_type": "stream",
     "text": [
      "Method\tClustering\tGini Marker Genes\tGini Housekeeping Genes\tDifference\tKS statistics\tp-value\n",
      "SCRAT\thc\t0.44397372785414885\t0.46381341120217473\t-0.019839683348025883\t0.34523809523809523\t0.08860195616485016\n",
      "BROCKMAN\tlouvain\t0.415771252340367\t0.28836436969093565\t0.12740688264943134\t0.5714285714285714\t0.0003916094683673321\n",
      "chromVAR\tlouvain\t0.2886946551925302\t0.1989689743554142\t0.08972568083711599\t0.5\t0.002897057550796698\n",
      "chromVAR\tlouvain\t0.3498265660302979\t0.2518208704115438\t0.09800569561875411\t0.5\t0.002897057550796698\n",
      "chromVAR\tlouvain\t0.3441607776205992\t0.23145629116081567\t0.11270448645978354\t0.5357142857142857\t0.0011012608985997434\n",
      "chromVAR\tlouvain\t0.34970055319086696\t0.252163337680185\t0.09753721551068195\t0.5357142857142857\t0.0011012608985997434\n",
      "Cicero\tlouvain\t0.31945719952393453\t0.189562338924883\t0.12989486059905153\t0.5\t0.002897057550796698\n",
      "Cicero\tlouvain\t0.5036086941033665\t0.4278685576760916\t0.0757401364272749\t0.47619047619047616\t0.005319945722709709\n",
      "cisTopic\tlouvain\t0.37568797350101446\t0.2470974102615711\t0.12859056323944337\t0.5476190476190477\t0.0007860136914473115\n",
      "GeneScoring\tlouvain\t0.4045430076432171\t0.42267329493212163\t-0.018130287288904534\t0.40476190476190477\t0.027574182429466066\n",
      "GeneScoring\tlouvain\t0.5259722563429198\t0.48255866983497003\t0.04341358650794974\t0.38095238095238093\t0.04497244243415832\n",
      "LSI\tlouvain\t0.47740587394924594\t0.3640010058141627\t0.11340486813508321\t0.4880952380952381\t0.003940411838529278\n",
      "scABC\tlouvain\t0.4210054445626525\t0.4334475716449989\t-0.012442127082346432\t0.40476190476190477\t0.027574182429466066\n",
      "scABC\tlouvain\t0.5363556166649311\t0.4694478881625167\t0.06690772850241444\t0.4285714285714286\t0.01641271011297831\n",
      "Scasat\tlouvain\t0.5325858465517738\t0.4284745566907488\t0.10411128986102497\t0.488095238095238\t0.003940411838529281\n",
      "SCRAT\tlouvain\t0.5601227704298914\t0.5218854478211807\t0.03823732260871071\t0.3571428571428571\t0.0712039075524818\n",
      "SCRAT\tlouvain\t0.5420452876921449\t0.5056882804429053\t0.036357007249239626\t0.3571428571428571\t0.0712039075524818\n",
      "SnapATAC\tlouvain\t0.4783308314142075\t0.34570328826695035\t0.13262754314725717\t0.5357142857142857\t0.0011012608985997434\n",
      "BROCKMAN\tkmeans\t0.3536038191094762\t0.2800609654663286\t0.07354285364314761\t0.45238095238095233\t0.009483783581749885\n",
      "chromVAR\tkmeans\t0.3760125630938778\t0.3360982279481966\t0.03991433514568121\t0.34523809523809523\t0.08860195616485016\n",
      "chromVAR\tkmeans\t0.3236613435205448\t0.27644443482290076\t0.047216908697644056\t0.45238095238095233\t0.009483783581749885\n",
      "chromVAR\tkmeans\t0.3699316391398114\t0.26447143505669984\t0.10546020408311158\t0.4880952380952381\t0.003940411838529278\n",
      "chromVAR\tkmeans\t0.40223358283302557\t0.3314870164915546\t0.07074656634147097\t0.40476190476190477\t0.027574182429466066\n",
      "Cicero\tkmeans\t0.2593531107747579\t0.1959181397502834\t0.06343497102447451\t0.3571428571428571\t0.0712039075524818\n",
      "Cicero\tkmeans\t0.2591956787145052\t0.1955836397081137\t0.06361203900639151\t0.3928571428571429\t0.03534554252870017\n",
      "cisTopic\tkmeans\t0.43581891551789825\t0.3328287175920115\t0.10299019792588676\t0.5238095238095238\t0.0015315508627272798\n",
      "GeneScoring\tkmeans\t0.4322870278888737\t0.4368170428864628\t-0.0045300149975890935\t0.16666666666666663\t0.86076435166067\n",
      "GeneScoring\tkmeans\t0.48123216694294785\t0.4681822860842726\t0.013049880858675256\t0.3214285714285714\t0.13415549399464244\n",
      "LSI\tkmeans\t0.4866529449004902\t0.4160861344391856\t0.07056681046130464\t0.4285714285714286\t0.01641271011297831\n",
      "scABC\tkmeans\t0.4500239137320451\t0.4745403890829249\t-0.024516475350879807\t0.4047619047619048\t0.027574182429466017\n",
      "scABC\tkmeans\t0.4437263787091293\t0.4602788256246352\t-0.016552446915505892\t0.3214285714285714\t0.13415549399464244\n",
      "Scasat\tkmeans\t0.5139731028866653\t0.435581929325142\t0.07839117356152331\t0.4642857142857143\t0.0071294147031368835\n",
      "SCRAT\tkmeans\t0.4481738973710102\t0.4655801334268504\t-0.017406236055840185\t0.3214285714285714\t0.13415549399464244\n",
      "SCRAT\tkmeans\t0.4482533216196547\t0.46575315248520366\t-0.01749983086554896\t0.3214285714285714\t0.13415549399464244\n",
      "SnapATAC\tkmeans\t0.3973444224180726\t0.25139522993100477\t0.14594919248706784\t0.5714285714285714\t0.0003916094683673321\n",
      "BROCKMAN\thc\t0.34373183059015827\t0.2532978859662293\t0.09043394462392895\t0.5\t0.002897057550796698\n",
      "chromVAR\thc\t0.3773862496971434\t0.33657630629751367\t0.04080994339962973\t0.3571428571428571\t0.0712039075524818\n",
      "chromVAR\thc\t0.34814198958708703\t0.28951533601405643\t0.058626653573030596\t0.40476190476190477\t0.027574182429466066\n",
      "chromVAR\thc\t0.38310256494671624\t0.3012181433044584\t0.08188442164225784\t0.5119047619047619\t0.0021142372753983523\n",
      "chromVAR\thc\t0.4023846332679356\t0.3246255631420108\t0.07775907012592481\t0.46428571428571425\t0.007129414703136896\n",
      "Cicero\thc\t0.2643907273447555\t0.2079708951684573\t0.0564198321762982\t0.3571428571428571\t0.0712039075524818\n",
      "Cicero\thc\t0.2565865558663161\t0.18344920596483374\t0.07313734990148238\t0.4285714285714286\t0.01641271011297831\n",
      "cisTopic\thc\t0.4387836527804775\t0.3212278210347489\t0.11755583174572859\t0.5\t0.002897057550796698\n",
      "GeneScoring\thc\t0.4557350205903476\t0.45284186462797116\t0.002893155962376437\t0.2619047619047619\t0.33117059925127096\n",
      "GeneScoring\thc\t0.4743414088116296\t0.4845200952938888\t-0.01017868648225917\t0.30952380952380953\t0.16323153442012886\n",
      "LSI\thc\t0.4994035977704594\t0.40953939631581965\t0.08986420145463975\t0.47619047619047616\t0.005319945722709709\n",
      "scABC\thc\t0.47311301397202643\t0.48580832027394816\t-0.012695306301921727\t0.4404761904761905\t0.012522483127374345\n",
      "scABC\thc\t0.4720890245540913\t0.48869748595474244\t-0.016608461400651142\t0.4047619047619048\t0.027574182429466017\n",
      "Scasat\thc\t0.5191553667835349\t0.46462838611139934\t0.05452698067213557\t0.4285714285714286\t0.01641271011297831\n",
      "SCRAT\thc\t0.4314608523826996\t0.4386974863273252\t-0.007236633944625592\t0.16666666666666663\t0.86076435166067\n",
      "SnapATAC\thc\t0.41963106376965925\t0.2650594261243363\t0.15457163764532295\t0.5714285714285714\t0.0003916094683673321\n"
     ]
    }
   ],
   "source": [
    "#Run the method for all the clustering solutions\n",
    "min_cells_per_cluster=10\n",
    "print('\\t'.join(['Method','Clustering','Gini Marker Genes','Gini Housekeeping Genes','Difference','KS statistics','p-value']))\n",
    "for clustering_filename in glob.glob('/PHShome/ta779/2019_03_scATAC/script_to_submit/pbmc/data/clustering_solutions/*csv'):\n",
    "                                      \n",
    "    #print(clustering_filename)\n",
    "    \n",
    "    \n",
    "    #try:\n",
    "        #load dataset\n",
    "        clustering_info=pd.read_csv(clustering_filename)\n",
    "        clustering_method=set(clustering_info.columns.values)\n",
    "        clustering_method.discard('Barcode')\n",
    "        clustering_method=clustering_method.pop()\n",
    "        clustering_info=clustering_info.set_index(clustering_method)\n",
    "\n",
    "\n",
    "        #REMOVE CLUSTERS WITH FEW CELLS\n",
    "       \n",
    "        cluster_sizes=pd.value_counts(clustering_info.index)\n",
    "        clustering_info=clustering_info.loc[cluster_sizes[cluster_sizes>min_cells_per_cluster].index.values,:]\n",
    "\n",
    "\n",
    "        mean_gini_marker,mean_gini_housekeeping,mean_gini_difference,statistics,p_value=score_clustering_solution(df_matrix_marker,df_matrix_housekeeping,clustering_info)\n",
    "        \n",
    "        #method,cluster_method=np.take(os.path.basename(clustering_filename).replace('.csv','').split('_'),[0,2])\n",
    "        method,cluster_method=np.take(os.path.basename(clustering_filename).replace('.csv','').split('_'),[0,-1])\n",
    "        \n",
    "        print('\\t'.join(map(str,[ method,cluster_method,mean_gini_marker,mean_gini_housekeeping,mean_gini_difference,statistics,p_value])))\n",
    "       \n",
    "\n",
    "       \n",
    "    #except:\n",
    "    #   print('Something wrong with: %s' % clustering_filename)\n",
    "        \n",
    "        \n",
    "    \n",
    "    \n",
    "    \n",
    "    \n",
    "    \n",
    "    \n",
    "    \n",
    "\n",
    "    "
   ]
  },
  {
   "cell_type": "code",
   "execution_count": null,
   "metadata": {},
   "outputs": [],
   "source": []
  }
 ],
 "metadata": {
  "kernelspec": {
   "display_name": "Python 3",
   "language": "python",
   "name": "python3"
  },
  "language_info": {
   "codemirror_mode": {
    "name": "ipython",
    "version": 3
   },
   "file_extension": ".py",
   "mimetype": "text/x-python",
   "name": "python",
   "nbconvert_exporter": "python",
   "pygments_lexer": "ipython3",
   "version": "3.6.5"
  }
 },
 "nbformat": 4,
 "nbformat_minor": 2
}
