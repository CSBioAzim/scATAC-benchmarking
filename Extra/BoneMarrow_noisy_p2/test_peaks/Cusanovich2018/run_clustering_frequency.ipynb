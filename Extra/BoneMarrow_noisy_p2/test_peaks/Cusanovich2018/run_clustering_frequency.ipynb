{
 "cells": [
  {
   "cell_type": "code",
   "execution_count": 1,
   "metadata": {},
   "outputs": [],
   "source": [
    "import pandas as pd\n",
    "import numpy as np\n",
    "import scanpy as sc\n",
    "import os\n",
    "from sklearn.cluster import KMeans\n",
    "from sklearn.cluster import AgglomerativeClustering\n",
    "from sklearn.metrics.cluster import adjusted_rand_score\n",
    "from sklearn.metrics.cluster import adjusted_mutual_info_score\n",
    "from sklearn.metrics.cluster import homogeneity_score\n",
    "import rpy2.robjects as robjects\n",
    "from rpy2.robjects import pandas2ri"
   ]
  },
  {
   "cell_type": "code",
   "execution_count": 2,
   "metadata": {},
   "outputs": [],
   "source": [
    "df_metrics = pd.DataFrame(columns=['ARI_Louvain','ARI_kmeans','ARI_HC',\n",
    "                                   'AMI_Louvain','AMI_kmeans','AMI_HC',\n",
    "                                   'Homogeneity_Louvain','Homogeneity_kmeans','Homogeneity_HC'])"
   ]
  },
  {
   "cell_type": "code",
   "execution_count": 3,
   "metadata": {},
   "outputs": [
    {
     "data": {
      "text/plain": [
       "0"
      ]
     },
     "execution_count": 3,
     "metadata": {},
     "output_type": "execute_result"
    }
   ],
   "source": [
    "workdir = './peaks_frequency_results/'\n",
    "path_fm = os.path.join(workdir,'feature_matrices/')\n",
    "path_clusters = os.path.join(workdir,'clusters/')\n",
    "path_metrics = os.path.join(workdir,'metrics/')\n",
    "os.system('mkdir -p '+path_clusters)\n",
    "os.system('mkdir -p '+path_metrics)"
   ]
  },
  {
   "cell_type": "code",
   "execution_count": 4,
   "metadata": {},
   "outputs": [
    {
     "name": "stdout",
     "output_type": "stream",
     "text": [
      "6\n"
     ]
    }
   ],
   "source": [
    "metadata = pd.read_csv('../../input/metadata.tsv',sep='\\t',index_col=0)\n",
    "num_clusters = len(np.unique(metadata['label']))\n",
    "print(num_clusters)"
   ]
  },
  {
   "cell_type": "code",
   "execution_count": 5,
   "metadata": {},
   "outputs": [
    {
     "data": {
      "text/plain": [
       "11"
      ]
     },
     "execution_count": 5,
     "metadata": {},
     "output_type": "execute_result"
    }
   ],
   "source": [
    "files = [x for x in os.listdir(path_fm) if x.startswith('FM')]\n",
    "len(files)"
   ]
  },
  {
   "cell_type": "code",
   "execution_count": 6,
   "metadata": {},
   "outputs": [
    {
     "data": {
      "text/plain": [
       "['FM_Cusanovich20181.rds',\n",
       " 'FM_Cusanovich20180.8.rds',\n",
       " 'FM_Cusanovich20180.6.rds',\n",
       " 'FM_Cusanovich20180.4.rds',\n",
       " 'FM_Cusanovich20180.2.rds',\n",
       " 'FM_Cusanovich20180.1.rds',\n",
       " 'FM_Cusanovich20180.08.rds',\n",
       " 'FM_Cusanovich20180.06.rds',\n",
       " 'FM_Cusanovich20180.04.rds',\n",
       " 'FM_Cusanovich20180.02.rds',\n",
       " 'FM_Cusanovich20180.01.rds']"
      ]
     },
     "execution_count": 6,
     "metadata": {},
     "output_type": "execute_result"
    }
   ],
   "source": [
    "files"
   ]
  },
  {
   "cell_type": "code",
   "execution_count": 7,
   "metadata": {},
   "outputs": [],
   "source": [
    "def getNClusters(adata,n_cluster,range_min=0,range_max=3,max_steps=20):\n",
    "    this_step = 0\n",
    "    this_min = float(range_min)\n",
    "    this_max = float(range_max)\n",
    "    while this_step < max_steps:\n",
    "        print('step ' + str(this_step))\n",
    "        this_resolution = this_min + ((this_max-this_min)/2)\n",
    "        sc.tl.louvain(adata,resolution=this_resolution)\n",
    "        this_clusters = adata.obs['louvain'].nunique()\n",
    "        \n",
    "        print('got ' + str(this_clusters) + ' at resolution ' + str(this_resolution))\n",
    "        \n",
    "        if this_clusters > n_cluster:\n",
    "            this_max = this_resolution\n",
    "        elif this_clusters < n_cluster:\n",
    "            this_min = this_resolution\n",
    "        else:\n",
    "            return(this_resolution, adata)\n",
    "        this_step += 1\n",
    "    \n",
    "    print('Cannot find the number of clusters')\n",
    "    print('Clustering solution from last iteration is used:' + str(this_clusters) + ' at resolution ' + str(this_resolution))"
   ]
  },
  {
   "cell_type": "code",
   "execution_count": 8,
   "metadata": {
    "scrolled": false
   },
   "outputs": [
    {
     "name": "stdout",
     "output_type": "stream",
     "text": [
      "Cusanovich20181\n"
     ]
    },
    {
     "name": "stderr",
     "output_type": "stream",
     "text": [
      "/data/pinello/SHARED_SOFTWARE/anaconda3/envs/ATACseq_clustering/lib/python3.7/site-packages/rpy2/robjects/pandas2ri.py:191: FutureWarning: from_items is deprecated. Please use DataFrame.from_dict(dict(items), ...) instead. DataFrame.from_dict(OrderedDict(items)) may be used to preserve the key order.\n",
      "  res = PandasDataFrame.from_items(items)\n"
     ]
    },
    {
     "name": "stdout",
     "output_type": "stream",
     "text": [
      "step 0\n",
      "got 6 at resolution 1.5\n",
      "Cusanovich20180.8\n"
     ]
    },
    {
     "name": "stderr",
     "output_type": "stream",
     "text": [
      "/data/pinello/SHARED_SOFTWARE/anaconda3/envs/ATACseq_clustering/lib/python3.7/site-packages/rpy2/robjects/pandas2ri.py:191: FutureWarning: from_items is deprecated. Please use DataFrame.from_dict(dict(items), ...) instead. DataFrame.from_dict(OrderedDict(items)) may be used to preserve the key order.\n",
      "  res = PandasDataFrame.from_items(items)\n"
     ]
    },
    {
     "name": "stdout",
     "output_type": "stream",
     "text": [
      "step 0\n",
      "got 6 at resolution 1.5\n",
      "Cusanovich20180.6\n"
     ]
    },
    {
     "name": "stderr",
     "output_type": "stream",
     "text": [
      "/data/pinello/SHARED_SOFTWARE/anaconda3/envs/ATACseq_clustering/lib/python3.7/site-packages/rpy2/robjects/pandas2ri.py:191: FutureWarning: from_items is deprecated. Please use DataFrame.from_dict(dict(items), ...) instead. DataFrame.from_dict(OrderedDict(items)) may be used to preserve the key order.\n",
      "  res = PandasDataFrame.from_items(items)\n"
     ]
    },
    {
     "name": "stdout",
     "output_type": "stream",
     "text": [
      "step 0\n",
      "got 6 at resolution 1.5\n",
      "Cusanovich20180.4\n"
     ]
    },
    {
     "name": "stderr",
     "output_type": "stream",
     "text": [
      "/data/pinello/SHARED_SOFTWARE/anaconda3/envs/ATACseq_clustering/lib/python3.7/site-packages/rpy2/robjects/pandas2ri.py:191: FutureWarning: from_items is deprecated. Please use DataFrame.from_dict(dict(items), ...) instead. DataFrame.from_dict(OrderedDict(items)) may be used to preserve the key order.\n",
      "  res = PandasDataFrame.from_items(items)\n"
     ]
    },
    {
     "name": "stdout",
     "output_type": "stream",
     "text": [
      "step 0\n",
      "got 6 at resolution 1.5\n",
      "Cusanovich20180.2\n"
     ]
    },
    {
     "name": "stderr",
     "output_type": "stream",
     "text": [
      "/data/pinello/SHARED_SOFTWARE/anaconda3/envs/ATACseq_clustering/lib/python3.7/site-packages/rpy2/robjects/pandas2ri.py:191: FutureWarning: from_items is deprecated. Please use DataFrame.from_dict(dict(items), ...) instead. DataFrame.from_dict(OrderedDict(items)) may be used to preserve the key order.\n",
      "  res = PandasDataFrame.from_items(items)\n"
     ]
    },
    {
     "name": "stdout",
     "output_type": "stream",
     "text": [
      "step 0\n",
      "got 6 at resolution 1.5\n",
      "Cusanovich20180.1\n"
     ]
    },
    {
     "name": "stderr",
     "output_type": "stream",
     "text": [
      "/data/pinello/SHARED_SOFTWARE/anaconda3/envs/ATACseq_clustering/lib/python3.7/site-packages/rpy2/robjects/pandas2ri.py:191: FutureWarning: from_items is deprecated. Please use DataFrame.from_dict(dict(items), ...) instead. DataFrame.from_dict(OrderedDict(items)) may be used to preserve the key order.\n",
      "  res = PandasDataFrame.from_items(items)\n"
     ]
    },
    {
     "name": "stdout",
     "output_type": "stream",
     "text": [
      "step 0\n",
      "got 6 at resolution 1.5\n",
      "Cusanovich20180.08\n"
     ]
    },
    {
     "name": "stderr",
     "output_type": "stream",
     "text": [
      "/data/pinello/SHARED_SOFTWARE/anaconda3/envs/ATACseq_clustering/lib/python3.7/site-packages/rpy2/robjects/pandas2ri.py:191: FutureWarning: from_items is deprecated. Please use DataFrame.from_dict(dict(items), ...) instead. DataFrame.from_dict(OrderedDict(items)) may be used to preserve the key order.\n",
      "  res = PandasDataFrame.from_items(items)\n"
     ]
    },
    {
     "name": "stdout",
     "output_type": "stream",
     "text": [
      "step 0\n",
      "got 6 at resolution 1.5\n",
      "Cusanovich20180.06\n"
     ]
    },
    {
     "name": "stderr",
     "output_type": "stream",
     "text": [
      "/data/pinello/SHARED_SOFTWARE/anaconda3/envs/ATACseq_clustering/lib/python3.7/site-packages/rpy2/robjects/pandas2ri.py:191: FutureWarning: from_items is deprecated. Please use DataFrame.from_dict(dict(items), ...) instead. DataFrame.from_dict(OrderedDict(items)) may be used to preserve the key order.\n",
      "  res = PandasDataFrame.from_items(items)\n"
     ]
    },
    {
     "name": "stdout",
     "output_type": "stream",
     "text": [
      "step 0\n",
      "got 6 at resolution 1.5\n",
      "Cusanovich20180.04\n"
     ]
    },
    {
     "name": "stderr",
     "output_type": "stream",
     "text": [
      "/data/pinello/SHARED_SOFTWARE/anaconda3/envs/ATACseq_clustering/lib/python3.7/site-packages/rpy2/robjects/pandas2ri.py:191: FutureWarning: from_items is deprecated. Please use DataFrame.from_dict(dict(items), ...) instead. DataFrame.from_dict(OrderedDict(items)) may be used to preserve the key order.\n",
      "  res = PandasDataFrame.from_items(items)\n"
     ]
    },
    {
     "name": "stdout",
     "output_type": "stream",
     "text": [
      "step 0\n",
      "got 7 at resolution 1.5\n",
      "step 1\n",
      "got 4 at resolution 0.75\n",
      "step 2\n",
      "got 6 at resolution 1.125\n",
      "Cusanovich20180.02\n"
     ]
    },
    {
     "name": "stderr",
     "output_type": "stream",
     "text": [
      "/data/pinello/SHARED_SOFTWARE/anaconda3/envs/ATACseq_clustering/lib/python3.7/site-packages/rpy2/robjects/pandas2ri.py:191: FutureWarning: from_items is deprecated. Please use DataFrame.from_dict(dict(items), ...) instead. DataFrame.from_dict(OrderedDict(items)) may be used to preserve the key order.\n",
      "  res = PandasDataFrame.from_items(items)\n"
     ]
    },
    {
     "name": "stdout",
     "output_type": "stream",
     "text": [
      "step 0\n",
      "got 11 at resolution 1.5\n",
      "step 1\n",
      "got 4 at resolution 0.75\n",
      "step 2\n",
      "got 6 at resolution 1.125\n",
      "Cusanovich20180.01\n"
     ]
    },
    {
     "name": "stderr",
     "output_type": "stream",
     "text": [
      "/data/pinello/SHARED_SOFTWARE/anaconda3/envs/ATACseq_clustering/lib/python3.7/site-packages/rpy2/robjects/pandas2ri.py:191: FutureWarning: from_items is deprecated. Please use DataFrame.from_dict(dict(items), ...) instead. DataFrame.from_dict(OrderedDict(items)) may be used to preserve the key order.\n",
      "  res = PandasDataFrame.from_items(items)\n"
     ]
    },
    {
     "name": "stdout",
     "output_type": "stream",
     "text": [
      "step 0\n",
      "got 11 at resolution 1.5\n",
      "step 1\n",
      "got 4 at resolution 0.75\n",
      "step 2\n",
      "got 7 at resolution 1.125\n",
      "step 3\n",
      "got 4 at resolution 0.9375\n",
      "step 4\n",
      "got 5 at resolution 1.03125\n",
      "step 5\n",
      "got 7 at resolution 1.078125\n",
      "step 6\n",
      "got 5 at resolution 1.0546875\n",
      "step 7\n",
      "got 7 at resolution 1.06640625\n",
      "step 8\n",
      "got 5 at resolution 1.060546875\n",
      "step 9\n",
      "got 5 at resolution 1.0634765625\n",
      "step 10\n",
      "got 5 at resolution 1.06494140625\n",
      "step 11\n",
      "got 5 at resolution 1.065673828125\n",
      "step 12\n",
      "got 5 at resolution 1.0660400390625\n",
      "step 13\n",
      "got 7 at resolution 1.06622314453125\n",
      "step 14\n",
      "got 5 at resolution 1.066131591796875\n",
      "step 15\n",
      "got 7 at resolution 1.0661773681640625\n",
      "step 16\n",
      "got 7 at resolution 1.0661544799804688\n",
      "step 17\n",
      "got 5 at resolution 1.0661430358886719\n",
      "step 18\n",
      "got 7 at resolution 1.0661487579345703\n",
      "step 19\n",
      "got 7 at resolution 1.066145896911621\n",
      "Cannot find the number of clusters\n",
      "Clustering solution from last iteration is used:7 at resolution 1.066145896911621\n"
     ]
    }
   ],
   "source": [
    "for file in files:\n",
    "    file_split = file[:-4].split('_')\n",
    "    method = file_split[1]\n",
    "    print(method)\n",
    "\n",
    "    pandas2ri.activate()\n",
    "    readRDS = robjects.r['readRDS']\n",
    "    df_rds = readRDS(os.path.join(path_fm,file))\n",
    "    fm_mat = pandas2ri.ri2py(robjects.r['data.frame'](robjects.r['as.matrix'](df_rds)))\n",
    "    fm_mat.fillna(0,inplace=True)\n",
    "    fm_mat.columns = metadata.index\n",
    "    \n",
    "    adata = sc.AnnData(fm_mat.T)\n",
    "    adata.var_names_make_unique()\n",
    "    adata.obs = metadata.loc[adata.obs.index,]\n",
    "    df_metrics.loc[method,] = \"\"\n",
    "    #Louvain\n",
    "    sc.pp.neighbors(adata, n_neighbors=15,use_rep='X')\n",
    "#     sc.tl.louvain(adata)\n",
    "    getNClusters(adata,n_cluster=num_clusters)\n",
    "    #kmeans\n",
    "    kmeans = KMeans(n_clusters=num_clusters, random_state=2019).fit(adata.X)\n",
    "    adata.obs['kmeans'] = pd.Series(kmeans.labels_,index=adata.obs.index).astype('category')\n",
    "    #hierachical clustering\n",
    "    hc = AgglomerativeClustering(n_clusters=num_clusters).fit(adata.X)\n",
    "    adata.obs['hc'] = pd.Series(hc.labels_,index=adata.obs.index).astype('category')\n",
    "    #clustering metrics\n",
    "    \n",
    "    #adjusted rank index\n",
    "    ari_louvain = adjusted_rand_score(adata.obs['label'], adata.obs['louvain'])\n",
    "    ari_kmeans = adjusted_rand_score(adata.obs['label'], adata.obs['kmeans'])\n",
    "    ari_hc = adjusted_rand_score(adata.obs['label'], adata.obs['hc'])\n",
    "    #adjusted mutual information\n",
    "    ami_louvain = adjusted_mutual_info_score(adata.obs['label'], adata.obs['louvain'],average_method='arithmetic')\n",
    "    ami_kmeans = adjusted_mutual_info_score(adata.obs['label'], adata.obs['kmeans'],average_method='arithmetic')   \n",
    "    ami_hc = adjusted_mutual_info_score(adata.obs['label'], adata.obs['hc'],average_method='arithmetic')\n",
    "    #homogeneity\n",
    "    homo_louvain = homogeneity_score(adata.obs['label'], adata.obs['louvain'])\n",
    "    homo_kmeans = homogeneity_score(adata.obs['label'], adata.obs['kmeans'])\n",
    "    homo_hc = homogeneity_score(adata.obs['label'], adata.obs['hc'])\n",
    "\n",
    "    df_metrics.loc[method,['ARI_Louvain','ARI_kmeans','ARI_HC']] = [ari_louvain,ari_kmeans,ari_hc]\n",
    "    df_metrics.loc[method,['AMI_Louvain','AMI_kmeans','AMI_HC']] = [ami_louvain,ami_kmeans,ami_hc]\n",
    "    df_metrics.loc[method,['Homogeneity_Louvain','Homogeneity_kmeans','Homogeneity_HC']] = [homo_louvain,homo_kmeans,homo_hc] \n",
    "    adata.obs[['louvain','kmeans','hc']].to_csv(os.path.join(path_clusters ,method + '_clusters.tsv'),sep='\\t')"
   ]
  },
  {
   "cell_type": "code",
   "execution_count": 9,
   "metadata": {},
   "outputs": [],
   "source": [
    "df_metrics.to_csv(path_metrics+'clustering_scores.csv')"
   ]
  },
  {
   "cell_type": "code",
   "execution_count": 10,
   "metadata": {},
   "outputs": [
    {
     "data": {
      "text/html": [
       "<div>\n",
       "<style scoped>\n",
       "    .dataframe tbody tr th:only-of-type {\n",
       "        vertical-align: middle;\n",
       "    }\n",
       "\n",
       "    .dataframe tbody tr th {\n",
       "        vertical-align: top;\n",
       "    }\n",
       "\n",
       "    .dataframe thead th {\n",
       "        text-align: right;\n",
       "    }\n",
       "</style>\n",
       "<table border=\"1\" class=\"dataframe\">\n",
       "  <thead>\n",
       "    <tr style=\"text-align: right;\">\n",
       "      <th></th>\n",
       "      <th>ARI_Louvain</th>\n",
       "      <th>ARI_kmeans</th>\n",
       "      <th>ARI_HC</th>\n",
       "      <th>AMI_Louvain</th>\n",
       "      <th>AMI_kmeans</th>\n",
       "      <th>AMI_HC</th>\n",
       "      <th>Homogeneity_Louvain</th>\n",
       "      <th>Homogeneity_kmeans</th>\n",
       "      <th>Homogeneity_HC</th>\n",
       "    </tr>\n",
       "  </thead>\n",
       "  <tbody>\n",
       "    <tr>\n",
       "      <th>Cusanovich20181</th>\n",
       "      <td>1</td>\n",
       "      <td>0.773607</td>\n",
       "      <td>1</td>\n",
       "      <td>1</td>\n",
       "      <td>0.900165</td>\n",
       "      <td>1</td>\n",
       "      <td>1</td>\n",
       "      <td>0.871049</td>\n",
       "      <td>1</td>\n",
       "    </tr>\n",
       "    <tr>\n",
       "      <th>Cusanovich20180.8</th>\n",
       "      <td>1</td>\n",
       "      <td>0.775452</td>\n",
       "      <td>1</td>\n",
       "      <td>1</td>\n",
       "      <td>0.900945</td>\n",
       "      <td>1</td>\n",
       "      <td>1</td>\n",
       "      <td>0.871049</td>\n",
       "      <td>1</td>\n",
       "    </tr>\n",
       "    <tr>\n",
       "      <th>Cusanovich20180.6</th>\n",
       "      <td>0.997997</td>\n",
       "      <td>0.772095</td>\n",
       "      <td>0.995993</td>\n",
       "      <td>0.997053</td>\n",
       "      <td>0.899534</td>\n",
       "      <td>0.994107</td>\n",
       "      <td>0.99707</td>\n",
       "      <td>0.871049</td>\n",
       "      <td>0.994139</td>\n",
       "    </tr>\n",
       "    <tr>\n",
       "      <th>Cusanovich20180.4</th>\n",
       "      <td>0.997997</td>\n",
       "      <td>0.770757</td>\n",
       "      <td>0.776624</td>\n",
       "      <td>0.997053</td>\n",
       "      <td>0.89672</td>\n",
       "      <td>0.901447</td>\n",
       "      <td>0.99707</td>\n",
       "      <td>0.868473</td>\n",
       "      <td>0.871049</td>\n",
       "    </tr>\n",
       "    <tr>\n",
       "      <th>Cusanovich20180.2</th>\n",
       "      <td>0.997997</td>\n",
       "      <td>0.77573</td>\n",
       "      <td>0.781572</td>\n",
       "      <td>0.997053</td>\n",
       "      <td>0.901063</td>\n",
       "      <td>0.903629</td>\n",
       "      <td>0.99707</td>\n",
       "      <td>0.871049</td>\n",
       "      <td>0.871049</td>\n",
       "    </tr>\n",
       "    <tr>\n",
       "      <th>Cusanovich20180.1</th>\n",
       "      <td>0.976272</td>\n",
       "      <td>0.756331</td>\n",
       "      <td>0.762181</td>\n",
       "      <td>0.971409</td>\n",
       "      <td>0.874191</td>\n",
       "      <td>0.876717</td>\n",
       "      <td>0.971565</td>\n",
       "      <td>0.84799</td>\n",
       "      <td>0.847934</td>\n",
       "    </tr>\n",
       "    <tr>\n",
       "      <th>Cusanovich20180.08</th>\n",
       "      <td>0.953406</td>\n",
       "      <td>0.753506</td>\n",
       "      <td>0.741634</td>\n",
       "      <td>0.950282</td>\n",
       "      <td>0.868919</td>\n",
       "      <td>0.860099</td>\n",
       "      <td>0.950569</td>\n",
       "      <td>0.843268</td>\n",
       "      <td>0.834139</td>\n",
       "    </tr>\n",
       "    <tr>\n",
       "      <th>Cusanovich20180.06</th>\n",
       "      <td>0.862812</td>\n",
       "      <td>0.698993</td>\n",
       "      <td>0.66422</td>\n",
       "      <td>0.883066</td>\n",
       "      <td>0.811327</td>\n",
       "      <td>0.784447</td>\n",
       "      <td>0.883664</td>\n",
       "      <td>0.791529</td>\n",
       "      <td>0.763907</td>\n",
       "    </tr>\n",
       "    <tr>\n",
       "      <th>Cusanovich20180.04</th>\n",
       "      <td>0.666322</td>\n",
       "      <td>0.632965</td>\n",
       "      <td>0.597908</td>\n",
       "      <td>0.756666</td>\n",
       "      <td>0.747888</td>\n",
       "      <td>0.722924</td>\n",
       "      <td>0.755172</td>\n",
       "      <td>0.730167</td>\n",
       "      <td>0.70561</td>\n",
       "    </tr>\n",
       "    <tr>\n",
       "      <th>Cusanovich20180.02</th>\n",
       "      <td>0.50574</td>\n",
       "      <td>0.507341</td>\n",
       "      <td>0.398319</td>\n",
       "      <td>0.610586</td>\n",
       "      <td>0.642361</td>\n",
       "      <td>0.613845</td>\n",
       "      <td>0.590883</td>\n",
       "      <td>0.631203</td>\n",
       "      <td>0.559854</td>\n",
       "    </tr>\n",
       "    <tr>\n",
       "      <th>Cusanovich20180.01</th>\n",
       "      <td>0.418171</td>\n",
       "      <td>0.414163</td>\n",
       "      <td>0.388061</td>\n",
       "      <td>0.517223</td>\n",
       "      <td>0.552971</td>\n",
       "      <td>0.575188</td>\n",
       "      <td>0.53148</td>\n",
       "      <td>0.543644</td>\n",
       "      <td>0.526493</td>\n",
       "    </tr>\n",
       "  </tbody>\n",
       "</table>\n",
       "</div>"
      ],
      "text/plain": [
       "                   ARI_Louvain ARI_kmeans    ARI_HC AMI_Louvain AMI_kmeans  \\\n",
       "Cusanovich20181              1   0.773607         1           1   0.900165   \n",
       "Cusanovich20180.8            1   0.775452         1           1   0.900945   \n",
       "Cusanovich20180.6     0.997997   0.772095  0.995993    0.997053   0.899534   \n",
       "Cusanovich20180.4     0.997997   0.770757  0.776624    0.997053    0.89672   \n",
       "Cusanovich20180.2     0.997997    0.77573  0.781572    0.997053   0.901063   \n",
       "Cusanovich20180.1     0.976272   0.756331  0.762181    0.971409   0.874191   \n",
       "Cusanovich20180.08    0.953406   0.753506  0.741634    0.950282   0.868919   \n",
       "Cusanovich20180.06    0.862812   0.698993   0.66422    0.883066   0.811327   \n",
       "Cusanovich20180.04    0.666322   0.632965  0.597908    0.756666   0.747888   \n",
       "Cusanovich20180.02     0.50574   0.507341  0.398319    0.610586   0.642361   \n",
       "Cusanovich20180.01    0.418171   0.414163  0.388061    0.517223   0.552971   \n",
       "\n",
       "                      AMI_HC Homogeneity_Louvain Homogeneity_kmeans  \\\n",
       "Cusanovich20181            1                   1           0.871049   \n",
       "Cusanovich20180.8          1                   1           0.871049   \n",
       "Cusanovich20180.6   0.994107             0.99707           0.871049   \n",
       "Cusanovich20180.4   0.901447             0.99707           0.868473   \n",
       "Cusanovich20180.2   0.903629             0.99707           0.871049   \n",
       "Cusanovich20180.1   0.876717            0.971565            0.84799   \n",
       "Cusanovich20180.08  0.860099            0.950569           0.843268   \n",
       "Cusanovich20180.06  0.784447            0.883664           0.791529   \n",
       "Cusanovich20180.04  0.722924            0.755172           0.730167   \n",
       "Cusanovich20180.02  0.613845            0.590883           0.631203   \n",
       "Cusanovich20180.01  0.575188             0.53148           0.543644   \n",
       "\n",
       "                   Homogeneity_HC  \n",
       "Cusanovich20181                 1  \n",
       "Cusanovich20180.8               1  \n",
       "Cusanovich20180.6        0.994139  \n",
       "Cusanovich20180.4        0.871049  \n",
       "Cusanovich20180.2        0.871049  \n",
       "Cusanovich20180.1        0.847934  \n",
       "Cusanovich20180.08       0.834139  \n",
       "Cusanovich20180.06       0.763907  \n",
       "Cusanovich20180.04        0.70561  \n",
       "Cusanovich20180.02       0.559854  \n",
       "Cusanovich20180.01       0.526493  "
      ]
     },
     "execution_count": 10,
     "metadata": {},
     "output_type": "execute_result"
    }
   ],
   "source": [
    "df_metrics"
   ]
  },
  {
   "cell_type": "code",
   "execution_count": null,
   "metadata": {},
   "outputs": [],
   "source": []
  }
 ],
 "metadata": {
  "kernelspec": {
   "display_name": "Python [conda env:ATACseq_clustering]",
   "language": "python",
   "name": "conda-env-ATACseq_clustering-py"
  },
  "language_info": {
   "codemirror_mode": {
    "name": "ipython",
    "version": 3
   },
   "file_extension": ".py",
   "mimetype": "text/x-python",
   "name": "python",
   "nbconvert_exporter": "python",
   "pygments_lexer": "ipython3",
   "version": "3.7.3"
  }
 },
 "nbformat": 4,
 "nbformat_minor": 2
}
