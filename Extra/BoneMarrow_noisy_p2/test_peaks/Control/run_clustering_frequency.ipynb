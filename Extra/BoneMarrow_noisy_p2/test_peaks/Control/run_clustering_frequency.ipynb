{
 "cells": [
  {
   "cell_type": "code",
   "execution_count": 1,
   "metadata": {},
   "outputs": [],
   "source": [
    "import pandas as pd\n",
    "import numpy as np\n",
    "import scanpy as sc\n",
    "import os\n",
    "from sklearn.cluster import KMeans\n",
    "from sklearn.cluster import AgglomerativeClustering\n",
    "from sklearn.metrics.cluster import adjusted_rand_score\n",
    "from sklearn.metrics.cluster import adjusted_mutual_info_score\n",
    "from sklearn.metrics.cluster import homogeneity_score\n",
    "import rpy2.robjects as robjects\n",
    "from rpy2.robjects import pandas2ri"
   ]
  },
  {
   "cell_type": "code",
   "execution_count": 2,
   "metadata": {},
   "outputs": [],
   "source": [
    "df_metrics = pd.DataFrame(columns=['ARI_Louvain','ARI_kmeans','ARI_HC',\n",
    "                                   'AMI_Louvain','AMI_kmeans','AMI_HC',\n",
    "                                   'Homogeneity_Louvain','Homogeneity_kmeans','Homogeneity_HC'])"
   ]
  },
  {
   "cell_type": "code",
   "execution_count": 3,
   "metadata": {},
   "outputs": [
    {
     "data": {
      "text/plain": [
       "0"
      ]
     },
     "execution_count": 3,
     "metadata": {},
     "output_type": "execute_result"
    }
   ],
   "source": [
    "workdir = './peaks_frequency_results/'\n",
    "path_fm = os.path.join(workdir,'feature_matrices/')\n",
    "path_clusters = os.path.join(workdir,'clusters/')\n",
    "path_metrics = os.path.join(workdir,'metrics/')\n",
    "os.system('mkdir -p '+path_clusters)\n",
    "os.system('mkdir -p '+path_metrics)"
   ]
  },
  {
   "cell_type": "code",
   "execution_count": 4,
   "metadata": {},
   "outputs": [
    {
     "name": "stdout",
     "output_type": "stream",
     "text": [
      "6\n"
     ]
    }
   ],
   "source": [
    "metadata = pd.read_csv('../../input/metadata.tsv',sep='\\t',index_col=0)\n",
    "num_clusters = len(np.unique(metadata['label']))\n",
    "print(num_clusters)"
   ]
  },
  {
   "cell_type": "code",
   "execution_count": 5,
   "metadata": {},
   "outputs": [
    {
     "data": {
      "text/plain": [
       "11"
      ]
     },
     "execution_count": 5,
     "metadata": {},
     "output_type": "execute_result"
    }
   ],
   "source": [
    "files = [x for x in os.listdir(path_fm) if x.startswith('FM')]\n",
    "len(files)"
   ]
  },
  {
   "cell_type": "code",
   "execution_count": 6,
   "metadata": {},
   "outputs": [
    {
     "data": {
      "text/plain": [
       "['FM_control1.rds',\n",
       " 'FM_control0.8.rds',\n",
       " 'FM_control0.6.rds',\n",
       " 'FM_control0.4.rds',\n",
       " 'FM_control0.2.rds',\n",
       " 'FM_control0.1.rds',\n",
       " 'FM_control0.08.rds',\n",
       " 'FM_control0.06.rds',\n",
       " 'FM_control0.04.rds',\n",
       " 'FM_control0.02.rds',\n",
       " 'FM_control0.01.rds']"
      ]
     },
     "execution_count": 6,
     "metadata": {},
     "output_type": "execute_result"
    }
   ],
   "source": [
    "files"
   ]
  },
  {
   "cell_type": "code",
   "execution_count": 7,
   "metadata": {},
   "outputs": [],
   "source": [
    "def getNClusters(adata,n_cluster,range_min=0,range_max=3,max_steps=20):\n",
    "    this_step = 0\n",
    "    this_min = float(range_min)\n",
    "    this_max = float(range_max)\n",
    "    while this_step < max_steps:\n",
    "        print('step ' + str(this_step))\n",
    "        this_resolution = this_min + ((this_max-this_min)/2)\n",
    "        sc.tl.louvain(adata,resolution=this_resolution)\n",
    "        this_clusters = adata.obs['louvain'].nunique()\n",
    "        \n",
    "        print('got ' + str(this_clusters) + ' at resolution ' + str(this_resolution))\n",
    "        \n",
    "        if this_clusters > n_cluster:\n",
    "            this_max = this_resolution\n",
    "        elif this_clusters < n_cluster:\n",
    "            this_min = this_resolution\n",
    "        else:\n",
    "            return(this_resolution, adata)\n",
    "        this_step += 1\n",
    "    \n",
    "    print('Cannot find the number of clusters')\n",
    "    print('Clustering solution from last iteration is used:' + str(this_clusters) + ' at resolution ' + str(this_resolution))"
   ]
  },
  {
   "cell_type": "code",
   "execution_count": 8,
   "metadata": {
    "scrolled": false
   },
   "outputs": [
    {
     "name": "stdout",
     "output_type": "stream",
     "text": [
      "control1\n"
     ]
    },
    {
     "name": "stderr",
     "output_type": "stream",
     "text": [
      "/data/pinello/SHARED_SOFTWARE/anaconda3/envs/ATACseq_clustering/lib/python3.7/site-packages/rpy2/robjects/pandas2ri.py:191: FutureWarning: from_items is deprecated. Please use DataFrame.from_dict(dict(items), ...) instead. DataFrame.from_dict(OrderedDict(items)) may be used to preserve the key order.\n",
      "  res = PandasDataFrame.from_items(items)\n"
     ]
    },
    {
     "name": "stdout",
     "output_type": "stream",
     "text": [
      "step 0\n",
      "got 6 at resolution 1.5\n",
      "control0.8\n"
     ]
    },
    {
     "name": "stderr",
     "output_type": "stream",
     "text": [
      "/data/pinello/SHARED_SOFTWARE/anaconda3/envs/ATACseq_clustering/lib/python3.7/site-packages/rpy2/robjects/pandas2ri.py:191: FutureWarning: from_items is deprecated. Please use DataFrame.from_dict(dict(items), ...) instead. DataFrame.from_dict(OrderedDict(items)) may be used to preserve the key order.\n",
      "  res = PandasDataFrame.from_items(items)\n"
     ]
    },
    {
     "name": "stdout",
     "output_type": "stream",
     "text": [
      "step 0\n",
      "got 7 at resolution 1.5\n",
      "step 1\n",
      "got 5 at resolution 0.75\n",
      "step 2\n",
      "got 6 at resolution 1.125\n",
      "control0.6\n"
     ]
    },
    {
     "name": "stderr",
     "output_type": "stream",
     "text": [
      "/data/pinello/SHARED_SOFTWARE/anaconda3/envs/ATACseq_clustering/lib/python3.7/site-packages/rpy2/robjects/pandas2ri.py:191: FutureWarning: from_items is deprecated. Please use DataFrame.from_dict(dict(items), ...) instead. DataFrame.from_dict(OrderedDict(items)) may be used to preserve the key order.\n",
      "  res = PandasDataFrame.from_items(items)\n"
     ]
    },
    {
     "name": "stdout",
     "output_type": "stream",
     "text": [
      "step 0\n",
      "got 7 at resolution 1.5\n",
      "step 1\n",
      "got 6 at resolution 0.75\n",
      "control0.4\n"
     ]
    },
    {
     "name": "stderr",
     "output_type": "stream",
     "text": [
      "/data/pinello/SHARED_SOFTWARE/anaconda3/envs/ATACseq_clustering/lib/python3.7/site-packages/rpy2/robjects/pandas2ri.py:191: FutureWarning: from_items is deprecated. Please use DataFrame.from_dict(dict(items), ...) instead. DataFrame.from_dict(OrderedDict(items)) may be used to preserve the key order.\n",
      "  res = PandasDataFrame.from_items(items)\n"
     ]
    },
    {
     "name": "stdout",
     "output_type": "stream",
     "text": [
      "step 0\n",
      "got 6 at resolution 1.5\n",
      "control0.2\n"
     ]
    },
    {
     "name": "stderr",
     "output_type": "stream",
     "text": [
      "/data/pinello/SHARED_SOFTWARE/anaconda3/envs/ATACseq_clustering/lib/python3.7/site-packages/rpy2/robjects/pandas2ri.py:191: FutureWarning: from_items is deprecated. Please use DataFrame.from_dict(dict(items), ...) instead. DataFrame.from_dict(OrderedDict(items)) may be used to preserve the key order.\n",
      "  res = PandasDataFrame.from_items(items)\n"
     ]
    },
    {
     "name": "stdout",
     "output_type": "stream",
     "text": [
      "step 0\n",
      "got 7 at resolution 1.5\n",
      "step 1\n",
      "got 5 at resolution 0.75\n",
      "step 2\n",
      "got 6 at resolution 1.125\n",
      "control0.1\n"
     ]
    },
    {
     "name": "stderr",
     "output_type": "stream",
     "text": [
      "/data/pinello/SHARED_SOFTWARE/anaconda3/envs/ATACseq_clustering/lib/python3.7/site-packages/rpy2/robjects/pandas2ri.py:191: FutureWarning: from_items is deprecated. Please use DataFrame.from_dict(dict(items), ...) instead. DataFrame.from_dict(OrderedDict(items)) may be used to preserve the key order.\n",
      "  res = PandasDataFrame.from_items(items)\n"
     ]
    },
    {
     "name": "stdout",
     "output_type": "stream",
     "text": [
      "step 0\n",
      "got 7 at resolution 1.5\n",
      "step 1\n",
      "got 4 at resolution 0.75\n",
      "step 2\n",
      "got 5 at resolution 1.125\n",
      "step 3\n",
      "got 6 at resolution 1.3125\n",
      "control0.08\n"
     ]
    },
    {
     "name": "stderr",
     "output_type": "stream",
     "text": [
      "/data/pinello/SHARED_SOFTWARE/anaconda3/envs/ATACseq_clustering/lib/python3.7/site-packages/rpy2/robjects/pandas2ri.py:191: FutureWarning: from_items is deprecated. Please use DataFrame.from_dict(dict(items), ...) instead. DataFrame.from_dict(OrderedDict(items)) may be used to preserve the key order.\n",
      "  res = PandasDataFrame.from_items(items)\n"
     ]
    },
    {
     "name": "stdout",
     "output_type": "stream",
     "text": [
      "step 0\n",
      "got 8 at resolution 1.5\n",
      "step 1\n",
      "got 4 at resolution 0.75\n",
      "step 2\n",
      "got 5 at resolution 1.125\n",
      "step 3\n",
      "got 6 at resolution 1.3125\n",
      "control0.06\n"
     ]
    },
    {
     "name": "stderr",
     "output_type": "stream",
     "text": [
      "/data/pinello/SHARED_SOFTWARE/anaconda3/envs/ATACseq_clustering/lib/python3.7/site-packages/rpy2/robjects/pandas2ri.py:191: FutureWarning: from_items is deprecated. Please use DataFrame.from_dict(dict(items), ...) instead. DataFrame.from_dict(OrderedDict(items)) may be used to preserve the key order.\n",
      "  res = PandasDataFrame.from_items(items)\n"
     ]
    },
    {
     "name": "stdout",
     "output_type": "stream",
     "text": [
      "step 0\n",
      "got 8 at resolution 1.5\n",
      "step 1\n",
      "got 4 at resolution 0.75\n",
      "step 2\n",
      "got 4 at resolution 1.125\n",
      "step 3\n",
      "got 6 at resolution 1.3125\n",
      "control0.04\n"
     ]
    },
    {
     "name": "stderr",
     "output_type": "stream",
     "text": [
      "/data/pinello/SHARED_SOFTWARE/anaconda3/envs/ATACseq_clustering/lib/python3.7/site-packages/rpy2/robjects/pandas2ri.py:191: FutureWarning: from_items is deprecated. Please use DataFrame.from_dict(dict(items), ...) instead. DataFrame.from_dict(OrderedDict(items)) may be used to preserve the key order.\n",
      "  res = PandasDataFrame.from_items(items)\n"
     ]
    },
    {
     "name": "stdout",
     "output_type": "stream",
     "text": [
      "step 0\n",
      "got 9 at resolution 1.5\n",
      "step 1\n",
      "got 4 at resolution 0.75\n",
      "step 2\n",
      "got 5 at resolution 1.125\n",
      "step 3\n",
      "got 8 at resolution 1.3125\n",
      "step 4\n",
      "got 6 at resolution 1.21875\n",
      "control0.02\n"
     ]
    },
    {
     "name": "stderr",
     "output_type": "stream",
     "text": [
      "/data/pinello/SHARED_SOFTWARE/anaconda3/envs/ATACseq_clustering/lib/python3.7/site-packages/rpy2/robjects/pandas2ri.py:191: FutureWarning: from_items is deprecated. Please use DataFrame.from_dict(dict(items), ...) instead. DataFrame.from_dict(OrderedDict(items)) may be used to preserve the key order.\n",
      "  res = PandasDataFrame.from_items(items)\n"
     ]
    },
    {
     "name": "stdout",
     "output_type": "stream",
     "text": [
      "step 0\n",
      "got 11 at resolution 1.5\n",
      "step 1\n",
      "got 4 at resolution 0.75\n",
      "step 2\n",
      "got 5 at resolution 1.125\n",
      "step 3\n",
      "got 7 at resolution 1.3125\n",
      "step 4\n",
      "got 6 at resolution 1.21875\n",
      "control0.01\n"
     ]
    },
    {
     "name": "stderr",
     "output_type": "stream",
     "text": [
      "/data/pinello/SHARED_SOFTWARE/anaconda3/envs/ATACseq_clustering/lib/python3.7/site-packages/rpy2/robjects/pandas2ri.py:191: FutureWarning: from_items is deprecated. Please use DataFrame.from_dict(dict(items), ...) instead. DataFrame.from_dict(OrderedDict(items)) may be used to preserve the key order.\n",
      "  res = PandasDataFrame.from_items(items)\n"
     ]
    },
    {
     "name": "stdout",
     "output_type": "stream",
     "text": [
      "step 0\n",
      "got 9 at resolution 1.5\n",
      "step 1\n",
      "got 3 at resolution 0.75\n",
      "step 2\n",
      "got 7 at resolution 1.125\n",
      "step 3\n",
      "got 4 at resolution 0.9375\n",
      "step 4\n",
      "got 5 at resolution 1.03125\n",
      "step 5\n",
      "got 6 at resolution 1.078125\n"
     ]
    }
   ],
   "source": [
    "for file in files:\n",
    "    file_split = file[:-4].split('_')\n",
    "    method = file_split[1]\n",
    "    print(method)\n",
    "\n",
    "    pandas2ri.activate()\n",
    "    readRDS = robjects.r['readRDS']\n",
    "    df_rds = readRDS(os.path.join(path_fm,file))\n",
    "    fm_mat = pandas2ri.ri2py(robjects.r['data.frame'](robjects.r['as.matrix'](df_rds)))\n",
    "    fm_mat.fillna(0,inplace=True)\n",
    "    fm_mat.columns = metadata.index\n",
    "    \n",
    "    adata = sc.AnnData(fm_mat.T)\n",
    "    adata.var_names_make_unique()\n",
    "    adata.obs = metadata.loc[adata.obs.index,]\n",
    "    df_metrics.loc[method,] = \"\"\n",
    "    #Louvain\n",
    "    sc.pp.neighbors(adata, n_neighbors=15,use_rep='X')\n",
    "#     sc.tl.louvain(adata)\n",
    "    getNClusters(adata,n_cluster=num_clusters)\n",
    "    #kmeans\n",
    "    kmeans = KMeans(n_clusters=num_clusters, random_state=2019).fit(adata.X)\n",
    "    adata.obs['kmeans'] = pd.Series(kmeans.labels_,index=adata.obs.index).astype('category')\n",
    "    #hierachical clustering\n",
    "    hc = AgglomerativeClustering(n_clusters=num_clusters).fit(adata.X)\n",
    "    adata.obs['hc'] = pd.Series(hc.labels_,index=adata.obs.index).astype('category')\n",
    "    #clustering metrics\n",
    "    \n",
    "    #adjusted rank index\n",
    "    ari_louvain = adjusted_rand_score(adata.obs['label'], adata.obs['louvain'])\n",
    "    ari_kmeans = adjusted_rand_score(adata.obs['label'], adata.obs['kmeans'])\n",
    "    ari_hc = adjusted_rand_score(adata.obs['label'], adata.obs['hc'])\n",
    "    #adjusted mutual information\n",
    "    ami_louvain = adjusted_mutual_info_score(adata.obs['label'], adata.obs['louvain'],average_method='arithmetic')\n",
    "    ami_kmeans = adjusted_mutual_info_score(adata.obs['label'], adata.obs['kmeans'],average_method='arithmetic')   \n",
    "    ami_hc = adjusted_mutual_info_score(adata.obs['label'], adata.obs['hc'],average_method='arithmetic')\n",
    "    #homogeneity\n",
    "    homo_louvain = homogeneity_score(adata.obs['label'], adata.obs['louvain'])\n",
    "    homo_kmeans = homogeneity_score(adata.obs['label'], adata.obs['kmeans'])\n",
    "    homo_hc = homogeneity_score(adata.obs['label'], adata.obs['hc'])\n",
    "\n",
    "    df_metrics.loc[method,['ARI_Louvain','ARI_kmeans','ARI_HC']] = [ari_louvain,ari_kmeans,ari_hc]\n",
    "    df_metrics.loc[method,['AMI_Louvain','AMI_kmeans','AMI_HC']] = [ami_louvain,ami_kmeans,ami_hc]\n",
    "    df_metrics.loc[method,['Homogeneity_Louvain','Homogeneity_kmeans','Homogeneity_HC']] = [homo_louvain,homo_kmeans,homo_hc] \n",
    "    adata.obs[['louvain','kmeans','hc']].to_csv(os.path.join(path_clusters ,method + '_clusters.tsv'),sep='\\t')"
   ]
  },
  {
   "cell_type": "code",
   "execution_count": 9,
   "metadata": {},
   "outputs": [],
   "source": [
    "df_metrics.to_csv(path_metrics+'clustering_scores.csv')"
   ]
  },
  {
   "cell_type": "code",
   "execution_count": 10,
   "metadata": {},
   "outputs": [
    {
     "data": {
      "text/html": [
       "<div>\n",
       "<style scoped>\n",
       "    .dataframe tbody tr th:only-of-type {\n",
       "        vertical-align: middle;\n",
       "    }\n",
       "\n",
       "    .dataframe tbody tr th {\n",
       "        vertical-align: top;\n",
       "    }\n",
       "\n",
       "    .dataframe thead th {\n",
       "        text-align: right;\n",
       "    }\n",
       "</style>\n",
       "<table border=\"1\" class=\"dataframe\">\n",
       "  <thead>\n",
       "    <tr style=\"text-align: right;\">\n",
       "      <th></th>\n",
       "      <th>ARI_Louvain</th>\n",
       "      <th>ARI_kmeans</th>\n",
       "      <th>ARI_HC</th>\n",
       "      <th>AMI_Louvain</th>\n",
       "      <th>AMI_kmeans</th>\n",
       "      <th>AMI_HC</th>\n",
       "      <th>Homogeneity_Louvain</th>\n",
       "      <th>Homogeneity_kmeans</th>\n",
       "      <th>Homogeneity_HC</th>\n",
       "    </tr>\n",
       "  </thead>\n",
       "  <tbody>\n",
       "    <tr>\n",
       "      <th>control1</th>\n",
       "      <td>0.961661</td>\n",
       "      <td>0.798788</td>\n",
       "      <td>0.804814</td>\n",
       "      <td>0.962285</td>\n",
       "      <td>0.869485</td>\n",
       "      <td>0.877069</td>\n",
       "      <td>0.962414</td>\n",
       "      <td>0.868275</td>\n",
       "      <td>0.866745</td>\n",
       "    </tr>\n",
       "    <tr>\n",
       "      <th>control0.8</th>\n",
       "      <td>0.932276</td>\n",
       "      <td>0.798533</td>\n",
       "      <td>0.868641</td>\n",
       "      <td>0.942449</td>\n",
       "      <td>0.868242</td>\n",
       "      <td>0.920559</td>\n",
       "      <td>0.942429</td>\n",
       "      <td>0.868647</td>\n",
       "      <td>0.914158</td>\n",
       "    </tr>\n",
       "    <tr>\n",
       "      <th>control0.6</th>\n",
       "      <td>0.967159</td>\n",
       "      <td>0.798735</td>\n",
       "      <td>0.919141</td>\n",
       "      <td>0.967142</td>\n",
       "      <td>0.86972</td>\n",
       "      <td>0.930422</td>\n",
       "      <td>0.967221</td>\n",
       "      <td>0.868128</td>\n",
       "      <td>0.930794</td>\n",
       "    </tr>\n",
       "    <tr>\n",
       "      <th>control0.4</th>\n",
       "      <td>0.969009</td>\n",
       "      <td>0.798469</td>\n",
       "      <td>0.791141</td>\n",
       "      <td>0.968432</td>\n",
       "      <td>0.86798</td>\n",
       "      <td>0.860166</td>\n",
       "      <td>0.968524</td>\n",
       "      <td>0.868715</td>\n",
       "      <td>0.860768</td>\n",
       "    </tr>\n",
       "    <tr>\n",
       "      <th>control0.2</th>\n",
       "      <td>0.877151</td>\n",
       "      <td>0.804462</td>\n",
       "      <td>0.798727</td>\n",
       "      <td>0.909241</td>\n",
       "      <td>0.870177</td>\n",
       "      <td>0.869637</td>\n",
       "      <td>0.909055</td>\n",
       "      <td>0.869</td>\n",
       "      <td>0.853358</td>\n",
       "    </tr>\n",
       "    <tr>\n",
       "      <th>control0.1</th>\n",
       "      <td>0.732755</td>\n",
       "      <td>0.643273</td>\n",
       "      <td>0.627546</td>\n",
       "      <td>0.808978</td>\n",
       "      <td>0.766823</td>\n",
       "      <td>0.750493</td>\n",
       "      <td>0.809585</td>\n",
       "      <td>0.747269</td>\n",
       "      <td>0.729124</td>\n",
       "    </tr>\n",
       "    <tr>\n",
       "      <th>control0.08</th>\n",
       "      <td>0.632147</td>\n",
       "      <td>0.588457</td>\n",
       "      <td>0.619819</td>\n",
       "      <td>0.753524</td>\n",
       "      <td>0.737119</td>\n",
       "      <td>0.743873</td>\n",
       "      <td>0.750761</td>\n",
       "      <td>0.717266</td>\n",
       "      <td>0.724375</td>\n",
       "    </tr>\n",
       "    <tr>\n",
       "      <th>control0.06</th>\n",
       "      <td>0.612092</td>\n",
       "      <td>0.579605</td>\n",
       "      <td>0.617429</td>\n",
       "      <td>0.735958</td>\n",
       "      <td>0.735681</td>\n",
       "      <td>0.733825</td>\n",
       "      <td>0.734117</td>\n",
       "      <td>0.715736</td>\n",
       "      <td>0.713144</td>\n",
       "    </tr>\n",
       "    <tr>\n",
       "      <th>control0.04</th>\n",
       "      <td>0.595481</td>\n",
       "      <td>0.608437</td>\n",
       "      <td>0.585532</td>\n",
       "      <td>0.717247</td>\n",
       "      <td>0.722617</td>\n",
       "      <td>0.694212</td>\n",
       "      <td>0.699896</td>\n",
       "      <td>0.704287</td>\n",
       "      <td>0.674189</td>\n",
       "    </tr>\n",
       "    <tr>\n",
       "      <th>control0.02</th>\n",
       "      <td>0.534889</td>\n",
       "      <td>0.537611</td>\n",
       "      <td>0.531673</td>\n",
       "      <td>0.645065</td>\n",
       "      <td>0.64682</td>\n",
       "      <td>0.641827</td>\n",
       "      <td>0.621546</td>\n",
       "      <td>0.632722</td>\n",
       "      <td>0.621944</td>\n",
       "    </tr>\n",
       "    <tr>\n",
       "      <th>control0.01</th>\n",
       "      <td>0.489579</td>\n",
       "      <td>0.501766</td>\n",
       "      <td>0.486178</td>\n",
       "      <td>0.606305</td>\n",
       "      <td>0.614962</td>\n",
       "      <td>0.592236</td>\n",
       "      <td>0.58468</td>\n",
       "      <td>0.602348</td>\n",
       "      <td>0.580107</td>\n",
       "    </tr>\n",
       "  </tbody>\n",
       "</table>\n",
       "</div>"
      ],
      "text/plain": [
       "            ARI_Louvain ARI_kmeans    ARI_HC AMI_Louvain AMI_kmeans    AMI_HC  \\\n",
       "control1       0.961661   0.798788  0.804814    0.962285   0.869485  0.877069   \n",
       "control0.8     0.932276   0.798533  0.868641    0.942449   0.868242  0.920559   \n",
       "control0.6     0.967159   0.798735  0.919141    0.967142    0.86972  0.930422   \n",
       "control0.4     0.969009   0.798469  0.791141    0.968432    0.86798  0.860166   \n",
       "control0.2     0.877151   0.804462  0.798727    0.909241   0.870177  0.869637   \n",
       "control0.1     0.732755   0.643273  0.627546    0.808978   0.766823  0.750493   \n",
       "control0.08    0.632147   0.588457  0.619819    0.753524   0.737119  0.743873   \n",
       "control0.06    0.612092   0.579605  0.617429    0.735958   0.735681  0.733825   \n",
       "control0.04    0.595481   0.608437  0.585532    0.717247   0.722617  0.694212   \n",
       "control0.02    0.534889   0.537611  0.531673    0.645065    0.64682  0.641827   \n",
       "control0.01    0.489579   0.501766  0.486178    0.606305   0.614962  0.592236   \n",
       "\n",
       "            Homogeneity_Louvain Homogeneity_kmeans Homogeneity_HC  \n",
       "control1               0.962414           0.868275       0.866745  \n",
       "control0.8             0.942429           0.868647       0.914158  \n",
       "control0.6             0.967221           0.868128       0.930794  \n",
       "control0.4             0.968524           0.868715       0.860768  \n",
       "control0.2             0.909055              0.869       0.853358  \n",
       "control0.1             0.809585           0.747269       0.729124  \n",
       "control0.08            0.750761           0.717266       0.724375  \n",
       "control0.06            0.734117           0.715736       0.713144  \n",
       "control0.04            0.699896           0.704287       0.674189  \n",
       "control0.02            0.621546           0.632722       0.621944  \n",
       "control0.01             0.58468           0.602348       0.580107  "
      ]
     },
     "execution_count": 10,
     "metadata": {},
     "output_type": "execute_result"
    }
   ],
   "source": [
    "df_metrics"
   ]
  },
  {
   "cell_type": "code",
   "execution_count": null,
   "metadata": {},
   "outputs": [],
   "source": []
  }
 ],
 "metadata": {
  "kernelspec": {
   "display_name": "Python [conda env:ATACseq_clustering]",
   "language": "python",
   "name": "conda-env-ATACseq_clustering-py"
  },
  "language_info": {
   "codemirror_mode": {
    "name": "ipython",
    "version": 3
   },
   "file_extension": ".py",
   "mimetype": "text/x-python",
   "name": "python",
   "nbconvert_exporter": "python",
   "pygments_lexer": "ipython3",
   "version": "3.7.3"
  }
 },
 "nbformat": 4,
 "nbformat_minor": 2
}
