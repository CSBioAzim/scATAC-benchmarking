{
 "cells": [
  {
   "cell_type": "code",
   "execution_count": 1,
   "metadata": {},
   "outputs": [],
   "source": [
    "import pandas as pd\n",
    "import numpy as np\n",
    "import scanpy as sc\n",
    "import os\n",
    "from sklearn.cluster import KMeans\n",
    "from sklearn.cluster import AgglomerativeClustering\n",
    "from sklearn.metrics.cluster import adjusted_rand_score\n",
    "from sklearn.metrics.cluster import adjusted_mutual_info_score\n",
    "from sklearn.metrics.cluster import homogeneity_score\n",
    "import rpy2.robjects as robjects\n",
    "from rpy2.robjects import pandas2ri"
   ]
  },
  {
   "cell_type": "code",
   "execution_count": 2,
   "metadata": {},
   "outputs": [],
   "source": [
    "df_metrics = pd.DataFrame(columns=['ARI_Louvain','ARI_kmeans','ARI_HC',\n",
    "                                   'AMI_Louvain','AMI_kmeans','AMI_HC',\n",
    "                                   'Homogeneity_Louvain','Homogeneity_kmeans','Homogeneity_HC'])"
   ]
  },
  {
   "cell_type": "code",
   "execution_count": 3,
   "metadata": {},
   "outputs": [
    {
     "data": {
      "text/plain": [
       "0"
      ]
     },
     "execution_count": 3,
     "metadata": {},
     "output_type": "execute_result"
    }
   ],
   "source": [
    "workdir = './peaks_intensity_results/'\n",
    "path_fm = os.path.join(workdir,'feature_matrices/')\n",
    "path_clusters = os.path.join(workdir,'clusters/')\n",
    "path_metrics = os.path.join(workdir,'metrics/')\n",
    "os.system('mkdir -p '+path_clusters)\n",
    "os.system('mkdir -p '+path_metrics)"
   ]
  },
  {
   "cell_type": "code",
   "execution_count": 4,
   "metadata": {},
   "outputs": [
    {
     "name": "stdout",
     "output_type": "stream",
     "text": [
      "6\n"
     ]
    }
   ],
   "source": [
    "metadata = pd.read_csv('../../input/metadata.tsv',sep='\\t',index_col=0)\n",
    "num_clusters = len(np.unique(metadata['label']))\n",
    "print(num_clusters)"
   ]
  },
  {
   "cell_type": "code",
   "execution_count": 5,
   "metadata": {},
   "outputs": [
    {
     "data": {
      "text/plain": [
       "11"
      ]
     },
     "execution_count": 5,
     "metadata": {},
     "output_type": "execute_result"
    }
   ],
   "source": [
    "files = [x for x in os.listdir(path_fm) if x.startswith('FM')]\n",
    "len(files)"
   ]
  },
  {
   "cell_type": "code",
   "execution_count": 6,
   "metadata": {},
   "outputs": [
    {
     "data": {
      "text/plain": [
       "['FM_control1.rds',\n",
       " 'FM_control0.8.rds',\n",
       " 'FM_control0.6.rds',\n",
       " 'FM_control0.4.rds',\n",
       " 'FM_control0.2.rds',\n",
       " 'FM_control0.1.rds',\n",
       " 'FM_control0.08.rds',\n",
       " 'FM_control0.06.rds',\n",
       " 'FM_control0.04.rds',\n",
       " 'FM_control0.02.rds',\n",
       " 'FM_control0.01.rds']"
      ]
     },
     "execution_count": 6,
     "metadata": {},
     "output_type": "execute_result"
    }
   ],
   "source": [
    "files"
   ]
  },
  {
   "cell_type": "code",
   "execution_count": 7,
   "metadata": {},
   "outputs": [],
   "source": [
    "def getNClusters(adata,n_cluster,range_min=0,range_max=3,max_steps=20):\n",
    "    this_step = 0\n",
    "    this_min = float(range_min)\n",
    "    this_max = float(range_max)\n",
    "    while this_step < max_steps:\n",
    "        print('step ' + str(this_step))\n",
    "        this_resolution = this_min + ((this_max-this_min)/2)\n",
    "        sc.tl.louvain(adata,resolution=this_resolution)\n",
    "        this_clusters = adata.obs['louvain'].nunique()\n",
    "        \n",
    "        print('got ' + str(this_clusters) + ' at resolution ' + str(this_resolution))\n",
    "        \n",
    "        if this_clusters > n_cluster:\n",
    "            this_max = this_resolution\n",
    "        elif this_clusters < n_cluster:\n",
    "            this_min = this_resolution\n",
    "        else:\n",
    "            return(this_resolution, adata)\n",
    "        this_step += 1\n",
    "    \n",
    "    print('Cannot find the number of clusters')\n",
    "    print('Clustering solution from last iteration is used:' + str(this_clusters) + ' at resolution ' + str(this_resolution))"
   ]
  },
  {
   "cell_type": "code",
   "execution_count": 8,
   "metadata": {
    "scrolled": false
   },
   "outputs": [
    {
     "name": "stdout",
     "output_type": "stream",
     "text": [
      "control1\n"
     ]
    },
    {
     "name": "stderr",
     "output_type": "stream",
     "text": [
      "/data/pinello/SHARED_SOFTWARE/anaconda3/envs/ATACseq_clustering/lib/python3.7/site-packages/rpy2/robjects/pandas2ri.py:191: FutureWarning: from_items is deprecated. Please use DataFrame.from_dict(dict(items), ...) instead. DataFrame.from_dict(OrderedDict(items)) may be used to preserve the key order.\n",
      "  res = PandasDataFrame.from_items(items)\n"
     ]
    },
    {
     "name": "stdout",
     "output_type": "stream",
     "text": [
      "step 0\n",
      "got 6 at resolution 1.5\n",
      "control0.8\n"
     ]
    },
    {
     "name": "stderr",
     "output_type": "stream",
     "text": [
      "/data/pinello/SHARED_SOFTWARE/anaconda3/envs/ATACseq_clustering/lib/python3.7/site-packages/rpy2/robjects/pandas2ri.py:191: FutureWarning: from_items is deprecated. Please use DataFrame.from_dict(dict(items), ...) instead. DataFrame.from_dict(OrderedDict(items)) may be used to preserve the key order.\n",
      "  res = PandasDataFrame.from_items(items)\n"
     ]
    },
    {
     "name": "stdout",
     "output_type": "stream",
     "text": [
      "step 0\n",
      "got 7 at resolution 1.5\n",
      "step 1\n",
      "got 5 at resolution 0.75\n",
      "step 2\n",
      "got 6 at resolution 1.125\n",
      "control0.6\n"
     ]
    },
    {
     "name": "stderr",
     "output_type": "stream",
     "text": [
      "/data/pinello/SHARED_SOFTWARE/anaconda3/envs/ATACseq_clustering/lib/python3.7/site-packages/rpy2/robjects/pandas2ri.py:191: FutureWarning: from_items is deprecated. Please use DataFrame.from_dict(dict(items), ...) instead. DataFrame.from_dict(OrderedDict(items)) may be used to preserve the key order.\n",
      "  res = PandasDataFrame.from_items(items)\n"
     ]
    },
    {
     "name": "stdout",
     "output_type": "stream",
     "text": [
      "step 0\n",
      "got 6 at resolution 1.5\n",
      "control0.4\n"
     ]
    },
    {
     "name": "stderr",
     "output_type": "stream",
     "text": [
      "/data/pinello/SHARED_SOFTWARE/anaconda3/envs/ATACseq_clustering/lib/python3.7/site-packages/rpy2/robjects/pandas2ri.py:191: FutureWarning: from_items is deprecated. Please use DataFrame.from_dict(dict(items), ...) instead. DataFrame.from_dict(OrderedDict(items)) may be used to preserve the key order.\n",
      "  res = PandasDataFrame.from_items(items)\n"
     ]
    },
    {
     "name": "stdout",
     "output_type": "stream",
     "text": [
      "step 0\n",
      "got 6 at resolution 1.5\n",
      "control0.2\n"
     ]
    },
    {
     "name": "stderr",
     "output_type": "stream",
     "text": [
      "/data/pinello/SHARED_SOFTWARE/anaconda3/envs/ATACseq_clustering/lib/python3.7/site-packages/rpy2/robjects/pandas2ri.py:191: FutureWarning: from_items is deprecated. Please use DataFrame.from_dict(dict(items), ...) instead. DataFrame.from_dict(OrderedDict(items)) may be used to preserve the key order.\n",
      "  res = PandasDataFrame.from_items(items)\n"
     ]
    },
    {
     "name": "stdout",
     "output_type": "stream",
     "text": [
      "step 0\n",
      "got 6 at resolution 1.5\n",
      "control0.1\n"
     ]
    },
    {
     "name": "stderr",
     "output_type": "stream",
     "text": [
      "/data/pinello/SHARED_SOFTWARE/anaconda3/envs/ATACseq_clustering/lib/python3.7/site-packages/rpy2/robjects/pandas2ri.py:191: FutureWarning: from_items is deprecated. Please use DataFrame.from_dict(dict(items), ...) instead. DataFrame.from_dict(OrderedDict(items)) may be used to preserve the key order.\n",
      "  res = PandasDataFrame.from_items(items)\n"
     ]
    },
    {
     "name": "stdout",
     "output_type": "stream",
     "text": [
      "step 0\n",
      "got 7 at resolution 1.5\n",
      "step 1\n",
      "got 4 at resolution 0.75\n",
      "step 2\n",
      "got 6 at resolution 1.125\n",
      "control0.08\n"
     ]
    },
    {
     "name": "stderr",
     "output_type": "stream",
     "text": [
      "/data/pinello/SHARED_SOFTWARE/anaconda3/envs/ATACseq_clustering/lib/python3.7/site-packages/rpy2/robjects/pandas2ri.py:191: FutureWarning: from_items is deprecated. Please use DataFrame.from_dict(dict(items), ...) instead. DataFrame.from_dict(OrderedDict(items)) may be used to preserve the key order.\n",
      "  res = PandasDataFrame.from_items(items)\n"
     ]
    },
    {
     "name": "stdout",
     "output_type": "stream",
     "text": [
      "step 0\n",
      "got 9 at resolution 1.5\n",
      "step 1\n",
      "got 4 at resolution 0.75\n",
      "step 2\n",
      "got 5 at resolution 1.125\n",
      "step 3\n",
      "got 6 at resolution 1.3125\n",
      "control0.06\n"
     ]
    },
    {
     "name": "stderr",
     "output_type": "stream",
     "text": [
      "/data/pinello/SHARED_SOFTWARE/anaconda3/envs/ATACseq_clustering/lib/python3.7/site-packages/rpy2/robjects/pandas2ri.py:191: FutureWarning: from_items is deprecated. Please use DataFrame.from_dict(dict(items), ...) instead. DataFrame.from_dict(OrderedDict(items)) may be used to preserve the key order.\n",
      "  res = PandasDataFrame.from_items(items)\n"
     ]
    },
    {
     "name": "stdout",
     "output_type": "stream",
     "text": [
      "step 0\n",
      "got 8 at resolution 1.5\n",
      "step 1\n",
      "got 4 at resolution 0.75\n",
      "step 2\n",
      "got 5 at resolution 1.125\n",
      "step 3\n",
      "got 6 at resolution 1.3125\n",
      "control0.04\n"
     ]
    },
    {
     "name": "stderr",
     "output_type": "stream",
     "text": [
      "/data/pinello/SHARED_SOFTWARE/anaconda3/envs/ATACseq_clustering/lib/python3.7/site-packages/rpy2/robjects/pandas2ri.py:191: FutureWarning: from_items is deprecated. Please use DataFrame.from_dict(dict(items), ...) instead. DataFrame.from_dict(OrderedDict(items)) may be used to preserve the key order.\n",
      "  res = PandasDataFrame.from_items(items)\n"
     ]
    },
    {
     "name": "stdout",
     "output_type": "stream",
     "text": [
      "step 0\n",
      "got 9 at resolution 1.5\n",
      "step 1\n",
      "got 4 at resolution 0.75\n",
      "step 2\n",
      "got 5 at resolution 1.125\n",
      "step 3\n",
      "got 6 at resolution 1.3125\n",
      "control0.02\n"
     ]
    },
    {
     "name": "stderr",
     "output_type": "stream",
     "text": [
      "/data/pinello/SHARED_SOFTWARE/anaconda3/envs/ATACseq_clustering/lib/python3.7/site-packages/rpy2/robjects/pandas2ri.py:191: FutureWarning: from_items is deprecated. Please use DataFrame.from_dict(dict(items), ...) instead. DataFrame.from_dict(OrderedDict(items)) may be used to preserve the key order.\n",
      "  res = PandasDataFrame.from_items(items)\n"
     ]
    },
    {
     "name": "stdout",
     "output_type": "stream",
     "text": [
      "step 0\n",
      "got 9 at resolution 1.5\n",
      "step 1\n",
      "got 4 at resolution 0.75\n",
      "step 2\n",
      "got 6 at resolution 1.125\n",
      "control0.01\n"
     ]
    },
    {
     "name": "stderr",
     "output_type": "stream",
     "text": [
      "/data/pinello/SHARED_SOFTWARE/anaconda3/envs/ATACseq_clustering/lib/python3.7/site-packages/rpy2/robjects/pandas2ri.py:191: FutureWarning: from_items is deprecated. Please use DataFrame.from_dict(dict(items), ...) instead. DataFrame.from_dict(OrderedDict(items)) may be used to preserve the key order.\n",
      "  res = PandasDataFrame.from_items(items)\n"
     ]
    },
    {
     "name": "stdout",
     "output_type": "stream",
     "text": [
      "step 0\n",
      "got 9 at resolution 1.5\n",
      "step 1\n",
      "got 3 at resolution 0.75\n",
      "step 2\n",
      "got 5 at resolution 1.125\n",
      "step 3\n",
      "got 7 at resolution 1.3125\n",
      "step 4\n",
      "got 6 at resolution 1.21875\n"
     ]
    }
   ],
   "source": [
    "for file in files:\n",
    "    file_split = file[:-4].split('_')\n",
    "    method = file_split[1]\n",
    "    print(method)\n",
    "\n",
    "    pandas2ri.activate()\n",
    "    readRDS = robjects.r['readRDS']\n",
    "    df_rds = readRDS(os.path.join(path_fm,file))\n",
    "    fm_mat = pandas2ri.ri2py(robjects.r['data.frame'](robjects.r['as.matrix'](df_rds)))\n",
    "    fm_mat.fillna(0,inplace=True)\n",
    "    fm_mat.columns = metadata.index\n",
    "    \n",
    "    adata = sc.AnnData(fm_mat.T)\n",
    "    adata.var_names_make_unique()\n",
    "    adata.obs = metadata.loc[adata.obs.index,]\n",
    "    df_metrics.loc[method,] = \"\"\n",
    "    #Louvain\n",
    "    sc.pp.neighbors(adata, n_neighbors=15,use_rep='X')\n",
    "#     sc.tl.louvain(adata)\n",
    "    getNClusters(adata,n_cluster=num_clusters)\n",
    "    #kmeans\n",
    "    kmeans = KMeans(n_clusters=num_clusters, random_state=2019).fit(adata.X)\n",
    "    adata.obs['kmeans'] = pd.Series(kmeans.labels_,index=adata.obs.index).astype('category')\n",
    "    #hierachical clustering\n",
    "    hc = AgglomerativeClustering(n_clusters=num_clusters).fit(adata.X)\n",
    "    adata.obs['hc'] = pd.Series(hc.labels_,index=adata.obs.index).astype('category')\n",
    "    #clustering metrics\n",
    "    \n",
    "    #adjusted rank index\n",
    "    ari_louvain = adjusted_rand_score(adata.obs['label'], adata.obs['louvain'])\n",
    "    ari_kmeans = adjusted_rand_score(adata.obs['label'], adata.obs['kmeans'])\n",
    "    ari_hc = adjusted_rand_score(adata.obs['label'], adata.obs['hc'])\n",
    "    #adjusted mutual information\n",
    "    ami_louvain = adjusted_mutual_info_score(adata.obs['label'], adata.obs['louvain'],average_method='arithmetic')\n",
    "    ami_kmeans = adjusted_mutual_info_score(adata.obs['label'], adata.obs['kmeans'],average_method='arithmetic')   \n",
    "    ami_hc = adjusted_mutual_info_score(adata.obs['label'], adata.obs['hc'],average_method='arithmetic')\n",
    "    #homogeneity\n",
    "    homo_louvain = homogeneity_score(adata.obs['label'], adata.obs['louvain'])\n",
    "    homo_kmeans = homogeneity_score(adata.obs['label'], adata.obs['kmeans'])\n",
    "    homo_hc = homogeneity_score(adata.obs['label'], adata.obs['hc'])\n",
    "\n",
    "    df_metrics.loc[method,['ARI_Louvain','ARI_kmeans','ARI_HC']] = [ari_louvain,ari_kmeans,ari_hc]\n",
    "    df_metrics.loc[method,['AMI_Louvain','AMI_kmeans','AMI_HC']] = [ami_louvain,ami_kmeans,ami_hc]\n",
    "    df_metrics.loc[method,['Homogeneity_Louvain','Homogeneity_kmeans','Homogeneity_HC']] = [homo_louvain,homo_kmeans,homo_hc] \n",
    "    adata.obs[['louvain','kmeans','hc']].to_csv(os.path.join(path_clusters ,method + '_clusters.tsv'),sep='\\t')"
   ]
  },
  {
   "cell_type": "code",
   "execution_count": 9,
   "metadata": {},
   "outputs": [],
   "source": [
    "df_metrics.to_csv(path_metrics+'clustering_scores.csv')"
   ]
  },
  {
   "cell_type": "code",
   "execution_count": 10,
   "metadata": {},
   "outputs": [
    {
     "data": {
      "text/html": [
       "<div>\n",
       "<style scoped>\n",
       "    .dataframe tbody tr th:only-of-type {\n",
       "        vertical-align: middle;\n",
       "    }\n",
       "\n",
       "    .dataframe tbody tr th {\n",
       "        vertical-align: top;\n",
       "    }\n",
       "\n",
       "    .dataframe thead th {\n",
       "        text-align: right;\n",
       "    }\n",
       "</style>\n",
       "<table border=\"1\" class=\"dataframe\">\n",
       "  <thead>\n",
       "    <tr style=\"text-align: right;\">\n",
       "      <th></th>\n",
       "      <th>ARI_Louvain</th>\n",
       "      <th>ARI_kmeans</th>\n",
       "      <th>ARI_HC</th>\n",
       "      <th>AMI_Louvain</th>\n",
       "      <th>AMI_kmeans</th>\n",
       "      <th>AMI_HC</th>\n",
       "      <th>Homogeneity_Louvain</th>\n",
       "      <th>Homogeneity_kmeans</th>\n",
       "      <th>Homogeneity_HC</th>\n",
       "    </tr>\n",
       "  </thead>\n",
       "  <tbody>\n",
       "    <tr>\n",
       "      <th>control1</th>\n",
       "      <td>0.961661</td>\n",
       "      <td>0.798788</td>\n",
       "      <td>0.804814</td>\n",
       "      <td>0.962285</td>\n",
       "      <td>0.869485</td>\n",
       "      <td>0.877069</td>\n",
       "      <td>0.962414</td>\n",
       "      <td>0.868275</td>\n",
       "      <td>0.866745</td>\n",
       "    </tr>\n",
       "    <tr>\n",
       "      <th>control0.8</th>\n",
       "      <td>0.91948</td>\n",
       "      <td>0.797358</td>\n",
       "      <td>0.836897</td>\n",
       "      <td>0.934616</td>\n",
       "      <td>0.867593</td>\n",
       "      <td>0.901236</td>\n",
       "      <td>0.93447</td>\n",
       "      <td>0.86814</td>\n",
       "      <td>0.891526</td>\n",
       "    </tr>\n",
       "    <tr>\n",
       "      <th>control0.6</th>\n",
       "      <td>0.945771</td>\n",
       "      <td>0.79783</td>\n",
       "      <td>0.796825</td>\n",
       "      <td>0.953058</td>\n",
       "      <td>0.868096</td>\n",
       "      <td>0.865034</td>\n",
       "      <td>0.952888</td>\n",
       "      <td>0.868234</td>\n",
       "      <td>0.86582</td>\n",
       "    </tr>\n",
       "    <tr>\n",
       "      <th>control0.4</th>\n",
       "      <td>0.965306</td>\n",
       "      <td>0.813523</td>\n",
       "      <td>0.849493</td>\n",
       "      <td>0.964273</td>\n",
       "      <td>0.875149</td>\n",
       "      <td>0.896621</td>\n",
       "      <td>0.964471</td>\n",
       "      <td>0.875796</td>\n",
       "      <td>0.894901</td>\n",
       "    </tr>\n",
       "    <tr>\n",
       "      <th>control0.2</th>\n",
       "      <td>0.893021</td>\n",
       "      <td>0.797801</td>\n",
       "      <td>0.81184</td>\n",
       "      <td>0.918588</td>\n",
       "      <td>0.867676</td>\n",
       "      <td>0.883937</td>\n",
       "      <td>0.918339</td>\n",
       "      <td>0.8684</td>\n",
       "      <td>0.871038</td>\n",
       "    </tr>\n",
       "    <tr>\n",
       "      <th>control0.1</th>\n",
       "      <td>0.74383</td>\n",
       "      <td>0.587156</td>\n",
       "      <td>0.644403</td>\n",
       "      <td>0.810889</td>\n",
       "      <td>0.74434</td>\n",
       "      <td>0.764606</td>\n",
       "      <td>0.811305</td>\n",
       "      <td>0.723126</td>\n",
       "      <td>0.743373</td>\n",
       "    </tr>\n",
       "    <tr>\n",
       "      <th>control0.08</th>\n",
       "      <td>0.707277</td>\n",
       "      <td>0.635113</td>\n",
       "      <td>0.625835</td>\n",
       "      <td>0.789211</td>\n",
       "      <td>0.759525</td>\n",
       "      <td>0.751797</td>\n",
       "      <td>0.788999</td>\n",
       "      <td>0.740455</td>\n",
       "      <td>0.728844</td>\n",
       "    </tr>\n",
       "    <tr>\n",
       "      <th>control0.06</th>\n",
       "      <td>0.595525</td>\n",
       "      <td>0.574815</td>\n",
       "      <td>0.608716</td>\n",
       "      <td>0.718721</td>\n",
       "      <td>0.728099</td>\n",
       "      <td>0.731715</td>\n",
       "      <td>0.718053</td>\n",
       "      <td>0.708882</td>\n",
       "      <td>0.701872</td>\n",
       "    </tr>\n",
       "    <tr>\n",
       "      <th>control0.04</th>\n",
       "      <td>0.567841</td>\n",
       "      <td>0.572906</td>\n",
       "      <td>0.56877</td>\n",
       "      <td>0.693454</td>\n",
       "      <td>0.715045</td>\n",
       "      <td>0.694066</td>\n",
       "      <td>0.692488</td>\n",
       "      <td>0.697201</td>\n",
       "      <td>0.674767</td>\n",
       "    </tr>\n",
       "    <tr>\n",
       "      <th>control0.02</th>\n",
       "      <td>0.542941</td>\n",
       "      <td>0.541768</td>\n",
       "      <td>0.521675</td>\n",
       "      <td>0.652985</td>\n",
       "      <td>0.667088</td>\n",
       "      <td>0.634874</td>\n",
       "      <td>0.63762</td>\n",
       "      <td>0.651416</td>\n",
       "      <td>0.617863</td>\n",
       "    </tr>\n",
       "    <tr>\n",
       "      <th>control0.01</th>\n",
       "      <td>0.47982</td>\n",
       "      <td>0.511733</td>\n",
       "      <td>0.476266</td>\n",
       "      <td>0.589966</td>\n",
       "      <td>0.622713</td>\n",
       "      <td>0.579863</td>\n",
       "      <td>0.575005</td>\n",
       "      <td>0.609569</td>\n",
       "      <td>0.567338</td>\n",
       "    </tr>\n",
       "  </tbody>\n",
       "</table>\n",
       "</div>"
      ],
      "text/plain": [
       "            ARI_Louvain ARI_kmeans    ARI_HC AMI_Louvain AMI_kmeans    AMI_HC  \\\n",
       "control1       0.961661   0.798788  0.804814    0.962285   0.869485  0.877069   \n",
       "control0.8      0.91948   0.797358  0.836897    0.934616   0.867593  0.901236   \n",
       "control0.6     0.945771    0.79783  0.796825    0.953058   0.868096  0.865034   \n",
       "control0.4     0.965306   0.813523  0.849493    0.964273   0.875149  0.896621   \n",
       "control0.2     0.893021   0.797801   0.81184    0.918588   0.867676  0.883937   \n",
       "control0.1      0.74383   0.587156  0.644403    0.810889    0.74434  0.764606   \n",
       "control0.08    0.707277   0.635113  0.625835    0.789211   0.759525  0.751797   \n",
       "control0.06    0.595525   0.574815  0.608716    0.718721   0.728099  0.731715   \n",
       "control0.04    0.567841   0.572906   0.56877    0.693454   0.715045  0.694066   \n",
       "control0.02    0.542941   0.541768  0.521675    0.652985   0.667088  0.634874   \n",
       "control0.01     0.47982   0.511733  0.476266    0.589966   0.622713  0.579863   \n",
       "\n",
       "            Homogeneity_Louvain Homogeneity_kmeans Homogeneity_HC  \n",
       "control1               0.962414           0.868275       0.866745  \n",
       "control0.8              0.93447            0.86814       0.891526  \n",
       "control0.6             0.952888           0.868234        0.86582  \n",
       "control0.4             0.964471           0.875796       0.894901  \n",
       "control0.2             0.918339             0.8684       0.871038  \n",
       "control0.1             0.811305           0.723126       0.743373  \n",
       "control0.08            0.788999           0.740455       0.728844  \n",
       "control0.06            0.718053           0.708882       0.701872  \n",
       "control0.04            0.692488           0.697201       0.674767  \n",
       "control0.02             0.63762           0.651416       0.617863  \n",
       "control0.01            0.575005           0.609569       0.567338  "
      ]
     },
     "execution_count": 10,
     "metadata": {},
     "output_type": "execute_result"
    }
   ],
   "source": [
    "df_metrics"
   ]
  }
 ],
 "metadata": {
  "kernelspec": {
   "display_name": "Python [conda env:ATACseq_clustering]",
   "language": "python",
   "name": "conda-env-ATACseq_clustering-py"
  },
  "language_info": {
   "codemirror_mode": {
    "name": "ipython",
    "version": 3
   },
   "file_extension": ".py",
   "mimetype": "text/x-python",
   "name": "python",
   "nbconvert_exporter": "python",
   "pygments_lexer": "ipython3",
   "version": "3.7.3"
  }
 },
 "nbformat": 4,
 "nbformat_minor": 2
}
