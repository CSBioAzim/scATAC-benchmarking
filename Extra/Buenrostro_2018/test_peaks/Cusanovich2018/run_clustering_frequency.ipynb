{
 "cells": [
  {
   "cell_type": "code",
   "execution_count": 1,
   "metadata": {},
   "outputs": [],
   "source": [
    "import pandas as pd\n",
    "import numpy as np\n",
    "import scanpy as sc\n",
    "import os\n",
    "from sklearn.cluster import KMeans\n",
    "from sklearn.cluster import AgglomerativeClustering\n",
    "from sklearn.metrics.cluster import adjusted_rand_score\n",
    "from sklearn.metrics.cluster import adjusted_mutual_info_score\n",
    "from sklearn.metrics.cluster import homogeneity_score\n",
    "import rpy2.robjects as robjects\n",
    "from rpy2.robjects import pandas2ri"
   ]
  },
  {
   "cell_type": "code",
   "execution_count": 2,
   "metadata": {},
   "outputs": [],
   "source": [
    "df_metrics = pd.DataFrame(columns=['ARI_Louvain','ARI_kmeans','ARI_HC',\n",
    "                                   'AMI_Louvain','AMI_kmeans','AMI_HC',\n",
    "                                   'Homogeneity_Louvain','Homogeneity_kmeans','Homogeneity_HC'])"
   ]
  },
  {
   "cell_type": "code",
   "execution_count": 3,
   "metadata": {},
   "outputs": [
    {
     "data": {
      "text/plain": [
       "0"
      ]
     },
     "execution_count": 3,
     "metadata": {},
     "output_type": "execute_result"
    }
   ],
   "source": [
    "workdir = './peaks_frequency_results/'\n",
    "path_fm = os.path.join(workdir,'feature_matrices/')\n",
    "path_clusters = os.path.join(workdir,'clusters/')\n",
    "path_metrics = os.path.join(workdir,'metrics/')\n",
    "os.system('mkdir -p '+path_clusters)\n",
    "os.system('mkdir -p '+path_metrics)"
   ]
  },
  {
   "cell_type": "code",
   "execution_count": 4,
   "metadata": {},
   "outputs": [
    {
     "name": "stdout",
     "output_type": "stream",
     "text": [
      "10\n"
     ]
    }
   ],
   "source": [
    "metadata = pd.read_csv('../../input/metadata.tsv',sep='\\t',index_col=0)\n",
    "num_clusters = len(np.unique(metadata['label']))\n",
    "print(num_clusters)"
   ]
  },
  {
   "cell_type": "code",
   "execution_count": 5,
   "metadata": {},
   "outputs": [
    {
     "data": {
      "text/plain": [
       "11"
      ]
     },
     "execution_count": 5,
     "metadata": {},
     "output_type": "execute_result"
    }
   ],
   "source": [
    "files = [x for x in os.listdir(path_fm) if x.startswith('FM')]\n",
    "len(files)"
   ]
  },
  {
   "cell_type": "code",
   "execution_count": 6,
   "metadata": {},
   "outputs": [
    {
     "data": {
      "text/plain": [
       "['FM_Cusanovich20181.rds',\n",
       " 'FM_Cusanovich20180.8.rds',\n",
       " 'FM_Cusanovich20180.6.rds',\n",
       " 'FM_Cusanovich20180.4.rds',\n",
       " 'FM_Cusanovich20180.2.rds',\n",
       " 'FM_Cusanovich20180.1.rds',\n",
       " 'FM_Cusanovich20180.08.rds',\n",
       " 'FM_Cusanovich20180.06.rds',\n",
       " 'FM_Cusanovich20180.04.rds',\n",
       " 'FM_Cusanovich20180.02.rds',\n",
       " 'FM_Cusanovich20180.01.rds']"
      ]
     },
     "execution_count": 6,
     "metadata": {},
     "output_type": "execute_result"
    }
   ],
   "source": [
    "files"
   ]
  },
  {
   "cell_type": "code",
   "execution_count": 7,
   "metadata": {},
   "outputs": [],
   "source": [
    "def getNClusters(adata,n_cluster,range_min=0,range_max=3,max_steps=20):\n",
    "    this_step = 0\n",
    "    this_min = float(range_min)\n",
    "    this_max = float(range_max)\n",
    "    while this_step < max_steps:\n",
    "        print('step ' + str(this_step))\n",
    "        this_resolution = this_min + ((this_max-this_min)/2)\n",
    "        sc.tl.louvain(adata,resolution=this_resolution)\n",
    "        this_clusters = adata.obs['louvain'].nunique()\n",
    "        \n",
    "        print('got ' + str(this_clusters) + ' at resolution ' + str(this_resolution))\n",
    "        \n",
    "        if this_clusters > n_cluster:\n",
    "            this_max = this_resolution\n",
    "        elif this_clusters < n_cluster:\n",
    "            this_min = this_resolution\n",
    "        else:\n",
    "            return(this_resolution, adata)\n",
    "        this_step += 1\n",
    "    \n",
    "    print('Cannot find the number of clusters')\n",
    "    print('Clustering solution from last iteration is used:' + str(this_clusters) + ' at resolution ' + str(this_resolution))"
   ]
  },
  {
   "cell_type": "code",
   "execution_count": 8,
   "metadata": {
    "scrolled": false
   },
   "outputs": [
    {
     "name": "stdout",
     "output_type": "stream",
     "text": [
      "Cusanovich20181\n"
     ]
    },
    {
     "name": "stderr",
     "output_type": "stream",
     "text": [
      "/data/pinello/SHARED_SOFTWARE/anaconda3/envs/ATACseq_clustering/lib/python3.7/site-packages/rpy2/robjects/pandas2ri.py:191: FutureWarning: from_items is deprecated. Please use DataFrame.from_dict(dict(items), ...) instead. DataFrame.from_dict(OrderedDict(items)) may be used to preserve the key order.\n",
      "  res = PandasDataFrame.from_items(items)\n"
     ]
    },
    {
     "name": "stdout",
     "output_type": "stream",
     "text": [
      "step 0\n",
      "got 15 at resolution 1.5\n",
      "step 1\n",
      "got 12 at resolution 0.75\n",
      "step 2\n",
      "got 7 at resolution 0.375\n",
      "step 3\n",
      "got 10 at resolution 0.5625\n",
      "Cusanovich20180.8\n"
     ]
    },
    {
     "name": "stderr",
     "output_type": "stream",
     "text": [
      "/data/pinello/SHARED_SOFTWARE/anaconda3/envs/ATACseq_clustering/lib/python3.7/site-packages/rpy2/robjects/pandas2ri.py:191: FutureWarning: from_items is deprecated. Please use DataFrame.from_dict(dict(items), ...) instead. DataFrame.from_dict(OrderedDict(items)) may be used to preserve the key order.\n",
      "  res = PandasDataFrame.from_items(items)\n"
     ]
    },
    {
     "name": "stdout",
     "output_type": "stream",
     "text": [
      "step 0\n",
      "got 15 at resolution 1.5\n",
      "step 1\n",
      "got 11 at resolution 0.75\n",
      "step 2\n",
      "got 9 at resolution 0.375\n",
      "step 3\n",
      "got 10 at resolution 0.5625\n",
      "Cusanovich20180.6\n"
     ]
    },
    {
     "name": "stderr",
     "output_type": "stream",
     "text": [
      "/data/pinello/SHARED_SOFTWARE/anaconda3/envs/ATACseq_clustering/lib/python3.7/site-packages/rpy2/robjects/pandas2ri.py:191: FutureWarning: from_items is deprecated. Please use DataFrame.from_dict(dict(items), ...) instead. DataFrame.from_dict(OrderedDict(items)) may be used to preserve the key order.\n",
      "  res = PandasDataFrame.from_items(items)\n"
     ]
    },
    {
     "name": "stdout",
     "output_type": "stream",
     "text": [
      "step 0\n",
      "got 15 at resolution 1.5\n",
      "step 1\n",
      "got 11 at resolution 0.75\n",
      "step 2\n",
      "got 9 at resolution 0.375\n",
      "step 3\n",
      "got 9 at resolution 0.5625\n",
      "step 4\n",
      "got 11 at resolution 0.65625\n",
      "step 5\n",
      "got 9 at resolution 0.609375\n",
      "step 6\n",
      "got 11 at resolution 0.6328125\n",
      "step 7\n",
      "got 11 at resolution 0.62109375\n",
      "step 8\n",
      "got 10 at resolution 0.615234375\n",
      "Cusanovich20180.4\n"
     ]
    },
    {
     "name": "stderr",
     "output_type": "stream",
     "text": [
      "/data/pinello/SHARED_SOFTWARE/anaconda3/envs/ATACseq_clustering/lib/python3.7/site-packages/rpy2/robjects/pandas2ri.py:191: FutureWarning: from_items is deprecated. Please use DataFrame.from_dict(dict(items), ...) instead. DataFrame.from_dict(OrderedDict(items)) may be used to preserve the key order.\n",
      "  res = PandasDataFrame.from_items(items)\n"
     ]
    },
    {
     "name": "stdout",
     "output_type": "stream",
     "text": [
      "step 0\n",
      "got 15 at resolution 1.5\n",
      "step 1\n",
      "got 11 at resolution 0.75\n",
      "step 2\n",
      "got 9 at resolution 0.375\n",
      "step 3\n",
      "got 10 at resolution 0.5625\n",
      "Cusanovich20180.2\n"
     ]
    },
    {
     "name": "stderr",
     "output_type": "stream",
     "text": [
      "/data/pinello/SHARED_SOFTWARE/anaconda3/envs/ATACseq_clustering/lib/python3.7/site-packages/rpy2/robjects/pandas2ri.py:191: FutureWarning: from_items is deprecated. Please use DataFrame.from_dict(dict(items), ...) instead. DataFrame.from_dict(OrderedDict(items)) may be used to preserve the key order.\n",
      "  res = PandasDataFrame.from_items(items)\n"
     ]
    },
    {
     "name": "stdout",
     "output_type": "stream",
     "text": [
      "step 0\n",
      "got 16 at resolution 1.5\n",
      "step 1\n",
      "got 11 at resolution 0.75\n",
      "step 2\n",
      "got 7 at resolution 0.375\n",
      "step 3\n",
      "got 9 at resolution 0.5625\n",
      "step 4\n",
      "got 10 at resolution 0.65625\n",
      "Cusanovich20180.1\n"
     ]
    },
    {
     "name": "stderr",
     "output_type": "stream",
     "text": [
      "/data/pinello/SHARED_SOFTWARE/anaconda3/envs/ATACseq_clustering/lib/python3.7/site-packages/rpy2/robjects/pandas2ri.py:191: FutureWarning: from_items is deprecated. Please use DataFrame.from_dict(dict(items), ...) instead. DataFrame.from_dict(OrderedDict(items)) may be used to preserve the key order.\n",
      "  res = PandasDataFrame.from_items(items)\n"
     ]
    },
    {
     "name": "stdout",
     "output_type": "stream",
     "text": [
      "step 0\n",
      "got 13 at resolution 1.5\n",
      "step 1\n",
      "got 9 at resolution 0.75\n",
      "step 2\n",
      "got 12 at resolution 1.125\n",
      "step 3\n",
      "got 11 at resolution 0.9375\n",
      "step 4\n",
      "got 10 at resolution 0.84375\n",
      "Cusanovich20180.08\n"
     ]
    },
    {
     "name": "stderr",
     "output_type": "stream",
     "text": [
      "/data/pinello/SHARED_SOFTWARE/anaconda3/envs/ATACseq_clustering/lib/python3.7/site-packages/rpy2/robjects/pandas2ri.py:191: FutureWarning: from_items is deprecated. Please use DataFrame.from_dict(dict(items), ...) instead. DataFrame.from_dict(OrderedDict(items)) may be used to preserve the key order.\n",
      "  res = PandasDataFrame.from_items(items)\n"
     ]
    },
    {
     "name": "stdout",
     "output_type": "stream",
     "text": [
      "step 0\n",
      "got 13 at resolution 1.5\n",
      "step 1\n",
      "got 8 at resolution 0.75\n",
      "step 2\n",
      "got 12 at resolution 1.125\n",
      "step 3\n",
      "got 11 at resolution 0.9375\n",
      "step 4\n",
      "got 10 at resolution 0.84375\n",
      "Cusanovich20180.06\n"
     ]
    },
    {
     "name": "stderr",
     "output_type": "stream",
     "text": [
      "/data/pinello/SHARED_SOFTWARE/anaconda3/envs/ATACseq_clustering/lib/python3.7/site-packages/rpy2/robjects/pandas2ri.py:191: FutureWarning: from_items is deprecated. Please use DataFrame.from_dict(dict(items), ...) instead. DataFrame.from_dict(OrderedDict(items)) may be used to preserve the key order.\n",
      "  res = PandasDataFrame.from_items(items)\n"
     ]
    },
    {
     "name": "stdout",
     "output_type": "stream",
     "text": [
      "step 0\n",
      "got 12 at resolution 1.5\n",
      "step 1\n",
      "got 9 at resolution 0.75\n",
      "step 2\n",
      "got 11 at resolution 1.125\n",
      "step 3\n",
      "got 10 at resolution 0.9375\n",
      "Cusanovich20180.04\n"
     ]
    },
    {
     "name": "stderr",
     "output_type": "stream",
     "text": [
      "/data/pinello/SHARED_SOFTWARE/anaconda3/envs/ATACseq_clustering/lib/python3.7/site-packages/rpy2/robjects/pandas2ri.py:191: FutureWarning: from_items is deprecated. Please use DataFrame.from_dict(dict(items), ...) instead. DataFrame.from_dict(OrderedDict(items)) may be used to preserve the key order.\n",
      "  res = PandasDataFrame.from_items(items)\n"
     ]
    },
    {
     "name": "stdout",
     "output_type": "stream",
     "text": [
      "step 0\n",
      "got 12 at resolution 1.5\n",
      "step 1\n",
      "got 6 at resolution 0.75\n",
      "step 2\n",
      "got 9 at resolution 1.125\n",
      "step 3\n",
      "got 10 at resolution 1.3125\n",
      "Cusanovich20180.02\n"
     ]
    },
    {
     "name": "stderr",
     "output_type": "stream",
     "text": [
      "/data/pinello/SHARED_SOFTWARE/anaconda3/envs/ATACseq_clustering/lib/python3.7/site-packages/rpy2/robjects/pandas2ri.py:191: FutureWarning: from_items is deprecated. Please use DataFrame.from_dict(dict(items), ...) instead. DataFrame.from_dict(OrderedDict(items)) may be used to preserve the key order.\n",
      "  res = PandasDataFrame.from_items(items)\n"
     ]
    },
    {
     "name": "stdout",
     "output_type": "stream",
     "text": [
      "step 0\n",
      "got 9 at resolution 1.5\n",
      "step 1\n",
      "got 18 at resolution 2.25\n",
      "step 2\n",
      "got 13 at resolution 1.875\n",
      "step 3\n",
      "got 10 at resolution 1.6875\n",
      "Cusanovich20180.01\n"
     ]
    },
    {
     "name": "stderr",
     "output_type": "stream",
     "text": [
      "/data/pinello/SHARED_SOFTWARE/anaconda3/envs/ATACseq_clustering/lib/python3.7/site-packages/rpy2/robjects/pandas2ri.py:191: FutureWarning: from_items is deprecated. Please use DataFrame.from_dict(dict(items), ...) instead. DataFrame.from_dict(OrderedDict(items)) may be used to preserve the key order.\n",
      "  res = PandasDataFrame.from_items(items)\n"
     ]
    },
    {
     "name": "stdout",
     "output_type": "stream",
     "text": [
      "step 0\n",
      "got 11 at resolution 1.5\n",
      "step 1\n",
      "got 4 at resolution 0.75\n",
      "step 2\n",
      "got 6 at resolution 1.125\n",
      "step 3\n",
      "got 9 at resolution 1.3125\n",
      "step 4\n",
      "got 9 at resolution 1.40625\n",
      "step 5\n",
      "got 11 at resolution 1.453125\n",
      "step 6\n",
      "got 9 at resolution 1.4296875\n",
      "step 7\n",
      "got 10 at resolution 1.44140625\n"
     ]
    }
   ],
   "source": [
    "for file in files:\n",
    "    file_split = file[:-4].split('_')\n",
    "    method = file_split[1]\n",
    "    print(method)\n",
    "\n",
    "    pandas2ri.activate()\n",
    "    readRDS = robjects.r['readRDS']\n",
    "    df_rds = readRDS(os.path.join(path_fm,file))\n",
    "    fm_mat = pandas2ri.ri2py(robjects.r['data.frame'](robjects.r['as.matrix'](df_rds)))\n",
    "    fm_mat.fillna(0,inplace=True)\n",
    "    fm_mat.columns = metadata.index\n",
    "    \n",
    "    adata = sc.AnnData(fm_mat.T)\n",
    "    adata.var_names_make_unique()\n",
    "    adata.obs = metadata.loc[adata.obs.index,]\n",
    "    df_metrics.loc[method,] = \"\"\n",
    "    #Louvain\n",
    "    sc.pp.neighbors(adata, n_neighbors=15,use_rep='X')\n",
    "#     sc.tl.louvain(adata)\n",
    "    getNClusters(adata,n_cluster=num_clusters)\n",
    "    #kmeans\n",
    "    kmeans = KMeans(n_clusters=num_clusters, random_state=2019).fit(adata.X)\n",
    "    adata.obs['kmeans'] = pd.Series(kmeans.labels_,index=adata.obs.index).astype('category')\n",
    "    #hierachical clustering\n",
    "    hc = AgglomerativeClustering(n_clusters=num_clusters).fit(adata.X)\n",
    "    adata.obs['hc'] = pd.Series(hc.labels_,index=adata.obs.index).astype('category')\n",
    "    #clustering metrics\n",
    "    \n",
    "    #adjusted rank index\n",
    "    ari_louvain = adjusted_rand_score(adata.obs['label'], adata.obs['louvain'])\n",
    "    ari_kmeans = adjusted_rand_score(adata.obs['label'], adata.obs['kmeans'])\n",
    "    ari_hc = adjusted_rand_score(adata.obs['label'], adata.obs['hc'])\n",
    "    #adjusted mutual information\n",
    "    ami_louvain = adjusted_mutual_info_score(adata.obs['label'], adata.obs['louvain'],average_method='arithmetic')\n",
    "    ami_kmeans = adjusted_mutual_info_score(adata.obs['label'], adata.obs['kmeans'],average_method='arithmetic')   \n",
    "    ami_hc = adjusted_mutual_info_score(adata.obs['label'], adata.obs['hc'],average_method='arithmetic')\n",
    "    #homogeneity\n",
    "    homo_louvain = homogeneity_score(adata.obs['label'], adata.obs['louvain'])\n",
    "    homo_kmeans = homogeneity_score(adata.obs['label'], adata.obs['kmeans'])\n",
    "    homo_hc = homogeneity_score(adata.obs['label'], adata.obs['hc'])\n",
    "\n",
    "    df_metrics.loc[method,['ARI_Louvain','ARI_kmeans','ARI_HC']] = [ari_louvain,ari_kmeans,ari_hc]\n",
    "    df_metrics.loc[method,['AMI_Louvain','AMI_kmeans','AMI_HC']] = [ami_louvain,ami_kmeans,ami_hc]\n",
    "    df_metrics.loc[method,['Homogeneity_Louvain','Homogeneity_kmeans','Homogeneity_HC']] = [homo_louvain,homo_kmeans,homo_hc] \n",
    "    adata.obs[['louvain','kmeans','hc']].to_csv(os.path.join(path_clusters ,method + '_clusters.tsv'),sep='\\t')"
   ]
  },
  {
   "cell_type": "code",
   "execution_count": 9,
   "metadata": {},
   "outputs": [],
   "source": [
    "df_metrics.to_csv(path_metrics+'clustering_scores.csv')"
   ]
  },
  {
   "cell_type": "code",
   "execution_count": 10,
   "metadata": {},
   "outputs": [
    {
     "data": {
      "text/html": [
       "<div>\n",
       "<style scoped>\n",
       "    .dataframe tbody tr th:only-of-type {\n",
       "        vertical-align: middle;\n",
       "    }\n",
       "\n",
       "    .dataframe tbody tr th {\n",
       "        vertical-align: top;\n",
       "    }\n",
       "\n",
       "    .dataframe thead th {\n",
       "        text-align: right;\n",
       "    }\n",
       "</style>\n",
       "<table border=\"1\" class=\"dataframe\">\n",
       "  <thead>\n",
       "    <tr style=\"text-align: right;\">\n",
       "      <th></th>\n",
       "      <th>ARI_Louvain</th>\n",
       "      <th>ARI_kmeans</th>\n",
       "      <th>ARI_HC</th>\n",
       "      <th>AMI_Louvain</th>\n",
       "      <th>AMI_kmeans</th>\n",
       "      <th>AMI_HC</th>\n",
       "      <th>Homogeneity_Louvain</th>\n",
       "      <th>Homogeneity_kmeans</th>\n",
       "      <th>Homogeneity_HC</th>\n",
       "    </tr>\n",
       "  </thead>\n",
       "  <tbody>\n",
       "    <tr>\n",
       "      <th>Cusanovich20181</th>\n",
       "      <td>0.551186</td>\n",
       "      <td>-0.00194164</td>\n",
       "      <td>-0.00194164</td>\n",
       "      <td>0.671055</td>\n",
       "      <td>-0.00278841</td>\n",
       "      <td>-0.00278841</td>\n",
       "      <td>0.685965</td>\n",
       "      <td>0.00302188</td>\n",
       "      <td>0.00302188</td>\n",
       "    </tr>\n",
       "    <tr>\n",
       "      <th>Cusanovich20180.8</th>\n",
       "      <td>0.536908</td>\n",
       "      <td>-0.00194164</td>\n",
       "      <td>-0.00194164</td>\n",
       "      <td>0.666484</td>\n",
       "      <td>-0.00278841</td>\n",
       "      <td>-0.00278841</td>\n",
       "      <td>0.676676</td>\n",
       "      <td>0.00302188</td>\n",
       "      <td>0.00302188</td>\n",
       "    </tr>\n",
       "    <tr>\n",
       "      <th>Cusanovich20180.6</th>\n",
       "      <td>0.542368</td>\n",
       "      <td>-0.00194164</td>\n",
       "      <td>-0.00194164</td>\n",
       "      <td>0.668675</td>\n",
       "      <td>-0.00278841</td>\n",
       "      <td>-0.00278841</td>\n",
       "      <td>0.678886</td>\n",
       "      <td>0.00302188</td>\n",
       "      <td>0.00302188</td>\n",
       "    </tr>\n",
       "    <tr>\n",
       "      <th>Cusanovich20180.4</th>\n",
       "      <td>0.519556</td>\n",
       "      <td>-0.00194164</td>\n",
       "      <td>-0.00194164</td>\n",
       "      <td>0.659429</td>\n",
       "      <td>-0.00278841</td>\n",
       "      <td>-0.00278841</td>\n",
       "      <td>0.670858</td>\n",
       "      <td>0.00302188</td>\n",
       "      <td>0.00302188</td>\n",
       "    </tr>\n",
       "    <tr>\n",
       "      <th>Cusanovich20180.2</th>\n",
       "      <td>0.461027</td>\n",
       "      <td>-0.00194164</td>\n",
       "      <td>-0.00194164</td>\n",
       "      <td>0.61859</td>\n",
       "      <td>-0.00278841</td>\n",
       "      <td>-0.00278841</td>\n",
       "      <td>0.628123</td>\n",
       "      <td>0.00302188</td>\n",
       "      <td>0.00302188</td>\n",
       "    </tr>\n",
       "    <tr>\n",
       "      <th>Cusanovich20180.1</th>\n",
       "      <td>0.431875</td>\n",
       "      <td>-0.00194164</td>\n",
       "      <td>-0.00194164</td>\n",
       "      <td>0.592055</td>\n",
       "      <td>-0.00278841</td>\n",
       "      <td>-0.00278841</td>\n",
       "      <td>0.606248</td>\n",
       "      <td>0.00302188</td>\n",
       "      <td>0.00302188</td>\n",
       "    </tr>\n",
       "    <tr>\n",
       "      <th>Cusanovich20180.08</th>\n",
       "      <td>0.416173</td>\n",
       "      <td>-0.00194164</td>\n",
       "      <td>-0.00194164</td>\n",
       "      <td>0.568889</td>\n",
       "      <td>-0.00278841</td>\n",
       "      <td>-0.00278841</td>\n",
       "      <td>0.585828</td>\n",
       "      <td>0.00302188</td>\n",
       "      <td>0.00302188</td>\n",
       "    </tr>\n",
       "    <tr>\n",
       "      <th>Cusanovich20180.06</th>\n",
       "      <td>0.356914</td>\n",
       "      <td>-0.00194164</td>\n",
       "      <td>-0.00194164</td>\n",
       "      <td>0.509576</td>\n",
       "      <td>-0.00278841</td>\n",
       "      <td>-0.00278841</td>\n",
       "      <td>0.519847</td>\n",
       "      <td>0.00302188</td>\n",
       "      <td>0.00302188</td>\n",
       "    </tr>\n",
       "    <tr>\n",
       "      <th>Cusanovich20180.04</th>\n",
       "      <td>0.275004</td>\n",
       "      <td>-0.00194164</td>\n",
       "      <td>-0.00194164</td>\n",
       "      <td>0.401224</td>\n",
       "      <td>-0.00278841</td>\n",
       "      <td>-0.00278841</td>\n",
       "      <td>0.416574</td>\n",
       "      <td>0.00302188</td>\n",
       "      <td>0.00302188</td>\n",
       "    </tr>\n",
       "    <tr>\n",
       "      <th>Cusanovich20180.02</th>\n",
       "      <td>0.160948</td>\n",
       "      <td>-0.00194164</td>\n",
       "      <td>-0.00194164</td>\n",
       "      <td>0.297529</td>\n",
       "      <td>-0.00278841</td>\n",
       "      <td>-0.00278841</td>\n",
       "      <td>0.316243</td>\n",
       "      <td>0.00302188</td>\n",
       "      <td>0.00302188</td>\n",
       "    </tr>\n",
       "    <tr>\n",
       "      <th>Cusanovich20180.01</th>\n",
       "      <td>0.0823968</td>\n",
       "      <td>-0.00194164</td>\n",
       "      <td>-0.00215327</td>\n",
       "      <td>0.161767</td>\n",
       "      <td>-0.00278841</td>\n",
       "      <td>-0.00253554</td>\n",
       "      <td>0.166749</td>\n",
       "      <td>0.00302188</td>\n",
       "      <td>0.00335946</td>\n",
       "    </tr>\n",
       "  </tbody>\n",
       "</table>\n",
       "</div>"
      ],
      "text/plain": [
       "                   ARI_Louvain  ARI_kmeans      ARI_HC AMI_Louvain  \\\n",
       "Cusanovich20181       0.551186 -0.00194164 -0.00194164    0.671055   \n",
       "Cusanovich20180.8     0.536908 -0.00194164 -0.00194164    0.666484   \n",
       "Cusanovich20180.6     0.542368 -0.00194164 -0.00194164    0.668675   \n",
       "Cusanovich20180.4     0.519556 -0.00194164 -0.00194164    0.659429   \n",
       "Cusanovich20180.2     0.461027 -0.00194164 -0.00194164     0.61859   \n",
       "Cusanovich20180.1     0.431875 -0.00194164 -0.00194164    0.592055   \n",
       "Cusanovich20180.08    0.416173 -0.00194164 -0.00194164    0.568889   \n",
       "Cusanovich20180.06    0.356914 -0.00194164 -0.00194164    0.509576   \n",
       "Cusanovich20180.04    0.275004 -0.00194164 -0.00194164    0.401224   \n",
       "Cusanovich20180.02    0.160948 -0.00194164 -0.00194164    0.297529   \n",
       "Cusanovich20180.01   0.0823968 -0.00194164 -0.00215327    0.161767   \n",
       "\n",
       "                    AMI_kmeans      AMI_HC Homogeneity_Louvain  \\\n",
       "Cusanovich20181    -0.00278841 -0.00278841            0.685965   \n",
       "Cusanovich20180.8  -0.00278841 -0.00278841            0.676676   \n",
       "Cusanovich20180.6  -0.00278841 -0.00278841            0.678886   \n",
       "Cusanovich20180.4  -0.00278841 -0.00278841            0.670858   \n",
       "Cusanovich20180.2  -0.00278841 -0.00278841            0.628123   \n",
       "Cusanovich20180.1  -0.00278841 -0.00278841            0.606248   \n",
       "Cusanovich20180.08 -0.00278841 -0.00278841            0.585828   \n",
       "Cusanovich20180.06 -0.00278841 -0.00278841            0.519847   \n",
       "Cusanovich20180.04 -0.00278841 -0.00278841            0.416574   \n",
       "Cusanovich20180.02 -0.00278841 -0.00278841            0.316243   \n",
       "Cusanovich20180.01 -0.00278841 -0.00253554            0.166749   \n",
       "\n",
       "                   Homogeneity_kmeans Homogeneity_HC  \n",
       "Cusanovich20181            0.00302188     0.00302188  \n",
       "Cusanovich20180.8          0.00302188     0.00302188  \n",
       "Cusanovich20180.6          0.00302188     0.00302188  \n",
       "Cusanovich20180.4          0.00302188     0.00302188  \n",
       "Cusanovich20180.2          0.00302188     0.00302188  \n",
       "Cusanovich20180.1          0.00302188     0.00302188  \n",
       "Cusanovich20180.08         0.00302188     0.00302188  \n",
       "Cusanovich20180.06         0.00302188     0.00302188  \n",
       "Cusanovich20180.04         0.00302188     0.00302188  \n",
       "Cusanovich20180.02         0.00302188     0.00302188  \n",
       "Cusanovich20180.01         0.00302188     0.00335946  "
      ]
     },
     "execution_count": 10,
     "metadata": {},
     "output_type": "execute_result"
    }
   ],
   "source": [
    "df_metrics"
   ]
  },
  {
   "cell_type": "code",
   "execution_count": null,
   "metadata": {},
   "outputs": [],
   "source": []
  }
 ],
 "metadata": {
  "kernelspec": {
   "display_name": "Python [conda env:ATACseq_clustering]",
   "language": "python",
   "name": "conda-env-ATACseq_clustering-py"
  },
  "language_info": {
   "codemirror_mode": {
    "name": "ipython",
    "version": 3
   },
   "file_extension": ".py",
   "mimetype": "text/x-python",
   "name": "python",
   "nbconvert_exporter": "python",
   "pygments_lexer": "ipython3",
   "version": "3.7.3"
  }
 },
 "nbformat": 4,
 "nbformat_minor": 2
}
