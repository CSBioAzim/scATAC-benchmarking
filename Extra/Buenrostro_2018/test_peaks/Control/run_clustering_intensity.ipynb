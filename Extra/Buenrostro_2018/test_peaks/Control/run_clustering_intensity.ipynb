{
 "cells": [
  {
   "cell_type": "code",
   "execution_count": 1,
   "metadata": {},
   "outputs": [],
   "source": [
    "import pandas as pd\n",
    "import numpy as np\n",
    "import scanpy as sc\n",
    "import os\n",
    "from sklearn.cluster import KMeans\n",
    "from sklearn.cluster import AgglomerativeClustering\n",
    "from sklearn.metrics.cluster import adjusted_rand_score\n",
    "from sklearn.metrics.cluster import adjusted_mutual_info_score\n",
    "from sklearn.metrics.cluster import homogeneity_score\n",
    "import rpy2.robjects as robjects\n",
    "from rpy2.robjects import pandas2ri"
   ]
  },
  {
   "cell_type": "code",
   "execution_count": 2,
   "metadata": {},
   "outputs": [],
   "source": [
    "df_metrics = pd.DataFrame(columns=['ARI_Louvain','ARI_kmeans','ARI_HC',\n",
    "                                   'AMI_Louvain','AMI_kmeans','AMI_HC',\n",
    "                                   'Homogeneity_Louvain','Homogeneity_kmeans','Homogeneity_HC'])"
   ]
  },
  {
   "cell_type": "code",
   "execution_count": 3,
   "metadata": {},
   "outputs": [
    {
     "data": {
      "text/plain": [
       "0"
      ]
     },
     "execution_count": 3,
     "metadata": {},
     "output_type": "execute_result"
    }
   ],
   "source": [
    "workdir = './peaks_intensity_results/'\n",
    "path_fm = os.path.join(workdir,'feature_matrices/')\n",
    "path_clusters = os.path.join(workdir,'clusters/')\n",
    "path_metrics = os.path.join(workdir,'metrics/')\n",
    "os.system('mkdir -p '+path_clusters)\n",
    "os.system('mkdir -p '+path_metrics)"
   ]
  },
  {
   "cell_type": "code",
   "execution_count": 4,
   "metadata": {},
   "outputs": [
    {
     "name": "stdout",
     "output_type": "stream",
     "text": [
      "10\n"
     ]
    }
   ],
   "source": [
    "metadata = pd.read_csv('../../input/metadata.tsv',sep='\\t',index_col=0)\n",
    "num_clusters = len(np.unique(metadata['label']))\n",
    "print(num_clusters)"
   ]
  },
  {
   "cell_type": "code",
   "execution_count": 5,
   "metadata": {},
   "outputs": [
    {
     "data": {
      "text/plain": [
       "11"
      ]
     },
     "execution_count": 5,
     "metadata": {},
     "output_type": "execute_result"
    }
   ],
   "source": [
    "files = [x for x in os.listdir(path_fm) if x.startswith('FM')]\n",
    "len(files)"
   ]
  },
  {
   "cell_type": "code",
   "execution_count": 6,
   "metadata": {},
   "outputs": [
    {
     "data": {
      "text/plain": [
       "['FM_control1.rds',\n",
       " 'FM_control0.8.rds',\n",
       " 'FM_control0.6.rds',\n",
       " 'FM_control0.4.rds',\n",
       " 'FM_control0.2.rds',\n",
       " 'FM_control0.1.rds',\n",
       " 'FM_control0.08.rds',\n",
       " 'FM_control0.06.rds',\n",
       " 'FM_control0.04.rds',\n",
       " 'FM_control0.02.rds',\n",
       " 'FM_control0.01.rds']"
      ]
     },
     "execution_count": 6,
     "metadata": {},
     "output_type": "execute_result"
    }
   ],
   "source": [
    "files"
   ]
  },
  {
   "cell_type": "code",
   "execution_count": 7,
   "metadata": {},
   "outputs": [],
   "source": [
    "def getNClusters(adata,n_cluster,range_min=0,range_max=3,max_steps=20):\n",
    "    this_step = 0\n",
    "    this_min = float(range_min)\n",
    "    this_max = float(range_max)\n",
    "    while this_step < max_steps:\n",
    "        print('step ' + str(this_step))\n",
    "        this_resolution = this_min + ((this_max-this_min)/2)\n",
    "        sc.tl.louvain(adata,resolution=this_resolution)\n",
    "        this_clusters = adata.obs['louvain'].nunique()\n",
    "        \n",
    "        print('got ' + str(this_clusters) + ' at resolution ' + str(this_resolution))\n",
    "        \n",
    "        if this_clusters > n_cluster:\n",
    "            this_max = this_resolution\n",
    "        elif this_clusters < n_cluster:\n",
    "            this_min = this_resolution\n",
    "        else:\n",
    "            return(this_resolution, adata)\n",
    "        this_step += 1\n",
    "    \n",
    "    print('Cannot find the number of clusters')\n",
    "    print('Clustering solution from last iteration is used:' + str(this_clusters) + ' at resolution ' + str(this_resolution))"
   ]
  },
  {
   "cell_type": "code",
   "execution_count": 8,
   "metadata": {
    "scrolled": false
   },
   "outputs": [
    {
     "name": "stdout",
     "output_type": "stream",
     "text": [
      "control1\n"
     ]
    },
    {
     "name": "stderr",
     "output_type": "stream",
     "text": [
      "/data/pinello/SHARED_SOFTWARE/anaconda3/envs/ATACseq_clustering/lib/python3.7/site-packages/rpy2/robjects/pandas2ri.py:191: FutureWarning: from_items is deprecated. Please use DataFrame.from_dict(dict(items), ...) instead. DataFrame.from_dict(OrderedDict(items)) may be used to preserve the key order.\n",
      "  res = PandasDataFrame.from_items(items)\n"
     ]
    },
    {
     "name": "stdout",
     "output_type": "stream",
     "text": [
      "step 0\n",
      "got 16 at resolution 1.5\n",
      "step 1\n",
      "got 12 at resolution 0.75\n",
      "step 2\n",
      "got 5 at resolution 0.375\n",
      "step 3\n",
      "got 10 at resolution 0.5625\n",
      "control0.8\n"
     ]
    },
    {
     "name": "stderr",
     "output_type": "stream",
     "text": [
      "/data/pinello/SHARED_SOFTWARE/anaconda3/envs/ATACseq_clustering/lib/python3.7/site-packages/rpy2/robjects/pandas2ri.py:191: FutureWarning: from_items is deprecated. Please use DataFrame.from_dict(dict(items), ...) instead. DataFrame.from_dict(OrderedDict(items)) may be used to preserve the key order.\n",
      "  res = PandasDataFrame.from_items(items)\n"
     ]
    },
    {
     "name": "stdout",
     "output_type": "stream",
     "text": [
      "step 0\n",
      "got 18 at resolution 1.5\n",
      "step 1\n",
      "got 12 at resolution 0.75\n",
      "step 2\n",
      "got 5 at resolution 0.375\n",
      "step 3\n",
      "got 9 at resolution 0.5625\n",
      "step 4\n",
      "got 12 at resolution 0.65625\n",
      "step 5\n",
      "got 10 at resolution 0.609375\n",
      "control0.6\n"
     ]
    },
    {
     "name": "stderr",
     "output_type": "stream",
     "text": [
      "/data/pinello/SHARED_SOFTWARE/anaconda3/envs/ATACseq_clustering/lib/python3.7/site-packages/rpy2/robjects/pandas2ri.py:191: FutureWarning: from_items is deprecated. Please use DataFrame.from_dict(dict(items), ...) instead. DataFrame.from_dict(OrderedDict(items)) may be used to preserve the key order.\n",
      "  res = PandasDataFrame.from_items(items)\n"
     ]
    },
    {
     "name": "stdout",
     "output_type": "stream",
     "text": [
      "step 0\n",
      "got 20 at resolution 1.5\n",
      "step 1\n",
      "got 11 at resolution 0.75\n",
      "step 2\n",
      "got 5 at resolution 0.375\n",
      "step 3\n",
      "got 11 at resolution 0.5625\n",
      "step 4\n",
      "got 9 at resolution 0.46875\n",
      "step 5\n",
      "got 9 at resolution 0.515625\n",
      "step 6\n",
      "got 9 at resolution 0.5390625\n",
      "step 7\n",
      "got 11 at resolution 0.55078125\n",
      "step 8\n",
      "got 10 at resolution 0.544921875\n",
      "control0.4\n"
     ]
    },
    {
     "name": "stderr",
     "output_type": "stream",
     "text": [
      "/data/pinello/SHARED_SOFTWARE/anaconda3/envs/ATACseq_clustering/lib/python3.7/site-packages/rpy2/robjects/pandas2ri.py:191: FutureWarning: from_items is deprecated. Please use DataFrame.from_dict(dict(items), ...) instead. DataFrame.from_dict(OrderedDict(items)) may be used to preserve the key order.\n",
      "  res = PandasDataFrame.from_items(items)\n"
     ]
    },
    {
     "name": "stdout",
     "output_type": "stream",
     "text": [
      "step 0\n",
      "got 18 at resolution 1.5\n",
      "step 1\n",
      "got 12 at resolution 0.75\n",
      "step 2\n",
      "got 5 at resolution 0.375\n",
      "step 3\n",
      "got 11 at resolution 0.5625\n",
      "step 4\n",
      "got 8 at resolution 0.46875\n",
      "step 5\n",
      "got 10 at resolution 0.515625\n",
      "control0.2\n"
     ]
    },
    {
     "name": "stderr",
     "output_type": "stream",
     "text": [
      "/data/pinello/SHARED_SOFTWARE/anaconda3/envs/ATACseq_clustering/lib/python3.7/site-packages/rpy2/robjects/pandas2ri.py:191: FutureWarning: from_items is deprecated. Please use DataFrame.from_dict(dict(items), ...) instead. DataFrame.from_dict(OrderedDict(items)) may be used to preserve the key order.\n",
      "  res = PandasDataFrame.from_items(items)\n"
     ]
    },
    {
     "name": "stdout",
     "output_type": "stream",
     "text": [
      "step 0\n",
      "got 17 at resolution 1.5\n",
      "step 1\n",
      "got 12 at resolution 0.75\n",
      "step 2\n",
      "got 5 at resolution 0.375\n",
      "step 3\n",
      "got 10 at resolution 0.5625\n",
      "control0.1\n"
     ]
    },
    {
     "name": "stderr",
     "output_type": "stream",
     "text": [
      "/data/pinello/SHARED_SOFTWARE/anaconda3/envs/ATACseq_clustering/lib/python3.7/site-packages/rpy2/robjects/pandas2ri.py:191: FutureWarning: from_items is deprecated. Please use DataFrame.from_dict(dict(items), ...) instead. DataFrame.from_dict(OrderedDict(items)) may be used to preserve the key order.\n",
      "  res = PandasDataFrame.from_items(items)\n"
     ]
    },
    {
     "name": "stdout",
     "output_type": "stream",
     "text": [
      "step 0\n",
      "got 16 at resolution 1.5\n",
      "step 1\n",
      "got 10 at resolution 0.75\n",
      "control0.08\n"
     ]
    },
    {
     "name": "stderr",
     "output_type": "stream",
     "text": [
      "/data/pinello/SHARED_SOFTWARE/anaconda3/envs/ATACseq_clustering/lib/python3.7/site-packages/rpy2/robjects/pandas2ri.py:191: FutureWarning: from_items is deprecated. Please use DataFrame.from_dict(dict(items), ...) instead. DataFrame.from_dict(OrderedDict(items)) may be used to preserve the key order.\n",
      "  res = PandasDataFrame.from_items(items)\n"
     ]
    },
    {
     "name": "stdout",
     "output_type": "stream",
     "text": [
      "step 0\n",
      "got 17 at resolution 1.5\n",
      "step 1\n",
      "got 11 at resolution 0.75\n",
      "step 2\n",
      "got 6 at resolution 0.375\n",
      "step 3\n",
      "got 8 at resolution 0.5625\n",
      "step 4\n",
      "got 9 at resolution 0.65625\n",
      "step 5\n",
      "got 10 at resolution 0.703125\n",
      "control0.06\n"
     ]
    },
    {
     "name": "stderr",
     "output_type": "stream",
     "text": [
      "/data/pinello/SHARED_SOFTWARE/anaconda3/envs/ATACseq_clustering/lib/python3.7/site-packages/rpy2/robjects/pandas2ri.py:191: FutureWarning: from_items is deprecated. Please use DataFrame.from_dict(dict(items), ...) instead. DataFrame.from_dict(OrderedDict(items)) may be used to preserve the key order.\n",
      "  res = PandasDataFrame.from_items(items)\n"
     ]
    },
    {
     "name": "stdout",
     "output_type": "stream",
     "text": [
      "step 0\n",
      "got 14 at resolution 1.5\n",
      "step 1\n",
      "got 9 at resolution 0.75\n",
      "step 2\n",
      "got 12 at resolution 1.125\n",
      "step 3\n",
      "got 11 at resolution 0.9375\n",
      "step 4\n",
      "got 9 at resolution 0.84375\n",
      "step 5\n",
      "got 9 at resolution 0.890625\n",
      "step 6\n",
      "got 9 at resolution 0.9140625\n",
      "step 7\n",
      "got 9 at resolution 0.92578125\n",
      "step 8\n",
      "got 9 at resolution 0.931640625\n",
      "step 9\n",
      "got 10 at resolution 0.9345703125\n",
      "control0.04\n"
     ]
    },
    {
     "name": "stderr",
     "output_type": "stream",
     "text": [
      "/data/pinello/SHARED_SOFTWARE/anaconda3/envs/ATACseq_clustering/lib/python3.7/site-packages/rpy2/robjects/pandas2ri.py:191: FutureWarning: from_items is deprecated. Please use DataFrame.from_dict(dict(items), ...) instead. DataFrame.from_dict(OrderedDict(items)) may be used to preserve the key order.\n",
      "  res = PandasDataFrame.from_items(items)\n"
     ]
    },
    {
     "name": "stdout",
     "output_type": "stream",
     "text": [
      "step 0\n",
      "got 13 at resolution 1.5\n",
      "step 1\n",
      "got 8 at resolution 0.75\n",
      "step 2\n",
      "got 10 at resolution 1.125\n",
      "control0.02\n"
     ]
    },
    {
     "name": "stderr",
     "output_type": "stream",
     "text": [
      "/data/pinello/SHARED_SOFTWARE/anaconda3/envs/ATACseq_clustering/lib/python3.7/site-packages/rpy2/robjects/pandas2ri.py:191: FutureWarning: from_items is deprecated. Please use DataFrame.from_dict(dict(items), ...) instead. DataFrame.from_dict(OrderedDict(items)) may be used to preserve the key order.\n",
      "  res = PandasDataFrame.from_items(items)\n"
     ]
    },
    {
     "name": "stdout",
     "output_type": "stream",
     "text": [
      "step 0\n",
      "got 12 at resolution 1.5\n",
      "step 1\n",
      "got 6 at resolution 0.75\n",
      "step 2\n",
      "got 10 at resolution 1.125\n",
      "control0.01\n"
     ]
    },
    {
     "name": "stderr",
     "output_type": "stream",
     "text": [
      "/data/pinello/SHARED_SOFTWARE/anaconda3/envs/ATACseq_clustering/lib/python3.7/site-packages/rpy2/robjects/pandas2ri.py:191: FutureWarning: from_items is deprecated. Please use DataFrame.from_dict(dict(items), ...) instead. DataFrame.from_dict(OrderedDict(items)) may be used to preserve the key order.\n",
      "  res = PandasDataFrame.from_items(items)\n"
     ]
    },
    {
     "name": "stdout",
     "output_type": "stream",
     "text": [
      "step 0\n",
      "got 11 at resolution 1.5\n",
      "step 1\n",
      "got 7 at resolution 0.75\n",
      "step 2\n",
      "got 8 at resolution 1.125\n",
      "step 3\n",
      "got 10 at resolution 1.3125\n"
     ]
    }
   ],
   "source": [
    "for file in files:\n",
    "    file_split = file[:-4].split('_')\n",
    "    method = file_split[1]\n",
    "    print(method)\n",
    "\n",
    "    pandas2ri.activate()\n",
    "    readRDS = robjects.r['readRDS']\n",
    "    df_rds = readRDS(os.path.join(path_fm,file))\n",
    "    fm_mat = pandas2ri.ri2py(robjects.r['data.frame'](robjects.r['as.matrix'](df_rds)))\n",
    "    fm_mat.fillna(0,inplace=True)\n",
    "    fm_mat.columns = metadata.index\n",
    "    \n",
    "    adata = sc.AnnData(fm_mat.T)\n",
    "    adata.var_names_make_unique()\n",
    "    adata.obs = metadata.loc[adata.obs.index,]\n",
    "    df_metrics.loc[method,] = \"\"\n",
    "    #Louvain\n",
    "    sc.pp.neighbors(adata, n_neighbors=15,use_rep='X')\n",
    "#     sc.tl.louvain(adata)\n",
    "    getNClusters(adata,n_cluster=num_clusters)\n",
    "    #kmeans\n",
    "    kmeans = KMeans(n_clusters=num_clusters, random_state=2019).fit(adata.X)\n",
    "    adata.obs['kmeans'] = pd.Series(kmeans.labels_,index=adata.obs.index).astype('category')\n",
    "    #hierachical clustering\n",
    "    hc = AgglomerativeClustering(n_clusters=num_clusters).fit(adata.X)\n",
    "    adata.obs['hc'] = pd.Series(hc.labels_,index=adata.obs.index).astype('category')\n",
    "    #clustering metrics\n",
    "    \n",
    "    #adjusted rank index\n",
    "    ari_louvain = adjusted_rand_score(adata.obs['label'], adata.obs['louvain'])\n",
    "    ari_kmeans = adjusted_rand_score(adata.obs['label'], adata.obs['kmeans'])\n",
    "    ari_hc = adjusted_rand_score(adata.obs['label'], adata.obs['hc'])\n",
    "    #adjusted mutual information\n",
    "    ami_louvain = adjusted_mutual_info_score(adata.obs['label'], adata.obs['louvain'],average_method='arithmetic')\n",
    "    ami_kmeans = adjusted_mutual_info_score(adata.obs['label'], adata.obs['kmeans'],average_method='arithmetic')   \n",
    "    ami_hc = adjusted_mutual_info_score(adata.obs['label'], adata.obs['hc'],average_method='arithmetic')\n",
    "    #homogeneity\n",
    "    homo_louvain = homogeneity_score(adata.obs['label'], adata.obs['louvain'])\n",
    "    homo_kmeans = homogeneity_score(adata.obs['label'], adata.obs['kmeans'])\n",
    "    homo_hc = homogeneity_score(adata.obs['label'], adata.obs['hc'])\n",
    "\n",
    "    df_metrics.loc[method,['ARI_Louvain','ARI_kmeans','ARI_HC']] = [ari_louvain,ari_kmeans,ari_hc]\n",
    "    df_metrics.loc[method,['AMI_Louvain','AMI_kmeans','AMI_HC']] = [ami_louvain,ami_kmeans,ami_hc]\n",
    "    df_metrics.loc[method,['Homogeneity_Louvain','Homogeneity_kmeans','Homogeneity_HC']] = [homo_louvain,homo_kmeans,homo_hc] \n",
    "    adata.obs[['louvain','kmeans','hc']].to_csv(os.path.join(path_clusters ,method + '_clusters.tsv'),sep='\\t')"
   ]
  },
  {
   "cell_type": "code",
   "execution_count": 9,
   "metadata": {},
   "outputs": [],
   "source": [
    "df_metrics.to_csv(path_metrics+'clustering_scores.csv')"
   ]
  },
  {
   "cell_type": "code",
   "execution_count": 10,
   "metadata": {},
   "outputs": [
    {
     "data": {
      "text/html": [
       "<div>\n",
       "<style scoped>\n",
       "    .dataframe tbody tr th:only-of-type {\n",
       "        vertical-align: middle;\n",
       "    }\n",
       "\n",
       "    .dataframe tbody tr th {\n",
       "        vertical-align: top;\n",
       "    }\n",
       "\n",
       "    .dataframe thead th {\n",
       "        text-align: right;\n",
       "    }\n",
       "</style>\n",
       "<table border=\"1\" class=\"dataframe\">\n",
       "  <thead>\n",
       "    <tr style=\"text-align: right;\">\n",
       "      <th></th>\n",
       "      <th>ARI_Louvain</th>\n",
       "      <th>ARI_kmeans</th>\n",
       "      <th>ARI_HC</th>\n",
       "      <th>AMI_Louvain</th>\n",
       "      <th>AMI_kmeans</th>\n",
       "      <th>AMI_HC</th>\n",
       "      <th>Homogeneity_Louvain</th>\n",
       "      <th>Homogeneity_kmeans</th>\n",
       "      <th>Homogeneity_HC</th>\n",
       "    </tr>\n",
       "  </thead>\n",
       "  <tbody>\n",
       "    <tr>\n",
       "      <th>control1</th>\n",
       "      <td>0.179826</td>\n",
       "      <td>0.0234096</td>\n",
       "      <td>0.0314772</td>\n",
       "      <td>0.349128</td>\n",
       "      <td>0.0308791</td>\n",
       "      <td>0.0587904</td>\n",
       "      <td>0.362356</td>\n",
       "      <td>0.0324073</td>\n",
       "      <td>0.0540063</td>\n",
       "    </tr>\n",
       "    <tr>\n",
       "      <th>control0.8</th>\n",
       "      <td>0.198269</td>\n",
       "      <td>0.0236603</td>\n",
       "      <td>0.0225297</td>\n",
       "      <td>0.367389</td>\n",
       "      <td>0.0300587</td>\n",
       "      <td>0.0475972</td>\n",
       "      <td>0.384257</td>\n",
       "      <td>0.0319474</td>\n",
       "      <td>0.0451048</td>\n",
       "    </tr>\n",
       "    <tr>\n",
       "      <th>control0.6</th>\n",
       "      <td>0.152558</td>\n",
       "      <td>0.0237327</td>\n",
       "      <td>0.0422615</td>\n",
       "      <td>0.321883</td>\n",
       "      <td>0.0304497</td>\n",
       "      <td>0.0724074</td>\n",
       "      <td>0.333292</td>\n",
       "      <td>0.0321494</td>\n",
       "      <td>0.064689</td>\n",
       "    </tr>\n",
       "    <tr>\n",
       "      <th>control0.4</th>\n",
       "      <td>0.146743</td>\n",
       "      <td>0.023586</td>\n",
       "      <td>0.027486</td>\n",
       "      <td>0.318021</td>\n",
       "      <td>0.0304841</td>\n",
       "      <td>0.0402353</td>\n",
       "      <td>0.332556</td>\n",
       "      <td>0.0320985</td>\n",
       "      <td>0.040072</td>\n",
       "    </tr>\n",
       "    <tr>\n",
       "      <th>control0.2</th>\n",
       "      <td>0.182738</td>\n",
       "      <td>0.0246456</td>\n",
       "      <td>0.0231816</td>\n",
       "      <td>0.347361</td>\n",
       "      <td>0.0373328</td>\n",
       "      <td>0.0413083</td>\n",
       "      <td>0.361275</td>\n",
       "      <td>0.0403357</td>\n",
       "      <td>0.0405167</td>\n",
       "    </tr>\n",
       "    <tr>\n",
       "      <th>control0.1</th>\n",
       "      <td>0.133545</td>\n",
       "      <td>0.0261013</td>\n",
       "      <td>0.016136</td>\n",
       "      <td>0.267155</td>\n",
       "      <td>0.0470087</td>\n",
       "      <td>0.0425216</td>\n",
       "      <td>0.283382</td>\n",
       "      <td>0.0471308</td>\n",
       "      <td>0.0411577</td>\n",
       "    </tr>\n",
       "    <tr>\n",
       "      <th>control0.08</th>\n",
       "      <td>0.120395</td>\n",
       "      <td>0.0253612</td>\n",
       "      <td>0.0285373</td>\n",
       "      <td>0.247703</td>\n",
       "      <td>0.0367279</td>\n",
       "      <td>0.0370956</td>\n",
       "      <td>0.263102</td>\n",
       "      <td>0.0398583</td>\n",
       "      <td>0.037751</td>\n",
       "    </tr>\n",
       "    <tr>\n",
       "      <th>control0.06</th>\n",
       "      <td>0.0847967</td>\n",
       "      <td>0.0226808</td>\n",
       "      <td>0.0280202</td>\n",
       "      <td>0.208772</td>\n",
       "      <td>0.0297222</td>\n",
       "      <td>0.0455833</td>\n",
       "      <td>0.221557</td>\n",
       "      <td>0.0315745</td>\n",
       "      <td>0.0479385</td>\n",
       "    </tr>\n",
       "    <tr>\n",
       "      <th>control0.04</th>\n",
       "      <td>0.0919906</td>\n",
       "      <td>0.0261321</td>\n",
       "      <td>0.0284394</td>\n",
       "      <td>0.208795</td>\n",
       "      <td>0.0367532</td>\n",
       "      <td>0.0461805</td>\n",
       "      <td>0.223945</td>\n",
       "      <td>0.0398588</td>\n",
       "      <td>0.0450928</td>\n",
       "    </tr>\n",
       "    <tr>\n",
       "      <th>control0.02</th>\n",
       "      <td>0.0498526</td>\n",
       "      <td>0.0266725</td>\n",
       "      <td>0.0227106</td>\n",
       "      <td>0.126866</td>\n",
       "      <td>0.0374406</td>\n",
       "      <td>0.0317983</td>\n",
       "      <td>0.141032</td>\n",
       "      <td>0.0406044</td>\n",
       "      <td>0.0325217</td>\n",
       "    </tr>\n",
       "    <tr>\n",
       "      <th>control0.01</th>\n",
       "      <td>0.0311213</td>\n",
       "      <td>0.026633</td>\n",
       "      <td>0.0321257</td>\n",
       "      <td>0.0792634</td>\n",
       "      <td>0.0359444</td>\n",
       "      <td>0.0484226</td>\n",
       "      <td>0.0920529</td>\n",
       "      <td>0.0392875</td>\n",
       "      <td>0.0511698</td>\n",
       "    </tr>\n",
       "  </tbody>\n",
       "</table>\n",
       "</div>"
      ],
      "text/plain": [
       "            ARI_Louvain ARI_kmeans     ARI_HC AMI_Louvain AMI_kmeans  \\\n",
       "control1       0.179826  0.0234096  0.0314772    0.349128  0.0308791   \n",
       "control0.8     0.198269  0.0236603  0.0225297    0.367389  0.0300587   \n",
       "control0.6     0.152558  0.0237327  0.0422615    0.321883  0.0304497   \n",
       "control0.4     0.146743   0.023586   0.027486    0.318021  0.0304841   \n",
       "control0.2     0.182738  0.0246456  0.0231816    0.347361  0.0373328   \n",
       "control0.1     0.133545  0.0261013   0.016136    0.267155  0.0470087   \n",
       "control0.08    0.120395  0.0253612  0.0285373    0.247703  0.0367279   \n",
       "control0.06   0.0847967  0.0226808  0.0280202    0.208772  0.0297222   \n",
       "control0.04   0.0919906  0.0261321  0.0284394    0.208795  0.0367532   \n",
       "control0.02   0.0498526  0.0266725  0.0227106    0.126866  0.0374406   \n",
       "control0.01   0.0311213   0.026633  0.0321257   0.0792634  0.0359444   \n",
       "\n",
       "                AMI_HC Homogeneity_Louvain Homogeneity_kmeans Homogeneity_HC  \n",
       "control1     0.0587904            0.362356          0.0324073      0.0540063  \n",
       "control0.8   0.0475972            0.384257          0.0319474      0.0451048  \n",
       "control0.6   0.0724074            0.333292          0.0321494       0.064689  \n",
       "control0.4   0.0402353            0.332556          0.0320985       0.040072  \n",
       "control0.2   0.0413083            0.361275          0.0403357      0.0405167  \n",
       "control0.1   0.0425216            0.283382          0.0471308      0.0411577  \n",
       "control0.08  0.0370956            0.263102          0.0398583       0.037751  \n",
       "control0.06  0.0455833            0.221557          0.0315745      0.0479385  \n",
       "control0.04  0.0461805            0.223945          0.0398588      0.0450928  \n",
       "control0.02  0.0317983            0.141032          0.0406044      0.0325217  \n",
       "control0.01  0.0484226           0.0920529          0.0392875      0.0511698  "
      ]
     },
     "execution_count": 10,
     "metadata": {},
     "output_type": "execute_result"
    }
   ],
   "source": [
    "df_metrics"
   ]
  },
  {
   "cell_type": "code",
   "execution_count": null,
   "metadata": {},
   "outputs": [],
   "source": []
  }
 ],
 "metadata": {
  "kernelspec": {
   "display_name": "Python [conda env:ATACseq_clustering]",
   "language": "python",
   "name": "conda-env-ATACseq_clustering-py"
  },
  "language_info": {
   "codemirror_mode": {
    "name": "ipython",
    "version": 3
   },
   "file_extension": ".py",
   "mimetype": "text/x-python",
   "name": "python",
   "nbconvert_exporter": "python",
   "pygments_lexer": "ipython3",
   "version": "3.7.3"
  }
 },
 "nbformat": 4,
 "nbformat_minor": 2
}
