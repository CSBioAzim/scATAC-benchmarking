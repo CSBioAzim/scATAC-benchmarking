{
 "cells": [
  {
   "cell_type": "code",
   "execution_count": 1,
   "metadata": {},
   "outputs": [],
   "source": [
    "import pandas as pd\n",
    "import numpy as np\n",
    "import scanpy as sc\n",
    "import os\n",
    "from sklearn.cluster import KMeans\n",
    "from sklearn.cluster import AgglomerativeClustering\n",
    "from sklearn.metrics.cluster import adjusted_rand_score\n",
    "from sklearn.metrics.cluster import adjusted_mutual_info_score\n",
    "from sklearn.metrics.cluster import homogeneity_score\n",
    "import rpy2.robjects as robjects\n",
    "from rpy2.robjects import pandas2ri"
   ]
  },
  {
   "cell_type": "code",
   "execution_count": 2,
   "metadata": {},
   "outputs": [],
   "source": [
    "df_metrics = pd.DataFrame(columns=['ARI_Louvain','ARI_kmeans','ARI_HC',\n",
    "                                   'AMI_Louvain','AMI_kmeans','AMI_HC',\n",
    "                                   'Homogeneity_Louvain','Homogeneity_kmeans','Homogeneity_HC'])"
   ]
  },
  {
   "cell_type": "code",
   "execution_count": 3,
   "metadata": {},
   "outputs": [
    {
     "data": {
      "text/plain": [
       "0"
      ]
     },
     "execution_count": 3,
     "metadata": {},
     "output_type": "execute_result"
    }
   ],
   "source": [
    "workdir = './peaks_frequency_results/'\n",
    "path_fm = os.path.join(workdir,'feature_matrices/')\n",
    "path_clusters = os.path.join(workdir,'clusters/')\n",
    "path_metrics = os.path.join(workdir,'metrics/')\n",
    "os.system('mkdir -p '+path_clusters)\n",
    "os.system('mkdir -p '+path_metrics)"
   ]
  },
  {
   "cell_type": "code",
   "execution_count": 4,
   "metadata": {},
   "outputs": [
    {
     "name": "stdout",
     "output_type": "stream",
     "text": [
      "10\n"
     ]
    }
   ],
   "source": [
    "metadata = pd.read_csv('../../input/metadata.tsv',sep='\\t',index_col=0)\n",
    "num_clusters = len(np.unique(metadata['label']))\n",
    "print(num_clusters)"
   ]
  },
  {
   "cell_type": "code",
   "execution_count": 5,
   "metadata": {},
   "outputs": [
    {
     "data": {
      "text/plain": [
       "11"
      ]
     },
     "execution_count": 5,
     "metadata": {},
     "output_type": "execute_result"
    }
   ],
   "source": [
    "files = [x for x in os.listdir(path_fm) if x.startswith('FM')]\n",
    "len(files)"
   ]
  },
  {
   "cell_type": "code",
   "execution_count": 6,
   "metadata": {},
   "outputs": [
    {
     "data": {
      "text/plain": [
       "['FM_control1.rds',\n",
       " 'FM_control0.8.rds',\n",
       " 'FM_control0.6.rds',\n",
       " 'FM_control0.4.rds',\n",
       " 'FM_control0.2.rds',\n",
       " 'FM_control0.1.rds',\n",
       " 'FM_control0.08.rds',\n",
       " 'FM_control0.06.rds',\n",
       " 'FM_control0.04.rds',\n",
       " 'FM_control0.02.rds',\n",
       " 'FM_control0.01.rds']"
      ]
     },
     "execution_count": 6,
     "metadata": {},
     "output_type": "execute_result"
    }
   ],
   "source": [
    "files"
   ]
  },
  {
   "cell_type": "code",
   "execution_count": 7,
   "metadata": {},
   "outputs": [],
   "source": [
    "def getNClusters(adata,n_cluster,range_min=0,range_max=3,max_steps=20):\n",
    "    this_step = 0\n",
    "    this_min = float(range_min)\n",
    "    this_max = float(range_max)\n",
    "    while this_step < max_steps:\n",
    "        print('step ' + str(this_step))\n",
    "        this_resolution = this_min + ((this_max-this_min)/2)\n",
    "        sc.tl.louvain(adata,resolution=this_resolution)\n",
    "        this_clusters = adata.obs['louvain'].nunique()\n",
    "        \n",
    "        print('got ' + str(this_clusters) + ' at resolution ' + str(this_resolution))\n",
    "        \n",
    "        if this_clusters > n_cluster:\n",
    "            this_max = this_resolution\n",
    "        elif this_clusters < n_cluster:\n",
    "            this_min = this_resolution\n",
    "        else:\n",
    "            return(this_resolution, adata)\n",
    "        this_step += 1\n",
    "    \n",
    "    print('Cannot find the number of clusters')\n",
    "    print('Clustering solution from last iteration is used:' + str(this_clusters) + ' at resolution ' + str(this_resolution))"
   ]
  },
  {
   "cell_type": "code",
   "execution_count": 8,
   "metadata": {
    "scrolled": false
   },
   "outputs": [
    {
     "name": "stdout",
     "output_type": "stream",
     "text": [
      "control1\n"
     ]
    },
    {
     "name": "stderr",
     "output_type": "stream",
     "text": [
      "/data/pinello/SHARED_SOFTWARE/anaconda3/envs/ATACseq_clustering/lib/python3.7/site-packages/rpy2/robjects/pandas2ri.py:191: FutureWarning: from_items is deprecated. Please use DataFrame.from_dict(dict(items), ...) instead. DataFrame.from_dict(OrderedDict(items)) may be used to preserve the key order.\n",
      "  res = PandasDataFrame.from_items(items)\n"
     ]
    },
    {
     "name": "stdout",
     "output_type": "stream",
     "text": [
      "step 0\n",
      "got 16 at resolution 1.5\n",
      "step 1\n",
      "got 12 at resolution 0.75\n",
      "step 2\n",
      "got 5 at resolution 0.375\n",
      "step 3\n",
      "got 10 at resolution 0.5625\n",
      "control0.8\n"
     ]
    },
    {
     "name": "stderr",
     "output_type": "stream",
     "text": [
      "/data/pinello/SHARED_SOFTWARE/anaconda3/envs/ATACseq_clustering/lib/python3.7/site-packages/rpy2/robjects/pandas2ri.py:191: FutureWarning: from_items is deprecated. Please use DataFrame.from_dict(dict(items), ...) instead. DataFrame.from_dict(OrderedDict(items)) may be used to preserve the key order.\n",
      "  res = PandasDataFrame.from_items(items)\n"
     ]
    },
    {
     "name": "stdout",
     "output_type": "stream",
     "text": [
      "step 0\n",
      "got 18 at resolution 1.5\n",
      "step 1\n",
      "got 12 at resolution 0.75\n",
      "step 2\n",
      "got 5 at resolution 0.375\n",
      "step 3\n",
      "got 11 at resolution 0.5625\n",
      "step 4\n",
      "got 8 at resolution 0.46875\n",
      "step 5\n",
      "got 9 at resolution 0.515625\n",
      "step 6\n",
      "got 10 at resolution 0.5390625\n",
      "control0.6\n"
     ]
    },
    {
     "name": "stderr",
     "output_type": "stream",
     "text": [
      "/data/pinello/SHARED_SOFTWARE/anaconda3/envs/ATACseq_clustering/lib/python3.7/site-packages/rpy2/robjects/pandas2ri.py:191: FutureWarning: from_items is deprecated. Please use DataFrame.from_dict(dict(items), ...) instead. DataFrame.from_dict(OrderedDict(items)) may be used to preserve the key order.\n",
      "  res = PandasDataFrame.from_items(items)\n"
     ]
    },
    {
     "name": "stdout",
     "output_type": "stream",
     "text": [
      "step 0\n",
      "got 18 at resolution 1.5\n",
      "step 1\n",
      "got 12 at resolution 0.75\n",
      "step 2\n",
      "got 5 at resolution 0.375\n",
      "step 3\n",
      "got 11 at resolution 0.5625\n",
      "step 4\n",
      "got 9 at resolution 0.46875\n",
      "step 5\n",
      "got 9 at resolution 0.515625\n",
      "step 6\n",
      "got 11 at resolution 0.5390625\n",
      "step 7\n",
      "got 11 at resolution 0.52734375\n",
      "step 8\n",
      "got 9 at resolution 0.521484375\n",
      "step 9\n",
      "got 9 at resolution 0.5244140625\n",
      "step 10\n",
      "got 11 at resolution 0.52587890625\n",
      "step 11\n",
      "got 9 at resolution 0.525146484375\n",
      "step 12\n",
      "got 11 at resolution 0.5255126953125\n",
      "step 13\n",
      "got 9 at resolution 0.52532958984375\n",
      "step 14\n",
      "got 11 at resolution 0.525421142578125\n",
      "step 15\n",
      "got 11 at resolution 0.5253753662109375\n",
      "step 16\n",
      "got 11 at resolution 0.5253524780273438\n",
      "step 17\n",
      "got 9 at resolution 0.5253410339355469\n",
      "step 18\n",
      "got 11 at resolution 0.5253467559814453\n",
      "step 19\n",
      "got 9 at resolution 0.5253438949584961\n",
      "Cannot find the number of clusters\n",
      "Clustering solution from last iteration is used:9 at resolution 0.5253438949584961\n",
      "control0.4\n"
     ]
    },
    {
     "name": "stderr",
     "output_type": "stream",
     "text": [
      "/data/pinello/SHARED_SOFTWARE/anaconda3/envs/ATACseq_clustering/lib/python3.7/site-packages/rpy2/robjects/pandas2ri.py:191: FutureWarning: from_items is deprecated. Please use DataFrame.from_dict(dict(items), ...) instead. DataFrame.from_dict(OrderedDict(items)) may be used to preserve the key order.\n",
      "  res = PandasDataFrame.from_items(items)\n"
     ]
    },
    {
     "name": "stdout",
     "output_type": "stream",
     "text": [
      "step 0\n",
      "got 19 at resolution 1.5\n",
      "step 1\n",
      "got 12 at resolution 0.75\n",
      "step 2\n",
      "got 5 at resolution 0.375\n",
      "step 3\n",
      "got 10 at resolution 0.5625\n",
      "control0.2\n"
     ]
    },
    {
     "name": "stderr",
     "output_type": "stream",
     "text": [
      "/data/pinello/SHARED_SOFTWARE/anaconda3/envs/ATACseq_clustering/lib/python3.7/site-packages/rpy2/robjects/pandas2ri.py:191: FutureWarning: from_items is deprecated. Please use DataFrame.from_dict(dict(items), ...) instead. DataFrame.from_dict(OrderedDict(items)) may be used to preserve the key order.\n",
      "  res = PandasDataFrame.from_items(items)\n"
     ]
    },
    {
     "name": "stdout",
     "output_type": "stream",
     "text": [
      "step 0\n",
      "got 17 at resolution 1.5\n",
      "step 1\n",
      "got 13 at resolution 0.75\n",
      "step 2\n",
      "got 5 at resolution 0.375\n",
      "step 3\n",
      "got 10 at resolution 0.5625\n",
      "control0.1\n"
     ]
    },
    {
     "name": "stderr",
     "output_type": "stream",
     "text": [
      "/data/pinello/SHARED_SOFTWARE/anaconda3/envs/ATACseq_clustering/lib/python3.7/site-packages/rpy2/robjects/pandas2ri.py:191: FutureWarning: from_items is deprecated. Please use DataFrame.from_dict(dict(items), ...) instead. DataFrame.from_dict(OrderedDict(items)) may be used to preserve the key order.\n",
      "  res = PandasDataFrame.from_items(items)\n"
     ]
    },
    {
     "name": "stdout",
     "output_type": "stream",
     "text": [
      "step 0\n",
      "got 15 at resolution 1.5\n",
      "step 1\n",
      "got 11 at resolution 0.75\n",
      "step 2\n",
      "got 5 at resolution 0.375\n",
      "step 3\n",
      "got 7 at resolution 0.5625\n",
      "step 4\n",
      "got 9 at resolution 0.65625\n",
      "step 5\n",
      "got 9 at resolution 0.703125\n",
      "step 6\n",
      "got 11 at resolution 0.7265625\n",
      "step 7\n",
      "got 9 at resolution 0.71484375\n",
      "step 8\n",
      "got 9 at resolution 0.720703125\n",
      "step 9\n",
      "got 11 at resolution 0.7236328125\n",
      "step 10\n",
      "got 9 at resolution 0.72216796875\n",
      "step 11\n",
      "got 10 at resolution 0.722900390625\n",
      "control0.08\n"
     ]
    },
    {
     "name": "stderr",
     "output_type": "stream",
     "text": [
      "/data/pinello/SHARED_SOFTWARE/anaconda3/envs/ATACseq_clustering/lib/python3.7/site-packages/rpy2/robjects/pandas2ri.py:191: FutureWarning: from_items is deprecated. Please use DataFrame.from_dict(dict(items), ...) instead. DataFrame.from_dict(OrderedDict(items)) may be used to preserve the key order.\n",
      "  res = PandasDataFrame.from_items(items)\n"
     ]
    },
    {
     "name": "stdout",
     "output_type": "stream",
     "text": [
      "step 0\n",
      "got 18 at resolution 1.5\n",
      "step 1\n",
      "got 10 at resolution 0.75\n",
      "control0.06\n"
     ]
    },
    {
     "name": "stderr",
     "output_type": "stream",
     "text": [
      "/data/pinello/SHARED_SOFTWARE/anaconda3/envs/ATACseq_clustering/lib/python3.7/site-packages/rpy2/robjects/pandas2ri.py:191: FutureWarning: from_items is deprecated. Please use DataFrame.from_dict(dict(items), ...) instead. DataFrame.from_dict(OrderedDict(items)) may be used to preserve the key order.\n",
      "  res = PandasDataFrame.from_items(items)\n"
     ]
    },
    {
     "name": "stdout",
     "output_type": "stream",
     "text": [
      "step 0\n",
      "got 15 at resolution 1.5\n",
      "step 1\n",
      "got 9 at resolution 0.75\n",
      "step 2\n",
      "got 12 at resolution 1.125\n",
      "step 3\n",
      "got 9 at resolution 0.9375\n",
      "step 4\n",
      "got 12 at resolution 1.03125\n",
      "step 5\n",
      "got 11 at resolution 0.984375\n",
      "step 6\n",
      "got 10 at resolution 0.9609375\n",
      "control0.04\n"
     ]
    },
    {
     "name": "stderr",
     "output_type": "stream",
     "text": [
      "/data/pinello/SHARED_SOFTWARE/anaconda3/envs/ATACseq_clustering/lib/python3.7/site-packages/rpy2/robjects/pandas2ri.py:191: FutureWarning: from_items is deprecated. Please use DataFrame.from_dict(dict(items), ...) instead. DataFrame.from_dict(OrderedDict(items)) may be used to preserve the key order.\n",
      "  res = PandasDataFrame.from_items(items)\n"
     ]
    },
    {
     "name": "stdout",
     "output_type": "stream",
     "text": [
      "step 0\n",
      "got 13 at resolution 1.5\n",
      "step 1\n",
      "got 9 at resolution 0.75\n",
      "step 2\n",
      "got 11 at resolution 1.125\n",
      "step 3\n",
      "got 11 at resolution 0.9375\n",
      "step 4\n",
      "got 10 at resolution 0.84375\n",
      "control0.02\n"
     ]
    },
    {
     "name": "stderr",
     "output_type": "stream",
     "text": [
      "/data/pinello/SHARED_SOFTWARE/anaconda3/envs/ATACseq_clustering/lib/python3.7/site-packages/rpy2/robjects/pandas2ri.py:191: FutureWarning: from_items is deprecated. Please use DataFrame.from_dict(dict(items), ...) instead. DataFrame.from_dict(OrderedDict(items)) may be used to preserve the key order.\n",
      "  res = PandasDataFrame.from_items(items)\n"
     ]
    },
    {
     "name": "stdout",
     "output_type": "stream",
     "text": [
      "step 0\n",
      "got 14 at resolution 1.5\n",
      "step 1\n",
      "got 7 at resolution 0.75\n",
      "step 2\n",
      "got 10 at resolution 1.125\n",
      "control0.01\n"
     ]
    },
    {
     "name": "stderr",
     "output_type": "stream",
     "text": [
      "/data/pinello/SHARED_SOFTWARE/anaconda3/envs/ATACseq_clustering/lib/python3.7/site-packages/rpy2/robjects/pandas2ri.py:191: FutureWarning: from_items is deprecated. Please use DataFrame.from_dict(dict(items), ...) instead. DataFrame.from_dict(OrderedDict(items)) may be used to preserve the key order.\n",
      "  res = PandasDataFrame.from_items(items)\n"
     ]
    },
    {
     "name": "stdout",
     "output_type": "stream",
     "text": [
      "step 0\n",
      "got 10 at resolution 1.5\n"
     ]
    }
   ],
   "source": [
    "for file in files:\n",
    "    file_split = file[:-4].split('_')\n",
    "    method = file_split[1]\n",
    "    print(method)\n",
    "\n",
    "    pandas2ri.activate()\n",
    "    readRDS = robjects.r['readRDS']\n",
    "    df_rds = readRDS(os.path.join(path_fm,file))\n",
    "    fm_mat = pandas2ri.ri2py(robjects.r['data.frame'](robjects.r['as.matrix'](df_rds)))\n",
    "    fm_mat.fillna(0,inplace=True)\n",
    "    fm_mat.columns = metadata.index\n",
    "    \n",
    "    adata = sc.AnnData(fm_mat.T)\n",
    "    adata.var_names_make_unique()\n",
    "    adata.obs = metadata.loc[adata.obs.index,]\n",
    "    df_metrics.loc[method,] = \"\"\n",
    "    #Louvain\n",
    "    sc.pp.neighbors(adata, n_neighbors=15,use_rep='X')\n",
    "#     sc.tl.louvain(adata)\n",
    "    getNClusters(adata,n_cluster=num_clusters)\n",
    "    #kmeans\n",
    "    kmeans = KMeans(n_clusters=num_clusters, random_state=2019).fit(adata.X)\n",
    "    adata.obs['kmeans'] = pd.Series(kmeans.labels_,index=adata.obs.index).astype('category')\n",
    "    #hierachical clustering\n",
    "    hc = AgglomerativeClustering(n_clusters=num_clusters).fit(adata.X)\n",
    "    adata.obs['hc'] = pd.Series(hc.labels_,index=adata.obs.index).astype('category')\n",
    "    #clustering metrics\n",
    "    \n",
    "    #adjusted rank index\n",
    "    ari_louvain = adjusted_rand_score(adata.obs['label'], adata.obs['louvain'])\n",
    "    ari_kmeans = adjusted_rand_score(adata.obs['label'], adata.obs['kmeans'])\n",
    "    ari_hc = adjusted_rand_score(adata.obs['label'], adata.obs['hc'])\n",
    "    #adjusted mutual information\n",
    "    ami_louvain = adjusted_mutual_info_score(adata.obs['label'], adata.obs['louvain'],average_method='arithmetic')\n",
    "    ami_kmeans = adjusted_mutual_info_score(adata.obs['label'], adata.obs['kmeans'],average_method='arithmetic')   \n",
    "    ami_hc = adjusted_mutual_info_score(adata.obs['label'], adata.obs['hc'],average_method='arithmetic')\n",
    "    #homogeneity\n",
    "    homo_louvain = homogeneity_score(adata.obs['label'], adata.obs['louvain'])\n",
    "    homo_kmeans = homogeneity_score(adata.obs['label'], adata.obs['kmeans'])\n",
    "    homo_hc = homogeneity_score(adata.obs['label'], adata.obs['hc'])\n",
    "\n",
    "    df_metrics.loc[method,['ARI_Louvain','ARI_kmeans','ARI_HC']] = [ari_louvain,ari_kmeans,ari_hc]\n",
    "    df_metrics.loc[method,['AMI_Louvain','AMI_kmeans','AMI_HC']] = [ami_louvain,ami_kmeans,ami_hc]\n",
    "    df_metrics.loc[method,['Homogeneity_Louvain','Homogeneity_kmeans','Homogeneity_HC']] = [homo_louvain,homo_kmeans,homo_hc] \n",
    "    adata.obs[['louvain','kmeans','hc']].to_csv(os.path.join(path_clusters ,method + '_clusters.tsv'),sep='\\t')"
   ]
  },
  {
   "cell_type": "code",
   "execution_count": 9,
   "metadata": {},
   "outputs": [],
   "source": [
    "df_metrics.to_csv(path_metrics+'clustering_scores.csv')"
   ]
  },
  {
   "cell_type": "code",
   "execution_count": 10,
   "metadata": {},
   "outputs": [
    {
     "data": {
      "text/html": [
       "<div>\n",
       "<style scoped>\n",
       "    .dataframe tbody tr th:only-of-type {\n",
       "        vertical-align: middle;\n",
       "    }\n",
       "\n",
       "    .dataframe tbody tr th {\n",
       "        vertical-align: top;\n",
       "    }\n",
       "\n",
       "    .dataframe thead th {\n",
       "        text-align: right;\n",
       "    }\n",
       "</style>\n",
       "<table border=\"1\" class=\"dataframe\">\n",
       "  <thead>\n",
       "    <tr style=\"text-align: right;\">\n",
       "      <th></th>\n",
       "      <th>ARI_Louvain</th>\n",
       "      <th>ARI_kmeans</th>\n",
       "      <th>ARI_HC</th>\n",
       "      <th>AMI_Louvain</th>\n",
       "      <th>AMI_kmeans</th>\n",
       "      <th>AMI_HC</th>\n",
       "      <th>Homogeneity_Louvain</th>\n",
       "      <th>Homogeneity_kmeans</th>\n",
       "      <th>Homogeneity_HC</th>\n",
       "    </tr>\n",
       "  </thead>\n",
       "  <tbody>\n",
       "    <tr>\n",
       "      <th>control1</th>\n",
       "      <td>0.179826</td>\n",
       "      <td>0.0234096</td>\n",
       "      <td>0.0314772</td>\n",
       "      <td>0.349128</td>\n",
       "      <td>0.0308791</td>\n",
       "      <td>0.0587904</td>\n",
       "      <td>0.362356</td>\n",
       "      <td>0.0324073</td>\n",
       "      <td>0.0540063</td>\n",
       "    </tr>\n",
       "    <tr>\n",
       "      <th>control0.8</th>\n",
       "      <td>0.184579</td>\n",
       "      <td>0.0237831</td>\n",
       "      <td>0.0307318</td>\n",
       "      <td>0.359286</td>\n",
       "      <td>0.0303738</td>\n",
       "      <td>0.0430143</td>\n",
       "      <td>0.374674</td>\n",
       "      <td>0.0320713</td>\n",
       "      <td>0.0425482</td>\n",
       "    </tr>\n",
       "    <tr>\n",
       "      <th>control0.6</th>\n",
       "      <td>0.155217</td>\n",
       "      <td>0.0235592</td>\n",
       "      <td>0.0307015</td>\n",
       "      <td>0.326321</td>\n",
       "      <td>0.0304064</td>\n",
       "      <td>0.0511308</td>\n",
       "      <td>0.323207</td>\n",
       "      <td>0.0321229</td>\n",
       "      <td>0.0496051</td>\n",
       "    </tr>\n",
       "    <tr>\n",
       "      <th>control0.4</th>\n",
       "      <td>0.177913</td>\n",
       "      <td>0.0239339</td>\n",
       "      <td>0.0337733</td>\n",
       "      <td>0.341816</td>\n",
       "      <td>0.0307852</td>\n",
       "      <td>0.0462589</td>\n",
       "      <td>0.355844</td>\n",
       "      <td>0.0323914</td>\n",
       "      <td>0.0450193</td>\n",
       "    </tr>\n",
       "    <tr>\n",
       "      <th>control0.2</th>\n",
       "      <td>0.202547</td>\n",
       "      <td>0.023586</td>\n",
       "      <td>0.0142776</td>\n",
       "      <td>0.368849</td>\n",
       "      <td>0.0304841</td>\n",
       "      <td>0.0337555</td>\n",
       "      <td>0.385216</td>\n",
       "      <td>0.0320985</td>\n",
       "      <td>0.0336102</td>\n",
       "    </tr>\n",
       "    <tr>\n",
       "      <th>control0.1</th>\n",
       "      <td>0.129332</td>\n",
       "      <td>0.0225357</td>\n",
       "      <td>0.0287953</td>\n",
       "      <td>0.262057</td>\n",
       "      <td>0.0296458</td>\n",
       "      <td>0.0453993</td>\n",
       "      <td>0.277983</td>\n",
       "      <td>0.031451</td>\n",
       "      <td>0.044677</td>\n",
       "    </tr>\n",
       "    <tr>\n",
       "      <th>control0.08</th>\n",
       "      <td>0.109338</td>\n",
       "      <td>0.0228222</td>\n",
       "      <td>0.0269344</td>\n",
       "      <td>0.259776</td>\n",
       "      <td>0.0298796</td>\n",
       "      <td>0.0449112</td>\n",
       "      <td>0.272579</td>\n",
       "      <td>0.0315502</td>\n",
       "      <td>0.0438883</td>\n",
       "    </tr>\n",
       "    <tr>\n",
       "      <th>control0.06</th>\n",
       "      <td>0.0905568</td>\n",
       "      <td>0.0230422</td>\n",
       "      <td>0.020706</td>\n",
       "      <td>0.216378</td>\n",
       "      <td>0.03063</td>\n",
       "      <td>0.0376318</td>\n",
       "      <td>0.22989</td>\n",
       "      <td>0.0322339</td>\n",
       "      <td>0.0389597</td>\n",
       "    </tr>\n",
       "    <tr>\n",
       "      <th>control0.04</th>\n",
       "      <td>0.0735117</td>\n",
       "      <td>0.0230367</td>\n",
       "      <td>0.0162575</td>\n",
       "      <td>0.167065</td>\n",
       "      <td>0.0308381</td>\n",
       "      <td>0.0299546</td>\n",
       "      <td>0.18094</td>\n",
       "      <td>0.0324197</td>\n",
       "      <td>0.0312519</td>\n",
       "    </tr>\n",
       "    <tr>\n",
       "      <th>control0.02</th>\n",
       "      <td>0.0566538</td>\n",
       "      <td>0.0261131</td>\n",
       "      <td>0.0223988</td>\n",
       "      <td>0.115682</td>\n",
       "      <td>0.0369152</td>\n",
       "      <td>0.0433731</td>\n",
       "      <td>0.130052</td>\n",
       "      <td>0.0387592</td>\n",
       "      <td>0.0454232</td>\n",
       "    </tr>\n",
       "    <tr>\n",
       "      <th>control0.01</th>\n",
       "      <td>0.0428118</td>\n",
       "      <td>0.0264443</td>\n",
       "      <td>0.0278249</td>\n",
       "      <td>0.0876075</td>\n",
       "      <td>0.0379532</td>\n",
       "      <td>0.0424694</td>\n",
       "      <td>0.100025</td>\n",
       "      <td>0.042063</td>\n",
       "      <td>0.0433373</td>\n",
       "    </tr>\n",
       "  </tbody>\n",
       "</table>\n",
       "</div>"
      ],
      "text/plain": [
       "            ARI_Louvain ARI_kmeans     ARI_HC AMI_Louvain AMI_kmeans  \\\n",
       "control1       0.179826  0.0234096  0.0314772    0.349128  0.0308791   \n",
       "control0.8     0.184579  0.0237831  0.0307318    0.359286  0.0303738   \n",
       "control0.6     0.155217  0.0235592  0.0307015    0.326321  0.0304064   \n",
       "control0.4     0.177913  0.0239339  0.0337733    0.341816  0.0307852   \n",
       "control0.2     0.202547   0.023586  0.0142776    0.368849  0.0304841   \n",
       "control0.1     0.129332  0.0225357  0.0287953    0.262057  0.0296458   \n",
       "control0.08    0.109338  0.0228222  0.0269344    0.259776  0.0298796   \n",
       "control0.06   0.0905568  0.0230422   0.020706    0.216378    0.03063   \n",
       "control0.04   0.0735117  0.0230367  0.0162575    0.167065  0.0308381   \n",
       "control0.02   0.0566538  0.0261131  0.0223988    0.115682  0.0369152   \n",
       "control0.01   0.0428118  0.0264443  0.0278249   0.0876075  0.0379532   \n",
       "\n",
       "                AMI_HC Homogeneity_Louvain Homogeneity_kmeans Homogeneity_HC  \n",
       "control1     0.0587904            0.362356          0.0324073      0.0540063  \n",
       "control0.8   0.0430143            0.374674          0.0320713      0.0425482  \n",
       "control0.6   0.0511308            0.323207          0.0321229      0.0496051  \n",
       "control0.4   0.0462589            0.355844          0.0323914      0.0450193  \n",
       "control0.2   0.0337555            0.385216          0.0320985      0.0336102  \n",
       "control0.1   0.0453993            0.277983           0.031451       0.044677  \n",
       "control0.08  0.0449112            0.272579          0.0315502      0.0438883  \n",
       "control0.06  0.0376318             0.22989          0.0322339      0.0389597  \n",
       "control0.04  0.0299546             0.18094          0.0324197      0.0312519  \n",
       "control0.02  0.0433731            0.130052          0.0387592      0.0454232  \n",
       "control0.01  0.0424694            0.100025           0.042063      0.0433373  "
      ]
     },
     "execution_count": 10,
     "metadata": {},
     "output_type": "execute_result"
    }
   ],
   "source": [
    "df_metrics"
   ]
  },
  {
   "cell_type": "code",
   "execution_count": null,
   "metadata": {},
   "outputs": [],
   "source": []
  }
 ],
 "metadata": {
  "kernelspec": {
   "display_name": "Python [conda env:ATACseq_clustering]",
   "language": "python",
   "name": "conda-env-ATACseq_clustering-py"
  },
  "language_info": {
   "codemirror_mode": {
    "name": "ipython",
    "version": 3
   },
   "file_extension": ".py",
   "mimetype": "text/x-python",
   "name": "python",
   "nbconvert_exporter": "python",
   "pygments_lexer": "ipython3",
   "version": "3.7.3"
  }
 },
 "nbformat": 4,
 "nbformat_minor": 2
}
