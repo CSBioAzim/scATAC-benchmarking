{
 "cells": [
  {
   "cell_type": "code",
   "execution_count": 1,
   "metadata": {},
   "outputs": [],
   "source": [
    "import pandas as pd\n",
    "import numpy as np\n",
    "import scanpy as sc\n",
    "import os\n",
    "from sklearn.cluster import KMeans\n",
    "from sklearn.cluster import AgglomerativeClustering\n",
    "from sklearn.metrics.cluster import adjusted_rand_score\n",
    "from sklearn.metrics.cluster import adjusted_mutual_info_score\n",
    "from sklearn.metrics.cluster import homogeneity_score\n",
    "import rpy2.robjects as robjects\n",
    "from rpy2.robjects import pandas2ri"
   ]
  },
  {
   "cell_type": "code",
   "execution_count": 2,
   "metadata": {},
   "outputs": [],
   "source": [
    "df_metrics = pd.DataFrame(columns=['ARI_Louvain','ARI_kmeans','ARI_HC',\n",
    "                                   'AMI_Louvain','AMI_kmeans','AMI_HC',\n",
    "                                   'Homogeneity_Louvain','Homogeneity_kmeans','Homogeneity_HC'])"
   ]
  },
  {
   "cell_type": "code",
   "execution_count": 3,
   "metadata": {},
   "outputs": [
    {
     "data": {
      "text/plain": [
       "0"
      ]
     },
     "execution_count": 3,
     "metadata": {},
     "output_type": "execute_result"
    }
   ],
   "source": [
    "workdir = './output_new/'\n",
    "path_fm = os.path.join(workdir,'feature_matrices/')\n",
    "path_clusters = os.path.join(workdir,'clusters/')\n",
    "path_metrics = os.path.join(workdir,'metrics/')\n",
    "os.system('mkdir -p '+path_clusters)\n",
    "os.system('mkdir -p '+path_metrics)"
   ]
  },
  {
   "cell_type": "code",
   "execution_count": 4,
   "metadata": {},
   "outputs": [
    {
     "name": "stdout",
     "output_type": "stream",
     "text": [
      "10\n"
     ]
    }
   ],
   "source": [
    "metadata = pd.read_csv('../input/metadata.tsv',sep='\\t',index_col=0)\n",
    "num_clusters = len(np.unique(metadata['label']))\n",
    "print(num_clusters)"
   ]
  },
  {
   "cell_type": "code",
   "execution_count": 5,
   "metadata": {},
   "outputs": [
    {
     "data": {
      "text/plain": [
       "18"
      ]
     },
     "execution_count": 5,
     "metadata": {},
     "output_type": "execute_result"
    }
   ],
   "source": [
    "files = [x for x in os.listdir(path_fm) if x.startswith('fm')]\n",
    "len(files)"
   ]
  },
  {
   "cell_type": "code",
   "execution_count": 6,
   "metadata": {},
   "outputs": [
    {
     "data": {
      "text/plain": [
       "['fm_Control.rds',\n",
       " 'fm_Control_new.rds',\n",
       " 'fm_BROCKMAN.rds',\n",
       " 'fm_BROCKMAN_new.rds',\n",
       " 'fm_Cusanovich2018.rds',\n",
       " 'fm_Cusanovich2018_new.rds',\n",
       " 'fm_chromVAR_kmers2.rds',\n",
       " 'fm_chromVAR_kmers2_new.rds',\n",
       " 'fm_chromVAR_motifs2.rds',\n",
       " 'fm_chromVAR_motifs2_new.rds',\n",
       " 'fm_GeneScoring2.rds',\n",
       " 'fm_GeneScoring2_new.rds',\n",
       " 'fm_Cicero2.rds',\n",
       " 'fm_Cicero2_new.rds',\n",
       " 'fm_SnapATAC.rds',\n",
       " 'fm_SnapATAC_new.rds',\n",
       " 'fm_SCRAT2.rds',\n",
       " 'fm_SCRAT2_new.rds']"
      ]
     },
     "execution_count": 6,
     "metadata": {},
     "output_type": "execute_result"
    }
   ],
   "source": [
    "files"
   ]
  },
  {
   "cell_type": "code",
   "execution_count": 7,
   "metadata": {},
   "outputs": [],
   "source": [
    "def getNClusters(adata,n_cluster,range_min=0,range_max=3,max_steps=20):\n",
    "    this_step = 0\n",
    "    this_min = float(range_min)\n",
    "    this_max = float(range_max)\n",
    "    while this_step < max_steps:\n",
    "        print('step ' + str(this_step))\n",
    "        this_resolution = this_min + ((this_max-this_min)/2)\n",
    "        sc.tl.louvain(adata,resolution=this_resolution)\n",
    "        this_clusters = adata.obs['louvain'].nunique()\n",
    "        \n",
    "        print('got ' + str(this_clusters) + ' at resolution ' + str(this_resolution))\n",
    "        \n",
    "        if this_clusters > n_cluster:\n",
    "            this_max = this_resolution\n",
    "        elif this_clusters < n_cluster:\n",
    "            this_min = this_resolution\n",
    "        else:\n",
    "            return(this_resolution, adata)\n",
    "        this_step += 1\n",
    "    \n",
    "    print('Cannot find the number of clusters')\n",
    "    print('Clustering solution from last iteration is used:' + str(this_clusters) + ' at resolution ' + str(this_resolution))"
   ]
  },
  {
   "cell_type": "code",
   "execution_count": 8,
   "metadata": {
    "scrolled": false
   },
   "outputs": [
    {
     "name": "stdout",
     "output_type": "stream",
     "text": [
      "Control\n"
     ]
    },
    {
     "name": "stderr",
     "output_type": "stream",
     "text": [
      "/data/pinello/SHARED_SOFTWARE/anaconda3/envs/ATACseq_clustering/lib/python3.7/site-packages/rpy2/robjects/pandas2ri.py:191: FutureWarning: from_items is deprecated. Please use DataFrame.from_dict(dict(items), ...) instead. DataFrame.from_dict(OrderedDict(items)) may be used to preserve the key order.\n",
      "  res = PandasDataFrame.from_items(items)\n"
     ]
    },
    {
     "name": "stdout",
     "output_type": "stream",
     "text": [
      "step 0\n",
      "got 19 at resolution 1.5\n",
      "step 1\n",
      "got 12 at resolution 0.75\n",
      "step 2\n",
      "got 5 at resolution 0.375\n",
      "step 3\n",
      "got 10 at resolution 0.5625\n",
      "Control_new\n"
     ]
    },
    {
     "name": "stderr",
     "output_type": "stream",
     "text": [
      "/data/pinello/SHARED_SOFTWARE/anaconda3/envs/ATACseq_clustering/lib/python3.7/site-packages/rpy2/robjects/pandas2ri.py:191: FutureWarning: from_items is deprecated. Please use DataFrame.from_dict(dict(items), ...) instead. DataFrame.from_dict(OrderedDict(items)) may be used to preserve the key order.\n",
      "  res = PandasDataFrame.from_items(items)\n"
     ]
    },
    {
     "name": "stdout",
     "output_type": "stream",
     "text": [
      "step 0\n",
      "got 14 at resolution 1.5\n",
      "step 1\n",
      "got 9 at resolution 0.75\n",
      "step 2\n",
      "got 12 at resolution 1.125\n",
      "step 3\n",
      "got 10 at resolution 0.9375\n",
      "BROCKMAN\n"
     ]
    },
    {
     "name": "stderr",
     "output_type": "stream",
     "text": [
      "/data/pinello/SHARED_SOFTWARE/anaconda3/envs/ATACseq_clustering/lib/python3.7/site-packages/rpy2/robjects/pandas2ri.py:191: FutureWarning: from_items is deprecated. Please use DataFrame.from_dict(dict(items), ...) instead. DataFrame.from_dict(OrderedDict(items)) may be used to preserve the key order.\n",
      "  res = PandasDataFrame.from_items(items)\n"
     ]
    },
    {
     "name": "stdout",
     "output_type": "stream",
     "text": [
      "step 0\n",
      "got 18 at resolution 1.5\n",
      "step 1\n",
      "got 12 at resolution 0.75\n",
      "step 2\n",
      "got 7 at resolution 0.375\n",
      "step 3\n",
      "got 10 at resolution 0.5625\n",
      "BROCKMAN_new\n"
     ]
    },
    {
     "name": "stderr",
     "output_type": "stream",
     "text": [
      "/data/pinello/SHARED_SOFTWARE/anaconda3/envs/ATACseq_clustering/lib/python3.7/site-packages/rpy2/robjects/pandas2ri.py:191: FutureWarning: from_items is deprecated. Please use DataFrame.from_dict(dict(items), ...) instead. DataFrame.from_dict(OrderedDict(items)) may be used to preserve the key order.\n",
      "  res = PandasDataFrame.from_items(items)\n"
     ]
    },
    {
     "name": "stdout",
     "output_type": "stream",
     "text": [
      "step 0\n",
      "got 18 at resolution 1.5\n",
      "step 1\n",
      "got 11 at resolution 0.75\n",
      "step 2\n",
      "got 8 at resolution 0.375\n",
      "step 3\n",
      "got 10 at resolution 0.5625\n",
      "Cusanovich2018\n"
     ]
    },
    {
     "name": "stderr",
     "output_type": "stream",
     "text": [
      "/data/pinello/SHARED_SOFTWARE/anaconda3/envs/ATACseq_clustering/lib/python3.7/site-packages/rpy2/robjects/pandas2ri.py:191: FutureWarning: from_items is deprecated. Please use DataFrame.from_dict(dict(items), ...) instead. DataFrame.from_dict(OrderedDict(items)) may be used to preserve the key order.\n",
      "  res = PandasDataFrame.from_items(items)\n"
     ]
    },
    {
     "name": "stdout",
     "output_type": "stream",
     "text": [
      "step 0\n",
      "got 15 at resolution 1.5\n",
      "step 1\n",
      "got 11 at resolution 0.75\n",
      "step 2\n",
      "got 8 at resolution 0.375\n",
      "step 3\n",
      "got 9 at resolution 0.5625\n",
      "step 4\n",
      "got 10 at resolution 0.65625\n",
      "Cusanovich2018_new\n"
     ]
    },
    {
     "name": "stderr",
     "output_type": "stream",
     "text": [
      "/data/pinello/SHARED_SOFTWARE/anaconda3/envs/ATACseq_clustering/lib/python3.7/site-packages/rpy2/robjects/pandas2ri.py:191: FutureWarning: from_items is deprecated. Please use DataFrame.from_dict(dict(items), ...) instead. DataFrame.from_dict(OrderedDict(items)) may be used to preserve the key order.\n",
      "  res = PandasDataFrame.from_items(items)\n"
     ]
    },
    {
     "name": "stdout",
     "output_type": "stream",
     "text": [
      "step 0\n",
      "got 15 at resolution 1.5\n",
      "step 1\n",
      "got 10 at resolution 0.75\n",
      "chromVAR_kmers_pca\n"
     ]
    },
    {
     "name": "stderr",
     "output_type": "stream",
     "text": [
      "/data/pinello/SHARED_SOFTWARE/anaconda3/envs/ATACseq_clustering/lib/python3.7/site-packages/rpy2/robjects/pandas2ri.py:191: FutureWarning: from_items is deprecated. Please use DataFrame.from_dict(dict(items), ...) instead. DataFrame.from_dict(OrderedDict(items)) may be used to preserve the key order.\n",
      "  res = PandasDataFrame.from_items(items)\n"
     ]
    },
    {
     "name": "stdout",
     "output_type": "stream",
     "text": [
      "step 0\n",
      "got 11 at resolution 1.5\n",
      "step 1\n",
      "got 8 at resolution 0.75\n",
      "step 2\n",
      "got 9 at resolution 1.125\n",
      "step 3\n",
      "got 11 at resolution 1.3125\n",
      "step 4\n",
      "got 10 at resolution 1.21875\n",
      "chromVAR_kmers_pcanew\n"
     ]
    },
    {
     "name": "stderr",
     "output_type": "stream",
     "text": [
      "/data/pinello/SHARED_SOFTWARE/anaconda3/envs/ATACseq_clustering/lib/python3.7/site-packages/rpy2/robjects/pandas2ri.py:191: FutureWarning: from_items is deprecated. Please use DataFrame.from_dict(dict(items), ...) instead. DataFrame.from_dict(OrderedDict(items)) may be used to preserve the key order.\n",
      "  res = PandasDataFrame.from_items(items)\n"
     ]
    },
    {
     "name": "stdout",
     "output_type": "stream",
     "text": [
      "step 0\n",
      "got 11 at resolution 1.5\n",
      "step 1\n",
      "got 7 at resolution 0.75\n",
      "step 2\n",
      "got 9 at resolution 1.125\n",
      "step 3\n",
      "got 9 at resolution 1.3125\n",
      "step 4\n",
      "got 9 at resolution 1.40625\n",
      "step 5\n",
      "got 9 at resolution 1.453125\n",
      "step 6\n",
      "got 9 at resolution 1.4765625\n",
      "step 7\n",
      "got 9 at resolution 1.48828125\n",
      "step 8\n",
      "got 10 at resolution 1.494140625\n",
      "chromVAR_motifs_pca\n"
     ]
    },
    {
     "name": "stderr",
     "output_type": "stream",
     "text": [
      "/data/pinello/SHARED_SOFTWARE/anaconda3/envs/ATACseq_clustering/lib/python3.7/site-packages/rpy2/robjects/pandas2ri.py:191: FutureWarning: from_items is deprecated. Please use DataFrame.from_dict(dict(items), ...) instead. DataFrame.from_dict(OrderedDict(items)) may be used to preserve the key order.\n",
      "  res = PandasDataFrame.from_items(items)\n"
     ]
    },
    {
     "name": "stdout",
     "output_type": "stream",
     "text": [
      "step 0\n",
      "got 9 at resolution 1.5\n",
      "step 1\n",
      "got 13 at resolution 2.25\n",
      "step 2\n",
      "got 11 at resolution 1.875\n",
      "step 3\n",
      "got 11 at resolution 1.6875\n",
      "step 4\n",
      "got 11 at resolution 1.59375\n",
      "step 5\n",
      "got 11 at resolution 1.546875\n",
      "step 6\n",
      "got 11 at resolution 1.5234375\n",
      "step 7\n",
      "got 10 at resolution 1.51171875\n",
      "chromVAR_motifs_pcanew\n"
     ]
    },
    {
     "name": "stderr",
     "output_type": "stream",
     "text": [
      "/data/pinello/SHARED_SOFTWARE/anaconda3/envs/ATACseq_clustering/lib/python3.7/site-packages/rpy2/robjects/pandas2ri.py:191: FutureWarning: from_items is deprecated. Please use DataFrame.from_dict(dict(items), ...) instead. DataFrame.from_dict(OrderedDict(items)) may be used to preserve the key order.\n",
      "  res = PandasDataFrame.from_items(items)\n"
     ]
    },
    {
     "name": "stdout",
     "output_type": "stream",
     "text": [
      "step 0\n",
      "got 10 at resolution 1.5\n",
      "GeneScoring2\n"
     ]
    },
    {
     "name": "stderr",
     "output_type": "stream",
     "text": [
      "/data/pinello/SHARED_SOFTWARE/anaconda3/envs/ATACseq_clustering/lib/python3.7/site-packages/rpy2/robjects/pandas2ri.py:191: FutureWarning: from_items is deprecated. Please use DataFrame.from_dict(dict(items), ...) instead. DataFrame.from_dict(OrderedDict(items)) may be used to preserve the key order.\n",
      "  res = PandasDataFrame.from_items(items)\n"
     ]
    },
    {
     "name": "stdout",
     "output_type": "stream",
     "text": [
      "step 0\n",
      "got 16 at resolution 1.5\n",
      "step 1\n",
      "got 7 at resolution 0.75\n",
      "step 2\n",
      "got 12 at resolution 1.125\n",
      "step 3\n",
      "got 10 at resolution 0.9375\n",
      "GeneScoring2_new\n"
     ]
    },
    {
     "name": "stderr",
     "output_type": "stream",
     "text": [
      "/data/pinello/SHARED_SOFTWARE/anaconda3/envs/ATACseq_clustering/lib/python3.7/site-packages/rpy2/robjects/pandas2ri.py:191: FutureWarning: from_items is deprecated. Please use DataFrame.from_dict(dict(items), ...) instead. DataFrame.from_dict(OrderedDict(items)) may be used to preserve the key order.\n",
      "  res = PandasDataFrame.from_items(items)\n"
     ]
    },
    {
     "name": "stdout",
     "output_type": "stream",
     "text": [
      "step 0\n",
      "got 11 at resolution 1.5\n",
      "step 1\n",
      "got 6 at resolution 0.75\n",
      "step 2\n",
      "got 10 at resolution 1.125\n",
      "Cicero2\n"
     ]
    },
    {
     "name": "stderr",
     "output_type": "stream",
     "text": [
      "/data/pinello/SHARED_SOFTWARE/anaconda3/envs/ATACseq_clustering/lib/python3.7/site-packages/rpy2/robjects/pandas2ri.py:191: FutureWarning: from_items is deprecated. Please use DataFrame.from_dict(dict(items), ...) instead. DataFrame.from_dict(OrderedDict(items)) may be used to preserve the key order.\n",
      "  res = PandasDataFrame.from_items(items)\n"
     ]
    },
    {
     "name": "stdout",
     "output_type": "stream",
     "text": [
      "step 0\n",
      "got 10 at resolution 1.5\n",
      "Cicero2_new\n"
     ]
    },
    {
     "name": "stderr",
     "output_type": "stream",
     "text": [
      "/data/pinello/SHARED_SOFTWARE/anaconda3/envs/ATACseq_clustering/lib/python3.7/site-packages/rpy2/robjects/pandas2ri.py:191: FutureWarning: from_items is deprecated. Please use DataFrame.from_dict(dict(items), ...) instead. DataFrame.from_dict(OrderedDict(items)) may be used to preserve the key order.\n",
      "  res = PandasDataFrame.from_items(items)\n"
     ]
    },
    {
     "name": "stdout",
     "output_type": "stream",
     "text": [
      "step 0\n",
      "got 10 at resolution 1.5\n",
      "SnapATAC\n"
     ]
    },
    {
     "name": "stderr",
     "output_type": "stream",
     "text": [
      "/data/pinello/SHARED_SOFTWARE/anaconda3/envs/ATACseq_clustering/lib/python3.7/site-packages/rpy2/robjects/pandas2ri.py:191: FutureWarning: from_items is deprecated. Please use DataFrame.from_dict(dict(items), ...) instead. DataFrame.from_dict(OrderedDict(items)) may be used to preserve the key order.\n",
      "  res = PandasDataFrame.from_items(items)\n"
     ]
    },
    {
     "name": "stdout",
     "output_type": "stream",
     "text": [
      "step 0\n",
      "got 22 at resolution 1.5\n",
      "step 1\n",
      "got 16 at resolution 0.75\n",
      "step 2\n",
      "got 15 at resolution 0.375\n",
      "step 3\n",
      "got 10 at resolution 0.1875\n",
      "SnapATAC_new\n"
     ]
    },
    {
     "name": "stderr",
     "output_type": "stream",
     "text": [
      "/data/pinello/SHARED_SOFTWARE/anaconda3/envs/ATACseq_clustering/lib/python3.7/site-packages/rpy2/robjects/pandas2ri.py:191: FutureWarning: from_items is deprecated. Please use DataFrame.from_dict(dict(items), ...) instead. DataFrame.from_dict(OrderedDict(items)) may be used to preserve the key order.\n",
      "  res = PandasDataFrame.from_items(items)\n"
     ]
    },
    {
     "name": "stdout",
     "output_type": "stream",
     "text": [
      "step 0\n",
      "got 22 at resolution 1.5\n",
      "step 1\n",
      "got 17 at resolution 0.75\n",
      "step 2\n",
      "got 15 at resolution 0.375\n",
      "step 3\n",
      "got 9 at resolution 0.1875\n",
      "step 4\n",
      "got 13 at resolution 0.28125\n",
      "step 5\n",
      "got 12 at resolution 0.234375\n",
      "step 6\n",
      "got 11 at resolution 0.2109375\n",
      "step 7\n",
      "got 11 at resolution 0.19921875\n",
      "step 8\n",
      "got 10 at resolution 0.193359375\n",
      "SCRAT2\n"
     ]
    },
    {
     "name": "stderr",
     "output_type": "stream",
     "text": [
      "/data/pinello/SHARED_SOFTWARE/anaconda3/envs/ATACseq_clustering/lib/python3.7/site-packages/rpy2/robjects/pandas2ri.py:191: FutureWarning: from_items is deprecated. Please use DataFrame.from_dict(dict(items), ...) instead. DataFrame.from_dict(OrderedDict(items)) may be used to preserve the key order.\n",
      "  res = PandasDataFrame.from_items(items)\n"
     ]
    },
    {
     "name": "stdout",
     "output_type": "stream",
     "text": [
      "step 0\n",
      "got 18 at resolution 1.5\n",
      "step 1\n",
      "got 9 at resolution 0.75\n",
      "step 2\n",
      "got 15 at resolution 1.125\n",
      "step 3\n",
      "got 13 at resolution 0.9375\n",
      "step 4\n",
      "got 13 at resolution 0.84375\n",
      "step 5\n",
      "got 9 at resolution 0.796875\n",
      "step 6\n",
      "got 12 at resolution 0.8203125\n",
      "step 7\n",
      "got 10 at resolution 0.80859375\n",
      "SCRAT2_new\n"
     ]
    },
    {
     "name": "stderr",
     "output_type": "stream",
     "text": [
      "/data/pinello/SHARED_SOFTWARE/anaconda3/envs/ATACseq_clustering/lib/python3.7/site-packages/rpy2/robjects/pandas2ri.py:191: FutureWarning: from_items is deprecated. Please use DataFrame.from_dict(dict(items), ...) instead. DataFrame.from_dict(OrderedDict(items)) may be used to preserve the key order.\n",
      "  res = PandasDataFrame.from_items(items)\n"
     ]
    },
    {
     "name": "stdout",
     "output_type": "stream",
     "text": [
      "step 0\n",
      "got 17 at resolution 1.5\n",
      "step 1\n",
      "got 10 at resolution 0.75\n"
     ]
    }
   ],
   "source": [
    "for file in files:\n",
    "    file_split = file[:-4].split('_')\n",
    "    method = file_split[1]\n",
    "    if(len(file_split)>2):\n",
    "        method = method + '_'+''.join(file_split[2:]).replace('2','_pca')\n",
    "    print(method)\n",
    "\n",
    "    pandas2ri.activate()\n",
    "    readRDS = robjects.r['readRDS']\n",
    "    df_rds = readRDS(os.path.join(path_fm,file))\n",
    "    fm_mat = pandas2ri.ri2py(robjects.r['data.frame'](robjects.r['as.matrix'](df_rds)))\n",
    "    fm_mat.fillna(0,inplace=True)\n",
    "    fm_mat.columns = metadata.index\n",
    "    \n",
    "    adata = sc.AnnData(fm_mat.T)\n",
    "    adata.var_names_make_unique()\n",
    "    adata.obs = metadata.loc[adata.obs.index,]\n",
    "    df_metrics.loc[method,] = \"\"\n",
    "    #Louvain\n",
    "    sc.pp.neighbors(adata, n_neighbors=15,use_rep='X')\n",
    "#     sc.tl.louvain(adata)\n",
    "    getNClusters(adata,n_cluster=num_clusters)\n",
    "    #kmeans\n",
    "    kmeans = KMeans(n_clusters=num_clusters, random_state=2019).fit(adata.X)\n",
    "    adata.obs['kmeans'] = pd.Series(kmeans.labels_,index=adata.obs.index).astype('category')\n",
    "    #hierachical clustering\n",
    "    hc = AgglomerativeClustering(n_clusters=num_clusters).fit(adata.X)\n",
    "    adata.obs['hc'] = pd.Series(hc.labels_,index=adata.obs.index).astype('category')\n",
    "    #clustering metrics\n",
    "    \n",
    "    #adjusted rank index\n",
    "    ari_louvain = adjusted_rand_score(adata.obs['label'], adata.obs['louvain'])\n",
    "    ari_kmeans = adjusted_rand_score(adata.obs['label'], adata.obs['kmeans'])\n",
    "    ari_hc = adjusted_rand_score(adata.obs['label'], adata.obs['hc'])\n",
    "    #adjusted mutual information\n",
    "    ami_louvain = adjusted_mutual_info_score(adata.obs['label'], adata.obs['louvain'],average_method='arithmetic')\n",
    "    ami_kmeans = adjusted_mutual_info_score(adata.obs['label'], adata.obs['kmeans'],average_method='arithmetic')   \n",
    "    ami_hc = adjusted_mutual_info_score(adata.obs['label'], adata.obs['hc'],average_method='arithmetic')\n",
    "    #homogeneity\n",
    "    homo_louvain = homogeneity_score(adata.obs['label'], adata.obs['louvain'])\n",
    "    homo_kmeans = homogeneity_score(adata.obs['label'], adata.obs['kmeans'])\n",
    "    homo_hc = homogeneity_score(adata.obs['label'], adata.obs['hc'])\n",
    "\n",
    "    df_metrics.loc[method,['ARI_Louvain','ARI_kmeans','ARI_HC']] = [ari_louvain,ari_kmeans,ari_hc]\n",
    "    df_metrics.loc[method,['AMI_Louvain','AMI_kmeans','AMI_HC']] = [ami_louvain,ami_kmeans,ami_hc]\n",
    "    df_metrics.loc[method,['Homogeneity_Louvain','Homogeneity_kmeans','Homogeneity_HC']] = [homo_louvain,homo_kmeans,homo_hc] \n",
    "    adata.obs[['louvain','kmeans','hc']].to_csv(os.path.join(path_clusters ,method + '_clusters.tsv'),sep='\\t')"
   ]
  },
  {
   "cell_type": "code",
   "execution_count": 9,
   "metadata": {},
   "outputs": [],
   "source": [
    "df_metrics.to_csv(path_metrics+'clustering_scores.csv')"
   ]
  },
  {
   "cell_type": "code",
   "execution_count": 10,
   "metadata": {},
   "outputs": [
    {
     "data": {
      "text/html": [
       "<div>\n",
       "<style scoped>\n",
       "    .dataframe tbody tr th:only-of-type {\n",
       "        vertical-align: middle;\n",
       "    }\n",
       "\n",
       "    .dataframe tbody tr th {\n",
       "        vertical-align: top;\n",
       "    }\n",
       "\n",
       "    .dataframe thead th {\n",
       "        text-align: right;\n",
       "    }\n",
       "</style>\n",
       "<table border=\"1\" class=\"dataframe\">\n",
       "  <thead>\n",
       "    <tr style=\"text-align: right;\">\n",
       "      <th></th>\n",
       "      <th>ARI_Louvain</th>\n",
       "      <th>ARI_kmeans</th>\n",
       "      <th>ARI_HC</th>\n",
       "      <th>AMI_Louvain</th>\n",
       "      <th>AMI_kmeans</th>\n",
       "      <th>AMI_HC</th>\n",
       "      <th>Homogeneity_Louvain</th>\n",
       "      <th>Homogeneity_kmeans</th>\n",
       "      <th>Homogeneity_HC</th>\n",
       "    </tr>\n",
       "  </thead>\n",
       "  <tbody>\n",
       "    <tr>\n",
       "      <th>Control</th>\n",
       "      <td>0.182422</td>\n",
       "      <td>0.0137586</td>\n",
       "      <td>0.0344167</td>\n",
       "      <td>0.372463</td>\n",
       "      <td>0.024063</td>\n",
       "      <td>0.0449997</td>\n",
       "      <td>0.384145</td>\n",
       "      <td>0.0242291</td>\n",
       "      <td>0.044414</td>\n",
       "    </tr>\n",
       "    <tr>\n",
       "      <th>Control_new</th>\n",
       "      <td>0.341632</td>\n",
       "      <td>0.0644169</td>\n",
       "      <td>0.0509295</td>\n",
       "      <td>0.515555</td>\n",
       "      <td>0.223223</td>\n",
       "      <td>0.199813</td>\n",
       "      <td>0.531536</td>\n",
       "      <td>0.17637</td>\n",
       "      <td>0.118999</td>\n",
       "    </tr>\n",
       "    <tr>\n",
       "      <th>BROCKMAN</th>\n",
       "      <td>0.115213</td>\n",
       "      <td>0.0329884</td>\n",
       "      <td>0.0353507</td>\n",
       "      <td>0.261593</td>\n",
       "      <td>0.103987</td>\n",
       "      <td>0.119018</td>\n",
       "      <td>0.274468</td>\n",
       "      <td>0.115736</td>\n",
       "      <td>0.131517</td>\n",
       "    </tr>\n",
       "    <tr>\n",
       "      <th>BROCKMAN_new</th>\n",
       "      <td>0.212068</td>\n",
       "      <td>0.132393</td>\n",
       "      <td>0.120123</td>\n",
       "      <td>0.392578</td>\n",
       "      <td>0.267385</td>\n",
       "      <td>0.253048</td>\n",
       "      <td>0.408518</td>\n",
       "      <td>0.269279</td>\n",
       "      <td>0.255607</td>\n",
       "    </tr>\n",
       "    <tr>\n",
       "      <th>Cusanovich2018</th>\n",
       "      <td>0.533643</td>\n",
       "      <td>-0.00194164</td>\n",
       "      <td>-0.00194164</td>\n",
       "      <td>0.663841</td>\n",
       "      <td>-0.00278841</td>\n",
       "      <td>-0.00278841</td>\n",
       "      <td>0.680403</td>\n",
       "      <td>0.00302188</td>\n",
       "      <td>0.00302188</td>\n",
       "    </tr>\n",
       "    <tr>\n",
       "      <th>Cusanovich2018_new</th>\n",
       "      <td>0.528593</td>\n",
       "      <td>-0.00194164</td>\n",
       "      <td>-0.00194164</td>\n",
       "      <td>0.6594</td>\n",
       "      <td>-0.00278841</td>\n",
       "      <td>-0.00278841</td>\n",
       "      <td>0.676079</td>\n",
       "      <td>0.00302188</td>\n",
       "      <td>0.00302188</td>\n",
       "    </tr>\n",
       "    <tr>\n",
       "      <th>chromVAR_kmers_pca</th>\n",
       "      <td>0.443234</td>\n",
       "      <td>0.262985</td>\n",
       "      <td>0.270338</td>\n",
       "      <td>0.56954</td>\n",
       "      <td>0.420358</td>\n",
       "      <td>0.434644</td>\n",
       "      <td>0.590846</td>\n",
       "      <td>0.377882</td>\n",
       "      <td>0.386469</td>\n",
       "    </tr>\n",
       "    <tr>\n",
       "      <th>chromVAR_kmers_pcanew</th>\n",
       "      <td>0.306888</td>\n",
       "      <td>0.170346</td>\n",
       "      <td>0.049337</td>\n",
       "      <td>0.461563</td>\n",
       "      <td>0.287678</td>\n",
       "      <td>0.0853234</td>\n",
       "      <td>0.479484</td>\n",
       "      <td>0.241079</td>\n",
       "      <td>0.0623269</td>\n",
       "    </tr>\n",
       "    <tr>\n",
       "      <th>chromVAR_motifs_pca</th>\n",
       "      <td>0.308443</td>\n",
       "      <td>0.256185</td>\n",
       "      <td>0.294866</td>\n",
       "      <td>0.516459</td>\n",
       "      <td>0.410229</td>\n",
       "      <td>0.43911</td>\n",
       "      <td>0.534353</td>\n",
       "      <td>0.407546</td>\n",
       "      <td>0.412825</td>\n",
       "    </tr>\n",
       "    <tr>\n",
       "      <th>chromVAR_motifs_pcanew</th>\n",
       "      <td>0.233923</td>\n",
       "      <td>0.161979</td>\n",
       "      <td>0.120613</td>\n",
       "      <td>0.414829</td>\n",
       "      <td>0.334581</td>\n",
       "      <td>0.279056</td>\n",
       "      <td>0.432391</td>\n",
       "      <td>0.328071</td>\n",
       "      <td>0.236596</td>\n",
       "    </tr>\n",
       "    <tr>\n",
       "      <th>GeneScoring2</th>\n",
       "      <td>0.0306601</td>\n",
       "      <td>0.024873</td>\n",
       "      <td>0.0135162</td>\n",
       "      <td>0.0951604</td>\n",
       "      <td>0.0362062</td>\n",
       "      <td>0.0298817</td>\n",
       "      <td>0.107238</td>\n",
       "      <td>0.0395731</td>\n",
       "      <td>0.0322586</td>\n",
       "    </tr>\n",
       "    <tr>\n",
       "      <th>GeneScoring2_new</th>\n",
       "      <td>0.125347</td>\n",
       "      <td>0.0236214</td>\n",
       "      <td>0.0366616</td>\n",
       "      <td>0.24114</td>\n",
       "      <td>0.0911146</td>\n",
       "      <td>0.123511</td>\n",
       "      <td>0.256957</td>\n",
       "      <td>0.070697</td>\n",
       "      <td>0.0963143</td>\n",
       "    </tr>\n",
       "    <tr>\n",
       "      <th>Cicero2</th>\n",
       "      <td>0.211067</td>\n",
       "      <td>-0.00194164</td>\n",
       "      <td>-0.00215327</td>\n",
       "      <td>0.37366</td>\n",
       "      <td>-0.00278841</td>\n",
       "      <td>-0.00253554</td>\n",
       "      <td>0.397431</td>\n",
       "      <td>0.00302188</td>\n",
       "      <td>0.00335946</td>\n",
       "    </tr>\n",
       "    <tr>\n",
       "      <th>Cicero2_new</th>\n",
       "      <td>0.231863</td>\n",
       "      <td>-0.00194164</td>\n",
       "      <td>-0.00215327</td>\n",
       "      <td>0.382335</td>\n",
       "      <td>-0.00278841</td>\n",
       "      <td>-0.00253554</td>\n",
       "      <td>0.405742</td>\n",
       "      <td>0.00302188</td>\n",
       "      <td>0.00335946</td>\n",
       "    </tr>\n",
       "    <tr>\n",
       "      <th>SnapATAC</th>\n",
       "      <td>0.420341</td>\n",
       "      <td>0.353299</td>\n",
       "      <td>0.443056</td>\n",
       "      <td>0.684499</td>\n",
       "      <td>0.605017</td>\n",
       "      <td>0.689081</td>\n",
       "      <td>0.652815</td>\n",
       "      <td>0.589645</td>\n",
       "      <td>0.645974</td>\n",
       "    </tr>\n",
       "    <tr>\n",
       "      <th>SnapATAC_new</th>\n",
       "      <td>0.436008</td>\n",
       "      <td>0.400251</td>\n",
       "      <td>0.175436</td>\n",
       "      <td>0.647467</td>\n",
       "      <td>0.618022</td>\n",
       "      <td>0.535004</td>\n",
       "      <td>0.64692</td>\n",
       "      <td>0.605767</td>\n",
       "      <td>0.458042</td>\n",
       "    </tr>\n",
       "    <tr>\n",
       "      <th>SCRAT2</th>\n",
       "      <td>0.0441418</td>\n",
       "      <td>0.0392368</td>\n",
       "      <td>0.0433118</td>\n",
       "      <td>0.114929</td>\n",
       "      <td>0.0989591</td>\n",
       "      <td>0.115728</td>\n",
       "      <td>0.126979</td>\n",
       "      <td>0.112535</td>\n",
       "      <td>0.129509</td>\n",
       "    </tr>\n",
       "    <tr>\n",
       "      <th>SCRAT2_new</th>\n",
       "      <td>0.174417</td>\n",
       "      <td>0.0808997</td>\n",
       "      <td>0.0720866</td>\n",
       "      <td>0.318384</td>\n",
       "      <td>0.189744</td>\n",
       "      <td>0.199101</td>\n",
       "      <td>0.338395</td>\n",
       "      <td>0.201992</td>\n",
       "      <td>0.204112</td>\n",
       "    </tr>\n",
       "  </tbody>\n",
       "</table>\n",
       "</div>"
      ],
      "text/plain": [
       "                       ARI_Louvain  ARI_kmeans      ARI_HC AMI_Louvain  \\\n",
       "Control                   0.182422   0.0137586   0.0344167    0.372463   \n",
       "Control_new               0.341632   0.0644169   0.0509295    0.515555   \n",
       "BROCKMAN                  0.115213   0.0329884   0.0353507    0.261593   \n",
       "BROCKMAN_new              0.212068    0.132393    0.120123    0.392578   \n",
       "Cusanovich2018            0.533643 -0.00194164 -0.00194164    0.663841   \n",
       "Cusanovich2018_new        0.528593 -0.00194164 -0.00194164      0.6594   \n",
       "chromVAR_kmers_pca        0.443234    0.262985    0.270338     0.56954   \n",
       "chromVAR_kmers_pcanew     0.306888    0.170346    0.049337    0.461563   \n",
       "chromVAR_motifs_pca       0.308443    0.256185    0.294866    0.516459   \n",
       "chromVAR_motifs_pcanew    0.233923    0.161979    0.120613    0.414829   \n",
       "GeneScoring2             0.0306601    0.024873   0.0135162   0.0951604   \n",
       "GeneScoring2_new          0.125347   0.0236214   0.0366616     0.24114   \n",
       "Cicero2                   0.211067 -0.00194164 -0.00215327     0.37366   \n",
       "Cicero2_new               0.231863 -0.00194164 -0.00215327    0.382335   \n",
       "SnapATAC                  0.420341    0.353299    0.443056    0.684499   \n",
       "SnapATAC_new              0.436008    0.400251    0.175436    0.647467   \n",
       "SCRAT2                   0.0441418   0.0392368   0.0433118    0.114929   \n",
       "SCRAT2_new                0.174417   0.0808997   0.0720866    0.318384   \n",
       "\n",
       "                        AMI_kmeans      AMI_HC Homogeneity_Louvain  \\\n",
       "Control                   0.024063   0.0449997            0.384145   \n",
       "Control_new               0.223223    0.199813            0.531536   \n",
       "BROCKMAN                  0.103987    0.119018            0.274468   \n",
       "BROCKMAN_new              0.267385    0.253048            0.408518   \n",
       "Cusanovich2018         -0.00278841 -0.00278841            0.680403   \n",
       "Cusanovich2018_new     -0.00278841 -0.00278841            0.676079   \n",
       "chromVAR_kmers_pca        0.420358    0.434644            0.590846   \n",
       "chromVAR_kmers_pcanew     0.287678   0.0853234            0.479484   \n",
       "chromVAR_motifs_pca       0.410229     0.43911            0.534353   \n",
       "chromVAR_motifs_pcanew    0.334581    0.279056            0.432391   \n",
       "GeneScoring2             0.0362062   0.0298817            0.107238   \n",
       "GeneScoring2_new         0.0911146    0.123511            0.256957   \n",
       "Cicero2                -0.00278841 -0.00253554            0.397431   \n",
       "Cicero2_new            -0.00278841 -0.00253554            0.405742   \n",
       "SnapATAC                  0.605017    0.689081            0.652815   \n",
       "SnapATAC_new              0.618022    0.535004             0.64692   \n",
       "SCRAT2                   0.0989591    0.115728            0.126979   \n",
       "SCRAT2_new                0.189744    0.199101            0.338395   \n",
       "\n",
       "                       Homogeneity_kmeans Homogeneity_HC  \n",
       "Control                         0.0242291       0.044414  \n",
       "Control_new                       0.17637       0.118999  \n",
       "BROCKMAN                         0.115736       0.131517  \n",
       "BROCKMAN_new                     0.269279       0.255607  \n",
       "Cusanovich2018                 0.00302188     0.00302188  \n",
       "Cusanovich2018_new             0.00302188     0.00302188  \n",
       "chromVAR_kmers_pca               0.377882       0.386469  \n",
       "chromVAR_kmers_pcanew            0.241079      0.0623269  \n",
       "chromVAR_motifs_pca              0.407546       0.412825  \n",
       "chromVAR_motifs_pcanew           0.328071       0.236596  \n",
       "GeneScoring2                    0.0395731      0.0322586  \n",
       "GeneScoring2_new                 0.070697      0.0963143  \n",
       "Cicero2                        0.00302188     0.00335946  \n",
       "Cicero2_new                    0.00302188     0.00335946  \n",
       "SnapATAC                         0.589645       0.645974  \n",
       "SnapATAC_new                     0.605767       0.458042  \n",
       "SCRAT2                           0.112535       0.129509  \n",
       "SCRAT2_new                       0.201992       0.204112  "
      ]
     },
     "execution_count": 10,
     "metadata": {},
     "output_type": "execute_result"
    }
   ],
   "source": [
    "df_metrics"
   ]
  },
  {
   "cell_type": "code",
   "execution_count": null,
   "metadata": {},
   "outputs": [],
   "source": []
  }
 ],
 "metadata": {
  "kernelspec": {
   "display_name": "Python [conda env:ATACseq_clustering]",
   "language": "python",
   "name": "conda-env-ATACseq_clustering-py"
  },
  "language_info": {
   "codemirror_mode": {
    "name": "ipython",
    "version": 3
   },
   "file_extension": ".py",
   "mimetype": "text/x-python",
   "name": "python",
   "nbconvert_exporter": "python",
   "pygments_lexer": "ipython3",
   "version": "3.7.3"
  }
 },
 "nbformat": 4,
 "nbformat_minor": 2
}
