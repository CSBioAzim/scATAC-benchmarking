{
 "cells": [
  {
   "cell_type": "code",
   "execution_count": 109,
   "metadata": {},
   "outputs": [],
   "source": [
    "library(gplots)\n",
    "library(data.table)\n",
    "library(tidyverse)\n",
    "library(RColorBrewer)\n",
    "library(ggplot2)\n",
    "library(dplyr)"
   ]
  },
  {
   "cell_type": "code",
   "execution_count": 261,
   "metadata": {},
   "outputs": [
    {
     "data": {
      "text/html": [
       "<table>\n",
       "<thead><tr><th scope=col>V1</th><th scope=col>ARI_Louvain</th><th scope=col>ARI_kmeans</th><th scope=col>ARI_HC</th><th scope=col>AMI_Louvain</th><th scope=col>AMI_kmeans</th><th scope=col>AMI_HC</th><th scope=col>Homogeneity_Louvain</th><th scope=col>Homogeneity_kmeans</th><th scope=col>Homogeneity_HC</th></tr></thead>\n",
       "<tbody>\n",
       "\t<tr><td>SnapATAC             </td><td>0.42034078           </td><td>0.35329865           </td><td>0.44305614           </td><td>0.68449885           </td><td>0.60501744           </td><td>0.68908066           </td><td>0.65281466           </td><td>0.58964496           </td><td>0.64597427           </td></tr>\n",
       "\t<tr><td>SCRAT_motifs         </td><td>0.05158738           </td><td>0.04059899           </td><td>0.03804919           </td><td>0.14000829           </td><td>0.10185238           </td><td>0.10456051           </td><td>0.15407489           </td><td>0.11502550           </td><td>0.11699891           </td></tr>\n",
       "\t<tr><td>SnapATAC_no_blacklist</td><td>0.44152593           </td><td>0.41273798           </td><td>0.34699914           </td><td>0.65623412           </td><td>0.64621650           </td><td>0.63376540           </td><td>0.65460171           </td><td>0.60922823           </td><td>0.57744746           </td></tr>\n",
       "\t<tr><td>SCRAT_no_blacklist   </td><td>0.01003097           </td><td>0.02221118           </td><td>0.03032221           </td><td>0.05231552           </td><td>0.04260793           </td><td>0.04977554           </td><td>0.06289825           </td><td>0.05333733           </td><td>0.05998703           </td></tr>\n",
       "</tbody>\n",
       "</table>\n"
      ],
      "text/latex": [
       "\\begin{tabular}{r|llllllllll}\n",
       " V1 & ARI\\_Louvain & ARI\\_kmeans & ARI\\_HC & AMI\\_Louvain & AMI\\_kmeans & AMI\\_HC & Homogeneity\\_Louvain & Homogeneity\\_kmeans & Homogeneity\\_HC\\\\\n",
       "\\hline\n",
       "\t SnapATAC              & 0.42034078            & 0.35329865            & 0.44305614            & 0.68449885            & 0.60501744            & 0.68908066            & 0.65281466            & 0.58964496            & 0.64597427           \\\\\n",
       "\t SCRAT\\_motifs          & 0.05158738              & 0.04059899              & 0.03804919              & 0.14000829              & 0.10185238              & 0.10456051              & 0.15407489              & 0.11502550              & 0.11699891             \\\\\n",
       "\t SnapATAC\\_no\\_blacklist & 0.44152593                & 0.41273798                & 0.34699914                & 0.65623412                & 0.64621650                & 0.63376540                & 0.65460171                & 0.60922823                & 0.57744746               \\\\\n",
       "\t SCRAT\\_no\\_blacklist    & 0.01003097                & 0.02221118                & 0.03032221                & 0.05231552                & 0.04260793                & 0.04977554                & 0.06289825                & 0.05333733                & 0.05998703               \\\\\n",
       "\\end{tabular}\n"
      ],
      "text/markdown": [
       "\n",
       "| V1 | ARI_Louvain | ARI_kmeans | ARI_HC | AMI_Louvain | AMI_kmeans | AMI_HC | Homogeneity_Louvain | Homogeneity_kmeans | Homogeneity_HC |\n",
       "|---|---|---|---|---|---|---|---|---|---|\n",
       "| SnapATAC              | 0.42034078            | 0.35329865            | 0.44305614            | 0.68449885            | 0.60501744            | 0.68908066            | 0.65281466            | 0.58964496            | 0.64597427            |\n",
       "| SCRAT_motifs          | 0.05158738            | 0.04059899            | 0.03804919            | 0.14000829            | 0.10185238            | 0.10456051            | 0.15407489            | 0.11502550            | 0.11699891            |\n",
       "| SnapATAC_no_blacklist | 0.44152593            | 0.41273798            | 0.34699914            | 0.65623412            | 0.64621650            | 0.63376540            | 0.65460171            | 0.60922823            | 0.57744746            |\n",
       "| SCRAT_no_blacklist    | 0.01003097            | 0.02221118            | 0.03032221            | 0.05231552            | 0.04260793            | 0.04977554            | 0.06289825            | 0.05333733            | 0.05998703            |\n",
       "\n"
      ],
      "text/plain": [
       "  V1                    ARI_Louvain ARI_kmeans ARI_HC     AMI_Louvain\n",
       "1 SnapATAC              0.42034078  0.35329865 0.44305614 0.68449885 \n",
       "2 SCRAT_motifs          0.05158738  0.04059899 0.03804919 0.14000829 \n",
       "3 SnapATAC_no_blacklist 0.44152593  0.41273798 0.34699914 0.65623412 \n",
       "4 SCRAT_no_blacklist    0.01003097  0.02221118 0.03032221 0.05231552 \n",
       "  AMI_kmeans AMI_HC     Homogeneity_Louvain Homogeneity_kmeans Homogeneity_HC\n",
       "1 0.60501744 0.68908066 0.65281466          0.58964496         0.64597427    \n",
       "2 0.10185238 0.10456051 0.15407489          0.11502550         0.11699891    \n",
       "3 0.64621650 0.63376540 0.65460171          0.60922823         0.57744746    \n",
       "4 0.04260793 0.04977554 0.06289825          0.05333733         0.05998703    "
      ]
     },
     "metadata": {},
     "output_type": "display_data"
    }
   ],
   "source": [
    "# make a df combining blacklist and no blacklist\n",
    "\n",
    "bl = fread(\"/data/pinello/PROJECTS/2019_03_scATAC/Github/scATAC-benchmarking/Real_Data/Buenrostro_2018/output/metrics/clustering_scores.csv\")\n",
    "no_bl = fread(\"/data/pinello/PROJECTS/2019_03_scATAC/Github_supp/Buenrostro_2018/test_blacklist/output/metrics/clustering_scores.csv\")\n",
    "# as.data.frame(c(bl[4:5,], bl[6,]))\n",
    "bl = bl[4:5,]\n",
    "# head(bl)\n",
    "# write.csv(bl, file = \"blacklist.csv\", row.names=TRUE)\n",
    "\n",
    "row1 = no_bl[1,]\n",
    "row3 = no_bl[3,]\n",
    "comb = bind_rows(bl,row1, row3)\n",
    "head(comb)\n",
    "# write.csv(nobl, file = \"no_blacklist.csv\", row.names=TRUE)\n",
    "\n",
    "write.csv(comb, file = \"comb_bl_nobl.csv\", row.names=TRUE)"
   ]
  },
  {
   "cell_type": "code",
   "execution_count": 262,
   "metadata": {},
   "outputs": [],
   "source": [
    "path = \"comb_bl_nobl.csv\""
   ]
  },
  {
   "cell_type": "code",
   "execution_count": 263,
   "metadata": {},
   "outputs": [],
   "source": [
    "scores <- read.delim(path, sep=\",\", header = TRUE) %>% rowwise %>% mutate(\"Sort\" = max(ARI_Louvain,ARI_kmeans,ARI_HC)) %>% as.data.frame()"
   ]
  },
  {
   "cell_type": "code",
   "execution_count": 266,
   "metadata": {},
   "outputs": [
    {
     "data": {
      "text/html": [
       "<table>\n",
       "<thead><tr><th scope=col>X</th><th scope=col>V1</th><th scope=col>ARI_Louvain</th><th scope=col>ARI_kmeans</th><th scope=col>ARI_HC</th><th scope=col>AMI_Louvain</th><th scope=col>AMI_kmeans</th><th scope=col>AMI_HC</th><th scope=col>Homogeneity_Louvain</th><th scope=col>Homogeneity_kmeans</th><th scope=col>Homogeneity_HC</th><th scope=col>Sort</th></tr></thead>\n",
       "<tbody>\n",
       "\t<tr><td>1                    </td><td>SnapATAC             </td><td>0.42034078           </td><td>0.35329865           </td><td>0.44305614           </td><td>0.68449885           </td><td>0.60501744           </td><td>0.68908066           </td><td>0.65281466           </td><td>0.58964496           </td><td>0.64597427           </td><td>0.44305614           </td></tr>\n",
       "\t<tr><td>2                    </td><td>SCRAT_motifs         </td><td>0.05158738           </td><td>0.04059899           </td><td>0.03804919           </td><td>0.14000829           </td><td>0.10185238           </td><td>0.10456051           </td><td>0.15407489           </td><td>0.11502550           </td><td>0.11699891           </td><td>0.05158738           </td></tr>\n",
       "\t<tr><td>3                    </td><td>SnapATAC_no_blacklist</td><td>0.44152593           </td><td>0.41273798           </td><td>0.34699914           </td><td>0.65623412           </td><td>0.64621650           </td><td>0.63376540           </td><td>0.65460171           </td><td>0.60922823           </td><td>0.57744746           </td><td>0.44152593           </td></tr>\n",
       "\t<tr><td>4                    </td><td>SCRAT_no_blacklist   </td><td>0.01003097           </td><td>0.02221118           </td><td>0.03032221           </td><td>0.05231552           </td><td>0.04260793           </td><td>0.04977554           </td><td>0.06289825           </td><td>0.05333733           </td><td>0.05998703           </td><td>0.03032221           </td></tr>\n",
       "</tbody>\n",
       "</table>\n"
      ],
      "text/latex": [
       "\\begin{tabular}{r|llllllllllll}\n",
       " X & V1 & ARI\\_Louvain & ARI\\_kmeans & ARI\\_HC & AMI\\_Louvain & AMI\\_kmeans & AMI\\_HC & Homogeneity\\_Louvain & Homogeneity\\_kmeans & Homogeneity\\_HC & Sort\\\\\n",
       "\\hline\n",
       "\t 1                     & SnapATAC              & 0.42034078            & 0.35329865            & 0.44305614            & 0.68449885            & 0.60501744            & 0.68908066            & 0.65281466            & 0.58964496            & 0.64597427            & 0.44305614           \\\\\n",
       "\t 2                       & SCRAT\\_motifs          & 0.05158738              & 0.04059899              & 0.03804919              & 0.14000829              & 0.10185238              & 0.10456051              & 0.15407489              & 0.11502550              & 0.11699891              & 0.05158738             \\\\\n",
       "\t 3                         & SnapATAC\\_no\\_blacklist & 0.44152593                & 0.41273798                & 0.34699914                & 0.65623412                & 0.64621650                & 0.63376540                & 0.65460171                & 0.60922823                & 0.57744746                & 0.44152593               \\\\\n",
       "\t 4                         & SCRAT\\_no\\_blacklist    & 0.01003097                & 0.02221118                & 0.03032221                & 0.05231552                & 0.04260793                & 0.04977554                & 0.06289825                & 0.05333733                & 0.05998703                & 0.03032221               \\\\\n",
       "\\end{tabular}\n"
      ],
      "text/markdown": [
       "\n",
       "| X | V1 | ARI_Louvain | ARI_kmeans | ARI_HC | AMI_Louvain | AMI_kmeans | AMI_HC | Homogeneity_Louvain | Homogeneity_kmeans | Homogeneity_HC | Sort |\n",
       "|---|---|---|---|---|---|---|---|---|---|---|---|\n",
       "| 1                     | SnapATAC              | 0.42034078            | 0.35329865            | 0.44305614            | 0.68449885            | 0.60501744            | 0.68908066            | 0.65281466            | 0.58964496            | 0.64597427            | 0.44305614            |\n",
       "| 2                     | SCRAT_motifs          | 0.05158738            | 0.04059899            | 0.03804919            | 0.14000829            | 0.10185238            | 0.10456051            | 0.15407489            | 0.11502550            | 0.11699891            | 0.05158738            |\n",
       "| 3                     | SnapATAC_no_blacklist | 0.44152593            | 0.41273798            | 0.34699914            | 0.65623412            | 0.64621650            | 0.63376540            | 0.65460171            | 0.60922823            | 0.57744746            | 0.44152593            |\n",
       "| 4                     | SCRAT_no_blacklist    | 0.01003097            | 0.02221118            | 0.03032221            | 0.05231552            | 0.04260793            | 0.04977554            | 0.06289825            | 0.05333733            | 0.05998703            | 0.03032221            |\n",
       "\n"
      ],
      "text/plain": [
       "  X V1                    ARI_Louvain ARI_kmeans ARI_HC     AMI_Louvain\n",
       "1 1 SnapATAC              0.42034078  0.35329865 0.44305614 0.68449885 \n",
       "2 2 SCRAT_motifs          0.05158738  0.04059899 0.03804919 0.14000829 \n",
       "3 3 SnapATAC_no_blacklist 0.44152593  0.41273798 0.34699914 0.65623412 \n",
       "4 4 SCRAT_no_blacklist    0.01003097  0.02221118 0.03032221 0.05231552 \n",
       "  AMI_kmeans AMI_HC     Homogeneity_Louvain Homogeneity_kmeans Homogeneity_HC\n",
       "1 0.60501744 0.68908066 0.65281466          0.58964496         0.64597427    \n",
       "2 0.10185238 0.10456051 0.15407489          0.11502550         0.11699891    \n",
       "3 0.64621650 0.63376540 0.65460171          0.60922823         0.57744746    \n",
       "4 0.04260793 0.04977554 0.06289825          0.05333733         0.05998703    \n",
       "  Sort      \n",
       "1 0.44305614\n",
       "2 0.05158738\n",
       "3 0.44152593\n",
       "4 0.03032221"
      ]
     },
     "metadata": {},
     "output_type": "display_data"
    }
   ],
   "source": [
    "scores"
   ]
  },
  {
   "cell_type": "code",
   "execution_count": 286,
   "metadata": {},
   "outputs": [
    {
     "name": "stderr",
     "output_type": "stream",
     "text": [
      "Warning message:\n",
      "“attributes are not identical across measure variables;\n",
      "they will be dropped”"
     ]
    },
    {
     "data": {
      "text/html": [
       "<table>\n",
       "<thead><tr><th scope=col>key</th><th scope=col>value</th></tr></thead>\n",
       "<tbody>\n",
       "\t<tr><td>V1                   </td><td>SnapATAC             </td></tr>\n",
       "\t<tr><td>V1                   </td><td>SCRAT_motifs         </td></tr>\n",
       "\t<tr><td>V1                   </td><td>SnapATAC_no_blacklist</td></tr>\n",
       "\t<tr><td>V1                   </td><td>SCRAT_no_blacklist   </td></tr>\n",
       "\t<tr><td>ARI_Louvain          </td><td>0.420340775805741    </td></tr>\n",
       "\t<tr><td>ARI_Louvain          </td><td>0.0515873787492768   </td></tr>\n",
       "\t<tr><td>ARI_Louvain          </td><td>0.441525934          </td></tr>\n",
       "\t<tr><td>ARI_Louvain          </td><td>0.010030968          </td></tr>\n",
       "\t<tr><td>ARI_kmeans           </td><td>0.353298650482534    </td></tr>\n",
       "\t<tr><td>ARI_kmeans           </td><td>0.0405989880169619   </td></tr>\n",
       "\t<tr><td>ARI_kmeans           </td><td>0.412737984          </td></tr>\n",
       "\t<tr><td>ARI_kmeans           </td><td>0.022211176          </td></tr>\n",
       "\t<tr><td>ARI_HC               </td><td>0.443056138767851    </td></tr>\n",
       "\t<tr><td>ARI_HC               </td><td>0.03804918876744     </td></tr>\n",
       "\t<tr><td>ARI_HC               </td><td>0.346999142          </td></tr>\n",
       "\t<tr><td>ARI_HC               </td><td>0.030322205          </td></tr>\n",
       "\t<tr><td>AMI_Louvain          </td><td>0.684498852691114    </td></tr>\n",
       "\t<tr><td>AMI_Louvain          </td><td>0.140008288798441    </td></tr>\n",
       "\t<tr><td>AMI_Louvain          </td><td>0.656234116          </td></tr>\n",
       "\t<tr><td>AMI_Louvain          </td><td>0.05231552           </td></tr>\n",
       "\t<tr><td>AMI_kmeans           </td><td>0.605017439448168    </td></tr>\n",
       "\t<tr><td>AMI_kmeans           </td><td>0.101852380763862    </td></tr>\n",
       "\t<tr><td>AMI_kmeans           </td><td>0.646216497          </td></tr>\n",
       "\t<tr><td>AMI_kmeans           </td><td>0.042607931          </td></tr>\n",
       "\t<tr><td>AMI_HC               </td><td>0.689080664187102    </td></tr>\n",
       "\t<tr><td>AMI_HC               </td><td>0.104560514363371    </td></tr>\n",
       "\t<tr><td>AMI_HC               </td><td>0.633765399          </td></tr>\n",
       "\t<tr><td>AMI_HC               </td><td>0.049775538          </td></tr>\n",
       "\t<tr><td>Homogeneity_Louvain  </td><td>0.652814660547315    </td></tr>\n",
       "\t<tr><td>Homogeneity_Louvain  </td><td>0.154074892556201    </td></tr>\n",
       "\t<tr><td>Homogeneity_Louvain  </td><td>0.654601714          </td></tr>\n",
       "\t<tr><td>Homogeneity_Louvain  </td><td>0.062898247          </td></tr>\n",
       "\t<tr><td>Homogeneity_kmeans   </td><td>0.589644957702214    </td></tr>\n",
       "\t<tr><td>Homogeneity_kmeans   </td><td>0.115025503819859    </td></tr>\n",
       "\t<tr><td>Homogeneity_kmeans   </td><td>0.609228231          </td></tr>\n",
       "\t<tr><td>Homogeneity_kmeans   </td><td>0.053337326          </td></tr>\n",
       "\t<tr><td>Homogeneity_HC       </td><td>0.64597426811752     </td></tr>\n",
       "\t<tr><td>Homogeneity_HC       </td><td>0.116998910510002    </td></tr>\n",
       "\t<tr><td>Homogeneity_HC       </td><td>0.577447459          </td></tr>\n",
       "\t<tr><td>Homogeneity_HC       </td><td>0.059987031          </td></tr>\n",
       "</tbody>\n",
       "</table>\n"
      ],
      "text/latex": [
       "\\begin{tabular}{r|ll}\n",
       " key & value\\\\\n",
       "\\hline\n",
       "\t V1                    & SnapATAC             \\\\\n",
       "\t V1                      & SCRAT\\_motifs         \\\\\n",
       "\t V1                        & SnapATAC\\_no\\_blacklist\\\\\n",
       "\t V1                        & SCRAT\\_no\\_blacklist   \\\\\n",
       "\t ARI\\_Louvain         & 0.420340775805741    \\\\\n",
       "\t ARI\\_Louvain         & 0.0515873787492768   \\\\\n",
       "\t ARI\\_Louvain         & 0.441525934          \\\\\n",
       "\t ARI\\_Louvain         & 0.010030968          \\\\\n",
       "\t ARI\\_kmeans          & 0.353298650482534    \\\\\n",
       "\t ARI\\_kmeans          & 0.0405989880169619   \\\\\n",
       "\t ARI\\_kmeans          & 0.412737984          \\\\\n",
       "\t ARI\\_kmeans          & 0.022211176          \\\\\n",
       "\t ARI\\_HC              & 0.443056138767851    \\\\\n",
       "\t ARI\\_HC              & 0.03804918876744     \\\\\n",
       "\t ARI\\_HC              & 0.346999142          \\\\\n",
       "\t ARI\\_HC              & 0.030322205          \\\\\n",
       "\t AMI\\_Louvain         & 0.684498852691114    \\\\\n",
       "\t AMI\\_Louvain         & 0.140008288798441    \\\\\n",
       "\t AMI\\_Louvain         & 0.656234116          \\\\\n",
       "\t AMI\\_Louvain         & 0.05231552           \\\\\n",
       "\t AMI\\_kmeans          & 0.605017439448168    \\\\\n",
       "\t AMI\\_kmeans          & 0.101852380763862    \\\\\n",
       "\t AMI\\_kmeans          & 0.646216497          \\\\\n",
       "\t AMI\\_kmeans          & 0.042607931          \\\\\n",
       "\t AMI\\_HC              & 0.689080664187102    \\\\\n",
       "\t AMI\\_HC              & 0.104560514363371    \\\\\n",
       "\t AMI\\_HC              & 0.633765399          \\\\\n",
       "\t AMI\\_HC              & 0.049775538          \\\\\n",
       "\t Homogeneity\\_Louvain & 0.652814660547315    \\\\\n",
       "\t Homogeneity\\_Louvain & 0.154074892556201    \\\\\n",
       "\t Homogeneity\\_Louvain & 0.654601714          \\\\\n",
       "\t Homogeneity\\_Louvain & 0.062898247          \\\\\n",
       "\t Homogeneity\\_kmeans  & 0.589644957702214    \\\\\n",
       "\t Homogeneity\\_kmeans  & 0.115025503819859    \\\\\n",
       "\t Homogeneity\\_kmeans  & 0.609228231          \\\\\n",
       "\t Homogeneity\\_kmeans  & 0.053337326          \\\\\n",
       "\t Homogeneity\\_HC      & 0.64597426811752     \\\\\n",
       "\t Homogeneity\\_HC      & 0.116998910510002    \\\\\n",
       "\t Homogeneity\\_HC      & 0.577447459          \\\\\n",
       "\t Homogeneity\\_HC      & 0.059987031          \\\\\n",
       "\\end{tabular}\n"
      ],
      "text/markdown": [
       "\n",
       "| key | value |\n",
       "|---|---|\n",
       "| V1                    | SnapATAC              |\n",
       "| V1                    | SCRAT_motifs          |\n",
       "| V1                    | SnapATAC_no_blacklist |\n",
       "| V1                    | SCRAT_no_blacklist    |\n",
       "| ARI_Louvain           | 0.420340775805741     |\n",
       "| ARI_Louvain           | 0.0515873787492768    |\n",
       "| ARI_Louvain           | 0.441525934           |\n",
       "| ARI_Louvain           | 0.010030968           |\n",
       "| ARI_kmeans            | 0.353298650482534     |\n",
       "| ARI_kmeans            | 0.0405989880169619    |\n",
       "| ARI_kmeans            | 0.412737984           |\n",
       "| ARI_kmeans            | 0.022211176           |\n",
       "| ARI_HC                | 0.443056138767851     |\n",
       "| ARI_HC                | 0.03804918876744      |\n",
       "| ARI_HC                | 0.346999142           |\n",
       "| ARI_HC                | 0.030322205           |\n",
       "| AMI_Louvain           | 0.684498852691114     |\n",
       "| AMI_Louvain           | 0.140008288798441     |\n",
       "| AMI_Louvain           | 0.656234116           |\n",
       "| AMI_Louvain           | 0.05231552            |\n",
       "| AMI_kmeans            | 0.605017439448168     |\n",
       "| AMI_kmeans            | 0.101852380763862     |\n",
       "| AMI_kmeans            | 0.646216497           |\n",
       "| AMI_kmeans            | 0.042607931           |\n",
       "| AMI_HC                | 0.689080664187102     |\n",
       "| AMI_HC                | 0.104560514363371     |\n",
       "| AMI_HC                | 0.633765399           |\n",
       "| AMI_HC                | 0.049775538           |\n",
       "| Homogeneity_Louvain   | 0.652814660547315     |\n",
       "| Homogeneity_Louvain   | 0.154074892556201     |\n",
       "| Homogeneity_Louvain   | 0.654601714           |\n",
       "| Homogeneity_Louvain   | 0.062898247           |\n",
       "| Homogeneity_kmeans    | 0.589644957702214     |\n",
       "| Homogeneity_kmeans    | 0.115025503819859     |\n",
       "| Homogeneity_kmeans    | 0.609228231           |\n",
       "| Homogeneity_kmeans    | 0.053337326           |\n",
       "| Homogeneity_HC        | 0.64597426811752      |\n",
       "| Homogeneity_HC        | 0.116998910510002     |\n",
       "| Homogeneity_HC        | 0.577447459           |\n",
       "| Homogeneity_HC        | 0.059987031           |\n",
       "\n"
      ],
      "text/plain": [
       "   key                 value                \n",
       "1  V1                  SnapATAC             \n",
       "2  V1                  SCRAT_motifs         \n",
       "3  V1                  SnapATAC_no_blacklist\n",
       "4  V1                  SCRAT_no_blacklist   \n",
       "5  ARI_Louvain         0.420340775805741    \n",
       "6  ARI_Louvain         0.0515873787492768   \n",
       "7  ARI_Louvain         0.441525934          \n",
       "8  ARI_Louvain         0.010030968          \n",
       "9  ARI_kmeans          0.353298650482534    \n",
       "10 ARI_kmeans          0.0405989880169619   \n",
       "11 ARI_kmeans          0.412737984          \n",
       "12 ARI_kmeans          0.022211176          \n",
       "13 ARI_HC              0.443056138767851    \n",
       "14 ARI_HC              0.03804918876744     \n",
       "15 ARI_HC              0.346999142          \n",
       "16 ARI_HC              0.030322205          \n",
       "17 AMI_Louvain         0.684498852691114    \n",
       "18 AMI_Louvain         0.140008288798441    \n",
       "19 AMI_Louvain         0.656234116          \n",
       "20 AMI_Louvain         0.05231552           \n",
       "21 AMI_kmeans          0.605017439448168    \n",
       "22 AMI_kmeans          0.101852380763862    \n",
       "23 AMI_kmeans          0.646216497          \n",
       "24 AMI_kmeans          0.042607931          \n",
       "25 AMI_HC              0.689080664187102    \n",
       "26 AMI_HC              0.104560514363371    \n",
       "27 AMI_HC              0.633765399          \n",
       "28 AMI_HC              0.049775538          \n",
       "29 Homogeneity_Louvain 0.652814660547315    \n",
       "30 Homogeneity_Louvain 0.154074892556201    \n",
       "31 Homogeneity_Louvain 0.654601714          \n",
       "32 Homogeneity_Louvain 0.062898247          \n",
       "33 Homogeneity_kmeans  0.589644957702214    \n",
       "34 Homogeneity_kmeans  0.115025503819859    \n",
       "35 Homogeneity_kmeans  0.609228231          \n",
       "36 Homogeneity_kmeans  0.053337326          \n",
       "37 Homogeneity_HC      0.64597426811752     \n",
       "38 Homogeneity_HC      0.116998910510002    \n",
       "39 Homogeneity_HC      0.577447459          \n",
       "40 Homogeneity_HC      0.059987031          "
      ]
     },
     "metadata": {},
     "output_type": "display_data"
    },
    {
     "data": {
      "text/html": [
       "<ol class=list-inline>\n",
       "\t<li>40</li>\n",
       "\t<li>2</li>\n",
       "</ol>\n"
      ],
      "text/latex": [
       "\\begin{enumerate*}\n",
       "\\item 40\n",
       "\\item 2\n",
       "\\end{enumerate*}\n"
      ],
      "text/markdown": [
       "1. 40\n",
       "2. 2\n",
       "\n",
       "\n"
      ],
      "text/plain": [
       "[1] 40  2"
      ]
     },
     "metadata": {},
     "output_type": "display_data"
    }
   ],
   "source": [
    "df <- scores %>% select(-X,-Sort) %>% gather() \n",
    "\n",
    "# select() gets rid of columns 'X' and 'Sort'\n",
    "# gather() collapses columns of the df down to a [key, value] pair\n",
    "\n",
    "df\n",
    "dim(df)"
   ]
  },
  {
   "cell_type": "code",
   "execution_count": 308,
   "metadata": {},
   "outputs": [
    {
     "data": {
      "text/html": [
       "<ol class=list-inline>\n",
       "\t<li>'SnapATAC'</li>\n",
       "\t<li>'SCRAT_motifs'</li>\n",
       "\t<li>'SnapATAC_no_blacklist'</li>\n",
       "\t<li>'SCRAT_no_blacklist'</li>\n",
       "</ol>\n"
      ],
      "text/latex": [
       "\\begin{enumerate*}\n",
       "\\item 'SnapATAC'\n",
       "\\item 'SCRAT\\_motifs'\n",
       "\\item 'SnapATAC\\_no\\_blacklist'\n",
       "\\item 'SCRAT\\_no\\_blacklist'\n",
       "\\end{enumerate*}\n"
      ],
      "text/markdown": [
       "1. 'SnapATAC'\n",
       "2. 'SCRAT_motifs'\n",
       "3. 'SnapATAC_no_blacklist'\n",
       "4. 'SCRAT_no_blacklist'\n",
       "\n",
       "\n"
      ],
      "text/plain": [
       "[1] \"SnapATAC\"              \"SCRAT_motifs\"          \"SnapATAC_no_blacklist\"\n",
       "[4] \"SCRAT_no_blacklist\"   "
      ]
     },
     "metadata": {},
     "output_type": "display_data"
    }
   ],
   "source": [
    "x = df[1:4,2]\n",
    "x"
   ]
  },
  {
   "cell_type": "code",
   "execution_count": 315,
   "metadata": {},
   "outputs": [
    {
     "ename": "ERROR",
     "evalue": "Error in data.frame(..., check.names = FALSE): arguments imply differing number of rows: 0, 40\n",
     "output_type": "error",
     "traceback": [
      "Error in data.frame(..., check.names = FALSE): arguments imply differing number of rows: 0, 40\nTraceback:\n",
      "1. cbind(df2, df)",
      "2. cbind(deparse.level, ...)",
      "3. data.frame(..., check.names = FALSE)",
      "4. stop(gettextf(\"arguments imply differing number of rows: %s\", \n .     paste(unique(nrows), collapse = \", \")), domain = NA)"
     ]
    }
   ],
   "source": [
    "df2 = data.frame\n",
    "\n",
    "for (i in x){\n",
    "    df %>% mutate(\"Method\" = rep(scores$X, 10), \n",
    "              \"Clustering\" = sapply(strsplit(key,\"\\\\_\"),'[',i=2), \n",
    "              \"Metric\" = sapply(strsplit(key,\"\\\\_\"),'[',i=1), \n",
    "              \"exp\" = paste(Clustering,Metric,sep=\"_\"))\n",
    "            dfx = cbind(df2,df)\n",
    "    #print(paste0(\"col\",df))\n",
    "    }\n",
    "\n"
   ]
  },
  {
   "cell_type": "code",
   "execution_count": 297,
   "metadata": {},
   "outputs": [
    {
     "ename": "ERROR",
     "evalue": "Error in `$<-.data.frame`(`*tmp*`, Metric, value = structure(integer(0), .Label = c(\"ARI\", : replacement has 0 rows, data has 40\n",
     "output_type": "error",
     "traceback": [
      "Error in `$<-.data.frame`(`*tmp*`, Metric, value = structure(integer(0), .Label = c(\"ARI\", : replacement has 0 rows, data has 40\nTraceback:\n",
      "1. `$<-`(`*tmp*`, Metric, value = structure(integer(0), .Label = c(\"ARI\", \n . \"AMI\", \"Homogeneity\"), class = \"factor\"))",
      "2. `$<-.data.frame`(`*tmp*`, Metric, value = structure(integer(0), .Label = c(\"ARI\", \n . \"AMI\", \"Homogeneity\"), class = \"factor\"))",
      "3. stop(sprintf(ngettext(N, \"replacement has %d row, data has %d\", \n .     \"replacement has %d rows, data has %d\"), N, nrows), domain = NA)"
     ]
    }
   ],
   "source": [
    "df$Metric <- factor(df$Metric, levels = c(\"ARI\", \"AMI\", \"Homogeneity\"))\n",
    "df$Method <- factor(df$Method, levels=rev(scores$X[order(scores$Sort, decreasing = T)]))"
   ]
  },
  {
   "cell_type": "code",
   "execution_count": 214,
   "metadata": {},
   "outputs": [
    {
     "name": "stderr",
     "output_type": "stream",
     "text": [
      "Warning message:\n",
      "“attributes are not identical across measure variables;\n",
      "they will be dropped”"
     ]
    },
    {
     "ename": "ERROR",
     "evalue": "Error: Column `Method` must be length 20 (the number of rows) or one, not 18\n",
     "output_type": "error",
     "traceback": [
      "Error: Column `Method` must be length 20 (the number of rows) or one, not 18\nTraceback:\n",
      "1. scores %>% select(-X, -Sort) %>% gather() %>% mutate(Method = rep(scores$X, \n .     9), Clustering = sapply(strsplit(key, \"\\\\_\"), \"[\", i = 2), \n .     Metric = sapply(strsplit(key, \"\\\\_\"), \"[\", i = 1), exp = paste(Clustering, \n .         Metric, sep = \"_\"))",
      "2. withVisible(eval(quote(`_fseq`(`_lhs`)), env, env))",
      "3. eval(quote(`_fseq`(`_lhs`)), env, env)",
      "4. eval(quote(`_fseq`(`_lhs`)), env, env)",
      "5. `_fseq`(`_lhs`)",
      "6. freduce(value, `_function_list`)",
      "7. withVisible(function_list[[k]](value))",
      "8. function_list[[k]](value)",
      "9. mutate(., Method = rep(scores$X, 9), Clustering = sapply(strsplit(key, \n .     \"\\\\_\"), \"[\", i = 2), Metric = sapply(strsplit(key, \"\\\\_\"), \n .     \"[\", i = 1), exp = paste(Clustering, Metric, sep = \"_\"))",
      "10. mutate.data.frame(., Method = rep(scores$X, 9), Clustering = sapply(strsplit(key, \n  .     \"\\\\_\"), \"[\", i = 2), Metric = sapply(strsplit(key, \"\\\\_\"), \n  .     \"[\", i = 1), exp = paste(Clustering, Metric, sep = \"_\"))",
      "11. as.data.frame(mutate(tbl_df(.data), ...))",
      "12. mutate(tbl_df(.data), ...)",
      "13. mutate.tbl_df(tbl_df(.data), ...)",
      "14. mutate_impl(.data, dots, caller_env())"
     ]
    }
   ],
   "source": [
    "for (i in paths){\n",
    "  scores <- read.delim(i, sep=\",\") %>% \n",
    "    rowwise %>% mutate(\"Sort\" = max(ARI_Louvain,ARI_kmeans,ARI_HC)) %>% as.data.frame()\n",
    "  \n",
    "  df <- scores %>% select(-X,-Sort) %>% gather() %>% mutate(\"Method\" = rep(scores$X, 9), \n",
    "                                                            \"Clustering\" = sapply(strsplit(key,\"\\\\_\"),'[',i=2),\n",
    "                                                            \"Metric\" = sapply(strsplit(key,\"\\\\_\"),'[',i=1),\n",
    "                                                            \"exp\" = paste(Clustering,Metric,sep=\"_\"))\n",
    "  \n",
    "  df$Metric <- factor(df$Metric, levels = c(\"ARI\", \"AMI\", \"Homogeneity\"))\n",
    "  df$Method <- factor(df$Method, levels=rev(scores$X[order(scores$Sort, decreasing = T)]))\n",
    "  dev.off()\n",
    "}\n",
    "\n"
   ]
  },
  {
   "cell_type": "code",
   "execution_count": 213,
   "metadata": {},
   "outputs": [
    {
     "name": "stderr",
     "output_type": "stream",
     "text": [
      "ERROR while rich displaying an object: Error: At least one layer must contain all faceting variables: `Metric`.\n",
      "* Plot is missing `Metric`\n",
      "* Layer 1 is missing `Metric`\n",
      "\n",
      "Traceback:\n",
      "1. FUN(X[[i]], ...)\n",
      "2. tryCatch(withCallingHandlers({\n",
      " .     if (!mime %in% names(repr::mime2repr)) \n",
      " .         stop(\"No repr_* for mimetype \", mime, \" in repr::mime2repr\")\n",
      " .     rpr <- repr::mime2repr[[mime]](obj)\n",
      " .     if (is.null(rpr)) \n",
      " .         return(NULL)\n",
      " .     prepare_content(is.raw(rpr), rpr)\n",
      " . }, error = error_handler), error = outer_handler)\n",
      "3. tryCatchList(expr, classes, parentenv, handlers)\n",
      "4. tryCatchOne(expr, names, parentenv, handlers[[1L]])\n",
      "5. doTryCatch(return(expr), name, parentenv, handler)\n",
      "6. withCallingHandlers({\n",
      " .     if (!mime %in% names(repr::mime2repr)) \n",
      " .         stop(\"No repr_* for mimetype \", mime, \" in repr::mime2repr\")\n",
      " .     rpr <- repr::mime2repr[[mime]](obj)\n",
      " .     if (is.null(rpr)) \n",
      " .         return(NULL)\n",
      " .     prepare_content(is.raw(rpr), rpr)\n",
      " . }, error = error_handler)\n",
      "7. repr::mime2repr[[mime]](obj)\n",
      "8. repr_text.default(obj)\n",
      "9. paste(capture.output(print(obj)), collapse = \"\\n\")\n",
      "10. capture.output(print(obj))\n",
      "11. evalVis(expr)\n",
      "12. withVisible(eval(expr, pf))\n",
      "13. eval(expr, pf)\n",
      "14. eval(expr, pf)\n",
      "15. print(obj)\n",
      "16. print.ggplot(obj)\n",
      "17. ggplot_build(x)\n",
      "18. ggplot_build.ggplot(x)\n",
      "19. layout$setup(layer_data, plot$data, plot$plot_env)\n",
      "20. f(..., self = self)\n",
      "21. self$facet$compute_layout(data, self$facet_params)\n",
      "22. f(...)\n",
      "23. combine_vars(data, params$plot_env, cols, drop = params$drop)\n",
      "24. stop(\"At least one layer must contain all faceting variables: \", \n",
      "  .     var_list(names(vars)), \".\\n\", paste0(\"* \", name, \" is missing \", \n",
      "  .         missing_txt, collapse = \"\\n\"), call. = FALSE)\n"
     ]
    }
   ],
   "source": [
    "  pdf(\"dotPlot.pdf\", width = 14, height = 8)\n",
    "  ggplot(df, aes(x=value, y= Method, colour=Clustering, shape=Clustering)) + \n",
    "    geom_point(size = 5) + \n",
    "    facet_grid(cols = vars(Metric)) +\n",
    "    scale_x_continuous(limits = c(-0.01,1))+ \n",
    "    guides(color= guide_legend(), size=guide_legend()) + \n",
    "    scale_color_manual(values=c(\"#1f78b4\",\"#33a02c\",\"#ff7f00\")) +\n",
    "    ggtitle(\"\") +\n",
    "    theme_bw(base_size = 14) + xlab(\"\") + ylab(\"\") + \n",
    "    theme(panel.grid.minor.x = element_blank(),\n",
    "          panel.grid.minor.y = element_blank(),\n",
    "          axis.text.x = element_text(size=14, colour = \"black\"),\n",
    "          axis.text.y = element_text(size=14, colour = \"black\"),\n",
    "          legend.position = \"right\",\n",
    "          strip.text.x = element_text(size = 16, colour = \"black\", angle = 0)\n",
    "    )"
   ]
  },
  {
   "cell_type": "code",
   "execution_count": null,
   "metadata": {},
   "outputs": [],
   "source": []
  },
  {
   "cell_type": "code",
   "execution_count": null,
   "metadata": {},
   "outputs": [],
   "source": []
  },
  {
   "cell_type": "code",
   "execution_count": null,
   "metadata": {},
   "outputs": [],
   "source": []
  },
  {
   "cell_type": "code",
   "execution_count": null,
   "metadata": {},
   "outputs": [],
   "source": []
  },
  {
   "cell_type": "code",
   "execution_count": null,
   "metadata": {},
   "outputs": [],
   "source": []
  },
  {
   "cell_type": "code",
   "execution_count": null,
   "metadata": {},
   "outputs": [],
   "source": []
  },
  {
   "cell_type": "code",
   "execution_count": null,
   "metadata": {},
   "outputs": [],
   "source": []
  },
  {
   "cell_type": "code",
   "execution_count": null,
   "metadata": {},
   "outputs": [],
   "source": []
  },
  {
   "cell_type": "code",
   "execution_count": 197,
   "metadata": {},
   "outputs": [],
   "source": [
    "scores <- read.delim(comp_path, sep=\",\") %>% rowwise %>% mutate(\"Sort\" = max(ARI_Louvain,ARI_kmeans,ARI_HC)) %>% as.data.frame()"
   ]
  },
  {
   "cell_type": "code",
   "execution_count": 198,
   "metadata": {},
   "outputs": [
    {
     "data": {
      "text/html": [
       "<table>\n",
       "<thead><tr><th scope=col>X</th><th scope=col>V1</th><th scope=col>ARI_Louvain</th><th scope=col>ARI_kmeans</th><th scope=col>ARI_HC</th><th scope=col>AMI_Louvain</th><th scope=col>AMI_kmeans</th><th scope=col>AMI_HC</th><th scope=col>Homogeneity_Louvain</th><th scope=col>Homogeneity_kmeans</th><th scope=col>Homogeneity_HC</th><th scope=col>Sort</th></tr></thead>\n",
       "<tbody>\n",
       "\t<tr><td>1                    </td><td>SnapATAC             </td><td>0.42034078           </td><td>0.35329865           </td><td>0.44305614           </td><td>0.68449885           </td><td>0.60501744           </td><td>0.68908066           </td><td>0.65281466           </td><td>0.58964496           </td><td>0.64597427           </td><td>0.44305614           </td></tr>\n",
       "\t<tr><td>2                    </td><td>SCRAT_motifs         </td><td>0.05158738           </td><td>0.04059899           </td><td>0.03804919           </td><td>0.14000829           </td><td>0.10185238           </td><td>0.10456051           </td><td>0.15407489           </td><td>0.11502550           </td><td>0.11699891           </td><td>0.05158738           </td></tr>\n",
       "\t<tr><td>3                    </td><td>SnapATAC_no_blacklist</td><td>0.44152593           </td><td>0.41273798           </td><td>0.34699914           </td><td>0.65623412           </td><td>0.64621650           </td><td>0.63376540           </td><td>0.65460171           </td><td>0.60922823           </td><td>0.57744746           </td><td>0.44152593           </td></tr>\n",
       "\t<tr><td>4                    </td><td>SCRAT_no_blacklist   </td><td>0.01003097           </td><td>0.02221118           </td><td>0.03032221           </td><td>0.05231552           </td><td>0.04260793           </td><td>0.04977554           </td><td>0.06289825           </td><td>0.05333733           </td><td>0.05998703           </td><td>0.03032221           </td></tr>\n",
       "</tbody>\n",
       "</table>\n"
      ],
      "text/latex": [
       "\\begin{tabular}{r|llllllllllll}\n",
       " X & V1 & ARI\\_Louvain & ARI\\_kmeans & ARI\\_HC & AMI\\_Louvain & AMI\\_kmeans & AMI\\_HC & Homogeneity\\_Louvain & Homogeneity\\_kmeans & Homogeneity\\_HC & Sort\\\\\n",
       "\\hline\n",
       "\t 1                     & SnapATAC              & 0.42034078            & 0.35329865            & 0.44305614            & 0.68449885            & 0.60501744            & 0.68908066            & 0.65281466            & 0.58964496            & 0.64597427            & 0.44305614           \\\\\n",
       "\t 2                       & SCRAT\\_motifs          & 0.05158738              & 0.04059899              & 0.03804919              & 0.14000829              & 0.10185238              & 0.10456051              & 0.15407489              & 0.11502550              & 0.11699891              & 0.05158738             \\\\\n",
       "\t 3                         & SnapATAC\\_no\\_blacklist & 0.44152593                & 0.41273798                & 0.34699914                & 0.65623412                & 0.64621650                & 0.63376540                & 0.65460171                & 0.60922823                & 0.57744746                & 0.44152593               \\\\\n",
       "\t 4                         & SCRAT\\_no\\_blacklist    & 0.01003097                & 0.02221118                & 0.03032221                & 0.05231552                & 0.04260793                & 0.04977554                & 0.06289825                & 0.05333733                & 0.05998703                & 0.03032221               \\\\\n",
       "\\end{tabular}\n"
      ],
      "text/markdown": [
       "\n",
       "| X | V1 | ARI_Louvain | ARI_kmeans | ARI_HC | AMI_Louvain | AMI_kmeans | AMI_HC | Homogeneity_Louvain | Homogeneity_kmeans | Homogeneity_HC | Sort |\n",
       "|---|---|---|---|---|---|---|---|---|---|---|---|\n",
       "| 1                     | SnapATAC              | 0.42034078            | 0.35329865            | 0.44305614            | 0.68449885            | 0.60501744            | 0.68908066            | 0.65281466            | 0.58964496            | 0.64597427            | 0.44305614            |\n",
       "| 2                     | SCRAT_motifs          | 0.05158738            | 0.04059899            | 0.03804919            | 0.14000829            | 0.10185238            | 0.10456051            | 0.15407489            | 0.11502550            | 0.11699891            | 0.05158738            |\n",
       "| 3                     | SnapATAC_no_blacklist | 0.44152593            | 0.41273798            | 0.34699914            | 0.65623412            | 0.64621650            | 0.63376540            | 0.65460171            | 0.60922823            | 0.57744746            | 0.44152593            |\n",
       "| 4                     | SCRAT_no_blacklist    | 0.01003097            | 0.02221118            | 0.03032221            | 0.05231552            | 0.04260793            | 0.04977554            | 0.06289825            | 0.05333733            | 0.05998703            | 0.03032221            |\n",
       "\n"
      ],
      "text/plain": [
       "  X V1                    ARI_Louvain ARI_kmeans ARI_HC     AMI_Louvain\n",
       "1 1 SnapATAC              0.42034078  0.35329865 0.44305614 0.68449885 \n",
       "2 2 SCRAT_motifs          0.05158738  0.04059899 0.03804919 0.14000829 \n",
       "3 3 SnapATAC_no_blacklist 0.44152593  0.41273798 0.34699914 0.65623412 \n",
       "4 4 SCRAT_no_blacklist    0.01003097  0.02221118 0.03032221 0.05231552 \n",
       "  AMI_kmeans AMI_HC     Homogeneity_Louvain Homogeneity_kmeans Homogeneity_HC\n",
       "1 0.60501744 0.68908066 0.65281466          0.58964496         0.64597427    \n",
       "2 0.10185238 0.10456051 0.15407489          0.11502550         0.11699891    \n",
       "3 0.64621650 0.63376540 0.65460171          0.60922823         0.57744746    \n",
       "4 0.04260793 0.04977554 0.06289825          0.05333733         0.05998703    \n",
       "  Sort      \n",
       "1 0.44305614\n",
       "2 0.05158738\n",
       "3 0.44152593\n",
       "4 0.03032221"
      ]
     },
     "metadata": {},
     "output_type": "display_data"
    }
   ],
   "source": [
    "head(scores)"
   ]
  },
  {
   "cell_type": "code",
   "execution_count": 200,
   "metadata": {},
   "outputs": [
    {
     "name": "stderr",
     "output_type": "stream",
     "text": [
      "Warning message:\n",
      "“attributes are not identical across measure variables;\n",
      "they will be dropped”"
     ]
    }
   ],
   "source": [
    "df <- scores %>% select(-X,-Sort) %>% gather()"
   ]
  },
  {
   "cell_type": "code",
   "execution_count": 175,
   "metadata": {},
   "outputs": [],
   "source": [
    "df$Metric <- factor(df$Metric, levels = c(\"ARI\", \"AMI\", \"Homogeneity\"))\n",
    "df$Method <- factor(df$Method, levels=rev(scores$X[order(scores$Sort, decreasing = T)]))"
   ]
  },
  {
   "cell_type": "code",
   "execution_count": 176,
   "metadata": {},
   "outputs": [
    {
     "data": {
      "image/png": "[encoded data removed]",
      "text/plain": [
       "plot without title"
      ]
     },
     "metadata": {},
     "output_type": "display_data"
    }
   ],
   "source": [
    "ggplot(df, aes(x=value, y= Method, colour=Clustering, shape=Clustering))"
   ]
  },
  {
   "cell_type": "code",
   "execution_count": 164,
   "metadata": {},
   "outputs": [
    {
     "name": "stderr",
     "output_type": "stream",
     "text": [
      "Warning message:\n",
      "“attributes are not identical across measure variables;\n",
      "they will be dropped”"
     ]
    },
    {
     "ename": "ERROR",
     "evalue": "Error: Column `Method` must be length 40 (the number of rows) or one, not 36\n",
     "output_type": "error",
     "traceback": [
      "Error: Column `Method` must be length 40 (the number of rows) or one, not 36\nTraceback:\n",
      "1. scores %>% select(-X, -Sort) %>% gather() %>% mutate(Method = rep(scores$X, \n .     9), Clustering = sapply(strsplit(key, \"\\\\_\"), \"[\", i = 2), \n .     Metric = sapply(strsplit(key, \"\\\\_\"), \"[\", i = 1), exp = paste(Clustering, \n .         Metric, sep = \"_\"))",
      "2. withVisible(eval(quote(`_fseq`(`_lhs`)), env, env))",
      "3. eval(quote(`_fseq`(`_lhs`)), env, env)",
      "4. eval(quote(`_fseq`(`_lhs`)), env, env)",
      "5. `_fseq`(`_lhs`)",
      "6. freduce(value, `_function_list`)",
      "7. withVisible(function_list[[k]](value))",
      "8. function_list[[k]](value)",
      "9. mutate(., Method = rep(scores$X, 9), Clustering = sapply(strsplit(key, \n .     \"\\\\_\"), \"[\", i = 2), Metric = sapply(strsplit(key, \"\\\\_\"), \n .     \"[\", i = 1), exp = paste(Clustering, Metric, sep = \"_\"))",
      "10. mutate.data.frame(., Method = rep(scores$X, 9), Clustering = sapply(strsplit(key, \n  .     \"\\\\_\"), \"[\", i = 2), Metric = sapply(strsplit(key, \"\\\\_\"), \n  .     \"[\", i = 1), exp = paste(Clustering, Metric, sep = \"_\"))",
      "11. as.data.frame(mutate(tbl_df(.data), ...))",
      "12. mutate(tbl_df(.data), ...)",
      "13. mutate.tbl_df(tbl_df(.data), ...)",
      "14. mutate_impl(.data, dots, caller_env())"
     ]
    }
   ],
   "source": [
    "scores <- read.delim((comp_path), sep=\",\") %>% \n",
    "        rowwise %>% mutate(\"Sort\" = max(ARI_Louvain,ARI_kmeans,ARI_HC)) %>% as.data.frame()\n",
    "  \n",
    "        df <- scores %>% select(-X,-Sort) %>% gather() %>% mutate(\"Method\" = rep(scores$X, 9), \n",
    "                                                            \"Clustering\" = sapply(strsplit(key,\"\\\\_\"),'[',i=2),\n",
    "                                                            \"Metric\" = sapply(strsplit(key,\"\\\\_\"),'[',i=1),\n",
    "                                                            \"exp\" = paste(Clustering,Metric,sep=\"_\"))\n",
    "    \n",
    "        df$Metric <- factor(df$Metric, levels = c(\"ARI\", \"AMI\", \"Homogeneity\"))\n",
    "        df$Method <- factor(df$Method, levels=rev(scores$X[order(scores$Sort, decreasing = T)]))"
   ]
  },
  {
   "cell_type": "code",
   "execution_count": 157,
   "metadata": {},
   "outputs": [
    {
     "data": {
      "text/html": [
       "<table>\n",
       "<thead><tr><th scope=col>key</th><th scope=col>value</th><th scope=col>Method</th><th scope=col>Clustering</th><th scope=col>Metric</th><th scope=col>exp</th></tr></thead>\n",
       "<tbody>\n",
       "\t<tr><td>ARI_Louvain        </td><td>0.44152593         </td><td>NA                 </td><td>Louvain            </td><td>ARI                </td><td>Louvain_ARI        </td></tr>\n",
       "\t<tr><td>ARI_Louvain        </td><td>0.18242234         </td><td>NA                 </td><td>Louvain            </td><td>ARI                </td><td>Louvain_ARI        </td></tr>\n",
       "\t<tr><td>ARI_Louvain        </td><td>0.01003097         </td><td>NA                 </td><td>Louvain            </td><td>ARI                </td><td>Louvain_ARI        </td></tr>\n",
       "\t<tr><td>ARI_kmeans         </td><td>0.41273798         </td><td>NA                 </td><td>kmeans             </td><td>ARI                </td><td>kmeans_ARI         </td></tr>\n",
       "\t<tr><td>ARI_kmeans         </td><td>0.01375860         </td><td>NA                 </td><td>kmeans             </td><td>ARI                </td><td>kmeans_ARI         </td></tr>\n",
       "\t<tr><td>ARI_kmeans         </td><td>0.02221118         </td><td>NA                 </td><td>kmeans             </td><td>ARI                </td><td>kmeans_ARI         </td></tr>\n",
       "\t<tr><td>ARI_HC             </td><td>0.34699914         </td><td>NA                 </td><td>HC                 </td><td>ARI                </td><td>HC_ARI             </td></tr>\n",
       "\t<tr><td>ARI_HC             </td><td>0.03441665         </td><td>NA                 </td><td>HC                 </td><td>ARI                </td><td>HC_ARI             </td></tr>\n",
       "\t<tr><td>ARI_HC             </td><td>0.03032221         </td><td>NA                 </td><td>HC                 </td><td>ARI                </td><td>HC_ARI             </td></tr>\n",
       "\t<tr><td>AMI_Louvain        </td><td>0.65623412         </td><td>NA                 </td><td>Louvain            </td><td>AMI                </td><td>Louvain_AMI        </td></tr>\n",
       "\t<tr><td>AMI_Louvain        </td><td>0.37246305         </td><td>NA                 </td><td>Louvain            </td><td>AMI                </td><td>Louvain_AMI        </td></tr>\n",
       "\t<tr><td>AMI_Louvain        </td><td>0.05231552         </td><td>NA                 </td><td>Louvain            </td><td>AMI                </td><td>Louvain_AMI        </td></tr>\n",
       "\t<tr><td>AMI_kmeans         </td><td>0.64621650         </td><td>NA                 </td><td>kmeans             </td><td>AMI                </td><td>kmeans_AMI         </td></tr>\n",
       "\t<tr><td>AMI_kmeans         </td><td>0.02406304         </td><td>NA                 </td><td>kmeans             </td><td>AMI                </td><td>kmeans_AMI         </td></tr>\n",
       "\t<tr><td>AMI_kmeans         </td><td>0.04260793         </td><td>NA                 </td><td>kmeans             </td><td>AMI                </td><td>kmeans_AMI         </td></tr>\n",
       "\t<tr><td>AMI_HC             </td><td>0.63376540         </td><td>NA                 </td><td>HC                 </td><td>AMI                </td><td>HC_AMI             </td></tr>\n",
       "\t<tr><td>AMI_HC             </td><td>0.04499966         </td><td>NA                 </td><td>HC                 </td><td>AMI                </td><td>HC_AMI             </td></tr>\n",
       "\t<tr><td>AMI_HC             </td><td>0.04977554         </td><td>NA                 </td><td>HC                 </td><td>AMI                </td><td>HC_AMI             </td></tr>\n",
       "\t<tr><td>Homogeneity_Louvain</td><td>0.65460171         </td><td>NA                 </td><td>Louvain            </td><td>Homogeneity        </td><td>Louvain_Homogeneity</td></tr>\n",
       "\t<tr><td>Homogeneity_Louvain</td><td>0.38414523         </td><td>NA                 </td><td>Louvain            </td><td>Homogeneity        </td><td>Louvain_Homogeneity</td></tr>\n",
       "\t<tr><td>Homogeneity_Louvain</td><td>0.06289825         </td><td>NA                 </td><td>Louvain            </td><td>Homogeneity        </td><td>Louvain_Homogeneity</td></tr>\n",
       "\t<tr><td>Homogeneity_kmeans </td><td>0.60922823         </td><td>NA                 </td><td>kmeans             </td><td>Homogeneity        </td><td>kmeans_Homogeneity </td></tr>\n",
       "\t<tr><td>Homogeneity_kmeans </td><td>0.02422913         </td><td>NA                 </td><td>kmeans             </td><td>Homogeneity        </td><td>kmeans_Homogeneity </td></tr>\n",
       "\t<tr><td>Homogeneity_kmeans </td><td>0.05333733         </td><td>NA                 </td><td>kmeans             </td><td>Homogeneity        </td><td>kmeans_Homogeneity </td></tr>\n",
       "\t<tr><td>Homogeneity_HC     </td><td>0.57744746         </td><td>NA                 </td><td>HC                 </td><td>Homogeneity        </td><td>HC_Homogeneity     </td></tr>\n",
       "\t<tr><td>Homogeneity_HC     </td><td>0.04441404         </td><td>NA                 </td><td>HC                 </td><td>Homogeneity        </td><td>HC_Homogeneity     </td></tr>\n",
       "\t<tr><td>Homogeneity_HC     </td><td>0.05998703         </td><td>NA                 </td><td>HC                 </td><td>Homogeneity        </td><td>HC_Homogeneity     </td></tr>\n",
       "</tbody>\n",
       "</table>\n"
      ],
      "text/latex": [
       "\\begin{tabular}{r|llllll}\n",
       " key & value & Method & Clustering & Metric & exp\\\\\n",
       "\\hline\n",
       "\t ARI\\_Louvain         & 0.44152593            & NA                    & Louvain               & ARI                   & Louvain\\_ARI        \\\\\n",
       "\t ARI\\_Louvain         & 0.18242234            & NA                    & Louvain               & ARI                   & Louvain\\_ARI        \\\\\n",
       "\t ARI\\_Louvain         & 0.01003097            & NA                    & Louvain               & ARI                   & Louvain\\_ARI        \\\\\n",
       "\t ARI\\_kmeans          & 0.41273798            & NA                    & kmeans                & ARI                   & kmeans\\_ARI         \\\\\n",
       "\t ARI\\_kmeans          & 0.01375860            & NA                    & kmeans                & ARI                   & kmeans\\_ARI         \\\\\n",
       "\t ARI\\_kmeans          & 0.02221118            & NA                    & kmeans                & ARI                   & kmeans\\_ARI         \\\\\n",
       "\t ARI\\_HC              & 0.34699914            & NA                    & HC                    & ARI                   & HC\\_ARI             \\\\\n",
       "\t ARI\\_HC              & 0.03441665            & NA                    & HC                    & ARI                   & HC\\_ARI             \\\\\n",
       "\t ARI\\_HC              & 0.03032221            & NA                    & HC                    & ARI                   & HC\\_ARI             \\\\\n",
       "\t AMI\\_Louvain         & 0.65623412            & NA                    & Louvain               & AMI                   & Louvain\\_AMI        \\\\\n",
       "\t AMI\\_Louvain         & 0.37246305            & NA                    & Louvain               & AMI                   & Louvain\\_AMI        \\\\\n",
       "\t AMI\\_Louvain         & 0.05231552            & NA                    & Louvain               & AMI                   & Louvain\\_AMI        \\\\\n",
       "\t AMI\\_kmeans          & 0.64621650            & NA                    & kmeans                & AMI                   & kmeans\\_AMI         \\\\\n",
       "\t AMI\\_kmeans          & 0.02406304            & NA                    & kmeans                & AMI                   & kmeans\\_AMI         \\\\\n",
       "\t AMI\\_kmeans          & 0.04260793            & NA                    & kmeans                & AMI                   & kmeans\\_AMI         \\\\\n",
       "\t AMI\\_HC              & 0.63376540            & NA                    & HC                    & AMI                   & HC\\_AMI             \\\\\n",
       "\t AMI\\_HC              & 0.04499966            & NA                    & HC                    & AMI                   & HC\\_AMI             \\\\\n",
       "\t AMI\\_HC              & 0.04977554            & NA                    & HC                    & AMI                   & HC\\_AMI             \\\\\n",
       "\t Homogeneity\\_Louvain & 0.65460171            & NA                    & Louvain               & Homogeneity           & Louvain\\_Homogeneity\\\\\n",
       "\t Homogeneity\\_Louvain & 0.38414523            & NA                    & Louvain               & Homogeneity           & Louvain\\_Homogeneity\\\\\n",
       "\t Homogeneity\\_Louvain & 0.06289825            & NA                    & Louvain               & Homogeneity           & Louvain\\_Homogeneity\\\\\n",
       "\t Homogeneity\\_kmeans  & 0.60922823            & NA                    & kmeans                & Homogeneity           & kmeans\\_Homogeneity \\\\\n",
       "\t Homogeneity\\_kmeans  & 0.02422913            & NA                    & kmeans                & Homogeneity           & kmeans\\_Homogeneity \\\\\n",
       "\t Homogeneity\\_kmeans  & 0.05333733            & NA                    & kmeans                & Homogeneity           & kmeans\\_Homogeneity \\\\\n",
       "\t Homogeneity\\_HC      & 0.57744746            & NA                    & HC                    & Homogeneity           & HC\\_Homogeneity     \\\\\n",
       "\t Homogeneity\\_HC      & 0.04441404            & NA                    & HC                    & Homogeneity           & HC\\_Homogeneity     \\\\\n",
       "\t Homogeneity\\_HC      & 0.05998703            & NA                    & HC                    & Homogeneity           & HC\\_Homogeneity     \\\\\n",
       "\\end{tabular}\n"
      ],
      "text/markdown": [
       "\n",
       "| key | value | Method | Clustering | Metric | exp |\n",
       "|---|---|---|---|---|---|\n",
       "| ARI_Louvain         | 0.44152593          | NA                  | Louvain             | ARI                 | Louvain_ARI         |\n",
       "| ARI_Louvain         | 0.18242234          | NA                  | Louvain             | ARI                 | Louvain_ARI         |\n",
       "| ARI_Louvain         | 0.01003097          | NA                  | Louvain             | ARI                 | Louvain_ARI         |\n",
       "| ARI_kmeans          | 0.41273798          | NA                  | kmeans              | ARI                 | kmeans_ARI          |\n",
       "| ARI_kmeans          | 0.01375860          | NA                  | kmeans              | ARI                 | kmeans_ARI          |\n",
       "| ARI_kmeans          | 0.02221118          | NA                  | kmeans              | ARI                 | kmeans_ARI          |\n",
       "| ARI_HC              | 0.34699914          | NA                  | HC                  | ARI                 | HC_ARI              |\n",
       "| ARI_HC              | 0.03441665          | NA                  | HC                  | ARI                 | HC_ARI              |\n",
       "| ARI_HC              | 0.03032221          | NA                  | HC                  | ARI                 | HC_ARI              |\n",
       "| AMI_Louvain         | 0.65623412          | NA                  | Louvain             | AMI                 | Louvain_AMI         |\n",
       "| AMI_Louvain         | 0.37246305          | NA                  | Louvain             | AMI                 | Louvain_AMI         |\n",
       "| AMI_Louvain         | 0.05231552          | NA                  | Louvain             | AMI                 | Louvain_AMI         |\n",
       "| AMI_kmeans          | 0.64621650          | NA                  | kmeans              | AMI                 | kmeans_AMI          |\n",
       "| AMI_kmeans          | 0.02406304          | NA                  | kmeans              | AMI                 | kmeans_AMI          |\n",
       "| AMI_kmeans          | 0.04260793          | NA                  | kmeans              | AMI                 | kmeans_AMI          |\n",
       "| AMI_HC              | 0.63376540          | NA                  | HC                  | AMI                 | HC_AMI              |\n",
       "| AMI_HC              | 0.04499966          | NA                  | HC                  | AMI                 | HC_AMI              |\n",
       "| AMI_HC              | 0.04977554          | NA                  | HC                  | AMI                 | HC_AMI              |\n",
       "| Homogeneity_Louvain | 0.65460171          | NA                  | Louvain             | Homogeneity         | Louvain_Homogeneity |\n",
       "| Homogeneity_Louvain | 0.38414523          | NA                  | Louvain             | Homogeneity         | Louvain_Homogeneity |\n",
       "| Homogeneity_Louvain | 0.06289825          | NA                  | Louvain             | Homogeneity         | Louvain_Homogeneity |\n",
       "| Homogeneity_kmeans  | 0.60922823          | NA                  | kmeans              | Homogeneity         | kmeans_Homogeneity  |\n",
       "| Homogeneity_kmeans  | 0.02422913          | NA                  | kmeans              | Homogeneity         | kmeans_Homogeneity  |\n",
       "| Homogeneity_kmeans  | 0.05333733          | NA                  | kmeans              | Homogeneity         | kmeans_Homogeneity  |\n",
       "| Homogeneity_HC      | 0.57744746          | NA                  | HC                  | Homogeneity         | HC_Homogeneity      |\n",
       "| Homogeneity_HC      | 0.04441404          | NA                  | HC                  | Homogeneity         | HC_Homogeneity      |\n",
       "| Homogeneity_HC      | 0.05998703          | NA                  | HC                  | Homogeneity         | HC_Homogeneity      |\n",
       "\n"
      ],
      "text/plain": [
       "   key                 value      Method Clustering Metric     \n",
       "1  ARI_Louvain         0.44152593 NA     Louvain    ARI        \n",
       "2  ARI_Louvain         0.18242234 NA     Louvain    ARI        \n",
       "3  ARI_Louvain         0.01003097 NA     Louvain    ARI        \n",
       "4  ARI_kmeans          0.41273798 NA     kmeans     ARI        \n",
       "5  ARI_kmeans          0.01375860 NA     kmeans     ARI        \n",
       "6  ARI_kmeans          0.02221118 NA     kmeans     ARI        \n",
       "7  ARI_HC              0.34699914 NA     HC         ARI        \n",
       "8  ARI_HC              0.03441665 NA     HC         ARI        \n",
       "9  ARI_HC              0.03032221 NA     HC         ARI        \n",
       "10 AMI_Louvain         0.65623412 NA     Louvain    AMI        \n",
       "11 AMI_Louvain         0.37246305 NA     Louvain    AMI        \n",
       "12 AMI_Louvain         0.05231552 NA     Louvain    AMI        \n",
       "13 AMI_kmeans          0.64621650 NA     kmeans     AMI        \n",
       "14 AMI_kmeans          0.02406304 NA     kmeans     AMI        \n",
       "15 AMI_kmeans          0.04260793 NA     kmeans     AMI        \n",
       "16 AMI_HC              0.63376540 NA     HC         AMI        \n",
       "17 AMI_HC              0.04499966 NA     HC         AMI        \n",
       "18 AMI_HC              0.04977554 NA     HC         AMI        \n",
       "19 Homogeneity_Louvain 0.65460171 NA     Louvain    Homogeneity\n",
       "20 Homogeneity_Louvain 0.38414523 NA     Louvain    Homogeneity\n",
       "21 Homogeneity_Louvain 0.06289825 NA     Louvain    Homogeneity\n",
       "22 Homogeneity_kmeans  0.60922823 NA     kmeans     Homogeneity\n",
       "23 Homogeneity_kmeans  0.02422913 NA     kmeans     Homogeneity\n",
       "24 Homogeneity_kmeans  0.05333733 NA     kmeans     Homogeneity\n",
       "25 Homogeneity_HC      0.57744746 NA     HC         Homogeneity\n",
       "26 Homogeneity_HC      0.04441404 NA     HC         Homogeneity\n",
       "27 Homogeneity_HC      0.05998703 NA     HC         Homogeneity\n",
       "   exp                \n",
       "1  Louvain_ARI        \n",
       "2  Louvain_ARI        \n",
       "3  Louvain_ARI        \n",
       "4  kmeans_ARI         \n",
       "5  kmeans_ARI         \n",
       "6  kmeans_ARI         \n",
       "7  HC_ARI             \n",
       "8  HC_ARI             \n",
       "9  HC_ARI             \n",
       "10 Louvain_AMI        \n",
       "11 Louvain_AMI        \n",
       "12 Louvain_AMI        \n",
       "13 kmeans_AMI         \n",
       "14 kmeans_AMI         \n",
       "15 kmeans_AMI         \n",
       "16 HC_AMI             \n",
       "17 HC_AMI             \n",
       "18 HC_AMI             \n",
       "19 Louvain_Homogeneity\n",
       "20 Louvain_Homogeneity\n",
       "21 Louvain_Homogeneity\n",
       "22 kmeans_Homogeneity \n",
       "23 kmeans_Homogeneity \n",
       "24 kmeans_Homogeneity \n",
       "25 HC_Homogeneity     \n",
       "26 HC_Homogeneity     \n",
       "27 HC_Homogeneity     "
      ]
     },
     "metadata": {},
     "output_type": "display_data"
    }
   ],
   "source": [
    "df"
   ]
  },
  {
   "cell_type": "code",
   "execution_count": 143,
   "metadata": {},
   "outputs": [],
   "source": [
    "scores <- read.delim(comp_path, sep = \",\") %>% rowwise %>% mutate(\"Sort\" = max(ARI_Louvain,ARI_kmeans,ARI_HC)) %>% as.data.frame()"
   ]
  },
  {
   "cell_type": "code",
   "execution_count": 145,
   "metadata": {},
   "outputs": [
    {
     "data": {
      "text/html": [
       "<table>\n",
       "<thead><tr><th scope=col>X</th><th scope=col>V1</th><th scope=col>ARI_Louvain</th><th scope=col>ARI_kmeans</th><th scope=col>ARI_HC</th><th scope=col>AMI_Louvain</th><th scope=col>AMI_kmeans</th><th scope=col>AMI_HC</th><th scope=col>Homogeneity_Louvain</th><th scope=col>Homogeneity_kmeans</th><th scope=col>Homogeneity_HC</th><th scope=col>Sort</th></tr></thead>\n",
       "<tbody>\n",
       "\t<tr><td>1                    </td><td>SnapATAC             </td><td>0.42034078           </td><td>0.35329865           </td><td>0.44305614           </td><td>0.68449885           </td><td>0.60501744           </td><td>0.68908066           </td><td>0.65281466           </td><td>0.58964496           </td><td>0.64597427           </td><td>0.44305614           </td></tr>\n",
       "\t<tr><td>2                    </td><td>SCRAT_motifs         </td><td>0.05158738           </td><td>0.04059899           </td><td>0.03804919           </td><td>0.14000829           </td><td>0.10185238           </td><td>0.10456051           </td><td>0.15407489           </td><td>0.11502550           </td><td>0.11699891           </td><td>0.05158738           </td></tr>\n",
       "\t<tr><td>3                    </td><td>SnapATAC_no_blacklist</td><td>0.44152593           </td><td>0.41273798           </td><td>0.34699914           </td><td>0.65623412           </td><td>0.64621650           </td><td>0.63376540           </td><td>0.65460171           </td><td>0.60922823           </td><td>0.57744746           </td><td>0.44152593           </td></tr>\n",
       "\t<tr><td>4                    </td><td>SCRAT_no_blacklist   </td><td>0.01003097           </td><td>0.02221118           </td><td>0.03032221           </td><td>0.05231552           </td><td>0.04260793           </td><td>0.04977554           </td><td>0.06289825           </td><td>0.05333733           </td><td>0.05998703           </td><td>0.03032221           </td></tr>\n",
       "</tbody>\n",
       "</table>\n"
      ],
      "text/latex": [
       "\\begin{tabular}{r|llllllllllll}\n",
       " X & V1 & ARI\\_Louvain & ARI\\_kmeans & ARI\\_HC & AMI\\_Louvain & AMI\\_kmeans & AMI\\_HC & Homogeneity\\_Louvain & Homogeneity\\_kmeans & Homogeneity\\_HC & Sort\\\\\n",
       "\\hline\n",
       "\t 1                     & SnapATAC              & 0.42034078            & 0.35329865            & 0.44305614            & 0.68449885            & 0.60501744            & 0.68908066            & 0.65281466            & 0.58964496            & 0.64597427            & 0.44305614           \\\\\n",
       "\t 2                       & SCRAT\\_motifs          & 0.05158738              & 0.04059899              & 0.03804919              & 0.14000829              & 0.10185238              & 0.10456051              & 0.15407489              & 0.11502550              & 0.11699891              & 0.05158738             \\\\\n",
       "\t 3                         & SnapATAC\\_no\\_blacklist & 0.44152593                & 0.41273798                & 0.34699914                & 0.65623412                & 0.64621650                & 0.63376540                & 0.65460171                & 0.60922823                & 0.57744746                & 0.44152593               \\\\\n",
       "\t 4                         & SCRAT\\_no\\_blacklist    & 0.01003097                & 0.02221118                & 0.03032221                & 0.05231552                & 0.04260793                & 0.04977554                & 0.06289825                & 0.05333733                & 0.05998703                & 0.03032221               \\\\\n",
       "\\end{tabular}\n"
      ],
      "text/markdown": [
       "\n",
       "| X | V1 | ARI_Louvain | ARI_kmeans | ARI_HC | AMI_Louvain | AMI_kmeans | AMI_HC | Homogeneity_Louvain | Homogeneity_kmeans | Homogeneity_HC | Sort |\n",
       "|---|---|---|---|---|---|---|---|---|---|---|---|\n",
       "| 1                     | SnapATAC              | 0.42034078            | 0.35329865            | 0.44305614            | 0.68449885            | 0.60501744            | 0.68908066            | 0.65281466            | 0.58964496            | 0.64597427            | 0.44305614            |\n",
       "| 2                     | SCRAT_motifs          | 0.05158738            | 0.04059899            | 0.03804919            | 0.14000829            | 0.10185238            | 0.10456051            | 0.15407489            | 0.11502550            | 0.11699891            | 0.05158738            |\n",
       "| 3                     | SnapATAC_no_blacklist | 0.44152593            | 0.41273798            | 0.34699914            | 0.65623412            | 0.64621650            | 0.63376540            | 0.65460171            | 0.60922823            | 0.57744746            | 0.44152593            |\n",
       "| 4                     | SCRAT_no_blacklist    | 0.01003097            | 0.02221118            | 0.03032221            | 0.05231552            | 0.04260793            | 0.04977554            | 0.06289825            | 0.05333733            | 0.05998703            | 0.03032221            |\n",
       "\n"
      ],
      "text/plain": [
       "  X V1                    ARI_Louvain ARI_kmeans ARI_HC     AMI_Louvain\n",
       "1 1 SnapATAC              0.42034078  0.35329865 0.44305614 0.68449885 \n",
       "2 2 SCRAT_motifs          0.05158738  0.04059899 0.03804919 0.14000829 \n",
       "3 3 SnapATAC_no_blacklist 0.44152593  0.41273798 0.34699914 0.65623412 \n",
       "4 4 SCRAT_no_blacklist    0.01003097  0.02221118 0.03032221 0.05231552 \n",
       "  AMI_kmeans AMI_HC     Homogeneity_Louvain Homogeneity_kmeans Homogeneity_HC\n",
       "1 0.60501744 0.68908066 0.65281466          0.58964496         0.64597427    \n",
       "2 0.10185238 0.10456051 0.15407489          0.11502550         0.11699891    \n",
       "3 0.64621650 0.63376540 0.65460171          0.60922823         0.57744746    \n",
       "4 0.04260793 0.04977554 0.06289825          0.05333733         0.05998703    \n",
       "  Sort      \n",
       "1 0.44305614\n",
       "2 0.05158738\n",
       "3 0.44152593\n",
       "4 0.03032221"
      ]
     },
     "metadata": {},
     "output_type": "display_data"
    }
   ],
   "source": [
    "scores"
   ]
  },
  {
   "cell_type": "code",
   "execution_count": null,
   "metadata": {},
   "outputs": [],
   "source": [
    "df <- scores"
   ]
  },
  {
   "cell_type": "code",
   "execution_count": 146,
   "metadata": {},
   "outputs": [
    {
     "ename": "ERROR",
     "evalue": "Error in parse(text = x, srcfile = src): <text>:2:111: unexpected ','\n1: df <- scores %>% select(-X,-Sort) # %>% gather() %>% mutate(\"Method\" = rep(scores$X, 9), \n2:                                                             \"Clustering\" = sapply(strsplit(key,\"\\\\_\"),'[',i=2),\n                                                                                                                 ^\n",
     "output_type": "error",
     "traceback": [
      "Error in parse(text = x, srcfile = src): <text>:2:111: unexpected ','\n1: df <- scores %>% select(-X,-Sort) # %>% gather() %>% mutate(\"Method\" = rep(scores$X, 9), \n2:                                                             \"Clustering\" = sapply(strsplit(key,\"\\\\_\"),'[',i=2),\n                                                                                                                 ^\nTraceback:\n"
     ]
    }
   ],
   "source": [
    "df <- scores %>% select(-X,-Sort) %>% gather() %>% mutate(\"Method\" = rep(scores$X, 9), \n",
    "                                                            \"Clustering\" = sapply(strsplit(key,\"\\\\_\"),'[',i=2),\n",
    "                                                            \"Metric\" = sapply(strsplit(key,\"\\\\_\"),'[',i=1),\n",
    "                                                            \"exp\" = paste(Clustering,Metric,sep=\"_\"))"
   ]
  },
  {
   "cell_type": "code",
   "execution_count": 142,
   "metadata": {},
   "outputs": [
    {
     "name": "stderr",
     "output_type": "stream",
     "text": [
      "Warning message:\n",
      "“attributes are not identical across measure variables;\n",
      "they will be dropped”"
     ]
    },
    {
     "ename": "ERROR",
     "evalue": "Error: Column `Method` must be length 40 (the number of rows) or one, not 36\n",
     "output_type": "error",
     "traceback": [
      "Error: Column `Method` must be length 40 (the number of rows) or one, not 36\nTraceback:\n",
      "1. scores %>% select(-X, -Sort) %>% gather() %>% mutate(Method = rep(scores$X, \n .     9), Clustering = sapply(strsplit(key, \"\\\\_\"), \"[\", i = 2), \n .     Metric = sapply(strsplit(key, \"\\\\_\"), \"[\", i = 1), exp = paste(Clustering, \n .         Metric, sep = \"_\"))",
      "2. withVisible(eval(quote(`_fseq`(`_lhs`)), env, env))",
      "3. eval(quote(`_fseq`(`_lhs`)), env, env)",
      "4. eval(quote(`_fseq`(`_lhs`)), env, env)",
      "5. `_fseq`(`_lhs`)",
      "6. freduce(value, `_function_list`)",
      "7. withVisible(function_list[[k]](value))",
      "8. function_list[[k]](value)",
      "9. mutate(., Method = rep(scores$X, 9), Clustering = sapply(strsplit(key, \n .     \"\\\\_\"), \"[\", i = 2), Metric = sapply(strsplit(key, \"\\\\_\"), \n .     \"[\", i = 1), exp = paste(Clustering, Metric, sep = \"_\"))",
      "10. mutate.data.frame(., Method = rep(scores$X, 9), Clustering = sapply(strsplit(key, \n  .     \"\\\\_\"), \"[\", i = 2), Metric = sapply(strsplit(key, \"\\\\_\"), \n  .     \"[\", i = 1), exp = paste(Clustering, Metric, sep = \"_\"))",
      "11. as.data.frame(mutate(tbl_df(.data), ...))",
      "12. mutate(tbl_df(.data), ...)",
      "13. mutate.tbl_df(tbl_df(.data), ...)",
      "14. mutate_impl(.data, dots, caller_env())"
     ]
    }
   ],
   "source": [
    "scores <- read.delim(comp_path, sep = \",\") %>% rowwise %>% mutate(\"Sort\" = max(ARI_Louvain,ARI_kmeans,ARI_HC)) %>% as.data.frame()\n",
    "\n",
    "df <- scores %>% select(-X,-Sort) %>% gather() %>% mutate(\"Method\" = rep(scores$X, 9), \n",
    "                                                            \"Clustering\" = sapply(strsplit(key,\"\\\\_\"),'[',i=2),\n",
    "                                                            \"Metric\" = sapply(strsplit(key,\"\\\\_\"),'[',i=1),\n",
    "                                                            \"exp\" = paste(Clustering,Metric,sep=\"_\"))\n",
    "\n",
    "  df$Metric <- factor(df$Metric, levels = c(\"ARI\", \"AMI\", \"Homogeneity\"))\n",
    "  df$Method <- factor(df$Method, levels=rev(scores$X[order(scores$Sort, decreasing = T)]))"
   ]
  },
  {
   "cell_type": "code",
   "execution_count": 156,
   "metadata": {},
   "outputs": [
    {
     "data": {
      "image/png": "[encoded data removed]",
      "text/plain": [
       "plot without title"
      ]
     },
     "metadata": {},
     "output_type": "display_data"
    }
   ],
   "source": [
    "ggplot(df, aes(x=value, y= Method, colour=Clustering, shape=Clustering))"
   ]
  },
  {
   "cell_type": "code",
   "execution_count": 82,
   "metadata": {},
   "outputs": [],
   "source": [
    "#paths <- c(\"/data/pinello/PROJECTS/2019_03_scATAC/Github_supp/Buenrostro_2018/test_blacklist/output/metrics/clustering_scores.csv\")\n",
    "          #\"/data/pinello/PROJECTS/2019_03_scATAC/Github/scATAC-benchmarking/Real_Data/Buenrostro_2018/output/metrics/clustering_scores.csv\")"
   ]
  },
  {
   "cell_type": "code",
   "execution_count": 127,
   "metadata": {},
   "outputs": [
    {
     "name": "stderr",
     "output_type": "stream",
     "text": [
      "Warning message:\n",
      "“attributes are not identical across measure variables;\n",
      "they will be dropped”"
     ]
    },
    {
     "ename": "ERROR",
     "evalue": "Error: Column `Method` must be length 40 (the number of rows) or one, not 36\n",
     "output_type": "error",
     "traceback": [
      "Error: Column `Method` must be length 40 (the number of rows) or one, not 36\nTraceback:\n",
      "1. scores %>% select(-X, -Sort) %>% gather() %>% mutate(Method = rep(scores$X, \n .     9), Clustering = sapply(strsplit(key, \"\\\\_\"), \"[\", i = 2), \n .     Metric = sapply(strsplit(key, \"\\\\_\"), \"[\", i = 1), exp = paste(Clustering, \n .         Metric, sep = \"_\"))",
      "2. withVisible(eval(quote(`_fseq`(`_lhs`)), env, env))",
      "3. eval(quote(`_fseq`(`_lhs`)), env, env)",
      "4. eval(quote(`_fseq`(`_lhs`)), env, env)",
      "5. `_fseq`(`_lhs`)",
      "6. freduce(value, `_function_list`)",
      "7. withVisible(function_list[[k]](value))",
      "8. function_list[[k]](value)",
      "9. mutate(., Method = rep(scores$X, 9), Clustering = sapply(strsplit(key, \n .     \"\\\\_\"), \"[\", i = 2), Metric = sapply(strsplit(key, \"\\\\_\"), \n .     \"[\", i = 1), exp = paste(Clustering, Metric, sep = \"_\"))",
      "10. mutate.data.frame(., Method = rep(scores$X, 9), Clustering = sapply(strsplit(key, \n  .     \"\\\\_\"), \"[\", i = 2), Metric = sapply(strsplit(key, \"\\\\_\"), \n  .     \"[\", i = 1), exp = paste(Clustering, Metric, sep = \"_\"))",
      "11. as.data.frame(mutate(tbl_df(.data), ...))",
      "12. mutate(tbl_df(.data), ...)",
      "13. mutate.tbl_df(tbl_df(.data), ...)",
      "14. mutate_impl(.data, dots, caller_env())"
     ]
    }
   ],
   "source": [
    "# for (i in comp_path){\n",
    "    scores <- read.delim((com_path), sep=\",\") %>% rowwise %>% mutate(\"Sort\" = max(ARI_Louvain,ARI_kmeans,ARI_HC)) %>% as.data.frame()\n",
    "    \n",
    "      df <- scores %>% select(-X,-Sort) %>% gather() %>% mutate(\"Method\" = rep(scores$X, 9), \n",
    "                                                            \"Clustering\" = sapply(strsplit(key,\"\\\\_\"),'[',i=2),\n",
    "                                                            \"Metric\" = sapply(strsplit(key,\"\\\\_\"),'[',i=1),\n",
    "                                                            \"exp\" = paste(Clustering,Metric,sep=\"_\"))\n",
    "  \n",
    "  df$Metric <- factor(df$Metric, levels = c(\"ARI\", \"AMI\", \"Homogeneity\"))\n",
    "  df$Method <- factor(df$Method, levels=rev(scores$X[order(scores$Sort, decreasing = T)]))\n",
    "\n",
    "  pdf(\"dotPlot.pdf\", width = 14, height = 8)\n",
    "  ggplot(df, aes(x=value, y= Method, colour=Clustering, shape=Clustering)) + \n",
    "    geom_point(size = 5) + \n",
    "    facet_grid(cols = vars(Metric)) +\n",
    "    scale_x_continuous(limits = c(-0.01,1))+ \n",
    "    guides(color= guide_legend(), size=guide_legend()) + \n",
    "    scale_color_manual(values=c(\"#1f78b4\",\"#33a02c\",\"#ff7f00\")) +\n",
    "    ggtitle(\"\") +\n",
    "    theme_bw(base_size = 14) + xlab(\"\") + ylab(\"\") + \n",
    "    theme(panel.grid.minor.x = element_blank(),\n",
    "          panel.grid.minor.y = element_blank(),\n",
    "          axis.text.x = element_text(size=14, colour = \"black\"),\n",
    "          axis.text.y = element_text(size=14, colour = \"black\"),\n",
    "          legend.position = \"right\",\n",
    "          strip.text.x = element_text(size = 16, colour = \"black\", angle = 0)\n",
    "    )\n",
    "  dev.off()\n",
    "}"
   ]
  },
  {
   "cell_type": "code",
   "execution_count": 88,
   "metadata": {},
   "outputs": [
    {
     "data": {
      "image/png": "[encoded data removed]",
      "text/plain": [
       "plot without title"
      ]
     },
     "metadata": {},
     "output_type": "display_data"
    }
   ],
   "source": [
    "# pdf(\"dotPlot_test.pdf\", width = 14, height = 8)\n",
    "ggplot(df, aes(x=value, y= Method, colour=Clustering, shape=Clustering))"
   ]
  },
  {
   "cell_type": "code",
   "execution_count": 83,
   "metadata": {},
   "outputs": [
    {
     "name": "stderr",
     "output_type": "stream",
     "text": [
      "Warning message in read.table(file = file, header = header, sep = sep, quote = quote, :\n",
      "“incomplete final line found by readTableHeader on '/data/pinello/PROJECTS/2019_03_scATAC/Github_supp/Buenrostro_2018/test_blacklist/output/metrics/clustering_scores.csv'”"
     ]
    }
   ],
   "source": [
    "for (i in paths){\n",
    "    scores <- read.delim((i), sep=\",\") %>% rowwise %>% mutate(\"Sort\" = max(ARI_Louvain,ARI_kmeans,ARI_HC)) %>% as.data.frame()\n",
    "    \n",
    "      df <- scores %>% select(-X,-Sort) %>% gather() %>% mutate(\"Method\" = rep(scores$X, 9), \n",
    "                                                            \"Clustering\" = sapply(strsplit(key,\"\\\\_\"),'[',i=2),\n",
    "                                                            \"Metric\" = sapply(strsplit(key,\"\\\\_\"),'[',i=1),\n",
    "                                                            \"exp\" = paste(Clustering,Metric,sep=\"_\"))\n",
    "    \n",
    "    }"
   ]
  },
  {
   "cell_type": "code",
   "execution_count": 84,
   "metadata": {},
   "outputs": [
    {
     "data": {
      "text/html": [
       "<table>\n",
       "<thead><tr><th scope=col>key</th><th scope=col>value</th><th scope=col>Method</th><th scope=col>Clustering</th><th scope=col>Metric</th><th scope=col>exp</th></tr></thead>\n",
       "<tbody>\n",
       "\t<tr><td>ARI_Louvain          </td><td>0.44152593           </td><td>SnapATAC_no_blacklist</td><td>Louvain              </td><td>ARI                  </td><td>Louvain_ARI          </td></tr>\n",
       "\t<tr><td>ARI_Louvain          </td><td>0.18242234           </td><td>Control              </td><td>Louvain              </td><td>ARI                  </td><td>Louvain_ARI          </td></tr>\n",
       "\t<tr><td>ARI_Louvain          </td><td>0.01003097           </td><td>SCRAT_no_blacklist   </td><td>Louvain              </td><td>ARI                  </td><td>Louvain_ARI          </td></tr>\n",
       "\t<tr><td>ARI_kmeans           </td><td>0.41273798           </td><td>SnapATAC_no_blacklist</td><td>kmeans               </td><td>ARI                  </td><td>kmeans_ARI           </td></tr>\n",
       "\t<tr><td>ARI_kmeans           </td><td>0.01375860           </td><td>Control              </td><td>kmeans               </td><td>ARI                  </td><td>kmeans_ARI           </td></tr>\n",
       "\t<tr><td>ARI_kmeans           </td><td>0.02221118           </td><td>SCRAT_no_blacklist   </td><td>kmeans               </td><td>ARI                  </td><td>kmeans_ARI           </td></tr>\n",
       "\t<tr><td>ARI_HC               </td><td>0.34699914           </td><td>SnapATAC_no_blacklist</td><td>HC                   </td><td>ARI                  </td><td>HC_ARI               </td></tr>\n",
       "\t<tr><td>ARI_HC               </td><td>0.03441665           </td><td>Control              </td><td>HC                   </td><td>ARI                  </td><td>HC_ARI               </td></tr>\n",
       "\t<tr><td>ARI_HC               </td><td>0.03032221           </td><td>SCRAT_no_blacklist   </td><td>HC                   </td><td>ARI                  </td><td>HC_ARI               </td></tr>\n",
       "\t<tr><td>AMI_Louvain          </td><td>0.65623412           </td><td>SnapATAC_no_blacklist</td><td>Louvain              </td><td>AMI                  </td><td>Louvain_AMI          </td></tr>\n",
       "\t<tr><td>AMI_Louvain          </td><td>0.37246305           </td><td>Control              </td><td>Louvain              </td><td>AMI                  </td><td>Louvain_AMI          </td></tr>\n",
       "\t<tr><td>AMI_Louvain          </td><td>0.05231552           </td><td>SCRAT_no_blacklist   </td><td>Louvain              </td><td>AMI                  </td><td>Louvain_AMI          </td></tr>\n",
       "\t<tr><td>AMI_kmeans           </td><td>0.64621650           </td><td>SnapATAC_no_blacklist</td><td>kmeans               </td><td>AMI                  </td><td>kmeans_AMI           </td></tr>\n",
       "\t<tr><td>AMI_kmeans           </td><td>0.02406304           </td><td>Control              </td><td>kmeans               </td><td>AMI                  </td><td>kmeans_AMI           </td></tr>\n",
       "\t<tr><td>AMI_kmeans           </td><td>0.04260793           </td><td>SCRAT_no_blacklist   </td><td>kmeans               </td><td>AMI                  </td><td>kmeans_AMI           </td></tr>\n",
       "\t<tr><td>AMI_HC               </td><td>0.63376540           </td><td>SnapATAC_no_blacklist</td><td>HC                   </td><td>AMI                  </td><td>HC_AMI               </td></tr>\n",
       "\t<tr><td>AMI_HC               </td><td>0.04499966           </td><td>Control              </td><td>HC                   </td><td>AMI                  </td><td>HC_AMI               </td></tr>\n",
       "\t<tr><td>AMI_HC               </td><td>0.04977554           </td><td>SCRAT_no_blacklist   </td><td>HC                   </td><td>AMI                  </td><td>HC_AMI               </td></tr>\n",
       "\t<tr><td>Homogeneity_Louvain  </td><td>0.65460171           </td><td>SnapATAC_no_blacklist</td><td>Louvain              </td><td>Homogeneity          </td><td>Louvain_Homogeneity  </td></tr>\n",
       "\t<tr><td>Homogeneity_Louvain  </td><td>0.38414523           </td><td>Control              </td><td>Louvain              </td><td>Homogeneity          </td><td>Louvain_Homogeneity  </td></tr>\n",
       "\t<tr><td>Homogeneity_Louvain  </td><td>0.06289825           </td><td>SCRAT_no_blacklist   </td><td>Louvain              </td><td>Homogeneity          </td><td>Louvain_Homogeneity  </td></tr>\n",
       "\t<tr><td>Homogeneity_kmeans   </td><td>0.60922823           </td><td>SnapATAC_no_blacklist</td><td>kmeans               </td><td>Homogeneity          </td><td>kmeans_Homogeneity   </td></tr>\n",
       "\t<tr><td>Homogeneity_kmeans   </td><td>0.02422913           </td><td>Control              </td><td>kmeans               </td><td>Homogeneity          </td><td>kmeans_Homogeneity   </td></tr>\n",
       "\t<tr><td>Homogeneity_kmeans   </td><td>0.05333733           </td><td>SCRAT_no_blacklist   </td><td>kmeans               </td><td>Homogeneity          </td><td>kmeans_Homogeneity   </td></tr>\n",
       "\t<tr><td>Homogeneity_HC       </td><td>0.57744746           </td><td>SnapATAC_no_blacklist</td><td>HC                   </td><td>Homogeneity          </td><td>HC_Homogeneity       </td></tr>\n",
       "\t<tr><td>Homogeneity_HC       </td><td>0.04441404           </td><td>Control              </td><td>HC                   </td><td>Homogeneity          </td><td>HC_Homogeneity       </td></tr>\n",
       "\t<tr><td>Homogeneity_HC       </td><td>0.05998703           </td><td>SCRAT_no_blacklist   </td><td>HC                   </td><td>Homogeneity          </td><td>HC_Homogeneity       </td></tr>\n",
       "</tbody>\n",
       "</table>\n"
      ],
      "text/latex": [
       "\\begin{tabular}{r|llllll}\n",
       " key & value & Method & Clustering & Metric & exp\\\\\n",
       "\\hline\n",
       "\t ARI\\_Louvain             & 0.44152593                & SnapATAC\\_no\\_blacklist & Louvain                   & ARI                       & Louvain\\_ARI            \\\\\n",
       "\t ARI\\_Louvain         & 0.18242234            & Control               & Louvain               & ARI                   & Louvain\\_ARI        \\\\\n",
       "\t ARI\\_Louvain             & 0.01003097                & SCRAT\\_no\\_blacklist    & Louvain                   & ARI                       & Louvain\\_ARI            \\\\\n",
       "\t ARI\\_kmeans              & 0.41273798                & SnapATAC\\_no\\_blacklist & kmeans                    & ARI                       & kmeans\\_ARI             \\\\\n",
       "\t ARI\\_kmeans          & 0.01375860            & Control               & kmeans                & ARI                   & kmeans\\_ARI         \\\\\n",
       "\t ARI\\_kmeans              & 0.02221118                & SCRAT\\_no\\_blacklist    & kmeans                    & ARI                       & kmeans\\_ARI             \\\\\n",
       "\t ARI\\_HC                  & 0.34699914                & SnapATAC\\_no\\_blacklist & HC                        & ARI                       & HC\\_ARI                 \\\\\n",
       "\t ARI\\_HC              & 0.03441665            & Control               & HC                    & ARI                   & HC\\_ARI             \\\\\n",
       "\t ARI\\_HC                  & 0.03032221                & SCRAT\\_no\\_blacklist    & HC                        & ARI                       & HC\\_ARI                 \\\\\n",
       "\t AMI\\_Louvain             & 0.65623412                & SnapATAC\\_no\\_blacklist & Louvain                   & AMI                       & Louvain\\_AMI            \\\\\n",
       "\t AMI\\_Louvain         & 0.37246305            & Control               & Louvain               & AMI                   & Louvain\\_AMI        \\\\\n",
       "\t AMI\\_Louvain             & 0.05231552                & SCRAT\\_no\\_blacklist    & Louvain                   & AMI                       & Louvain\\_AMI            \\\\\n",
       "\t AMI\\_kmeans              & 0.64621650                & SnapATAC\\_no\\_blacklist & kmeans                    & AMI                       & kmeans\\_AMI             \\\\\n",
       "\t AMI\\_kmeans          & 0.02406304            & Control               & kmeans                & AMI                   & kmeans\\_AMI         \\\\\n",
       "\t AMI\\_kmeans              & 0.04260793                & SCRAT\\_no\\_blacklist    & kmeans                    & AMI                       & kmeans\\_AMI             \\\\\n",
       "\t AMI\\_HC                  & 0.63376540                & SnapATAC\\_no\\_blacklist & HC                        & AMI                       & HC\\_AMI                 \\\\\n",
       "\t AMI\\_HC              & 0.04499966            & Control               & HC                    & AMI                   & HC\\_AMI             \\\\\n",
       "\t AMI\\_HC                  & 0.04977554                & SCRAT\\_no\\_blacklist    & HC                        & AMI                       & HC\\_AMI                 \\\\\n",
       "\t Homogeneity\\_Louvain     & 0.65460171                & SnapATAC\\_no\\_blacklist & Louvain                   & Homogeneity               & Louvain\\_Homogeneity    \\\\\n",
       "\t Homogeneity\\_Louvain & 0.38414523            & Control               & Louvain               & Homogeneity           & Louvain\\_Homogeneity\\\\\n",
       "\t Homogeneity\\_Louvain     & 0.06289825                & SCRAT\\_no\\_blacklist    & Louvain                   & Homogeneity               & Louvain\\_Homogeneity    \\\\\n",
       "\t Homogeneity\\_kmeans      & 0.60922823                & SnapATAC\\_no\\_blacklist & kmeans                    & Homogeneity               & kmeans\\_Homogeneity     \\\\\n",
       "\t Homogeneity\\_kmeans  & 0.02422913            & Control               & kmeans                & Homogeneity           & kmeans\\_Homogeneity \\\\\n",
       "\t Homogeneity\\_kmeans      & 0.05333733                & SCRAT\\_no\\_blacklist    & kmeans                    & Homogeneity               & kmeans\\_Homogeneity     \\\\\n",
       "\t Homogeneity\\_HC          & 0.57744746                & SnapATAC\\_no\\_blacklist & HC                        & Homogeneity               & HC\\_Homogeneity         \\\\\n",
       "\t Homogeneity\\_HC      & 0.04441404            & Control               & HC                    & Homogeneity           & HC\\_Homogeneity     \\\\\n",
       "\t Homogeneity\\_HC          & 0.05998703                & SCRAT\\_no\\_blacklist    & HC                        & Homogeneity               & HC\\_Homogeneity         \\\\\n",
       "\\end{tabular}\n"
      ],
      "text/markdown": [
       "\n",
       "| key | value | Method | Clustering | Metric | exp |\n",
       "|---|---|---|---|---|---|\n",
       "| ARI_Louvain           | 0.44152593            | SnapATAC_no_blacklist | Louvain               | ARI                   | Louvain_ARI           |\n",
       "| ARI_Louvain           | 0.18242234            | Control               | Louvain               | ARI                   | Louvain_ARI           |\n",
       "| ARI_Louvain           | 0.01003097            | SCRAT_no_blacklist    | Louvain               | ARI                   | Louvain_ARI           |\n",
       "| ARI_kmeans            | 0.41273798            | SnapATAC_no_blacklist | kmeans                | ARI                   | kmeans_ARI            |\n",
       "| ARI_kmeans            | 0.01375860            | Control               | kmeans                | ARI                   | kmeans_ARI            |\n",
       "| ARI_kmeans            | 0.02221118            | SCRAT_no_blacklist    | kmeans                | ARI                   | kmeans_ARI            |\n",
       "| ARI_HC                | 0.34699914            | SnapATAC_no_blacklist | HC                    | ARI                   | HC_ARI                |\n",
       "| ARI_HC                | 0.03441665            | Control               | HC                    | ARI                   | HC_ARI                |\n",
       "| ARI_HC                | 0.03032221            | SCRAT_no_blacklist    | HC                    | ARI                   | HC_ARI                |\n",
       "| AMI_Louvain           | 0.65623412            | SnapATAC_no_blacklist | Louvain               | AMI                   | Louvain_AMI           |\n",
       "| AMI_Louvain           | 0.37246305            | Control               | Louvain               | AMI                   | Louvain_AMI           |\n",
       "| AMI_Louvain           | 0.05231552            | SCRAT_no_blacklist    | Louvain               | AMI                   | Louvain_AMI           |\n",
       "| AMI_kmeans            | 0.64621650            | SnapATAC_no_blacklist | kmeans                | AMI                   | kmeans_AMI            |\n",
       "| AMI_kmeans            | 0.02406304            | Control               | kmeans                | AMI                   | kmeans_AMI            |\n",
       "| AMI_kmeans            | 0.04260793            | SCRAT_no_blacklist    | kmeans                | AMI                   | kmeans_AMI            |\n",
       "| AMI_HC                | 0.63376540            | SnapATAC_no_blacklist | HC                    | AMI                   | HC_AMI                |\n",
       "| AMI_HC                | 0.04499966            | Control               | HC                    | AMI                   | HC_AMI                |\n",
       "| AMI_HC                | 0.04977554            | SCRAT_no_blacklist    | HC                    | AMI                   | HC_AMI                |\n",
       "| Homogeneity_Louvain   | 0.65460171            | SnapATAC_no_blacklist | Louvain               | Homogeneity           | Louvain_Homogeneity   |\n",
       "| Homogeneity_Louvain   | 0.38414523            | Control               | Louvain               | Homogeneity           | Louvain_Homogeneity   |\n",
       "| Homogeneity_Louvain   | 0.06289825            | SCRAT_no_blacklist    | Louvain               | Homogeneity           | Louvain_Homogeneity   |\n",
       "| Homogeneity_kmeans    | 0.60922823            | SnapATAC_no_blacklist | kmeans                | Homogeneity           | kmeans_Homogeneity    |\n",
       "| Homogeneity_kmeans    | 0.02422913            | Control               | kmeans                | Homogeneity           | kmeans_Homogeneity    |\n",
       "| Homogeneity_kmeans    | 0.05333733            | SCRAT_no_blacklist    | kmeans                | Homogeneity           | kmeans_Homogeneity    |\n",
       "| Homogeneity_HC        | 0.57744746            | SnapATAC_no_blacklist | HC                    | Homogeneity           | HC_Homogeneity        |\n",
       "| Homogeneity_HC        | 0.04441404            | Control               | HC                    | Homogeneity           | HC_Homogeneity        |\n",
       "| Homogeneity_HC        | 0.05998703            | SCRAT_no_blacklist    | HC                    | Homogeneity           | HC_Homogeneity        |\n",
       "\n"
      ],
      "text/plain": [
       "   key                 value      Method                Clustering Metric     \n",
       "1  ARI_Louvain         0.44152593 SnapATAC_no_blacklist Louvain    ARI        \n",
       "2  ARI_Louvain         0.18242234 Control               Louvain    ARI        \n",
       "3  ARI_Louvain         0.01003097 SCRAT_no_blacklist    Louvain    ARI        \n",
       "4  ARI_kmeans          0.41273798 SnapATAC_no_blacklist kmeans     ARI        \n",
       "5  ARI_kmeans          0.01375860 Control               kmeans     ARI        \n",
       "6  ARI_kmeans          0.02221118 SCRAT_no_blacklist    kmeans     ARI        \n",
       "7  ARI_HC              0.34699914 SnapATAC_no_blacklist HC         ARI        \n",
       "8  ARI_HC              0.03441665 Control               HC         ARI        \n",
       "9  ARI_HC              0.03032221 SCRAT_no_blacklist    HC         ARI        \n",
       "10 AMI_Louvain         0.65623412 SnapATAC_no_blacklist Louvain    AMI        \n",
       "11 AMI_Louvain         0.37246305 Control               Louvain    AMI        \n",
       "12 AMI_Louvain         0.05231552 SCRAT_no_blacklist    Louvain    AMI        \n",
       "13 AMI_kmeans          0.64621650 SnapATAC_no_blacklist kmeans     AMI        \n",
       "14 AMI_kmeans          0.02406304 Control               kmeans     AMI        \n",
       "15 AMI_kmeans          0.04260793 SCRAT_no_blacklist    kmeans     AMI        \n",
       "16 AMI_HC              0.63376540 SnapATAC_no_blacklist HC         AMI        \n",
       "17 AMI_HC              0.04499966 Control               HC         AMI        \n",
       "18 AMI_HC              0.04977554 SCRAT_no_blacklist    HC         AMI        \n",
       "19 Homogeneity_Louvain 0.65460171 SnapATAC_no_blacklist Louvain    Homogeneity\n",
       "20 Homogeneity_Louvain 0.38414523 Control               Louvain    Homogeneity\n",
       "21 Homogeneity_Louvain 0.06289825 SCRAT_no_blacklist    Louvain    Homogeneity\n",
       "22 Homogeneity_kmeans  0.60922823 SnapATAC_no_blacklist kmeans     Homogeneity\n",
       "23 Homogeneity_kmeans  0.02422913 Control               kmeans     Homogeneity\n",
       "24 Homogeneity_kmeans  0.05333733 SCRAT_no_blacklist    kmeans     Homogeneity\n",
       "25 Homogeneity_HC      0.57744746 SnapATAC_no_blacklist HC         Homogeneity\n",
       "26 Homogeneity_HC      0.04441404 Control               HC         Homogeneity\n",
       "27 Homogeneity_HC      0.05998703 SCRAT_no_blacklist    HC         Homogeneity\n",
       "   exp                \n",
       "1  Louvain_ARI        \n",
       "2  Louvain_ARI        \n",
       "3  Louvain_ARI        \n",
       "4  kmeans_ARI         \n",
       "5  kmeans_ARI         \n",
       "6  kmeans_ARI         \n",
       "7  HC_ARI             \n",
       "8  HC_ARI             \n",
       "9  HC_ARI             \n",
       "10 Louvain_AMI        \n",
       "11 Louvain_AMI        \n",
       "12 Louvain_AMI        \n",
       "13 kmeans_AMI         \n",
       "14 kmeans_AMI         \n",
       "15 kmeans_AMI         \n",
       "16 HC_AMI             \n",
       "17 HC_AMI             \n",
       "18 HC_AMI             \n",
       "19 Louvain_Homogeneity\n",
       "20 Louvain_Homogeneity\n",
       "21 Louvain_Homogeneity\n",
       "22 kmeans_Homogeneity \n",
       "23 kmeans_Homogeneity \n",
       "24 kmeans_Homogeneity \n",
       "25 HC_Homogeneity     \n",
       "26 HC_Homogeneity     \n",
       "27 HC_Homogeneity     "
      ]
     },
     "metadata": {},
     "output_type": "display_data"
    }
   ],
   "source": [
    "df"
   ]
  },
  {
   "cell_type": "code",
   "execution_count": 59,
   "metadata": {},
   "outputs": [
    {
     "ename": "ERROR",
     "evalue": "Error in parse(text = x, srcfile = src): <text>:13:5: unexpected symbol\n12:     pdf(paste0(\"dotPlot_\", sapply(strsplit(paths[i],\"/\"), \".pdf\"), width = 14, height = 8)\n13:     ggplot\n        ^\n",
     "output_type": "error",
     "traceback": [
      "Error in parse(text = x, srcfile = src): <text>:13:5: unexpected symbol\n12:     pdf(paste0(\"dotPlot_\", sapply(strsplit(paths[i],\"/\"), \".pdf\"), width = 14, height = 8)\n13:     ggplot\n        ^\nTraceback:\n"
     ]
    }
   ],
   "source": [
    "for (i in paths){\n",
    "    scores <- read.delim((i), sep=\",\") %>% rowwise %>% mutate(\"Sort\" = max(ARI_Louvain,ARI_kmeans,ARI_HC)) %>% as.data.frame()\n",
    "    \n",
    "    df <- scores %>% select(-X,-Sort) %>% gather() %>% mutate(\"Method\" = rep(scores$X, 9), \n",
    "                                                            \"Clustering\" = sapply(strsplit(key,\"\\\\_\"),'[',i=2),\n",
    "                                                            \"Metric\" = sapply(strsplit(key,\"\\\\_\"),'[',i=1),\n",
    "                                                            \"exp\" = paste(Clustering,Metric,sep=\"_\"))\n",
    "    \n",
    "    df$Metric <- factor(df$Metric, levels = c(\"ARI\", \"AMI\", \"Homogeneity\"))\n",
    "    df$Method <- factor(df$Method, levels=rev(scores$X[order(scores$Sort, decreasing = T)]))\n",
    "\n",
    "    pdf(paste0(\"dotplot_noBL.pdf\"), width = 14, height = 8)\n",
    "    ggplot(df, aes(x=value, y= Method, colour=Clustering, shape=Clustering)) + \n",
    "    geom_point(size = 5) + \n",
    "    facet_grid(cols = vars(Metric)) +\n",
    "    scale_x_continuous(limits = c(-0.01,1))+ \n",
    "    guides(color= guide_legend(), size=guide_legend()) + \n",
    "    scale_color_manual(values=c(\"#1f78b4\",\"#33a02c\",\"#ff7f00\")) +\n",
    "    ggtitle(\"\") +\n",
    "    theme_bw(base_size = 14) + xlab(\"\") + ylab(\"\") + \n",
    "    theme(panel.grid.minor.x = element_blank(),\n",
    "          panel.grid.minor.y = element_blank(),\n",
    "          axis.text.x = element_text(size=14, colour = \"black\"),\n",
    "          axis.text.y = element_text(size=14, colour = \"black\"),\n",
    "          legend.position = \"right\",\n",
    "          strip.text.x = element_text(size = 16, colour = \"black\", angle = 0)\n",
    "    )\n",
    "  dev.off()\n",
    "}"
   ]
  },
  {
   "cell_type": "code",
   "execution_count": 52,
   "metadata": {},
   "outputs": [
    {
     "name": "stderr",
     "output_type": "stream",
     "text": [
      "ERROR while rich displaying an object: Error: At least one layer must contain all faceting variables: `title`.\n",
      "* Plot is missing `title`\n",
      "* Layer 1 is missing `title`\n",
      "\n",
      "Traceback:\n",
      "1. FUN(X[[i]], ...)\n",
      "2. tryCatch(withCallingHandlers({\n",
      " .     if (!mime %in% names(repr::mime2repr)) \n",
      " .         stop(\"No repr_* for mimetype \", mime, \" in repr::mime2repr\")\n",
      " .     rpr <- repr::mime2repr[[mime]](obj)\n",
      " .     if (is.null(rpr)) \n",
      " .         return(NULL)\n",
      " .     prepare_content(is.raw(rpr), rpr)\n",
      " . }, error = error_handler), error = outer_handler)\n",
      "3. tryCatchList(expr, classes, parentenv, handlers)\n",
      "4. tryCatchOne(expr, names, parentenv, handlers[[1L]])\n",
      "5. doTryCatch(return(expr), name, parentenv, handler)\n",
      "6. withCallingHandlers({\n",
      " .     if (!mime %in% names(repr::mime2repr)) \n",
      " .         stop(\"No repr_* for mimetype \", mime, \" in repr::mime2repr\")\n",
      " .     rpr <- repr::mime2repr[[mime]](obj)\n",
      " .     if (is.null(rpr)) \n",
      " .         return(NULL)\n",
      " .     prepare_content(is.raw(rpr), rpr)\n",
      " . }, error = error_handler)\n",
      "7. repr::mime2repr[[mime]](obj)\n",
      "8. repr_text.default(obj)\n",
      "9. paste(capture.output(print(obj)), collapse = \"\\n\")\n",
      "10. capture.output(print(obj))\n",
      "11. evalVis(expr)\n",
      "12. withVisible(eval(expr, pf))\n",
      "13. eval(expr, pf)\n",
      "14. eval(expr, pf)\n",
      "15. print(obj)\n",
      "16. print.ggplot(obj)\n",
      "17. ggplot_build(x)\n",
      "18. ggplot_build.ggplot(x)\n",
      "19. layout$setup(layer_data, plot$data, plot$plot_env)\n",
      "20. f(..., self = self)\n",
      "21. self$facet$compute_layout(data, self$facet_params)\n",
      "22. f(...)\n",
      "23. combine_vars(data, params$plot_env, cols, drop = params$drop)\n",
      "24. stop(\"At least one layer must contain all faceting variables: \", \n",
      "  .     var_list(names(vars)), \".\\n\", paste0(\"* \", name, \" is missing \", \n",
      "  .         missing_txt, collapse = \"\\n\"), call. = FALSE)\n"
     ]
    },
    {
     "data": {
      "text/html": [
       "<strong>png:</strong> 2"
      ],
      "text/latex": [
       "\\textbf{png:} 2"
      ],
      "text/markdown": [
       "**png:** 2"
      ],
      "text/plain": [
       "png \n",
       "  2 "
      ]
     },
     "metadata": {},
     "output_type": "display_data"
    }
   ],
   "source": [
    "pdf(paste0(\"dotPlot_\", sapply(strsplit(paths[i],\"/\"),'[',i=2), \".pdf\"), width = 7, height = 8)\n",
    "  ggplot(df, aes(x=Difference, y= Method, colour=Clustering, shape=Clustering)) + \n",
    "    geom_point(size = 5) + \n",
    "    scale_x_continuous(limits = c(-0.1,0.2))+ \n",
    "    guides(color= guide_legend(), size=guide_legend()) + \n",
    "    scale_color_manual(values=c(\"#1f78b4\",\"#33a02c\",\"#ff7f00\")) +\n",
    "    ggtitle(\"\") +\n",
    "    theme_bw(base_size = 14) + xlab(\"\") + ylab(\"\") + \n",
    "    theme(panel.grid.minor.x = element_blank(),\n",
    "          panel.grid.minor.y = element_blank(),\n",
    "          axis.text.x = element_text(size=14, colour = \"black\"),\n",
    "          axis.text.y = element_text(size=14, colour = \"black\"),\n",
    "          legend.position = \"right\",\n",
    "          strip.text.x = element_text(size = 16, colour = \"black\", angle = 0)\n",
    "    ) + facet_grid(. ~ title) \n",
    "dev.off()"
   ]
  },
  {
   "cell_type": "code",
   "execution_count": 51,
   "metadata": {},
   "outputs": [
    {
     "name": "stderr",
     "output_type": "stream",
     "text": [
      "Warning message in file(file, \"rt\"):\n",
      "“cannot open file '/data/pinello/PROJECTS/2019_03_scATAC/Github/scATAC-benchmarking//data/pinello/PROJECTS/2019_03_scATAC/Github_supp/Buenrostro_2018/test_blacklist/output/metrics/clustering_scores.csv/output/metrics/clustering_RAGI_scores.csv': No such file or directory”"
     ]
    },
    {
     "ename": "ERROR",
     "evalue": "Error in file(file, \"rt\"): cannot open the connection\n",
     "output_type": "error",
     "traceback": [
      "Error in file(file, \"rt\"): cannot open the connection\nTraceback:\n",
      "1. read.delim(paste0(\"/data/pinello/PROJECTS/2019_03_scATAC/Github/scATAC-benchmarking/\", \n .     paths[i], \"/output/metrics/clustering_RAGI_scores.csv\"), \n .     sep = \",\")",
      "2. read.table(file = file, header = header, sep = sep, quote = quote, \n .     dec = dec, fill = fill, comment.char = comment.char, ...)",
      "3. file(file, \"rt\")"
     ]
    }
   ],
   "source": [
    "i=1\n",
    "scores <- read.delim(paste0(\"/data/pinello/PROJECTS/2019_03_scATAC/Github/scATAC-benchmarking/\", paths[i], \"/output/metrics/clustering_RAGI_scores.csv\"), sep=\",\") \n",
    "\n",
    "maxs <- scores %>% group_by(Method) %>% summarise(max=max(Difference)) %>% arrange(.,desc(max))\n",
    "  \n",
    "df <- scores %>% select(Method,Clustering,Difference)\n",
    "df$Method <- factor(df$Method, levels=rev(maxs$Method))\n",
    "df$title <- \"Difference in Gini Score\"\n",
    "  \n",
    "pdf(paste0(\"dotPlot_\", sapply(strsplit(paths[i],\"/\"),'[',i=2), \".pdf\"), width = 7, height = 8)\n",
    "  ggplot(df, aes(x=Difference, y= Method, colour=Clustering, shape=Clustering)) + \n",
    "    geom_point(size = 5) + \n",
    "    scale_x_continuous(limits = c(-0.1,0.2))+ \n",
    "    guides(color= guide_legend(), size=guide_legend()) + \n",
    "    scale_color_manual(values=c(\"#1f78b4\",\"#33a02c\",\"#ff7f00\")) +\n",
    "    ggtitle(\"\") +\n",
    "    theme_bw(base_size = 14) + xlab(\"\") + ylab(\"\") + \n",
    "    theme(panel.grid.minor.x = element_blank(),\n",
    "          panel.grid.minor.y = element_blank(),\n",
    "          axis.text.x = element_text(size=14, colour = \"black\"),\n",
    "          axis.text.y = element_text(size=14, colour = \"black\"),\n",
    "          legend.position = \"right\",\n",
    "          strip.text.x = element_text(size = 16, colour = \"black\", angle = 0)\n",
    "    ) + facet_grid(. ~ title) \n",
    "dev.off()"
   ]
  },
  {
   "cell_type": "code",
   "execution_count": 45,
   "metadata": {},
   "outputs": [
    {
     "data": {
      "text/html": [
       "<table>\n",
       "<thead><tr><th scope=col>X</th><th scope=col>ARI_Louvain</th><th scope=col>ARI_kmeans</th><th scope=col>ARI_HC</th><th scope=col>AMI_Louvain</th><th scope=col>AMI_kmeans</th><th scope=col>AMI_HC</th><th scope=col>Homogeneity_Louvain</th><th scope=col>Homogeneity_kmeans</th><th scope=col>Homogeneity_HC</th><th scope=col>Sort</th></tr></thead>\n",
       "<tbody>\n",
       "\t<tr><td>SnapATAC_no_blacklist</td><td>0.44152593           </td><td>0.41273798           </td><td>0.34699914           </td><td>0.65623412           </td><td>0.64621650           </td><td>0.63376540           </td><td>0.65460171           </td><td>0.60922823           </td><td>0.57744746           </td><td>0.4415259            </td></tr>\n",
       "\t<tr><td>Control              </td><td>0.18242234           </td><td>0.01375860           </td><td>0.03441665           </td><td>0.37246305           </td><td>0.02406304           </td><td>0.04499966           </td><td>0.38414523           </td><td>0.02422913           </td><td>0.04441404           </td><td>0.1824223            </td></tr>\n",
       "\t<tr><td>SCRAT__no_blacklist  </td><td>0.01003097           </td><td>0.02221118           </td><td>0.03032220           </td><td>0.05231552           </td><td>0.04260793           </td><td>0.04977554           </td><td>0.06289825           </td><td>0.05333733           </td><td>0.05998703           </td><td>0.0303222            </td></tr>\n",
       "</tbody>\n",
       "</table>\n"
      ],
      "text/latex": [
       "\\begin{tabular}{r|lllllllllll}\n",
       " X & ARI\\_Louvain & ARI\\_kmeans & ARI\\_HC & AMI\\_Louvain & AMI\\_kmeans & AMI\\_HC & Homogeneity\\_Louvain & Homogeneity\\_kmeans & Homogeneity\\_HC & Sort\\\\\n",
       "\\hline\n",
       "\t SnapATAC\\_no\\_blacklist & 0.44152593                & 0.41273798                & 0.34699914                & 0.65623412                & 0.64621650                & 0.63376540                & 0.65460171                & 0.60922823                & 0.57744746                & 0.4415259                \\\\\n",
       "\t Control               & 0.18242234            & 0.01375860            & 0.03441665            & 0.37246305            & 0.02406304            & 0.04499966            & 0.38414523            & 0.02422913            & 0.04441404            & 0.1824223            \\\\\n",
       "\t SCRAT\\_\\_no\\_blacklist   & 0.01003097                  & 0.02221118                  & 0.03032220                  & 0.05231552                  & 0.04260793                  & 0.04977554                  & 0.06289825                  & 0.05333733                  & 0.05998703                  & 0.0303222                  \\\\\n",
       "\\end{tabular}\n"
      ],
      "text/markdown": [
       "\n",
       "| X | ARI_Louvain | ARI_kmeans | ARI_HC | AMI_Louvain | AMI_kmeans | AMI_HC | Homogeneity_Louvain | Homogeneity_kmeans | Homogeneity_HC | Sort |\n",
       "|---|---|---|---|---|---|---|---|---|---|---|\n",
       "| SnapATAC_no_blacklist | 0.44152593            | 0.41273798            | 0.34699914            | 0.65623412            | 0.64621650            | 0.63376540            | 0.65460171            | 0.60922823            | 0.57744746            | 0.4415259             |\n",
       "| Control               | 0.18242234            | 0.01375860            | 0.03441665            | 0.37246305            | 0.02406304            | 0.04499966            | 0.38414523            | 0.02422913            | 0.04441404            | 0.1824223             |\n",
       "| SCRAT__no_blacklist   | 0.01003097            | 0.02221118            | 0.03032220            | 0.05231552            | 0.04260793            | 0.04977554            | 0.06289825            | 0.05333733            | 0.05998703            | 0.0303222             |\n",
       "\n"
      ],
      "text/plain": [
       "  X                     ARI_Louvain ARI_kmeans ARI_HC     AMI_Louvain\n",
       "1 SnapATAC_no_blacklist 0.44152593  0.41273798 0.34699914 0.65623412 \n",
       "2 Control               0.18242234  0.01375860 0.03441665 0.37246305 \n",
       "3 SCRAT__no_blacklist   0.01003097  0.02221118 0.03032220 0.05231552 \n",
       "  AMI_kmeans AMI_HC     Homogeneity_Louvain Homogeneity_kmeans Homogeneity_HC\n",
       "1 0.64621650 0.63376540 0.65460171          0.60922823         0.57744746    \n",
       "2 0.02406304 0.04499966 0.38414523          0.02422913         0.04441404    \n",
       "3 0.04260793 0.04977554 0.06289825          0.05333733         0.05998703    \n",
       "  Sort     \n",
       "1 0.4415259\n",
       "2 0.1824223\n",
       "3 0.0303222"
      ]
     },
     "metadata": {},
     "output_type": "display_data"
    }
   ],
   "source": [
    "scores"
   ]
  },
  {
   "cell_type": "code",
   "execution_count": 46,
   "metadata": {},
   "outputs": [],
   "source": [
    "df <- scores %>% select(-X,-Sort) %>% gather() %>% mutate(\"Method\" = rep(scores$X, 9), \n",
    "                                                            \"Clustering\" = sapply(strsplit(key,\"\\\\_\"),'[',i=2),\n",
    "                                                            \"Metric\" = sapply(strsplit(key,\"\\\\_\"),'[',i=1),\n",
    "                                                            \"exp\" = paste(Clustering,Metric,sep=\"_\"))"
   ]
  },
  {
   "cell_type": "code",
   "execution_count": 47,
   "metadata": {},
   "outputs": [
    {
     "data": {
      "text/html": [
       "<table>\n",
       "<thead><tr><th scope=col>key</th><th scope=col>value</th><th scope=col>Method</th><th scope=col>Clustering</th><th scope=col>Metric</th><th scope=col>exp</th></tr></thead>\n",
       "<tbody>\n",
       "\t<tr><td>ARI_Louvain          </td><td>0.44152593           </td><td>SnapATAC_no_blacklist</td><td>Louvain              </td><td>ARI                  </td><td>Louvain_ARI          </td></tr>\n",
       "\t<tr><td>ARI_Louvain          </td><td>0.18242234           </td><td>Control              </td><td>Louvain              </td><td>ARI                  </td><td>Louvain_ARI          </td></tr>\n",
       "\t<tr><td>ARI_Louvain          </td><td>0.01003097           </td><td>SCRAT__no_blacklist  </td><td>Louvain              </td><td>ARI                  </td><td>Louvain_ARI          </td></tr>\n",
       "\t<tr><td>ARI_kmeans           </td><td>0.41273798           </td><td>SnapATAC_no_blacklist</td><td>kmeans               </td><td>ARI                  </td><td>kmeans_ARI           </td></tr>\n",
       "\t<tr><td>ARI_kmeans           </td><td>0.01375860           </td><td>Control              </td><td>kmeans               </td><td>ARI                  </td><td>kmeans_ARI           </td></tr>\n",
       "\t<tr><td>ARI_kmeans           </td><td>0.02221118           </td><td>SCRAT__no_blacklist  </td><td>kmeans               </td><td>ARI                  </td><td>kmeans_ARI           </td></tr>\n",
       "\t<tr><td>ARI_HC               </td><td>0.34699914           </td><td>SnapATAC_no_blacklist</td><td>HC                   </td><td>ARI                  </td><td>HC_ARI               </td></tr>\n",
       "\t<tr><td>ARI_HC               </td><td>0.03441665           </td><td>Control              </td><td>HC                   </td><td>ARI                  </td><td>HC_ARI               </td></tr>\n",
       "\t<tr><td>ARI_HC               </td><td>0.03032220           </td><td>SCRAT__no_blacklist  </td><td>HC                   </td><td>ARI                  </td><td>HC_ARI               </td></tr>\n",
       "\t<tr><td>AMI_Louvain          </td><td>0.65623412           </td><td>SnapATAC_no_blacklist</td><td>Louvain              </td><td>AMI                  </td><td>Louvain_AMI          </td></tr>\n",
       "\t<tr><td>AMI_Louvain          </td><td>0.37246305           </td><td>Control              </td><td>Louvain              </td><td>AMI                  </td><td>Louvain_AMI          </td></tr>\n",
       "\t<tr><td>AMI_Louvain          </td><td>0.05231552           </td><td>SCRAT__no_blacklist  </td><td>Louvain              </td><td>AMI                  </td><td>Louvain_AMI          </td></tr>\n",
       "\t<tr><td>AMI_kmeans           </td><td>0.64621650           </td><td>SnapATAC_no_blacklist</td><td>kmeans               </td><td>AMI                  </td><td>kmeans_AMI           </td></tr>\n",
       "\t<tr><td>AMI_kmeans           </td><td>0.02406304           </td><td>Control              </td><td>kmeans               </td><td>AMI                  </td><td>kmeans_AMI           </td></tr>\n",
       "\t<tr><td>AMI_kmeans           </td><td>0.04260793           </td><td>SCRAT__no_blacklist  </td><td>kmeans               </td><td>AMI                  </td><td>kmeans_AMI           </td></tr>\n",
       "\t<tr><td>AMI_HC               </td><td>0.63376540           </td><td>SnapATAC_no_blacklist</td><td>HC                   </td><td>AMI                  </td><td>HC_AMI               </td></tr>\n",
       "\t<tr><td>AMI_HC               </td><td>0.04499966           </td><td>Control              </td><td>HC                   </td><td>AMI                  </td><td>HC_AMI               </td></tr>\n",
       "\t<tr><td>AMI_HC               </td><td>0.04977554           </td><td>SCRAT__no_blacklist  </td><td>HC                   </td><td>AMI                  </td><td>HC_AMI               </td></tr>\n",
       "\t<tr><td>Homogeneity_Louvain  </td><td>0.65460171           </td><td>SnapATAC_no_blacklist</td><td>Louvain              </td><td>Homogeneity          </td><td>Louvain_Homogeneity  </td></tr>\n",
       "\t<tr><td>Homogeneity_Louvain  </td><td>0.38414523           </td><td>Control              </td><td>Louvain              </td><td>Homogeneity          </td><td>Louvain_Homogeneity  </td></tr>\n",
       "\t<tr><td>Homogeneity_Louvain  </td><td>0.06289825           </td><td>SCRAT__no_blacklist  </td><td>Louvain              </td><td>Homogeneity          </td><td>Louvain_Homogeneity  </td></tr>\n",
       "\t<tr><td>Homogeneity_kmeans   </td><td>0.60922823           </td><td>SnapATAC_no_blacklist</td><td>kmeans               </td><td>Homogeneity          </td><td>kmeans_Homogeneity   </td></tr>\n",
       "\t<tr><td>Homogeneity_kmeans   </td><td>0.02422913           </td><td>Control              </td><td>kmeans               </td><td>Homogeneity          </td><td>kmeans_Homogeneity   </td></tr>\n",
       "\t<tr><td>Homogeneity_kmeans   </td><td>0.05333733           </td><td>SCRAT__no_blacklist  </td><td>kmeans               </td><td>Homogeneity          </td><td>kmeans_Homogeneity   </td></tr>\n",
       "\t<tr><td>Homogeneity_HC       </td><td>0.57744746           </td><td>SnapATAC_no_blacklist</td><td>HC                   </td><td>Homogeneity          </td><td>HC_Homogeneity       </td></tr>\n",
       "\t<tr><td>Homogeneity_HC       </td><td>0.04441404           </td><td>Control              </td><td>HC                   </td><td>Homogeneity          </td><td>HC_Homogeneity       </td></tr>\n",
       "\t<tr><td>Homogeneity_HC       </td><td>0.05998703           </td><td>SCRAT__no_blacklist  </td><td>HC                   </td><td>Homogeneity          </td><td>HC_Homogeneity       </td></tr>\n",
       "</tbody>\n",
       "</table>\n"
      ],
      "text/latex": [
       "\\begin{tabular}{r|llllll}\n",
       " key & value & Method & Clustering & Metric & exp\\\\\n",
       "\\hline\n",
       "\t ARI\\_Louvain             & 0.44152593                & SnapATAC\\_no\\_blacklist & Louvain                   & ARI                       & Louvain\\_ARI            \\\\\n",
       "\t ARI\\_Louvain         & 0.18242234            & Control               & Louvain               & ARI                   & Louvain\\_ARI        \\\\\n",
       "\t ARI\\_Louvain               & 0.01003097                  & SCRAT\\_\\_no\\_blacklist   & Louvain                     & ARI                         & Louvain\\_ARI              \\\\\n",
       "\t ARI\\_kmeans              & 0.41273798                & SnapATAC\\_no\\_blacklist & kmeans                    & ARI                       & kmeans\\_ARI             \\\\\n",
       "\t ARI\\_kmeans          & 0.01375860            & Control               & kmeans                & ARI                   & kmeans\\_ARI         \\\\\n",
       "\t ARI\\_kmeans                & 0.02221118                  & SCRAT\\_\\_no\\_blacklist   & kmeans                      & ARI                         & kmeans\\_ARI               \\\\\n",
       "\t ARI\\_HC                  & 0.34699914                & SnapATAC\\_no\\_blacklist & HC                        & ARI                       & HC\\_ARI                 \\\\\n",
       "\t ARI\\_HC              & 0.03441665            & Control               & HC                    & ARI                   & HC\\_ARI             \\\\\n",
       "\t ARI\\_HC                    & 0.03032220                  & SCRAT\\_\\_no\\_blacklist   & HC                          & ARI                         & HC\\_ARI                   \\\\\n",
       "\t AMI\\_Louvain             & 0.65623412                & SnapATAC\\_no\\_blacklist & Louvain                   & AMI                       & Louvain\\_AMI            \\\\\n",
       "\t AMI\\_Louvain         & 0.37246305            & Control               & Louvain               & AMI                   & Louvain\\_AMI        \\\\\n",
       "\t AMI\\_Louvain               & 0.05231552                  & SCRAT\\_\\_no\\_blacklist   & Louvain                     & AMI                         & Louvain\\_AMI              \\\\\n",
       "\t AMI\\_kmeans              & 0.64621650                & SnapATAC\\_no\\_blacklist & kmeans                    & AMI                       & kmeans\\_AMI             \\\\\n",
       "\t AMI\\_kmeans          & 0.02406304            & Control               & kmeans                & AMI                   & kmeans\\_AMI         \\\\\n",
       "\t AMI\\_kmeans                & 0.04260793                  & SCRAT\\_\\_no\\_blacklist   & kmeans                      & AMI                         & kmeans\\_AMI               \\\\\n",
       "\t AMI\\_HC                  & 0.63376540                & SnapATAC\\_no\\_blacklist & HC                        & AMI                       & HC\\_AMI                 \\\\\n",
       "\t AMI\\_HC              & 0.04499966            & Control               & HC                    & AMI                   & HC\\_AMI             \\\\\n",
       "\t AMI\\_HC                    & 0.04977554                  & SCRAT\\_\\_no\\_blacklist   & HC                          & AMI                         & HC\\_AMI                   \\\\\n",
       "\t Homogeneity\\_Louvain     & 0.65460171                & SnapATAC\\_no\\_blacklist & Louvain                   & Homogeneity               & Louvain\\_Homogeneity    \\\\\n",
       "\t Homogeneity\\_Louvain & 0.38414523            & Control               & Louvain               & Homogeneity           & Louvain\\_Homogeneity\\\\\n",
       "\t Homogeneity\\_Louvain       & 0.06289825                  & SCRAT\\_\\_no\\_blacklist   & Louvain                     & Homogeneity                 & Louvain\\_Homogeneity      \\\\\n",
       "\t Homogeneity\\_kmeans      & 0.60922823                & SnapATAC\\_no\\_blacklist & kmeans                    & Homogeneity               & kmeans\\_Homogeneity     \\\\\n",
       "\t Homogeneity\\_kmeans  & 0.02422913            & Control               & kmeans                & Homogeneity           & kmeans\\_Homogeneity \\\\\n",
       "\t Homogeneity\\_kmeans        & 0.05333733                  & SCRAT\\_\\_no\\_blacklist   & kmeans                      & Homogeneity                 & kmeans\\_Homogeneity       \\\\\n",
       "\t Homogeneity\\_HC          & 0.57744746                & SnapATAC\\_no\\_blacklist & HC                        & Homogeneity               & HC\\_Homogeneity         \\\\\n",
       "\t Homogeneity\\_HC      & 0.04441404            & Control               & HC                    & Homogeneity           & HC\\_Homogeneity     \\\\\n",
       "\t Homogeneity\\_HC            & 0.05998703                  & SCRAT\\_\\_no\\_blacklist   & HC                          & Homogeneity                 & HC\\_Homogeneity           \\\\\n",
       "\\end{tabular}\n"
      ],
      "text/markdown": [
       "\n",
       "| key | value | Method | Clustering | Metric | exp |\n",
       "|---|---|---|---|---|---|\n",
       "| ARI_Louvain           | 0.44152593            | SnapATAC_no_blacklist | Louvain               | ARI                   | Louvain_ARI           |\n",
       "| ARI_Louvain           | 0.18242234            | Control               | Louvain               | ARI                   | Louvain_ARI           |\n",
       "| ARI_Louvain           | 0.01003097            | SCRAT__no_blacklist   | Louvain               | ARI                   | Louvain_ARI           |\n",
       "| ARI_kmeans            | 0.41273798            | SnapATAC_no_blacklist | kmeans                | ARI                   | kmeans_ARI            |\n",
       "| ARI_kmeans            | 0.01375860            | Control               | kmeans                | ARI                   | kmeans_ARI            |\n",
       "| ARI_kmeans            | 0.02221118            | SCRAT__no_blacklist   | kmeans                | ARI                   | kmeans_ARI            |\n",
       "| ARI_HC                | 0.34699914            | SnapATAC_no_blacklist | HC                    | ARI                   | HC_ARI                |\n",
       "| ARI_HC                | 0.03441665            | Control               | HC                    | ARI                   | HC_ARI                |\n",
       "| ARI_HC                | 0.03032220            | SCRAT__no_blacklist   | HC                    | ARI                   | HC_ARI                |\n",
       "| AMI_Louvain           | 0.65623412            | SnapATAC_no_blacklist | Louvain               | AMI                   | Louvain_AMI           |\n",
       "| AMI_Louvain           | 0.37246305            | Control               | Louvain               | AMI                   | Louvain_AMI           |\n",
       "| AMI_Louvain           | 0.05231552            | SCRAT__no_blacklist   | Louvain               | AMI                   | Louvain_AMI           |\n",
       "| AMI_kmeans            | 0.64621650            | SnapATAC_no_blacklist | kmeans                | AMI                   | kmeans_AMI            |\n",
       "| AMI_kmeans            | 0.02406304            | Control               | kmeans                | AMI                   | kmeans_AMI            |\n",
       "| AMI_kmeans            | 0.04260793            | SCRAT__no_blacklist   | kmeans                | AMI                   | kmeans_AMI            |\n",
       "| AMI_HC                | 0.63376540            | SnapATAC_no_blacklist | HC                    | AMI                   | HC_AMI                |\n",
       "| AMI_HC                | 0.04499966            | Control               | HC                    | AMI                   | HC_AMI                |\n",
       "| AMI_HC                | 0.04977554            | SCRAT__no_blacklist   | HC                    | AMI                   | HC_AMI                |\n",
       "| Homogeneity_Louvain   | 0.65460171            | SnapATAC_no_blacklist | Louvain               | Homogeneity           | Louvain_Homogeneity   |\n",
       "| Homogeneity_Louvain   | 0.38414523            | Control               | Louvain               | Homogeneity           | Louvain_Homogeneity   |\n",
       "| Homogeneity_Louvain   | 0.06289825            | SCRAT__no_blacklist   | Louvain               | Homogeneity           | Louvain_Homogeneity   |\n",
       "| Homogeneity_kmeans    | 0.60922823            | SnapATAC_no_blacklist | kmeans                | Homogeneity           | kmeans_Homogeneity    |\n",
       "| Homogeneity_kmeans    | 0.02422913            | Control               | kmeans                | Homogeneity           | kmeans_Homogeneity    |\n",
       "| Homogeneity_kmeans    | 0.05333733            | SCRAT__no_blacklist   | kmeans                | Homogeneity           | kmeans_Homogeneity    |\n",
       "| Homogeneity_HC        | 0.57744746            | SnapATAC_no_blacklist | HC                    | Homogeneity           | HC_Homogeneity        |\n",
       "| Homogeneity_HC        | 0.04441404            | Control               | HC                    | Homogeneity           | HC_Homogeneity        |\n",
       "| Homogeneity_HC        | 0.05998703            | SCRAT__no_blacklist   | HC                    | Homogeneity           | HC_Homogeneity        |\n",
       "\n"
      ],
      "text/plain": [
       "   key                 value      Method                Clustering Metric     \n",
       "1  ARI_Louvain         0.44152593 SnapATAC_no_blacklist Louvain    ARI        \n",
       "2  ARI_Louvain         0.18242234 Control               Louvain    ARI        \n",
       "3  ARI_Louvain         0.01003097 SCRAT__no_blacklist   Louvain    ARI        \n",
       "4  ARI_kmeans          0.41273798 SnapATAC_no_blacklist kmeans     ARI        \n",
       "5  ARI_kmeans          0.01375860 Control               kmeans     ARI        \n",
       "6  ARI_kmeans          0.02221118 SCRAT__no_blacklist   kmeans     ARI        \n",
       "7  ARI_HC              0.34699914 SnapATAC_no_blacklist HC         ARI        \n",
       "8  ARI_HC              0.03441665 Control               HC         ARI        \n",
       "9  ARI_HC              0.03032220 SCRAT__no_blacklist   HC         ARI        \n",
       "10 AMI_Louvain         0.65623412 SnapATAC_no_blacklist Louvain    AMI        \n",
       "11 AMI_Louvain         0.37246305 Control               Louvain    AMI        \n",
       "12 AMI_Louvain         0.05231552 SCRAT__no_blacklist   Louvain    AMI        \n",
       "13 AMI_kmeans          0.64621650 SnapATAC_no_blacklist kmeans     AMI        \n",
       "14 AMI_kmeans          0.02406304 Control               kmeans     AMI        \n",
       "15 AMI_kmeans          0.04260793 SCRAT__no_blacklist   kmeans     AMI        \n",
       "16 AMI_HC              0.63376540 SnapATAC_no_blacklist HC         AMI        \n",
       "17 AMI_HC              0.04499966 Control               HC         AMI        \n",
       "18 AMI_HC              0.04977554 SCRAT__no_blacklist   HC         AMI        \n",
       "19 Homogeneity_Louvain 0.65460171 SnapATAC_no_blacklist Louvain    Homogeneity\n",
       "20 Homogeneity_Louvain 0.38414523 Control               Louvain    Homogeneity\n",
       "21 Homogeneity_Louvain 0.06289825 SCRAT__no_blacklist   Louvain    Homogeneity\n",
       "22 Homogeneity_kmeans  0.60922823 SnapATAC_no_blacklist kmeans     Homogeneity\n",
       "23 Homogeneity_kmeans  0.02422913 Control               kmeans     Homogeneity\n",
       "24 Homogeneity_kmeans  0.05333733 SCRAT__no_blacklist   kmeans     Homogeneity\n",
       "25 Homogeneity_HC      0.57744746 SnapATAC_no_blacklist HC         Homogeneity\n",
       "26 Homogeneity_HC      0.04441404 Control               HC         Homogeneity\n",
       "27 Homogeneity_HC      0.05998703 SCRAT__no_blacklist   HC         Homogeneity\n",
       "   exp                \n",
       "1  Louvain_ARI        \n",
       "2  Louvain_ARI        \n",
       "3  Louvain_ARI        \n",
       "4  kmeans_ARI         \n",
       "5  kmeans_ARI         \n",
       "6  kmeans_ARI         \n",
       "7  HC_ARI             \n",
       "8  HC_ARI             \n",
       "9  HC_ARI             \n",
       "10 Louvain_AMI        \n",
       "11 Louvain_AMI        \n",
       "12 Louvain_AMI        \n",
       "13 kmeans_AMI         \n",
       "14 kmeans_AMI         \n",
       "15 kmeans_AMI         \n",
       "16 HC_AMI             \n",
       "17 HC_AMI             \n",
       "18 HC_AMI             \n",
       "19 Louvain_Homogeneity\n",
       "20 Louvain_Homogeneity\n",
       "21 Louvain_Homogeneity\n",
       "22 kmeans_Homogeneity \n",
       "23 kmeans_Homogeneity \n",
       "24 kmeans_Homogeneity \n",
       "25 HC_Homogeneity     \n",
       "26 HC_Homogeneity     \n",
       "27 HC_Homogeneity     "
      ]
     },
     "metadata": {},
     "output_type": "display_data"
    }
   ],
   "source": [
    "df"
   ]
  },
  {
   "cell_type": "code",
   "execution_count": 48,
   "metadata": {},
   "outputs": [],
   "source": [
    "  df$Metric <- factor(df$Metric, levels = c(\"ARI\", \"AMI\", \"Homogeneity\"))\n",
    "  df$Method <- factor(df$Method, levels=rev(scores$X[order(scores$Sort, decreasing = T)]))"
   ]
  },
  {
   "cell_type": "code",
   "execution_count": 4,
   "metadata": {},
   "outputs": [
    {
     "name": "stderr",
     "output_type": "stream",
     "text": [
      "Warning message in file(file, \"rt\"):\n",
      "“cannot open file '/data/pinello/PROJECTS/2019_03_scATAC/NA/output/metrics/clustering_scores.csv': No such file or directory”"
     ]
    },
    {
     "ename": "ERROR",
     "evalue": "Error in file(file, \"rt\"): cannot open the connection\n",
     "output_type": "error",
     "traceback": [
      "Error in file(file, \"rt\"): cannot open the connection\nTraceback:\n",
      "1. read.delim(paste0(\"/data/pinello/PROJECTS/2019_03_scATAC/\", paths[i], \n .     \"/output/metrics/clustering_scores.csv\"), sep = \",\") %>% \n .     rowwise %>% mutate(Sort = max(ARI_Louvain, ARI_kmeans, ARI_HC)) %>% \n .     as.data.frame()",
      "2. eval(lhs, parent, parent)",
      "3. eval(lhs, parent, parent)",
      "4. read.delim(paste0(\"/data/pinello/PROJECTS/2019_03_scATAC/\", paths[i], \n .     \"/output/metrics/clustering_scores.csv\"), sep = \",\")",
      "5. read.table(file = file, header = header, sep = sep, quote = quote, \n .     dec = dec, fill = fill, comment.char = comment.char, ...)",
      "6. file(file, \"rt\")"
     ]
    }
   ],
   "source": [
    "\n",
    "\n",
    "\n",
    "\n",
    "\n",
    "  df$Metric <- factor(df$Metric, levels = c(\"ARI\", \"AMI\", \"Homogeneity\"))\n",
    "  df$Method <- factor(df$Method, levels=rev(scores$X[order(scores$Sort, decreasing = T)]))\n",
    "\n",
    "  pdf(paste0(\"dotPlot_\", sapply(strsplit(paths[i],\"/\"),'[',i=2), \".pdf\"), width = 14, height = 8)\n",
    "  ggplot(df, aes(x=value, y= Method, colour=Clustering, shape=Clustering)) + \n",
    "    geom_point(size = 5) + \n",
    "    facet_grid(cols = vars(Metric)) +\n",
    "    scale_x_continuous(limits = c(-0.01,1))+ \n",
    "    guides(color= guide_legend(), size=guide_legend()) + \n",
    "    scale_color_manual(values=c(\"#1f78b4\",\"#33a02c\",\"#ff7f00\")) +\n",
    "    ggtitle(\"\") +\n",
    "    theme_bw(base_size = 14) + xlab(\"\") + ylab(\"\") + \n",
    "    theme(panel.grid.minor.x = element_blank(),\n",
    "          panel.grid.minor.y = element_blank(),\n",
    "          axis.text.x = element_text(size=14, colour = \"black\"),\n",
    "          axis.text.y = element_text(size=14, colour = \"black\"),\n",
    "          legend.position = \"right\",\n",
    "          strip.text.x = element_text(size = 16, colour = \"black\", angle = 0)\n",
    "    )\n",
    "  dev.off()\n",
    "}\n",
    "\n",
    "i=1\n",
    "scores <- read.delim(paste0(\"/data/pinello/PROJECTS/2019_03_scATAC/Github/scATAC-benchmarking/\", paths[i], \"/output/metrics/clustering_RAGI_scores.csv\"), sep=\",\") \n",
    "\n",
    "maxs <- scores %>% group_by(Method) %>% summarise(max=max(Difference)) %>% arrange(.,desc(max))\n",
    "  \n",
    "df <- scores %>% select(Method,Clustering,Difference)\n",
    "df$Method <- factor(df$Method, levels=rev(maxs$Method))\n",
    "df$title <- \"Difference in Gini Score\"\n",
    "  \n",
    "pdf(paste0(\"dotPlot_\", sapply(strsplit(paths[i],\"/\"),'[',i=2), \".pdf\"), width = 7, height = 8)\n",
    "  ggplot(df, aes(x=Difference, y= Method, colour=Clustering, shape=Clustering)) + \n",
    "    geom_point(size = 5) + \n",
    "    scale_x_continuous(limits = c(-0.1,0.2))+ \n",
    "    guides(color= guide_legend(), size=guide_legend()) + \n",
    "    scale_color_manual(values=c(\"#1f78b4\",\"#33a02c\",\"#ff7f00\")) +\n",
    "    ggtitle(\"\") +\n",
    "    theme_bw(base_size = 14) + xlab(\"\") + ylab(\"\") + \n",
    "    theme(panel.grid.minor.x = element_blank(),\n",
    "          panel.grid.minor.y = element_blank(),\n",
    "          axis.text.x = element_text(size=14, colour = \"black\"),\n",
    "          axis.text.y = element_text(size=14, colour = \"black\"),\n",
    "          legend.position = \"right\",\n",
    "          strip.text.x = element_text(size = 16, colour = \"black\", angle = 0)\n",
    "    ) + facet_grid(. ~ title) \n",
    "dev.off()"
   ]
  },
  {
   "cell_type": "code",
   "execution_count": null,
   "metadata": {},
   "outputs": [],
   "source": []
  },
  {
   "cell_type": "code",
   "execution_count": null,
   "metadata": {},
   "outputs": [],
   "source": []
  }
 ],
 "metadata": {
  "kernelspec": {
   "display_name": "R [conda env:ATACseq_SCRAT]",
   "language": "R",
   "name": "conda-env-ATACseq_SCRAT-r"
  },
  "language_info": {
   "codemirror_mode": "r",
   "file_extension": ".r",
   "mimetype": "text/x-r-source",
   "name": "R",
   "pygments_lexer": "r",
   "version": "3.5.1"
  }
 },
 "nbformat": 4,
 "nbformat_minor": 2
}
