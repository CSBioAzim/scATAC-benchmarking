{
 "cells": [
  {
   "cell_type": "markdown",
   "metadata": {},
   "source": [
    "#### Generating the Supplementary figure for blacklist comparison"
   ]
  },
  {
   "cell_type": "code",
   "execution_count": 2,
   "metadata": {},
   "outputs": [
    {
     "name": "stderr",
     "output_type": "stream",
     "text": [
      "\n",
      "Attaching package: ‘gplots’\n",
      "\n",
      "The following object is masked from ‘package:stats’:\n",
      "\n",
      "    lowess\n",
      "\n",
      "── Attaching packages ─────────────────────────────────────── tidyverse 1.2.1 ──\n",
      "✔ tibble  2.1.1       ✔ purrr   0.3.2  \n",
      "✔ tidyr   0.8.3       ✔ dplyr   0.8.0.1\n",
      "✔ readr   1.3.1       ✔ stringr 1.4.0  \n",
      "✔ tibble  2.1.1       ✔ forcats 0.4.0  \n",
      "── Conflicts ────────────────────────────────────────── tidyverse_conflicts() ──\n",
      "✖ dplyr::between()   masks data.table::between()\n",
      "✖ dplyr::filter()    masks stats::filter()\n",
      "✖ dplyr::first()     masks data.table::first()\n",
      "✖ dplyr::lag()       masks stats::lag()\n",
      "✖ dplyr::last()      masks data.table::last()\n",
      "✖ purrr::transpose() masks data.table::transpose()\n"
     ]
    }
   ],
   "source": [
    "library(gplots)\n",
    "library(data.table)\n",
    "library(tidyverse)\n",
    "library(RColorBrewer)\n",
    "library(ggplot2)\n",
    "library(dplyr)"
   ]
  },
  {
   "cell_type": "code",
   "execution_count": 1,
   "metadata": {},
   "outputs": [],
   "source": [
    "library(ggplot2)"
   ]
  },
  {
   "cell_type": "markdown",
   "metadata": {},
   "source": [
    "The CSV files aren't necessarily organized uniformly for this, since the analysis was rather ad hoc. We need to reformat them into something easier to work with."
   ]
  },
  {
   "cell_type": "code",
   "execution_count": 11,
   "metadata": {},
   "outputs": [
    {
     "data": {
      "text/html": [
       "<table>\n",
       "<thead><tr><th scope=col>V1</th><th scope=col>ARI_Louvain</th><th scope=col>ARI_kmeans</th><th scope=col>ARI_HC</th><th scope=col>AMI_Louvain</th><th scope=col>AMI_kmeans</th><th scope=col>AMI_HC</th><th scope=col>Homogeneity_Louvain</th><th scope=col>Homogeneity_kmeans</th><th scope=col>Homogeneity_HC</th></tr></thead>\n",
       "<tbody>\n",
       "\t<tr><td>SnapATAC    </td><td>0.42034078  </td><td>0.35329865  </td><td>0.44305614  </td><td>0.6844989   </td><td>0.6050174   </td><td>0.6890807   </td><td>0.6528147   </td><td>0.5896450   </td><td>0.6459743   </td></tr>\n",
       "\t<tr><td>SCRAT_motifs</td><td>0.05158738  </td><td>0.04059899  </td><td>0.03804919  </td><td>0.1400083   </td><td>0.1018524   </td><td>0.1045605   </td><td>0.1540749   </td><td>0.1150255   </td><td>0.1169989   </td></tr>\n",
       "</tbody>\n",
       "</table>\n"
      ],
      "text/latex": [
       "\\begin{tabular}{r|llllllllll}\n",
       " V1 & ARI\\_Louvain & ARI\\_kmeans & ARI\\_HC & AMI\\_Louvain & AMI\\_kmeans & AMI\\_HC & Homogeneity\\_Louvain & Homogeneity\\_kmeans & Homogeneity\\_HC\\\\\n",
       "\\hline\n",
       "\t SnapATAC     & 0.42034078   & 0.35329865   & 0.44305614   & 0.6844989    & 0.6050174    & 0.6890807    & 0.6528147    & 0.5896450    & 0.6459743   \\\\\n",
       "\t SCRAT\\_motifs & 0.05158738     & 0.04059899     & 0.03804919     & 0.1400083      & 0.1018524      & 0.1045605      & 0.1540749      & 0.1150255      & 0.1169989     \\\\\n",
       "\\end{tabular}\n"
      ],
      "text/markdown": [
       "\n",
       "| V1 | ARI_Louvain | ARI_kmeans | ARI_HC | AMI_Louvain | AMI_kmeans | AMI_HC | Homogeneity_Louvain | Homogeneity_kmeans | Homogeneity_HC |\n",
       "|---|---|---|---|---|---|---|---|---|---|\n",
       "| SnapATAC     | 0.42034078   | 0.35329865   | 0.44305614   | 0.6844989    | 0.6050174    | 0.6890807    | 0.6528147    | 0.5896450    | 0.6459743    |\n",
       "| SCRAT_motifs | 0.05158738   | 0.04059899   | 0.03804919   | 0.1400083    | 0.1018524    | 0.1045605    | 0.1540749    | 0.1150255    | 0.1169989    |\n",
       "\n"
      ],
      "text/plain": [
       "  V1           ARI_Louvain ARI_kmeans ARI_HC     AMI_Louvain AMI_kmeans\n",
       "1 SnapATAC     0.42034078  0.35329865 0.44305614 0.6844989   0.6050174 \n",
       "2 SCRAT_motifs 0.05158738  0.04059899 0.03804919 0.1400083   0.1018524 \n",
       "  AMI_HC    Homogeneity_Louvain Homogeneity_kmeans Homogeneity_HC\n",
       "1 0.6890807 0.6528147           0.5896450          0.6459743     \n",
       "2 0.1045605 0.1540749           0.1150255          0.1169989     "
      ]
     },
     "metadata": {},
     "output_type": "display_data"
    }
   ],
   "source": [
    "# make a df combining blacklist and no blacklist (for only the methods you want)\n",
    "bl = fread(\"/data/pinello/PROJECTS/2019_03_scATAC/Github/scATAC-benchmarking/Real_Data/Buenrostro_2018/output/metrics/clustering_scores.csv\")\n",
    "no_bl = fread(\"/data/pinello/PROJECTS/2019_03_scATAC/Github_supp/Buenrostro_2018/test_blacklist/output/metrics/clustering_scores.csv\")\n",
    "\n",
    "# get rows from blacklist file\n",
    "bl = bl[4:5,]\n",
    "write.csv(bl, file = \"blacklist.csv\", row.names=TRUE)\n",
    "# get rows from no-blacklist file\n",
    "row1 = no_bl[1,]\n",
    "row3 = no_bl[3,]\n",
    "nobl = bind_rows(row1,row3)\n",
    "rownames(nobl) = c(3,4)\n",
    "write.csv(nobl, file = \"no_blacklist.csv\", row.names=TRUE)\n",
    "\n",
    "comb = bind_rows(bl,row1, row3)\n",
    "write.csv(comb, file = \"comb_bl_nobl.csv\", row.names=TRUE)\n",
    "\n",
    "# paths <- c(\"blacklist.csv\",\"no_blacklist.csv\")\n"
   ]
  },
  {
   "cell_type": "markdown",
   "metadata": {},
   "source": [
    "#### Starting Sara's Script"
   ]
  },
  {
   "cell_type": "code",
   "execution_count": 6,
   "metadata": {},
   "outputs": [
    {
     "data": {
      "text/html": [
       "<table>\n",
       "<thead><tr><th scope=col>X</th><th scope=col>V1</th><th scope=col>ARI_Louvain</th><th scope=col>ARI_kmeans</th><th scope=col>ARI_HC</th><th scope=col>AMI_Louvain</th><th scope=col>AMI_kmeans</th><th scope=col>AMI_HC</th><th scope=col>Homogeneity_Louvain</th><th scope=col>Homogeneity_kmeans</th><th scope=col>Homogeneity_HC</th><th scope=col>Sort</th></tr></thead>\n",
       "<tbody>\n",
       "\t<tr><td>1                    </td><td>SnapATAC             </td><td>0.42034078           </td><td>0.35329865           </td><td>0.44305614           </td><td>0.68449885           </td><td>0.60501744           </td><td>0.68908066           </td><td>0.65281466           </td><td>0.58964496           </td><td>0.64597427           </td><td>0.44305614           </td></tr>\n",
       "\t<tr><td>2                    </td><td>SCRAT_motifs         </td><td>0.05158738           </td><td>0.04059899           </td><td>0.03804919           </td><td>0.14000829           </td><td>0.10185238           </td><td>0.10456051           </td><td>0.15407489           </td><td>0.11502550           </td><td>0.11699891           </td><td>0.05158738           </td></tr>\n",
       "\t<tr><td>3                    </td><td>SnapATAC_no_blacklist</td><td>0.44152593           </td><td>0.41273798           </td><td>0.34699914           </td><td>0.65623412           </td><td>0.64621650           </td><td>0.63376540           </td><td>0.65460171           </td><td>0.60922823           </td><td>0.57744746           </td><td>0.44152593           </td></tr>\n",
       "\t<tr><td>4                    </td><td>SCRAT_no_blacklist   </td><td>0.01003097           </td><td>0.02221118           </td><td>0.03032221           </td><td>0.05231552           </td><td>0.04260793           </td><td>0.04977554           </td><td>0.06289825           </td><td>0.05333733           </td><td>0.05998703           </td><td>0.03032221           </td></tr>\n",
       "</tbody>\n",
       "</table>\n"
      ],
      "text/latex": [
       "\\begin{tabular}{r|llllllllllll}\n",
       " X & V1 & ARI\\_Louvain & ARI\\_kmeans & ARI\\_HC & AMI\\_Louvain & AMI\\_kmeans & AMI\\_HC & Homogeneity\\_Louvain & Homogeneity\\_kmeans & Homogeneity\\_HC & Sort\\\\\n",
       "\\hline\n",
       "\t 1                     & SnapATAC              & 0.42034078            & 0.35329865            & 0.44305614            & 0.68449885            & 0.60501744            & 0.68908066            & 0.65281466            & 0.58964496            & 0.64597427            & 0.44305614           \\\\\n",
       "\t 2                       & SCRAT\\_motifs          & 0.05158738              & 0.04059899              & 0.03804919              & 0.14000829              & 0.10185238              & 0.10456051              & 0.15407489              & 0.11502550              & 0.11699891              & 0.05158738             \\\\\n",
       "\t 3                         & SnapATAC\\_no\\_blacklist & 0.44152593                & 0.41273798                & 0.34699914                & 0.65623412                & 0.64621650                & 0.63376540                & 0.65460171                & 0.60922823                & 0.57744746                & 0.44152593               \\\\\n",
       "\t 4                         & SCRAT\\_no\\_blacklist    & 0.01003097                & 0.02221118                & 0.03032221                & 0.05231552                & 0.04260793                & 0.04977554                & 0.06289825                & 0.05333733                & 0.05998703                & 0.03032221               \\\\\n",
       "\\end{tabular}\n"
      ],
      "text/markdown": [
       "\n",
       "| X | V1 | ARI_Louvain | ARI_kmeans | ARI_HC | AMI_Louvain | AMI_kmeans | AMI_HC | Homogeneity_Louvain | Homogeneity_kmeans | Homogeneity_HC | Sort |\n",
       "|---|---|---|---|---|---|---|---|---|---|---|---|\n",
       "| 1                     | SnapATAC              | 0.42034078            | 0.35329865            | 0.44305614            | 0.68449885            | 0.60501744            | 0.68908066            | 0.65281466            | 0.58964496            | 0.64597427            | 0.44305614            |\n",
       "| 2                     | SCRAT_motifs          | 0.05158738            | 0.04059899            | 0.03804919            | 0.14000829            | 0.10185238            | 0.10456051            | 0.15407489            | 0.11502550            | 0.11699891            | 0.05158738            |\n",
       "| 3                     | SnapATAC_no_blacklist | 0.44152593            | 0.41273798            | 0.34699914            | 0.65623412            | 0.64621650            | 0.63376540            | 0.65460171            | 0.60922823            | 0.57744746            | 0.44152593            |\n",
       "| 4                     | SCRAT_no_blacklist    | 0.01003097            | 0.02221118            | 0.03032221            | 0.05231552            | 0.04260793            | 0.04977554            | 0.06289825            | 0.05333733            | 0.05998703            | 0.03032221            |\n",
       "\n"
      ],
      "text/plain": [
       "  X V1                    ARI_Louvain ARI_kmeans ARI_HC     AMI_Louvain\n",
       "1 1 SnapATAC              0.42034078  0.35329865 0.44305614 0.68449885 \n",
       "2 2 SCRAT_motifs          0.05158738  0.04059899 0.03804919 0.14000829 \n",
       "3 3 SnapATAC_no_blacklist 0.44152593  0.41273798 0.34699914 0.65623412 \n",
       "4 4 SCRAT_no_blacklist    0.01003097  0.02221118 0.03032221 0.05231552 \n",
       "  AMI_kmeans AMI_HC     Homogeneity_Louvain Homogeneity_kmeans Homogeneity_HC\n",
       "1 0.60501744 0.68908066 0.65281466          0.58964496         0.64597427    \n",
       "2 0.10185238 0.10456051 0.15407489          0.11502550         0.11699891    \n",
       "3 0.64621650 0.63376540 0.65460171          0.60922823         0.57744746    \n",
       "4 0.04260793 0.04977554 0.06289825          0.05333733         0.05998703    \n",
       "  Sort      \n",
       "1 0.44305614\n",
       "2 0.05158738\n",
       "3 0.44152593\n",
       "4 0.03032221"
      ]
     },
     "metadata": {},
     "output_type": "display_data"
    }
   ],
   "source": [
    "scores <- read.delim(paste0(\"comb_bl_nobl.csv\"), sep=\",\") %>% \n",
    "    rowwise %>% mutate(\"Sort\" = max(ARI_Louvain,ARI_kmeans,ARI_HC)) %>% as.data.frame()\n",
    "scores"
   ]
  },
  {
   "cell_type": "code",
   "execution_count": null,
   "metadata": {},
   "outputs": [],
   "source": [
    "df <- scores %>% select(-X,-Sort) %>% gather() %>% mutate(\"Method\" = rep(scores$X, 10), \n",
    "                                                        \"Clustering\" = sapply(strsplit(key,\"\\\\_\"),'[',i=1),\n",
    "                                                        \"Metric\" = sapply(strsplit(key,\"\\\\_\"),'[',i=2),\n",
    "                                                        \"exp\" = paste(Clustering,Metric,sep=\"_\"))"
   ]
  },
  {
   "cell_type": "code",
   "execution_count": null,
   "metadata": {},
   "outputs": [],
   "source": [
    "df"
   ]
  },
  {
   "cell_type": "code",
   "execution_count": null,
   "metadata": {},
   "outputs": [],
   "source": []
  },
  {
   "cell_type": "code",
   "execution_count": null,
   "metadata": {},
   "outputs": [],
   "source": [
    "# df$Metric <- factor(df$Metric, levels = c(\"ARI\", \"AMI\", \"Homogeneity\"))\n",
    "# df$Method <- factor(df$Method, levels=rev(scores$X[order(scores$Sort, decreasing = T)]))"
   ]
  },
  {
   "cell_type": "code",
   "execution_count": null,
   "metadata": {},
   "outputs": [],
   "source": [
    "    geom_point(size = 5) + \n",
    "    facet_grid(cols = vars(Metric)) +\n",
    "    scale_x_continuous(limits = c(-0.01,1))+ \n",
    "    guides(color= guide_legend(), size=guide_legend()) + \n",
    "    scale_color_manual(values=c(\"#1f78b4\",\"#33a02c\",\"#ff7f00\")) +\n",
    "    ggtitle(\"\") +\n",
    "    theme_bw(base_size = 14) + xlab(\"\") + ylab(\"\")"
   ]
  },
  {
   "cell_type": "code",
   "execution_count": 4,
   "metadata": {},
   "outputs": [
    {
     "ename": "ERROR",
     "evalue": "Error: You're passing a function as global data.\nHave you misspelled the `data` argument in `ggplot()`\n",
     "output_type": "error",
     "traceback": [
      "Error: You're passing a function as global data.\nHave you misspelled the `data` argument in `ggplot()`\nTraceback:\n",
      "1. ggplot(df, aes(x = value, y = Method, colour = Clustering, shape = Clustering))",
      "2. ggplot.function(df, aes(x = value, y = Method, colour = Clustering, \n .     shape = Clustering))",
      "3. stop(\"You're passing a function as global data.\\nHave you misspelled the `data` argument in `ggplot()`\", \n .     call. = FALSE)"
     ]
    }
   ],
   "source": [
    "ggplot(df, aes(x=value, y= Method, colour=Clustering, shape=Clustering)) +\n",
    "    geom_point(size = 5) +\n",
    "    facet_grid(cols = vars(Metric))+\n",
    "    #scale_x_continuous(limits = c(-0.01,1))\n",
    "    guides(color= guide_legend(), size=guide_legend()) +\n",
    "    # scale_color_manual(values=c(\"#1f78b4\",\"#33a02c\",\"#ff7f00\"))\n",
    "    ggtitle(\"\") + \n",
    "    theme_bw(base_size = 14) + xlab(\"\") + ylab(\"\")\n"
   ]
  },
  {
   "cell_type": "code",
   "execution_count": null,
   "metadata": {},
   "outputs": [],
   "source": [
    "£"
   ]
  },
  {
   "cell_type": "code",
   "execution_count": null,
   "metadata": {},
   "outputs": [],
   "source": []
  },
  {
   "cell_type": "code",
   "execution_count": 12,
   "metadata": {},
   "outputs": [
    {
     "ename": "ERROR",
     "evalue": "Error in parse(text = x, srcfile = src): <text>:28:1: unexpected '}'\n27:   dev.off()\n28: }\n    ^\n",
     "output_type": "error",
     "traceback": [
      "Error in parse(text = x, srcfile = src): <text>:28:1: unexpected '}'\n27:   dev.off()\n28: }\n    ^\nTraceback:\n"
     ]
    }
   ],
   "source": [
    "\n",
    "  \n",
    "  df <- scores %>% select(-X,-Sort) %>% gather() %>% mutate(\"Method\" = rep(scores$X, 9), \n",
    "                                                            \"Clustering\" = sapply(strsplit(key,\"\\\\_\"),'[',i=2),\n",
    "                                                            \"Metric\" = sapply(strsplit(key,\"\\\\_\"),'[',i=1),\n",
    "                                                            \"exp\" = paste(Clustering,Metric,sep=\"_\"))\n",
    "  \n",
    "  df$Metric <- factor(df$Metric, levels = c(\"ARI\", \"AMI\", \"Homogeneity\"))\n",
    "  df$Method <- factor(df$Method, levels=rev(scores$X[order(scores$Sort, decreasing = T)]))\n",
    "\n",
    "  #pdf(paste0(\"dotPlot_\", sapply(strsplit(paths[i],\"/\"),'[',i=2), \".pdf\"), width = 14, height = 8)\n",
    "  ggplot(df, aes(x=value, y= Method, colour=Clustering, shape=Clustering)) + \n",
    "    geom_point(size = 5) + \n",
    "    facet_grid(cols = vars(Metric)) +\n",
    "    scale_x_continuous(limits = c(-0.01,1))+ \n",
    "    guides(color= guide_legend(), size=guide_legend()) + \n",
    "    scale_color_manual(values=c(\"#1f78b4\",\"#33a02c\",\"#ff7f00\")) +\n",
    "    ggtitle(\"\") +\n",
    "    theme_bw(base_size = 14) + xlab(\"\") + ylab(\"\") + \n",
    "    theme(panel.grid.minor.x = element_blank(),\n",
    "          panel.grid.minor.y = element_blank(),\n",
    "          axis.text.x = element_text(size=14, colour = \"black\"),\n",
    "          axis.text.y = element_text(size=14, colour = \"black\"),\n",
    "          legend.position = \"right\",\n",
    "          strip.text.x = element_text(size = 16, colour = \"black\", angle = 0)\n",
    "    )\n",
    "  dev.off()\n",
    "}"
   ]
  },
  {
   "cell_type": "code",
   "execution_count": null,
   "metadata": {},
   "outputs": [],
   "source": []
  },
  {
   "cell_type": "code",
   "execution_count": null,
   "metadata": {},
   "outputs": [],
   "source": []
  }
 ],
 "metadata": {
  "kernelspec": {
   "display_name": "R [conda env:ATACseq_SCRAT]",
   "language": "R",
   "name": "conda-env-ATACseq_SCRAT-r"
  },
  "language_info": {
   "codemirror_mode": "r",
   "file_extension": ".r",
   "mimetype": "text/x-r-source",
   "name": "R",
   "pygments_lexer": "r",
   "version": "3.5.1"
  }
 },
 "nbformat": 4,
 "nbformat_minor": 2
}
