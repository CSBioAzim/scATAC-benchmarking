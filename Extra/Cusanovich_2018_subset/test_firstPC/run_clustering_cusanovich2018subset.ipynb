{
 "cells": [
  {
   "cell_type": "code",
   "execution_count": 1,
   "metadata": {},
   "outputs": [],
   "source": [
    "import pandas as pd\n",
    "import numpy as np\n",
    "import scanpy as sc\n",
    "import os\n",
    "from sklearn.cluster import KMeans\n",
    "from sklearn.cluster import AgglomerativeClustering\n",
    "from sklearn.metrics.cluster import adjusted_rand_score\n",
    "from sklearn.metrics.cluster import adjusted_mutual_info_score\n",
    "from sklearn.metrics.cluster import homogeneity_score\n",
    "import rpy2.robjects as robjects\n",
    "from rpy2.robjects import pandas2ri"
   ]
  },
  {
   "cell_type": "code",
   "execution_count": 2,
   "metadata": {},
   "outputs": [],
   "source": [
    "df_metrics = pd.DataFrame(columns=['ARI_Louvain','ARI_kmeans','ARI_HC',\n",
    "                                   'AMI_Louvain','AMI_kmeans','AMI_HC',\n",
    "                                   'Homogeneity_Louvain','Homogeneity_kmeans','Homogeneity_HC'])"
   ]
  },
  {
   "cell_type": "code",
   "execution_count": 3,
   "metadata": {},
   "outputs": [
    {
     "data": {
      "text/plain": [
       "0"
      ]
     },
     "execution_count": 3,
     "metadata": {},
     "output_type": "execute_result"
    }
   ],
   "source": [
    "workdir = './output_new/'\n",
    "path_fm = os.path.join(workdir,'feature_matrices/')\n",
    "path_clusters = os.path.join(workdir,'clusters/')\n",
    "path_metrics = os.path.join(workdir,'metrics/')\n",
    "os.system('mkdir -p '+path_clusters)\n",
    "os.system('mkdir -p '+path_metrics)"
   ]
  },
  {
   "cell_type": "code",
   "execution_count": 4,
   "metadata": {},
   "outputs": [
    {
     "name": "stdout",
     "output_type": "stream",
     "text": [
      "13\n"
     ]
    }
   ],
   "source": [
    "metadata = pd.read_csv('../input/metadata.tsv',sep='\\t',index_col=0)\n",
    "num_clusters = len(np.unique(metadata['label']))\n",
    "print(num_clusters)"
   ]
  },
  {
   "cell_type": "code",
   "execution_count": 5,
   "metadata": {},
   "outputs": [
    {
     "data": {
      "text/plain": [
       "18"
      ]
     },
     "execution_count": 5,
     "metadata": {},
     "output_type": "execute_result"
    }
   ],
   "source": [
    "files = [x for x in os.listdir(path_fm) if x.startswith('fm')]\n",
    "len(files)"
   ]
  },
  {
   "cell_type": "code",
   "execution_count": 6,
   "metadata": {},
   "outputs": [
    {
     "data": {
      "text/plain": [
       "['fm_Control.rds',\n",
       " 'fm_Control_new.rds',\n",
       " 'fm_BROCKMAN.rds',\n",
       " 'fm_BROCKMAN_new.rds',\n",
       " 'fm_Cusanovich2018.rds',\n",
       " 'fm_Cusanovich2018_new.rds',\n",
       " 'fm_chromVAR_kmers2.rds',\n",
       " 'fm_chromVAR_kmers2_new.rds',\n",
       " 'fm_chromVAR_motifs2.rds',\n",
       " 'fm_chromVAR_motifs2_new.rds',\n",
       " 'fm_GeneScoring2.rds',\n",
       " 'fm_GeneScoring2_new.rds',\n",
       " 'fm_Cicero2.rds',\n",
       " 'fm_Cicero2_new.rds',\n",
       " 'fm_SnapATAC.rds',\n",
       " 'fm_SnapATAC_new.rds',\n",
       " 'fm_SCRAT2.rds',\n",
       " 'fm_SCRAT2_new.rds']"
      ]
     },
     "execution_count": 6,
     "metadata": {},
     "output_type": "execute_result"
    }
   ],
   "source": [
    "files"
   ]
  },
  {
   "cell_type": "code",
   "execution_count": 7,
   "metadata": {},
   "outputs": [],
   "source": [
    "def getNClusters(adata,n_cluster,range_min=0,range_max=3,max_steps=20):\n",
    "    this_step = 0\n",
    "    this_min = float(range_min)\n",
    "    this_max = float(range_max)\n",
    "    while this_step < max_steps:\n",
    "        print('step ' + str(this_step))\n",
    "        this_resolution = this_min + ((this_max-this_min)/2)\n",
    "        sc.tl.louvain(adata,resolution=this_resolution)\n",
    "        this_clusters = adata.obs['louvain'].nunique()\n",
    "        \n",
    "        print('got ' + str(this_clusters) + ' at resolution ' + str(this_resolution))\n",
    "        \n",
    "        if this_clusters > n_cluster:\n",
    "            this_max = this_resolution\n",
    "        elif this_clusters < n_cluster:\n",
    "            this_min = this_resolution\n",
    "        else:\n",
    "            return(this_resolution, adata)\n",
    "        this_step += 1\n",
    "    \n",
    "    print('Cannot find the number of clusters')\n",
    "    print('Clustering solution from last iteration is used:' + str(this_clusters) + ' at resolution ' + str(this_resolution))"
   ]
  },
  {
   "cell_type": "code",
   "execution_count": 8,
   "metadata": {
    "scrolled": false
   },
   "outputs": [
    {
     "name": "stdout",
     "output_type": "stream",
     "text": [
      "Control\n"
     ]
    },
    {
     "name": "stderr",
     "output_type": "stream",
     "text": [
      "/data/pinello/SHARED_SOFTWARE/anaconda3/envs/ATACseq_clustering/lib/python3.7/site-packages/rpy2/robjects/pandas2ri.py:191: FutureWarning: from_items is deprecated. Please use DataFrame.from_dict(dict(items), ...) instead. DataFrame.from_dict(OrderedDict(items)) may be used to preserve the key order.\n",
      "  res = PandasDataFrame.from_items(items)\n"
     ]
    },
    {
     "name": "stdout",
     "output_type": "stream",
     "text": [
      "step 0\n",
      "got 33 at resolution 1.5\n",
      "step 1\n",
      "got 23 at resolution 0.75\n",
      "step 2\n",
      "got 16 at resolution 0.375\n",
      "step 3\n",
      "got 12 at resolution 0.1875\n",
      "step 4\n",
      "got 13 at resolution 0.28125\n",
      "Control_new\n"
     ]
    },
    {
     "name": "stderr",
     "output_type": "stream",
     "text": [
      "/data/pinello/SHARED_SOFTWARE/anaconda3/envs/ATACseq_clustering/lib/python3.7/site-packages/rpy2/robjects/pandas2ri.py:191: FutureWarning: from_items is deprecated. Please use DataFrame.from_dict(dict(items), ...) instead. DataFrame.from_dict(OrderedDict(items)) may be used to preserve the key order.\n",
      "  res = PandasDataFrame.from_items(items)\n"
     ]
    },
    {
     "name": "stdout",
     "output_type": "stream",
     "text": [
      "step 0\n",
      "got 26 at resolution 1.5\n",
      "step 1\n",
      "got 19 at resolution 0.75\n",
      "step 2\n",
      "got 14 at resolution 0.375\n",
      "step 3\n",
      "got 12 at resolution 0.1875\n",
      "step 4\n",
      "got 13 at resolution 0.28125\n",
      "BROCKMAN\n"
     ]
    },
    {
     "name": "stderr",
     "output_type": "stream",
     "text": [
      "/data/pinello/SHARED_SOFTWARE/anaconda3/envs/ATACseq_clustering/lib/python3.7/site-packages/rpy2/robjects/pandas2ri.py:191: FutureWarning: from_items is deprecated. Please use DataFrame.from_dict(dict(items), ...) instead. DataFrame.from_dict(OrderedDict(items)) may be used to preserve the key order.\n",
      "  res = PandasDataFrame.from_items(items)\n"
     ]
    },
    {
     "name": "stdout",
     "output_type": "stream",
     "text": [
      "step 0\n",
      "got 27 at resolution 1.5\n",
      "step 1\n",
      "got 17 at resolution 0.75\n",
      "step 2\n",
      "got 9 at resolution 0.375\n",
      "step 3\n",
      "got 13 at resolution 0.5625\n",
      "BROCKMAN_new\n"
     ]
    },
    {
     "name": "stderr",
     "output_type": "stream",
     "text": [
      "/data/pinello/SHARED_SOFTWARE/anaconda3/envs/ATACseq_clustering/lib/python3.7/site-packages/rpy2/robjects/pandas2ri.py:191: FutureWarning: from_items is deprecated. Please use DataFrame.from_dict(dict(items), ...) instead. DataFrame.from_dict(OrderedDict(items)) may be used to preserve the key order.\n",
      "  res = PandasDataFrame.from_items(items)\n"
     ]
    },
    {
     "name": "stdout",
     "output_type": "stream",
     "text": [
      "step 0\n",
      "got 23 at resolution 1.5\n",
      "step 1\n",
      "got 15 at resolution 0.75\n",
      "step 2\n",
      "got 11 at resolution 0.375\n",
      "step 3\n",
      "got 13 at resolution 0.5625\n",
      "Cusanovich2018\n"
     ]
    },
    {
     "name": "stderr",
     "output_type": "stream",
     "text": [
      "/data/pinello/SHARED_SOFTWARE/anaconda3/envs/ATACseq_clustering/lib/python3.7/site-packages/rpy2/robjects/pandas2ri.py:191: FutureWarning: from_items is deprecated. Please use DataFrame.from_dict(dict(items), ...) instead. DataFrame.from_dict(OrderedDict(items)) may be used to preserve the key order.\n",
      "  res = PandasDataFrame.from_items(items)\n"
     ]
    },
    {
     "name": "stdout",
     "output_type": "stream",
     "text": [
      "step 0\n",
      "got 26 at resolution 1.5\n",
      "step 1\n",
      "got 20 at resolution 0.75\n",
      "step 2\n",
      "got 15 at resolution 0.375\n",
      "step 3\n",
      "got 15 at resolution 0.1875\n",
      "step 4\n",
      "got 11 at resolution 0.09375\n",
      "step 5\n",
      "got 14 at resolution 0.140625\n",
      "step 6\n",
      "got 14 at resolution 0.1171875\n",
      "step 7\n",
      "got 11 at resolution 0.10546875\n",
      "step 8\n",
      "got 12 at resolution 0.111328125\n",
      "step 9\n",
      "got 13 at resolution 0.1142578125\n",
      "Cusanovich2018_new\n"
     ]
    },
    {
     "name": "stderr",
     "output_type": "stream",
     "text": [
      "/data/pinello/SHARED_SOFTWARE/anaconda3/envs/ATACseq_clustering/lib/python3.7/site-packages/rpy2/robjects/pandas2ri.py:191: FutureWarning: from_items is deprecated. Please use DataFrame.from_dict(dict(items), ...) instead. DataFrame.from_dict(OrderedDict(items)) may be used to preserve the key order.\n",
      "  res = PandasDataFrame.from_items(items)\n"
     ]
    },
    {
     "name": "stdout",
     "output_type": "stream",
     "text": [
      "step 0\n",
      "got 26 at resolution 1.5\n",
      "step 1\n",
      "got 21 at resolution 0.75\n",
      "step 2\n",
      "got 17 at resolution 0.375\n",
      "step 3\n",
      "got 14 at resolution 0.1875\n",
      "step 4\n",
      "got 10 at resolution 0.09375\n",
      "step 5\n",
      "got 13 at resolution 0.140625\n",
      "chromVAR_kmers_pca\n"
     ]
    },
    {
     "name": "stderr",
     "output_type": "stream",
     "text": [
      "/data/pinello/SHARED_SOFTWARE/anaconda3/envs/ATACseq_clustering/lib/python3.7/site-packages/rpy2/robjects/pandas2ri.py:191: FutureWarning: from_items is deprecated. Please use DataFrame.from_dict(dict(items), ...) instead. DataFrame.from_dict(OrderedDict(items)) may be used to preserve the key order.\n",
      "  res = PandasDataFrame.from_items(items)\n"
     ]
    },
    {
     "name": "stdout",
     "output_type": "stream",
     "text": [
      "step 0\n",
      "got 18 at resolution 1.5\n",
      "step 1\n",
      "got 13 at resolution 0.75\n",
      "chromVAR_kmers_pcanew\n"
     ]
    },
    {
     "name": "stderr",
     "output_type": "stream",
     "text": [
      "/data/pinello/SHARED_SOFTWARE/anaconda3/envs/ATACseq_clustering/lib/python3.7/site-packages/rpy2/robjects/pandas2ri.py:191: FutureWarning: from_items is deprecated. Please use DataFrame.from_dict(dict(items), ...) instead. DataFrame.from_dict(OrderedDict(items)) may be used to preserve the key order.\n",
      "  res = PandasDataFrame.from_items(items)\n"
     ]
    },
    {
     "name": "stdout",
     "output_type": "stream",
     "text": [
      "step 0\n",
      "got 15 at resolution 1.5\n",
      "step 1\n",
      "got 14 at resolution 0.75\n",
      "step 2\n",
      "got 13 at resolution 0.375\n",
      "chromVAR_motifs_pca\n"
     ]
    },
    {
     "name": "stderr",
     "output_type": "stream",
     "text": [
      "/data/pinello/SHARED_SOFTWARE/anaconda3/envs/ATACseq_clustering/lib/python3.7/site-packages/rpy2/robjects/pandas2ri.py:191: FutureWarning: from_items is deprecated. Please use DataFrame.from_dict(dict(items), ...) instead. DataFrame.from_dict(OrderedDict(items)) may be used to preserve the key order.\n",
      "  res = PandasDataFrame.from_items(items)\n"
     ]
    },
    {
     "name": "stdout",
     "output_type": "stream",
     "text": [
      "step 0\n",
      "got 17 at resolution 1.5\n",
      "step 1\n",
      "got 13 at resolution 0.75\n",
      "chromVAR_motifs_pcanew\n"
     ]
    },
    {
     "name": "stderr",
     "output_type": "stream",
     "text": [
      "/data/pinello/SHARED_SOFTWARE/anaconda3/envs/ATACseq_clustering/lib/python3.7/site-packages/rpy2/robjects/pandas2ri.py:191: FutureWarning: from_items is deprecated. Please use DataFrame.from_dict(dict(items), ...) instead. DataFrame.from_dict(OrderedDict(items)) may be used to preserve the key order.\n",
      "  res = PandasDataFrame.from_items(items)\n"
     ]
    },
    {
     "name": "stdout",
     "output_type": "stream",
     "text": [
      "step 0\n",
      "got 16 at resolution 1.5\n",
      "step 1\n",
      "got 12 at resolution 0.75\n",
      "step 2\n",
      "got 15 at resolution 1.125\n",
      "step 3\n",
      "got 13 at resolution 0.9375\n",
      "GeneScoring2\n"
     ]
    },
    {
     "name": "stderr",
     "output_type": "stream",
     "text": [
      "/data/pinello/SHARED_SOFTWARE/anaconda3/envs/ATACseq_clustering/lib/python3.7/site-packages/rpy2/robjects/pandas2ri.py:191: FutureWarning: from_items is deprecated. Please use DataFrame.from_dict(dict(items), ...) instead. DataFrame.from_dict(OrderedDict(items)) may be used to preserve the key order.\n",
      "  res = PandasDataFrame.from_items(items)\n"
     ]
    },
    {
     "name": "stdout",
     "output_type": "stream",
     "text": [
      "step 0\n",
      "got 32 at resolution 1.5\n",
      "step 1\n",
      "got 19 at resolution 0.75\n",
      "step 2\n",
      "got 10 at resolution 0.375\n",
      "step 3\n",
      "got 16 at resolution 0.5625\n",
      "step 4\n",
      "got 13 at resolution 0.46875\n",
      "GeneScoring2_new\n"
     ]
    },
    {
     "name": "stderr",
     "output_type": "stream",
     "text": [
      "/data/pinello/SHARED_SOFTWARE/anaconda3/envs/ATACseq_clustering/lib/python3.7/site-packages/rpy2/robjects/pandas2ri.py:191: FutureWarning: from_items is deprecated. Please use DataFrame.from_dict(dict(items), ...) instead. DataFrame.from_dict(OrderedDict(items)) may be used to preserve the key order.\n",
      "  res = PandasDataFrame.from_items(items)\n"
     ]
    },
    {
     "name": "stdout",
     "output_type": "stream",
     "text": [
      "step 0\n",
      "got 22 at resolution 1.5\n",
      "step 1\n",
      "got 14 at resolution 0.75\n",
      "step 2\n",
      "got 10 at resolution 0.375\n",
      "step 3\n",
      "got 12 at resolution 0.5625\n",
      "step 4\n",
      "got 13 at resolution 0.65625\n",
      "Cicero2\n"
     ]
    },
    {
     "name": "stderr",
     "output_type": "stream",
     "text": [
      "/data/pinello/SHARED_SOFTWARE/anaconda3/envs/ATACseq_clustering/lib/python3.7/site-packages/rpy2/robjects/pandas2ri.py:191: FutureWarning: from_items is deprecated. Please use DataFrame.from_dict(dict(items), ...) instead. DataFrame.from_dict(OrderedDict(items)) may be used to preserve the key order.\n",
      "  res = PandasDataFrame.from_items(items)\n"
     ]
    },
    {
     "name": "stdout",
     "output_type": "stream",
     "text": [
      "step 0\n",
      "got 33 at resolution 1.5\n",
      "step 1\n",
      "got 20 at resolution 0.75\n",
      "step 2\n",
      "got 14 at resolution 0.375\n",
      "step 3\n",
      "got 7 at resolution 0.1875\n",
      "step 4\n",
      "got 9 at resolution 0.28125\n",
      "step 5\n",
      "got 13 at resolution 0.328125\n",
      "Cicero2_new\n"
     ]
    },
    {
     "name": "stderr",
     "output_type": "stream",
     "text": [
      "/data/pinello/SHARED_SOFTWARE/anaconda3/envs/ATACseq_clustering/lib/python3.7/site-packages/rpy2/robjects/pandas2ri.py:191: FutureWarning: from_items is deprecated. Please use DataFrame.from_dict(dict(items), ...) instead. DataFrame.from_dict(OrderedDict(items)) may be used to preserve the key order.\n",
      "  res = PandasDataFrame.from_items(items)\n"
     ]
    },
    {
     "name": "stdout",
     "output_type": "stream",
     "text": [
      "step 0\n",
      "got 32 at resolution 1.5\n",
      "step 1\n",
      "got 17 at resolution 0.75\n",
      "step 2\n",
      "got 10 at resolution 0.375\n",
      "step 3\n",
      "got 14 at resolution 0.5625\n",
      "step 4\n",
      "got 14 at resolution 0.46875\n",
      "step 5\n",
      "got 10 at resolution 0.421875\n",
      "step 6\n",
      "got 13 at resolution 0.4453125\n",
      "SnapATAC\n"
     ]
    },
    {
     "name": "stderr",
     "output_type": "stream",
     "text": [
      "/data/pinello/SHARED_SOFTWARE/anaconda3/envs/ATACseq_clustering/lib/python3.7/site-packages/rpy2/robjects/pandas2ri.py:191: FutureWarning: from_items is deprecated. Please use DataFrame.from_dict(dict(items), ...) instead. DataFrame.from_dict(OrderedDict(items)) may be used to preserve the key order.\n",
      "  res = PandasDataFrame.from_items(items)\n"
     ]
    },
    {
     "name": "stdout",
     "output_type": "stream",
     "text": [
      "step 0\n",
      "got 26 at resolution 1.5\n",
      "step 1\n",
      "got 21 at resolution 0.75\n",
      "step 2\n",
      "got 18 at resolution 0.375\n",
      "step 3\n",
      "got 14 at resolution 0.1875\n",
      "step 4\n",
      "got 11 at resolution 0.09375\n",
      "step 5\n",
      "got 14 at resolution 0.140625\n",
      "step 6\n",
      "got 14 at resolution 0.1171875\n",
      "step 7\n",
      "got 14 at resolution 0.10546875\n",
      "step 8\n",
      "got 13 at resolution 0.099609375\n",
      "SnapATAC_new\n"
     ]
    },
    {
     "name": "stderr",
     "output_type": "stream",
     "text": [
      "/data/pinello/SHARED_SOFTWARE/anaconda3/envs/ATACseq_clustering/lib/python3.7/site-packages/rpy2/robjects/pandas2ri.py:191: FutureWarning: from_items is deprecated. Please use DataFrame.from_dict(dict(items), ...) instead. DataFrame.from_dict(OrderedDict(items)) may be used to preserve the key order.\n",
      "  res = PandasDataFrame.from_items(items)\n"
     ]
    },
    {
     "name": "stdout",
     "output_type": "stream",
     "text": [
      "step 0\n",
      "got 25 at resolution 1.5\n",
      "step 1\n",
      "got 20 at resolution 0.75\n",
      "step 2\n",
      "got 17 at resolution 0.375\n",
      "step 3\n",
      "got 14 at resolution 0.1875\n",
      "step 4\n",
      "got 12 at resolution 0.09375\n",
      "step 5\n",
      "got 14 at resolution 0.140625\n",
      "step 6\n",
      "got 14 at resolution 0.1171875\n",
      "step 7\n",
      "got 13 at resolution 0.10546875\n",
      "SCRAT2\n"
     ]
    },
    {
     "name": "stderr",
     "output_type": "stream",
     "text": [
      "/data/pinello/SHARED_SOFTWARE/anaconda3/envs/ATACseq_clustering/lib/python3.7/site-packages/rpy2/robjects/pandas2ri.py:191: FutureWarning: from_items is deprecated. Please use DataFrame.from_dict(dict(items), ...) instead. DataFrame.from_dict(OrderedDict(items)) may be used to preserve the key order.\n",
      "  res = PandasDataFrame.from_items(items)\n"
     ]
    },
    {
     "name": "stdout",
     "output_type": "stream",
     "text": [
      "step 0\n",
      "got 27 at resolution 1.5\n",
      "step 1\n",
      "got 15 at resolution 0.75\n",
      "step 2\n",
      "got 9 at resolution 0.375\n",
      "step 3\n",
      "got 11 at resolution 0.5625\n",
      "step 4\n",
      "got 13 at resolution 0.65625\n",
      "SCRAT2_new\n"
     ]
    },
    {
     "name": "stderr",
     "output_type": "stream",
     "text": [
      "/data/pinello/SHARED_SOFTWARE/anaconda3/envs/ATACseq_clustering/lib/python3.7/site-packages/rpy2/robjects/pandas2ri.py:191: FutureWarning: from_items is deprecated. Please use DataFrame.from_dict(dict(items), ...) instead. DataFrame.from_dict(OrderedDict(items)) may be used to preserve the key order.\n",
      "  res = PandasDataFrame.from_items(items)\n"
     ]
    },
    {
     "name": "stdout",
     "output_type": "stream",
     "text": [
      "step 0\n",
      "got 28 at resolution 1.5\n",
      "step 1\n",
      "got 15 at resolution 0.75\n",
      "step 2\n",
      "got 10 at resolution 0.375\n",
      "step 3\n",
      "got 13 at resolution 0.5625\n"
     ]
    }
   ],
   "source": [
    "for file in files:\n",
    "    file_split = file[:-4].split('_')\n",
    "    method = file_split[1]\n",
    "    if(len(file_split)>2):\n",
    "        method = method + '_'+''.join(file_split[2:]).replace('2','_pca')\n",
    "    print(method)\n",
    "\n",
    "    pandas2ri.activate()\n",
    "    readRDS = robjects.r['readRDS']\n",
    "    df_rds = readRDS(os.path.join(path_fm,file))\n",
    "    fm_mat = pandas2ri.ri2py(robjects.r['data.frame'](robjects.r['as.matrix'](df_rds)))\n",
    "    fm_mat.fillna(0,inplace=True)\n",
    "    fm_mat.columns = metadata.index\n",
    "    \n",
    "    adata = sc.AnnData(fm_mat.T)\n",
    "    adata.var_names_make_unique()\n",
    "    adata.obs = metadata.loc[adata.obs.index,]\n",
    "    df_metrics.loc[method,] = \"\"\n",
    "    #Louvain\n",
    "    sc.pp.neighbors(adata, n_neighbors=15,use_rep='X')\n",
    "#     sc.tl.louvain(adata)\n",
    "    getNClusters(adata,n_cluster=num_clusters)\n",
    "    #kmeans\n",
    "    kmeans = KMeans(n_clusters=num_clusters, random_state=2019).fit(adata.X)\n",
    "    adata.obs['kmeans'] = pd.Series(kmeans.labels_,index=adata.obs.index).astype('category')\n",
    "    #hierachical clustering\n",
    "    hc = AgglomerativeClustering(n_clusters=num_clusters).fit(adata.X)\n",
    "    adata.obs['hc'] = pd.Series(hc.labels_,index=adata.obs.index).astype('category')\n",
    "    #clustering metrics\n",
    "    \n",
    "    #adjusted rank index\n",
    "    ari_louvain = adjusted_rand_score(adata.obs['label'], adata.obs['louvain'])\n",
    "    ari_kmeans = adjusted_rand_score(adata.obs['label'], adata.obs['kmeans'])\n",
    "    ari_hc = adjusted_rand_score(adata.obs['label'], adata.obs['hc'])\n",
    "    #adjusted mutual information\n",
    "    ami_louvain = adjusted_mutual_info_score(adata.obs['label'], adata.obs['louvain'],average_method='arithmetic')\n",
    "    ami_kmeans = adjusted_mutual_info_score(adata.obs['label'], adata.obs['kmeans'],average_method='arithmetic')   \n",
    "    ami_hc = adjusted_mutual_info_score(adata.obs['label'], adata.obs['hc'],average_method='arithmetic')\n",
    "    #homogeneity\n",
    "    homo_louvain = homogeneity_score(adata.obs['label'], adata.obs['louvain'])\n",
    "    homo_kmeans = homogeneity_score(adata.obs['label'], adata.obs['kmeans'])\n",
    "    homo_hc = homogeneity_score(adata.obs['label'], adata.obs['hc'])\n",
    "\n",
    "    df_metrics.loc[method,['ARI_Louvain','ARI_kmeans','ARI_HC']] = [ari_louvain,ari_kmeans,ari_hc]\n",
    "    df_metrics.loc[method,['AMI_Louvain','AMI_kmeans','AMI_HC']] = [ami_louvain,ami_kmeans,ami_hc]\n",
    "    df_metrics.loc[method,['Homogeneity_Louvain','Homogeneity_kmeans','Homogeneity_HC']] = [homo_louvain,homo_kmeans,homo_hc] \n",
    "    adata.obs[['louvain','kmeans','hc']].to_csv(os.path.join(path_clusters ,method + '_clusters.tsv'),sep='\\t')"
   ]
  },
  {
   "cell_type": "code",
   "execution_count": 9,
   "metadata": {},
   "outputs": [],
   "source": [
    "df_metrics.to_csv(path_metrics+'clustering_scores.csv')"
   ]
  },
  {
   "cell_type": "code",
   "execution_count": 10,
   "metadata": {},
   "outputs": [
    {
     "data": {
      "text/html": [
       "<div>\n",
       "<style scoped>\n",
       "    .dataframe tbody tr th:only-of-type {\n",
       "        vertical-align: middle;\n",
       "    }\n",
       "\n",
       "    .dataframe tbody tr th {\n",
       "        vertical-align: top;\n",
       "    }\n",
       "\n",
       "    .dataframe thead th {\n",
       "        text-align: right;\n",
       "    }\n",
       "</style>\n",
       "<table border=\"1\" class=\"dataframe\">\n",
       "  <thead>\n",
       "    <tr style=\"text-align: right;\">\n",
       "      <th></th>\n",
       "      <th>ARI_Louvain</th>\n",
       "      <th>ARI_kmeans</th>\n",
       "      <th>ARI_HC</th>\n",
       "      <th>AMI_Louvain</th>\n",
       "      <th>AMI_kmeans</th>\n",
       "      <th>AMI_HC</th>\n",
       "      <th>Homogeneity_Louvain</th>\n",
       "      <th>Homogeneity_kmeans</th>\n",
       "      <th>Homogeneity_HC</th>\n",
       "    </tr>\n",
       "  </thead>\n",
       "  <tbody>\n",
       "    <tr>\n",
       "      <th>Control</th>\n",
       "      <td>0.332837</td>\n",
       "      <td>0.0310206</td>\n",
       "      <td>0.0323049</td>\n",
       "      <td>0.548613</td>\n",
       "      <td>0.17679</td>\n",
       "      <td>0.18392</td>\n",
       "      <td>0.54098</td>\n",
       "      <td>0.145575</td>\n",
       "      <td>0.146171</td>\n",
       "    </tr>\n",
       "    <tr>\n",
       "      <th>Control_new</th>\n",
       "      <td>0.322932</td>\n",
       "      <td>0.0359537</td>\n",
       "      <td>0.0633727</td>\n",
       "      <td>0.568016</td>\n",
       "      <td>0.287147</td>\n",
       "      <td>0.341796</td>\n",
       "      <td>0.550649</td>\n",
       "      <td>0.211888</td>\n",
       "      <td>0.2627</td>\n",
       "    </tr>\n",
       "    <tr>\n",
       "      <th>BROCKMAN</th>\n",
       "      <td>0.229773</td>\n",
       "      <td>0.108314</td>\n",
       "      <td>0.0950577</td>\n",
       "      <td>0.402846</td>\n",
       "      <td>0.245153</td>\n",
       "      <td>0.216923</td>\n",
       "      <td>0.403183</td>\n",
       "      <td>0.246948</td>\n",
       "      <td>0.218872</td>\n",
       "    </tr>\n",
       "    <tr>\n",
       "      <th>BROCKMAN_new</th>\n",
       "      <td>0.350076</td>\n",
       "      <td>0.208846</td>\n",
       "      <td>0.216572</td>\n",
       "      <td>0.517632</td>\n",
       "      <td>0.377216</td>\n",
       "      <td>0.389107</td>\n",
       "      <td>0.519581</td>\n",
       "      <td>0.378841</td>\n",
       "      <td>0.386687</td>\n",
       "    </tr>\n",
       "    <tr>\n",
       "      <th>Cusanovich2018</th>\n",
       "      <td>0.314571</td>\n",
       "      <td>0.312622</td>\n",
       "      <td>0.394549</td>\n",
       "      <td>0.588781</td>\n",
       "      <td>0.532839</td>\n",
       "      <td>0.579267</td>\n",
       "      <td>0.562294</td>\n",
       "      <td>0.520058</td>\n",
       "      <td>0.575403</td>\n",
       "    </tr>\n",
       "    <tr>\n",
       "      <th>Cusanovich2018_new</th>\n",
       "      <td>0.397886</td>\n",
       "      <td>0.343153</td>\n",
       "      <td>0.381751</td>\n",
       "      <td>0.614461</td>\n",
       "      <td>0.566933</td>\n",
       "      <td>0.579881</td>\n",
       "      <td>0.595005</td>\n",
       "      <td>0.549324</td>\n",
       "      <td>0.574297</td>\n",
       "    </tr>\n",
       "    <tr>\n",
       "      <th>chromVAR_kmers_pca</th>\n",
       "      <td>0.393402</td>\n",
       "      <td>0.353105</td>\n",
       "      <td>0.330552</td>\n",
       "      <td>0.57713</td>\n",
       "      <td>0.537296</td>\n",
       "      <td>0.523283</td>\n",
       "      <td>0.570369</td>\n",
       "      <td>0.529479</td>\n",
       "      <td>0.519517</td>\n",
       "    </tr>\n",
       "    <tr>\n",
       "      <th>chromVAR_kmers_pcanew</th>\n",
       "      <td>0.270334</td>\n",
       "      <td>0.321985</td>\n",
       "      <td>0.275228</td>\n",
       "      <td>0.532833</td>\n",
       "      <td>0.509146</td>\n",
       "      <td>0.465866</td>\n",
       "      <td>0.506553</td>\n",
       "      <td>0.501988</td>\n",
       "      <td>0.458794</td>\n",
       "    </tr>\n",
       "    <tr>\n",
       "      <th>chromVAR_motifs_pca</th>\n",
       "      <td>0.252594</td>\n",
       "      <td>0.237495</td>\n",
       "      <td>0.222042</td>\n",
       "      <td>0.475341</td>\n",
       "      <td>0.383546</td>\n",
       "      <td>0.387681</td>\n",
       "      <td>0.449016</td>\n",
       "      <td>0.380229</td>\n",
       "      <td>0.371064</td>\n",
       "    </tr>\n",
       "    <tr>\n",
       "      <th>chromVAR_motifs_pcanew</th>\n",
       "      <td>0.252875</td>\n",
       "      <td>0.211211</td>\n",
       "      <td>0.172324</td>\n",
       "      <td>0.408515</td>\n",
       "      <td>0.316595</td>\n",
       "      <td>0.32332</td>\n",
       "      <td>0.394885</td>\n",
       "      <td>0.315727</td>\n",
       "      <td>0.314548</td>\n",
       "    </tr>\n",
       "    <tr>\n",
       "      <th>GeneScoring2</th>\n",
       "      <td>0.184099</td>\n",
       "      <td>0.0265249</td>\n",
       "      <td>0.0295811</td>\n",
       "      <td>0.384399</td>\n",
       "      <td>0.143917</td>\n",
       "      <td>0.15945</td>\n",
       "      <td>0.38142</td>\n",
       "      <td>0.121941</td>\n",
       "      <td>0.132441</td>\n",
       "    </tr>\n",
       "    <tr>\n",
       "      <th>GeneScoring2_new</th>\n",
       "      <td>0.279574</td>\n",
       "      <td>0.0533476</td>\n",
       "      <td>0.0423872</td>\n",
       "      <td>0.492546</td>\n",
       "      <td>0.323169</td>\n",
       "      <td>0.301797</td>\n",
       "      <td>0.487867</td>\n",
       "      <td>0.25905</td>\n",
       "      <td>0.232852</td>\n",
       "    </tr>\n",
       "    <tr>\n",
       "      <th>Cicero2</th>\n",
       "      <td>0.0675771</td>\n",
       "      <td>0.00516015</td>\n",
       "      <td>0.00720392</td>\n",
       "      <td>0.133417</td>\n",
       "      <td>0.0235267</td>\n",
       "      <td>0.025529</td>\n",
       "      <td>0.129841</td>\n",
       "      <td>0.0192896</td>\n",
       "      <td>0.0213231</td>\n",
       "    </tr>\n",
       "    <tr>\n",
       "      <th>Cicero2_new</th>\n",
       "      <td>0.118718</td>\n",
       "      <td>0.00362433</td>\n",
       "      <td>0.00322502</td>\n",
       "      <td>0.226887</td>\n",
       "      <td>0.0271774</td>\n",
       "      <td>0.0263035</td>\n",
       "      <td>0.223642</td>\n",
       "      <td>0.0204889</td>\n",
       "      <td>0.0196968</td>\n",
       "    </tr>\n",
       "    <tr>\n",
       "      <th>SnapATAC</th>\n",
       "      <td>0.31158</td>\n",
       "      <td>0.315666</td>\n",
       "      <td>0.238986</td>\n",
       "      <td>0.58319</td>\n",
       "      <td>0.538058</td>\n",
       "      <td>0.570649</td>\n",
       "      <td>0.549473</td>\n",
       "      <td>0.526652</td>\n",
       "      <td>0.526307</td>\n",
       "    </tr>\n",
       "    <tr>\n",
       "      <th>SnapATAC_new</th>\n",
       "      <td>0.278772</td>\n",
       "      <td>0.346599</td>\n",
       "      <td>0.232399</td>\n",
       "      <td>0.568546</td>\n",
       "      <td>0.574934</td>\n",
       "      <td>0.567614</td>\n",
       "      <td>0.536186</td>\n",
       "      <td>0.562902</td>\n",
       "      <td>0.522496</td>\n",
       "    </tr>\n",
       "    <tr>\n",
       "      <th>SCRAT2</th>\n",
       "      <td>0.153423</td>\n",
       "      <td>0.0777187</td>\n",
       "      <td>0.0852386</td>\n",
       "      <td>0.286294</td>\n",
       "      <td>0.176089</td>\n",
       "      <td>0.181604</td>\n",
       "      <td>0.289815</td>\n",
       "      <td>0.177849</td>\n",
       "      <td>0.183358</td>\n",
       "    </tr>\n",
       "    <tr>\n",
       "      <th>SCRAT2_new</th>\n",
       "      <td>0.2402</td>\n",
       "      <td>0.082636</td>\n",
       "      <td>0.0907944</td>\n",
       "      <td>0.434564</td>\n",
       "      <td>0.218227</td>\n",
       "      <td>0.235947</td>\n",
       "      <td>0.432132</td>\n",
       "      <td>0.21359</td>\n",
       "      <td>0.230638</td>\n",
       "    </tr>\n",
       "  </tbody>\n",
       "</table>\n",
       "</div>"
      ],
      "text/plain": [
       "                       ARI_Louvain  ARI_kmeans      ARI_HC AMI_Louvain  \\\n",
       "Control                   0.332837   0.0310206   0.0323049    0.548613   \n",
       "Control_new               0.322932   0.0359537   0.0633727    0.568016   \n",
       "BROCKMAN                  0.229773    0.108314   0.0950577    0.402846   \n",
       "BROCKMAN_new              0.350076    0.208846    0.216572    0.517632   \n",
       "Cusanovich2018            0.314571    0.312622    0.394549    0.588781   \n",
       "Cusanovich2018_new        0.397886    0.343153    0.381751    0.614461   \n",
       "chromVAR_kmers_pca        0.393402    0.353105    0.330552     0.57713   \n",
       "chromVAR_kmers_pcanew     0.270334    0.321985    0.275228    0.532833   \n",
       "chromVAR_motifs_pca       0.252594    0.237495    0.222042    0.475341   \n",
       "chromVAR_motifs_pcanew    0.252875    0.211211    0.172324    0.408515   \n",
       "GeneScoring2              0.184099   0.0265249   0.0295811    0.384399   \n",
       "GeneScoring2_new          0.279574   0.0533476   0.0423872    0.492546   \n",
       "Cicero2                  0.0675771  0.00516015  0.00720392    0.133417   \n",
       "Cicero2_new               0.118718  0.00362433  0.00322502    0.226887   \n",
       "SnapATAC                   0.31158    0.315666    0.238986     0.58319   \n",
       "SnapATAC_new              0.278772    0.346599    0.232399    0.568546   \n",
       "SCRAT2                    0.153423   0.0777187   0.0852386    0.286294   \n",
       "SCRAT2_new                  0.2402    0.082636   0.0907944    0.434564   \n",
       "\n",
       "                       AMI_kmeans     AMI_HC Homogeneity_Louvain  \\\n",
       "Control                   0.17679    0.18392             0.54098   \n",
       "Control_new              0.287147   0.341796            0.550649   \n",
       "BROCKMAN                 0.245153   0.216923            0.403183   \n",
       "BROCKMAN_new             0.377216   0.389107            0.519581   \n",
       "Cusanovich2018           0.532839   0.579267            0.562294   \n",
       "Cusanovich2018_new       0.566933   0.579881            0.595005   \n",
       "chromVAR_kmers_pca       0.537296   0.523283            0.570369   \n",
       "chromVAR_kmers_pcanew    0.509146   0.465866            0.506553   \n",
       "chromVAR_motifs_pca      0.383546   0.387681            0.449016   \n",
       "chromVAR_motifs_pcanew   0.316595    0.32332            0.394885   \n",
       "GeneScoring2             0.143917    0.15945             0.38142   \n",
       "GeneScoring2_new         0.323169   0.301797            0.487867   \n",
       "Cicero2                 0.0235267   0.025529            0.129841   \n",
       "Cicero2_new             0.0271774  0.0263035            0.223642   \n",
       "SnapATAC                 0.538058   0.570649            0.549473   \n",
       "SnapATAC_new             0.574934   0.567614            0.536186   \n",
       "SCRAT2                   0.176089   0.181604            0.289815   \n",
       "SCRAT2_new               0.218227   0.235947            0.432132   \n",
       "\n",
       "                       Homogeneity_kmeans Homogeneity_HC  \n",
       "Control                          0.145575       0.146171  \n",
       "Control_new                      0.211888         0.2627  \n",
       "BROCKMAN                         0.246948       0.218872  \n",
       "BROCKMAN_new                     0.378841       0.386687  \n",
       "Cusanovich2018                   0.520058       0.575403  \n",
       "Cusanovich2018_new               0.549324       0.574297  \n",
       "chromVAR_kmers_pca               0.529479       0.519517  \n",
       "chromVAR_kmers_pcanew            0.501988       0.458794  \n",
       "chromVAR_motifs_pca              0.380229       0.371064  \n",
       "chromVAR_motifs_pcanew           0.315727       0.314548  \n",
       "GeneScoring2                     0.121941       0.132441  \n",
       "GeneScoring2_new                  0.25905       0.232852  \n",
       "Cicero2                         0.0192896      0.0213231  \n",
       "Cicero2_new                     0.0204889      0.0196968  \n",
       "SnapATAC                         0.526652       0.526307  \n",
       "SnapATAC_new                     0.562902       0.522496  \n",
       "SCRAT2                           0.177849       0.183358  \n",
       "SCRAT2_new                        0.21359       0.230638  "
      ]
     },
     "execution_count": 10,
     "metadata": {},
     "output_type": "execute_result"
    }
   ],
   "source": [
    "df_metrics"
   ]
  },
  {
   "cell_type": "code",
   "execution_count": null,
   "metadata": {},
   "outputs": [],
   "source": []
  }
 ],
 "metadata": {
  "kernelspec": {
   "display_name": "Python [conda env:ATACseq_clustering]",
   "language": "python",
   "name": "conda-env-ATACseq_clustering-py"
  },
  "language_info": {
   "codemirror_mode": {
    "name": "ipython",
    "version": 3
   },
   "file_extension": ".py",
   "mimetype": "text/x-python",
   "name": "python",
   "nbconvert_exporter": "python",
   "pygments_lexer": "ipython3",
   "version": "3.7.3"
  }
 },
 "nbformat": 4,
 "nbformat_minor": 2
}
