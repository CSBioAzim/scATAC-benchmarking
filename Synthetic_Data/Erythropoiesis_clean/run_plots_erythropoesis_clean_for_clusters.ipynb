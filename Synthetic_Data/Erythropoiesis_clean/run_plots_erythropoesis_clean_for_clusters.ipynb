{
 "cells": [
  {
   "cell_type": "code",
   "execution_count": 1,
   "metadata": {
    "scrolled": true
   },
   "outputs": [
    {
     "name": "stderr",
     "output_type": "stream",
     "text": [
      "Loading required package: ggplot2\n",
      "\n",
      "Attaching package: ‘cowplot’\n",
      "\n",
      "The following object is masked from ‘package:ggplot2’:\n",
      "\n",
      "    ggsave\n",
      "\n",
      "Loading required package: MASS\n"
     ]
    }
   ],
   "source": [
    "library(data.table)\n",
    "library(cowplot)\n",
    "library(Matrix)\n",
    "library(BuenColors)\n",
    "library(RColorBrewer)"
   ]
  },
  {
   "cell_type": "code",
   "execution_count": null,
   "metadata": {},
   "outputs": [],
   "source": []
  },
  {
   "cell_type": "markdown",
   "metadata": {},
   "source": [
    "#### define functions"
   ]
  },
  {
   "cell_type": "code",
   "execution_count": 2,
   "metadata": {},
   "outputs": [],
   "source": [
    "plot_umap <- function(df_umap,labels,title='UMAP',colormap=colormap){\n",
    "    set.seed(2019) \n",
    "    df_umap = data.frame(cbind(df_umap,labels),stringsAsFactors = FALSE)\n",
    "    colnames(df_umap) = c('umap1','umap2','celltype')\n",
    "    df_umap$umap1 = as.numeric(df_umap$umap1)\n",
    "    df_umap$umap2 = as.numeric(df_umap$umap2)\n",
    "    options(repr.plot.width=4, repr.plot.height=4)\n",
    "    p <- ggplot(shuf(df_umap), aes(x = umap1, y = umap2, color = celltype)) +\n",
    "      geom_point(size = 1) + scale_color_manual(values = colormap) +\n",
    "      ggtitle(title)\n",
    "    return(p)\n",
    "}"
   ]
  },
  {
   "cell_type": "code",
   "execution_count": null,
   "metadata": {},
   "outputs": [],
   "source": []
  },
  {
   "cell_type": "markdown",
   "metadata": {},
   "source": [
    "### Input"
   ]
  },
  {
   "cell_type": "code",
   "execution_count": 3,
   "metadata": {},
   "outputs": [],
   "source": [
    "workdir = './erythropoesis_clean_results/'\n",
    "path_fig = paste0(workdir,'figures/')\n",
    "system(paste0('mkdir -p ',path_fig))"
   ]
  },
  {
   "cell_type": "code",
   "execution_count": 4,
   "metadata": {},
   "outputs": [],
   "source": [
    "fig_basename = \"simulated_erythropoesis_clean_\""
   ]
  },
  {
   "cell_type": "code",
   "execution_count": 5,
   "metadata": {},
   "outputs": [],
   "source": [
    "path_umap = paste0(workdir,'umap_rds/')\n",
    "path_clusters = paste0(workdir,'clusters/')"
   ]
  },
  {
   "cell_type": "code",
   "execution_count": 6,
   "metadata": {},
   "outputs": [],
   "source": [
    "se = readRDS(paste0(workdir,'se.rds'))"
   ]
  },
  {
   "cell_type": "code",
   "execution_count": 7,
   "metadata": {},
   "outputs": [
    {
     "data": {
      "text/plain": [
       "class: RangedSummarizedExperiment \n",
       "dim: 104062 1200 \n",
       "metadata(0):\n",
       "assays(1): counts\n",
       "rownames(104062): chr1_10371_10621 chr1_115582_115832 ...\n",
       "  chrX_154842448_154842698 chrX_154862148_154862398\n",
       "rowData names(0):\n",
       "colnames(1200): CMP_1 CMP_2 ... P8_1199 P8_1200\n",
       "colData names(1): celltype"
      ]
     },
     "metadata": {},
     "output_type": "display_data"
    }
   ],
   "source": [
    "se"
   ]
  },
  {
   "cell_type": "code",
   "execution_count": 8,
   "metadata": {},
   "outputs": [],
   "source": [
    "# labels = se@colData$celltype\n",
    "# colormap = jdb_color_maps"
   ]
  },
  {
   "cell_type": "code",
   "execution_count": 9,
   "metadata": {},
   "outputs": [],
   "source": [
    "for (df in sapply(strsplit(list.files(path_umap), \"\\\\.\"),'[',1)){\n",
    "  assign(df,readRDS(paste0(path_umap,df,'.rds')))\n",
    "}"
   ]
  },
  {
   "cell_type": "code",
   "execution_count": 10,
   "metadata": {},
   "outputs": [
    {
     "data": {
      "text/html": [
       "<ol class=list-inline>\n",
       "\t<li>'df'</li>\n",
       "\t<li>'df_umap_BROCKMAN'</li>\n",
       "\t<li>'df_umap_chromVAR_kmer'</li>\n",
       "\t<li>'df_umap_chromVAR_kmer2'</li>\n",
       "\t<li>'df_umap_chromVAR_motif'</li>\n",
       "\t<li>'df_umap_chromVAR_motif2'</li>\n",
       "\t<li>'df_umap_Cicero'</li>\n",
       "\t<li>'df_umap_Cicero2'</li>\n",
       "\t<li>'df_umap_cisTopic'</li>\n",
       "\t<li>'df_umap_control'</li>\n",
       "\t<li>'df_umap_GeneScoring'</li>\n",
       "\t<li>'df_umap_GeneScoring2'</li>\n",
       "\t<li>'df_umap_LSI'</li>\n",
       "\t<li>'df_umap_scABC'</li>\n",
       "\t<li>'df_umap_scABC2'</li>\n",
       "\t<li>'df_umap_Scasat'</li>\n",
       "\t<li>'df_umap_SCRAT'</li>\n",
       "\t<li>'df_umap_SCRAT2'</li>\n",
       "\t<li>'df_umap_SnapATAC'</li>\n",
       "\t<li>'fig_basename'</li>\n",
       "\t<li>'path_clusters'</li>\n",
       "\t<li>'path_fig'</li>\n",
       "\t<li>'path_umap'</li>\n",
       "\t<li>'plot_umap'</li>\n",
       "\t<li>'se'</li>\n",
       "\t<li>'workdir'</li>\n",
       "</ol>\n"
      ],
      "text/latex": [
       "\\begin{enumerate*}\n",
       "\\item 'df'\n",
       "\\item 'df\\_umap\\_BROCKMAN'\n",
       "\\item 'df\\_umap\\_chromVAR\\_kmer'\n",
       "\\item 'df\\_umap\\_chromVAR\\_kmer2'\n",
       "\\item 'df\\_umap\\_chromVAR\\_motif'\n",
       "\\item 'df\\_umap\\_chromVAR\\_motif2'\n",
       "\\item 'df\\_umap\\_Cicero'\n",
       "\\item 'df\\_umap\\_Cicero2'\n",
       "\\item 'df\\_umap\\_cisTopic'\n",
       "\\item 'df\\_umap\\_control'\n",
       "\\item 'df\\_umap\\_GeneScoring'\n",
       "\\item 'df\\_umap\\_GeneScoring2'\n",
       "\\item 'df\\_umap\\_LSI'\n",
       "\\item 'df\\_umap\\_scABC'\n",
       "\\item 'df\\_umap\\_scABC2'\n",
       "\\item 'df\\_umap\\_Scasat'\n",
       "\\item 'df\\_umap\\_SCRAT'\n",
       "\\item 'df\\_umap\\_SCRAT2'\n",
       "\\item 'df\\_umap\\_SnapATAC'\n",
       "\\item 'fig\\_basename'\n",
       "\\item 'path\\_clusters'\n",
       "\\item 'path\\_fig'\n",
       "\\item 'path\\_umap'\n",
       "\\item 'plot\\_umap'\n",
       "\\item 'se'\n",
       "\\item 'workdir'\n",
       "\\end{enumerate*}\n"
      ],
      "text/markdown": [
       "1. 'df'\n",
       "2. 'df_umap_BROCKMAN'\n",
       "3. 'df_umap_chromVAR_kmer'\n",
       "4. 'df_umap_chromVAR_kmer2'\n",
       "5. 'df_umap_chromVAR_motif'\n",
       "6. 'df_umap_chromVAR_motif2'\n",
       "7. 'df_umap_Cicero'\n",
       "8. 'df_umap_Cicero2'\n",
       "9. 'df_umap_cisTopic'\n",
       "10. 'df_umap_control'\n",
       "11. 'df_umap_GeneScoring'\n",
       "12. 'df_umap_GeneScoring2'\n",
       "13. 'df_umap_LSI'\n",
       "14. 'df_umap_scABC'\n",
       "15. 'df_umap_scABC2'\n",
       "16. 'df_umap_Scasat'\n",
       "17. 'df_umap_SCRAT'\n",
       "18. 'df_umap_SCRAT2'\n",
       "19. 'df_umap_SnapATAC'\n",
       "20. 'fig_basename'\n",
       "21. 'path_clusters'\n",
       "22. 'path_fig'\n",
       "23. 'path_umap'\n",
       "24. 'plot_umap'\n",
       "25. 'se'\n",
       "26. 'workdir'\n",
       "\n",
       "\n"
      ],
      "text/plain": [
       " [1] \"df\"                      \"df_umap_BROCKMAN\"       \n",
       " [3] \"df_umap_chromVAR_kmer\"   \"df_umap_chromVAR_kmer2\" \n",
       " [5] \"df_umap_chromVAR_motif\"  \"df_umap_chromVAR_motif2\"\n",
       " [7] \"df_umap_Cicero\"          \"df_umap_Cicero2\"        \n",
       " [9] \"df_umap_cisTopic\"        \"df_umap_control\"        \n",
       "[11] \"df_umap_GeneScoring\"     \"df_umap_GeneScoring2\"   \n",
       "[13] \"df_umap_LSI\"             \"df_umap_scABC\"          \n",
       "[15] \"df_umap_scABC2\"          \"df_umap_Scasat\"         \n",
       "[17] \"df_umap_SCRAT\"           \"df_umap_SCRAT2\"         \n",
       "[19] \"df_umap_SnapATAC\"        \"fig_basename\"           \n",
       "[21] \"path_clusters\"           \"path_fig\"               \n",
       "[23] \"path_umap\"               \"plot_umap\"              \n",
       "[25] \"se\"                      \"workdir\"                "
      ]
     },
     "metadata": {},
     "output_type": "display_data"
    }
   ],
   "source": [
    "ls()"
   ]
  },
  {
   "cell_type": "code",
   "execution_count": 11,
   "metadata": {},
   "outputs": [],
   "source": [
    "for (method in sapply(strsplit(list.files(path_clusters), \"\\\\.\"),'[',1)){\n",
    "  assign(method,read.table(paste0(path_clusters,method,'.tsv'),\n",
    "                                             sep='\\t',header = TRUE,row.names = 1,\n",
    "                                             colClasses = c('character','character','character')))\n",
    "}"
   ]
  },
  {
   "cell_type": "code",
   "execution_count": 12,
   "metadata": {},
   "outputs": [
    {
     "data": {
      "text/html": [
       "<ol class=list-inline>\n",
       "\t<li>'BROCKMAN_clusters'</li>\n",
       "\t<li>'chromVAR_kmers_clusters'</li>\n",
       "\t<li>'chromVAR_kmers_pca_clusters'</li>\n",
       "\t<li>'chromVAR_motifs_clusters'</li>\n",
       "\t<li>'chromVAR_motifs_pca_clusters'</li>\n",
       "\t<li>'Cicero_clusters'</li>\n",
       "\t<li>'Cicero_pca_clusters'</li>\n",
       "\t<li>'cisTopic_clusters'</li>\n",
       "\t<li>'Control_clusters'</li>\n",
       "\t<li>'df'</li>\n",
       "\t<li>'df_umap_BROCKMAN'</li>\n",
       "\t<li>'df_umap_chromVAR_kmer'</li>\n",
       "\t<li>'df_umap_chromVAR_kmer2'</li>\n",
       "\t<li>'df_umap_chromVAR_motif'</li>\n",
       "\t<li>'df_umap_chromVAR_motif2'</li>\n",
       "\t<li>'df_umap_Cicero'</li>\n",
       "\t<li>'df_umap_Cicero2'</li>\n",
       "\t<li>'df_umap_cisTopic'</li>\n",
       "\t<li>'df_umap_control'</li>\n",
       "\t<li>'df_umap_GeneScoring'</li>\n",
       "\t<li>'df_umap_GeneScoring2'</li>\n",
       "\t<li>'df_umap_LSI'</li>\n",
       "\t<li>'df_umap_scABC'</li>\n",
       "\t<li>'df_umap_scABC2'</li>\n",
       "\t<li>'df_umap_Scasat'</li>\n",
       "\t<li>'df_umap_SCRAT'</li>\n",
       "\t<li>'df_umap_SCRAT2'</li>\n",
       "\t<li>'df_umap_SnapATAC'</li>\n",
       "\t<li>'fig_basename'</li>\n",
       "\t<li>'GeneScoring_clusters'</li>\n",
       "\t<li>'GeneScoring_pca_clusters'</li>\n",
       "\t<li>'LSI_clusters'</li>\n",
       "\t<li>'method'</li>\n",
       "\t<li>'path_clusters'</li>\n",
       "\t<li>'path_fig'</li>\n",
       "\t<li>'path_umap'</li>\n",
       "\t<li>'plot_umap'</li>\n",
       "\t<li>'scABC_clusters'</li>\n",
       "\t<li>'scABC_pca_clusters'</li>\n",
       "\t<li>'Scasat_clusters'</li>\n",
       "\t<li>'SCRAT_clusters'</li>\n",
       "\t<li>'SCRAT_pca_clusters'</li>\n",
       "\t<li>'se'</li>\n",
       "\t<li>'SnapATAC_clusters'</li>\n",
       "\t<li>'workdir'</li>\n",
       "</ol>\n"
      ],
      "text/latex": [
       "\\begin{enumerate*}\n",
       "\\item 'BROCKMAN\\_clusters'\n",
       "\\item 'chromVAR\\_kmers\\_clusters'\n",
       "\\item 'chromVAR\\_kmers\\_pca\\_clusters'\n",
       "\\item 'chromVAR\\_motifs\\_clusters'\n",
       "\\item 'chromVAR\\_motifs\\_pca\\_clusters'\n",
       "\\item 'Cicero\\_clusters'\n",
       "\\item 'Cicero\\_pca\\_clusters'\n",
       "\\item 'cisTopic\\_clusters'\n",
       "\\item 'Control\\_clusters'\n",
       "\\item 'df'\n",
       "\\item 'df\\_umap\\_BROCKMAN'\n",
       "\\item 'df\\_umap\\_chromVAR\\_kmer'\n",
       "\\item 'df\\_umap\\_chromVAR\\_kmer2'\n",
       "\\item 'df\\_umap\\_chromVAR\\_motif'\n",
       "\\item 'df\\_umap\\_chromVAR\\_motif2'\n",
       "\\item 'df\\_umap\\_Cicero'\n",
       "\\item 'df\\_umap\\_Cicero2'\n",
       "\\item 'df\\_umap\\_cisTopic'\n",
       "\\item 'df\\_umap\\_control'\n",
       "\\item 'df\\_umap\\_GeneScoring'\n",
       "\\item 'df\\_umap\\_GeneScoring2'\n",
       "\\item 'df\\_umap\\_LSI'\n",
       "\\item 'df\\_umap\\_scABC'\n",
       "\\item 'df\\_umap\\_scABC2'\n",
       "\\item 'df\\_umap\\_Scasat'\n",
       "\\item 'df\\_umap\\_SCRAT'\n",
       "\\item 'df\\_umap\\_SCRAT2'\n",
       "\\item 'df\\_umap\\_SnapATAC'\n",
       "\\item 'fig\\_basename'\n",
       "\\item 'GeneScoring\\_clusters'\n",
       "\\item 'GeneScoring\\_pca\\_clusters'\n",
       "\\item 'LSI\\_clusters'\n",
       "\\item 'method'\n",
       "\\item 'path\\_clusters'\n",
       "\\item 'path\\_fig'\n",
       "\\item 'path\\_umap'\n",
       "\\item 'plot\\_umap'\n",
       "\\item 'scABC\\_clusters'\n",
       "\\item 'scABC\\_pca\\_clusters'\n",
       "\\item 'Scasat\\_clusters'\n",
       "\\item 'SCRAT\\_clusters'\n",
       "\\item 'SCRAT\\_pca\\_clusters'\n",
       "\\item 'se'\n",
       "\\item 'SnapATAC\\_clusters'\n",
       "\\item 'workdir'\n",
       "\\end{enumerate*}\n"
      ],
      "text/markdown": [
       "1. 'BROCKMAN_clusters'\n",
       "2. 'chromVAR_kmers_clusters'\n",
       "3. 'chromVAR_kmers_pca_clusters'\n",
       "4. 'chromVAR_motifs_clusters'\n",
       "5. 'chromVAR_motifs_pca_clusters'\n",
       "6. 'Cicero_clusters'\n",
       "7. 'Cicero_pca_clusters'\n",
       "8. 'cisTopic_clusters'\n",
       "9. 'Control_clusters'\n",
       "10. 'df'\n",
       "11. 'df_umap_BROCKMAN'\n",
       "12. 'df_umap_chromVAR_kmer'\n",
       "13. 'df_umap_chromVAR_kmer2'\n",
       "14. 'df_umap_chromVAR_motif'\n",
       "15. 'df_umap_chromVAR_motif2'\n",
       "16. 'df_umap_Cicero'\n",
       "17. 'df_umap_Cicero2'\n",
       "18. 'df_umap_cisTopic'\n",
       "19. 'df_umap_control'\n",
       "20. 'df_umap_GeneScoring'\n",
       "21. 'df_umap_GeneScoring2'\n",
       "22. 'df_umap_LSI'\n",
       "23. 'df_umap_scABC'\n",
       "24. 'df_umap_scABC2'\n",
       "25. 'df_umap_Scasat'\n",
       "26. 'df_umap_SCRAT'\n",
       "27. 'df_umap_SCRAT2'\n",
       "28. 'df_umap_SnapATAC'\n",
       "29. 'fig_basename'\n",
       "30. 'GeneScoring_clusters'\n",
       "31. 'GeneScoring_pca_clusters'\n",
       "32. 'LSI_clusters'\n",
       "33. 'method'\n",
       "34. 'path_clusters'\n",
       "35. 'path_fig'\n",
       "36. 'path_umap'\n",
       "37. 'plot_umap'\n",
       "38. 'scABC_clusters'\n",
       "39. 'scABC_pca_clusters'\n",
       "40. 'Scasat_clusters'\n",
       "41. 'SCRAT_clusters'\n",
       "42. 'SCRAT_pca_clusters'\n",
       "43. 'se'\n",
       "44. 'SnapATAC_clusters'\n",
       "45. 'workdir'\n",
       "\n",
       "\n"
      ],
      "text/plain": [
       " [1] \"BROCKMAN_clusters\"            \"chromVAR_kmers_clusters\"     \n",
       " [3] \"chromVAR_kmers_pca_clusters\"  \"chromVAR_motifs_clusters\"    \n",
       " [5] \"chromVAR_motifs_pca_clusters\" \"Cicero_clusters\"             \n",
       " [7] \"Cicero_pca_clusters\"          \"cisTopic_clusters\"           \n",
       " [9] \"Control_clusters\"             \"df\"                          \n",
       "[11] \"df_umap_BROCKMAN\"             \"df_umap_chromVAR_kmer\"       \n",
       "[13] \"df_umap_chromVAR_kmer2\"       \"df_umap_chromVAR_motif\"      \n",
       "[15] \"df_umap_chromVAR_motif2\"      \"df_umap_Cicero\"              \n",
       "[17] \"df_umap_Cicero2\"              \"df_umap_cisTopic\"            \n",
       "[19] \"df_umap_control\"              \"df_umap_GeneScoring\"         \n",
       "[21] \"df_umap_GeneScoring2\"         \"df_umap_LSI\"                 \n",
       "[23] \"df_umap_scABC\"                \"df_umap_scABC2\"              \n",
       "[25] \"df_umap_Scasat\"               \"df_umap_SCRAT\"               \n",
       "[27] \"df_umap_SCRAT2\"               \"df_umap_SnapATAC\"            \n",
       "[29] \"fig_basename\"                 \"GeneScoring_clusters\"        \n",
       "[31] \"GeneScoring_pca_clusters\"     \"LSI_clusters\"                \n",
       "[33] \"method\"                       \"path_clusters\"               \n",
       "[35] \"path_fig\"                     \"path_umap\"                   \n",
       "[37] \"plot_umap\"                    \"scABC_clusters\"              \n",
       "[39] \"scABC_pca_clusters\"           \"Scasat_clusters\"             \n",
       "[41] \"SCRAT_clusters\"               \"SCRAT_pca_clusters\"          \n",
       "[43] \"se\"                           \"SnapATAC_clusters\"           \n",
       "[45] \"workdir\"                     "
      ]
     },
     "metadata": {},
     "output_type": "display_data"
    }
   ],
   "source": [
    "ls()"
   ]
  },
  {
   "cell_type": "code",
   "execution_count": 13,
   "metadata": {},
   "outputs": [],
   "source": [
    "num_colors = 15\n",
    "colormap = colorRampPalette(brewer.pal(8, \"Set2\"))(num_colors)\n",
    "names(colormap) = as.character(seq(0,num_colors-1))"
   ]
  },
  {
   "cell_type": "code",
   "execution_count": 14,
   "metadata": {},
   "outputs": [],
   "source": [
    "for(cl in c('louvain','kmeans','hc')){\n",
    "    p_control <- plot_umap(df_umap_control,labels = Control_clusters[cl],colormap = colormap,title='Control Group')\n",
    "    p_chromVAR_motif <- plot_umap(df_umap_chromVAR_motif,labels = chromVAR_motifs_clusters[cl],colormap = colormap,title='chromVAR motif')\n",
    "    p_chromVAR_kmer <- plot_umap(df_umap_chromVAR_kmer,labels = chromVAR_kmers_clusters[cl],colormap = colormap,title='chromVAR kmer')\n",
    "    p_chromVAR_motif2 <- plot_umap(df_umap_chromVAR_motif2,labels = chromVAR_motifs_pca_clusters[cl],colormap = colormap,title='chromVAR motif after PCA')\n",
    "    p_chromVAR_kmer2 <- plot_umap(df_umap_chromVAR_kmer2,labels = chromVAR_kmers_pca_clusters[cl],colormap = colormap,title='chromVAR kmer after PCA')\n",
    "    p_LSI <- plot_umap(df_umap_LSI,labels = LSI_clusters[cl],colormap = colormap,title='LSI')\n",
    "    p_cisTopic <- plot_umap(df_umap_cisTopic,labels = cisTopic_clusters[cl],colormap = colormap,title='cisTopic')\n",
    "    p_GeneScoring <- plot_umap(df_umap_GeneScoring,labels = GeneScoring_clusters[cl],colormap = colormap,title='Gene Scoring')\n",
    "    p_GeneScoring2 <- plot_umap(df_umap_GeneScoring2,labels = GeneScoring_pca_clusters[cl],colormap = colormap,title='Gene Scoring after PCA')\n",
    "    p_Cicero <- plot_umap(df_umap_Cicero,labels = Cicero_clusters[cl],colormap = colormap,title='Cicero')\n",
    "    p_Cicero2 <- plot_umap(df_umap_Cicero2,labels = Cicero_pca_clusters[cl],colormap = colormap,title='Cicero after PCA')\n",
    "    p_SnapATAC <- plot_umap(df_umap_SnapATAC,labels = SnapATAC_clusters[cl],colormap = colormap,title='SnapATAC')\n",
    "    p_scABC <- plot_umap(df_umap_scABC,labels = scABC_clusters[cl],colormap = colormap,title='scABC')\n",
    "    p_scABC2 <- plot_umap(df_umap_scABC2,labels = scABC_pca_clusters[cl],colormap = colormap,title='scABC after PCA')\n",
    "    p_SCRAT <- plot_umap(df_umap_SCRAT,labels = SCRAT_clusters[cl],colormap = colormap,title='SCRAT')\n",
    "    p_SCRAT2 <- plot_umap(df_umap_SCRAT2,labels = SCRAT_pca_clusters[cl],colormap = colormap,title='SCRAT after PCA')\n",
    "    p_Scasat <- plot_umap(df_umap_Scasat,labels = Scasat_clusters[cl],colormap = colormap,title='Scasat')\n",
    "    p_BROCKMAN <- plot_umap(df_umap_BROCKMAN,labels = BROCKMAN_clusters[cl],colormap = colormap,title='BROCKMAN')\n",
    "    options(repr.plot.width=4*6, repr.plot.height=4*3)\n",
    "    p_group <- cowplot::plot_grid(p_control+theme(legend.position = \"none\"),\n",
    "                   p_BROCKMAN+theme(legend.position = \"none\"),\n",
    "                   p_cisTopic+theme(legend.position = \"none\"),\n",
    "                   p_LSI+theme(legend.position = \"none\"),\n",
    "                   p_Scasat+theme(legend.position = \"none\"),  \n",
    "                   p_SnapATAC+theme(legend.position = \"none\"),         \n",
    "                   p_Cicero+theme(legend.position = \"none\"),p_Cicero2+theme(legend.position = \"none\"),\n",
    "                   p_chromVAR_kmer+theme(legend.position = \"none\"),p_chromVAR_kmer2+theme(legend.position = \"none\"),\n",
    "                   p_chromVAR_motif+theme(legend.position = \"none\"),p_chromVAR_motif2+theme(legend.position = \"none\"),\n",
    "                   p_GeneScoring+theme(legend.position = \"none\"),p_GeneScoring2+theme(legend.position = \"none\"),\n",
    "                   p_scABC+theme(legend.position = \"none\"),p_scABC2+theme(legend.position = \"none\"),\n",
    "                   p_SCRAT+theme(legend.position = \"none\"),p_SCRAT2+theme(legend.position = \"none\"),\n",
    "                   labels = \"\",ncol = 6)\n",
    "    cowplot::ggsave(p_group,\n",
    "                    filename = paste0(path_fig,fig_basename,cl,'.pdf'), \n",
    "                    width = 4*6, height = 4*3)\n",
    "}"
   ]
  },
  {
   "cell_type": "code",
   "execution_count": 15,
   "metadata": {},
   "outputs": [
    {
     "name": "stderr",
     "output_type": "stream",
     "text": [
      "Loading required package: magrittr\n",
      "\n",
      "Attaching package: ‘ggpubr’\n",
      "\n",
      "The following object is masked from ‘package:cowplot’:\n",
      "\n",
      "    get_legend\n",
      "\n",
      "Saving 6.67 x 6.67 in image\n"
     ]
    },
    {
     "data": {
      "image/png": "[encoded data removed]",
      "text/plain": [
       "plot without title"
      ]
     },
     "metadata": {},
     "output_type": "display_data"
    }
   ],
   "source": [
    "options(repr.plot.width=3, repr.plot.height=5)\n",
    "library(ggpubr)\n",
    "leg <- cowplot::get_legend(p_control)\n",
    "\n",
    "p_legend = as_ggplot(leg)\n",
    "p_legend\n",
    "cowplot::ggsave(file=paste0(path_fig,'erythropoesis_clean_legend_for_clusters.pdf'), p_legend)"
   ]
  },
  {
   "cell_type": "code",
   "execution_count": null,
   "metadata": {},
   "outputs": [],
   "source": []
  }
 ],
 "metadata": {
  "kernelspec": {
   "display_name": "R [conda env:ATACseq_simulation]",
   "language": "R",
   "name": "conda-env-ATACseq_simulation-r"
  },
  "language_info": {
   "codemirror_mode": "r",
   "file_extension": ".r",
   "mimetype": "text/x-r-source",
   "name": "R",
   "pygments_lexer": "r",
   "version": "3.5.1"
  }
 },
 "nbformat": 4,
 "nbformat_minor": 2
}
