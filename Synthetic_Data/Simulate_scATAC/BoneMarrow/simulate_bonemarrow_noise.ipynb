{
 "cells": [
  {
   "cell_type": "code",
   "execution_count": 1,
   "metadata": {
    "scrolled": true
   },
   "outputs": [
    {
     "name": "stderr",
     "output_type": "stream",
     "text": [
      "\n",
      "Attaching package: ‘dplyr’\n",
      "\n",
      "The following objects are masked from ‘package:data.table’:\n",
      "\n",
      "    between, first, last\n",
      "\n",
      "The following objects are masked from ‘package:stats’:\n",
      "\n",
      "    filter, lag\n",
      "\n",
      "The following objects are masked from ‘package:base’:\n",
      "\n",
      "    intersect, setdiff, setequal, union\n",
      "\n",
      "Loading required package: MASS\n",
      "\n",
      "Attaching package: ‘MASS’\n",
      "\n",
      "The following object is masked from ‘package:dplyr’:\n",
      "\n",
      "    select\n",
      "\n",
      "Loading required package: ggplot2\n",
      "\n",
      "Attaching package: ‘cowplot’\n",
      "\n",
      "The following object is masked from ‘package:ggplot2’:\n",
      "\n",
      "    ggsave\n",
      "\n"
     ]
    }
   ],
   "source": [
    "library(data.table)\n",
    "library(dplyr)\n",
    "library(Matrix)\n",
    "library(BuenColors)\n",
    "library(stringr)\n",
    "library(cowplot)\n",
    "library(irlba)"
   ]
  },
  {
   "cell_type": "code",
   "execution_count": 2,
   "metadata": {},
   "outputs": [],
   "source": [
    "#-----------\n",
    "# Parameters\n",
    "#-----------\n",
    "# n_cells Number of cells from each group to be simulated; either a number (all the same) or a vector\n",
    "# of length(which_celltypes)\n",
    "\n",
    "# which_celltypes Number of groups to partition cells into (even groups); must evenly divide into n_cells\n",
    "# n_frags_per_cell number of fragments in peaks to be simulated per single cell\n",
    "\n",
    "# rate_noise number between 0 (perfect downsample) and 1 (nonsense) for noise\n",
    "\n",
    "# seed rando parameter for setting the seed\n",
    "# shuffle Randomly order the resulting cells and peaks\n",
    "\n",
    "bulk <- data.matrix(data.frame(fread(\"./bonemarrow_data/exp100-bulk.counts.txt\")))\n",
    "peaks <- fread(\"./bonemarrow_data/multiplex_bonemarrow_peaks.bed\")\n",
    "colnames(bulk) <- c(\"B\", \"CD4\", \"CD8\", \"CLP\", \"CMP\", \"Ery\", \"GMP\", \"GMP-A\", \"GMP-B\", \"GMP-C\",\n",
    "                    \"HSC\", \"LMPP\", \"MCP\", \"mDC\", \"Mega\", \"MEP\", \"Mono\", \"MPP\",\n",
    "                    \"NK\", \"pDC\", \"GMPunknown\")\n",
    "\n",
    "simulate_scatac <- function(n_cells, which_celltypes, n_frags_per_cell = 1000, \n",
    "                            rate_noise = 0, seed = 100, shuffle = FALSE){\n",
    "  \n",
    "  # Reproducibility\n",
    "  set.seed(seed)\n",
    "  which_celltypes <- sort(which_celltypes)\n",
    "  stopifnot(rate_noise < 1) \n",
    "  stopifnot(n_frags_per_cell > 100)\n",
    "  n_peaks <- dim(bulk)[1]\n",
    "  #--\n",
    "  # Set up cell labels\n",
    "  #--\n",
    "  \n",
    "  if(length(n_cells) > 1){\n",
    "    stopifnot(length(which_celltypes) == length(n_cells))\n",
    "    \n",
    "    # Generate cell labels\n",
    "    cell_labels <- sapply(1:length(which_celltypes), function(i){\n",
    "      rep(which_celltypes[i], n_cells[i])\n",
    "    }) %>% unlist() %>% sort()\n",
    "    \n",
    "  } else {\n",
    "#     n_groups <- length(which_celltypes)\n",
    "#     cell_labels <- sort(rep(which_celltypes, n_cells*n_groups))\n",
    "      cell_labels <- sort(rep(which_celltypes, n_cells))\n",
    "  }\n",
    "  final_names <- paste0(cell_labels, \"_\", as.character(1:length(cell_labels)))\n",
    "  \n",
    "  \n",
    "  #-------------------\n",
    "  # Simulate true data\n",
    "  #-------------------\n",
    "  \n",
    "  # Generate cell-type specific peaks\n",
    "  lapply(which_celltypes, function(celltype){\n",
    "    \n",
    "    # Apply different rates per cell depending on group label for generating cell-type specific peaks\n",
    "    n_cells_this_celltype <- sum(cell_labels == celltype)\n",
    "    counts_celltype <- bulk[,celltype]\n",
    "    \n",
    "    # Define probabilities\n",
    "    #                        Prob observting frag                Total number of fragments epxpected; the 0.5s are for two alleles that will be simulated/added later\n",
    "    prob_per_peaks <- counts_celltype/sum(counts_celltype) * (n_frags_per_cell*0.5 * (1-rate_noise)) + ((rate_noise*n_frags_per_cell)/n_peaks*0.5) \n",
    "    \n",
    "    # Cap probabilities at something sensible\n",
    "    prob_per_peaks <- ifelse(prob_per_peaks > 0.9, 0.9, prob_per_peaks)\n",
    "    \n",
    "    # Represent the two haplotypes as two random draws\n",
    "    mat1 <- (matrix(rbinom(n_peaks*n_cells_this_celltype, size = 1, prob = prob_per_peaks),\n",
    "                    ncol = n_cells_this_celltype, byrow = FALSE) )\n",
    "    mat2 <- (matrix(rbinom(n_peaks*n_cells_this_celltype, size = 1, prob = prob_per_peaks),\n",
    "                    ncol = n_cells_this_celltype, byrow = FALSE) )\n",
    "    \n",
    "    mat <- mat1 + mat2\n",
    "    Matrix(mat)\n",
    "  }) %>% do.call(what = \"cbind\") -> sparse_matrix\n",
    "  \n",
    "  colnames(sparse_matrix) <- final_names\n",
    "  peaknames = paste(peaks$V1,peaks$V2,peaks$V3,sep = \"_\")\n",
    "  rownames(sparse_matrix) <- peaknames\n",
    "  sparse_matrix\n",
    "}"
   ]
  },
  {
   "cell_type": "code",
   "execution_count": 3,
   "metadata": {},
   "outputs": [],
   "source": [
    "# Do a basic LSI embedding to assess\n",
    "compute_LSI <- function(x){\n",
    "  nfreqs <- t(t(x) / Matrix::colSums(x))\n",
    "  idf <- as(log(1 + ncol(x) / Matrix::rowSums(x)), \"sparseVector\")\n",
    "  tf_idf_counts <- as(Diagonal(x=as.vector(idf)), \"sparseMatrix\") %*% nfreqs\n",
    "  SVD_x <-  irlba(tf_idf_counts, 3, 3)\n",
    "  d_diag = matrix(0, nrow=length(SVD_x$d), ncol=length(SVD_x$d))\n",
    "  diag(d_diag) = SVD_x$d\n",
    "  LSI_x_final = t(d_diag %*% t(SVD_x$v))\n",
    "  LSI_x_final\n",
    "}\n",
    "\n",
    "# Function to do LSI and then create the corresponding data frame\n",
    "makeLSI_df <- function(simulated){\n",
    "  # Compute LSI and extract cell types from previous simulation\n",
    "  LSI_dims <- compute_LSI(simulated)\n",
    "  celltypes <- str_split_fixed(colnames(simulated), \"_\", 2)[,1]\n",
    "  \n",
    "  # Make one data frame for plotting\n",
    "  LSI_df <- data.frame(\n",
    "    LSI_2 = LSI_dims[,2],\n",
    "    LSI_3 = LSI_dims[,3],\n",
    "    celltype = celltypes,\n",
    "    cell_id = colnames(simulated)\n",
    "  )\n",
    "  LSI_df\n",
    "}"
   ]
  },
  {
   "cell_type": "code",
   "execution_count": 4,
   "metadata": {},
   "outputs": [],
   "source": [
    "# Here, we call the function above to simulate data\n",
    "simulated_clean <- simulate_scatac(200, c(\"Ery\", \"CMP\", \"CD8\", \"HSC\", \"CD4\", \"NK\"), \n",
    "                                   rate_noise = 0, n_frags_per_cell = 5000)\n",
    "simulated_noisy_p2 <- simulate_scatac(200, c(\"Ery\", \"CMP\", \"CD8\", \"HSC\", \"CD4\", \"NK\"), \n",
    "                                   rate_noise = 0.2,n_frags_per_cell = 5000)"
   ]
  },
  {
   "cell_type": "code",
   "execution_count": 5,
   "metadata": {
    "scrolled": true
   },
   "outputs": [
    {
     "data": {
      "text/plain": [
       "6 x 5 sparse Matrix of class \"dgCMatrix\"\n",
       "                 CD4_1 CD4_2 CD4_3 CD4_4 CD4_5\n",
       "chr1_9942_10442      .     .     .     .     .\n",
       "chr1_11036_11536     .     .     .     .     .\n",
       "chr1_12478_12978     .     .     .     .     .\n",
       "chr1_13307_13807     .     .     .     .     .\n",
       "chr1_14399_14899     .     .     .     .     .\n",
       "chr1_15399_15899     .     .     .     .     ."
      ]
     },
     "metadata": {},
     "output_type": "display_data"
    }
   ],
   "source": [
    "head(simulated_clean[,1:5])"
   ]
  },
  {
   "cell_type": "code",
   "execution_count": 6,
   "metadata": {
    "scrolled": true
   },
   "outputs": [
    {
     "data": {
      "text/html": [
       "<ol class=list-inline>\n",
       "\t<li>156311</li>\n",
       "\t<li>1200</li>\n",
       "</ol>\n"
      ],
      "text/latex": [
       "\\begin{enumerate*}\n",
       "\\item 156311\n",
       "\\item 1200\n",
       "\\end{enumerate*}\n"
      ],
      "text/markdown": [
       "1. 156311\n",
       "2. 1200\n",
       "\n",
       "\n"
      ],
      "text/plain": [
       "[1] 156311   1200"
      ]
     },
     "metadata": {},
     "output_type": "display_data"
    },
    {
     "data": {
      "text/html": [
       "<ol class=list-inline>\n",
       "\t<li>156311</li>\n",
       "\t<li>1200</li>\n",
       "</ol>\n"
      ],
      "text/latex": [
       "\\begin{enumerate*}\n",
       "\\item 156311\n",
       "\\item 1200\n",
       "\\end{enumerate*}\n"
      ],
      "text/markdown": [
       "1. 156311\n",
       "2. 1200\n",
       "\n",
       "\n"
      ],
      "text/plain": [
       "[1] 156311   1200"
      ]
     },
     "metadata": {},
     "output_type": "display_data"
    }
   ],
   "source": [
    "dim(simulated_clean)\n",
    "dim(simulated_noisy_p2)"
   ]
  },
  {
   "cell_type": "code",
   "execution_count": 7,
   "metadata": {},
   "outputs": [],
   "source": [
    "# Create two LSI dfs to compare\n",
    "LSI_df_clean <- makeLSI_df(simulated_clean)\n",
    "LSI_df_noise_p2 <- makeLSI_df(simulated_noisy_p2)"
   ]
  },
  {
   "cell_type": "code",
   "execution_count": 8,
   "metadata": {},
   "outputs": [
    {
     "data": {
      "text/html": [
       "<table>\n",
       "<caption>A data.frame: 6 × 4</caption>\n",
       "<thead>\n",
       "\t<tr><th scope=col>LSI_2</th><th scope=col>LSI_3</th><th scope=col>celltype</th><th scope=col>cell_id</th></tr>\n",
       "\t<tr><th scope=col>&lt;dbl&gt;</th><th scope=col>&lt;dbl&gt;</th><th scope=col>&lt;fct&gt;</th><th scope=col>&lt;fct&gt;</th></tr>\n",
       "</thead>\n",
       "<tbody>\n",
       "\t<tr><td>-0.003496817</td><td>-0.001992957</td><td>CD4</td><td>CD4_1</td></tr>\n",
       "\t<tr><td>-0.003506887</td><td>-0.002055007</td><td>CD4</td><td>CD4_2</td></tr>\n",
       "\t<tr><td>-0.003231796</td><td>-0.002119402</td><td>CD4</td><td>CD4_3</td></tr>\n",
       "\t<tr><td>-0.003281570</td><td>-0.001945718</td><td>CD4</td><td>CD4_4</td></tr>\n",
       "\t<tr><td>-0.003488059</td><td>-0.001964425</td><td>CD4</td><td>CD4_5</td></tr>\n",
       "\t<tr><td>-0.003437829</td><td>-0.002205432</td><td>CD4</td><td>CD4_6</td></tr>\n",
       "</tbody>\n",
       "</table>\n"
      ],
      "text/latex": [
       "A data.frame: 6 × 4\n",
       "\\begin{tabular}{r|llll}\n",
       " LSI\\_2 & LSI\\_3 & celltype & cell\\_id\\\\\n",
       " <dbl> & <dbl> & <fct> & <fct>\\\\\n",
       "\\hline\n",
       "\t -0.003496817 & -0.001992957 & CD4 & CD4\\_1\\\\\n",
       "\t -0.003506887 & -0.002055007 & CD4 & CD4\\_2\\\\\n",
       "\t -0.003231796 & -0.002119402 & CD4 & CD4\\_3\\\\\n",
       "\t -0.003281570 & -0.001945718 & CD4 & CD4\\_4\\\\\n",
       "\t -0.003488059 & -0.001964425 & CD4 & CD4\\_5\\\\\n",
       "\t -0.003437829 & -0.002205432 & CD4 & CD4\\_6\\\\\n",
       "\\end{tabular}\n"
      ],
      "text/markdown": [
       "\n",
       "A data.frame: 6 × 4\n",
       "\n",
       "| LSI_2 &lt;dbl&gt; | LSI_3 &lt;dbl&gt; | celltype &lt;fct&gt; | cell_id &lt;fct&gt; |\n",
       "|---|---|---|---|\n",
       "| -0.003496817 | -0.001992957 | CD4 | CD4_1 |\n",
       "| -0.003506887 | -0.002055007 | CD4 | CD4_2 |\n",
       "| -0.003231796 | -0.002119402 | CD4 | CD4_3 |\n",
       "| -0.003281570 | -0.001945718 | CD4 | CD4_4 |\n",
       "| -0.003488059 | -0.001964425 | CD4 | CD4_5 |\n",
       "| -0.003437829 | -0.002205432 | CD4 | CD4_6 |\n",
       "\n"
      ],
      "text/plain": [
       "  LSI_2        LSI_3        celltype cell_id\n",
       "1 -0.003496817 -0.001992957 CD4      CD4_1  \n",
       "2 -0.003506887 -0.002055007 CD4      CD4_2  \n",
       "3 -0.003231796 -0.002119402 CD4      CD4_3  \n",
       "4 -0.003281570 -0.001945718 CD4      CD4_4  \n",
       "5 -0.003488059 -0.001964425 CD4      CD4_5  \n",
       "6 -0.003437829 -0.002205432 CD4      CD4_6  "
      ]
     },
     "metadata": {},
     "output_type": "display_data"
    }
   ],
   "source": [
    "head(LSI_df_clean)"
   ]
  },
  {
   "cell_type": "code",
   "execution_count": 9,
   "metadata": {
    "scrolled": true
   },
   "outputs": [
    {
     "data": {
      "image/png": "[encoded data removed]",
      "text/plain": [
       "plot without title"
      ]
     },
     "metadata": {},
     "output_type": "display_data"
    }
   ],
   "source": [
    "options(repr.plot.width=8, repr.plot.height=3)\n",
    "p1 <- ggplot(shuf(LSI_df_clean), aes(x = LSI_2, y = LSI_3, color = celltype)) +\n",
    "  geom_point(size = 1) + scale_color_manual(values = jdb_color_maps) +\n",
    "  ggtitle(\"clean - simulated\")\n",
    "\n",
    "p2 <- ggplot(shuf(LSI_df_noise_p2), aes(x = LSI_2, y = LSI_3, color = celltype)) +\n",
    "  geom_point(size = 1) + scale_color_manual(values = jdb_color_maps) +\n",
    "  ggtitle(\"noisy 0.2 - simulated\")\n",
    "\n",
    "# cowplot::ggsave(cowplot::plot_grid(p1, p2, nrow = 1), \n",
    "#                 filename = \"../output/simulated_comparison.pdf\", width = 9, height = 4)\n",
    "cowplot::plot_grid(p1, p2)"
   ]
  },
  {
   "cell_type": "code",
   "execution_count": null,
   "metadata": {},
   "outputs": [],
   "source": []
  },
  {
   "cell_type": "code",
   "execution_count": 10,
   "metadata": {},
   "outputs": [],
   "source": [
    "saveRDS(simulated_clean,'../../BoneMarrow_clean/input/bonemarrow_clean.rds')\n",
    "saveRDS(simulated_noisy_p2,'../../BoneMarrow_noisy_p2/input/bonemarrow_noisy_p2.rds')"
   ]
  },
  {
   "cell_type": "code",
   "execution_count": null,
   "metadata": {},
   "outputs": [],
   "source": []
  },
  {
   "cell_type": "code",
   "execution_count": 11,
   "metadata": {},
   "outputs": [],
   "source": [
    "write.table(data.frame(label = LSI_df_clean$celltype, row.names = LSI_df_clean$cell_id,stringsAsFactors=FALSE),\n",
    "            '../../BoneMarrow_clean/input/metadata.tsv',quote=FALSE, sep='\\t', col.names = NA)\n",
    "write.table(data.frame(label = LSI_df_noise_p2$celltype, row.names = LSI_df_noise_p2$cell_id,stringsAsFactors=FALSE),\n",
    "            '../../BoneMarrow_noisy_p2/input/metadata.tsv',quote=FALSE, sep='\\t', col.names = NA)"
   ]
  },
  {
   "cell_type": "code",
   "execution_count": null,
   "metadata": {},
   "outputs": [],
   "source": []
  }
 ],
 "metadata": {
  "kernelspec": {
   "display_name": "R [conda env:huidong_R]",
   "language": "R",
   "name": "conda-env-huidong_R-r"
  },
  "language_info": {
   "codemirror_mode": "r",
   "file_extension": ".r",
   "mimetype": "text/x-r-source",
   "name": "R",
   "pygments_lexer": "r",
   "version": "3.5.1"
  }
 },
 "nbformat": 4,
 "nbformat_minor": 2
}
